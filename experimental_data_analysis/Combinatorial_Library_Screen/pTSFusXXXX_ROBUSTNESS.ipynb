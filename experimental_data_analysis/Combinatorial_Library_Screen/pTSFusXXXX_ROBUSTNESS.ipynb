{
 "cells": [
  {
   "cell_type": "code",
   "execution_count": 106,
   "metadata": {
    "scrolled": false
   },
   "outputs": [
    {
     "data": {
      "text/html": [
       "        <script type=\"text/javascript\">\n",
       "        window.PlotlyConfig = {MathJaxConfig: 'local'};\n",
       "        if (window.MathJax) {MathJax.Hub.Config({SVG: {font: \"STIX-Web\"}});}\n",
       "        if (typeof require !== 'undefined') {\n",
       "        require.undef(\"plotly\");\n",
       "        requirejs.config({\n",
       "            paths: {\n",
       "                'plotly': ['https://cdn.plot.ly/plotly-latest.min']\n",
       "            }\n",
       "        });\n",
       "        require(['plotly'], function(Plotly) {\n",
       "            window._Plotly = Plotly;\n",
       "        });\n",
       "        }\n",
       "        </script>\n",
       "        "
      ]
     },
     "metadata": {},
     "output_type": "display_data"
    }
   ],
   "source": [
    "import impact as                             impt\n",
    "from impact.parsers import Parser as parser\n",
    "\n",
    "impt.settings.perform_curve_fit = False\n",
    "impt.settings.outlier_cleaning_flag = False\n",
    "impt.settings.verbose = False\n",
    "impt.settings.live_calculations = False\n",
    "impt.settings.use_filtered_data = True\n",
    "impt.settings.blank_subtract = False\n",
    "\n",
    "import numpy as np\n",
    "from scipy.signal import savgol_filter as savgol\n",
    "from scipy.interpolate import InterpolatedUnivariateSpline as interp\n",
    "from sklearn.decomposition import PCA\n",
    "from sklearn.preprocessing import StandardScaler\n",
    "from scipy.optimize import curve_fit\n",
    "import pandas as pd\n",
    "import copy\n",
    "import pickle\n",
    "\n",
    "import plotly as py\n",
    "import plotly.graph_objs as go\n",
    "import plotly.io as pio\n",
    "pio.templates.default = \"plotly_white\"\n",
    "from plotly.subplots import make_subplots\n",
    "import sys\n",
    "if 'ipykernel' in sys.modules:\n",
    "    from plotly.offline import init_notebook_mode\n",
    "    from plotly.offline import iplot as plot\n",
    "    from IPython.display import HTML\n",
    "    HTML(\n",
    "        \"\"\"\n",
    "        <script>\n",
    "            var waitForPlotly = setInterval( function() {\n",
    "                if( typeof(window.Plotly) !== \"undefined\" ){\n",
    "                    MathJax.Hub.Config({ SVG: { font: \"STIX-Web\" }, displayAlign: \"center\" });\n",
    "                    MathJax.Hub.Queue([\"setRenderer\", MathJax.Hub, \"SVG\"]);\n",
    "                    clearInterval(waitForPlotly);\n",
    "                }}, 250 );\n",
    "        </script>\n",
    "        \"\"\"\n",
    "    )\n",
    "    init_notebook_mode(connected=True)\n",
    "\n",
    "colors = {'blues':['rgb(164,199,228)','rgb(119,171,214)','rgb(73,143,201)',\n",
    "                   'rgb(49,113,165)','rgb(36,82,120)','rgb(23,52,76)'],\n",
    "          'greens':['rgb(172,220,173)','rgb(130,203,133)','rgb(89,185,92)',\n",
    "                    'rgb(63,152,66)','rgb(46,110,48)','rgb(28,67,29)'],\n",
    "          'reds':['rgb(230,174,176)','rgb(218,133,137)','rgb(205,92,98)',\n",
    "                  'rgb(187,57,64)','rgb(146,45,50)','rgb(104,32,35)'],\n",
    "          'pinks':['rgb(215,181,210)','rgb(195,144,188)','rgb(175,107,165)',\n",
    "                   'rgb(147,79,137)','rgb(110,59,102)','rgb(74,40,69)'],\n",
    "          'browns':['rgb(216,197,184)','rgb(196,168,148)','rgb(176,139,112)',\n",
    "                    'rgb(150,111,83)','rgb(115,85,63)','rgb(80, 59, 44)'],\n",
    "          'oranges': ['rgb(255,206,146)','rgb(255,189,109)','rgb(255,173,73)',\n",
    "                      'rgb(255,157,36)','rgb(255, 140, 0)','rgb(219,120,0)'],\n",
    "          'cyans': ['rgb(177,222,219)','rgb(139,205,201)','rgb(100,189,183)',\n",
    "                    'rgb(70,163,157)','rgb(53,124,120)','rgb(37,87,84)'],\n",
    "          'yellows': ['rgb(244,239,186)','rgb(239,231,151)','rgb(233,224,116)',\n",
    "                      'rgb(228,216,82)','rgb(223,208,47)','rgb(200,185,31)',],\n",
    "          'blacks':['rgb(182,182,182)','rgb(146,146,146)','rgb(109,109,109)',\n",
    "                    'rgb(73,73,73)','rgb(36,36,36)','rgb(0,0,0)']}"
   ]
  },
  {
   "cell_type": "code",
   "execution_count": 107,
   "metadata": {},
   "outputs": [],
   "source": [
    "font_defaults = dict(family='Myriad Pro', color='black', size=18)\n",
    "axis_defaults = dict(ticks='outside', ticklen=6, tickangle=0, nticks=10, tickcolor='black', tickfont=font_defaults,\n",
    "                     showline=True, linewidth=1, linecolor='black', mirror=True, zeroline=False,\n",
    "                     title_font=font_defaults, title_standoff=2, showgrid=True)\n",
    "stabilities = ['bistable', 'tet_stable', 'lac_stable', 'unstable']\n",
    "stability_titles = {'bistable':'Bistable', 'tet_stable': 'Monostable Tet',\n",
    "                    'lac_stable': 'Monostable Lac', 'unstable': 'Unstable'}\n",
    "stability_colors = {'bistable': colors['blues'][2],\n",
    "                    'tet_stable': colors['reds'][2],\n",
    "                    'lac_stable': colors['greens'][2],\n",
    "                    'unstable': colors['blacks'][2]}\n",
    "\n",
    "def bistability_assigner(row, bistable_threshold, unstable_threshold):\n",
    "    \n",
    "    if row['iptg_transfers_stable']>=bistable_threshold and row['atc_transfers_stable']>=bistable_threshold:\n",
    "        return 'bistable'\n",
    "    \n",
    "    if row['iptg_transfers_stable']<unstable_threshold and row['atc_transfers_stable']<unstable_threshold:\n",
    "        return 'unstable'\n",
    "    \n",
    "    if row['iptg_transfers_stable'] > row['atc_transfers_stable']:\n",
    "        return 'tet_stable'\n",
    "    \n",
    "    if row['atc_transfers_stable'] > row['iptg_transfers_stable']:\n",
    "        return 'lac_stable'\n",
    "    \n",
    "    \n",
    "def get_bistability_dfs(expt_dict=dict(), thresholds={'GFP': 100, 'mCherry': 10}, \n",
    "                        bistable_threshold=3, unstable_threshold=3):\n",
    "    data_df = {'iptg': None, 'atc': None}\n",
    "    analyte = {'iptg':'mCherry', 'atc':'GFP'}\n",
    "    autofl_reps = {'iptg':'blank', 'atc':'lac'}\n",
    "    days = ['d0', 'd1', 'd2','d3']\n",
    "    \n",
    "    for init_state in init_states:\n",
    "        strains = []\n",
    "        rep_ids = []\n",
    "        state_vals = {day:[] for day in days}\n",
    "\n",
    "        for plate in plates:\n",
    "            for i, day in enumerate(days):\n",
    "                expt = expt_dict[init_state][plate][day]\n",
    "                autofl_rep = [rep for rep in expt.replicate_trials \n",
    "                              if rep.trial_identifier.strain.name.lower()==autofl_reps[init_state]][0]\n",
    "\n",
    "                autofl_avg = autofl_rep.avg.analyte_dict[analyte[init_state]].data_vector[-1]\n",
    "                autofl_std = autofl_rep.std.analyte_dict[analyte[init_state]].data_vector[-1]\n",
    "                \n",
    "                if (init_state=='iptg') and (np.isnan(autofl_std) or (3*autofl_std < 0.1*autofl_avg)):\n",
    "                    autofl_std = 0.1/3*autofl_avg\n",
    "                    \n",
    "                autofl_threshold = autofl_avg + 3 * autofl_std\n",
    "                strain_names = [rep.trial_identifier.strain.name for rep in expt.replicate_trials \n",
    "                                if rep.trial_identifier.strain.name.lower() not in ['lac', 'blank', '0000']]\n",
    "                strain_names = sorted(strain_names, key=lambda x:(x[2:], x[:2]))\n",
    "\n",
    "                for strain_name in strain_names:\n",
    "                    rep = [rep for rep in expt.replicate_trials if rep.trial_identifier.strain.name==strain_name][0]\n",
    "                    trial_dict = rep.single_trial_dict\n",
    "\n",
    "                    for j, rep_id in enumerate(sorted(list(trial_dict))):\n",
    "                        analyte_dict = trial_dict[rep_id].analyte_dict\n",
    "                        raw_reporter = analyte_dict[analyte[init_state]].data_vector[-1]\n",
    "                        reporter = raw_reporter - autofl_threshold\n",
    "\n",
    "                        if reporter < thresholds[analyte[init_state]]:\n",
    "                            reporter = 0\n",
    "\n",
    "                        state_vals[day].append(reporter)\n",
    "\n",
    "                        if i==0:\n",
    "                            rep_ids.append(rep_id)\n",
    "                            strains.append(strain_name)\n",
    "\n",
    "        data_dict = {'strain': strains, 'rep': rep_ids}\n",
    "        data_dict = {**data_dict, **{'state_'+day:state_vals[day] for day in days}}\n",
    "        data_df[init_state] = pd.DataFrame(data=data_dict)\n",
    "        data_df[init_state]['rep'] = data_df[init_state]['rep'].replace(['4','5','6'],['1','2','3'])\n",
    "        data_df[init_state] = data_df[init_state].sort_values(by=['strain', 'rep'], \n",
    "                                                                        ascending=[True,True],\n",
    "                                                                        key=lambda x:x.apply(lambda y:(y[:2], y[2:])))\n",
    "        data_df[init_state] = data_df[init_state].set_index(['strain','rep'])\n",
    "        temp = (data_df[init_state][['state_'+day for day in days[1:]]]>0).idxmin(axis=1).apply(lambda x: int(x[-1]))\n",
    "        data_df[init_state][init_state+'_transfers_stable'] = (temp * (data_df[init_state][['state_'+day for day in days[1:]]]==0).any(axis=1)).replace(0,6).apply(lambda x:x-1)\n",
    "        del data_dict\n",
    "        \n",
    "    st_bistability_df = pd.concat([data_df[init_state][[init_state+'_transfers_stable']] for init_state in init_states], axis=1)\n",
    "    st_bistability_df['stability'] = st_bistability_df.apply(lambda x: bistability_assigner(x, bistable_threshold=bistable_threshold, unstable_threshold=unstable_threshold), axis=1)\n",
    "    strains = []\n",
    "    stability = []\n",
    "\n",
    "    for strain in sorted(list(set(st_bistability_df.index.get_level_values(0))), key=lambda x:(x[2:], x[:2])):\n",
    "        strains.append(strain)\n",
    "        if (st_bistability_df.loc[strain]['stability']=='bistable').sum()>=3:\n",
    "            stability.append('bistable')\n",
    "        elif st_bistability_df.loc[strain]['stability'].isin(['bistable', 'tet_stable']).all():\n",
    "            stability.append('tet_stable')\n",
    "        elif st_bistability_df.loc[strain]['stability'].isin(['bistable', 'lac_stable']).all():\n",
    "            stability.append('lac_stable')\n",
    "        else:\n",
    "            stability.append('unstable')\n",
    "\n",
    "    temp_dict = {'strain':strains, 'stability': stability}\n",
    "    rep_bistability_df = pd.DataFrame(data=temp_dict)\n",
    "    rep_bistability_df = rep_bistability_df.set_index('strain')\n",
    "    return data_df, st_bistability_df, rep_bistability_df\n"
   ]
  },
  {
   "cell_type": "raw",
   "metadata": {
    "scrolled": true
   },
   "source": [
    "init_states = ['iptg', 'atc']\n",
    "plates = ['plate_1', 'plate_2', 'plate_3', 'plate_4']\n",
    "plate_type = '96 Wells'\n",
    "\n",
    "expt_dict = {init_state:{plate:{'d'+str(i):\n",
    "                                None for i in [0,1,2,3]} \n",
    "                         for plate in plates} \n",
    "             for init_state in init_states}\n",
    "\n",
    "for init_state in init_states:\n",
    "    for plate in plates:\n",
    "        for day in ['d0', 'd1', 'd2', 'd3']:\n",
    "\n",
    "            directory = 'platereader_data/'\n",
    "            file_name = 'stability_' + init_state + '_' + plate + '_' + day + '_1.xlsx'\n",
    "            \n",
    "            expt = parser.parse_raw_data(data_format='tecan_single_read', file_name=directory+file_name, plate_type=plate_type)\n",
    "            expt.calculate()\n",
    "\n",
    "            expt_dict[init_state][plate][day] = copy.deepcopy(expt)\n",
    "\n"
   ]
  },
  {
   "cell_type": "raw",
   "metadata": {},
   "source": [
    "with open('pickled_data/stability_data.pickle', 'wb') as handle:\n",
    "    pickle.dump(expt_dict, handle)"
   ]
  },
  {
   "cell_type": "code",
   "execution_count": 110,
   "metadata": {},
   "outputs": [],
   "source": [
    "with open('pickled_data/stability_data.pickle', 'rb') as handle:\n",
    "    expt_dict=pickle.load(handle)"
   ]
  },
  {
   "cell_type": "code",
   "execution_count": 138,
   "metadata": {},
   "outputs": [],
   "source": [
    "deg_tags = ['No Tag', 'DAS Tag', 'DAS+2 Tag', 'LAA Tag']\n",
    "deg_codes = {'0': '*', '1': 'DAS', '2':'DAS+2', '3':'LAA'}\n",
    "rbs_codes = {'1':'A', '2':'B', '3': 'C', '4':'D', '5':'E'}\n",
    "\n",
    "mche_df = pd.read_csv('misc_excel_data/mche_df.csv')\n",
    "mche_df['tet_code'] = mche_df['tet_code'].astype('str')\n",
    "mche_df = mche_df.set_index('tet_code')\n",
    "mche_df = mche_df.loc[['21', '22', '30', '32', '33', '43', '50', '51', '52', '53']]\n",
    "mche_df['deg_class'] = pd.qcut(mche_df['deg_mean'], 3, labels=['Low', 'Mid', 'High'])\n",
    "mche_df['deg_tag'] = mche_df.index.map(lambda x:deg_tags[int(x[1])])\n",
    "\n",
    "gfp_df = pd.read_csv('misc_excel_data/gfp_df.csv')\n",
    "gfp_df['lac_code'] = gfp_df['lac_code'].astype('str')\n",
    "gfp_df = gfp_df.set_index('lac_code')\n",
    "gfp_df = gfp_df.loc[['10', '20', '21', '30', '33', '40', '42', '43', '52', '53']]\n",
    "gfp_df['deg_class'] = pd.qcut(gfp_df['deg_mean'], 3, labels=['Low', 'Mid', 'High'])\n",
    "gfp_df['deg_tag'] = gfp_df.index.map(lambda x:deg_tags[int(x[1])])"
   ]
  },
  {
   "cell_type": "raw",
   "metadata": {},
   "source": [
    "blank_thresholds = {'OD700':0.1, 'GFP': 2000, 'mCherry': 70}\n",
    "for init_state in init_states:\n",
    "    for plate in plates:\n",
    "        for day in ['d0', 'd1', 'd2', 'd3']:\n",
    "            expt = expt_dict[init_state][plate][day]\n",
    "            blank_rep = [rep for rep in expt.replicate_trials if rep.trial_identifier.strain.name.lower()=='blank'][0]\n",
    "            for trial in blank_rep.single_trials:\n",
    "                if any(trial.analyte_dict[analyte].pd_series[-1]>blank_thresholds[analyte] for analyte in trial.analyte_dict):\n",
    "                    print('State: ', init_state, ', ', plate, ', ', day, ', Rep_ID:', trial.trial_identifier.replicate_id)\n"
   ]
  },
  {
   "cell_type": "code",
   "execution_count": 198,
   "metadata": {},
   "outputs": [],
   "source": [
    "thresholds = {'GFP': 25, 'mCherry':15}\n",
    "\n",
    "bistable_threshold = 3\n",
    "unstable_threshold = 3\n",
    "    \n",
    "data_df, st_bistability_df, rep_bistability_df = get_bistability_dfs(expt_dict, thresholds, \n",
    "                                                                    bistable_threshold, unstable_threshold)"
   ]
  },
  {
   "cell_type": "code",
   "execution_count": 199,
   "metadata": {
    "scrolled": false
   },
   "outputs": [
    {
     "data": {
      "application/vnd.plotly.v1+json": {
       "config": {
        "linkText": "Export to plot.ly",
        "plotlyServerURL": "https://plot.ly",
        "showLink": false
       },
       "data": [
        {
         "fill": "tonextx",
         "fillcolor": "rgb(73,143,201)",
         "legendgroup": "bistable",
         "line": {
          "width": 0
         },
         "mode": "lines",
         "name": "Bistable",
         "showlegend": true,
         "type": "scatter",
         "x": [
          0.875,
          0.875,
          0.875,
          0.875,
          0.875,
          0.875,
          0.875,
          0.875,
          0.875,
          0.875
         ],
         "xaxis": "x13",
         "y": [
          0,
          0.1111111111111111,
          0.2222222222222222,
          0.3333333333333333,
          0.4444444444444444,
          0.5555555555555556,
          0.6666666666666666,
          0.7777777777777777,
          0.8888888888888888,
          1
         ],
         "yaxis": "y13"
        },
        {
         "fill": "tonextx",
         "fillcolor": "rgb(205,92,98)",
         "legendgroup": "tet_stable",
         "line": {
          "width": 0
         },
         "mode": "lines",
         "name": "Monostable Tet",
         "showlegend": true,
         "type": "scatter",
         "x": [
          1,
          1,
          1,
          1,
          1,
          1,
          1,
          1,
          1,
          1
         ],
         "xaxis": "x13",
         "y": [
          0,
          0.1111111111111111,
          0.2222222222222222,
          0.3333333333333333,
          0.4444444444444444,
          0.5555555555555556,
          0.6666666666666666,
          0.7777777777777777,
          0.8888888888888888,
          1
         ],
         "yaxis": "y13"
        },
        {
         "fill": "tonextx",
         "fillcolor": "rgb(89,185,92)",
         "legendgroup": "lac_stable",
         "line": {
          "width": 0
         },
         "mode": "lines",
         "name": "Monostable Lac",
         "showlegend": true,
         "type": "scatter",
         "x": [
          1,
          1,
          1,
          1,
          1,
          1,
          1,
          1,
          1,
          1
         ],
         "xaxis": "x13",
         "y": [
          0,
          0.1111111111111111,
          0.2222222222222222,
          0.3333333333333333,
          0.4444444444444444,
          0.5555555555555556,
          0.6666666666666666,
          0.7777777777777777,
          0.8888888888888888,
          1
         ],
         "yaxis": "y13"
        },
        {
         "fill": "tonextx",
         "fillcolor": "rgb(109,109,109)",
         "legendgroup": "unstable",
         "line": {
          "width": 0
         },
         "mode": "lines",
         "name": "Unstable",
         "showlegend": true,
         "type": "scatter",
         "x": [
          1,
          1,
          1,
          1,
          1,
          1,
          1,
          1,
          1,
          1
         ],
         "xaxis": "x13",
         "y": [
          0,
          0.1111111111111111,
          0.2222222222222222,
          0.3333333333333333,
          0.4444444444444444,
          0.5555555555555556,
          0.6666666666666666,
          0.7777777777777777,
          0.8888888888888888,
          1
         ],
         "yaxis": "y13"
        },
        {
         "fill": "tonextx",
         "fillcolor": "rgb(73,143,201)",
         "legendgroup": "bistable",
         "line": {
          "width": 0
         },
         "mode": "lines",
         "name": "Bistable",
         "showlegend": false,
         "type": "scatter",
         "x": [
          0.7916666666666666,
          0.7916666666666666,
          0.7916666666666666,
          0.7916666666666666,
          0.7916666666666666,
          0.7916666666666666,
          0.7916666666666666,
          0.7916666666666666,
          0.7916666666666666,
          0.7916666666666666
         ],
         "xaxis": "x9",
         "y": [
          0,
          0.1111111111111111,
          0.2222222222222222,
          0.3333333333333333,
          0.4444444444444444,
          0.5555555555555556,
          0.6666666666666666,
          0.7777777777777777,
          0.8888888888888888,
          1
         ],
         "yaxis": "y9"
        },
        {
         "fill": "tonextx",
         "fillcolor": "rgb(205,92,98)",
         "legendgroup": "tet_stable",
         "line": {
          "width": 0
         },
         "mode": "lines",
         "name": "Monostable Tet",
         "showlegend": false,
         "type": "scatter",
         "x": [
          0.875,
          0.875,
          0.875,
          0.875,
          0.875,
          0.875,
          0.875,
          0.875,
          0.875,
          0.875
         ],
         "xaxis": "x9",
         "y": [
          0,
          0.1111111111111111,
          0.2222222222222222,
          0.3333333333333333,
          0.4444444444444444,
          0.5555555555555556,
          0.6666666666666666,
          0.7777777777777777,
          0.8888888888888888,
          1
         ],
         "yaxis": "y9"
        },
        {
         "fill": "tonextx",
         "fillcolor": "rgb(89,185,92)",
         "legendgroup": "lac_stable",
         "line": {
          "width": 0
         },
         "mode": "lines",
         "name": "Monostable Lac",
         "showlegend": false,
         "type": "scatter",
         "x": [
          1,
          1,
          1,
          1,
          1,
          1,
          1,
          1,
          1,
          1
         ],
         "xaxis": "x9",
         "y": [
          0,
          0.1111111111111111,
          0.2222222222222222,
          0.3333333333333333,
          0.4444444444444444,
          0.5555555555555556,
          0.6666666666666666,
          0.7777777777777777,
          0.8888888888888888,
          1
         ],
         "yaxis": "y9"
        },
        {
         "fill": "tonextx",
         "fillcolor": "rgb(109,109,109)",
         "legendgroup": "unstable",
         "line": {
          "width": 0
         },
         "mode": "lines",
         "name": "Unstable",
         "showlegend": false,
         "type": "scatter",
         "x": [
          1,
          1,
          1,
          1,
          1,
          1,
          1,
          1,
          1,
          1
         ],
         "xaxis": "x9",
         "y": [
          0,
          0.1111111111111111,
          0.2222222222222222,
          0.3333333333333333,
          0.4444444444444444,
          0.5555555555555556,
          0.6666666666666666,
          0.7777777777777777,
          0.8888888888888888,
          1
         ],
         "yaxis": "y9"
        },
        {
         "fill": "tonextx",
         "fillcolor": "rgb(73,143,201)",
         "legendgroup": "bistable",
         "line": {
          "width": 0
         },
         "mode": "lines",
         "name": "Bistable",
         "showlegend": false,
         "type": "scatter",
         "x": [
          0.5555555555555556,
          0.5555555555555556,
          0.5555555555555556,
          0.5555555555555556,
          0.5555555555555556,
          0.5555555555555556,
          0.5555555555555556,
          0.5555555555555556,
          0.5555555555555556,
          0.5555555555555556
         ],
         "xaxis": "x5",
         "y": [
          0,
          0.1111111111111111,
          0.2222222222222222,
          0.3333333333333333,
          0.4444444444444444,
          0.5555555555555556,
          0.6666666666666666,
          0.7777777777777777,
          0.8888888888888888,
          1
         ],
         "yaxis": "y5"
        },
        {
         "fill": "tonextx",
         "fillcolor": "rgb(205,92,98)",
         "legendgroup": "tet_stable",
         "line": {
          "width": 0
         },
         "mode": "lines",
         "name": "Monostable Tet",
         "showlegend": false,
         "type": "scatter",
         "x": [
          0.5555555555555556,
          0.5555555555555556,
          0.5555555555555556,
          0.5555555555555556,
          0.5555555555555556,
          0.5555555555555556,
          0.5555555555555556,
          0.5555555555555556,
          0.5555555555555556,
          0.5555555555555556
         ],
         "xaxis": "x5",
         "y": [
          0,
          0.1111111111111111,
          0.2222222222222222,
          0.3333333333333333,
          0.4444444444444444,
          0.5555555555555556,
          0.6666666666666666,
          0.7777777777777777,
          0.8888888888888888,
          1
         ],
         "yaxis": "y5"
        },
        {
         "fill": "tonextx",
         "fillcolor": "rgb(89,185,92)",
         "legendgroup": "lac_stable",
         "line": {
          "width": 0
         },
         "mode": "lines",
         "name": "Monostable Lac",
         "showlegend": false,
         "type": "scatter",
         "x": [
          1,
          1,
          1,
          1,
          1,
          1,
          1,
          1,
          1,
          1
         ],
         "xaxis": "x5",
         "y": [
          0,
          0.1111111111111111,
          0.2222222222222222,
          0.3333333333333333,
          0.4444444444444444,
          0.5555555555555556,
          0.6666666666666666,
          0.7777777777777777,
          0.8888888888888888,
          1
         ],
         "yaxis": "y5"
        },
        {
         "fill": "tonextx",
         "fillcolor": "rgb(109,109,109)",
         "legendgroup": "unstable",
         "line": {
          "width": 0
         },
         "mode": "lines",
         "name": "Unstable",
         "showlegend": false,
         "type": "scatter",
         "x": [
          1,
          1,
          1,
          1,
          1,
          1,
          1,
          1,
          1,
          1
         ],
         "xaxis": "x5",
         "y": [
          0,
          0.1111111111111111,
          0.2222222222222222,
          0.3333333333333333,
          0.4444444444444444,
          0.5555555555555556,
          0.6666666666666666,
          0.7777777777777777,
          0.8888888888888888,
          1
         ],
         "yaxis": "y5"
        },
        {
         "fill": "tonextx",
         "fillcolor": "rgb(73,143,201)",
         "legendgroup": "bistable",
         "line": {
          "width": 0
         },
         "mode": "lines",
         "name": "Bistable",
         "showlegend": false,
         "type": "scatter",
         "x": [
          0.6388888888888888,
          0.6388888888888888,
          0.6388888888888888,
          0.6388888888888888,
          0.6388888888888888,
          0.6388888888888888,
          0.6388888888888888,
          0.6388888888888888,
          0.6388888888888888,
          0.6388888888888888
         ],
         "xaxis": "x",
         "y": [
          0,
          0.1111111111111111,
          0.2222222222222222,
          0.3333333333333333,
          0.4444444444444444,
          0.5555555555555556,
          0.6666666666666666,
          0.7777777777777777,
          0.8888888888888888,
          1
         ],
         "yaxis": "y"
        },
        {
         "fill": "tonextx",
         "fillcolor": "rgb(205,92,98)",
         "legendgroup": "tet_stable",
         "line": {
          "width": 0
         },
         "mode": "lines",
         "name": "Monostable Tet",
         "showlegend": false,
         "type": "scatter",
         "x": [
          0.6388888888888888,
          0.6388888888888888,
          0.6388888888888888,
          0.6388888888888888,
          0.6388888888888888,
          0.6388888888888888,
          0.6388888888888888,
          0.6388888888888888,
          0.6388888888888888,
          0.6388888888888888
         ],
         "xaxis": "x",
         "y": [
          0,
          0.1111111111111111,
          0.2222222222222222,
          0.3333333333333333,
          0.4444444444444444,
          0.5555555555555556,
          0.6666666666666666,
          0.7777777777777777,
          0.8888888888888888,
          1
         ],
         "yaxis": "y"
        },
        {
         "fill": "tonextx",
         "fillcolor": "rgb(89,185,92)",
         "legendgroup": "lac_stable",
         "line": {
          "width": 0
         },
         "mode": "lines",
         "name": "Monostable Lac",
         "showlegend": false,
         "type": "scatter",
         "x": [
          0.9444444444444444,
          0.9444444444444444,
          0.9444444444444444,
          0.9444444444444444,
          0.9444444444444444,
          0.9444444444444444,
          0.9444444444444444,
          0.9444444444444444,
          0.9444444444444444,
          0.9444444444444444
         ],
         "xaxis": "x",
         "y": [
          0,
          0.1111111111111111,
          0.2222222222222222,
          0.3333333333333333,
          0.4444444444444444,
          0.5555555555555556,
          0.6666666666666666,
          0.7777777777777777,
          0.8888888888888888,
          1
         ],
         "yaxis": "y"
        },
        {
         "fill": "tonextx",
         "fillcolor": "rgb(109,109,109)",
         "legendgroup": "unstable",
         "line": {
          "width": 0
         },
         "mode": "lines",
         "name": "Unstable",
         "showlegend": false,
         "type": "scatter",
         "x": [
          1,
          1,
          1,
          1,
          1,
          1,
          1,
          1,
          1,
          1
         ],
         "xaxis": "x",
         "y": [
          0,
          0.1111111111111111,
          0.2222222222222222,
          0.3333333333333333,
          0.4444444444444444,
          0.5555555555555556,
          0.6666666666666666,
          0.7777777777777777,
          0.8888888888888888,
          1
         ],
         "yaxis": "y"
        },
        {
         "fill": "tonextx",
         "fillcolor": "rgb(73,143,201)",
         "legendgroup": "bistable",
         "line": {
          "width": 0
         },
         "mode": "lines",
         "name": "Bistable",
         "showlegend": false,
         "type": "scatter",
         "x": [
          0.5,
          0.5,
          0.5,
          0.5,
          0.5,
          0.5,
          0.5,
          0.5,
          0.5,
          0.5
         ],
         "xaxis": "x14",
         "y": [
          0,
          0.1111111111111111,
          0.2222222222222222,
          0.3333333333333333,
          0.4444444444444444,
          0.5555555555555556,
          0.6666666666666666,
          0.7777777777777777,
          0.8888888888888888,
          1
         ],
         "yaxis": "y14"
        },
        {
         "fill": "tonextx",
         "fillcolor": "rgb(205,92,98)",
         "legendgroup": "tet_stable",
         "line": {
          "width": 0
         },
         "mode": "lines",
         "name": "Monostable Tet",
         "showlegend": false,
         "type": "scatter",
         "x": [
          1,
          1,
          1,
          1,
          1,
          1,
          1,
          1,
          1,
          1
         ],
         "xaxis": "x14",
         "y": [
          0,
          0.1111111111111111,
          0.2222222222222222,
          0.3333333333333333,
          0.4444444444444444,
          0.5555555555555556,
          0.6666666666666666,
          0.7777777777777777,
          0.8888888888888888,
          1
         ],
         "yaxis": "y14"
        },
        {
         "fill": "tonextx",
         "fillcolor": "rgb(89,185,92)",
         "legendgroup": "lac_stable",
         "line": {
          "width": 0
         },
         "mode": "lines",
         "name": "Monostable Lac",
         "showlegend": false,
         "type": "scatter",
         "x": [
          1,
          1,
          1,
          1,
          1,
          1,
          1,
          1,
          1,
          1
         ],
         "xaxis": "x14",
         "y": [
          0,
          0.1111111111111111,
          0.2222222222222222,
          0.3333333333333333,
          0.4444444444444444,
          0.5555555555555556,
          0.6666666666666666,
          0.7777777777777777,
          0.8888888888888888,
          1
         ],
         "yaxis": "y14"
        },
        {
         "fill": "tonextx",
         "fillcolor": "rgb(109,109,109)",
         "legendgroup": "unstable",
         "line": {
          "width": 0
         },
         "mode": "lines",
         "name": "Unstable",
         "showlegend": false,
         "type": "scatter",
         "x": [
          1,
          1,
          1,
          1,
          1,
          1,
          1,
          1,
          1,
          1
         ],
         "xaxis": "x14",
         "y": [
          0,
          0.1111111111111111,
          0.2222222222222222,
          0.3333333333333333,
          0.4444444444444444,
          0.5555555555555556,
          0.6666666666666666,
          0.7777777777777777,
          0.8888888888888888,
          1
         ],
         "yaxis": "y14"
        },
        {
         "fill": "tonextx",
         "fillcolor": "rgb(73,143,201)",
         "legendgroup": "bistable",
         "line": {
          "width": 0
         },
         "mode": "lines",
         "name": "Bistable",
         "showlegend": false,
         "type": "scatter",
         "x": [
          0.5,
          0.5,
          0.5,
          0.5,
          0.5,
          0.5,
          0.5,
          0.5,
          0.5,
          0.5
         ],
         "xaxis": "x10",
         "y": [
          0,
          0.1111111111111111,
          0.2222222222222222,
          0.3333333333333333,
          0.4444444444444444,
          0.5555555555555556,
          0.6666666666666666,
          0.7777777777777777,
          0.8888888888888888,
          1
         ],
         "yaxis": "y10"
        },
        {
         "fill": "tonextx",
         "fillcolor": "rgb(205,92,98)",
         "legendgroup": "tet_stable",
         "line": {
          "width": 0
         },
         "mode": "lines",
         "name": "Monostable Tet",
         "showlegend": false,
         "type": "scatter",
         "x": [
          1,
          1,
          1,
          1,
          1,
          1,
          1,
          1,
          1,
          1
         ],
         "xaxis": "x10",
         "y": [
          0,
          0.1111111111111111,
          0.2222222222222222,
          0.3333333333333333,
          0.4444444444444444,
          0.5555555555555556,
          0.6666666666666666,
          0.7777777777777777,
          0.8888888888888888,
          1
         ],
         "yaxis": "y10"
        },
        {
         "fill": "tonextx",
         "fillcolor": "rgb(89,185,92)",
         "legendgroup": "lac_stable",
         "line": {
          "width": 0
         },
         "mode": "lines",
         "name": "Monostable Lac",
         "showlegend": false,
         "type": "scatter",
         "x": [
          1,
          1,
          1,
          1,
          1,
          1,
          1,
          1,
          1,
          1
         ],
         "xaxis": "x10",
         "y": [
          0,
          0.1111111111111111,
          0.2222222222222222,
          0.3333333333333333,
          0.4444444444444444,
          0.5555555555555556,
          0.6666666666666666,
          0.7777777777777777,
          0.8888888888888888,
          1
         ],
         "yaxis": "y10"
        },
        {
         "fill": "tonextx",
         "fillcolor": "rgb(109,109,109)",
         "legendgroup": "unstable",
         "line": {
          "width": 0
         },
         "mode": "lines",
         "name": "Unstable",
         "showlegend": false,
         "type": "scatter",
         "x": [
          1,
          1,
          1,
          1,
          1,
          1,
          1,
          1,
          1,
          1
         ],
         "xaxis": "x10",
         "y": [
          0,
          0.1111111111111111,
          0.2222222222222222,
          0.3333333333333333,
          0.4444444444444444,
          0.5555555555555556,
          0.6666666666666666,
          0.7777777777777777,
          0.8888888888888888,
          1
         ],
         "yaxis": "y10"
        },
        {
         "fill": "tonextx",
         "fillcolor": "rgb(73,143,201)",
         "legendgroup": "bistable",
         "line": {
          "width": 0
         },
         "mode": "lines",
         "name": "Bistable",
         "showlegend": false,
         "type": "scatter",
         "x": [
          0.3333333333333333,
          0.3333333333333333,
          0.3333333333333333,
          0.3333333333333333,
          0.3333333333333333,
          0.3333333333333333,
          0.3333333333333333,
          0.3333333333333333,
          0.3333333333333333,
          0.3333333333333333
         ],
         "xaxis": "x6",
         "y": [
          0,
          0.1111111111111111,
          0.2222222222222222,
          0.3333333333333333,
          0.4444444444444444,
          0.5555555555555556,
          0.6666666666666666,
          0.7777777777777777,
          0.8888888888888888,
          1
         ],
         "yaxis": "y6"
        },
        {
         "fill": "tonextx",
         "fillcolor": "rgb(205,92,98)",
         "legendgroup": "tet_stable",
         "line": {
          "width": 0
         },
         "mode": "lines",
         "name": "Monostable Tet",
         "showlegend": false,
         "type": "scatter",
         "x": [
          0.3333333333333333,
          0.3333333333333333,
          0.3333333333333333,
          0.3333333333333333,
          0.3333333333333333,
          0.3333333333333333,
          0.3333333333333333,
          0.3333333333333333,
          0.3333333333333333,
          0.3333333333333333
         ],
         "xaxis": "x6",
         "y": [
          0,
          0.1111111111111111,
          0.2222222222222222,
          0.3333333333333333,
          0.4444444444444444,
          0.5555555555555556,
          0.6666666666666666,
          0.7777777777777777,
          0.8888888888888888,
          1
         ],
         "yaxis": "y6"
        },
        {
         "fill": "tonextx",
         "fillcolor": "rgb(89,185,92)",
         "legendgroup": "lac_stable",
         "line": {
          "width": 0
         },
         "mode": "lines",
         "name": "Monostable Lac",
         "showlegend": false,
         "type": "scatter",
         "x": [
          0.6666666666666666,
          0.6666666666666666,
          0.6666666666666666,
          0.6666666666666666,
          0.6666666666666666,
          0.6666666666666666,
          0.6666666666666666,
          0.6666666666666666,
          0.6666666666666666,
          0.6666666666666666
         ],
         "xaxis": "x6",
         "y": [
          0,
          0.1111111111111111,
          0.2222222222222222,
          0.3333333333333333,
          0.4444444444444444,
          0.5555555555555556,
          0.6666666666666666,
          0.7777777777777777,
          0.8888888888888888,
          1
         ],
         "yaxis": "y6"
        },
        {
         "fill": "tonextx",
         "fillcolor": "rgb(109,109,109)",
         "legendgroup": "unstable",
         "line": {
          "width": 0
         },
         "mode": "lines",
         "name": "Unstable",
         "showlegend": false,
         "type": "scatter",
         "x": [
          1,
          1,
          1,
          1,
          1,
          1,
          1,
          1,
          1,
          1
         ],
         "xaxis": "x6",
         "y": [
          0,
          0.1111111111111111,
          0.2222222222222222,
          0.3333333333333333,
          0.4444444444444444,
          0.5555555555555556,
          0.6666666666666666,
          0.7777777777777777,
          0.8888888888888888,
          1
         ],
         "yaxis": "y6"
        },
        {
         "fill": "tonextx",
         "fillcolor": "rgb(73,143,201)",
         "legendgroup": "bistable",
         "line": {
          "width": 0
         },
         "mode": "lines",
         "name": "Bistable",
         "showlegend": false,
         "type": "scatter",
         "x": [
          0.6666666666666666,
          0.6666666666666666,
          0.6666666666666666,
          0.6666666666666666,
          0.6666666666666666,
          0.6666666666666666,
          0.6666666666666666,
          0.6666666666666666,
          0.6666666666666666,
          0.6666666666666666
         ],
         "xaxis": "x2",
         "y": [
          0,
          0.1111111111111111,
          0.2222222222222222,
          0.3333333333333333,
          0.4444444444444444,
          0.5555555555555556,
          0.6666666666666666,
          0.7777777777777777,
          0.8888888888888888,
          1
         ],
         "yaxis": "y2"
        },
        {
         "fill": "tonextx",
         "fillcolor": "rgb(205,92,98)",
         "legendgroup": "tet_stable",
         "line": {
          "width": 0
         },
         "mode": "lines",
         "name": "Monostable Tet",
         "showlegend": false,
         "type": "scatter",
         "x": [
          0.6666666666666666,
          0.6666666666666666,
          0.6666666666666666,
          0.6666666666666666,
          0.6666666666666666,
          0.6666666666666666,
          0.6666666666666666,
          0.6666666666666666,
          0.6666666666666666,
          0.6666666666666666
         ],
         "xaxis": "x2",
         "y": [
          0,
          0.1111111111111111,
          0.2222222222222222,
          0.3333333333333333,
          0.4444444444444444,
          0.5555555555555556,
          0.6666666666666666,
          0.7777777777777777,
          0.8888888888888888,
          1
         ],
         "yaxis": "y2"
        },
        {
         "fill": "tonextx",
         "fillcolor": "rgb(89,185,92)",
         "legendgroup": "lac_stable",
         "line": {
          "width": 0
         },
         "mode": "lines",
         "name": "Monostable Lac",
         "showlegend": false,
         "type": "scatter",
         "x": [
          1,
          1,
          1,
          1,
          1,
          1,
          1,
          1,
          1,
          1
         ],
         "xaxis": "x2",
         "y": [
          0,
          0.1111111111111111,
          0.2222222222222222,
          0.3333333333333333,
          0.4444444444444444,
          0.5555555555555556,
          0.6666666666666666,
          0.7777777777777777,
          0.8888888888888888,
          1
         ],
         "yaxis": "y2"
        },
        {
         "fill": "tonextx",
         "fillcolor": "rgb(109,109,109)",
         "legendgroup": "unstable",
         "line": {
          "width": 0
         },
         "mode": "lines",
         "name": "Unstable",
         "showlegend": false,
         "type": "scatter",
         "x": [
          1,
          1,
          1,
          1,
          1,
          1,
          1,
          1,
          1,
          1
         ],
         "xaxis": "x2",
         "y": [
          0,
          0.1111111111111111,
          0.2222222222222222,
          0.3333333333333333,
          0.4444444444444444,
          0.5555555555555556,
          0.6666666666666666,
          0.7777777777777777,
          0.8888888888888888,
          1
         ],
         "yaxis": "y2"
        },
        {
         "fill": "tonextx",
         "fillcolor": "rgb(73,143,201)",
         "legendgroup": "bistable",
         "line": {
          "width": 0
         },
         "mode": "lines",
         "name": "Bistable",
         "showlegend": false,
         "type": "scatter",
         "x": [
          0.75,
          0.75,
          0.75,
          0.75,
          0.75,
          0.75,
          0.75,
          0.75,
          0.75,
          0.75
         ],
         "xaxis": "x15",
         "y": [
          0,
          0.1111111111111111,
          0.2222222222222222,
          0.3333333333333333,
          0.4444444444444444,
          0.5555555555555556,
          0.6666666666666666,
          0.7777777777777777,
          0.8888888888888888,
          1
         ],
         "yaxis": "y15"
        },
        {
         "fill": "tonextx",
         "fillcolor": "rgb(205,92,98)",
         "legendgroup": "tet_stable",
         "line": {
          "width": 0
         },
         "mode": "lines",
         "name": "Monostable Tet",
         "showlegend": false,
         "type": "scatter",
         "x": [
          1,
          1,
          1,
          1,
          1,
          1,
          1,
          1,
          1,
          1
         ],
         "xaxis": "x15",
         "y": [
          0,
          0.1111111111111111,
          0.2222222222222222,
          0.3333333333333333,
          0.4444444444444444,
          0.5555555555555556,
          0.6666666666666666,
          0.7777777777777777,
          0.8888888888888888,
          1
         ],
         "yaxis": "y15"
        },
        {
         "fill": "tonextx",
         "fillcolor": "rgb(89,185,92)",
         "legendgroup": "lac_stable",
         "line": {
          "width": 0
         },
         "mode": "lines",
         "name": "Monostable Lac",
         "showlegend": false,
         "type": "scatter",
         "x": [
          1,
          1,
          1,
          1,
          1,
          1,
          1,
          1,
          1,
          1
         ],
         "xaxis": "x15",
         "y": [
          0,
          0.1111111111111111,
          0.2222222222222222,
          0.3333333333333333,
          0.4444444444444444,
          0.5555555555555556,
          0.6666666666666666,
          0.7777777777777777,
          0.8888888888888888,
          1
         ],
         "yaxis": "y15"
        },
        {
         "fill": "tonextx",
         "fillcolor": "rgb(109,109,109)",
         "legendgroup": "unstable",
         "line": {
          "width": 0
         },
         "mode": "lines",
         "name": "Unstable",
         "showlegend": false,
         "type": "scatter",
         "x": [
          1,
          1,
          1,
          1,
          1,
          1,
          1,
          1,
          1,
          1
         ],
         "xaxis": "x15",
         "y": [
          0,
          0.1111111111111111,
          0.2222222222222222,
          0.3333333333333333,
          0.4444444444444444,
          0.5555555555555556,
          0.6666666666666666,
          0.7777777777777777,
          0.8888888888888888,
          1
         ],
         "yaxis": "y15"
        },
        {
         "fill": "tonextx",
         "fillcolor": "rgb(73,143,201)",
         "legendgroup": "bistable",
         "line": {
          "width": 0
         },
         "mode": "lines",
         "name": "Bistable",
         "showlegend": false,
         "type": "scatter",
         "x": [
          0.5833333333333334,
          0.5833333333333334,
          0.5833333333333334,
          0.5833333333333334,
          0.5833333333333334,
          0.5833333333333334,
          0.5833333333333334,
          0.5833333333333334,
          0.5833333333333334,
          0.5833333333333334
         ],
         "xaxis": "x11",
         "y": [
          0,
          0.1111111111111111,
          0.2222222222222222,
          0.3333333333333333,
          0.4444444444444444,
          0.5555555555555556,
          0.6666666666666666,
          0.7777777777777777,
          0.8888888888888888,
          1
         ],
         "yaxis": "y11"
        },
        {
         "fill": "tonextx",
         "fillcolor": "rgb(205,92,98)",
         "legendgroup": "tet_stable",
         "line": {
          "width": 0
         },
         "mode": "lines",
         "name": "Monostable Tet",
         "showlegend": false,
         "type": "scatter",
         "x": [
          0.8333333333333334,
          0.8333333333333334,
          0.8333333333333334,
          0.8333333333333334,
          0.8333333333333334,
          0.8333333333333334,
          0.8333333333333334,
          0.8333333333333334,
          0.8333333333333334,
          0.8333333333333334
         ],
         "xaxis": "x11",
         "y": [
          0,
          0.1111111111111111,
          0.2222222222222222,
          0.3333333333333333,
          0.4444444444444444,
          0.5555555555555556,
          0.6666666666666666,
          0.7777777777777777,
          0.8888888888888888,
          1
         ],
         "yaxis": "y11"
        },
        {
         "fill": "tonextx",
         "fillcolor": "rgb(89,185,92)",
         "legendgroup": "lac_stable",
         "line": {
          "width": 0
         },
         "mode": "lines",
         "name": "Monostable Lac",
         "showlegend": false,
         "type": "scatter",
         "x": [
          1,
          1,
          1,
          1,
          1,
          1,
          1,
          1,
          1,
          1
         ],
         "xaxis": "x11",
         "y": [
          0,
          0.1111111111111111,
          0.2222222222222222,
          0.3333333333333333,
          0.4444444444444444,
          0.5555555555555556,
          0.6666666666666666,
          0.7777777777777777,
          0.8888888888888888,
          1
         ],
         "yaxis": "y11"
        },
        {
         "fill": "tonextx",
         "fillcolor": "rgb(109,109,109)",
         "legendgroup": "unstable",
         "line": {
          "width": 0
         },
         "mode": "lines",
         "name": "Unstable",
         "showlegend": false,
         "type": "scatter",
         "x": [
          1,
          1,
          1,
          1,
          1,
          1,
          1,
          1,
          1,
          1
         ],
         "xaxis": "x11",
         "y": [
          0,
          0.1111111111111111,
          0.2222222222222222,
          0.3333333333333333,
          0.4444444444444444,
          0.5555555555555556,
          0.6666666666666666,
          0.7777777777777777,
          0.8888888888888888,
          1
         ],
         "yaxis": "y11"
        },
        {
         "fill": "tonextx",
         "fillcolor": "rgb(73,143,201)",
         "legendgroup": "bistable",
         "line": {
          "width": 0
         },
         "mode": "lines",
         "name": "Bistable",
         "showlegend": false,
         "type": "scatter",
         "x": [
          0.6111111111111112,
          0.6111111111111112,
          0.6111111111111112,
          0.6111111111111112,
          0.6111111111111112,
          0.6111111111111112,
          0.6111111111111112,
          0.6111111111111112,
          0.6111111111111112,
          0.6111111111111112
         ],
         "xaxis": "x7",
         "y": [
          0,
          0.1111111111111111,
          0.2222222222222222,
          0.3333333333333333,
          0.4444444444444444,
          0.5555555555555556,
          0.6666666666666666,
          0.7777777777777777,
          0.8888888888888888,
          1
         ],
         "yaxis": "y7"
        },
        {
         "fill": "tonextx",
         "fillcolor": "rgb(205,92,98)",
         "legendgroup": "tet_stable",
         "line": {
          "width": 0
         },
         "mode": "lines",
         "name": "Monostable Tet",
         "showlegend": false,
         "type": "scatter",
         "x": [
          0.6111111111111112,
          0.6111111111111112,
          0.6111111111111112,
          0.6111111111111112,
          0.6111111111111112,
          0.6111111111111112,
          0.6111111111111112,
          0.6111111111111112,
          0.6111111111111112,
          0.6111111111111112
         ],
         "xaxis": "x7",
         "y": [
          0,
          0.1111111111111111,
          0.2222222222222222,
          0.3333333333333333,
          0.4444444444444444,
          0.5555555555555556,
          0.6666666666666666,
          0.7777777777777777,
          0.8888888888888888,
          1
         ],
         "yaxis": "y7"
        },
        {
         "fill": "tonextx",
         "fillcolor": "rgb(89,185,92)",
         "legendgroup": "lac_stable",
         "line": {
          "width": 0
         },
         "mode": "lines",
         "name": "Monostable Lac",
         "showlegend": false,
         "type": "scatter",
         "x": [
          0.888888888888889,
          0.888888888888889,
          0.888888888888889,
          0.888888888888889,
          0.888888888888889,
          0.888888888888889,
          0.888888888888889,
          0.888888888888889,
          0.888888888888889,
          0.888888888888889
         ],
         "xaxis": "x7",
         "y": [
          0,
          0.1111111111111111,
          0.2222222222222222,
          0.3333333333333333,
          0.4444444444444444,
          0.5555555555555556,
          0.6666666666666666,
          0.7777777777777777,
          0.8888888888888888,
          1
         ],
         "yaxis": "y7"
        },
        {
         "fill": "tonextx",
         "fillcolor": "rgb(109,109,109)",
         "legendgroup": "unstable",
         "line": {
          "width": 0
         },
         "mode": "lines",
         "name": "Unstable",
         "showlegend": false,
         "type": "scatter",
         "x": [
          1,
          1,
          1,
          1,
          1,
          1,
          1,
          1,
          1,
          1
         ],
         "xaxis": "x7",
         "y": [
          0,
          0.1111111111111111,
          0.2222222222222222,
          0.3333333333333333,
          0.4444444444444444,
          0.5555555555555556,
          0.6666666666666666,
          0.7777777777777777,
          0.8888888888888888,
          1
         ],
         "yaxis": "y7"
        },
        {
         "fill": "tonextx",
         "fillcolor": "rgb(73,143,201)",
         "legendgroup": "bistable",
         "line": {
          "width": 0
         },
         "mode": "lines",
         "name": "Bistable",
         "showlegend": false,
         "type": "scatter",
         "x": [
          0.6666666666666666,
          0.6666666666666666,
          0.6666666666666666,
          0.6666666666666666,
          0.6666666666666666,
          0.6666666666666666,
          0.6666666666666666,
          0.6666666666666666,
          0.6666666666666666,
          0.6666666666666666
         ],
         "xaxis": "x3",
         "y": [
          0,
          0.1111111111111111,
          0.2222222222222222,
          0.3333333333333333,
          0.4444444444444444,
          0.5555555555555556,
          0.6666666666666666,
          0.7777777777777777,
          0.8888888888888888,
          1
         ],
         "yaxis": "y3"
        },
        {
         "fill": "tonextx",
         "fillcolor": "rgb(205,92,98)",
         "legendgroup": "tet_stable",
         "line": {
          "width": 0
         },
         "mode": "lines",
         "name": "Monostable Tet",
         "showlegend": false,
         "type": "scatter",
         "x": [
          0.6666666666666666,
          0.6666666666666666,
          0.6666666666666666,
          0.6666666666666666,
          0.6666666666666666,
          0.6666666666666666,
          0.6666666666666666,
          0.6666666666666666,
          0.6666666666666666,
          0.6666666666666666
         ],
         "xaxis": "x3",
         "y": [
          0,
          0.1111111111111111,
          0.2222222222222222,
          0.3333333333333333,
          0.4444444444444444,
          0.5555555555555556,
          0.6666666666666666,
          0.7777777777777777,
          0.8888888888888888,
          1
         ],
         "yaxis": "y3"
        },
        {
         "fill": "tonextx",
         "fillcolor": "rgb(89,185,92)",
         "legendgroup": "lac_stable",
         "line": {
          "width": 0
         },
         "mode": "lines",
         "name": "Monostable Lac",
         "showlegend": false,
         "type": "scatter",
         "x": [
          0.8888888888888888,
          0.8888888888888888,
          0.8888888888888888,
          0.8888888888888888,
          0.8888888888888888,
          0.8888888888888888,
          0.8888888888888888,
          0.8888888888888888,
          0.8888888888888888,
          0.8888888888888888
         ],
         "xaxis": "x3",
         "y": [
          0,
          0.1111111111111111,
          0.2222222222222222,
          0.3333333333333333,
          0.4444444444444444,
          0.5555555555555556,
          0.6666666666666666,
          0.7777777777777777,
          0.8888888888888888,
          1
         ],
         "yaxis": "y3"
        },
        {
         "fill": "tonextx",
         "fillcolor": "rgb(109,109,109)",
         "legendgroup": "unstable",
         "line": {
          "width": 0
         },
         "mode": "lines",
         "name": "Unstable",
         "showlegend": false,
         "type": "scatter",
         "x": [
          1,
          1,
          1,
          1,
          1,
          1,
          1,
          1,
          1,
          1
         ],
         "xaxis": "x3",
         "y": [
          0,
          0.1111111111111111,
          0.2222222222222222,
          0.3333333333333333,
          0.4444444444444444,
          0.5555555555555556,
          0.6666666666666666,
          0.7777777777777777,
          0.8888888888888888,
          1
         ],
         "yaxis": "y3"
        },
        {
         "fill": "tonextx",
         "fillcolor": "rgb(73,143,201)",
         "legendgroup": "bistable",
         "line": {
          "width": 0
         },
         "mode": "lines",
         "name": "Bistable",
         "showlegend": false,
         "type": "scatter",
         "x": [
          0.6111111111111112,
          0.6111111111111112,
          0.6111111111111112,
          0.6111111111111112,
          0.6111111111111112,
          0.6111111111111112,
          0.6111111111111112,
          0.6111111111111112,
          0.6111111111111112,
          0.6111111111111112
         ],
         "xaxis": "x16",
         "y": [
          0,
          0.1111111111111111,
          0.2222222222222222,
          0.3333333333333333,
          0.4444444444444444,
          0.5555555555555556,
          0.6666666666666666,
          0.7777777777777777,
          0.8888888888888888,
          1
         ],
         "yaxis": "y16"
        },
        {
         "fill": "tonextx",
         "fillcolor": "rgb(205,92,98)",
         "legendgroup": "tet_stable",
         "line": {
          "width": 0
         },
         "mode": "lines",
         "name": "Monostable Tet",
         "showlegend": false,
         "type": "scatter",
         "x": [
          1,
          1,
          1,
          1,
          1,
          1,
          1,
          1,
          1,
          1
         ],
         "xaxis": "x16",
         "y": [
          0,
          0.1111111111111111,
          0.2222222222222222,
          0.3333333333333333,
          0.4444444444444444,
          0.5555555555555556,
          0.6666666666666666,
          0.7777777777777777,
          0.8888888888888888,
          1
         ],
         "yaxis": "y16"
        },
        {
         "fill": "tonextx",
         "fillcolor": "rgb(89,185,92)",
         "legendgroup": "lac_stable",
         "line": {
          "width": 0
         },
         "mode": "lines",
         "name": "Monostable Lac",
         "showlegend": false,
         "type": "scatter",
         "x": [
          1,
          1,
          1,
          1,
          1,
          1,
          1,
          1,
          1,
          1
         ],
         "xaxis": "x16",
         "y": [
          0,
          0.1111111111111111,
          0.2222222222222222,
          0.3333333333333333,
          0.4444444444444444,
          0.5555555555555556,
          0.6666666666666666,
          0.7777777777777777,
          0.8888888888888888,
          1
         ],
         "yaxis": "y16"
        },
        {
         "fill": "tonextx",
         "fillcolor": "rgb(109,109,109)",
         "legendgroup": "unstable",
         "line": {
          "width": 0
         },
         "mode": "lines",
         "name": "Unstable",
         "showlegend": false,
         "type": "scatter",
         "x": [
          1,
          1,
          1,
          1,
          1,
          1,
          1,
          1,
          1,
          1
         ],
         "xaxis": "x16",
         "y": [
          0,
          0.1111111111111111,
          0.2222222222222222,
          0.3333333333333333,
          0.4444444444444444,
          0.5555555555555556,
          0.6666666666666666,
          0.7777777777777777,
          0.8888888888888888,
          1
         ],
         "yaxis": "y16"
        },
        {
         "fill": "tonextx",
         "fillcolor": "rgb(73,143,201)",
         "legendgroup": "bistable",
         "line": {
          "width": 0
         },
         "mode": "lines",
         "name": "Bistable",
         "showlegend": false,
         "type": "scatter",
         "x": [
          0.5,
          0.5,
          0.5,
          0.5,
          0.5,
          0.5,
          0.5,
          0.5,
          0.5,
          0.5
         ],
         "xaxis": "x12",
         "y": [
          0,
          0.1111111111111111,
          0.2222222222222222,
          0.3333333333333333,
          0.4444444444444444,
          0.5555555555555556,
          0.6666666666666666,
          0.7777777777777777,
          0.8888888888888888,
          1
         ],
         "yaxis": "y12"
        },
        {
         "fill": "tonextx",
         "fillcolor": "rgb(205,92,98)",
         "legendgroup": "tet_stable",
         "line": {
          "width": 0
         },
         "mode": "lines",
         "name": "Monostable Tet",
         "showlegend": false,
         "type": "scatter",
         "x": [
          1,
          1,
          1,
          1,
          1,
          1,
          1,
          1,
          1,
          1
         ],
         "xaxis": "x12",
         "y": [
          0,
          0.1111111111111111,
          0.2222222222222222,
          0.3333333333333333,
          0.4444444444444444,
          0.5555555555555556,
          0.6666666666666666,
          0.7777777777777777,
          0.8888888888888888,
          1
         ],
         "yaxis": "y12"
        },
        {
         "fill": "tonextx",
         "fillcolor": "rgb(89,185,92)",
         "legendgroup": "lac_stable",
         "line": {
          "width": 0
         },
         "mode": "lines",
         "name": "Monostable Lac",
         "showlegend": false,
         "type": "scatter",
         "x": [
          1,
          1,
          1,
          1,
          1,
          1,
          1,
          1,
          1,
          1
         ],
         "xaxis": "x12",
         "y": [
          0,
          0.1111111111111111,
          0.2222222222222222,
          0.3333333333333333,
          0.4444444444444444,
          0.5555555555555556,
          0.6666666666666666,
          0.7777777777777777,
          0.8888888888888888,
          1
         ],
         "yaxis": "y12"
        },
        {
         "fill": "tonextx",
         "fillcolor": "rgb(109,109,109)",
         "legendgroup": "unstable",
         "line": {
          "width": 0
         },
         "mode": "lines",
         "name": "Unstable",
         "showlegend": false,
         "type": "scatter",
         "x": [
          1,
          1,
          1,
          1,
          1,
          1,
          1,
          1,
          1,
          1
         ],
         "xaxis": "x12",
         "y": [
          0,
          0.1111111111111111,
          0.2222222222222222,
          0.3333333333333333,
          0.4444444444444444,
          0.5555555555555556,
          0.6666666666666666,
          0.7777777777777777,
          0.8888888888888888,
          1
         ],
         "yaxis": "y12"
        },
        {
         "fill": "tonextx",
         "fillcolor": "rgb(73,143,201)",
         "legendgroup": "bistable",
         "line": {
          "width": 0
         },
         "mode": "lines",
         "name": "Bistable",
         "showlegend": false,
         "type": "scatter",
         "x": [
          0.5185185185185185,
          0.5185185185185185,
          0.5185185185185185,
          0.5185185185185185,
          0.5185185185185185,
          0.5185185185185185,
          0.5185185185185185,
          0.5185185185185185,
          0.5185185185185185,
          0.5185185185185185
         ],
         "xaxis": "x8",
         "y": [
          0,
          0.1111111111111111,
          0.2222222222222222,
          0.3333333333333333,
          0.4444444444444444,
          0.5555555555555556,
          0.6666666666666666,
          0.7777777777777777,
          0.8888888888888888,
          1
         ],
         "yaxis": "y8"
        },
        {
         "fill": "tonextx",
         "fillcolor": "rgb(205,92,98)",
         "legendgroup": "tet_stable",
         "line": {
          "width": 0
         },
         "mode": "lines",
         "name": "Monostable Tet",
         "showlegend": false,
         "type": "scatter",
         "x": [
          0.8888888888888888,
          0.8888888888888888,
          0.8888888888888888,
          0.8888888888888888,
          0.8888888888888888,
          0.8888888888888888,
          0.8888888888888888,
          0.8888888888888888,
          0.8888888888888888,
          0.8888888888888888
         ],
         "xaxis": "x8",
         "y": [
          0,
          0.1111111111111111,
          0.2222222222222222,
          0.3333333333333333,
          0.4444444444444444,
          0.5555555555555556,
          0.6666666666666666,
          0.7777777777777777,
          0.8888888888888888,
          1
         ],
         "yaxis": "y8"
        },
        {
         "fill": "tonextx",
         "fillcolor": "rgb(89,185,92)",
         "legendgroup": "lac_stable",
         "line": {
          "width": 0
         },
         "mode": "lines",
         "name": "Monostable Lac",
         "showlegend": false,
         "type": "scatter",
         "x": [
          0.9259259259259258,
          0.9259259259259258,
          0.9259259259259258,
          0.9259259259259258,
          0.9259259259259258,
          0.9259259259259258,
          0.9259259259259258,
          0.9259259259259258,
          0.9259259259259258,
          0.9259259259259258
         ],
         "xaxis": "x8",
         "y": [
          0,
          0.1111111111111111,
          0.2222222222222222,
          0.3333333333333333,
          0.4444444444444444,
          0.5555555555555556,
          0.6666666666666666,
          0.7777777777777777,
          0.8888888888888888,
          1
         ],
         "yaxis": "y8"
        },
        {
         "fill": "tonextx",
         "fillcolor": "rgb(109,109,109)",
         "legendgroup": "unstable",
         "line": {
          "width": 0
         },
         "mode": "lines",
         "name": "Unstable",
         "showlegend": false,
         "type": "scatter",
         "x": [
          0.9999999999999999,
          0.9999999999999999,
          0.9999999999999999,
          0.9999999999999999,
          0.9999999999999999,
          0.9999999999999999,
          0.9999999999999999,
          0.9999999999999999,
          0.9999999999999999,
          0.9999999999999999
         ],
         "xaxis": "x8",
         "y": [
          0,
          0.1111111111111111,
          0.2222222222222222,
          0.3333333333333333,
          0.4444444444444444,
          0.5555555555555556,
          0.6666666666666666,
          0.7777777777777777,
          0.8888888888888888,
          1
         ],
         "yaxis": "y8"
        },
        {
         "fill": "tonextx",
         "fillcolor": "rgb(73,143,201)",
         "legendgroup": "bistable",
         "line": {
          "width": 0
         },
         "mode": "lines",
         "name": "Bistable",
         "showlegend": false,
         "type": "scatter",
         "x": [
          0.7037037037037037,
          0.7037037037037037,
          0.7037037037037037,
          0.7037037037037037,
          0.7037037037037037,
          0.7037037037037037,
          0.7037037037037037,
          0.7037037037037037,
          0.7037037037037037,
          0.7037037037037037
         ],
         "xaxis": "x4",
         "y": [
          0,
          0.1111111111111111,
          0.2222222222222222,
          0.3333333333333333,
          0.4444444444444444,
          0.5555555555555556,
          0.6666666666666666,
          0.7777777777777777,
          0.8888888888888888,
          1
         ],
         "yaxis": "y4"
        },
        {
         "fill": "tonextx",
         "fillcolor": "rgb(205,92,98)",
         "legendgroup": "tet_stable",
         "line": {
          "width": 0
         },
         "mode": "lines",
         "name": "Monostable Tet",
         "showlegend": false,
         "type": "scatter",
         "x": [
          0.7037037037037037,
          0.7037037037037037,
          0.7037037037037037,
          0.7037037037037037,
          0.7037037037037037,
          0.7037037037037037,
          0.7037037037037037,
          0.7037037037037037,
          0.7037037037037037,
          0.7037037037037037
         ],
         "xaxis": "x4",
         "y": [
          0,
          0.1111111111111111,
          0.2222222222222222,
          0.3333333333333333,
          0.4444444444444444,
          0.5555555555555556,
          0.6666666666666666,
          0.7777777777777777,
          0.8888888888888888,
          1
         ],
         "yaxis": "y4"
        },
        {
         "fill": "tonextx",
         "fillcolor": "rgb(89,185,92)",
         "legendgroup": "lac_stable",
         "line": {
          "width": 0
         },
         "mode": "lines",
         "name": "Monostable Lac",
         "showlegend": false,
         "type": "scatter",
         "x": [
          0.9259259259259259,
          0.9259259259259259,
          0.9259259259259259,
          0.9259259259259259,
          0.9259259259259259,
          0.9259259259259259,
          0.9259259259259259,
          0.9259259259259259,
          0.9259259259259259,
          0.9259259259259259
         ],
         "xaxis": "x4",
         "y": [
          0,
          0.1111111111111111,
          0.2222222222222222,
          0.3333333333333333,
          0.4444444444444444,
          0.5555555555555556,
          0.6666666666666666,
          0.7777777777777777,
          0.8888888888888888,
          1
         ],
         "yaxis": "y4"
        },
        {
         "fill": "tonextx",
         "fillcolor": "rgb(109,109,109)",
         "legendgroup": "unstable",
         "line": {
          "width": 0
         },
         "mode": "lines",
         "name": "Unstable",
         "showlegend": false,
         "type": "scatter",
         "x": [
          1,
          1,
          1,
          1,
          1,
          1,
          1,
          1,
          1,
          1
         ],
         "xaxis": "x4",
         "y": [
          0,
          0.1111111111111111,
          0.2222222222222222,
          0.3333333333333333,
          0.4444444444444444,
          0.5555555555555556,
          0.6666666666666666,
          0.7777777777777777,
          0.8888888888888888,
          1
         ],
         "yaxis": "y4"
        }
       ],
       "layout": {
        "annotations": [
         {
          "font": {
           "color": "black",
           "family": "Myriad Pro",
           "size": 18
          },
          "showarrow": false,
          "text": "88%",
          "x": 0.4375,
          "xref": "x13",
          "y": 0.5,
          "yref": "y13"
         },
         {
          "font": {
           "color": "black",
           "family": "Myriad Pro",
           "size": 18
          },
          "showarrow": false,
          "text": "12%",
          "x": 0.9375,
          "xref": "x13",
          "y": 0.5,
          "yref": "y13"
         },
         {
          "font": {
           "color": "black",
           "family": "Myriad Pro",
           "size": 18
          },
          "showarrow": false,
          "text": "n = 24",
          "x": 0.5,
          "xref": "x13",
          "y": 0.8,
          "yref": "y13"
         },
         {
          "font": {
           "color": "black",
           "family": "Myriad Pro",
           "size": 18
          },
          "showarrow": false,
          "text": "79%",
          "x": 0.3958333333333333,
          "xref": "x9",
          "y": 0.5,
          "yref": "y9"
         },
         {
          "font": {
           "color": "black",
           "family": "Myriad Pro",
           "size": 18
          },
          "showarrow": false,
          "text": "8%",
          "x": 0.8333333333333333,
          "xref": "x9",
          "y": 0.5,
          "yref": "y9"
         },
         {
          "font": {
           "color": "black",
           "family": "Myriad Pro",
           "size": 18
          },
          "showarrow": false,
          "text": "12%",
          "x": 0.9375,
          "xref": "x9",
          "y": 0.5,
          "yref": "y9"
         },
         {
          "font": {
           "color": "black",
           "family": "Myriad Pro",
           "size": 18
          },
          "showarrow": false,
          "text": "n = 24",
          "x": 0.5,
          "xref": "x9",
          "y": 0.8,
          "yref": "y9"
         },
         {
          "font": {
           "color": "black",
           "family": "Myriad Pro",
           "size": 18
          },
          "showarrow": false,
          "text": "56%",
          "x": 0.2777777777777778,
          "xref": "x5",
          "y": 0.5,
          "yref": "y5"
         },
         {
          "font": {
           "color": "black",
           "family": "Myriad Pro",
           "size": 18
          },
          "showarrow": false,
          "text": "44%",
          "x": 0.7777777777777778,
          "xref": "x5",
          "y": 0.5,
          "yref": "y5"
         },
         {
          "font": {
           "color": "black",
           "family": "Myriad Pro",
           "size": 18
          },
          "showarrow": false,
          "text": "n = 36",
          "x": 0.5,
          "xref": "x5",
          "y": 0.8,
          "yref": "y5"
         },
         {
          "font": {
           "color": "black",
           "family": "Myriad Pro",
           "size": 18
          },
          "showarrow": false,
          "text": "64%",
          "x": 0.3194444444444444,
          "xref": "x",
          "y": 0.5,
          "yref": "y"
         },
         {
          "font": {
           "color": "black",
           "family": "Myriad Pro",
           "size": 18
          },
          "showarrow": false,
          "text": "31%",
          "x": 0.7916666666666666,
          "xref": "x",
          "y": 0.5,
          "yref": "y"
         },
         {
          "font": {
           "color": "black",
           "family": "Myriad Pro",
           "size": 18
          },
          "showarrow": false,
          "text": "6%",
          "x": 0.9722222222222222,
          "xref": "x",
          "y": 0.5,
          "yref": "y"
         },
         {
          "font": {
           "color": "black",
           "family": "Myriad Pro",
           "size": 18
          },
          "showarrow": false,
          "text": "n = 36",
          "x": 0.5,
          "xref": "x",
          "y": 0.8,
          "yref": "y"
         },
         {
          "font": {
           "color": "black",
           "family": "Myriad Pro",
           "size": 18
          },
          "showarrow": false,
          "text": "50%",
          "x": 0.25,
          "xref": "x14",
          "y": 0.5,
          "yref": "y14"
         },
         {
          "font": {
           "color": "black",
           "family": "Myriad Pro",
           "size": 18
          },
          "showarrow": false,
          "text": "50%",
          "x": 0.75,
          "xref": "x14",
          "y": 0.5,
          "yref": "y14"
         },
         {
          "font": {
           "color": "black",
           "family": "Myriad Pro",
           "size": 18
          },
          "showarrow": false,
          "text": "n = 6",
          "x": 0.5,
          "xref": "x14",
          "y": 0.8,
          "yref": "y14"
         },
         {
          "font": {
           "color": "black",
           "family": "Myriad Pro",
           "size": 18
          },
          "showarrow": false,
          "text": "50%",
          "x": 0.25,
          "xref": "x10",
          "y": 0.5,
          "yref": "y10"
         },
         {
          "font": {
           "color": "black",
           "family": "Myriad Pro",
           "size": 18
          },
          "showarrow": false,
          "text": "50%",
          "x": 0.75,
          "xref": "x10",
          "y": 0.5,
          "yref": "y10"
         },
         {
          "font": {
           "color": "black",
           "family": "Myriad Pro",
           "size": 18
          },
          "showarrow": false,
          "text": "n = 6",
          "x": 0.5,
          "xref": "x10",
          "y": 0.8,
          "yref": "y10"
         },
         {
          "font": {
           "color": "black",
           "family": "Myriad Pro",
           "size": 18
          },
          "showarrow": false,
          "text": "33%",
          "x": 0.16666666666666666,
          "xref": "x6",
          "y": 0.5,
          "yref": "y6"
         },
         {
          "font": {
           "color": "black",
           "family": "Myriad Pro",
           "size": 18
          },
          "showarrow": false,
          "text": "33%",
          "x": 0.5,
          "xref": "x6",
          "y": 0.5,
          "yref": "y6"
         },
         {
          "font": {
           "color": "black",
           "family": "Myriad Pro",
           "size": 18
          },
          "showarrow": false,
          "text": "33%",
          "x": 0.8333333333333333,
          "xref": "x6",
          "y": 0.5,
          "yref": "y6"
         },
         {
          "font": {
           "color": "black",
           "family": "Myriad Pro",
           "size": 18
          },
          "showarrow": false,
          "text": "n = 9",
          "x": 0.5,
          "xref": "x6",
          "y": 0.8,
          "yref": "y6"
         },
         {
          "font": {
           "color": "black",
           "family": "Myriad Pro",
           "size": 18
          },
          "showarrow": false,
          "text": "67%",
          "x": 0.3333333333333333,
          "xref": "x2",
          "y": 0.5,
          "yref": "y2"
         },
         {
          "font": {
           "color": "black",
           "family": "Myriad Pro",
           "size": 18
          },
          "showarrow": false,
          "text": "33%",
          "x": 0.8333333333333333,
          "xref": "x2",
          "y": 0.5,
          "yref": "y2"
         },
         {
          "font": {
           "color": "black",
           "family": "Myriad Pro",
           "size": 18
          },
          "showarrow": false,
          "text": "n = 9",
          "x": 0.5,
          "xref": "x2",
          "y": 0.8,
          "yref": "y2"
         },
         {
          "font": {
           "color": "black",
           "family": "Myriad Pro",
           "size": 18
          },
          "showarrow": false,
          "text": "75%",
          "x": 0.375,
          "xref": "x15",
          "y": 0.5,
          "yref": "y15"
         },
         {
          "font": {
           "color": "black",
           "family": "Myriad Pro",
           "size": 18
          },
          "showarrow": false,
          "text": "25%",
          "x": 0.875,
          "xref": "x15",
          "y": 0.5,
          "yref": "y15"
         },
         {
          "font": {
           "color": "black",
           "family": "Myriad Pro",
           "size": 18
          },
          "showarrow": false,
          "text": "n = 12",
          "x": 0.5,
          "xref": "x15",
          "y": 0.8,
          "yref": "y15"
         },
         {
          "font": {
           "color": "black",
           "family": "Myriad Pro",
           "size": 18
          },
          "showarrow": false,
          "text": "58%",
          "x": 0.2916666666666667,
          "xref": "x11",
          "y": 0.5,
          "yref": "y11"
         },
         {
          "font": {
           "color": "black",
           "family": "Myriad Pro",
           "size": 18
          },
          "showarrow": false,
          "text": "25%",
          "x": 0.7083333333333334,
          "xref": "x11",
          "y": 0.5,
          "yref": "y11"
         },
         {
          "font": {
           "color": "black",
           "family": "Myriad Pro",
           "size": 18
          },
          "showarrow": false,
          "text": "17%",
          "x": 0.9166666666666667,
          "xref": "x11",
          "y": 0.5,
          "yref": "y11"
         },
         {
          "font": {
           "color": "black",
           "family": "Myriad Pro",
           "size": 18
          },
          "showarrow": false,
          "text": "n = 12",
          "x": 0.5,
          "xref": "x11",
          "y": 0.8,
          "yref": "y11"
         },
         {
          "font": {
           "color": "black",
           "family": "Myriad Pro",
           "size": 18
          },
          "showarrow": false,
          "text": "61%",
          "x": 0.3055555555555556,
          "xref": "x7",
          "y": 0.5,
          "yref": "y7"
         },
         {
          "font": {
           "color": "black",
           "family": "Myriad Pro",
           "size": 18
          },
          "showarrow": false,
          "text": "28%",
          "x": 0.75,
          "xref": "x7",
          "y": 0.5,
          "yref": "y7"
         },
         {
          "font": {
           "color": "black",
           "family": "Myriad Pro",
           "size": 18
          },
          "showarrow": false,
          "text": "11%",
          "x": 0.9444444444444444,
          "xref": "x7",
          "y": 0.5,
          "yref": "y7"
         },
         {
          "font": {
           "color": "black",
           "family": "Myriad Pro",
           "size": 18
          },
          "showarrow": false,
          "text": "n = 18",
          "x": 0.5,
          "xref": "x7",
          "y": 0.8,
          "yref": "y7"
         },
         {
          "font": {
           "color": "black",
           "family": "Myriad Pro",
           "size": 18
          },
          "showarrow": false,
          "text": "67%",
          "x": 0.3333333333333333,
          "xref": "x3",
          "y": 0.5,
          "yref": "y3"
         },
         {
          "font": {
           "color": "black",
           "family": "Myriad Pro",
           "size": 18
          },
          "showarrow": false,
          "text": "22%",
          "x": 0.7777777777777777,
          "xref": "x3",
          "y": 0.5,
          "yref": "y3"
         },
         {
          "font": {
           "color": "black",
           "family": "Myriad Pro",
           "size": 18
          },
          "showarrow": false,
          "text": "11%",
          "x": 0.9444444444444444,
          "xref": "x3",
          "y": 0.5,
          "yref": "y3"
         },
         {
          "font": {
           "color": "black",
           "family": "Myriad Pro",
           "size": 18
          },
          "showarrow": false,
          "text": "n = 18",
          "x": 0.5,
          "xref": "x3",
          "y": 0.8,
          "yref": "y3"
         },
         {
          "font": {
           "color": "black",
           "family": "Myriad Pro",
           "size": 18
          },
          "showarrow": false,
          "text": "61%",
          "x": 0.3055555555555556,
          "xref": "x16",
          "y": 0.5,
          "yref": "y16"
         },
         {
          "font": {
           "color": "black",
           "family": "Myriad Pro",
           "size": 18
          },
          "showarrow": false,
          "text": "39%",
          "x": 0.8055555555555556,
          "xref": "x16",
          "y": 0.5,
          "yref": "y16"
         },
         {
          "font": {
           "color": "black",
           "family": "Myriad Pro",
           "size": 18
          },
          "showarrow": false,
          "text": "n = 18",
          "x": 0.5,
          "xref": "x16",
          "y": 0.8,
          "yref": "y16"
         },
         {
          "font": {
           "color": "black",
           "family": "Myriad Pro",
           "size": 18
          },
          "showarrow": false,
          "text": "50%",
          "x": 0.25,
          "xref": "x12",
          "y": 0.5,
          "yref": "y12"
         },
         {
          "font": {
           "color": "black",
           "family": "Myriad Pro",
           "size": 18
          },
          "showarrow": false,
          "text": "50%",
          "x": 0.75,
          "xref": "x12",
          "y": 0.5,
          "yref": "y12"
         },
         {
          "font": {
           "color": "black",
           "family": "Myriad Pro",
           "size": 18
          },
          "showarrow": false,
          "text": "n = 18",
          "x": 0.5,
          "xref": "x12",
          "y": 0.8,
          "yref": "y12"
         },
         {
          "font": {
           "color": "black",
           "family": "Myriad Pro",
           "size": 18
          },
          "showarrow": false,
          "text": "52%",
          "x": 0.25925925925925924,
          "xref": "x8",
          "y": 0.5,
          "yref": "y8"
         },
         {
          "font": {
           "color": "black",
           "family": "Myriad Pro",
           "size": 18
          },
          "showarrow": false,
          "text": "37%",
          "x": 0.7037037037037037,
          "xref": "x8",
          "y": 0.5,
          "yref": "y8"
         },
         {
          "font": {
           "color": "black",
           "family": "Myriad Pro",
           "size": 18
          },
          "showarrow": false,
          "text": "4%",
          "x": 0.9074074074074073,
          "xref": "x8",
          "y": 0.5,
          "yref": "y8"
         },
         {
          "font": {
           "color": "black",
           "family": "Myriad Pro",
           "size": 18
          },
          "showarrow": false,
          "text": "7%",
          "x": 0.9629629629629628,
          "xref": "x8",
          "y": 0.5,
          "yref": "y8"
         },
         {
          "font": {
           "color": "black",
           "family": "Myriad Pro",
           "size": 18
          },
          "showarrow": false,
          "text": "n = 27",
          "x": 0.5,
          "xref": "x8",
          "y": 0.8,
          "yref": "y8"
         },
         {
          "font": {
           "color": "black",
           "family": "Myriad Pro",
           "size": 18
          },
          "showarrow": false,
          "text": "70%",
          "x": 0.35185185185185186,
          "xref": "x4",
          "y": 0.5,
          "yref": "y4"
         },
         {
          "font": {
           "color": "black",
           "family": "Myriad Pro",
           "size": 18
          },
          "showarrow": false,
          "text": "22%",
          "x": 0.8148148148148149,
          "xref": "x4",
          "y": 0.5,
          "yref": "y4"
         },
         {
          "font": {
           "color": "black",
           "family": "Myriad Pro",
           "size": 18
          },
          "showarrow": false,
          "text": "7%",
          "x": 0.962962962962963,
          "xref": "x4",
          "y": 0.5,
          "yref": "y4"
         },
         {
          "font": {
           "color": "black",
           "family": "Myriad Pro",
           "size": 18
          },
          "showarrow": false,
          "text": "n = 27",
          "x": 0.5,
          "xref": "x4",
          "y": 0.8,
          "yref": "y4"
         }
        ],
        "height": 650,
        "legend": {
         "font": {
          "color": "black",
          "family": "Myriad Pro",
          "size": 18
         }
        },
        "template": {
         "data": {
          "bar": [
           {
            "error_x": {
             "color": "#2a3f5f"
            },
            "error_y": {
             "color": "#2a3f5f"
            },
            "marker": {
             "line": {
              "color": "white",
              "width": 0.5
             }
            },
            "type": "bar"
           }
          ],
          "barpolar": [
           {
            "marker": {
             "line": {
              "color": "white",
              "width": 0.5
             }
            },
            "type": "barpolar"
           }
          ],
          "carpet": [
           {
            "aaxis": {
             "endlinecolor": "#2a3f5f",
             "gridcolor": "#C8D4E3",
             "linecolor": "#C8D4E3",
             "minorgridcolor": "#C8D4E3",
             "startlinecolor": "#2a3f5f"
            },
            "baxis": {
             "endlinecolor": "#2a3f5f",
             "gridcolor": "#C8D4E3",
             "linecolor": "#C8D4E3",
             "minorgridcolor": "#C8D4E3",
             "startlinecolor": "#2a3f5f"
            },
            "type": "carpet"
           }
          ],
          "choropleth": [
           {
            "colorbar": {
             "outlinewidth": 0,
             "ticks": ""
            },
            "type": "choropleth"
           }
          ],
          "contour": [
           {
            "colorbar": {
             "outlinewidth": 0,
             "ticks": ""
            },
            "colorscale": [
             [
              0,
              "#0d0887"
             ],
             [
              0.1111111111111111,
              "#46039f"
             ],
             [
              0.2222222222222222,
              "#7201a8"
             ],
             [
              0.3333333333333333,
              "#9c179e"
             ],
             [
              0.4444444444444444,
              "#bd3786"
             ],
             [
              0.5555555555555556,
              "#d8576b"
             ],
             [
              0.6666666666666666,
              "#ed7953"
             ],
             [
              0.7777777777777778,
              "#fb9f3a"
             ],
             [
              0.8888888888888888,
              "#fdca26"
             ],
             [
              1,
              "#f0f921"
             ]
            ],
            "type": "contour"
           }
          ],
          "contourcarpet": [
           {
            "colorbar": {
             "outlinewidth": 0,
             "ticks": ""
            },
            "type": "contourcarpet"
           }
          ],
          "heatmap": [
           {
            "colorbar": {
             "outlinewidth": 0,
             "ticks": ""
            },
            "colorscale": [
             [
              0,
              "#0d0887"
             ],
             [
              0.1111111111111111,
              "#46039f"
             ],
             [
              0.2222222222222222,
              "#7201a8"
             ],
             [
              0.3333333333333333,
              "#9c179e"
             ],
             [
              0.4444444444444444,
              "#bd3786"
             ],
             [
              0.5555555555555556,
              "#d8576b"
             ],
             [
              0.6666666666666666,
              "#ed7953"
             ],
             [
              0.7777777777777778,
              "#fb9f3a"
             ],
             [
              0.8888888888888888,
              "#fdca26"
             ],
             [
              1,
              "#f0f921"
             ]
            ],
            "type": "heatmap"
           }
          ],
          "heatmapgl": [
           {
            "colorbar": {
             "outlinewidth": 0,
             "ticks": ""
            },
            "colorscale": [
             [
              0,
              "#0d0887"
             ],
             [
              0.1111111111111111,
              "#46039f"
             ],
             [
              0.2222222222222222,
              "#7201a8"
             ],
             [
              0.3333333333333333,
              "#9c179e"
             ],
             [
              0.4444444444444444,
              "#bd3786"
             ],
             [
              0.5555555555555556,
              "#d8576b"
             ],
             [
              0.6666666666666666,
              "#ed7953"
             ],
             [
              0.7777777777777778,
              "#fb9f3a"
             ],
             [
              0.8888888888888888,
              "#fdca26"
             ],
             [
              1,
              "#f0f921"
             ]
            ],
            "type": "heatmapgl"
           }
          ],
          "histogram": [
           {
            "marker": {
             "colorbar": {
              "outlinewidth": 0,
              "ticks": ""
             }
            },
            "type": "histogram"
           }
          ],
          "histogram2d": [
           {
            "colorbar": {
             "outlinewidth": 0,
             "ticks": ""
            },
            "colorscale": [
             [
              0,
              "#0d0887"
             ],
             [
              0.1111111111111111,
              "#46039f"
             ],
             [
              0.2222222222222222,
              "#7201a8"
             ],
             [
              0.3333333333333333,
              "#9c179e"
             ],
             [
              0.4444444444444444,
              "#bd3786"
             ],
             [
              0.5555555555555556,
              "#d8576b"
             ],
             [
              0.6666666666666666,
              "#ed7953"
             ],
             [
              0.7777777777777778,
              "#fb9f3a"
             ],
             [
              0.8888888888888888,
              "#fdca26"
             ],
             [
              1,
              "#f0f921"
             ]
            ],
            "type": "histogram2d"
           }
          ],
          "histogram2dcontour": [
           {
            "colorbar": {
             "outlinewidth": 0,
             "ticks": ""
            },
            "colorscale": [
             [
              0,
              "#0d0887"
             ],
             [
              0.1111111111111111,
              "#46039f"
             ],
             [
              0.2222222222222222,
              "#7201a8"
             ],
             [
              0.3333333333333333,
              "#9c179e"
             ],
             [
              0.4444444444444444,
              "#bd3786"
             ],
             [
              0.5555555555555556,
              "#d8576b"
             ],
             [
              0.6666666666666666,
              "#ed7953"
             ],
             [
              0.7777777777777778,
              "#fb9f3a"
             ],
             [
              0.8888888888888888,
              "#fdca26"
             ],
             [
              1,
              "#f0f921"
             ]
            ],
            "type": "histogram2dcontour"
           }
          ],
          "mesh3d": [
           {
            "colorbar": {
             "outlinewidth": 0,
             "ticks": ""
            },
            "type": "mesh3d"
           }
          ],
          "parcoords": [
           {
            "line": {
             "colorbar": {
              "outlinewidth": 0,
              "ticks": ""
             }
            },
            "type": "parcoords"
           }
          ],
          "pie": [
           {
            "automargin": true,
            "type": "pie"
           }
          ],
          "scatter": [
           {
            "marker": {
             "colorbar": {
              "outlinewidth": 0,
              "ticks": ""
             }
            },
            "type": "scatter"
           }
          ],
          "scatter3d": [
           {
            "line": {
             "colorbar": {
              "outlinewidth": 0,
              "ticks": ""
             }
            },
            "marker": {
             "colorbar": {
              "outlinewidth": 0,
              "ticks": ""
             }
            },
            "type": "scatter3d"
           }
          ],
          "scattercarpet": [
           {
            "marker": {
             "colorbar": {
              "outlinewidth": 0,
              "ticks": ""
             }
            },
            "type": "scattercarpet"
           }
          ],
          "scattergeo": [
           {
            "marker": {
             "colorbar": {
              "outlinewidth": 0,
              "ticks": ""
             }
            },
            "type": "scattergeo"
           }
          ],
          "scattergl": [
           {
            "marker": {
             "colorbar": {
              "outlinewidth": 0,
              "ticks": ""
             }
            },
            "type": "scattergl"
           }
          ],
          "scattermapbox": [
           {
            "marker": {
             "colorbar": {
              "outlinewidth": 0,
              "ticks": ""
             }
            },
            "type": "scattermapbox"
           }
          ],
          "scatterpolar": [
           {
            "marker": {
             "colorbar": {
              "outlinewidth": 0,
              "ticks": ""
             }
            },
            "type": "scatterpolar"
           }
          ],
          "scatterpolargl": [
           {
            "marker": {
             "colorbar": {
              "outlinewidth": 0,
              "ticks": ""
             }
            },
            "type": "scatterpolargl"
           }
          ],
          "scatterternary": [
           {
            "marker": {
             "colorbar": {
              "outlinewidth": 0,
              "ticks": ""
             }
            },
            "type": "scatterternary"
           }
          ],
          "surface": [
           {
            "colorbar": {
             "outlinewidth": 0,
             "ticks": ""
            },
            "colorscale": [
             [
              0,
              "#0d0887"
             ],
             [
              0.1111111111111111,
              "#46039f"
             ],
             [
              0.2222222222222222,
              "#7201a8"
             ],
             [
              0.3333333333333333,
              "#9c179e"
             ],
             [
              0.4444444444444444,
              "#bd3786"
             ],
             [
              0.5555555555555556,
              "#d8576b"
             ],
             [
              0.6666666666666666,
              "#ed7953"
             ],
             [
              0.7777777777777778,
              "#fb9f3a"
             ],
             [
              0.8888888888888888,
              "#fdca26"
             ],
             [
              1,
              "#f0f921"
             ]
            ],
            "type": "surface"
           }
          ],
          "table": [
           {
            "cells": {
             "fill": {
              "color": "#EBF0F8"
             },
             "line": {
              "color": "white"
             }
            },
            "header": {
             "fill": {
              "color": "#C8D4E3"
             },
             "line": {
              "color": "white"
             }
            },
            "type": "table"
           }
          ]
         },
         "layout": {
          "annotationdefaults": {
           "arrowcolor": "#2a3f5f",
           "arrowhead": 0,
           "arrowwidth": 1
          },
          "autotypenumbers": "strict",
          "coloraxis": {
           "colorbar": {
            "outlinewidth": 0,
            "ticks": ""
           }
          },
          "colorscale": {
           "diverging": [
            [
             0,
             "#8e0152"
            ],
            [
             0.1,
             "#c51b7d"
            ],
            [
             0.2,
             "#de77ae"
            ],
            [
             0.3,
             "#f1b6da"
            ],
            [
             0.4,
             "#fde0ef"
            ],
            [
             0.5,
             "#f7f7f7"
            ],
            [
             0.6,
             "#e6f5d0"
            ],
            [
             0.7,
             "#b8e186"
            ],
            [
             0.8,
             "#7fbc41"
            ],
            [
             0.9,
             "#4d9221"
            ],
            [
             1,
             "#276419"
            ]
           ],
           "sequential": [
            [
             0,
             "#0d0887"
            ],
            [
             0.1111111111111111,
             "#46039f"
            ],
            [
             0.2222222222222222,
             "#7201a8"
            ],
            [
             0.3333333333333333,
             "#9c179e"
            ],
            [
             0.4444444444444444,
             "#bd3786"
            ],
            [
             0.5555555555555556,
             "#d8576b"
            ],
            [
             0.6666666666666666,
             "#ed7953"
            ],
            [
             0.7777777777777778,
             "#fb9f3a"
            ],
            [
             0.8888888888888888,
             "#fdca26"
            ],
            [
             1,
             "#f0f921"
            ]
           ],
           "sequentialminus": [
            [
             0,
             "#0d0887"
            ],
            [
             0.1111111111111111,
             "#46039f"
            ],
            [
             0.2222222222222222,
             "#7201a8"
            ],
            [
             0.3333333333333333,
             "#9c179e"
            ],
            [
             0.4444444444444444,
             "#bd3786"
            ],
            [
             0.5555555555555556,
             "#d8576b"
            ],
            [
             0.6666666666666666,
             "#ed7953"
            ],
            [
             0.7777777777777778,
             "#fb9f3a"
            ],
            [
             0.8888888888888888,
             "#fdca26"
            ],
            [
             1,
             "#f0f921"
            ]
           ]
          },
          "colorway": [
           "#636efa",
           "#EF553B",
           "#00cc96",
           "#ab63fa",
           "#FFA15A",
           "#19d3f3",
           "#FF6692",
           "#B6E880",
           "#FF97FF",
           "#FECB52"
          ],
          "font": {
           "color": "#2a3f5f"
          },
          "geo": {
           "bgcolor": "white",
           "lakecolor": "white",
           "landcolor": "white",
           "showlakes": true,
           "showland": true,
           "subunitcolor": "#C8D4E3"
          },
          "hoverlabel": {
           "align": "left"
          },
          "hovermode": "closest",
          "mapbox": {
           "style": "light"
          },
          "paper_bgcolor": "white",
          "plot_bgcolor": "white",
          "polar": {
           "angularaxis": {
            "gridcolor": "#EBF0F8",
            "linecolor": "#EBF0F8",
            "ticks": ""
           },
           "bgcolor": "white",
           "radialaxis": {
            "gridcolor": "#EBF0F8",
            "linecolor": "#EBF0F8",
            "ticks": ""
           }
          },
          "scene": {
           "xaxis": {
            "backgroundcolor": "white",
            "gridcolor": "#DFE8F3",
            "gridwidth": 2,
            "linecolor": "#EBF0F8",
            "showbackground": true,
            "ticks": "",
            "zerolinecolor": "#EBF0F8"
           },
           "yaxis": {
            "backgroundcolor": "white",
            "gridcolor": "#DFE8F3",
            "gridwidth": 2,
            "linecolor": "#EBF0F8",
            "showbackground": true,
            "ticks": "",
            "zerolinecolor": "#EBF0F8"
           },
           "zaxis": {
            "backgroundcolor": "white",
            "gridcolor": "#DFE8F3",
            "gridwidth": 2,
            "linecolor": "#EBF0F8",
            "showbackground": true,
            "ticks": "",
            "zerolinecolor": "#EBF0F8"
           }
          },
          "shapedefaults": {
           "line": {
            "color": "#2a3f5f"
           }
          },
          "ternary": {
           "aaxis": {
            "gridcolor": "#DFE8F3",
            "linecolor": "#A2B1C6",
            "ticks": ""
           },
           "baxis": {
            "gridcolor": "#DFE8F3",
            "linecolor": "#A2B1C6",
            "ticks": ""
           },
           "bgcolor": "white",
           "caxis": {
            "gridcolor": "#DFE8F3",
            "linecolor": "#A2B1C6",
            "ticks": ""
           }
          },
          "title": {
           "x": 0.05
          },
          "xaxis": {
           "automargin": true,
           "gridcolor": "#EBF0F8",
           "linecolor": "#EBF0F8",
           "ticks": "",
           "title": {
            "standoff": 15
           },
           "zerolinecolor": "#EBF0F8",
           "zerolinewidth": 2
          },
          "yaxis": {
           "automargin": true,
           "gridcolor": "#EBF0F8",
           "linecolor": "#EBF0F8",
           "ticks": "",
           "title": {
            "standoff": 15
           },
           "zerolinecolor": "#EBF0F8",
           "zerolinewidth": 2
          }
         }
        },
        "title": {
         "font": {
          "color": "black",
          "family": "Myriad Pro",
          "size": 18
         },
         "text": "Single Trials"
        },
        "width": 750,
        "xaxis": {
         "anchor": "y",
         "domain": [
          0,
          0.24625
         ],
         "linecolor": "black",
         "linewidth": 1,
         "mirror": true,
         "nticks": 10,
         "range": [
          0,
          1
         ],
         "showgrid": true,
         "showline": true,
         "showticklabels": false,
         "tickangle": 0,
         "tickcolor": "black",
         "tickfont": {
          "color": "black",
          "family": "Myriad Pro",
          "size": 18
         },
         "ticklen": 0,
         "ticks": "outside",
         "title": {
          "font": {
           "color": "black",
           "family": "Myriad Pro",
           "size": 24
          },
          "standoff": 10
         },
         "zeroline": false
        },
        "xaxis10": {
         "anchor": "y10",
         "domain": [
          0.25125,
          0.49749999999999994
         ],
         "linecolor": "black",
         "linewidth": 1,
         "mirror": true,
         "nticks": 10,
         "range": [
          0,
          1
         ],
         "showgrid": true,
         "showline": true,
         "showticklabels": false,
         "tickangle": 0,
         "tickcolor": "black",
         "tickfont": {
          "color": "black",
          "family": "Myriad Pro",
          "size": 18
         },
         "ticklen": 0,
         "ticks": "outside",
         "title": {
          "font": {
           "color": "black",
           "family": "Myriad Pro",
           "size": 24
          },
          "standoff": 10
         },
         "zeroline": false
        },
        "xaxis11": {
         "anchor": "y11",
         "domain": [
          0.5025,
          0.7487499999999999
         ],
         "linecolor": "black",
         "linewidth": 1,
         "mirror": true,
         "nticks": 10,
         "range": [
          0,
          1
         ],
         "showgrid": true,
         "showline": true,
         "showticklabels": false,
         "tickangle": 0,
         "tickcolor": "black",
         "tickfont": {
          "color": "black",
          "family": "Myriad Pro",
          "size": 18
         },
         "ticklen": 0,
         "ticks": "outside",
         "title": {
          "font": {
           "color": "black",
           "family": "Myriad Pro",
           "size": 24
          },
          "standoff": 10
         },
         "zeroline": false
        },
        "xaxis12": {
         "anchor": "y12",
         "domain": [
          0.75375,
          1
         ],
         "linecolor": "black",
         "linewidth": 1,
         "mirror": true,
         "nticks": 10,
         "range": [
          0,
          1
         ],
         "showgrid": true,
         "showline": true,
         "showticklabels": false,
         "tickangle": 0,
         "tickcolor": "black",
         "tickfont": {
          "color": "black",
          "family": "Myriad Pro",
          "size": 18
         },
         "ticklen": 0,
         "ticks": "outside",
         "title": {
          "font": {
           "color": "black",
           "family": "Myriad Pro",
           "size": 24
          },
          "standoff": 10
         },
         "zeroline": false
        },
        "xaxis13": {
         "anchor": "y13",
         "domain": [
          0,
          0.24625
         ],
         "linecolor": "black",
         "linewidth": 1,
         "mirror": true,
         "nticks": 10,
         "range": [
          0,
          1
         ],
         "showgrid": true,
         "showline": true,
         "showticklabels": false,
         "tickangle": 0,
         "tickcolor": "black",
         "tickfont": {
          "color": "black",
          "family": "Myriad Pro",
          "size": 18
         },
         "ticklen": 0,
         "ticks": "outside",
         "title": {
          "font": {
           "color": "black",
           "family": "Myriad Pro",
           "size": 24
          },
          "standoff": 10,
          "text": "No Tag"
         },
         "zeroline": false
        },
        "xaxis14": {
         "anchor": "y14",
         "domain": [
          0.25125,
          0.49749999999999994
         ],
         "linecolor": "black",
         "linewidth": 1,
         "mirror": true,
         "nticks": 10,
         "range": [
          0,
          1
         ],
         "showgrid": true,
         "showline": true,
         "showticklabels": false,
         "tickangle": 0,
         "tickcolor": "black",
         "tickfont": {
          "color": "black",
          "family": "Myriad Pro",
          "size": 18
         },
         "ticklen": 0,
         "ticks": "outside",
         "title": {
          "font": {
           "color": "black",
           "family": "Myriad Pro",
           "size": 24
          },
          "standoff": 10,
          "text": "DAS Tag"
         },
         "zeroline": false
        },
        "xaxis15": {
         "anchor": "y15",
         "domain": [
          0.5025,
          0.7487499999999999
         ],
         "linecolor": "black",
         "linewidth": 1,
         "mirror": true,
         "nticks": 10,
         "range": [
          0,
          1
         ],
         "showgrid": true,
         "showline": true,
         "showticklabels": false,
         "tickangle": 0,
         "tickcolor": "black",
         "tickfont": {
          "color": "black",
          "family": "Myriad Pro",
          "size": 18
         },
         "ticklen": 0,
         "ticks": "outside",
         "title": {
          "font": {
           "color": "black",
           "family": "Myriad Pro",
           "size": 24
          },
          "standoff": 10,
          "text": "DAS+2 Tag"
         },
         "zeroline": false
        },
        "xaxis16": {
         "anchor": "y16",
         "domain": [
          0.75375,
          1
         ],
         "linecolor": "black",
         "linewidth": 1,
         "mirror": true,
         "nticks": 10,
         "range": [
          0,
          1
         ],
         "showgrid": true,
         "showline": true,
         "showticklabels": false,
         "tickangle": 0,
         "tickcolor": "black",
         "tickfont": {
          "color": "black",
          "family": "Myriad Pro",
          "size": 18
         },
         "ticklen": 0,
         "ticks": "outside",
         "title": {
          "font": {
           "color": "black",
           "family": "Myriad Pro",
           "size": 24
          },
          "standoff": 10,
          "text": "LAA Tag"
         },
         "zeroline": false
        },
        "xaxis2": {
         "anchor": "y2",
         "domain": [
          0.25125,
          0.49749999999999994
         ],
         "linecolor": "black",
         "linewidth": 1,
         "mirror": true,
         "nticks": 10,
         "range": [
          0,
          1
         ],
         "showgrid": true,
         "showline": true,
         "showticklabels": false,
         "tickangle": 0,
         "tickcolor": "black",
         "tickfont": {
          "color": "black",
          "family": "Myriad Pro",
          "size": 18
         },
         "ticklen": 0,
         "ticks": "outside",
         "title": {
          "font": {
           "color": "black",
           "family": "Myriad Pro",
           "size": 24
          },
          "standoff": 10
         },
         "zeroline": false
        },
        "xaxis3": {
         "anchor": "y3",
         "domain": [
          0.5025,
          0.7487499999999999
         ],
         "linecolor": "black",
         "linewidth": 1,
         "mirror": true,
         "nticks": 10,
         "range": [
          0,
          1
         ],
         "showgrid": true,
         "showline": true,
         "showticklabels": false,
         "tickangle": 0,
         "tickcolor": "black",
         "tickfont": {
          "color": "black",
          "family": "Myriad Pro",
          "size": 18
         },
         "ticklen": 0,
         "ticks": "outside",
         "title": {
          "font": {
           "color": "black",
           "family": "Myriad Pro",
           "size": 24
          },
          "standoff": 10
         },
         "zeroline": false
        },
        "xaxis4": {
         "anchor": "y4",
         "domain": [
          0.75375,
          1
         ],
         "linecolor": "black",
         "linewidth": 1,
         "mirror": true,
         "nticks": 10,
         "range": [
          0,
          1
         ],
         "showgrid": true,
         "showline": true,
         "showticklabels": false,
         "tickangle": 0,
         "tickcolor": "black",
         "tickfont": {
          "color": "black",
          "family": "Myriad Pro",
          "size": 18
         },
         "ticklen": 0,
         "ticks": "outside",
         "title": {
          "font": {
           "color": "black",
           "family": "Myriad Pro",
           "size": 24
          },
          "standoff": 10
         },
         "zeroline": false
        },
        "xaxis5": {
         "anchor": "y5",
         "domain": [
          0,
          0.24625
         ],
         "linecolor": "black",
         "linewidth": 1,
         "mirror": true,
         "nticks": 10,
         "range": [
          0,
          1
         ],
         "showgrid": true,
         "showline": true,
         "showticklabels": false,
         "tickangle": 0,
         "tickcolor": "black",
         "tickfont": {
          "color": "black",
          "family": "Myriad Pro",
          "size": 18
         },
         "ticklen": 0,
         "ticks": "outside",
         "title": {
          "font": {
           "color": "black",
           "family": "Myriad Pro",
           "size": 24
          },
          "standoff": 10
         },
         "zeroline": false
        },
        "xaxis6": {
         "anchor": "y6",
         "domain": [
          0.25125,
          0.49749999999999994
         ],
         "linecolor": "black",
         "linewidth": 1,
         "mirror": true,
         "nticks": 10,
         "range": [
          0,
          1
         ],
         "showgrid": true,
         "showline": true,
         "showticklabels": false,
         "tickangle": 0,
         "tickcolor": "black",
         "tickfont": {
          "color": "black",
          "family": "Myriad Pro",
          "size": 18
         },
         "ticklen": 0,
         "ticks": "outside",
         "title": {
          "font": {
           "color": "black",
           "family": "Myriad Pro",
           "size": 24
          },
          "standoff": 10
         },
         "zeroline": false
        },
        "xaxis7": {
         "anchor": "y7",
         "domain": [
          0.5025,
          0.7487499999999999
         ],
         "linecolor": "black",
         "linewidth": 1,
         "mirror": true,
         "nticks": 10,
         "range": [
          0,
          1
         ],
         "showgrid": true,
         "showline": true,
         "showticklabels": false,
         "tickangle": 0,
         "tickcolor": "black",
         "tickfont": {
          "color": "black",
          "family": "Myriad Pro",
          "size": 18
         },
         "ticklen": 0,
         "ticks": "outside",
         "title": {
          "font": {
           "color": "black",
           "family": "Myriad Pro",
           "size": 24
          },
          "standoff": 10
         },
         "zeroline": false
        },
        "xaxis8": {
         "anchor": "y8",
         "domain": [
          0.75375,
          1
         ],
         "linecolor": "black",
         "linewidth": 1,
         "mirror": true,
         "nticks": 10,
         "range": [
          0,
          1
         ],
         "showgrid": true,
         "showline": true,
         "showticklabels": false,
         "tickangle": 0,
         "tickcolor": "black",
         "tickfont": {
          "color": "black",
          "family": "Myriad Pro",
          "size": 18
         },
         "ticklen": 0,
         "ticks": "outside",
         "title": {
          "font": {
           "color": "black",
           "family": "Myriad Pro",
           "size": 24
          },
          "standoff": 10
         },
         "zeroline": false
        },
        "xaxis9": {
         "anchor": "y9",
         "domain": [
          0,
          0.24625
         ],
         "linecolor": "black",
         "linewidth": 1,
         "mirror": true,
         "nticks": 10,
         "range": [
          0,
          1
         ],
         "showgrid": true,
         "showline": true,
         "showticklabels": false,
         "tickangle": 0,
         "tickcolor": "black",
         "tickfont": {
          "color": "black",
          "family": "Myriad Pro",
          "size": 18
         },
         "ticklen": 0,
         "ticks": "outside",
         "title": {
          "font": {
           "color": "black",
           "family": "Myriad Pro",
           "size": 24
          },
          "standoff": 10
         },
         "zeroline": false
        },
        "yaxis": {
         "anchor": "x",
         "domain": [
          0.75375,
          1
         ],
         "linecolor": "black",
         "linewidth": 1,
         "mirror": true,
         "nticks": 10,
         "range": [
          0,
          1
         ],
         "showgrid": true,
         "showline": true,
         "showticklabels": false,
         "tickangle": 0,
         "tickcolor": "black",
         "tickfont": {
          "color": "black",
          "family": "Myriad Pro",
          "size": 18
         },
         "ticklen": 0,
         "ticks": "outside",
         "title": {
          "font": {
           "color": "black",
           "family": "Myriad Pro",
           "size": 24
          },
          "standoff": 0,
          "text": "LAA Tag"
         },
         "zeroline": false
        },
        "yaxis10": {
         "anchor": "x10",
         "domain": [
          0.25125,
          0.49749999999999994
         ],
         "linecolor": "black",
         "linewidth": 1,
         "mirror": true,
         "nticks": 10,
         "range": [
          0,
          1
         ],
         "showgrid": true,
         "showline": true,
         "showticklabels": false,
         "tickangle": 0,
         "tickcolor": "black",
         "tickfont": {
          "color": "black",
          "family": "Myriad Pro",
          "size": 18
         },
         "ticklen": 0,
         "ticks": "outside",
         "title": {
          "font": {
           "color": "black",
           "family": "Myriad Pro",
           "size": 24
          },
          "standoff": 0
         },
         "zeroline": false
        },
        "yaxis11": {
         "anchor": "x11",
         "domain": [
          0.25125,
          0.49749999999999994
         ],
         "linecolor": "black",
         "linewidth": 1,
         "mirror": true,
         "nticks": 10,
         "range": [
          0,
          1
         ],
         "showgrid": true,
         "showline": true,
         "showticklabels": false,
         "tickangle": 0,
         "tickcolor": "black",
         "tickfont": {
          "color": "black",
          "family": "Myriad Pro",
          "size": 18
         },
         "ticklen": 0,
         "ticks": "outside",
         "title": {
          "font": {
           "color": "black",
           "family": "Myriad Pro",
           "size": 24
          },
          "standoff": 0
         },
         "zeroline": false
        },
        "yaxis12": {
         "anchor": "x12",
         "domain": [
          0.25125,
          0.49749999999999994
         ],
         "linecolor": "black",
         "linewidth": 1,
         "mirror": true,
         "nticks": 10,
         "range": [
          0,
          1
         ],
         "showgrid": true,
         "showline": true,
         "showticklabels": false,
         "tickangle": 0,
         "tickcolor": "black",
         "tickfont": {
          "color": "black",
          "family": "Myriad Pro",
          "size": 18
         },
         "ticklen": 0,
         "ticks": "outside",
         "title": {
          "font": {
           "color": "black",
           "family": "Myriad Pro",
           "size": 24
          },
          "standoff": 0
         },
         "zeroline": false
        },
        "yaxis13": {
         "anchor": "x13",
         "domain": [
          0,
          0.24625
         ],
         "linecolor": "black",
         "linewidth": 1,
         "mirror": true,
         "nticks": 10,
         "range": [
          0,
          1
         ],
         "showgrid": true,
         "showline": true,
         "showticklabels": false,
         "tickangle": 0,
         "tickcolor": "black",
         "tickfont": {
          "color": "black",
          "family": "Myriad Pro",
          "size": 18
         },
         "ticklen": 0,
         "ticks": "outside",
         "title": {
          "font": {
           "color": "black",
           "family": "Myriad Pro",
           "size": 24
          },
          "standoff": 0,
          "text": "No Tag"
         },
         "zeroline": false
        },
        "yaxis14": {
         "anchor": "x14",
         "domain": [
          0,
          0.24625
         ],
         "linecolor": "black",
         "linewidth": 1,
         "mirror": true,
         "nticks": 10,
         "range": [
          0,
          1
         ],
         "showgrid": true,
         "showline": true,
         "showticklabels": false,
         "tickangle": 0,
         "tickcolor": "black",
         "tickfont": {
          "color": "black",
          "family": "Myriad Pro",
          "size": 18
         },
         "ticklen": 0,
         "ticks": "outside",
         "title": {
          "font": {
           "color": "black",
           "family": "Myriad Pro",
           "size": 24
          },
          "standoff": 0
         },
         "zeroline": false
        },
        "yaxis15": {
         "anchor": "x15",
         "domain": [
          0,
          0.24625
         ],
         "linecolor": "black",
         "linewidth": 1,
         "mirror": true,
         "nticks": 10,
         "range": [
          0,
          1
         ],
         "showgrid": true,
         "showline": true,
         "showticklabels": false,
         "tickangle": 0,
         "tickcolor": "black",
         "tickfont": {
          "color": "black",
          "family": "Myriad Pro",
          "size": 18
         },
         "ticklen": 0,
         "ticks": "outside",
         "title": {
          "font": {
           "color": "black",
           "family": "Myriad Pro",
           "size": 24
          },
          "standoff": 0
         },
         "zeroline": false
        },
        "yaxis16": {
         "anchor": "x16",
         "domain": [
          0,
          0.24625
         ],
         "linecolor": "black",
         "linewidth": 1,
         "mirror": true,
         "nticks": 10,
         "range": [
          0,
          1
         ],
         "showgrid": true,
         "showline": true,
         "showticklabels": false,
         "tickangle": 0,
         "tickcolor": "black",
         "tickfont": {
          "color": "black",
          "family": "Myriad Pro",
          "size": 18
         },
         "ticklen": 0,
         "ticks": "outside",
         "title": {
          "font": {
           "color": "black",
           "family": "Myriad Pro",
           "size": 24
          },
          "standoff": 0
         },
         "zeroline": false
        },
        "yaxis2": {
         "anchor": "x2",
         "domain": [
          0.75375,
          1
         ],
         "linecolor": "black",
         "linewidth": 1,
         "mirror": true,
         "nticks": 10,
         "range": [
          0,
          1
         ],
         "showgrid": true,
         "showline": true,
         "showticklabels": false,
         "tickangle": 0,
         "tickcolor": "black",
         "tickfont": {
          "color": "black",
          "family": "Myriad Pro",
          "size": 18
         },
         "ticklen": 0,
         "ticks": "outside",
         "title": {
          "font": {
           "color": "black",
           "family": "Myriad Pro",
           "size": 24
          },
          "standoff": 0
         },
         "zeroline": false
        },
        "yaxis3": {
         "anchor": "x3",
         "domain": [
          0.75375,
          1
         ],
         "linecolor": "black",
         "linewidth": 1,
         "mirror": true,
         "nticks": 10,
         "range": [
          0,
          1
         ],
         "showgrid": true,
         "showline": true,
         "showticklabels": false,
         "tickangle": 0,
         "tickcolor": "black",
         "tickfont": {
          "color": "black",
          "family": "Myriad Pro",
          "size": 18
         },
         "ticklen": 0,
         "ticks": "outside",
         "title": {
          "font": {
           "color": "black",
           "family": "Myriad Pro",
           "size": 24
          },
          "standoff": 0
         },
         "zeroline": false
        },
        "yaxis4": {
         "anchor": "x4",
         "domain": [
          0.75375,
          1
         ],
         "linecolor": "black",
         "linewidth": 1,
         "mirror": true,
         "nticks": 10,
         "range": [
          0,
          1
         ],
         "showgrid": true,
         "showline": true,
         "showticklabels": false,
         "tickangle": 0,
         "tickcolor": "black",
         "tickfont": {
          "color": "black",
          "family": "Myriad Pro",
          "size": 18
         },
         "ticklen": 0,
         "ticks": "outside",
         "title": {
          "font": {
           "color": "black",
           "family": "Myriad Pro",
           "size": 24
          },
          "standoff": 0
         },
         "zeroline": false
        },
        "yaxis5": {
         "anchor": "x5",
         "domain": [
          0.5025,
          0.7487499999999999
         ],
         "linecolor": "black",
         "linewidth": 1,
         "mirror": true,
         "nticks": 10,
         "range": [
          0,
          1
         ],
         "showgrid": true,
         "showline": true,
         "showticklabels": false,
         "tickangle": 0,
         "tickcolor": "black",
         "tickfont": {
          "color": "black",
          "family": "Myriad Pro",
          "size": 18
         },
         "ticklen": 0,
         "ticks": "outside",
         "title": {
          "font": {
           "color": "black",
           "family": "Myriad Pro",
           "size": 24
          },
          "standoff": 0,
          "text": "DAS+2 Tag"
         },
         "zeroline": false
        },
        "yaxis6": {
         "anchor": "x6",
         "domain": [
          0.5025,
          0.7487499999999999
         ],
         "linecolor": "black",
         "linewidth": 1,
         "mirror": true,
         "nticks": 10,
         "range": [
          0,
          1
         ],
         "showgrid": true,
         "showline": true,
         "showticklabels": false,
         "tickangle": 0,
         "tickcolor": "black",
         "tickfont": {
          "color": "black",
          "family": "Myriad Pro",
          "size": 18
         },
         "ticklen": 0,
         "ticks": "outside",
         "title": {
          "font": {
           "color": "black",
           "family": "Myriad Pro",
           "size": 24
          },
          "standoff": 0
         },
         "zeroline": false
        },
        "yaxis7": {
         "anchor": "x7",
         "domain": [
          0.5025,
          0.7487499999999999
         ],
         "linecolor": "black",
         "linewidth": 1,
         "mirror": true,
         "nticks": 10,
         "range": [
          0,
          1
         ],
         "showgrid": true,
         "showline": true,
         "showticklabels": false,
         "tickangle": 0,
         "tickcolor": "black",
         "tickfont": {
          "color": "black",
          "family": "Myriad Pro",
          "size": 18
         },
         "ticklen": 0,
         "ticks": "outside",
         "title": {
          "font": {
           "color": "black",
           "family": "Myriad Pro",
           "size": 24
          },
          "standoff": 0
         },
         "zeroline": false
        },
        "yaxis8": {
         "anchor": "x8",
         "domain": [
          0.5025,
          0.7487499999999999
         ],
         "linecolor": "black",
         "linewidth": 1,
         "mirror": true,
         "nticks": 10,
         "range": [
          0,
          1
         ],
         "showgrid": true,
         "showline": true,
         "showticklabels": false,
         "tickangle": 0,
         "tickcolor": "black",
         "tickfont": {
          "color": "black",
          "family": "Myriad Pro",
          "size": 18
         },
         "ticklen": 0,
         "ticks": "outside",
         "title": {
          "font": {
           "color": "black",
           "family": "Myriad Pro",
           "size": 24
          },
          "standoff": 0
         },
         "zeroline": false
        },
        "yaxis9": {
         "anchor": "x9",
         "domain": [
          0.25125,
          0.49749999999999994
         ],
         "linecolor": "black",
         "linewidth": 1,
         "mirror": true,
         "nticks": 10,
         "range": [
          0,
          1
         ],
         "showgrid": true,
         "showline": true,
         "showticklabels": false,
         "tickangle": 0,
         "tickcolor": "black",
         "tickfont": {
          "color": "black",
          "family": "Myriad Pro",
          "size": 18
         },
         "ticklen": 0,
         "ticks": "outside",
         "title": {
          "font": {
           "color": "black",
           "family": "Myriad Pro",
           "size": 24
          },
          "standoff": 0,
          "text": "DAS Tag"
         },
         "zeroline": false
        }
       }
      },
      "text/html": [
       "<div>                            <div id=\"8124384b-6378-44ce-a9a9-4f22017c21fc\" class=\"plotly-graph-div\" style=\"height:650px; width:750px;\"></div>            <script type=\"text/javascript\">                require([\"plotly\"], function(Plotly) {                    window.PLOTLYENV=window.PLOTLYENV || {};                                    if (document.getElementById(\"8124384b-6378-44ce-a9a9-4f22017c21fc\")) {                    Plotly.newPlot(                        \"8124384b-6378-44ce-a9a9-4f22017c21fc\",                        [{\"fill\": \"tonextx\", \"fillcolor\": \"rgb(73,143,201)\", \"legendgroup\": \"bistable\", \"line\": {\"width\": 0}, \"mode\": \"lines\", \"name\": \"Bistable\", \"showlegend\": true, \"type\": \"scatter\", \"x\": [0.875, 0.875, 0.875, 0.875, 0.875, 0.875, 0.875, 0.875, 0.875, 0.875], \"xaxis\": \"x13\", \"y\": [0.0, 0.1111111111111111, 0.2222222222222222, 0.3333333333333333, 0.4444444444444444, 0.5555555555555556, 0.6666666666666666, 0.7777777777777777, 0.8888888888888888, 1.0], \"yaxis\": \"y13\"}, {\"fill\": \"tonextx\", \"fillcolor\": \"rgb(205,92,98)\", \"legendgroup\": \"tet_stable\", \"line\": {\"width\": 0}, \"mode\": \"lines\", \"name\": \"Monostable Tet\", \"showlegend\": true, \"type\": \"scatter\", \"x\": [1.0, 1.0, 1.0, 1.0, 1.0, 1.0, 1.0, 1.0, 1.0, 1.0], \"xaxis\": \"x13\", \"y\": [0.0, 0.1111111111111111, 0.2222222222222222, 0.3333333333333333, 0.4444444444444444, 0.5555555555555556, 0.6666666666666666, 0.7777777777777777, 0.8888888888888888, 1.0], \"yaxis\": \"y13\"}, {\"fill\": \"tonextx\", \"fillcolor\": \"rgb(89,185,92)\", \"legendgroup\": \"lac_stable\", \"line\": {\"width\": 0}, \"mode\": \"lines\", \"name\": \"Monostable Lac\", \"showlegend\": true, \"type\": \"scatter\", \"x\": [1.0, 1.0, 1.0, 1.0, 1.0, 1.0, 1.0, 1.0, 1.0, 1.0], \"xaxis\": \"x13\", \"y\": [0.0, 0.1111111111111111, 0.2222222222222222, 0.3333333333333333, 0.4444444444444444, 0.5555555555555556, 0.6666666666666666, 0.7777777777777777, 0.8888888888888888, 1.0], \"yaxis\": \"y13\"}, {\"fill\": \"tonextx\", \"fillcolor\": \"rgb(109,109,109)\", \"legendgroup\": \"unstable\", \"line\": {\"width\": 0}, \"mode\": \"lines\", \"name\": \"Unstable\", \"showlegend\": true, \"type\": \"scatter\", \"x\": [1.0, 1.0, 1.0, 1.0, 1.0, 1.0, 1.0, 1.0, 1.0, 1.0], \"xaxis\": \"x13\", \"y\": [0.0, 0.1111111111111111, 0.2222222222222222, 0.3333333333333333, 0.4444444444444444, 0.5555555555555556, 0.6666666666666666, 0.7777777777777777, 0.8888888888888888, 1.0], \"yaxis\": \"y13\"}, {\"fill\": \"tonextx\", \"fillcolor\": \"rgb(73,143,201)\", \"legendgroup\": \"bistable\", \"line\": {\"width\": 0}, \"mode\": \"lines\", \"name\": \"Bistable\", \"showlegend\": false, \"type\": \"scatter\", \"x\": [0.7916666666666666, 0.7916666666666666, 0.7916666666666666, 0.7916666666666666, 0.7916666666666666, 0.7916666666666666, 0.7916666666666666, 0.7916666666666666, 0.7916666666666666, 0.7916666666666666], \"xaxis\": \"x9\", \"y\": [0.0, 0.1111111111111111, 0.2222222222222222, 0.3333333333333333, 0.4444444444444444, 0.5555555555555556, 0.6666666666666666, 0.7777777777777777, 0.8888888888888888, 1.0], \"yaxis\": \"y9\"}, {\"fill\": \"tonextx\", \"fillcolor\": \"rgb(205,92,98)\", \"legendgroup\": \"tet_stable\", \"line\": {\"width\": 0}, \"mode\": \"lines\", \"name\": \"Monostable Tet\", \"showlegend\": false, \"type\": \"scatter\", \"x\": [0.875, 0.875, 0.875, 0.875, 0.875, 0.875, 0.875, 0.875, 0.875, 0.875], \"xaxis\": \"x9\", \"y\": [0.0, 0.1111111111111111, 0.2222222222222222, 0.3333333333333333, 0.4444444444444444, 0.5555555555555556, 0.6666666666666666, 0.7777777777777777, 0.8888888888888888, 1.0], \"yaxis\": \"y9\"}, {\"fill\": \"tonextx\", \"fillcolor\": \"rgb(89,185,92)\", \"legendgroup\": \"lac_stable\", \"line\": {\"width\": 0}, \"mode\": \"lines\", \"name\": \"Monostable Lac\", \"showlegend\": false, \"type\": \"scatter\", \"x\": [1.0, 1.0, 1.0, 1.0, 1.0, 1.0, 1.0, 1.0, 1.0, 1.0], \"xaxis\": \"x9\", \"y\": [0.0, 0.1111111111111111, 0.2222222222222222, 0.3333333333333333, 0.4444444444444444, 0.5555555555555556, 0.6666666666666666, 0.7777777777777777, 0.8888888888888888, 1.0], \"yaxis\": \"y9\"}, {\"fill\": \"tonextx\", \"fillcolor\": \"rgb(109,109,109)\", \"legendgroup\": \"unstable\", \"line\": {\"width\": 0}, \"mode\": \"lines\", \"name\": \"Unstable\", \"showlegend\": false, \"type\": \"scatter\", \"x\": [1.0, 1.0, 1.0, 1.0, 1.0, 1.0, 1.0, 1.0, 1.0, 1.0], \"xaxis\": \"x9\", \"y\": [0.0, 0.1111111111111111, 0.2222222222222222, 0.3333333333333333, 0.4444444444444444, 0.5555555555555556, 0.6666666666666666, 0.7777777777777777, 0.8888888888888888, 1.0], \"yaxis\": \"y9\"}, {\"fill\": \"tonextx\", \"fillcolor\": \"rgb(73,143,201)\", \"legendgroup\": \"bistable\", \"line\": {\"width\": 0}, \"mode\": \"lines\", \"name\": \"Bistable\", \"showlegend\": false, \"type\": \"scatter\", \"x\": [0.5555555555555556, 0.5555555555555556, 0.5555555555555556, 0.5555555555555556, 0.5555555555555556, 0.5555555555555556, 0.5555555555555556, 0.5555555555555556, 0.5555555555555556, 0.5555555555555556], \"xaxis\": \"x5\", \"y\": [0.0, 0.1111111111111111, 0.2222222222222222, 0.3333333333333333, 0.4444444444444444, 0.5555555555555556, 0.6666666666666666, 0.7777777777777777, 0.8888888888888888, 1.0], \"yaxis\": \"y5\"}, {\"fill\": \"tonextx\", \"fillcolor\": \"rgb(205,92,98)\", \"legendgroup\": \"tet_stable\", \"line\": {\"width\": 0}, \"mode\": \"lines\", \"name\": \"Monostable Tet\", \"showlegend\": false, \"type\": \"scatter\", \"x\": [0.5555555555555556, 0.5555555555555556, 0.5555555555555556, 0.5555555555555556, 0.5555555555555556, 0.5555555555555556, 0.5555555555555556, 0.5555555555555556, 0.5555555555555556, 0.5555555555555556], \"xaxis\": \"x5\", \"y\": [0.0, 0.1111111111111111, 0.2222222222222222, 0.3333333333333333, 0.4444444444444444, 0.5555555555555556, 0.6666666666666666, 0.7777777777777777, 0.8888888888888888, 1.0], \"yaxis\": \"y5\"}, {\"fill\": \"tonextx\", \"fillcolor\": \"rgb(89,185,92)\", \"legendgroup\": \"lac_stable\", \"line\": {\"width\": 0}, \"mode\": \"lines\", \"name\": \"Monostable Lac\", \"showlegend\": false, \"type\": \"scatter\", \"x\": [1.0, 1.0, 1.0, 1.0, 1.0, 1.0, 1.0, 1.0, 1.0, 1.0], \"xaxis\": \"x5\", \"y\": [0.0, 0.1111111111111111, 0.2222222222222222, 0.3333333333333333, 0.4444444444444444, 0.5555555555555556, 0.6666666666666666, 0.7777777777777777, 0.8888888888888888, 1.0], \"yaxis\": \"y5\"}, {\"fill\": \"tonextx\", \"fillcolor\": \"rgb(109,109,109)\", \"legendgroup\": \"unstable\", \"line\": {\"width\": 0}, \"mode\": \"lines\", \"name\": \"Unstable\", \"showlegend\": false, \"type\": \"scatter\", \"x\": [1.0, 1.0, 1.0, 1.0, 1.0, 1.0, 1.0, 1.0, 1.0, 1.0], \"xaxis\": \"x5\", \"y\": [0.0, 0.1111111111111111, 0.2222222222222222, 0.3333333333333333, 0.4444444444444444, 0.5555555555555556, 0.6666666666666666, 0.7777777777777777, 0.8888888888888888, 1.0], \"yaxis\": \"y5\"}, {\"fill\": \"tonextx\", \"fillcolor\": \"rgb(73,143,201)\", \"legendgroup\": \"bistable\", \"line\": {\"width\": 0}, \"mode\": \"lines\", \"name\": \"Bistable\", \"showlegend\": false, \"type\": \"scatter\", \"x\": [0.6388888888888888, 0.6388888888888888, 0.6388888888888888, 0.6388888888888888, 0.6388888888888888, 0.6388888888888888, 0.6388888888888888, 0.6388888888888888, 0.6388888888888888, 0.6388888888888888], \"xaxis\": \"x\", \"y\": [0.0, 0.1111111111111111, 0.2222222222222222, 0.3333333333333333, 0.4444444444444444, 0.5555555555555556, 0.6666666666666666, 0.7777777777777777, 0.8888888888888888, 1.0], \"yaxis\": \"y\"}, {\"fill\": \"tonextx\", \"fillcolor\": \"rgb(205,92,98)\", \"legendgroup\": \"tet_stable\", \"line\": {\"width\": 0}, \"mode\": \"lines\", \"name\": \"Monostable Tet\", \"showlegend\": false, \"type\": \"scatter\", \"x\": [0.6388888888888888, 0.6388888888888888, 0.6388888888888888, 0.6388888888888888, 0.6388888888888888, 0.6388888888888888, 0.6388888888888888, 0.6388888888888888, 0.6388888888888888, 0.6388888888888888], \"xaxis\": \"x\", \"y\": [0.0, 0.1111111111111111, 0.2222222222222222, 0.3333333333333333, 0.4444444444444444, 0.5555555555555556, 0.6666666666666666, 0.7777777777777777, 0.8888888888888888, 1.0], \"yaxis\": \"y\"}, {\"fill\": \"tonextx\", \"fillcolor\": \"rgb(89,185,92)\", \"legendgroup\": \"lac_stable\", \"line\": {\"width\": 0}, \"mode\": \"lines\", \"name\": \"Monostable Lac\", \"showlegend\": false, \"type\": \"scatter\", \"x\": [0.9444444444444444, 0.9444444444444444, 0.9444444444444444, 0.9444444444444444, 0.9444444444444444, 0.9444444444444444, 0.9444444444444444, 0.9444444444444444, 0.9444444444444444, 0.9444444444444444], \"xaxis\": \"x\", \"y\": [0.0, 0.1111111111111111, 0.2222222222222222, 0.3333333333333333, 0.4444444444444444, 0.5555555555555556, 0.6666666666666666, 0.7777777777777777, 0.8888888888888888, 1.0], \"yaxis\": \"y\"}, {\"fill\": \"tonextx\", \"fillcolor\": \"rgb(109,109,109)\", \"legendgroup\": \"unstable\", \"line\": {\"width\": 0}, \"mode\": \"lines\", \"name\": \"Unstable\", \"showlegend\": false, \"type\": \"scatter\", \"x\": [1.0, 1.0, 1.0, 1.0, 1.0, 1.0, 1.0, 1.0, 1.0, 1.0], \"xaxis\": \"x\", \"y\": [0.0, 0.1111111111111111, 0.2222222222222222, 0.3333333333333333, 0.4444444444444444, 0.5555555555555556, 0.6666666666666666, 0.7777777777777777, 0.8888888888888888, 1.0], \"yaxis\": \"y\"}, {\"fill\": \"tonextx\", \"fillcolor\": \"rgb(73,143,201)\", \"legendgroup\": \"bistable\", \"line\": {\"width\": 0}, \"mode\": \"lines\", \"name\": \"Bistable\", \"showlegend\": false, \"type\": \"scatter\", \"x\": [0.5, 0.5, 0.5, 0.5, 0.5, 0.5, 0.5, 0.5, 0.5, 0.5], \"xaxis\": \"x14\", \"y\": [0.0, 0.1111111111111111, 0.2222222222222222, 0.3333333333333333, 0.4444444444444444, 0.5555555555555556, 0.6666666666666666, 0.7777777777777777, 0.8888888888888888, 1.0], \"yaxis\": \"y14\"}, {\"fill\": \"tonextx\", \"fillcolor\": \"rgb(205,92,98)\", \"legendgroup\": \"tet_stable\", \"line\": {\"width\": 0}, \"mode\": \"lines\", \"name\": \"Monostable Tet\", \"showlegend\": false, \"type\": \"scatter\", \"x\": [1.0, 1.0, 1.0, 1.0, 1.0, 1.0, 1.0, 1.0, 1.0, 1.0], \"xaxis\": \"x14\", \"y\": [0.0, 0.1111111111111111, 0.2222222222222222, 0.3333333333333333, 0.4444444444444444, 0.5555555555555556, 0.6666666666666666, 0.7777777777777777, 0.8888888888888888, 1.0], \"yaxis\": \"y14\"}, {\"fill\": \"tonextx\", \"fillcolor\": \"rgb(89,185,92)\", \"legendgroup\": \"lac_stable\", \"line\": {\"width\": 0}, \"mode\": \"lines\", \"name\": \"Monostable Lac\", \"showlegend\": false, \"type\": \"scatter\", \"x\": [1.0, 1.0, 1.0, 1.0, 1.0, 1.0, 1.0, 1.0, 1.0, 1.0], \"xaxis\": \"x14\", \"y\": [0.0, 0.1111111111111111, 0.2222222222222222, 0.3333333333333333, 0.4444444444444444, 0.5555555555555556, 0.6666666666666666, 0.7777777777777777, 0.8888888888888888, 1.0], \"yaxis\": \"y14\"}, {\"fill\": \"tonextx\", \"fillcolor\": \"rgb(109,109,109)\", \"legendgroup\": \"unstable\", \"line\": {\"width\": 0}, \"mode\": \"lines\", \"name\": \"Unstable\", \"showlegend\": false, \"type\": \"scatter\", \"x\": [1.0, 1.0, 1.0, 1.0, 1.0, 1.0, 1.0, 1.0, 1.0, 1.0], \"xaxis\": \"x14\", \"y\": [0.0, 0.1111111111111111, 0.2222222222222222, 0.3333333333333333, 0.4444444444444444, 0.5555555555555556, 0.6666666666666666, 0.7777777777777777, 0.8888888888888888, 1.0], \"yaxis\": \"y14\"}, {\"fill\": \"tonextx\", \"fillcolor\": \"rgb(73,143,201)\", \"legendgroup\": \"bistable\", \"line\": {\"width\": 0}, \"mode\": \"lines\", \"name\": \"Bistable\", \"showlegend\": false, \"type\": \"scatter\", \"x\": [0.5, 0.5, 0.5, 0.5, 0.5, 0.5, 0.5, 0.5, 0.5, 0.5], \"xaxis\": \"x10\", \"y\": [0.0, 0.1111111111111111, 0.2222222222222222, 0.3333333333333333, 0.4444444444444444, 0.5555555555555556, 0.6666666666666666, 0.7777777777777777, 0.8888888888888888, 1.0], \"yaxis\": \"y10\"}, {\"fill\": \"tonextx\", \"fillcolor\": \"rgb(205,92,98)\", \"legendgroup\": \"tet_stable\", \"line\": {\"width\": 0}, \"mode\": \"lines\", \"name\": \"Monostable Tet\", \"showlegend\": false, \"type\": \"scatter\", \"x\": [1.0, 1.0, 1.0, 1.0, 1.0, 1.0, 1.0, 1.0, 1.0, 1.0], \"xaxis\": \"x10\", \"y\": [0.0, 0.1111111111111111, 0.2222222222222222, 0.3333333333333333, 0.4444444444444444, 0.5555555555555556, 0.6666666666666666, 0.7777777777777777, 0.8888888888888888, 1.0], \"yaxis\": \"y10\"}, {\"fill\": \"tonextx\", \"fillcolor\": \"rgb(89,185,92)\", \"legendgroup\": \"lac_stable\", \"line\": {\"width\": 0}, \"mode\": \"lines\", \"name\": \"Monostable Lac\", \"showlegend\": false, \"type\": \"scatter\", \"x\": [1.0, 1.0, 1.0, 1.0, 1.0, 1.0, 1.0, 1.0, 1.0, 1.0], \"xaxis\": \"x10\", \"y\": [0.0, 0.1111111111111111, 0.2222222222222222, 0.3333333333333333, 0.4444444444444444, 0.5555555555555556, 0.6666666666666666, 0.7777777777777777, 0.8888888888888888, 1.0], \"yaxis\": \"y10\"}, {\"fill\": \"tonextx\", \"fillcolor\": \"rgb(109,109,109)\", \"legendgroup\": \"unstable\", \"line\": {\"width\": 0}, \"mode\": \"lines\", \"name\": \"Unstable\", \"showlegend\": false, \"type\": \"scatter\", \"x\": [1.0, 1.0, 1.0, 1.0, 1.0, 1.0, 1.0, 1.0, 1.0, 1.0], \"xaxis\": \"x10\", \"y\": [0.0, 0.1111111111111111, 0.2222222222222222, 0.3333333333333333, 0.4444444444444444, 0.5555555555555556, 0.6666666666666666, 0.7777777777777777, 0.8888888888888888, 1.0], \"yaxis\": \"y10\"}, {\"fill\": \"tonextx\", \"fillcolor\": \"rgb(73,143,201)\", \"legendgroup\": \"bistable\", \"line\": {\"width\": 0}, \"mode\": \"lines\", \"name\": \"Bistable\", \"showlegend\": false, \"type\": \"scatter\", \"x\": [0.3333333333333333, 0.3333333333333333, 0.3333333333333333, 0.3333333333333333, 0.3333333333333333, 0.3333333333333333, 0.3333333333333333, 0.3333333333333333, 0.3333333333333333, 0.3333333333333333], \"xaxis\": \"x6\", \"y\": [0.0, 0.1111111111111111, 0.2222222222222222, 0.3333333333333333, 0.4444444444444444, 0.5555555555555556, 0.6666666666666666, 0.7777777777777777, 0.8888888888888888, 1.0], \"yaxis\": \"y6\"}, {\"fill\": \"tonextx\", \"fillcolor\": \"rgb(205,92,98)\", \"legendgroup\": \"tet_stable\", \"line\": {\"width\": 0}, \"mode\": \"lines\", \"name\": \"Monostable Tet\", \"showlegend\": false, \"type\": \"scatter\", \"x\": [0.3333333333333333, 0.3333333333333333, 0.3333333333333333, 0.3333333333333333, 0.3333333333333333, 0.3333333333333333, 0.3333333333333333, 0.3333333333333333, 0.3333333333333333, 0.3333333333333333], \"xaxis\": \"x6\", \"y\": [0.0, 0.1111111111111111, 0.2222222222222222, 0.3333333333333333, 0.4444444444444444, 0.5555555555555556, 0.6666666666666666, 0.7777777777777777, 0.8888888888888888, 1.0], \"yaxis\": \"y6\"}, {\"fill\": \"tonextx\", \"fillcolor\": \"rgb(89,185,92)\", \"legendgroup\": \"lac_stable\", \"line\": {\"width\": 0}, \"mode\": \"lines\", \"name\": \"Monostable Lac\", \"showlegend\": false, \"type\": \"scatter\", \"x\": [0.6666666666666666, 0.6666666666666666, 0.6666666666666666, 0.6666666666666666, 0.6666666666666666, 0.6666666666666666, 0.6666666666666666, 0.6666666666666666, 0.6666666666666666, 0.6666666666666666], \"xaxis\": \"x6\", \"y\": [0.0, 0.1111111111111111, 0.2222222222222222, 0.3333333333333333, 0.4444444444444444, 0.5555555555555556, 0.6666666666666666, 0.7777777777777777, 0.8888888888888888, 1.0], \"yaxis\": \"y6\"}, {\"fill\": \"tonextx\", \"fillcolor\": \"rgb(109,109,109)\", \"legendgroup\": \"unstable\", \"line\": {\"width\": 0}, \"mode\": \"lines\", \"name\": \"Unstable\", \"showlegend\": false, \"type\": \"scatter\", \"x\": [1.0, 1.0, 1.0, 1.0, 1.0, 1.0, 1.0, 1.0, 1.0, 1.0], \"xaxis\": \"x6\", \"y\": [0.0, 0.1111111111111111, 0.2222222222222222, 0.3333333333333333, 0.4444444444444444, 0.5555555555555556, 0.6666666666666666, 0.7777777777777777, 0.8888888888888888, 1.0], \"yaxis\": \"y6\"}, {\"fill\": \"tonextx\", \"fillcolor\": \"rgb(73,143,201)\", \"legendgroup\": \"bistable\", \"line\": {\"width\": 0}, \"mode\": \"lines\", \"name\": \"Bistable\", \"showlegend\": false, \"type\": \"scatter\", \"x\": [0.6666666666666666, 0.6666666666666666, 0.6666666666666666, 0.6666666666666666, 0.6666666666666666, 0.6666666666666666, 0.6666666666666666, 0.6666666666666666, 0.6666666666666666, 0.6666666666666666], \"xaxis\": \"x2\", \"y\": [0.0, 0.1111111111111111, 0.2222222222222222, 0.3333333333333333, 0.4444444444444444, 0.5555555555555556, 0.6666666666666666, 0.7777777777777777, 0.8888888888888888, 1.0], \"yaxis\": \"y2\"}, {\"fill\": \"tonextx\", \"fillcolor\": \"rgb(205,92,98)\", \"legendgroup\": \"tet_stable\", \"line\": {\"width\": 0}, \"mode\": \"lines\", \"name\": \"Monostable Tet\", \"showlegend\": false, \"type\": \"scatter\", \"x\": [0.6666666666666666, 0.6666666666666666, 0.6666666666666666, 0.6666666666666666, 0.6666666666666666, 0.6666666666666666, 0.6666666666666666, 0.6666666666666666, 0.6666666666666666, 0.6666666666666666], \"xaxis\": \"x2\", \"y\": [0.0, 0.1111111111111111, 0.2222222222222222, 0.3333333333333333, 0.4444444444444444, 0.5555555555555556, 0.6666666666666666, 0.7777777777777777, 0.8888888888888888, 1.0], \"yaxis\": \"y2\"}, {\"fill\": \"tonextx\", \"fillcolor\": \"rgb(89,185,92)\", \"legendgroup\": \"lac_stable\", \"line\": {\"width\": 0}, \"mode\": \"lines\", \"name\": \"Monostable Lac\", \"showlegend\": false, \"type\": \"scatter\", \"x\": [1.0, 1.0, 1.0, 1.0, 1.0, 1.0, 1.0, 1.0, 1.0, 1.0], \"xaxis\": \"x2\", \"y\": [0.0, 0.1111111111111111, 0.2222222222222222, 0.3333333333333333, 0.4444444444444444, 0.5555555555555556, 0.6666666666666666, 0.7777777777777777, 0.8888888888888888, 1.0], \"yaxis\": \"y2\"}, {\"fill\": \"tonextx\", \"fillcolor\": \"rgb(109,109,109)\", \"legendgroup\": \"unstable\", \"line\": {\"width\": 0}, \"mode\": \"lines\", \"name\": \"Unstable\", \"showlegend\": false, \"type\": \"scatter\", \"x\": [1.0, 1.0, 1.0, 1.0, 1.0, 1.0, 1.0, 1.0, 1.0, 1.0], \"xaxis\": \"x2\", \"y\": [0.0, 0.1111111111111111, 0.2222222222222222, 0.3333333333333333, 0.4444444444444444, 0.5555555555555556, 0.6666666666666666, 0.7777777777777777, 0.8888888888888888, 1.0], \"yaxis\": \"y2\"}, {\"fill\": \"tonextx\", \"fillcolor\": \"rgb(73,143,201)\", \"legendgroup\": \"bistable\", \"line\": {\"width\": 0}, \"mode\": \"lines\", \"name\": \"Bistable\", \"showlegend\": false, \"type\": \"scatter\", \"x\": [0.75, 0.75, 0.75, 0.75, 0.75, 0.75, 0.75, 0.75, 0.75, 0.75], \"xaxis\": \"x15\", \"y\": [0.0, 0.1111111111111111, 0.2222222222222222, 0.3333333333333333, 0.4444444444444444, 0.5555555555555556, 0.6666666666666666, 0.7777777777777777, 0.8888888888888888, 1.0], \"yaxis\": \"y15\"}, {\"fill\": \"tonextx\", \"fillcolor\": \"rgb(205,92,98)\", \"legendgroup\": \"tet_stable\", \"line\": {\"width\": 0}, \"mode\": \"lines\", \"name\": \"Monostable Tet\", \"showlegend\": false, \"type\": \"scatter\", \"x\": [1.0, 1.0, 1.0, 1.0, 1.0, 1.0, 1.0, 1.0, 1.0, 1.0], \"xaxis\": \"x15\", \"y\": [0.0, 0.1111111111111111, 0.2222222222222222, 0.3333333333333333, 0.4444444444444444, 0.5555555555555556, 0.6666666666666666, 0.7777777777777777, 0.8888888888888888, 1.0], \"yaxis\": \"y15\"}, {\"fill\": \"tonextx\", \"fillcolor\": \"rgb(89,185,92)\", \"legendgroup\": \"lac_stable\", \"line\": {\"width\": 0}, \"mode\": \"lines\", \"name\": \"Monostable Lac\", \"showlegend\": false, \"type\": \"scatter\", \"x\": [1.0, 1.0, 1.0, 1.0, 1.0, 1.0, 1.0, 1.0, 1.0, 1.0], \"xaxis\": \"x15\", \"y\": [0.0, 0.1111111111111111, 0.2222222222222222, 0.3333333333333333, 0.4444444444444444, 0.5555555555555556, 0.6666666666666666, 0.7777777777777777, 0.8888888888888888, 1.0], \"yaxis\": \"y15\"}, {\"fill\": \"tonextx\", \"fillcolor\": \"rgb(109,109,109)\", \"legendgroup\": \"unstable\", \"line\": {\"width\": 0}, \"mode\": \"lines\", \"name\": \"Unstable\", \"showlegend\": false, \"type\": \"scatter\", \"x\": [1.0, 1.0, 1.0, 1.0, 1.0, 1.0, 1.0, 1.0, 1.0, 1.0], \"xaxis\": \"x15\", \"y\": [0.0, 0.1111111111111111, 0.2222222222222222, 0.3333333333333333, 0.4444444444444444, 0.5555555555555556, 0.6666666666666666, 0.7777777777777777, 0.8888888888888888, 1.0], \"yaxis\": \"y15\"}, {\"fill\": \"tonextx\", \"fillcolor\": \"rgb(73,143,201)\", \"legendgroup\": \"bistable\", \"line\": {\"width\": 0}, \"mode\": \"lines\", \"name\": \"Bistable\", \"showlegend\": false, \"type\": \"scatter\", \"x\": [0.5833333333333334, 0.5833333333333334, 0.5833333333333334, 0.5833333333333334, 0.5833333333333334, 0.5833333333333334, 0.5833333333333334, 0.5833333333333334, 0.5833333333333334, 0.5833333333333334], \"xaxis\": \"x11\", \"y\": [0.0, 0.1111111111111111, 0.2222222222222222, 0.3333333333333333, 0.4444444444444444, 0.5555555555555556, 0.6666666666666666, 0.7777777777777777, 0.8888888888888888, 1.0], \"yaxis\": \"y11\"}, {\"fill\": \"tonextx\", \"fillcolor\": \"rgb(205,92,98)\", \"legendgroup\": \"tet_stable\", \"line\": {\"width\": 0}, \"mode\": \"lines\", \"name\": \"Monostable Tet\", \"showlegend\": false, \"type\": \"scatter\", \"x\": [0.8333333333333334, 0.8333333333333334, 0.8333333333333334, 0.8333333333333334, 0.8333333333333334, 0.8333333333333334, 0.8333333333333334, 0.8333333333333334, 0.8333333333333334, 0.8333333333333334], \"xaxis\": \"x11\", \"y\": [0.0, 0.1111111111111111, 0.2222222222222222, 0.3333333333333333, 0.4444444444444444, 0.5555555555555556, 0.6666666666666666, 0.7777777777777777, 0.8888888888888888, 1.0], \"yaxis\": \"y11\"}, {\"fill\": \"tonextx\", \"fillcolor\": \"rgb(89,185,92)\", \"legendgroup\": \"lac_stable\", \"line\": {\"width\": 0}, \"mode\": \"lines\", \"name\": \"Monostable Lac\", \"showlegend\": false, \"type\": \"scatter\", \"x\": [1.0, 1.0, 1.0, 1.0, 1.0, 1.0, 1.0, 1.0, 1.0, 1.0], \"xaxis\": \"x11\", \"y\": [0.0, 0.1111111111111111, 0.2222222222222222, 0.3333333333333333, 0.4444444444444444, 0.5555555555555556, 0.6666666666666666, 0.7777777777777777, 0.8888888888888888, 1.0], \"yaxis\": \"y11\"}, {\"fill\": \"tonextx\", \"fillcolor\": \"rgb(109,109,109)\", \"legendgroup\": \"unstable\", \"line\": {\"width\": 0}, \"mode\": \"lines\", \"name\": \"Unstable\", \"showlegend\": false, \"type\": \"scatter\", \"x\": [1.0, 1.0, 1.0, 1.0, 1.0, 1.0, 1.0, 1.0, 1.0, 1.0], \"xaxis\": \"x11\", \"y\": [0.0, 0.1111111111111111, 0.2222222222222222, 0.3333333333333333, 0.4444444444444444, 0.5555555555555556, 0.6666666666666666, 0.7777777777777777, 0.8888888888888888, 1.0], \"yaxis\": \"y11\"}, {\"fill\": \"tonextx\", \"fillcolor\": \"rgb(73,143,201)\", \"legendgroup\": \"bistable\", \"line\": {\"width\": 0}, \"mode\": \"lines\", \"name\": \"Bistable\", \"showlegend\": false, \"type\": \"scatter\", \"x\": [0.6111111111111112, 0.6111111111111112, 0.6111111111111112, 0.6111111111111112, 0.6111111111111112, 0.6111111111111112, 0.6111111111111112, 0.6111111111111112, 0.6111111111111112, 0.6111111111111112], \"xaxis\": \"x7\", \"y\": [0.0, 0.1111111111111111, 0.2222222222222222, 0.3333333333333333, 0.4444444444444444, 0.5555555555555556, 0.6666666666666666, 0.7777777777777777, 0.8888888888888888, 1.0], \"yaxis\": \"y7\"}, {\"fill\": \"tonextx\", \"fillcolor\": \"rgb(205,92,98)\", \"legendgroup\": \"tet_stable\", \"line\": {\"width\": 0}, \"mode\": \"lines\", \"name\": \"Monostable Tet\", \"showlegend\": false, \"type\": \"scatter\", \"x\": [0.6111111111111112, 0.6111111111111112, 0.6111111111111112, 0.6111111111111112, 0.6111111111111112, 0.6111111111111112, 0.6111111111111112, 0.6111111111111112, 0.6111111111111112, 0.6111111111111112], \"xaxis\": \"x7\", \"y\": [0.0, 0.1111111111111111, 0.2222222222222222, 0.3333333333333333, 0.4444444444444444, 0.5555555555555556, 0.6666666666666666, 0.7777777777777777, 0.8888888888888888, 1.0], \"yaxis\": \"y7\"}, {\"fill\": \"tonextx\", \"fillcolor\": \"rgb(89,185,92)\", \"legendgroup\": \"lac_stable\", \"line\": {\"width\": 0}, \"mode\": \"lines\", \"name\": \"Monostable Lac\", \"showlegend\": false, \"type\": \"scatter\", \"x\": [0.888888888888889, 0.888888888888889, 0.888888888888889, 0.888888888888889, 0.888888888888889, 0.888888888888889, 0.888888888888889, 0.888888888888889, 0.888888888888889, 0.888888888888889], \"xaxis\": \"x7\", \"y\": [0.0, 0.1111111111111111, 0.2222222222222222, 0.3333333333333333, 0.4444444444444444, 0.5555555555555556, 0.6666666666666666, 0.7777777777777777, 0.8888888888888888, 1.0], \"yaxis\": \"y7\"}, {\"fill\": \"tonextx\", \"fillcolor\": \"rgb(109,109,109)\", \"legendgroup\": \"unstable\", \"line\": {\"width\": 0}, \"mode\": \"lines\", \"name\": \"Unstable\", \"showlegend\": false, \"type\": \"scatter\", \"x\": [1.0, 1.0, 1.0, 1.0, 1.0, 1.0, 1.0, 1.0, 1.0, 1.0], \"xaxis\": \"x7\", \"y\": [0.0, 0.1111111111111111, 0.2222222222222222, 0.3333333333333333, 0.4444444444444444, 0.5555555555555556, 0.6666666666666666, 0.7777777777777777, 0.8888888888888888, 1.0], \"yaxis\": \"y7\"}, {\"fill\": \"tonextx\", \"fillcolor\": \"rgb(73,143,201)\", \"legendgroup\": \"bistable\", \"line\": {\"width\": 0}, \"mode\": \"lines\", \"name\": \"Bistable\", \"showlegend\": false, \"type\": \"scatter\", \"x\": [0.6666666666666666, 0.6666666666666666, 0.6666666666666666, 0.6666666666666666, 0.6666666666666666, 0.6666666666666666, 0.6666666666666666, 0.6666666666666666, 0.6666666666666666, 0.6666666666666666], \"xaxis\": \"x3\", \"y\": [0.0, 0.1111111111111111, 0.2222222222222222, 0.3333333333333333, 0.4444444444444444, 0.5555555555555556, 0.6666666666666666, 0.7777777777777777, 0.8888888888888888, 1.0], \"yaxis\": \"y3\"}, {\"fill\": \"tonextx\", \"fillcolor\": \"rgb(205,92,98)\", \"legendgroup\": \"tet_stable\", \"line\": {\"width\": 0}, \"mode\": \"lines\", \"name\": \"Monostable Tet\", \"showlegend\": false, \"type\": \"scatter\", \"x\": [0.6666666666666666, 0.6666666666666666, 0.6666666666666666, 0.6666666666666666, 0.6666666666666666, 0.6666666666666666, 0.6666666666666666, 0.6666666666666666, 0.6666666666666666, 0.6666666666666666], \"xaxis\": \"x3\", \"y\": [0.0, 0.1111111111111111, 0.2222222222222222, 0.3333333333333333, 0.4444444444444444, 0.5555555555555556, 0.6666666666666666, 0.7777777777777777, 0.8888888888888888, 1.0], \"yaxis\": \"y3\"}, {\"fill\": \"tonextx\", \"fillcolor\": \"rgb(89,185,92)\", \"legendgroup\": \"lac_stable\", \"line\": {\"width\": 0}, \"mode\": \"lines\", \"name\": \"Monostable Lac\", \"showlegend\": false, \"type\": \"scatter\", \"x\": [0.8888888888888888, 0.8888888888888888, 0.8888888888888888, 0.8888888888888888, 0.8888888888888888, 0.8888888888888888, 0.8888888888888888, 0.8888888888888888, 0.8888888888888888, 0.8888888888888888], \"xaxis\": \"x3\", \"y\": [0.0, 0.1111111111111111, 0.2222222222222222, 0.3333333333333333, 0.4444444444444444, 0.5555555555555556, 0.6666666666666666, 0.7777777777777777, 0.8888888888888888, 1.0], \"yaxis\": \"y3\"}, {\"fill\": \"tonextx\", \"fillcolor\": \"rgb(109,109,109)\", \"legendgroup\": \"unstable\", \"line\": {\"width\": 0}, \"mode\": \"lines\", \"name\": \"Unstable\", \"showlegend\": false, \"type\": \"scatter\", \"x\": [1.0, 1.0, 1.0, 1.0, 1.0, 1.0, 1.0, 1.0, 1.0, 1.0], \"xaxis\": \"x3\", \"y\": [0.0, 0.1111111111111111, 0.2222222222222222, 0.3333333333333333, 0.4444444444444444, 0.5555555555555556, 0.6666666666666666, 0.7777777777777777, 0.8888888888888888, 1.0], \"yaxis\": \"y3\"}, {\"fill\": \"tonextx\", \"fillcolor\": \"rgb(73,143,201)\", \"legendgroup\": \"bistable\", \"line\": {\"width\": 0}, \"mode\": \"lines\", \"name\": \"Bistable\", \"showlegend\": false, \"type\": \"scatter\", \"x\": [0.6111111111111112, 0.6111111111111112, 0.6111111111111112, 0.6111111111111112, 0.6111111111111112, 0.6111111111111112, 0.6111111111111112, 0.6111111111111112, 0.6111111111111112, 0.6111111111111112], \"xaxis\": \"x16\", \"y\": [0.0, 0.1111111111111111, 0.2222222222222222, 0.3333333333333333, 0.4444444444444444, 0.5555555555555556, 0.6666666666666666, 0.7777777777777777, 0.8888888888888888, 1.0], \"yaxis\": \"y16\"}, {\"fill\": \"tonextx\", \"fillcolor\": \"rgb(205,92,98)\", \"legendgroup\": \"tet_stable\", \"line\": {\"width\": 0}, \"mode\": \"lines\", \"name\": \"Monostable Tet\", \"showlegend\": false, \"type\": \"scatter\", \"x\": [1.0, 1.0, 1.0, 1.0, 1.0, 1.0, 1.0, 1.0, 1.0, 1.0], \"xaxis\": \"x16\", \"y\": [0.0, 0.1111111111111111, 0.2222222222222222, 0.3333333333333333, 0.4444444444444444, 0.5555555555555556, 0.6666666666666666, 0.7777777777777777, 0.8888888888888888, 1.0], \"yaxis\": \"y16\"}, {\"fill\": \"tonextx\", \"fillcolor\": \"rgb(89,185,92)\", \"legendgroup\": \"lac_stable\", \"line\": {\"width\": 0}, \"mode\": \"lines\", \"name\": \"Monostable Lac\", \"showlegend\": false, \"type\": \"scatter\", \"x\": [1.0, 1.0, 1.0, 1.0, 1.0, 1.0, 1.0, 1.0, 1.0, 1.0], \"xaxis\": \"x16\", \"y\": [0.0, 0.1111111111111111, 0.2222222222222222, 0.3333333333333333, 0.4444444444444444, 0.5555555555555556, 0.6666666666666666, 0.7777777777777777, 0.8888888888888888, 1.0], \"yaxis\": \"y16\"}, {\"fill\": \"tonextx\", \"fillcolor\": \"rgb(109,109,109)\", \"legendgroup\": \"unstable\", \"line\": {\"width\": 0}, \"mode\": \"lines\", \"name\": \"Unstable\", \"showlegend\": false, \"type\": \"scatter\", \"x\": [1.0, 1.0, 1.0, 1.0, 1.0, 1.0, 1.0, 1.0, 1.0, 1.0], \"xaxis\": \"x16\", \"y\": [0.0, 0.1111111111111111, 0.2222222222222222, 0.3333333333333333, 0.4444444444444444, 0.5555555555555556, 0.6666666666666666, 0.7777777777777777, 0.8888888888888888, 1.0], \"yaxis\": \"y16\"}, {\"fill\": \"tonextx\", \"fillcolor\": \"rgb(73,143,201)\", \"legendgroup\": \"bistable\", \"line\": {\"width\": 0}, \"mode\": \"lines\", \"name\": \"Bistable\", \"showlegend\": false, \"type\": \"scatter\", \"x\": [0.5, 0.5, 0.5, 0.5, 0.5, 0.5, 0.5, 0.5, 0.5, 0.5], \"xaxis\": \"x12\", \"y\": [0.0, 0.1111111111111111, 0.2222222222222222, 0.3333333333333333, 0.4444444444444444, 0.5555555555555556, 0.6666666666666666, 0.7777777777777777, 0.8888888888888888, 1.0], \"yaxis\": \"y12\"}, {\"fill\": \"tonextx\", \"fillcolor\": \"rgb(205,92,98)\", \"legendgroup\": \"tet_stable\", \"line\": {\"width\": 0}, \"mode\": \"lines\", \"name\": \"Monostable Tet\", \"showlegend\": false, \"type\": \"scatter\", \"x\": [1.0, 1.0, 1.0, 1.0, 1.0, 1.0, 1.0, 1.0, 1.0, 1.0], \"xaxis\": \"x12\", \"y\": [0.0, 0.1111111111111111, 0.2222222222222222, 0.3333333333333333, 0.4444444444444444, 0.5555555555555556, 0.6666666666666666, 0.7777777777777777, 0.8888888888888888, 1.0], \"yaxis\": \"y12\"}, {\"fill\": \"tonextx\", \"fillcolor\": \"rgb(89,185,92)\", \"legendgroup\": \"lac_stable\", \"line\": {\"width\": 0}, \"mode\": \"lines\", \"name\": \"Monostable Lac\", \"showlegend\": false, \"type\": \"scatter\", \"x\": [1.0, 1.0, 1.0, 1.0, 1.0, 1.0, 1.0, 1.0, 1.0, 1.0], \"xaxis\": \"x12\", \"y\": [0.0, 0.1111111111111111, 0.2222222222222222, 0.3333333333333333, 0.4444444444444444, 0.5555555555555556, 0.6666666666666666, 0.7777777777777777, 0.8888888888888888, 1.0], \"yaxis\": \"y12\"}, {\"fill\": \"tonextx\", \"fillcolor\": \"rgb(109,109,109)\", \"legendgroup\": \"unstable\", \"line\": {\"width\": 0}, \"mode\": \"lines\", \"name\": \"Unstable\", \"showlegend\": false, \"type\": \"scatter\", \"x\": [1.0, 1.0, 1.0, 1.0, 1.0, 1.0, 1.0, 1.0, 1.0, 1.0], \"xaxis\": \"x12\", \"y\": [0.0, 0.1111111111111111, 0.2222222222222222, 0.3333333333333333, 0.4444444444444444, 0.5555555555555556, 0.6666666666666666, 0.7777777777777777, 0.8888888888888888, 1.0], \"yaxis\": \"y12\"}, {\"fill\": \"tonextx\", \"fillcolor\": \"rgb(73,143,201)\", \"legendgroup\": \"bistable\", \"line\": {\"width\": 0}, \"mode\": \"lines\", \"name\": \"Bistable\", \"showlegend\": false, \"type\": \"scatter\", \"x\": [0.5185185185185185, 0.5185185185185185, 0.5185185185185185, 0.5185185185185185, 0.5185185185185185, 0.5185185185185185, 0.5185185185185185, 0.5185185185185185, 0.5185185185185185, 0.5185185185185185], \"xaxis\": \"x8\", \"y\": [0.0, 0.1111111111111111, 0.2222222222222222, 0.3333333333333333, 0.4444444444444444, 0.5555555555555556, 0.6666666666666666, 0.7777777777777777, 0.8888888888888888, 1.0], \"yaxis\": \"y8\"}, {\"fill\": \"tonextx\", \"fillcolor\": \"rgb(205,92,98)\", \"legendgroup\": \"tet_stable\", \"line\": {\"width\": 0}, \"mode\": \"lines\", \"name\": \"Monostable Tet\", \"showlegend\": false, \"type\": \"scatter\", \"x\": [0.8888888888888888, 0.8888888888888888, 0.8888888888888888, 0.8888888888888888, 0.8888888888888888, 0.8888888888888888, 0.8888888888888888, 0.8888888888888888, 0.8888888888888888, 0.8888888888888888], \"xaxis\": \"x8\", \"y\": [0.0, 0.1111111111111111, 0.2222222222222222, 0.3333333333333333, 0.4444444444444444, 0.5555555555555556, 0.6666666666666666, 0.7777777777777777, 0.8888888888888888, 1.0], \"yaxis\": \"y8\"}, {\"fill\": \"tonextx\", \"fillcolor\": \"rgb(89,185,92)\", \"legendgroup\": \"lac_stable\", \"line\": {\"width\": 0}, \"mode\": \"lines\", \"name\": \"Monostable Lac\", \"showlegend\": false, \"type\": \"scatter\", \"x\": [0.9259259259259258, 0.9259259259259258, 0.9259259259259258, 0.9259259259259258, 0.9259259259259258, 0.9259259259259258, 0.9259259259259258, 0.9259259259259258, 0.9259259259259258, 0.9259259259259258], \"xaxis\": \"x8\", \"y\": [0.0, 0.1111111111111111, 0.2222222222222222, 0.3333333333333333, 0.4444444444444444, 0.5555555555555556, 0.6666666666666666, 0.7777777777777777, 0.8888888888888888, 1.0], \"yaxis\": \"y8\"}, {\"fill\": \"tonextx\", \"fillcolor\": \"rgb(109,109,109)\", \"legendgroup\": \"unstable\", \"line\": {\"width\": 0}, \"mode\": \"lines\", \"name\": \"Unstable\", \"showlegend\": false, \"type\": \"scatter\", \"x\": [0.9999999999999999, 0.9999999999999999, 0.9999999999999999, 0.9999999999999999, 0.9999999999999999, 0.9999999999999999, 0.9999999999999999, 0.9999999999999999, 0.9999999999999999, 0.9999999999999999], \"xaxis\": \"x8\", \"y\": [0.0, 0.1111111111111111, 0.2222222222222222, 0.3333333333333333, 0.4444444444444444, 0.5555555555555556, 0.6666666666666666, 0.7777777777777777, 0.8888888888888888, 1.0], \"yaxis\": \"y8\"}, {\"fill\": \"tonextx\", \"fillcolor\": \"rgb(73,143,201)\", \"legendgroup\": \"bistable\", \"line\": {\"width\": 0}, \"mode\": \"lines\", \"name\": \"Bistable\", \"showlegend\": false, \"type\": \"scatter\", \"x\": [0.7037037037037037, 0.7037037037037037, 0.7037037037037037, 0.7037037037037037, 0.7037037037037037, 0.7037037037037037, 0.7037037037037037, 0.7037037037037037, 0.7037037037037037, 0.7037037037037037], \"xaxis\": \"x4\", \"y\": [0.0, 0.1111111111111111, 0.2222222222222222, 0.3333333333333333, 0.4444444444444444, 0.5555555555555556, 0.6666666666666666, 0.7777777777777777, 0.8888888888888888, 1.0], \"yaxis\": \"y4\"}, {\"fill\": \"tonextx\", \"fillcolor\": \"rgb(205,92,98)\", \"legendgroup\": \"tet_stable\", \"line\": {\"width\": 0}, \"mode\": \"lines\", \"name\": \"Monostable Tet\", \"showlegend\": false, \"type\": \"scatter\", \"x\": [0.7037037037037037, 0.7037037037037037, 0.7037037037037037, 0.7037037037037037, 0.7037037037037037, 0.7037037037037037, 0.7037037037037037, 0.7037037037037037, 0.7037037037037037, 0.7037037037037037], \"xaxis\": \"x4\", \"y\": [0.0, 0.1111111111111111, 0.2222222222222222, 0.3333333333333333, 0.4444444444444444, 0.5555555555555556, 0.6666666666666666, 0.7777777777777777, 0.8888888888888888, 1.0], \"yaxis\": \"y4\"}, {\"fill\": \"tonextx\", \"fillcolor\": \"rgb(89,185,92)\", \"legendgroup\": \"lac_stable\", \"line\": {\"width\": 0}, \"mode\": \"lines\", \"name\": \"Monostable Lac\", \"showlegend\": false, \"type\": \"scatter\", \"x\": [0.9259259259259259, 0.9259259259259259, 0.9259259259259259, 0.9259259259259259, 0.9259259259259259, 0.9259259259259259, 0.9259259259259259, 0.9259259259259259, 0.9259259259259259, 0.9259259259259259], \"xaxis\": \"x4\", \"y\": [0.0, 0.1111111111111111, 0.2222222222222222, 0.3333333333333333, 0.4444444444444444, 0.5555555555555556, 0.6666666666666666, 0.7777777777777777, 0.8888888888888888, 1.0], \"yaxis\": \"y4\"}, {\"fill\": \"tonextx\", \"fillcolor\": \"rgb(109,109,109)\", \"legendgroup\": \"unstable\", \"line\": {\"width\": 0}, \"mode\": \"lines\", \"name\": \"Unstable\", \"showlegend\": false, \"type\": \"scatter\", \"x\": [1.0, 1.0, 1.0, 1.0, 1.0, 1.0, 1.0, 1.0, 1.0, 1.0], \"xaxis\": \"x4\", \"y\": [0.0, 0.1111111111111111, 0.2222222222222222, 0.3333333333333333, 0.4444444444444444, 0.5555555555555556, 0.6666666666666666, 0.7777777777777777, 0.8888888888888888, 1.0], \"yaxis\": \"y4\"}],                        {\"annotations\": [{\"font\": {\"color\": \"black\", \"family\": \"Myriad Pro\", \"size\": 18}, \"showarrow\": false, \"text\": \"88%\", \"x\": 0.4375, \"xref\": \"x13\", \"y\": 0.5, \"yref\": \"y13\"}, {\"font\": {\"color\": \"black\", \"family\": \"Myriad Pro\", \"size\": 18}, \"showarrow\": false, \"text\": \"12%\", \"x\": 0.9375, \"xref\": \"x13\", \"y\": 0.5, \"yref\": \"y13\"}, {\"font\": {\"color\": \"black\", \"family\": \"Myriad Pro\", \"size\": 18}, \"showarrow\": false, \"text\": \"n = 24\", \"x\": 0.5, \"xref\": \"x13\", \"y\": 0.8, \"yref\": \"y13\"}, {\"font\": {\"color\": \"black\", \"family\": \"Myriad Pro\", \"size\": 18}, \"showarrow\": false, \"text\": \"79%\", \"x\": 0.3958333333333333, \"xref\": \"x9\", \"y\": 0.5, \"yref\": \"y9\"}, {\"font\": {\"color\": \"black\", \"family\": \"Myriad Pro\", \"size\": 18}, \"showarrow\": false, \"text\": \"8%\", \"x\": 0.8333333333333333, \"xref\": \"x9\", \"y\": 0.5, \"yref\": \"y9\"}, {\"font\": {\"color\": \"black\", \"family\": \"Myriad Pro\", \"size\": 18}, \"showarrow\": false, \"text\": \"12%\", \"x\": 0.9375, \"xref\": \"x9\", \"y\": 0.5, \"yref\": \"y9\"}, {\"font\": {\"color\": \"black\", \"family\": \"Myriad Pro\", \"size\": 18}, \"showarrow\": false, \"text\": \"n = 24\", \"x\": 0.5, \"xref\": \"x9\", \"y\": 0.8, \"yref\": \"y9\"}, {\"font\": {\"color\": \"black\", \"family\": \"Myriad Pro\", \"size\": 18}, \"showarrow\": false, \"text\": \"56%\", \"x\": 0.2777777777777778, \"xref\": \"x5\", \"y\": 0.5, \"yref\": \"y5\"}, {\"font\": {\"color\": \"black\", \"family\": \"Myriad Pro\", \"size\": 18}, \"showarrow\": false, \"text\": \"44%\", \"x\": 0.7777777777777778, \"xref\": \"x5\", \"y\": 0.5, \"yref\": \"y5\"}, {\"font\": {\"color\": \"black\", \"family\": \"Myriad Pro\", \"size\": 18}, \"showarrow\": false, \"text\": \"n = 36\", \"x\": 0.5, \"xref\": \"x5\", \"y\": 0.8, \"yref\": \"y5\"}, {\"font\": {\"color\": \"black\", \"family\": \"Myriad Pro\", \"size\": 18}, \"showarrow\": false, \"text\": \"64%\", \"x\": 0.3194444444444444, \"xref\": \"x\", \"y\": 0.5, \"yref\": \"y\"}, {\"font\": {\"color\": \"black\", \"family\": \"Myriad Pro\", \"size\": 18}, \"showarrow\": false, \"text\": \"31%\", \"x\": 0.7916666666666666, \"xref\": \"x\", \"y\": 0.5, \"yref\": \"y\"}, {\"font\": {\"color\": \"black\", \"family\": \"Myriad Pro\", \"size\": 18}, \"showarrow\": false, \"text\": \"6%\", \"x\": 0.9722222222222222, \"xref\": \"x\", \"y\": 0.5, \"yref\": \"y\"}, {\"font\": {\"color\": \"black\", \"family\": \"Myriad Pro\", \"size\": 18}, \"showarrow\": false, \"text\": \"n = 36\", \"x\": 0.5, \"xref\": \"x\", \"y\": 0.8, \"yref\": \"y\"}, {\"font\": {\"color\": \"black\", \"family\": \"Myriad Pro\", \"size\": 18}, \"showarrow\": false, \"text\": \"50%\", \"x\": 0.25, \"xref\": \"x14\", \"y\": 0.5, \"yref\": \"y14\"}, {\"font\": {\"color\": \"black\", \"family\": \"Myriad Pro\", \"size\": 18}, \"showarrow\": false, \"text\": \"50%\", \"x\": 0.75, \"xref\": \"x14\", \"y\": 0.5, \"yref\": \"y14\"}, {\"font\": {\"color\": \"black\", \"family\": \"Myriad Pro\", \"size\": 18}, \"showarrow\": false, \"text\": \"n = 6\", \"x\": 0.5, \"xref\": \"x14\", \"y\": 0.8, \"yref\": \"y14\"}, {\"font\": {\"color\": \"black\", \"family\": \"Myriad Pro\", \"size\": 18}, \"showarrow\": false, \"text\": \"50%\", \"x\": 0.25, \"xref\": \"x10\", \"y\": 0.5, \"yref\": \"y10\"}, {\"font\": {\"color\": \"black\", \"family\": \"Myriad Pro\", \"size\": 18}, \"showarrow\": false, \"text\": \"50%\", \"x\": 0.75, \"xref\": \"x10\", \"y\": 0.5, \"yref\": \"y10\"}, {\"font\": {\"color\": \"black\", \"family\": \"Myriad Pro\", \"size\": 18}, \"showarrow\": false, \"text\": \"n = 6\", \"x\": 0.5, \"xref\": \"x10\", \"y\": 0.8, \"yref\": \"y10\"}, {\"font\": {\"color\": \"black\", \"family\": \"Myriad Pro\", \"size\": 18}, \"showarrow\": false, \"text\": \"33%\", \"x\": 0.16666666666666666, \"xref\": \"x6\", \"y\": 0.5, \"yref\": \"y6\"}, {\"font\": {\"color\": \"black\", \"family\": \"Myriad Pro\", \"size\": 18}, \"showarrow\": false, \"text\": \"33%\", \"x\": 0.5, \"xref\": \"x6\", \"y\": 0.5, \"yref\": \"y6\"}, {\"font\": {\"color\": \"black\", \"family\": \"Myriad Pro\", \"size\": 18}, \"showarrow\": false, \"text\": \"33%\", \"x\": 0.8333333333333333, \"xref\": \"x6\", \"y\": 0.5, \"yref\": \"y6\"}, {\"font\": {\"color\": \"black\", \"family\": \"Myriad Pro\", \"size\": 18}, \"showarrow\": false, \"text\": \"n = 9\", \"x\": 0.5, \"xref\": \"x6\", \"y\": 0.8, \"yref\": \"y6\"}, {\"font\": {\"color\": \"black\", \"family\": \"Myriad Pro\", \"size\": 18}, \"showarrow\": false, \"text\": \"67%\", \"x\": 0.3333333333333333, \"xref\": \"x2\", \"y\": 0.5, \"yref\": \"y2\"}, {\"font\": {\"color\": \"black\", \"family\": \"Myriad Pro\", \"size\": 18}, \"showarrow\": false, \"text\": \"33%\", \"x\": 0.8333333333333333, \"xref\": \"x2\", \"y\": 0.5, \"yref\": \"y2\"}, {\"font\": {\"color\": \"black\", \"family\": \"Myriad Pro\", \"size\": 18}, \"showarrow\": false, \"text\": \"n = 9\", \"x\": 0.5, \"xref\": \"x2\", \"y\": 0.8, \"yref\": \"y2\"}, {\"font\": {\"color\": \"black\", \"family\": \"Myriad Pro\", \"size\": 18}, \"showarrow\": false, \"text\": \"75%\", \"x\": 0.375, \"xref\": \"x15\", \"y\": 0.5, \"yref\": \"y15\"}, {\"font\": {\"color\": \"black\", \"family\": \"Myriad Pro\", \"size\": 18}, \"showarrow\": false, \"text\": \"25%\", \"x\": 0.875, \"xref\": \"x15\", \"y\": 0.5, \"yref\": \"y15\"}, {\"font\": {\"color\": \"black\", \"family\": \"Myriad Pro\", \"size\": 18}, \"showarrow\": false, \"text\": \"n = 12\", \"x\": 0.5, \"xref\": \"x15\", \"y\": 0.8, \"yref\": \"y15\"}, {\"font\": {\"color\": \"black\", \"family\": \"Myriad Pro\", \"size\": 18}, \"showarrow\": false, \"text\": \"58%\", \"x\": 0.2916666666666667, \"xref\": \"x11\", \"y\": 0.5, \"yref\": \"y11\"}, {\"font\": {\"color\": \"black\", \"family\": \"Myriad Pro\", \"size\": 18}, \"showarrow\": false, \"text\": \"25%\", \"x\": 0.7083333333333334, \"xref\": \"x11\", \"y\": 0.5, \"yref\": \"y11\"}, {\"font\": {\"color\": \"black\", \"family\": \"Myriad Pro\", \"size\": 18}, \"showarrow\": false, \"text\": \"17%\", \"x\": 0.9166666666666667, \"xref\": \"x11\", \"y\": 0.5, \"yref\": \"y11\"}, {\"font\": {\"color\": \"black\", \"family\": \"Myriad Pro\", \"size\": 18}, \"showarrow\": false, \"text\": \"n = 12\", \"x\": 0.5, \"xref\": \"x11\", \"y\": 0.8, \"yref\": \"y11\"}, {\"font\": {\"color\": \"black\", \"family\": \"Myriad Pro\", \"size\": 18}, \"showarrow\": false, \"text\": \"61%\", \"x\": 0.3055555555555556, \"xref\": \"x7\", \"y\": 0.5, \"yref\": \"y7\"}, {\"font\": {\"color\": \"black\", \"family\": \"Myriad Pro\", \"size\": 18}, \"showarrow\": false, \"text\": \"28%\", \"x\": 0.75, \"xref\": \"x7\", \"y\": 0.5, \"yref\": \"y7\"}, {\"font\": {\"color\": \"black\", \"family\": \"Myriad Pro\", \"size\": 18}, \"showarrow\": false, \"text\": \"11%\", \"x\": 0.9444444444444444, \"xref\": \"x7\", \"y\": 0.5, \"yref\": \"y7\"}, {\"font\": {\"color\": \"black\", \"family\": \"Myriad Pro\", \"size\": 18}, \"showarrow\": false, \"text\": \"n = 18\", \"x\": 0.5, \"xref\": \"x7\", \"y\": 0.8, \"yref\": \"y7\"}, {\"font\": {\"color\": \"black\", \"family\": \"Myriad Pro\", \"size\": 18}, \"showarrow\": false, \"text\": \"67%\", \"x\": 0.3333333333333333, \"xref\": \"x3\", \"y\": 0.5, \"yref\": \"y3\"}, {\"font\": {\"color\": \"black\", \"family\": \"Myriad Pro\", \"size\": 18}, \"showarrow\": false, \"text\": \"22%\", \"x\": 0.7777777777777777, \"xref\": \"x3\", \"y\": 0.5, \"yref\": \"y3\"}, {\"font\": {\"color\": \"black\", \"family\": \"Myriad Pro\", \"size\": 18}, \"showarrow\": false, \"text\": \"11%\", \"x\": 0.9444444444444444, \"xref\": \"x3\", \"y\": 0.5, \"yref\": \"y3\"}, {\"font\": {\"color\": \"black\", \"family\": \"Myriad Pro\", \"size\": 18}, \"showarrow\": false, \"text\": \"n = 18\", \"x\": 0.5, \"xref\": \"x3\", \"y\": 0.8, \"yref\": \"y3\"}, {\"font\": {\"color\": \"black\", \"family\": \"Myriad Pro\", \"size\": 18}, \"showarrow\": false, \"text\": \"61%\", \"x\": 0.3055555555555556, \"xref\": \"x16\", \"y\": 0.5, \"yref\": \"y16\"}, {\"font\": {\"color\": \"black\", \"family\": \"Myriad Pro\", \"size\": 18}, \"showarrow\": false, \"text\": \"39%\", \"x\": 0.8055555555555556, \"xref\": \"x16\", \"y\": 0.5, \"yref\": \"y16\"}, {\"font\": {\"color\": \"black\", \"family\": \"Myriad Pro\", \"size\": 18}, \"showarrow\": false, \"text\": \"n = 18\", \"x\": 0.5, \"xref\": \"x16\", \"y\": 0.8, \"yref\": \"y16\"}, {\"font\": {\"color\": \"black\", \"family\": \"Myriad Pro\", \"size\": 18}, \"showarrow\": false, \"text\": \"50%\", \"x\": 0.25, \"xref\": \"x12\", \"y\": 0.5, \"yref\": \"y12\"}, {\"font\": {\"color\": \"black\", \"family\": \"Myriad Pro\", \"size\": 18}, \"showarrow\": false, \"text\": \"50%\", \"x\": 0.75, \"xref\": \"x12\", \"y\": 0.5, \"yref\": \"y12\"}, {\"font\": {\"color\": \"black\", \"family\": \"Myriad Pro\", \"size\": 18}, \"showarrow\": false, \"text\": \"n = 18\", \"x\": 0.5, \"xref\": \"x12\", \"y\": 0.8, \"yref\": \"y12\"}, {\"font\": {\"color\": \"black\", \"family\": \"Myriad Pro\", \"size\": 18}, \"showarrow\": false, \"text\": \"52%\", \"x\": 0.25925925925925924, \"xref\": \"x8\", \"y\": 0.5, \"yref\": \"y8\"}, {\"font\": {\"color\": \"black\", \"family\": \"Myriad Pro\", \"size\": 18}, \"showarrow\": false, \"text\": \"37%\", \"x\": 0.7037037037037037, \"xref\": \"x8\", \"y\": 0.5, \"yref\": \"y8\"}, {\"font\": {\"color\": \"black\", \"family\": \"Myriad Pro\", \"size\": 18}, \"showarrow\": false, \"text\": \"4%\", \"x\": 0.9074074074074073, \"xref\": \"x8\", \"y\": 0.5, \"yref\": \"y8\"}, {\"font\": {\"color\": \"black\", \"family\": \"Myriad Pro\", \"size\": 18}, \"showarrow\": false, \"text\": \"7%\", \"x\": 0.9629629629629628, \"xref\": \"x8\", \"y\": 0.5, \"yref\": \"y8\"}, {\"font\": {\"color\": \"black\", \"family\": \"Myriad Pro\", \"size\": 18}, \"showarrow\": false, \"text\": \"n = 27\", \"x\": 0.5, \"xref\": \"x8\", \"y\": 0.8, \"yref\": \"y8\"}, {\"font\": {\"color\": \"black\", \"family\": \"Myriad Pro\", \"size\": 18}, \"showarrow\": false, \"text\": \"70%\", \"x\": 0.35185185185185186, \"xref\": \"x4\", \"y\": 0.5, \"yref\": \"y4\"}, {\"font\": {\"color\": \"black\", \"family\": \"Myriad Pro\", \"size\": 18}, \"showarrow\": false, \"text\": \"22%\", \"x\": 0.8148148148148149, \"xref\": \"x4\", \"y\": 0.5, \"yref\": \"y4\"}, {\"font\": {\"color\": \"black\", \"family\": \"Myriad Pro\", \"size\": 18}, \"showarrow\": false, \"text\": \"7%\", \"x\": 0.962962962962963, \"xref\": \"x4\", \"y\": 0.5, \"yref\": \"y4\"}, {\"font\": {\"color\": \"black\", \"family\": \"Myriad Pro\", \"size\": 18}, \"showarrow\": false, \"text\": \"n = 27\", \"x\": 0.5, \"xref\": \"x4\", \"y\": 0.8, \"yref\": \"y4\"}], \"height\": 650, \"legend\": {\"font\": {\"color\": \"black\", \"family\": \"Myriad Pro\", \"size\": 18}}, \"template\": {\"data\": {\"bar\": [{\"error_x\": {\"color\": \"#2a3f5f\"}, \"error_y\": {\"color\": \"#2a3f5f\"}, \"marker\": {\"line\": {\"color\": \"white\", \"width\": 0.5}}, \"type\": \"bar\"}], \"barpolar\": [{\"marker\": {\"line\": {\"color\": \"white\", \"width\": 0.5}}, \"type\": \"barpolar\"}], \"carpet\": [{\"aaxis\": {\"endlinecolor\": \"#2a3f5f\", \"gridcolor\": \"#C8D4E3\", \"linecolor\": \"#C8D4E3\", \"minorgridcolor\": \"#C8D4E3\", \"startlinecolor\": \"#2a3f5f\"}, \"baxis\": {\"endlinecolor\": \"#2a3f5f\", \"gridcolor\": \"#C8D4E3\", \"linecolor\": \"#C8D4E3\", \"minorgridcolor\": \"#C8D4E3\", \"startlinecolor\": \"#2a3f5f\"}, \"type\": \"carpet\"}], \"choropleth\": [{\"colorbar\": {\"outlinewidth\": 0, \"ticks\": \"\"}, \"type\": \"choropleth\"}], \"contour\": [{\"colorbar\": {\"outlinewidth\": 0, \"ticks\": \"\"}, \"colorscale\": [[0.0, \"#0d0887\"], [0.1111111111111111, \"#46039f\"], [0.2222222222222222, \"#7201a8\"], [0.3333333333333333, \"#9c179e\"], [0.4444444444444444, \"#bd3786\"], [0.5555555555555556, \"#d8576b\"], [0.6666666666666666, \"#ed7953\"], [0.7777777777777778, \"#fb9f3a\"], [0.8888888888888888, \"#fdca26\"], [1.0, \"#f0f921\"]], \"type\": \"contour\"}], \"contourcarpet\": [{\"colorbar\": {\"outlinewidth\": 0, \"ticks\": \"\"}, \"type\": \"contourcarpet\"}], \"heatmap\": [{\"colorbar\": {\"outlinewidth\": 0, \"ticks\": \"\"}, \"colorscale\": [[0.0, \"#0d0887\"], [0.1111111111111111, \"#46039f\"], [0.2222222222222222, \"#7201a8\"], [0.3333333333333333, \"#9c179e\"], [0.4444444444444444, \"#bd3786\"], [0.5555555555555556, \"#d8576b\"], [0.6666666666666666, \"#ed7953\"], [0.7777777777777778, \"#fb9f3a\"], [0.8888888888888888, \"#fdca26\"], [1.0, \"#f0f921\"]], \"type\": \"heatmap\"}], \"heatmapgl\": [{\"colorbar\": {\"outlinewidth\": 0, \"ticks\": \"\"}, \"colorscale\": [[0.0, \"#0d0887\"], [0.1111111111111111, \"#46039f\"], [0.2222222222222222, \"#7201a8\"], [0.3333333333333333, \"#9c179e\"], [0.4444444444444444, \"#bd3786\"], [0.5555555555555556, \"#d8576b\"], [0.6666666666666666, \"#ed7953\"], [0.7777777777777778, \"#fb9f3a\"], [0.8888888888888888, \"#fdca26\"], [1.0, \"#f0f921\"]], \"type\": \"heatmapgl\"}], \"histogram\": [{\"marker\": {\"colorbar\": {\"outlinewidth\": 0, \"ticks\": \"\"}}, \"type\": \"histogram\"}], \"histogram2d\": [{\"colorbar\": {\"outlinewidth\": 0, \"ticks\": \"\"}, \"colorscale\": [[0.0, \"#0d0887\"], [0.1111111111111111, \"#46039f\"], [0.2222222222222222, \"#7201a8\"], [0.3333333333333333, \"#9c179e\"], [0.4444444444444444, \"#bd3786\"], [0.5555555555555556, \"#d8576b\"], [0.6666666666666666, \"#ed7953\"], [0.7777777777777778, \"#fb9f3a\"], [0.8888888888888888, \"#fdca26\"], [1.0, \"#f0f921\"]], \"type\": \"histogram2d\"}], \"histogram2dcontour\": [{\"colorbar\": {\"outlinewidth\": 0, \"ticks\": \"\"}, \"colorscale\": [[0.0, \"#0d0887\"], [0.1111111111111111, \"#46039f\"], [0.2222222222222222, \"#7201a8\"], [0.3333333333333333, \"#9c179e\"], [0.4444444444444444, \"#bd3786\"], [0.5555555555555556, \"#d8576b\"], [0.6666666666666666, \"#ed7953\"], [0.7777777777777778, \"#fb9f3a\"], [0.8888888888888888, \"#fdca26\"], [1.0, \"#f0f921\"]], \"type\": \"histogram2dcontour\"}], \"mesh3d\": [{\"colorbar\": {\"outlinewidth\": 0, \"ticks\": \"\"}, \"type\": \"mesh3d\"}], \"parcoords\": [{\"line\": {\"colorbar\": {\"outlinewidth\": 0, \"ticks\": \"\"}}, \"type\": \"parcoords\"}], \"pie\": [{\"automargin\": true, \"type\": \"pie\"}], \"scatter\": [{\"marker\": {\"colorbar\": {\"outlinewidth\": 0, \"ticks\": \"\"}}, \"type\": \"scatter\"}], \"scatter3d\": [{\"line\": {\"colorbar\": {\"outlinewidth\": 0, \"ticks\": \"\"}}, \"marker\": {\"colorbar\": {\"outlinewidth\": 0, \"ticks\": \"\"}}, \"type\": \"scatter3d\"}], \"scattercarpet\": [{\"marker\": {\"colorbar\": {\"outlinewidth\": 0, \"ticks\": \"\"}}, \"type\": \"scattercarpet\"}], \"scattergeo\": [{\"marker\": {\"colorbar\": {\"outlinewidth\": 0, \"ticks\": \"\"}}, \"type\": \"scattergeo\"}], \"scattergl\": [{\"marker\": {\"colorbar\": {\"outlinewidth\": 0, \"ticks\": \"\"}}, \"type\": \"scattergl\"}], \"scattermapbox\": [{\"marker\": {\"colorbar\": {\"outlinewidth\": 0, \"ticks\": \"\"}}, \"type\": \"scattermapbox\"}], \"scatterpolar\": [{\"marker\": {\"colorbar\": {\"outlinewidth\": 0, \"ticks\": \"\"}}, \"type\": \"scatterpolar\"}], \"scatterpolargl\": [{\"marker\": {\"colorbar\": {\"outlinewidth\": 0, \"ticks\": \"\"}}, \"type\": \"scatterpolargl\"}], \"scatterternary\": [{\"marker\": {\"colorbar\": {\"outlinewidth\": 0, \"ticks\": \"\"}}, \"type\": \"scatterternary\"}], \"surface\": [{\"colorbar\": {\"outlinewidth\": 0, \"ticks\": \"\"}, \"colorscale\": [[0.0, \"#0d0887\"], [0.1111111111111111, \"#46039f\"], [0.2222222222222222, \"#7201a8\"], [0.3333333333333333, \"#9c179e\"], [0.4444444444444444, \"#bd3786\"], [0.5555555555555556, \"#d8576b\"], [0.6666666666666666, \"#ed7953\"], [0.7777777777777778, \"#fb9f3a\"], [0.8888888888888888, \"#fdca26\"], [1.0, \"#f0f921\"]], \"type\": \"surface\"}], \"table\": [{\"cells\": {\"fill\": {\"color\": \"#EBF0F8\"}, \"line\": {\"color\": \"white\"}}, \"header\": {\"fill\": {\"color\": \"#C8D4E3\"}, \"line\": {\"color\": \"white\"}}, \"type\": \"table\"}]}, \"layout\": {\"annotationdefaults\": {\"arrowcolor\": \"#2a3f5f\", \"arrowhead\": 0, \"arrowwidth\": 1}, \"autotypenumbers\": \"strict\", \"coloraxis\": {\"colorbar\": {\"outlinewidth\": 0, \"ticks\": \"\"}}, \"colorscale\": {\"diverging\": [[0, \"#8e0152\"], [0.1, \"#c51b7d\"], [0.2, \"#de77ae\"], [0.3, \"#f1b6da\"], [0.4, \"#fde0ef\"], [0.5, \"#f7f7f7\"], [0.6, \"#e6f5d0\"], [0.7, \"#b8e186\"], [0.8, \"#7fbc41\"], [0.9, \"#4d9221\"], [1, \"#276419\"]], \"sequential\": [[0.0, \"#0d0887\"], [0.1111111111111111, \"#46039f\"], [0.2222222222222222, \"#7201a8\"], [0.3333333333333333, \"#9c179e\"], [0.4444444444444444, \"#bd3786\"], [0.5555555555555556, \"#d8576b\"], [0.6666666666666666, \"#ed7953\"], [0.7777777777777778, \"#fb9f3a\"], [0.8888888888888888, \"#fdca26\"], [1.0, \"#f0f921\"]], \"sequentialminus\": [[0.0, \"#0d0887\"], [0.1111111111111111, \"#46039f\"], [0.2222222222222222, \"#7201a8\"], [0.3333333333333333, \"#9c179e\"], [0.4444444444444444, \"#bd3786\"], [0.5555555555555556, \"#d8576b\"], [0.6666666666666666, \"#ed7953\"], [0.7777777777777778, \"#fb9f3a\"], [0.8888888888888888, \"#fdca26\"], [1.0, \"#f0f921\"]]}, \"colorway\": [\"#636efa\", \"#EF553B\", \"#00cc96\", \"#ab63fa\", \"#FFA15A\", \"#19d3f3\", \"#FF6692\", \"#B6E880\", \"#FF97FF\", \"#FECB52\"], \"font\": {\"color\": \"#2a3f5f\"}, \"geo\": {\"bgcolor\": \"white\", \"lakecolor\": \"white\", \"landcolor\": \"white\", \"showlakes\": true, \"showland\": true, \"subunitcolor\": \"#C8D4E3\"}, \"hoverlabel\": {\"align\": \"left\"}, \"hovermode\": \"closest\", \"mapbox\": {\"style\": \"light\"}, \"paper_bgcolor\": \"white\", \"plot_bgcolor\": \"white\", \"polar\": {\"angularaxis\": {\"gridcolor\": \"#EBF0F8\", \"linecolor\": \"#EBF0F8\", \"ticks\": \"\"}, \"bgcolor\": \"white\", \"radialaxis\": {\"gridcolor\": \"#EBF0F8\", \"linecolor\": \"#EBF0F8\", \"ticks\": \"\"}}, \"scene\": {\"xaxis\": {\"backgroundcolor\": \"white\", \"gridcolor\": \"#DFE8F3\", \"gridwidth\": 2, \"linecolor\": \"#EBF0F8\", \"showbackground\": true, \"ticks\": \"\", \"zerolinecolor\": \"#EBF0F8\"}, \"yaxis\": {\"backgroundcolor\": \"white\", \"gridcolor\": \"#DFE8F3\", \"gridwidth\": 2, \"linecolor\": \"#EBF0F8\", \"showbackground\": true, \"ticks\": \"\", \"zerolinecolor\": \"#EBF0F8\"}, \"zaxis\": {\"backgroundcolor\": \"white\", \"gridcolor\": \"#DFE8F3\", \"gridwidth\": 2, \"linecolor\": \"#EBF0F8\", \"showbackground\": true, \"ticks\": \"\", \"zerolinecolor\": \"#EBF0F8\"}}, \"shapedefaults\": {\"line\": {\"color\": \"#2a3f5f\"}}, \"ternary\": {\"aaxis\": {\"gridcolor\": \"#DFE8F3\", \"linecolor\": \"#A2B1C6\", \"ticks\": \"\"}, \"baxis\": {\"gridcolor\": \"#DFE8F3\", \"linecolor\": \"#A2B1C6\", \"ticks\": \"\"}, \"bgcolor\": \"white\", \"caxis\": {\"gridcolor\": \"#DFE8F3\", \"linecolor\": \"#A2B1C6\", \"ticks\": \"\"}}, \"title\": {\"x\": 0.05}, \"xaxis\": {\"automargin\": true, \"gridcolor\": \"#EBF0F8\", \"linecolor\": \"#EBF0F8\", \"ticks\": \"\", \"title\": {\"standoff\": 15}, \"zerolinecolor\": \"#EBF0F8\", \"zerolinewidth\": 2}, \"yaxis\": {\"automargin\": true, \"gridcolor\": \"#EBF0F8\", \"linecolor\": \"#EBF0F8\", \"ticks\": \"\", \"title\": {\"standoff\": 15}, \"zerolinecolor\": \"#EBF0F8\", \"zerolinewidth\": 2}}}, \"title\": {\"font\": {\"color\": \"black\", \"family\": \"Myriad Pro\", \"size\": 18}, \"text\": \"Single Trials\"}, \"width\": 750, \"xaxis\": {\"anchor\": \"y\", \"domain\": [0.0, 0.24625], \"linecolor\": \"black\", \"linewidth\": 1, \"mirror\": true, \"nticks\": 10, \"range\": [0, 1], \"showgrid\": true, \"showline\": true, \"showticklabels\": false, \"tickangle\": 0, \"tickcolor\": \"black\", \"tickfont\": {\"color\": \"black\", \"family\": \"Myriad Pro\", \"size\": 18}, \"ticklen\": 0, \"ticks\": \"outside\", \"title\": {\"font\": {\"color\": \"black\", \"family\": \"Myriad Pro\", \"size\": 24}, \"standoff\": 10}, \"zeroline\": false}, \"xaxis10\": {\"anchor\": \"y10\", \"domain\": [0.25125, 0.49749999999999994], \"linecolor\": \"black\", \"linewidth\": 1, \"mirror\": true, \"nticks\": 10, \"range\": [0, 1], \"showgrid\": true, \"showline\": true, \"showticklabels\": false, \"tickangle\": 0, \"tickcolor\": \"black\", \"tickfont\": {\"color\": \"black\", \"family\": \"Myriad Pro\", \"size\": 18}, \"ticklen\": 0, \"ticks\": \"outside\", \"title\": {\"font\": {\"color\": \"black\", \"family\": \"Myriad Pro\", \"size\": 24}, \"standoff\": 10}, \"zeroline\": false}, \"xaxis11\": {\"anchor\": \"y11\", \"domain\": [0.5025, 0.7487499999999999], \"linecolor\": \"black\", \"linewidth\": 1, \"mirror\": true, \"nticks\": 10, \"range\": [0, 1], \"showgrid\": true, \"showline\": true, \"showticklabels\": false, \"tickangle\": 0, \"tickcolor\": \"black\", \"tickfont\": {\"color\": \"black\", \"family\": \"Myriad Pro\", \"size\": 18}, \"ticklen\": 0, \"ticks\": \"outside\", \"title\": {\"font\": {\"color\": \"black\", \"family\": \"Myriad Pro\", \"size\": 24}, \"standoff\": 10}, \"zeroline\": false}, \"xaxis12\": {\"anchor\": \"y12\", \"domain\": [0.75375, 1.0], \"linecolor\": \"black\", \"linewidth\": 1, \"mirror\": true, \"nticks\": 10, \"range\": [0, 1], \"showgrid\": true, \"showline\": true, \"showticklabels\": false, \"tickangle\": 0, \"tickcolor\": \"black\", \"tickfont\": {\"color\": \"black\", \"family\": \"Myriad Pro\", \"size\": 18}, \"ticklen\": 0, \"ticks\": \"outside\", \"title\": {\"font\": {\"color\": \"black\", \"family\": \"Myriad Pro\", \"size\": 24}, \"standoff\": 10}, \"zeroline\": false}, \"xaxis13\": {\"anchor\": \"y13\", \"domain\": [0.0, 0.24625], \"linecolor\": \"black\", \"linewidth\": 1, \"mirror\": true, \"nticks\": 10, \"range\": [0, 1], \"showgrid\": true, \"showline\": true, \"showticklabels\": false, \"tickangle\": 0, \"tickcolor\": \"black\", \"tickfont\": {\"color\": \"black\", \"family\": \"Myriad Pro\", \"size\": 18}, \"ticklen\": 0, \"ticks\": \"outside\", \"title\": {\"font\": {\"color\": \"black\", \"family\": \"Myriad Pro\", \"size\": 24}, \"standoff\": 10, \"text\": \"No Tag\"}, \"zeroline\": false}, \"xaxis14\": {\"anchor\": \"y14\", \"domain\": [0.25125, 0.49749999999999994], \"linecolor\": \"black\", \"linewidth\": 1, \"mirror\": true, \"nticks\": 10, \"range\": [0, 1], \"showgrid\": true, \"showline\": true, \"showticklabels\": false, \"tickangle\": 0, \"tickcolor\": \"black\", \"tickfont\": {\"color\": \"black\", \"family\": \"Myriad Pro\", \"size\": 18}, \"ticklen\": 0, \"ticks\": \"outside\", \"title\": {\"font\": {\"color\": \"black\", \"family\": \"Myriad Pro\", \"size\": 24}, \"standoff\": 10, \"text\": \"DAS Tag\"}, \"zeroline\": false}, \"xaxis15\": {\"anchor\": \"y15\", \"domain\": [0.5025, 0.7487499999999999], \"linecolor\": \"black\", \"linewidth\": 1, \"mirror\": true, \"nticks\": 10, \"range\": [0, 1], \"showgrid\": true, \"showline\": true, \"showticklabels\": false, \"tickangle\": 0, \"tickcolor\": \"black\", \"tickfont\": {\"color\": \"black\", \"family\": \"Myriad Pro\", \"size\": 18}, \"ticklen\": 0, \"ticks\": \"outside\", \"title\": {\"font\": {\"color\": \"black\", \"family\": \"Myriad Pro\", \"size\": 24}, \"standoff\": 10, \"text\": \"DAS+2 Tag\"}, \"zeroline\": false}, \"xaxis16\": {\"anchor\": \"y16\", \"domain\": [0.75375, 1.0], \"linecolor\": \"black\", \"linewidth\": 1, \"mirror\": true, \"nticks\": 10, \"range\": [0, 1], \"showgrid\": true, \"showline\": true, \"showticklabels\": false, \"tickangle\": 0, \"tickcolor\": \"black\", \"tickfont\": {\"color\": \"black\", \"family\": \"Myriad Pro\", \"size\": 18}, \"ticklen\": 0, \"ticks\": \"outside\", \"title\": {\"font\": {\"color\": \"black\", \"family\": \"Myriad Pro\", \"size\": 24}, \"standoff\": 10, \"text\": \"LAA Tag\"}, \"zeroline\": false}, \"xaxis2\": {\"anchor\": \"y2\", \"domain\": [0.25125, 0.49749999999999994], \"linecolor\": \"black\", \"linewidth\": 1, \"mirror\": true, \"nticks\": 10, \"range\": [0, 1], \"showgrid\": true, \"showline\": true, \"showticklabels\": false, \"tickangle\": 0, \"tickcolor\": \"black\", \"tickfont\": {\"color\": \"black\", \"family\": \"Myriad Pro\", \"size\": 18}, \"ticklen\": 0, \"ticks\": \"outside\", \"title\": {\"font\": {\"color\": \"black\", \"family\": \"Myriad Pro\", \"size\": 24}, \"standoff\": 10}, \"zeroline\": false}, \"xaxis3\": {\"anchor\": \"y3\", \"domain\": [0.5025, 0.7487499999999999], \"linecolor\": \"black\", \"linewidth\": 1, \"mirror\": true, \"nticks\": 10, \"range\": [0, 1], \"showgrid\": true, \"showline\": true, \"showticklabels\": false, \"tickangle\": 0, \"tickcolor\": \"black\", \"tickfont\": {\"color\": \"black\", \"family\": \"Myriad Pro\", \"size\": 18}, \"ticklen\": 0, \"ticks\": \"outside\", \"title\": {\"font\": {\"color\": \"black\", \"family\": \"Myriad Pro\", \"size\": 24}, \"standoff\": 10}, \"zeroline\": false}, \"xaxis4\": {\"anchor\": \"y4\", \"domain\": [0.75375, 1.0], \"linecolor\": \"black\", \"linewidth\": 1, \"mirror\": true, \"nticks\": 10, \"range\": [0, 1], \"showgrid\": true, \"showline\": true, \"showticklabels\": false, \"tickangle\": 0, \"tickcolor\": \"black\", \"tickfont\": {\"color\": \"black\", \"family\": \"Myriad Pro\", \"size\": 18}, \"ticklen\": 0, \"ticks\": \"outside\", \"title\": {\"font\": {\"color\": \"black\", \"family\": \"Myriad Pro\", \"size\": 24}, \"standoff\": 10}, \"zeroline\": false}, \"xaxis5\": {\"anchor\": \"y5\", \"domain\": [0.0, 0.24625], \"linecolor\": \"black\", \"linewidth\": 1, \"mirror\": true, \"nticks\": 10, \"range\": [0, 1], \"showgrid\": true, \"showline\": true, \"showticklabels\": false, \"tickangle\": 0, \"tickcolor\": \"black\", \"tickfont\": {\"color\": \"black\", \"family\": \"Myriad Pro\", \"size\": 18}, \"ticklen\": 0, \"ticks\": \"outside\", \"title\": {\"font\": {\"color\": \"black\", \"family\": \"Myriad Pro\", \"size\": 24}, \"standoff\": 10}, \"zeroline\": false}, \"xaxis6\": {\"anchor\": \"y6\", \"domain\": [0.25125, 0.49749999999999994], \"linecolor\": \"black\", \"linewidth\": 1, \"mirror\": true, \"nticks\": 10, \"range\": [0, 1], \"showgrid\": true, \"showline\": true, \"showticklabels\": false, \"tickangle\": 0, \"tickcolor\": \"black\", \"tickfont\": {\"color\": \"black\", \"family\": \"Myriad Pro\", \"size\": 18}, \"ticklen\": 0, \"ticks\": \"outside\", \"title\": {\"font\": {\"color\": \"black\", \"family\": \"Myriad Pro\", \"size\": 24}, \"standoff\": 10}, \"zeroline\": false}, \"xaxis7\": {\"anchor\": \"y7\", \"domain\": [0.5025, 0.7487499999999999], \"linecolor\": \"black\", \"linewidth\": 1, \"mirror\": true, \"nticks\": 10, \"range\": [0, 1], \"showgrid\": true, \"showline\": true, \"showticklabels\": false, \"tickangle\": 0, \"tickcolor\": \"black\", \"tickfont\": {\"color\": \"black\", \"family\": \"Myriad Pro\", \"size\": 18}, \"ticklen\": 0, \"ticks\": \"outside\", \"title\": {\"font\": {\"color\": \"black\", \"family\": \"Myriad Pro\", \"size\": 24}, \"standoff\": 10}, \"zeroline\": false}, \"xaxis8\": {\"anchor\": \"y8\", \"domain\": [0.75375, 1.0], \"linecolor\": \"black\", \"linewidth\": 1, \"mirror\": true, \"nticks\": 10, \"range\": [0, 1], \"showgrid\": true, \"showline\": true, \"showticklabels\": false, \"tickangle\": 0, \"tickcolor\": \"black\", \"tickfont\": {\"color\": \"black\", \"family\": \"Myriad Pro\", \"size\": 18}, \"ticklen\": 0, \"ticks\": \"outside\", \"title\": {\"font\": {\"color\": \"black\", \"family\": \"Myriad Pro\", \"size\": 24}, \"standoff\": 10}, \"zeroline\": false}, \"xaxis9\": {\"anchor\": \"y9\", \"domain\": [0.0, 0.24625], \"linecolor\": \"black\", \"linewidth\": 1, \"mirror\": true, \"nticks\": 10, \"range\": [0, 1], \"showgrid\": true, \"showline\": true, \"showticklabels\": false, \"tickangle\": 0, \"tickcolor\": \"black\", \"tickfont\": {\"color\": \"black\", \"family\": \"Myriad Pro\", \"size\": 18}, \"ticklen\": 0, \"ticks\": \"outside\", \"title\": {\"font\": {\"color\": \"black\", \"family\": \"Myriad Pro\", \"size\": 24}, \"standoff\": 10}, \"zeroline\": false}, \"yaxis\": {\"anchor\": \"x\", \"domain\": [0.75375, 1.0], \"linecolor\": \"black\", \"linewidth\": 1, \"mirror\": true, \"nticks\": 10, \"range\": [0, 1], \"showgrid\": true, \"showline\": true, \"showticklabels\": false, \"tickangle\": 0, \"tickcolor\": \"black\", \"tickfont\": {\"color\": \"black\", \"family\": \"Myriad Pro\", \"size\": 18}, \"ticklen\": 0, \"ticks\": \"outside\", \"title\": {\"font\": {\"color\": \"black\", \"family\": \"Myriad Pro\", \"size\": 24}, \"standoff\": 0, \"text\": \"LAA Tag\"}, \"zeroline\": false}, \"yaxis10\": {\"anchor\": \"x10\", \"domain\": [0.25125, 0.49749999999999994], \"linecolor\": \"black\", \"linewidth\": 1, \"mirror\": true, \"nticks\": 10, \"range\": [0, 1], \"showgrid\": true, \"showline\": true, \"showticklabels\": false, \"tickangle\": 0, \"tickcolor\": \"black\", \"tickfont\": {\"color\": \"black\", \"family\": \"Myriad Pro\", \"size\": 18}, \"ticklen\": 0, \"ticks\": \"outside\", \"title\": {\"font\": {\"color\": \"black\", \"family\": \"Myriad Pro\", \"size\": 24}, \"standoff\": 0}, \"zeroline\": false}, \"yaxis11\": {\"anchor\": \"x11\", \"domain\": [0.25125, 0.49749999999999994], \"linecolor\": \"black\", \"linewidth\": 1, \"mirror\": true, \"nticks\": 10, \"range\": [0, 1], \"showgrid\": true, \"showline\": true, \"showticklabels\": false, \"tickangle\": 0, \"tickcolor\": \"black\", \"tickfont\": {\"color\": \"black\", \"family\": \"Myriad Pro\", \"size\": 18}, \"ticklen\": 0, \"ticks\": \"outside\", \"title\": {\"font\": {\"color\": \"black\", \"family\": \"Myriad Pro\", \"size\": 24}, \"standoff\": 0}, \"zeroline\": false}, \"yaxis12\": {\"anchor\": \"x12\", \"domain\": [0.25125, 0.49749999999999994], \"linecolor\": \"black\", \"linewidth\": 1, \"mirror\": true, \"nticks\": 10, \"range\": [0, 1], \"showgrid\": true, \"showline\": true, \"showticklabels\": false, \"tickangle\": 0, \"tickcolor\": \"black\", \"tickfont\": {\"color\": \"black\", \"family\": \"Myriad Pro\", \"size\": 18}, \"ticklen\": 0, \"ticks\": \"outside\", \"title\": {\"font\": {\"color\": \"black\", \"family\": \"Myriad Pro\", \"size\": 24}, \"standoff\": 0}, \"zeroline\": false}, \"yaxis13\": {\"anchor\": \"x13\", \"domain\": [0.0, 0.24625], \"linecolor\": \"black\", \"linewidth\": 1, \"mirror\": true, \"nticks\": 10, \"range\": [0, 1], \"showgrid\": true, \"showline\": true, \"showticklabels\": false, \"tickangle\": 0, \"tickcolor\": \"black\", \"tickfont\": {\"color\": \"black\", \"family\": \"Myriad Pro\", \"size\": 18}, \"ticklen\": 0, \"ticks\": \"outside\", \"title\": {\"font\": {\"color\": \"black\", \"family\": \"Myriad Pro\", \"size\": 24}, \"standoff\": 0, \"text\": \"No Tag\"}, \"zeroline\": false}, \"yaxis14\": {\"anchor\": \"x14\", \"domain\": [0.0, 0.24625], \"linecolor\": \"black\", \"linewidth\": 1, \"mirror\": true, \"nticks\": 10, \"range\": [0, 1], \"showgrid\": true, \"showline\": true, \"showticklabels\": false, \"tickangle\": 0, \"tickcolor\": \"black\", \"tickfont\": {\"color\": \"black\", \"family\": \"Myriad Pro\", \"size\": 18}, \"ticklen\": 0, \"ticks\": \"outside\", \"title\": {\"font\": {\"color\": \"black\", \"family\": \"Myriad Pro\", \"size\": 24}, \"standoff\": 0}, \"zeroline\": false}, \"yaxis15\": {\"anchor\": \"x15\", \"domain\": [0.0, 0.24625], \"linecolor\": \"black\", \"linewidth\": 1, \"mirror\": true, \"nticks\": 10, \"range\": [0, 1], \"showgrid\": true, \"showline\": true, \"showticklabels\": false, \"tickangle\": 0, \"tickcolor\": \"black\", \"tickfont\": {\"color\": \"black\", \"family\": \"Myriad Pro\", \"size\": 18}, \"ticklen\": 0, \"ticks\": \"outside\", \"title\": {\"font\": {\"color\": \"black\", \"family\": \"Myriad Pro\", \"size\": 24}, \"standoff\": 0}, \"zeroline\": false}, \"yaxis16\": {\"anchor\": \"x16\", \"domain\": [0.0, 0.24625], \"linecolor\": \"black\", \"linewidth\": 1, \"mirror\": true, \"nticks\": 10, \"range\": [0, 1], \"showgrid\": true, \"showline\": true, \"showticklabels\": false, \"tickangle\": 0, \"tickcolor\": \"black\", \"tickfont\": {\"color\": \"black\", \"family\": \"Myriad Pro\", \"size\": 18}, \"ticklen\": 0, \"ticks\": \"outside\", \"title\": {\"font\": {\"color\": \"black\", \"family\": \"Myriad Pro\", \"size\": 24}, \"standoff\": 0}, \"zeroline\": false}, \"yaxis2\": {\"anchor\": \"x2\", \"domain\": [0.75375, 1.0], \"linecolor\": \"black\", \"linewidth\": 1, \"mirror\": true, \"nticks\": 10, \"range\": [0, 1], \"showgrid\": true, \"showline\": true, \"showticklabels\": false, \"tickangle\": 0, \"tickcolor\": \"black\", \"tickfont\": {\"color\": \"black\", \"family\": \"Myriad Pro\", \"size\": 18}, \"ticklen\": 0, \"ticks\": \"outside\", \"title\": {\"font\": {\"color\": \"black\", \"family\": \"Myriad Pro\", \"size\": 24}, \"standoff\": 0}, \"zeroline\": false}, \"yaxis3\": {\"anchor\": \"x3\", \"domain\": [0.75375, 1.0], \"linecolor\": \"black\", \"linewidth\": 1, \"mirror\": true, \"nticks\": 10, \"range\": [0, 1], \"showgrid\": true, \"showline\": true, \"showticklabels\": false, \"tickangle\": 0, \"tickcolor\": \"black\", \"tickfont\": {\"color\": \"black\", \"family\": \"Myriad Pro\", \"size\": 18}, \"ticklen\": 0, \"ticks\": \"outside\", \"title\": {\"font\": {\"color\": \"black\", \"family\": \"Myriad Pro\", \"size\": 24}, \"standoff\": 0}, \"zeroline\": false}, \"yaxis4\": {\"anchor\": \"x4\", \"domain\": [0.75375, 1.0], \"linecolor\": \"black\", \"linewidth\": 1, \"mirror\": true, \"nticks\": 10, \"range\": [0, 1], \"showgrid\": true, \"showline\": true, \"showticklabels\": false, \"tickangle\": 0, \"tickcolor\": \"black\", \"tickfont\": {\"color\": \"black\", \"family\": \"Myriad Pro\", \"size\": 18}, \"ticklen\": 0, \"ticks\": \"outside\", \"title\": {\"font\": {\"color\": \"black\", \"family\": \"Myriad Pro\", \"size\": 24}, \"standoff\": 0}, \"zeroline\": false}, \"yaxis5\": {\"anchor\": \"x5\", \"domain\": [0.5025, 0.7487499999999999], \"linecolor\": \"black\", \"linewidth\": 1, \"mirror\": true, \"nticks\": 10, \"range\": [0, 1], \"showgrid\": true, \"showline\": true, \"showticklabels\": false, \"tickangle\": 0, \"tickcolor\": \"black\", \"tickfont\": {\"color\": \"black\", \"family\": \"Myriad Pro\", \"size\": 18}, \"ticklen\": 0, \"ticks\": \"outside\", \"title\": {\"font\": {\"color\": \"black\", \"family\": \"Myriad Pro\", \"size\": 24}, \"standoff\": 0, \"text\": \"DAS+2 Tag\"}, \"zeroline\": false}, \"yaxis6\": {\"anchor\": \"x6\", \"domain\": [0.5025, 0.7487499999999999], \"linecolor\": \"black\", \"linewidth\": 1, \"mirror\": true, \"nticks\": 10, \"range\": [0, 1], \"showgrid\": true, \"showline\": true, \"showticklabels\": false, \"tickangle\": 0, \"tickcolor\": \"black\", \"tickfont\": {\"color\": \"black\", \"family\": \"Myriad Pro\", \"size\": 18}, \"ticklen\": 0, \"ticks\": \"outside\", \"title\": {\"font\": {\"color\": \"black\", \"family\": \"Myriad Pro\", \"size\": 24}, \"standoff\": 0}, \"zeroline\": false}, \"yaxis7\": {\"anchor\": \"x7\", \"domain\": [0.5025, 0.7487499999999999], \"linecolor\": \"black\", \"linewidth\": 1, \"mirror\": true, \"nticks\": 10, \"range\": [0, 1], \"showgrid\": true, \"showline\": true, \"showticklabels\": false, \"tickangle\": 0, \"tickcolor\": \"black\", \"tickfont\": {\"color\": \"black\", \"family\": \"Myriad Pro\", \"size\": 18}, \"ticklen\": 0, \"ticks\": \"outside\", \"title\": {\"font\": {\"color\": \"black\", \"family\": \"Myriad Pro\", \"size\": 24}, \"standoff\": 0}, \"zeroline\": false}, \"yaxis8\": {\"anchor\": \"x8\", \"domain\": [0.5025, 0.7487499999999999], \"linecolor\": \"black\", \"linewidth\": 1, \"mirror\": true, \"nticks\": 10, \"range\": [0, 1], \"showgrid\": true, \"showline\": true, \"showticklabels\": false, \"tickangle\": 0, \"tickcolor\": \"black\", \"tickfont\": {\"color\": \"black\", \"family\": \"Myriad Pro\", \"size\": 18}, \"ticklen\": 0, \"ticks\": \"outside\", \"title\": {\"font\": {\"color\": \"black\", \"family\": \"Myriad Pro\", \"size\": 24}, \"standoff\": 0}, \"zeroline\": false}, \"yaxis9\": {\"anchor\": \"x9\", \"domain\": [0.25125, 0.49749999999999994], \"linecolor\": \"black\", \"linewidth\": 1, \"mirror\": true, \"nticks\": 10, \"range\": [0, 1], \"showgrid\": true, \"showline\": true, \"showticklabels\": false, \"tickangle\": 0, \"tickcolor\": \"black\", \"tickfont\": {\"color\": \"black\", \"family\": \"Myriad Pro\", \"size\": 18}, \"ticklen\": 0, \"ticks\": \"outside\", \"title\": {\"font\": {\"color\": \"black\", \"family\": \"Myriad Pro\", \"size\": 24}, \"standoff\": 0, \"text\": \"DAS Tag\"}, \"zeroline\": false}},                        {\"responsive\": true}                    ).then(function(){\n",
       "                            \n",
       "var gd = document.getElementById('8124384b-6378-44ce-a9a9-4f22017c21fc');\n",
       "var x = new MutationObserver(function (mutations, observer) {{\n",
       "        var display = window.getComputedStyle(gd).display;\n",
       "        if (!display || display === 'none') {{\n",
       "            console.log([gd, 'removed!']);\n",
       "            Plotly.purge(gd);\n",
       "            observer.disconnect();\n",
       "        }}\n",
       "}});\n",
       "\n",
       "// Listen for the removal of the full notebook cells\n",
       "var notebookContainer = gd.closest('#notebook-container');\n",
       "if (notebookContainer) {{\n",
       "    x.observe(notebookContainer, {childList: true});\n",
       "}}\n",
       "\n",
       "// Listen for the clearing of the current output cell\n",
       "var outputEl = gd.closest('.output');\n",
       "if (outputEl) {{\n",
       "    x.observe(outputEl, {childList: true});\n",
       "}}\n",
       "\n",
       "                        })                };                });            </script>        </div>"
      ]
     },
     "metadata": {},
     "output_type": "display_data"
    },
    {
     "data": {
      "application/vnd.plotly.v1+json": {
       "config": {
        "linkText": "Export to plot.ly",
        "plotlyServerURL": "https://plot.ly",
        "showLink": false
       },
       "data": [
        {
         "fill": "tonextx",
         "fillcolor": "rgb(73,143,201)",
         "legendgroup": "bistable",
         "line": {
          "width": 0
         },
         "mode": "lines",
         "name": "Bistable",
         "showlegend": true,
         "type": "scatter",
         "x": [
          0.875,
          0.875,
          0.875,
          0.875,
          0.875,
          0.875,
          0.875,
          0.875,
          0.875,
          0.875
         ],
         "xaxis": "x13",
         "y": [
          0,
          0.1111111111111111,
          0.2222222222222222,
          0.3333333333333333,
          0.4444444444444444,
          0.5555555555555556,
          0.6666666666666666,
          0.7777777777777777,
          0.8888888888888888,
          1
         ],
         "yaxis": "y13"
        },
        {
         "fill": "tonextx",
         "fillcolor": "rgb(205,92,98)",
         "legendgroup": "tet_stable",
         "line": {
          "width": 0
         },
         "mode": "lines",
         "name": "Monostable Tet",
         "showlegend": true,
         "type": "scatter",
         "x": [
          1,
          1,
          1,
          1,
          1,
          1,
          1,
          1,
          1,
          1
         ],
         "xaxis": "x13",
         "y": [
          0,
          0.1111111111111111,
          0.2222222222222222,
          0.3333333333333333,
          0.4444444444444444,
          0.5555555555555556,
          0.6666666666666666,
          0.7777777777777777,
          0.8888888888888888,
          1
         ],
         "yaxis": "y13"
        },
        {
         "fill": "tonextx",
         "fillcolor": "rgb(89,185,92)",
         "legendgroup": "lac_stable",
         "line": {
          "width": 0
         },
         "mode": "lines",
         "name": "Monostable Lac",
         "showlegend": true,
         "type": "scatter",
         "x": [
          1,
          1,
          1,
          1,
          1,
          1,
          1,
          1,
          1,
          1
         ],
         "xaxis": "x13",
         "y": [
          0,
          0.1111111111111111,
          0.2222222222222222,
          0.3333333333333333,
          0.4444444444444444,
          0.5555555555555556,
          0.6666666666666666,
          0.7777777777777777,
          0.8888888888888888,
          1
         ],
         "yaxis": "y13"
        },
        {
         "fill": "tonextx",
         "fillcolor": "rgb(109,109,109)",
         "legendgroup": "unstable",
         "line": {
          "width": 0
         },
         "mode": "lines",
         "name": "Unstable",
         "showlegend": true,
         "type": "scatter",
         "x": [
          1,
          1,
          1,
          1,
          1,
          1,
          1,
          1,
          1,
          1
         ],
         "xaxis": "x13",
         "y": [
          0,
          0.1111111111111111,
          0.2222222222222222,
          0.3333333333333333,
          0.4444444444444444,
          0.5555555555555556,
          0.6666666666666666,
          0.7777777777777777,
          0.8888888888888888,
          1
         ],
         "yaxis": "y13"
        },
        {
         "fill": "tonextx",
         "fillcolor": "rgb(73,143,201)",
         "legendgroup": "bistable",
         "line": {
          "width": 0
         },
         "mode": "lines",
         "name": "Bistable",
         "showlegend": false,
         "type": "scatter",
         "x": [
          0.625,
          0.625,
          0.625,
          0.625,
          0.625,
          0.625,
          0.625,
          0.625,
          0.625,
          0.625
         ],
         "xaxis": "x9",
         "y": [
          0,
          0.1111111111111111,
          0.2222222222222222,
          0.3333333333333333,
          0.4444444444444444,
          0.5555555555555556,
          0.6666666666666666,
          0.7777777777777777,
          0.8888888888888888,
          1
         ],
         "yaxis": "y9"
        },
        {
         "fill": "tonextx",
         "fillcolor": "rgb(205,92,98)",
         "legendgroup": "tet_stable",
         "line": {
          "width": 0
         },
         "mode": "lines",
         "name": "Monostable Tet",
         "showlegend": false,
         "type": "scatter",
         "x": [
          0.75,
          0.75,
          0.75,
          0.75,
          0.75,
          0.75,
          0.75,
          0.75,
          0.75,
          0.75
         ],
         "xaxis": "x9",
         "y": [
          0,
          0.1111111111111111,
          0.2222222222222222,
          0.3333333333333333,
          0.4444444444444444,
          0.5555555555555556,
          0.6666666666666666,
          0.7777777777777777,
          0.8888888888888888,
          1
         ],
         "yaxis": "y9"
        },
        {
         "fill": "tonextx",
         "fillcolor": "rgb(89,185,92)",
         "legendgroup": "lac_stable",
         "line": {
          "width": 0
         },
         "mode": "lines",
         "name": "Monostable Lac",
         "showlegend": false,
         "type": "scatter",
         "x": [
          1,
          1,
          1,
          1,
          1,
          1,
          1,
          1,
          1,
          1
         ],
         "xaxis": "x9",
         "y": [
          0,
          0.1111111111111111,
          0.2222222222222222,
          0.3333333333333333,
          0.4444444444444444,
          0.5555555555555556,
          0.6666666666666666,
          0.7777777777777777,
          0.8888888888888888,
          1
         ],
         "yaxis": "y9"
        },
        {
         "fill": "tonextx",
         "fillcolor": "rgb(109,109,109)",
         "legendgroup": "unstable",
         "line": {
          "width": 0
         },
         "mode": "lines",
         "name": "Unstable",
         "showlegend": false,
         "type": "scatter",
         "x": [
          1,
          1,
          1,
          1,
          1,
          1,
          1,
          1,
          1,
          1
         ],
         "xaxis": "x9",
         "y": [
          0,
          0.1111111111111111,
          0.2222222222222222,
          0.3333333333333333,
          0.4444444444444444,
          0.5555555555555556,
          0.6666666666666666,
          0.7777777777777777,
          0.8888888888888888,
          1
         ],
         "yaxis": "y9"
        },
        {
         "fill": "tonextx",
         "fillcolor": "rgb(73,143,201)",
         "legendgroup": "bistable",
         "line": {
          "width": 0
         },
         "mode": "lines",
         "name": "Bistable",
         "showlegend": false,
         "type": "scatter",
         "x": [
          0.5,
          0.5,
          0.5,
          0.5,
          0.5,
          0.5,
          0.5,
          0.5,
          0.5,
          0.5
         ],
         "xaxis": "x5",
         "y": [
          0,
          0.1111111111111111,
          0.2222222222222222,
          0.3333333333333333,
          0.4444444444444444,
          0.5555555555555556,
          0.6666666666666666,
          0.7777777777777777,
          0.8888888888888888,
          1
         ],
         "yaxis": "y5"
        },
        {
         "fill": "tonextx",
         "fillcolor": "rgb(205,92,98)",
         "legendgroup": "tet_stable",
         "line": {
          "width": 0
         },
         "mode": "lines",
         "name": "Monostable Tet",
         "showlegend": false,
         "type": "scatter",
         "x": [
          0.5,
          0.5,
          0.5,
          0.5,
          0.5,
          0.5,
          0.5,
          0.5,
          0.5,
          0.5
         ],
         "xaxis": "x5",
         "y": [
          0,
          0.1111111111111111,
          0.2222222222222222,
          0.3333333333333333,
          0.4444444444444444,
          0.5555555555555556,
          0.6666666666666666,
          0.7777777777777777,
          0.8888888888888888,
          1
         ],
         "yaxis": "y5"
        },
        {
         "fill": "tonextx",
         "fillcolor": "rgb(89,185,92)",
         "legendgroup": "lac_stable",
         "line": {
          "width": 0
         },
         "mode": "lines",
         "name": "Monostable Lac",
         "showlegend": false,
         "type": "scatter",
         "x": [
          1,
          1,
          1,
          1,
          1,
          1,
          1,
          1,
          1,
          1
         ],
         "xaxis": "x5",
         "y": [
          0,
          0.1111111111111111,
          0.2222222222222222,
          0.3333333333333333,
          0.4444444444444444,
          0.5555555555555556,
          0.6666666666666666,
          0.7777777777777777,
          0.8888888888888888,
          1
         ],
         "yaxis": "y5"
        },
        {
         "fill": "tonextx",
         "fillcolor": "rgb(109,109,109)",
         "legendgroup": "unstable",
         "line": {
          "width": 0
         },
         "mode": "lines",
         "name": "Unstable",
         "showlegend": false,
         "type": "scatter",
         "x": [
          1,
          1,
          1,
          1,
          1,
          1,
          1,
          1,
          1,
          1
         ],
         "xaxis": "x5",
         "y": [
          0,
          0.1111111111111111,
          0.2222222222222222,
          0.3333333333333333,
          0.4444444444444444,
          0.5555555555555556,
          0.6666666666666666,
          0.7777777777777777,
          0.8888888888888888,
          1
         ],
         "yaxis": "y5"
        },
        {
         "fill": "tonextx",
         "fillcolor": "rgb(73,143,201)",
         "legendgroup": "bistable",
         "line": {
          "width": 0
         },
         "mode": "lines",
         "name": "Bistable",
         "showlegend": false,
         "type": "scatter",
         "x": [
          0.5833333333333334,
          0.5833333333333334,
          0.5833333333333334,
          0.5833333333333334,
          0.5833333333333334,
          0.5833333333333334,
          0.5833333333333334,
          0.5833333333333334,
          0.5833333333333334,
          0.5833333333333334
         ],
         "xaxis": "x",
         "y": [
          0,
          0.1111111111111111,
          0.2222222222222222,
          0.3333333333333333,
          0.4444444444444444,
          0.5555555555555556,
          0.6666666666666666,
          0.7777777777777777,
          0.8888888888888888,
          1
         ],
         "yaxis": "y"
        },
        {
         "fill": "tonextx",
         "fillcolor": "rgb(205,92,98)",
         "legendgroup": "tet_stable",
         "line": {
          "width": 0
         },
         "mode": "lines",
         "name": "Monostable Tet",
         "showlegend": false,
         "type": "scatter",
         "x": [
          0.5833333333333334,
          0.5833333333333334,
          0.5833333333333334,
          0.5833333333333334,
          0.5833333333333334,
          0.5833333333333334,
          0.5833333333333334,
          0.5833333333333334,
          0.5833333333333334,
          0.5833333333333334
         ],
         "xaxis": "x",
         "y": [
          0,
          0.1111111111111111,
          0.2222222222222222,
          0.3333333333333333,
          0.4444444444444444,
          0.5555555555555556,
          0.6666666666666666,
          0.7777777777777777,
          0.8888888888888888,
          1
         ],
         "yaxis": "y"
        },
        {
         "fill": "tonextx",
         "fillcolor": "rgb(89,185,92)",
         "legendgroup": "lac_stable",
         "line": {
          "width": 0
         },
         "mode": "lines",
         "name": "Monostable Lac",
         "showlegend": false,
         "type": "scatter",
         "x": [
          0.9166666666666667,
          0.9166666666666667,
          0.9166666666666667,
          0.9166666666666667,
          0.9166666666666667,
          0.9166666666666667,
          0.9166666666666667,
          0.9166666666666667,
          0.9166666666666667,
          0.9166666666666667
         ],
         "xaxis": "x",
         "y": [
          0,
          0.1111111111111111,
          0.2222222222222222,
          0.3333333333333333,
          0.4444444444444444,
          0.5555555555555556,
          0.6666666666666666,
          0.7777777777777777,
          0.8888888888888888,
          1
         ],
         "yaxis": "y"
        },
        {
         "fill": "tonextx",
         "fillcolor": "rgb(109,109,109)",
         "legendgroup": "unstable",
         "line": {
          "width": 0
         },
         "mode": "lines",
         "name": "Unstable",
         "showlegend": false,
         "type": "scatter",
         "x": [
          1,
          1,
          1,
          1,
          1,
          1,
          1,
          1,
          1,
          1
         ],
         "xaxis": "x",
         "y": [
          0,
          0.1111111111111111,
          0.2222222222222222,
          0.3333333333333333,
          0.4444444444444444,
          0.5555555555555556,
          0.6666666666666666,
          0.7777777777777777,
          0.8888888888888888,
          1
         ],
         "yaxis": "y"
        },
        {
         "fill": "tonextx",
         "fillcolor": "rgb(73,143,201)",
         "legendgroup": "bistable",
         "line": {
          "width": 0
         },
         "mode": "lines",
         "name": "Bistable",
         "showlegend": false,
         "type": "scatter",
         "x": [
          0.5,
          0.5,
          0.5,
          0.5,
          0.5,
          0.5,
          0.5,
          0.5,
          0.5,
          0.5
         ],
         "xaxis": "x14",
         "y": [
          0,
          0.1111111111111111,
          0.2222222222222222,
          0.3333333333333333,
          0.4444444444444444,
          0.5555555555555556,
          0.6666666666666666,
          0.7777777777777777,
          0.8888888888888888,
          1
         ],
         "yaxis": "y14"
        },
        {
         "fill": "tonextx",
         "fillcolor": "rgb(205,92,98)",
         "legendgroup": "tet_stable",
         "line": {
          "width": 0
         },
         "mode": "lines",
         "name": "Monostable Tet",
         "showlegend": false,
         "type": "scatter",
         "x": [
          1,
          1,
          1,
          1,
          1,
          1,
          1,
          1,
          1,
          1
         ],
         "xaxis": "x14",
         "y": [
          0,
          0.1111111111111111,
          0.2222222222222222,
          0.3333333333333333,
          0.4444444444444444,
          0.5555555555555556,
          0.6666666666666666,
          0.7777777777777777,
          0.8888888888888888,
          1
         ],
         "yaxis": "y14"
        },
        {
         "fill": "tonextx",
         "fillcolor": "rgb(89,185,92)",
         "legendgroup": "lac_stable",
         "line": {
          "width": 0
         },
         "mode": "lines",
         "name": "Monostable Lac",
         "showlegend": false,
         "type": "scatter",
         "x": [
          1,
          1,
          1,
          1,
          1,
          1,
          1,
          1,
          1,
          1
         ],
         "xaxis": "x14",
         "y": [
          0,
          0.1111111111111111,
          0.2222222222222222,
          0.3333333333333333,
          0.4444444444444444,
          0.5555555555555556,
          0.6666666666666666,
          0.7777777777777777,
          0.8888888888888888,
          1
         ],
         "yaxis": "y14"
        },
        {
         "fill": "tonextx",
         "fillcolor": "rgb(109,109,109)",
         "legendgroup": "unstable",
         "line": {
          "width": 0
         },
         "mode": "lines",
         "name": "Unstable",
         "showlegend": false,
         "type": "scatter",
         "x": [
          1,
          1,
          1,
          1,
          1,
          1,
          1,
          1,
          1,
          1
         ],
         "xaxis": "x14",
         "y": [
          0,
          0.1111111111111111,
          0.2222222222222222,
          0.3333333333333333,
          0.4444444444444444,
          0.5555555555555556,
          0.6666666666666666,
          0.7777777777777777,
          0.8888888888888888,
          1
         ],
         "yaxis": "y14"
        },
        {
         "fill": "tonextx",
         "fillcolor": "rgb(73,143,201)",
         "legendgroup": "bistable",
         "line": {
          "width": 0
         },
         "mode": "lines",
         "name": "Bistable",
         "showlegend": false,
         "type": "scatter",
         "x": [
          0.5,
          0.5,
          0.5,
          0.5,
          0.5,
          0.5,
          0.5,
          0.5,
          0.5,
          0.5
         ],
         "xaxis": "x10",
         "y": [
          0,
          0.1111111111111111,
          0.2222222222222222,
          0.3333333333333333,
          0.4444444444444444,
          0.5555555555555556,
          0.6666666666666666,
          0.7777777777777777,
          0.8888888888888888,
          1
         ],
         "yaxis": "y10"
        },
        {
         "fill": "tonextx",
         "fillcolor": "rgb(205,92,98)",
         "legendgroup": "tet_stable",
         "line": {
          "width": 0
         },
         "mode": "lines",
         "name": "Monostable Tet",
         "showlegend": false,
         "type": "scatter",
         "x": [
          1,
          1,
          1,
          1,
          1,
          1,
          1,
          1,
          1,
          1
         ],
         "xaxis": "x10",
         "y": [
          0,
          0.1111111111111111,
          0.2222222222222222,
          0.3333333333333333,
          0.4444444444444444,
          0.5555555555555556,
          0.6666666666666666,
          0.7777777777777777,
          0.8888888888888888,
          1
         ],
         "yaxis": "y10"
        },
        {
         "fill": "tonextx",
         "fillcolor": "rgb(89,185,92)",
         "legendgroup": "lac_stable",
         "line": {
          "width": 0
         },
         "mode": "lines",
         "name": "Monostable Lac",
         "showlegend": false,
         "type": "scatter",
         "x": [
          1,
          1,
          1,
          1,
          1,
          1,
          1,
          1,
          1,
          1
         ],
         "xaxis": "x10",
         "y": [
          0,
          0.1111111111111111,
          0.2222222222222222,
          0.3333333333333333,
          0.4444444444444444,
          0.5555555555555556,
          0.6666666666666666,
          0.7777777777777777,
          0.8888888888888888,
          1
         ],
         "yaxis": "y10"
        },
        {
         "fill": "tonextx",
         "fillcolor": "rgb(109,109,109)",
         "legendgroup": "unstable",
         "line": {
          "width": 0
         },
         "mode": "lines",
         "name": "Unstable",
         "showlegend": false,
         "type": "scatter",
         "x": [
          1,
          1,
          1,
          1,
          1,
          1,
          1,
          1,
          1,
          1
         ],
         "xaxis": "x10",
         "y": [
          0,
          0.1111111111111111,
          0.2222222222222222,
          0.3333333333333333,
          0.4444444444444444,
          0.5555555555555556,
          0.6666666666666666,
          0.7777777777777777,
          0.8888888888888888,
          1
         ],
         "yaxis": "y10"
        },
        {
         "fill": "tonextx",
         "fillcolor": "rgb(73,143,201)",
         "legendgroup": "bistable",
         "line": {
          "width": 0
         },
         "mode": "lines",
         "name": "Bistable",
         "showlegend": false,
         "type": "scatter",
         "x": [
          0.3333333333333333,
          0.3333333333333333,
          0.3333333333333333,
          0.3333333333333333,
          0.3333333333333333,
          0.3333333333333333,
          0.3333333333333333,
          0.3333333333333333,
          0.3333333333333333,
          0.3333333333333333
         ],
         "xaxis": "x6",
         "y": [
          0,
          0.1111111111111111,
          0.2222222222222222,
          0.3333333333333333,
          0.4444444444444444,
          0.5555555555555556,
          0.6666666666666666,
          0.7777777777777777,
          0.8888888888888888,
          1
         ],
         "yaxis": "y6"
        },
        {
         "fill": "tonextx",
         "fillcolor": "rgb(205,92,98)",
         "legendgroup": "tet_stable",
         "line": {
          "width": 0
         },
         "mode": "lines",
         "name": "Monostable Tet",
         "showlegend": false,
         "type": "scatter",
         "x": [
          0.3333333333333333,
          0.3333333333333333,
          0.3333333333333333,
          0.3333333333333333,
          0.3333333333333333,
          0.3333333333333333,
          0.3333333333333333,
          0.3333333333333333,
          0.3333333333333333,
          0.3333333333333333
         ],
         "xaxis": "x6",
         "y": [
          0,
          0.1111111111111111,
          0.2222222222222222,
          0.3333333333333333,
          0.4444444444444444,
          0.5555555555555556,
          0.6666666666666666,
          0.7777777777777777,
          0.8888888888888888,
          1
         ],
         "yaxis": "y6"
        },
        {
         "fill": "tonextx",
         "fillcolor": "rgb(89,185,92)",
         "legendgroup": "lac_stable",
         "line": {
          "width": 0
         },
         "mode": "lines",
         "name": "Monostable Lac",
         "showlegend": false,
         "type": "scatter",
         "x": [
          0.6666666666666666,
          0.6666666666666666,
          0.6666666666666666,
          0.6666666666666666,
          0.6666666666666666,
          0.6666666666666666,
          0.6666666666666666,
          0.6666666666666666,
          0.6666666666666666,
          0.6666666666666666
         ],
         "xaxis": "x6",
         "y": [
          0,
          0.1111111111111111,
          0.2222222222222222,
          0.3333333333333333,
          0.4444444444444444,
          0.5555555555555556,
          0.6666666666666666,
          0.7777777777777777,
          0.8888888888888888,
          1
         ],
         "yaxis": "y6"
        },
        {
         "fill": "tonextx",
         "fillcolor": "rgb(109,109,109)",
         "legendgroup": "unstable",
         "line": {
          "width": 0
         },
         "mode": "lines",
         "name": "Unstable",
         "showlegend": false,
         "type": "scatter",
         "x": [
          1,
          1,
          1,
          1,
          1,
          1,
          1,
          1,
          1,
          1
         ],
         "xaxis": "x6",
         "y": [
          0,
          0.1111111111111111,
          0.2222222222222222,
          0.3333333333333333,
          0.4444444444444444,
          0.5555555555555556,
          0.6666666666666666,
          0.7777777777777777,
          0.8888888888888888,
          1
         ],
         "yaxis": "y6"
        },
        {
         "fill": "tonextx",
         "fillcolor": "rgb(73,143,201)",
         "legendgroup": "bistable",
         "line": {
          "width": 0
         },
         "mode": "lines",
         "name": "Bistable",
         "showlegend": false,
         "type": "scatter",
         "x": [
          0.6666666666666666,
          0.6666666666666666,
          0.6666666666666666,
          0.6666666666666666,
          0.6666666666666666,
          0.6666666666666666,
          0.6666666666666666,
          0.6666666666666666,
          0.6666666666666666,
          0.6666666666666666
         ],
         "xaxis": "x2",
         "y": [
          0,
          0.1111111111111111,
          0.2222222222222222,
          0.3333333333333333,
          0.4444444444444444,
          0.5555555555555556,
          0.6666666666666666,
          0.7777777777777777,
          0.8888888888888888,
          1
         ],
         "yaxis": "y2"
        },
        {
         "fill": "tonextx",
         "fillcolor": "rgb(205,92,98)",
         "legendgroup": "tet_stable",
         "line": {
          "width": 0
         },
         "mode": "lines",
         "name": "Monostable Tet",
         "showlegend": false,
         "type": "scatter",
         "x": [
          0.6666666666666666,
          0.6666666666666666,
          0.6666666666666666,
          0.6666666666666666,
          0.6666666666666666,
          0.6666666666666666,
          0.6666666666666666,
          0.6666666666666666,
          0.6666666666666666,
          0.6666666666666666
         ],
         "xaxis": "x2",
         "y": [
          0,
          0.1111111111111111,
          0.2222222222222222,
          0.3333333333333333,
          0.4444444444444444,
          0.5555555555555556,
          0.6666666666666666,
          0.7777777777777777,
          0.8888888888888888,
          1
         ],
         "yaxis": "y2"
        },
        {
         "fill": "tonextx",
         "fillcolor": "rgb(89,185,92)",
         "legendgroup": "lac_stable",
         "line": {
          "width": 0
         },
         "mode": "lines",
         "name": "Monostable Lac",
         "showlegend": false,
         "type": "scatter",
         "x": [
          1,
          1,
          1,
          1,
          1,
          1,
          1,
          1,
          1,
          1
         ],
         "xaxis": "x2",
         "y": [
          0,
          0.1111111111111111,
          0.2222222222222222,
          0.3333333333333333,
          0.4444444444444444,
          0.5555555555555556,
          0.6666666666666666,
          0.7777777777777777,
          0.8888888888888888,
          1
         ],
         "yaxis": "y2"
        },
        {
         "fill": "tonextx",
         "fillcolor": "rgb(109,109,109)",
         "legendgroup": "unstable",
         "line": {
          "width": 0
         },
         "mode": "lines",
         "name": "Unstable",
         "showlegend": false,
         "type": "scatter",
         "x": [
          1,
          1,
          1,
          1,
          1,
          1,
          1,
          1,
          1,
          1
         ],
         "xaxis": "x2",
         "y": [
          0,
          0.1111111111111111,
          0.2222222222222222,
          0.3333333333333333,
          0.4444444444444444,
          0.5555555555555556,
          0.6666666666666666,
          0.7777777777777777,
          0.8888888888888888,
          1
         ],
         "yaxis": "y2"
        },
        {
         "fill": "tonextx",
         "fillcolor": "rgb(73,143,201)",
         "legendgroup": "bistable",
         "line": {
          "width": 0
         },
         "mode": "lines",
         "name": "Bistable",
         "showlegend": false,
         "type": "scatter",
         "x": [
          0.75,
          0.75,
          0.75,
          0.75,
          0.75,
          0.75,
          0.75,
          0.75,
          0.75,
          0.75
         ],
         "xaxis": "x15",
         "y": [
          0,
          0.1111111111111111,
          0.2222222222222222,
          0.3333333333333333,
          0.4444444444444444,
          0.5555555555555556,
          0.6666666666666666,
          0.7777777777777777,
          0.8888888888888888,
          1
         ],
         "yaxis": "y15"
        },
        {
         "fill": "tonextx",
         "fillcolor": "rgb(205,92,98)",
         "legendgroup": "tet_stable",
         "line": {
          "width": 0
         },
         "mode": "lines",
         "name": "Monostable Tet",
         "showlegend": false,
         "type": "scatter",
         "x": [
          1,
          1,
          1,
          1,
          1,
          1,
          1,
          1,
          1,
          1
         ],
         "xaxis": "x15",
         "y": [
          0,
          0.1111111111111111,
          0.2222222222222222,
          0.3333333333333333,
          0.4444444444444444,
          0.5555555555555556,
          0.6666666666666666,
          0.7777777777777777,
          0.8888888888888888,
          1
         ],
         "yaxis": "y15"
        },
        {
         "fill": "tonextx",
         "fillcolor": "rgb(89,185,92)",
         "legendgroup": "lac_stable",
         "line": {
          "width": 0
         },
         "mode": "lines",
         "name": "Monostable Lac",
         "showlegend": false,
         "type": "scatter",
         "x": [
          1,
          1,
          1,
          1,
          1,
          1,
          1,
          1,
          1,
          1
         ],
         "xaxis": "x15",
         "y": [
          0,
          0.1111111111111111,
          0.2222222222222222,
          0.3333333333333333,
          0.4444444444444444,
          0.5555555555555556,
          0.6666666666666666,
          0.7777777777777777,
          0.8888888888888888,
          1
         ],
         "yaxis": "y15"
        },
        {
         "fill": "tonextx",
         "fillcolor": "rgb(109,109,109)",
         "legendgroup": "unstable",
         "line": {
          "width": 0
         },
         "mode": "lines",
         "name": "Unstable",
         "showlegend": false,
         "type": "scatter",
         "x": [
          1,
          1,
          1,
          1,
          1,
          1,
          1,
          1,
          1,
          1
         ],
         "xaxis": "x15",
         "y": [
          0,
          0.1111111111111111,
          0.2222222222222222,
          0.3333333333333333,
          0.4444444444444444,
          0.5555555555555556,
          0.6666666666666666,
          0.7777777777777777,
          0.8888888888888888,
          1
         ],
         "yaxis": "y15"
        },
        {
         "fill": "tonextx",
         "fillcolor": "rgb(73,143,201)",
         "legendgroup": "bistable",
         "line": {
          "width": 0
         },
         "mode": "lines",
         "name": "Bistable",
         "showlegend": false,
         "type": "scatter",
         "x": [
          0.5,
          0.5,
          0.5,
          0.5,
          0.5,
          0.5,
          0.5,
          0.5,
          0.5,
          0.5
         ],
         "xaxis": "x11",
         "y": [
          0,
          0.1111111111111111,
          0.2222222222222222,
          0.3333333333333333,
          0.4444444444444444,
          0.5555555555555556,
          0.6666666666666666,
          0.7777777777777777,
          0.8888888888888888,
          1
         ],
         "yaxis": "y11"
        },
        {
         "fill": "tonextx",
         "fillcolor": "rgb(205,92,98)",
         "legendgroup": "tet_stable",
         "line": {
          "width": 0
         },
         "mode": "lines",
         "name": "Monostable Tet",
         "showlegend": false,
         "type": "scatter",
         "x": [
          0.75,
          0.75,
          0.75,
          0.75,
          0.75,
          0.75,
          0.75,
          0.75,
          0.75,
          0.75
         ],
         "xaxis": "x11",
         "y": [
          0,
          0.1111111111111111,
          0.2222222222222222,
          0.3333333333333333,
          0.4444444444444444,
          0.5555555555555556,
          0.6666666666666666,
          0.7777777777777777,
          0.8888888888888888,
          1
         ],
         "yaxis": "y11"
        },
        {
         "fill": "tonextx",
         "fillcolor": "rgb(89,185,92)",
         "legendgroup": "lac_stable",
         "line": {
          "width": 0
         },
         "mode": "lines",
         "name": "Monostable Lac",
         "showlegend": false,
         "type": "scatter",
         "x": [
          1,
          1,
          1,
          1,
          1,
          1,
          1,
          1,
          1,
          1
         ],
         "xaxis": "x11",
         "y": [
          0,
          0.1111111111111111,
          0.2222222222222222,
          0.3333333333333333,
          0.4444444444444444,
          0.5555555555555556,
          0.6666666666666666,
          0.7777777777777777,
          0.8888888888888888,
          1
         ],
         "yaxis": "y11"
        },
        {
         "fill": "tonextx",
         "fillcolor": "rgb(109,109,109)",
         "legendgroup": "unstable",
         "line": {
          "width": 0
         },
         "mode": "lines",
         "name": "Unstable",
         "showlegend": false,
         "type": "scatter",
         "x": [
          1,
          1,
          1,
          1,
          1,
          1,
          1,
          1,
          1,
          1
         ],
         "xaxis": "x11",
         "y": [
          0,
          0.1111111111111111,
          0.2222222222222222,
          0.3333333333333333,
          0.4444444444444444,
          0.5555555555555556,
          0.6666666666666666,
          0.7777777777777777,
          0.8888888888888888,
          1
         ],
         "yaxis": "y11"
        },
        {
         "fill": "tonextx",
         "fillcolor": "rgb(73,143,201)",
         "legendgroup": "bistable",
         "line": {
          "width": 0
         },
         "mode": "lines",
         "name": "Bistable",
         "showlegend": false,
         "type": "scatter",
         "x": [
          0.5,
          0.5,
          0.5,
          0.5,
          0.5,
          0.5,
          0.5,
          0.5,
          0.5,
          0.5
         ],
         "xaxis": "x7",
         "y": [
          0,
          0.1111111111111111,
          0.2222222222222222,
          0.3333333333333333,
          0.4444444444444444,
          0.5555555555555556,
          0.6666666666666666,
          0.7777777777777777,
          0.8888888888888888,
          1
         ],
         "yaxis": "y7"
        },
        {
         "fill": "tonextx",
         "fillcolor": "rgb(205,92,98)",
         "legendgroup": "tet_stable",
         "line": {
          "width": 0
         },
         "mode": "lines",
         "name": "Monostable Tet",
         "showlegend": false,
         "type": "scatter",
         "x": [
          0.5,
          0.5,
          0.5,
          0.5,
          0.5,
          0.5,
          0.5,
          0.5,
          0.5,
          0.5
         ],
         "xaxis": "x7",
         "y": [
          0,
          0.1111111111111111,
          0.2222222222222222,
          0.3333333333333333,
          0.4444444444444444,
          0.5555555555555556,
          0.6666666666666666,
          0.7777777777777777,
          0.8888888888888888,
          1
         ],
         "yaxis": "y7"
        },
        {
         "fill": "tonextx",
         "fillcolor": "rgb(89,185,92)",
         "legendgroup": "lac_stable",
         "line": {
          "width": 0
         },
         "mode": "lines",
         "name": "Monostable Lac",
         "showlegend": false,
         "type": "scatter",
         "x": [
          0.8333333333333333,
          0.8333333333333333,
          0.8333333333333333,
          0.8333333333333333,
          0.8333333333333333,
          0.8333333333333333,
          0.8333333333333333,
          0.8333333333333333,
          0.8333333333333333,
          0.8333333333333333
         ],
         "xaxis": "x7",
         "y": [
          0,
          0.1111111111111111,
          0.2222222222222222,
          0.3333333333333333,
          0.4444444444444444,
          0.5555555555555556,
          0.6666666666666666,
          0.7777777777777777,
          0.8888888888888888,
          1
         ],
         "yaxis": "y7"
        },
        {
         "fill": "tonextx",
         "fillcolor": "rgb(109,109,109)",
         "legendgroup": "unstable",
         "line": {
          "width": 0
         },
         "mode": "lines",
         "name": "Unstable",
         "showlegend": false,
         "type": "scatter",
         "x": [
          0.9999999999999999,
          0.9999999999999999,
          0.9999999999999999,
          0.9999999999999999,
          0.9999999999999999,
          0.9999999999999999,
          0.9999999999999999,
          0.9999999999999999,
          0.9999999999999999,
          0.9999999999999999
         ],
         "xaxis": "x7",
         "y": [
          0,
          0.1111111111111111,
          0.2222222222222222,
          0.3333333333333333,
          0.4444444444444444,
          0.5555555555555556,
          0.6666666666666666,
          0.7777777777777777,
          0.8888888888888888,
          1
         ],
         "yaxis": "y7"
        },
        {
         "fill": "tonextx",
         "fillcolor": "rgb(73,143,201)",
         "legendgroup": "bistable",
         "line": {
          "width": 0
         },
         "mode": "lines",
         "name": "Bistable",
         "showlegend": false,
         "type": "scatter",
         "x": [
          0.6666666666666666,
          0.6666666666666666,
          0.6666666666666666,
          0.6666666666666666,
          0.6666666666666666,
          0.6666666666666666,
          0.6666666666666666,
          0.6666666666666666,
          0.6666666666666666,
          0.6666666666666666
         ],
         "xaxis": "x3",
         "y": [
          0,
          0.1111111111111111,
          0.2222222222222222,
          0.3333333333333333,
          0.4444444444444444,
          0.5555555555555556,
          0.6666666666666666,
          0.7777777777777777,
          0.8888888888888888,
          1
         ],
         "yaxis": "y3"
        },
        {
         "fill": "tonextx",
         "fillcolor": "rgb(205,92,98)",
         "legendgroup": "tet_stable",
         "line": {
          "width": 0
         },
         "mode": "lines",
         "name": "Monostable Tet",
         "showlegend": false,
         "type": "scatter",
         "x": [
          0.6666666666666666,
          0.6666666666666666,
          0.6666666666666666,
          0.6666666666666666,
          0.6666666666666666,
          0.6666666666666666,
          0.6666666666666666,
          0.6666666666666666,
          0.6666666666666666,
          0.6666666666666666
         ],
         "xaxis": "x3",
         "y": [
          0,
          0.1111111111111111,
          0.2222222222222222,
          0.3333333333333333,
          0.4444444444444444,
          0.5555555555555556,
          0.6666666666666666,
          0.7777777777777777,
          0.8888888888888888,
          1
         ],
         "yaxis": "y3"
        },
        {
         "fill": "tonextx",
         "fillcolor": "rgb(89,185,92)",
         "legendgroup": "lac_stable",
         "line": {
          "width": 0
         },
         "mode": "lines",
         "name": "Monostable Lac",
         "showlegend": false,
         "type": "scatter",
         "x": [
          0.8333333333333333,
          0.8333333333333333,
          0.8333333333333333,
          0.8333333333333333,
          0.8333333333333333,
          0.8333333333333333,
          0.8333333333333333,
          0.8333333333333333,
          0.8333333333333333,
          0.8333333333333333
         ],
         "xaxis": "x3",
         "y": [
          0,
          0.1111111111111111,
          0.2222222222222222,
          0.3333333333333333,
          0.4444444444444444,
          0.5555555555555556,
          0.6666666666666666,
          0.7777777777777777,
          0.8888888888888888,
          1
         ],
         "yaxis": "y3"
        },
        {
         "fill": "tonextx",
         "fillcolor": "rgb(109,109,109)",
         "legendgroup": "unstable",
         "line": {
          "width": 0
         },
         "mode": "lines",
         "name": "Unstable",
         "showlegend": false,
         "type": "scatter",
         "x": [
          0.9999999999999999,
          0.9999999999999999,
          0.9999999999999999,
          0.9999999999999999,
          0.9999999999999999,
          0.9999999999999999,
          0.9999999999999999,
          0.9999999999999999,
          0.9999999999999999,
          0.9999999999999999
         ],
         "xaxis": "x3",
         "y": [
          0,
          0.1111111111111111,
          0.2222222222222222,
          0.3333333333333333,
          0.4444444444444444,
          0.5555555555555556,
          0.6666666666666666,
          0.7777777777777777,
          0.8888888888888888,
          1
         ],
         "yaxis": "y3"
        },
        {
         "fill": "tonextx",
         "fillcolor": "rgb(73,143,201)",
         "legendgroup": "bistable",
         "line": {
          "width": 0
         },
         "mode": "lines",
         "name": "Bistable",
         "showlegend": false,
         "type": "scatter",
         "x": [
          0.5,
          0.5,
          0.5,
          0.5,
          0.5,
          0.5,
          0.5,
          0.5,
          0.5,
          0.5
         ],
         "xaxis": "x16",
         "y": [
          0,
          0.1111111111111111,
          0.2222222222222222,
          0.3333333333333333,
          0.4444444444444444,
          0.5555555555555556,
          0.6666666666666666,
          0.7777777777777777,
          0.8888888888888888,
          1
         ],
         "yaxis": "y16"
        },
        {
         "fill": "tonextx",
         "fillcolor": "rgb(205,92,98)",
         "legendgroup": "tet_stable",
         "line": {
          "width": 0
         },
         "mode": "lines",
         "name": "Monostable Tet",
         "showlegend": false,
         "type": "scatter",
         "x": [
          1,
          1,
          1,
          1,
          1,
          1,
          1,
          1,
          1,
          1
         ],
         "xaxis": "x16",
         "y": [
          0,
          0.1111111111111111,
          0.2222222222222222,
          0.3333333333333333,
          0.4444444444444444,
          0.5555555555555556,
          0.6666666666666666,
          0.7777777777777777,
          0.8888888888888888,
          1
         ],
         "yaxis": "y16"
        },
        {
         "fill": "tonextx",
         "fillcolor": "rgb(89,185,92)",
         "legendgroup": "lac_stable",
         "line": {
          "width": 0
         },
         "mode": "lines",
         "name": "Monostable Lac",
         "showlegend": false,
         "type": "scatter",
         "x": [
          1,
          1,
          1,
          1,
          1,
          1,
          1,
          1,
          1,
          1
         ],
         "xaxis": "x16",
         "y": [
          0,
          0.1111111111111111,
          0.2222222222222222,
          0.3333333333333333,
          0.4444444444444444,
          0.5555555555555556,
          0.6666666666666666,
          0.7777777777777777,
          0.8888888888888888,
          1
         ],
         "yaxis": "y16"
        },
        {
         "fill": "tonextx",
         "fillcolor": "rgb(109,109,109)",
         "legendgroup": "unstable",
         "line": {
          "width": 0
         },
         "mode": "lines",
         "name": "Unstable",
         "showlegend": false,
         "type": "scatter",
         "x": [
          1,
          1,
          1,
          1,
          1,
          1,
          1,
          1,
          1,
          1
         ],
         "xaxis": "x16",
         "y": [
          0,
          0.1111111111111111,
          0.2222222222222222,
          0.3333333333333333,
          0.4444444444444444,
          0.5555555555555556,
          0.6666666666666666,
          0.7777777777777777,
          0.8888888888888888,
          1
         ],
         "yaxis": "y16"
        },
        {
         "fill": "tonextx",
         "fillcolor": "rgb(73,143,201)",
         "legendgroup": "bistable",
         "line": {
          "width": 0
         },
         "mode": "lines",
         "name": "Bistable",
         "showlegend": false,
         "type": "scatter",
         "x": [
          0.5,
          0.5,
          0.5,
          0.5,
          0.5,
          0.5,
          0.5,
          0.5,
          0.5,
          0.5
         ],
         "xaxis": "x12",
         "y": [
          0,
          0.1111111111111111,
          0.2222222222222222,
          0.3333333333333333,
          0.4444444444444444,
          0.5555555555555556,
          0.6666666666666666,
          0.7777777777777777,
          0.8888888888888888,
          1
         ],
         "yaxis": "y12"
        },
        {
         "fill": "tonextx",
         "fillcolor": "rgb(205,92,98)",
         "legendgroup": "tet_stable",
         "line": {
          "width": 0
         },
         "mode": "lines",
         "name": "Monostable Tet",
         "showlegend": false,
         "type": "scatter",
         "x": [
          1,
          1,
          1,
          1,
          1,
          1,
          1,
          1,
          1,
          1
         ],
         "xaxis": "x12",
         "y": [
          0,
          0.1111111111111111,
          0.2222222222222222,
          0.3333333333333333,
          0.4444444444444444,
          0.5555555555555556,
          0.6666666666666666,
          0.7777777777777777,
          0.8888888888888888,
          1
         ],
         "yaxis": "y12"
        },
        {
         "fill": "tonextx",
         "fillcolor": "rgb(89,185,92)",
         "legendgroup": "lac_stable",
         "line": {
          "width": 0
         },
         "mode": "lines",
         "name": "Monostable Lac",
         "showlegend": false,
         "type": "scatter",
         "x": [
          1,
          1,
          1,
          1,
          1,
          1,
          1,
          1,
          1,
          1
         ],
         "xaxis": "x12",
         "y": [
          0,
          0.1111111111111111,
          0.2222222222222222,
          0.3333333333333333,
          0.4444444444444444,
          0.5555555555555556,
          0.6666666666666666,
          0.7777777777777777,
          0.8888888888888888,
          1
         ],
         "yaxis": "y12"
        },
        {
         "fill": "tonextx",
         "fillcolor": "rgb(109,109,109)",
         "legendgroup": "unstable",
         "line": {
          "width": 0
         },
         "mode": "lines",
         "name": "Unstable",
         "showlegend": false,
         "type": "scatter",
         "x": [
          1,
          1,
          1,
          1,
          1,
          1,
          1,
          1,
          1,
          1
         ],
         "xaxis": "x12",
         "y": [
          0,
          0.1111111111111111,
          0.2222222222222222,
          0.3333333333333333,
          0.4444444444444444,
          0.5555555555555556,
          0.6666666666666666,
          0.7777777777777777,
          0.8888888888888888,
          1
         ],
         "yaxis": "y12"
        },
        {
         "fill": "tonextx",
         "fillcolor": "rgb(73,143,201)",
         "legendgroup": "bistable",
         "line": {
          "width": 0
         },
         "mode": "lines",
         "name": "Bistable",
         "showlegend": false,
         "type": "scatter",
         "x": [
          0.3333333333333333,
          0.3333333333333333,
          0.3333333333333333,
          0.3333333333333333,
          0.3333333333333333,
          0.3333333333333333,
          0.3333333333333333,
          0.3333333333333333,
          0.3333333333333333,
          0.3333333333333333
         ],
         "xaxis": "x8",
         "y": [
          0,
          0.1111111111111111,
          0.2222222222222222,
          0.3333333333333333,
          0.4444444444444444,
          0.5555555555555556,
          0.6666666666666666,
          0.7777777777777777,
          0.8888888888888888,
          1
         ],
         "yaxis": "y8"
        },
        {
         "fill": "tonextx",
         "fillcolor": "rgb(205,92,98)",
         "legendgroup": "tet_stable",
         "line": {
          "width": 0
         },
         "mode": "lines",
         "name": "Monostable Tet",
         "showlegend": false,
         "type": "scatter",
         "x": [
          0.7777777777777777,
          0.7777777777777777,
          0.7777777777777777,
          0.7777777777777777,
          0.7777777777777777,
          0.7777777777777777,
          0.7777777777777777,
          0.7777777777777777,
          0.7777777777777777,
          0.7777777777777777
         ],
         "xaxis": "x8",
         "y": [
          0,
          0.1111111111111111,
          0.2222222222222222,
          0.3333333333333333,
          0.4444444444444444,
          0.5555555555555556,
          0.6666666666666666,
          0.7777777777777777,
          0.8888888888888888,
          1
         ],
         "yaxis": "y8"
        },
        {
         "fill": "tonextx",
         "fillcolor": "rgb(89,185,92)",
         "legendgroup": "lac_stable",
         "line": {
          "width": 0
         },
         "mode": "lines",
         "name": "Monostable Lac",
         "showlegend": false,
         "type": "scatter",
         "x": [
          0.8888888888888888,
          0.8888888888888888,
          0.8888888888888888,
          0.8888888888888888,
          0.8888888888888888,
          0.8888888888888888,
          0.8888888888888888,
          0.8888888888888888,
          0.8888888888888888,
          0.8888888888888888
         ],
         "xaxis": "x8",
         "y": [
          0,
          0.1111111111111111,
          0.2222222222222222,
          0.3333333333333333,
          0.4444444444444444,
          0.5555555555555556,
          0.6666666666666666,
          0.7777777777777777,
          0.8888888888888888,
          1
         ],
         "yaxis": "y8"
        },
        {
         "fill": "tonextx",
         "fillcolor": "rgb(109,109,109)",
         "legendgroup": "unstable",
         "line": {
          "width": 0
         },
         "mode": "lines",
         "name": "Unstable",
         "showlegend": false,
         "type": "scatter",
         "x": [
          1,
          1,
          1,
          1,
          1,
          1,
          1,
          1,
          1,
          1
         ],
         "xaxis": "x8",
         "y": [
          0,
          0.1111111111111111,
          0.2222222222222222,
          0.3333333333333333,
          0.4444444444444444,
          0.5555555555555556,
          0.6666666666666666,
          0.7777777777777777,
          0.8888888888888888,
          1
         ],
         "yaxis": "y8"
        },
        {
         "fill": "tonextx",
         "fillcolor": "rgb(73,143,201)",
         "legendgroup": "bistable",
         "line": {
          "width": 0
         },
         "mode": "lines",
         "name": "Bistable",
         "showlegend": false,
         "type": "scatter",
         "x": [
          0.6666666666666666,
          0.6666666666666666,
          0.6666666666666666,
          0.6666666666666666,
          0.6666666666666666,
          0.6666666666666666,
          0.6666666666666666,
          0.6666666666666666,
          0.6666666666666666,
          0.6666666666666666
         ],
         "xaxis": "x4",
         "y": [
          0,
          0.1111111111111111,
          0.2222222222222222,
          0.3333333333333333,
          0.4444444444444444,
          0.5555555555555556,
          0.6666666666666666,
          0.7777777777777777,
          0.8888888888888888,
          1
         ],
         "yaxis": "y4"
        },
        {
         "fill": "tonextx",
         "fillcolor": "rgb(205,92,98)",
         "legendgroup": "tet_stable",
         "line": {
          "width": 0
         },
         "mode": "lines",
         "name": "Monostable Tet",
         "showlegend": false,
         "type": "scatter",
         "x": [
          0.6666666666666666,
          0.6666666666666666,
          0.6666666666666666,
          0.6666666666666666,
          0.6666666666666666,
          0.6666666666666666,
          0.6666666666666666,
          0.6666666666666666,
          0.6666666666666666,
          0.6666666666666666
         ],
         "xaxis": "x4",
         "y": [
          0,
          0.1111111111111111,
          0.2222222222222222,
          0.3333333333333333,
          0.4444444444444444,
          0.5555555555555556,
          0.6666666666666666,
          0.7777777777777777,
          0.8888888888888888,
          1
         ],
         "yaxis": "y4"
        },
        {
         "fill": "tonextx",
         "fillcolor": "rgb(89,185,92)",
         "legendgroup": "lac_stable",
         "line": {
          "width": 0
         },
         "mode": "lines",
         "name": "Monostable Lac",
         "showlegend": false,
         "type": "scatter",
         "x": [
          0.8888888888888888,
          0.8888888888888888,
          0.8888888888888888,
          0.8888888888888888,
          0.8888888888888888,
          0.8888888888888888,
          0.8888888888888888,
          0.8888888888888888,
          0.8888888888888888,
          0.8888888888888888
         ],
         "xaxis": "x4",
         "y": [
          0,
          0.1111111111111111,
          0.2222222222222222,
          0.3333333333333333,
          0.4444444444444444,
          0.5555555555555556,
          0.6666666666666666,
          0.7777777777777777,
          0.8888888888888888,
          1
         ],
         "yaxis": "y4"
        },
        {
         "fill": "tonextx",
         "fillcolor": "rgb(109,109,109)",
         "legendgroup": "unstable",
         "line": {
          "width": 0
         },
         "mode": "lines",
         "name": "Unstable",
         "showlegend": false,
         "type": "scatter",
         "x": [
          1,
          1,
          1,
          1,
          1,
          1,
          1,
          1,
          1,
          1
         ],
         "xaxis": "x4",
         "y": [
          0,
          0.1111111111111111,
          0.2222222222222222,
          0.3333333333333333,
          0.4444444444444444,
          0.5555555555555556,
          0.6666666666666666,
          0.7777777777777777,
          0.8888888888888888,
          1
         ],
         "yaxis": "y4"
        }
       ],
       "layout": {
        "annotations": [
         {
          "font": {
           "color": "black",
           "family": "Myriad Pro",
           "size": 18
          },
          "showarrow": false,
          "text": "88%",
          "x": 0.4375,
          "xref": "x13",
          "y": 0.5,
          "yref": "y13"
         },
         {
          "font": {
           "color": "black",
           "family": "Myriad Pro",
           "size": 18
          },
          "showarrow": false,
          "text": "12%",
          "x": 0.9375,
          "xref": "x13",
          "y": 0.5,
          "yref": "y13"
         },
         {
          "font": {
           "color": "black",
           "family": "Myriad Pro",
           "size": 18
          },
          "showarrow": false,
          "text": "n = 8",
          "x": 0.5,
          "xref": "x13",
          "y": 0.8,
          "yref": "y13"
         },
         {
          "font": {
           "color": "black",
           "family": "Myriad Pro",
           "size": 18
          },
          "showarrow": false,
          "text": "62%",
          "x": 0.3125,
          "xref": "x9",
          "y": 0.5,
          "yref": "y9"
         },
         {
          "font": {
           "color": "black",
           "family": "Myriad Pro",
           "size": 18
          },
          "showarrow": false,
          "text": "12%",
          "x": 0.6875,
          "xref": "x9",
          "y": 0.5,
          "yref": "y9"
         },
         {
          "font": {
           "color": "black",
           "family": "Myriad Pro",
           "size": 18
          },
          "showarrow": false,
          "text": "25%",
          "x": 0.875,
          "xref": "x9",
          "y": 0.5,
          "yref": "y9"
         },
         {
          "font": {
           "color": "black",
           "family": "Myriad Pro",
           "size": 18
          },
          "showarrow": false,
          "text": "n = 8",
          "x": 0.5,
          "xref": "x9",
          "y": 0.8,
          "yref": "y9"
         },
         {
          "font": {
           "color": "black",
           "family": "Myriad Pro",
           "size": 18
          },
          "showarrow": false,
          "text": "50%",
          "x": 0.25,
          "xref": "x5",
          "y": 0.5,
          "yref": "y5"
         },
         {
          "font": {
           "color": "black",
           "family": "Myriad Pro",
           "size": 18
          },
          "showarrow": false,
          "text": "50%",
          "x": 0.75,
          "xref": "x5",
          "y": 0.5,
          "yref": "y5"
         },
         {
          "font": {
           "color": "black",
           "family": "Myriad Pro",
           "size": 18
          },
          "showarrow": false,
          "text": "n = 12",
          "x": 0.5,
          "xref": "x5",
          "y": 0.8,
          "yref": "y5"
         },
         {
          "font": {
           "color": "black",
           "family": "Myriad Pro",
           "size": 18
          },
          "showarrow": false,
          "text": "58%",
          "x": 0.2916666666666667,
          "xref": "x",
          "y": 0.5,
          "yref": "y"
         },
         {
          "font": {
           "color": "black",
           "family": "Myriad Pro",
           "size": 18
          },
          "showarrow": false,
          "text": "33%",
          "x": 0.75,
          "xref": "x",
          "y": 0.5,
          "yref": "y"
         },
         {
          "font": {
           "color": "black",
           "family": "Myriad Pro",
           "size": 18
          },
          "showarrow": false,
          "text": "8%",
          "x": 0.9583333333333334,
          "xref": "x",
          "y": 0.5,
          "yref": "y"
         },
         {
          "font": {
           "color": "black",
           "family": "Myriad Pro",
           "size": 18
          },
          "showarrow": false,
          "text": "n = 12",
          "x": 0.5,
          "xref": "x",
          "y": 0.8,
          "yref": "y"
         },
         {
          "font": {
           "color": "black",
           "family": "Myriad Pro",
           "size": 18
          },
          "showarrow": false,
          "text": "50%",
          "x": 0.25,
          "xref": "x14",
          "y": 0.5,
          "yref": "y14"
         },
         {
          "font": {
           "color": "black",
           "family": "Myriad Pro",
           "size": 18
          },
          "showarrow": false,
          "text": "50%",
          "x": 0.75,
          "xref": "x14",
          "y": 0.5,
          "yref": "y14"
         },
         {
          "font": {
           "color": "black",
           "family": "Myriad Pro",
           "size": 18
          },
          "showarrow": false,
          "text": "n = 2",
          "x": 0.5,
          "xref": "x14",
          "y": 0.8,
          "yref": "y14"
         },
         {
          "font": {
           "color": "black",
           "family": "Myriad Pro",
           "size": 18
          },
          "showarrow": false,
          "text": "50%",
          "x": 0.25,
          "xref": "x10",
          "y": 0.5,
          "yref": "y10"
         },
         {
          "font": {
           "color": "black",
           "family": "Myriad Pro",
           "size": 18
          },
          "showarrow": false,
          "text": "50%",
          "x": 0.75,
          "xref": "x10",
          "y": 0.5,
          "yref": "y10"
         },
         {
          "font": {
           "color": "black",
           "family": "Myriad Pro",
           "size": 18
          },
          "showarrow": false,
          "text": "n = 2",
          "x": 0.5,
          "xref": "x10",
          "y": 0.8,
          "yref": "y10"
         },
         {
          "font": {
           "color": "black",
           "family": "Myriad Pro",
           "size": 18
          },
          "showarrow": false,
          "text": "33%",
          "x": 0.16666666666666666,
          "xref": "x6",
          "y": 0.5,
          "yref": "y6"
         },
         {
          "font": {
           "color": "black",
           "family": "Myriad Pro",
           "size": 18
          },
          "showarrow": false,
          "text": "33%",
          "x": 0.5,
          "xref": "x6",
          "y": 0.5,
          "yref": "y6"
         },
         {
          "font": {
           "color": "black",
           "family": "Myriad Pro",
           "size": 18
          },
          "showarrow": false,
          "text": "33%",
          "x": 0.8333333333333333,
          "xref": "x6",
          "y": 0.5,
          "yref": "y6"
         },
         {
          "font": {
           "color": "black",
           "family": "Myriad Pro",
           "size": 18
          },
          "showarrow": false,
          "text": "n = 3",
          "x": 0.5,
          "xref": "x6",
          "y": 0.8,
          "yref": "y6"
         },
         {
          "font": {
           "color": "black",
           "family": "Myriad Pro",
           "size": 18
          },
          "showarrow": false,
          "text": "67%",
          "x": 0.3333333333333333,
          "xref": "x2",
          "y": 0.5,
          "yref": "y2"
         },
         {
          "font": {
           "color": "black",
           "family": "Myriad Pro",
           "size": 18
          },
          "showarrow": false,
          "text": "33%",
          "x": 0.8333333333333333,
          "xref": "x2",
          "y": 0.5,
          "yref": "y2"
         },
         {
          "font": {
           "color": "black",
           "family": "Myriad Pro",
           "size": 18
          },
          "showarrow": false,
          "text": "n = 3",
          "x": 0.5,
          "xref": "x2",
          "y": 0.8,
          "yref": "y2"
         },
         {
          "font": {
           "color": "black",
           "family": "Myriad Pro",
           "size": 18
          },
          "showarrow": false,
          "text": "75%",
          "x": 0.375,
          "xref": "x15",
          "y": 0.5,
          "yref": "y15"
         },
         {
          "font": {
           "color": "black",
           "family": "Myriad Pro",
           "size": 18
          },
          "showarrow": false,
          "text": "25%",
          "x": 0.875,
          "xref": "x15",
          "y": 0.5,
          "yref": "y15"
         },
         {
          "font": {
           "color": "black",
           "family": "Myriad Pro",
           "size": 18
          },
          "showarrow": false,
          "text": "n = 4",
          "x": 0.5,
          "xref": "x15",
          "y": 0.8,
          "yref": "y15"
         },
         {
          "font": {
           "color": "black",
           "family": "Myriad Pro",
           "size": 18
          },
          "showarrow": false,
          "text": "50%",
          "x": 0.25,
          "xref": "x11",
          "y": 0.5,
          "yref": "y11"
         },
         {
          "font": {
           "color": "black",
           "family": "Myriad Pro",
           "size": 18
          },
          "showarrow": false,
          "text": "25%",
          "x": 0.625,
          "xref": "x11",
          "y": 0.5,
          "yref": "y11"
         },
         {
          "font": {
           "color": "black",
           "family": "Myriad Pro",
           "size": 18
          },
          "showarrow": false,
          "text": "25%",
          "x": 0.875,
          "xref": "x11",
          "y": 0.5,
          "yref": "y11"
         },
         {
          "font": {
           "color": "black",
           "family": "Myriad Pro",
           "size": 18
          },
          "showarrow": false,
          "text": "n = 4",
          "x": 0.5,
          "xref": "x11",
          "y": 0.8,
          "yref": "y11"
         },
         {
          "font": {
           "color": "black",
           "family": "Myriad Pro",
           "size": 18
          },
          "showarrow": false,
          "text": "50%",
          "x": 0.25,
          "xref": "x7",
          "y": 0.5,
          "yref": "y7"
         },
         {
          "font": {
           "color": "black",
           "family": "Myriad Pro",
           "size": 18
          },
          "showarrow": false,
          "text": "33%",
          "x": 0.6666666666666666,
          "xref": "x7",
          "y": 0.5,
          "yref": "y7"
         },
         {
          "font": {
           "color": "black",
           "family": "Myriad Pro",
           "size": 18
          },
          "showarrow": false,
          "text": "17%",
          "x": 0.9166666666666665,
          "xref": "x7",
          "y": 0.5,
          "yref": "y7"
         },
         {
          "font": {
           "color": "black",
           "family": "Myriad Pro",
           "size": 18
          },
          "showarrow": false,
          "text": "n = 6",
          "x": 0.5,
          "xref": "x7",
          "y": 0.8,
          "yref": "y7"
         },
         {
          "font": {
           "color": "black",
           "family": "Myriad Pro",
           "size": 18
          },
          "showarrow": false,
          "text": "67%",
          "x": 0.3333333333333333,
          "xref": "x3",
          "y": 0.5,
          "yref": "y3"
         },
         {
          "font": {
           "color": "black",
           "family": "Myriad Pro",
           "size": 18
          },
          "showarrow": false,
          "text": "17%",
          "x": 0.75,
          "xref": "x3",
          "y": 0.5,
          "yref": "y3"
         },
         {
          "font": {
           "color": "black",
           "family": "Myriad Pro",
           "size": 18
          },
          "showarrow": false,
          "text": "17%",
          "x": 0.9166666666666665,
          "xref": "x3",
          "y": 0.5,
          "yref": "y3"
         },
         {
          "font": {
           "color": "black",
           "family": "Myriad Pro",
           "size": 18
          },
          "showarrow": false,
          "text": "n = 6",
          "x": 0.5,
          "xref": "x3",
          "y": 0.8,
          "yref": "y3"
         },
         {
          "font": {
           "color": "black",
           "family": "Myriad Pro",
           "size": 18
          },
          "showarrow": false,
          "text": "50%",
          "x": 0.25,
          "xref": "x16",
          "y": 0.5,
          "yref": "y16"
         },
         {
          "font": {
           "color": "black",
           "family": "Myriad Pro",
           "size": 18
          },
          "showarrow": false,
          "text": "50%",
          "x": 0.75,
          "xref": "x16",
          "y": 0.5,
          "yref": "y16"
         },
         {
          "font": {
           "color": "black",
           "family": "Myriad Pro",
           "size": 18
          },
          "showarrow": false,
          "text": "n = 6",
          "x": 0.5,
          "xref": "x16",
          "y": 0.8,
          "yref": "y16"
         },
         {
          "font": {
           "color": "black",
           "family": "Myriad Pro",
           "size": 18
          },
          "showarrow": false,
          "text": "50%",
          "x": 0.25,
          "xref": "x12",
          "y": 0.5,
          "yref": "y12"
         },
         {
          "font": {
           "color": "black",
           "family": "Myriad Pro",
           "size": 18
          },
          "showarrow": false,
          "text": "50%",
          "x": 0.75,
          "xref": "x12",
          "y": 0.5,
          "yref": "y12"
         },
         {
          "font": {
           "color": "black",
           "family": "Myriad Pro",
           "size": 18
          },
          "showarrow": false,
          "text": "n = 6",
          "x": 0.5,
          "xref": "x12",
          "y": 0.8,
          "yref": "y12"
         },
         {
          "font": {
           "color": "black",
           "family": "Myriad Pro",
           "size": 18
          },
          "showarrow": false,
          "text": "33%",
          "x": 0.16666666666666666,
          "xref": "x8",
          "y": 0.5,
          "yref": "y8"
         },
         {
          "font": {
           "color": "black",
           "family": "Myriad Pro",
           "size": 18
          },
          "showarrow": false,
          "text": "44%",
          "x": 0.5555555555555555,
          "xref": "x8",
          "y": 0.5,
          "yref": "y8"
         },
         {
          "font": {
           "color": "black",
           "family": "Myriad Pro",
           "size": 18
          },
          "showarrow": false,
          "text": "11%",
          "x": 0.8333333333333333,
          "xref": "x8",
          "y": 0.5,
          "yref": "y8"
         },
         {
          "font": {
           "color": "black",
           "family": "Myriad Pro",
           "size": 18
          },
          "showarrow": false,
          "text": "11%",
          "x": 0.9444444444444444,
          "xref": "x8",
          "y": 0.5,
          "yref": "y8"
         },
         {
          "font": {
           "color": "black",
           "family": "Myriad Pro",
           "size": 18
          },
          "showarrow": false,
          "text": "n = 9",
          "x": 0.5,
          "xref": "x8",
          "y": 0.8,
          "yref": "y8"
         },
         {
          "font": {
           "color": "black",
           "family": "Myriad Pro",
           "size": 18
          },
          "showarrow": false,
          "text": "67%",
          "x": 0.3333333333333333,
          "xref": "x4",
          "y": 0.5,
          "yref": "y4"
         },
         {
          "font": {
           "color": "black",
           "family": "Myriad Pro",
           "size": 18
          },
          "showarrow": false,
          "text": "22%",
          "x": 0.7777777777777777,
          "xref": "x4",
          "y": 0.5,
          "yref": "y4"
         },
         {
          "font": {
           "color": "black",
           "family": "Myriad Pro",
           "size": 18
          },
          "showarrow": false,
          "text": "11%",
          "x": 0.9444444444444444,
          "xref": "x4",
          "y": 0.5,
          "yref": "y4"
         },
         {
          "font": {
           "color": "black",
           "family": "Myriad Pro",
           "size": 18
          },
          "showarrow": false,
          "text": "n = 9",
          "x": 0.5,
          "xref": "x4",
          "y": 0.8,
          "yref": "y4"
         }
        ],
        "height": 650,
        "legend": {
         "font": {
          "color": "black",
          "family": "Myriad Pro",
          "size": 18
         }
        },
        "template": {
         "data": {
          "bar": [
           {
            "error_x": {
             "color": "#2a3f5f"
            },
            "error_y": {
             "color": "#2a3f5f"
            },
            "marker": {
             "line": {
              "color": "white",
              "width": 0.5
             }
            },
            "type": "bar"
           }
          ],
          "barpolar": [
           {
            "marker": {
             "line": {
              "color": "white",
              "width": 0.5
             }
            },
            "type": "barpolar"
           }
          ],
          "carpet": [
           {
            "aaxis": {
             "endlinecolor": "#2a3f5f",
             "gridcolor": "#C8D4E3",
             "linecolor": "#C8D4E3",
             "minorgridcolor": "#C8D4E3",
             "startlinecolor": "#2a3f5f"
            },
            "baxis": {
             "endlinecolor": "#2a3f5f",
             "gridcolor": "#C8D4E3",
             "linecolor": "#C8D4E3",
             "minorgridcolor": "#C8D4E3",
             "startlinecolor": "#2a3f5f"
            },
            "type": "carpet"
           }
          ],
          "choropleth": [
           {
            "colorbar": {
             "outlinewidth": 0,
             "ticks": ""
            },
            "type": "choropleth"
           }
          ],
          "contour": [
           {
            "colorbar": {
             "outlinewidth": 0,
             "ticks": ""
            },
            "colorscale": [
             [
              0,
              "#0d0887"
             ],
             [
              0.1111111111111111,
              "#46039f"
             ],
             [
              0.2222222222222222,
              "#7201a8"
             ],
             [
              0.3333333333333333,
              "#9c179e"
             ],
             [
              0.4444444444444444,
              "#bd3786"
             ],
             [
              0.5555555555555556,
              "#d8576b"
             ],
             [
              0.6666666666666666,
              "#ed7953"
             ],
             [
              0.7777777777777778,
              "#fb9f3a"
             ],
             [
              0.8888888888888888,
              "#fdca26"
             ],
             [
              1,
              "#f0f921"
             ]
            ],
            "type": "contour"
           }
          ],
          "contourcarpet": [
           {
            "colorbar": {
             "outlinewidth": 0,
             "ticks": ""
            },
            "type": "contourcarpet"
           }
          ],
          "heatmap": [
           {
            "colorbar": {
             "outlinewidth": 0,
             "ticks": ""
            },
            "colorscale": [
             [
              0,
              "#0d0887"
             ],
             [
              0.1111111111111111,
              "#46039f"
             ],
             [
              0.2222222222222222,
              "#7201a8"
             ],
             [
              0.3333333333333333,
              "#9c179e"
             ],
             [
              0.4444444444444444,
              "#bd3786"
             ],
             [
              0.5555555555555556,
              "#d8576b"
             ],
             [
              0.6666666666666666,
              "#ed7953"
             ],
             [
              0.7777777777777778,
              "#fb9f3a"
             ],
             [
              0.8888888888888888,
              "#fdca26"
             ],
             [
              1,
              "#f0f921"
             ]
            ],
            "type": "heatmap"
           }
          ],
          "heatmapgl": [
           {
            "colorbar": {
             "outlinewidth": 0,
             "ticks": ""
            },
            "colorscale": [
             [
              0,
              "#0d0887"
             ],
             [
              0.1111111111111111,
              "#46039f"
             ],
             [
              0.2222222222222222,
              "#7201a8"
             ],
             [
              0.3333333333333333,
              "#9c179e"
             ],
             [
              0.4444444444444444,
              "#bd3786"
             ],
             [
              0.5555555555555556,
              "#d8576b"
             ],
             [
              0.6666666666666666,
              "#ed7953"
             ],
             [
              0.7777777777777778,
              "#fb9f3a"
             ],
             [
              0.8888888888888888,
              "#fdca26"
             ],
             [
              1,
              "#f0f921"
             ]
            ],
            "type": "heatmapgl"
           }
          ],
          "histogram": [
           {
            "marker": {
             "colorbar": {
              "outlinewidth": 0,
              "ticks": ""
             }
            },
            "type": "histogram"
           }
          ],
          "histogram2d": [
           {
            "colorbar": {
             "outlinewidth": 0,
             "ticks": ""
            },
            "colorscale": [
             [
              0,
              "#0d0887"
             ],
             [
              0.1111111111111111,
              "#46039f"
             ],
             [
              0.2222222222222222,
              "#7201a8"
             ],
             [
              0.3333333333333333,
              "#9c179e"
             ],
             [
              0.4444444444444444,
              "#bd3786"
             ],
             [
              0.5555555555555556,
              "#d8576b"
             ],
             [
              0.6666666666666666,
              "#ed7953"
             ],
             [
              0.7777777777777778,
              "#fb9f3a"
             ],
             [
              0.8888888888888888,
              "#fdca26"
             ],
             [
              1,
              "#f0f921"
             ]
            ],
            "type": "histogram2d"
           }
          ],
          "histogram2dcontour": [
           {
            "colorbar": {
             "outlinewidth": 0,
             "ticks": ""
            },
            "colorscale": [
             [
              0,
              "#0d0887"
             ],
             [
              0.1111111111111111,
              "#46039f"
             ],
             [
              0.2222222222222222,
              "#7201a8"
             ],
             [
              0.3333333333333333,
              "#9c179e"
             ],
             [
              0.4444444444444444,
              "#bd3786"
             ],
             [
              0.5555555555555556,
              "#d8576b"
             ],
             [
              0.6666666666666666,
              "#ed7953"
             ],
             [
              0.7777777777777778,
              "#fb9f3a"
             ],
             [
              0.8888888888888888,
              "#fdca26"
             ],
             [
              1,
              "#f0f921"
             ]
            ],
            "type": "histogram2dcontour"
           }
          ],
          "mesh3d": [
           {
            "colorbar": {
             "outlinewidth": 0,
             "ticks": ""
            },
            "type": "mesh3d"
           }
          ],
          "parcoords": [
           {
            "line": {
             "colorbar": {
              "outlinewidth": 0,
              "ticks": ""
             }
            },
            "type": "parcoords"
           }
          ],
          "pie": [
           {
            "automargin": true,
            "type": "pie"
           }
          ],
          "scatter": [
           {
            "marker": {
             "colorbar": {
              "outlinewidth": 0,
              "ticks": ""
             }
            },
            "type": "scatter"
           }
          ],
          "scatter3d": [
           {
            "line": {
             "colorbar": {
              "outlinewidth": 0,
              "ticks": ""
             }
            },
            "marker": {
             "colorbar": {
              "outlinewidth": 0,
              "ticks": ""
             }
            },
            "type": "scatter3d"
           }
          ],
          "scattercarpet": [
           {
            "marker": {
             "colorbar": {
              "outlinewidth": 0,
              "ticks": ""
             }
            },
            "type": "scattercarpet"
           }
          ],
          "scattergeo": [
           {
            "marker": {
             "colorbar": {
              "outlinewidth": 0,
              "ticks": ""
             }
            },
            "type": "scattergeo"
           }
          ],
          "scattergl": [
           {
            "marker": {
             "colorbar": {
              "outlinewidth": 0,
              "ticks": ""
             }
            },
            "type": "scattergl"
           }
          ],
          "scattermapbox": [
           {
            "marker": {
             "colorbar": {
              "outlinewidth": 0,
              "ticks": ""
             }
            },
            "type": "scattermapbox"
           }
          ],
          "scatterpolar": [
           {
            "marker": {
             "colorbar": {
              "outlinewidth": 0,
              "ticks": ""
             }
            },
            "type": "scatterpolar"
           }
          ],
          "scatterpolargl": [
           {
            "marker": {
             "colorbar": {
              "outlinewidth": 0,
              "ticks": ""
             }
            },
            "type": "scatterpolargl"
           }
          ],
          "scatterternary": [
           {
            "marker": {
             "colorbar": {
              "outlinewidth": 0,
              "ticks": ""
             }
            },
            "type": "scatterternary"
           }
          ],
          "surface": [
           {
            "colorbar": {
             "outlinewidth": 0,
             "ticks": ""
            },
            "colorscale": [
             [
              0,
              "#0d0887"
             ],
             [
              0.1111111111111111,
              "#46039f"
             ],
             [
              0.2222222222222222,
              "#7201a8"
             ],
             [
              0.3333333333333333,
              "#9c179e"
             ],
             [
              0.4444444444444444,
              "#bd3786"
             ],
             [
              0.5555555555555556,
              "#d8576b"
             ],
             [
              0.6666666666666666,
              "#ed7953"
             ],
             [
              0.7777777777777778,
              "#fb9f3a"
             ],
             [
              0.8888888888888888,
              "#fdca26"
             ],
             [
              1,
              "#f0f921"
             ]
            ],
            "type": "surface"
           }
          ],
          "table": [
           {
            "cells": {
             "fill": {
              "color": "#EBF0F8"
             },
             "line": {
              "color": "white"
             }
            },
            "header": {
             "fill": {
              "color": "#C8D4E3"
             },
             "line": {
              "color": "white"
             }
            },
            "type": "table"
           }
          ]
         },
         "layout": {
          "annotationdefaults": {
           "arrowcolor": "#2a3f5f",
           "arrowhead": 0,
           "arrowwidth": 1
          },
          "autotypenumbers": "strict",
          "coloraxis": {
           "colorbar": {
            "outlinewidth": 0,
            "ticks": ""
           }
          },
          "colorscale": {
           "diverging": [
            [
             0,
             "#8e0152"
            ],
            [
             0.1,
             "#c51b7d"
            ],
            [
             0.2,
             "#de77ae"
            ],
            [
             0.3,
             "#f1b6da"
            ],
            [
             0.4,
             "#fde0ef"
            ],
            [
             0.5,
             "#f7f7f7"
            ],
            [
             0.6,
             "#e6f5d0"
            ],
            [
             0.7,
             "#b8e186"
            ],
            [
             0.8,
             "#7fbc41"
            ],
            [
             0.9,
             "#4d9221"
            ],
            [
             1,
             "#276419"
            ]
           ],
           "sequential": [
            [
             0,
             "#0d0887"
            ],
            [
             0.1111111111111111,
             "#46039f"
            ],
            [
             0.2222222222222222,
             "#7201a8"
            ],
            [
             0.3333333333333333,
             "#9c179e"
            ],
            [
             0.4444444444444444,
             "#bd3786"
            ],
            [
             0.5555555555555556,
             "#d8576b"
            ],
            [
             0.6666666666666666,
             "#ed7953"
            ],
            [
             0.7777777777777778,
             "#fb9f3a"
            ],
            [
             0.8888888888888888,
             "#fdca26"
            ],
            [
             1,
             "#f0f921"
            ]
           ],
           "sequentialminus": [
            [
             0,
             "#0d0887"
            ],
            [
             0.1111111111111111,
             "#46039f"
            ],
            [
             0.2222222222222222,
             "#7201a8"
            ],
            [
             0.3333333333333333,
             "#9c179e"
            ],
            [
             0.4444444444444444,
             "#bd3786"
            ],
            [
             0.5555555555555556,
             "#d8576b"
            ],
            [
             0.6666666666666666,
             "#ed7953"
            ],
            [
             0.7777777777777778,
             "#fb9f3a"
            ],
            [
             0.8888888888888888,
             "#fdca26"
            ],
            [
             1,
             "#f0f921"
            ]
           ]
          },
          "colorway": [
           "#636efa",
           "#EF553B",
           "#00cc96",
           "#ab63fa",
           "#FFA15A",
           "#19d3f3",
           "#FF6692",
           "#B6E880",
           "#FF97FF",
           "#FECB52"
          ],
          "font": {
           "color": "#2a3f5f"
          },
          "geo": {
           "bgcolor": "white",
           "lakecolor": "white",
           "landcolor": "white",
           "showlakes": true,
           "showland": true,
           "subunitcolor": "#C8D4E3"
          },
          "hoverlabel": {
           "align": "left"
          },
          "hovermode": "closest",
          "mapbox": {
           "style": "light"
          },
          "paper_bgcolor": "white",
          "plot_bgcolor": "white",
          "polar": {
           "angularaxis": {
            "gridcolor": "#EBF0F8",
            "linecolor": "#EBF0F8",
            "ticks": ""
           },
           "bgcolor": "white",
           "radialaxis": {
            "gridcolor": "#EBF0F8",
            "linecolor": "#EBF0F8",
            "ticks": ""
           }
          },
          "scene": {
           "xaxis": {
            "backgroundcolor": "white",
            "gridcolor": "#DFE8F3",
            "gridwidth": 2,
            "linecolor": "#EBF0F8",
            "showbackground": true,
            "ticks": "",
            "zerolinecolor": "#EBF0F8"
           },
           "yaxis": {
            "backgroundcolor": "white",
            "gridcolor": "#DFE8F3",
            "gridwidth": 2,
            "linecolor": "#EBF0F8",
            "showbackground": true,
            "ticks": "",
            "zerolinecolor": "#EBF0F8"
           },
           "zaxis": {
            "backgroundcolor": "white",
            "gridcolor": "#DFE8F3",
            "gridwidth": 2,
            "linecolor": "#EBF0F8",
            "showbackground": true,
            "ticks": "",
            "zerolinecolor": "#EBF0F8"
           }
          },
          "shapedefaults": {
           "line": {
            "color": "#2a3f5f"
           }
          },
          "ternary": {
           "aaxis": {
            "gridcolor": "#DFE8F3",
            "linecolor": "#A2B1C6",
            "ticks": ""
           },
           "baxis": {
            "gridcolor": "#DFE8F3",
            "linecolor": "#A2B1C6",
            "ticks": ""
           },
           "bgcolor": "white",
           "caxis": {
            "gridcolor": "#DFE8F3",
            "linecolor": "#A2B1C6",
            "ticks": ""
           }
          },
          "title": {
           "x": 0.05
          },
          "xaxis": {
           "automargin": true,
           "gridcolor": "#EBF0F8",
           "linecolor": "#EBF0F8",
           "ticks": "",
           "title": {
            "standoff": 15
           },
           "zerolinecolor": "#EBF0F8",
           "zerolinewidth": 2
          },
          "yaxis": {
           "automargin": true,
           "gridcolor": "#EBF0F8",
           "linecolor": "#EBF0F8",
           "ticks": "",
           "title": {
            "standoff": 15
           },
           "zerolinecolor": "#EBF0F8",
           "zerolinewidth": 2
          }
         }
        },
        "title": {
         "font": {
          "color": "black",
          "family": "Myriad Pro",
          "size": 18
         },
         "text": "Replicates"
        },
        "width": 750,
        "xaxis": {
         "anchor": "y",
         "domain": [
          0,
          0.24625
         ],
         "linecolor": "black",
         "linewidth": 1,
         "mirror": true,
         "nticks": 10,
         "range": [
          0,
          1
         ],
         "showgrid": true,
         "showline": true,
         "showticklabels": false,
         "tickangle": 0,
         "tickcolor": "black",
         "tickfont": {
          "color": "black",
          "family": "Myriad Pro",
          "size": 18
         },
         "ticklen": 0,
         "ticks": "outside",
         "title": {
          "font": {
           "color": "black",
           "family": "Myriad Pro",
           "size": 24
          },
          "standoff": 10
         },
         "zeroline": false
        },
        "xaxis10": {
         "anchor": "y10",
         "domain": [
          0.25125,
          0.49749999999999994
         ],
         "linecolor": "black",
         "linewidth": 1,
         "mirror": true,
         "nticks": 10,
         "range": [
          0,
          1
         ],
         "showgrid": true,
         "showline": true,
         "showticklabels": false,
         "tickangle": 0,
         "tickcolor": "black",
         "tickfont": {
          "color": "black",
          "family": "Myriad Pro",
          "size": 18
         },
         "ticklen": 0,
         "ticks": "outside",
         "title": {
          "font": {
           "color": "black",
           "family": "Myriad Pro",
           "size": 24
          },
          "standoff": 10
         },
         "zeroline": false
        },
        "xaxis11": {
         "anchor": "y11",
         "domain": [
          0.5025,
          0.7487499999999999
         ],
         "linecolor": "black",
         "linewidth": 1,
         "mirror": true,
         "nticks": 10,
         "range": [
          0,
          1
         ],
         "showgrid": true,
         "showline": true,
         "showticklabels": false,
         "tickangle": 0,
         "tickcolor": "black",
         "tickfont": {
          "color": "black",
          "family": "Myriad Pro",
          "size": 18
         },
         "ticklen": 0,
         "ticks": "outside",
         "title": {
          "font": {
           "color": "black",
           "family": "Myriad Pro",
           "size": 24
          },
          "standoff": 10
         },
         "zeroline": false
        },
        "xaxis12": {
         "anchor": "y12",
         "domain": [
          0.75375,
          1
         ],
         "linecolor": "black",
         "linewidth": 1,
         "mirror": true,
         "nticks": 10,
         "range": [
          0,
          1
         ],
         "showgrid": true,
         "showline": true,
         "showticklabels": false,
         "tickangle": 0,
         "tickcolor": "black",
         "tickfont": {
          "color": "black",
          "family": "Myriad Pro",
          "size": 18
         },
         "ticklen": 0,
         "ticks": "outside",
         "title": {
          "font": {
           "color": "black",
           "family": "Myriad Pro",
           "size": 24
          },
          "standoff": 10
         },
         "zeroline": false
        },
        "xaxis13": {
         "anchor": "y13",
         "domain": [
          0,
          0.24625
         ],
         "linecolor": "black",
         "linewidth": 1,
         "mirror": true,
         "nticks": 10,
         "range": [
          0,
          1
         ],
         "showgrid": true,
         "showline": true,
         "showticklabels": false,
         "tickangle": 0,
         "tickcolor": "black",
         "tickfont": {
          "color": "black",
          "family": "Myriad Pro",
          "size": 18
         },
         "ticklen": 0,
         "ticks": "outside",
         "title": {
          "font": {
           "color": "black",
           "family": "Myriad Pro",
           "size": 24
          },
          "standoff": 10,
          "text": "No Tag"
         },
         "zeroline": false
        },
        "xaxis14": {
         "anchor": "y14",
         "domain": [
          0.25125,
          0.49749999999999994
         ],
         "linecolor": "black",
         "linewidth": 1,
         "mirror": true,
         "nticks": 10,
         "range": [
          0,
          1
         ],
         "showgrid": true,
         "showline": true,
         "showticklabels": false,
         "tickangle": 0,
         "tickcolor": "black",
         "tickfont": {
          "color": "black",
          "family": "Myriad Pro",
          "size": 18
         },
         "ticklen": 0,
         "ticks": "outside",
         "title": {
          "font": {
           "color": "black",
           "family": "Myriad Pro",
           "size": 24
          },
          "standoff": 10,
          "text": "DAS Tag"
         },
         "zeroline": false
        },
        "xaxis15": {
         "anchor": "y15",
         "domain": [
          0.5025,
          0.7487499999999999
         ],
         "linecolor": "black",
         "linewidth": 1,
         "mirror": true,
         "nticks": 10,
         "range": [
          0,
          1
         ],
         "showgrid": true,
         "showline": true,
         "showticklabels": false,
         "tickangle": 0,
         "tickcolor": "black",
         "tickfont": {
          "color": "black",
          "family": "Myriad Pro",
          "size": 18
         },
         "ticklen": 0,
         "ticks": "outside",
         "title": {
          "font": {
           "color": "black",
           "family": "Myriad Pro",
           "size": 24
          },
          "standoff": 10,
          "text": "DAS+2 Tag"
         },
         "zeroline": false
        },
        "xaxis16": {
         "anchor": "y16",
         "domain": [
          0.75375,
          1
         ],
         "linecolor": "black",
         "linewidth": 1,
         "mirror": true,
         "nticks": 10,
         "range": [
          0,
          1
         ],
         "showgrid": true,
         "showline": true,
         "showticklabels": false,
         "tickangle": 0,
         "tickcolor": "black",
         "tickfont": {
          "color": "black",
          "family": "Myriad Pro",
          "size": 18
         },
         "ticklen": 0,
         "ticks": "outside",
         "title": {
          "font": {
           "color": "black",
           "family": "Myriad Pro",
           "size": 24
          },
          "standoff": 10,
          "text": "LAA Tag"
         },
         "zeroline": false
        },
        "xaxis2": {
         "anchor": "y2",
         "domain": [
          0.25125,
          0.49749999999999994
         ],
         "linecolor": "black",
         "linewidth": 1,
         "mirror": true,
         "nticks": 10,
         "range": [
          0,
          1
         ],
         "showgrid": true,
         "showline": true,
         "showticklabels": false,
         "tickangle": 0,
         "tickcolor": "black",
         "tickfont": {
          "color": "black",
          "family": "Myriad Pro",
          "size": 18
         },
         "ticklen": 0,
         "ticks": "outside",
         "title": {
          "font": {
           "color": "black",
           "family": "Myriad Pro",
           "size": 24
          },
          "standoff": 10
         },
         "zeroline": false
        },
        "xaxis3": {
         "anchor": "y3",
         "domain": [
          0.5025,
          0.7487499999999999
         ],
         "linecolor": "black",
         "linewidth": 1,
         "mirror": true,
         "nticks": 10,
         "range": [
          0,
          1
         ],
         "showgrid": true,
         "showline": true,
         "showticklabels": false,
         "tickangle": 0,
         "tickcolor": "black",
         "tickfont": {
          "color": "black",
          "family": "Myriad Pro",
          "size": 18
         },
         "ticklen": 0,
         "ticks": "outside",
         "title": {
          "font": {
           "color": "black",
           "family": "Myriad Pro",
           "size": 24
          },
          "standoff": 10
         },
         "zeroline": false
        },
        "xaxis4": {
         "anchor": "y4",
         "domain": [
          0.75375,
          1
         ],
         "linecolor": "black",
         "linewidth": 1,
         "mirror": true,
         "nticks": 10,
         "range": [
          0,
          1
         ],
         "showgrid": true,
         "showline": true,
         "showticklabels": false,
         "tickangle": 0,
         "tickcolor": "black",
         "tickfont": {
          "color": "black",
          "family": "Myriad Pro",
          "size": 18
         },
         "ticklen": 0,
         "ticks": "outside",
         "title": {
          "font": {
           "color": "black",
           "family": "Myriad Pro",
           "size": 24
          },
          "standoff": 10
         },
         "zeroline": false
        },
        "xaxis5": {
         "anchor": "y5",
         "domain": [
          0,
          0.24625
         ],
         "linecolor": "black",
         "linewidth": 1,
         "mirror": true,
         "nticks": 10,
         "range": [
          0,
          1
         ],
         "showgrid": true,
         "showline": true,
         "showticklabels": false,
         "tickangle": 0,
         "tickcolor": "black",
         "tickfont": {
          "color": "black",
          "family": "Myriad Pro",
          "size": 18
         },
         "ticklen": 0,
         "ticks": "outside",
         "title": {
          "font": {
           "color": "black",
           "family": "Myriad Pro",
           "size": 24
          },
          "standoff": 10
         },
         "zeroline": false
        },
        "xaxis6": {
         "anchor": "y6",
         "domain": [
          0.25125,
          0.49749999999999994
         ],
         "linecolor": "black",
         "linewidth": 1,
         "mirror": true,
         "nticks": 10,
         "range": [
          0,
          1
         ],
         "showgrid": true,
         "showline": true,
         "showticklabels": false,
         "tickangle": 0,
         "tickcolor": "black",
         "tickfont": {
          "color": "black",
          "family": "Myriad Pro",
          "size": 18
         },
         "ticklen": 0,
         "ticks": "outside",
         "title": {
          "font": {
           "color": "black",
           "family": "Myriad Pro",
           "size": 24
          },
          "standoff": 10
         },
         "zeroline": false
        },
        "xaxis7": {
         "anchor": "y7",
         "domain": [
          0.5025,
          0.7487499999999999
         ],
         "linecolor": "black",
         "linewidth": 1,
         "mirror": true,
         "nticks": 10,
         "range": [
          0,
          1
         ],
         "showgrid": true,
         "showline": true,
         "showticklabels": false,
         "tickangle": 0,
         "tickcolor": "black",
         "tickfont": {
          "color": "black",
          "family": "Myriad Pro",
          "size": 18
         },
         "ticklen": 0,
         "ticks": "outside",
         "title": {
          "font": {
           "color": "black",
           "family": "Myriad Pro",
           "size": 24
          },
          "standoff": 10
         },
         "zeroline": false
        },
        "xaxis8": {
         "anchor": "y8",
         "domain": [
          0.75375,
          1
         ],
         "linecolor": "black",
         "linewidth": 1,
         "mirror": true,
         "nticks": 10,
         "range": [
          0,
          1
         ],
         "showgrid": true,
         "showline": true,
         "showticklabels": false,
         "tickangle": 0,
         "tickcolor": "black",
         "tickfont": {
          "color": "black",
          "family": "Myriad Pro",
          "size": 18
         },
         "ticklen": 0,
         "ticks": "outside",
         "title": {
          "font": {
           "color": "black",
           "family": "Myriad Pro",
           "size": 24
          },
          "standoff": 10
         },
         "zeroline": false
        },
        "xaxis9": {
         "anchor": "y9",
         "domain": [
          0,
          0.24625
         ],
         "linecolor": "black",
         "linewidth": 1,
         "mirror": true,
         "nticks": 10,
         "range": [
          0,
          1
         ],
         "showgrid": true,
         "showline": true,
         "showticklabels": false,
         "tickangle": 0,
         "tickcolor": "black",
         "tickfont": {
          "color": "black",
          "family": "Myriad Pro",
          "size": 18
         },
         "ticklen": 0,
         "ticks": "outside",
         "title": {
          "font": {
           "color": "black",
           "family": "Myriad Pro",
           "size": 24
          },
          "standoff": 10
         },
         "zeroline": false
        },
        "yaxis": {
         "anchor": "x",
         "domain": [
          0.75375,
          1
         ],
         "linecolor": "black",
         "linewidth": 1,
         "mirror": true,
         "nticks": 10,
         "range": [
          0,
          1
         ],
         "showgrid": true,
         "showline": true,
         "showticklabels": false,
         "tickangle": 0,
         "tickcolor": "black",
         "tickfont": {
          "color": "black",
          "family": "Myriad Pro",
          "size": 18
         },
         "ticklen": 0,
         "ticks": "outside",
         "title": {
          "font": {
           "color": "black",
           "family": "Myriad Pro",
           "size": 24
          },
          "standoff": 0,
          "text": "LAA Tag"
         },
         "zeroline": false
        },
        "yaxis10": {
         "anchor": "x10",
         "domain": [
          0.25125,
          0.49749999999999994
         ],
         "linecolor": "black",
         "linewidth": 1,
         "mirror": true,
         "nticks": 10,
         "range": [
          0,
          1
         ],
         "showgrid": true,
         "showline": true,
         "showticklabels": false,
         "tickangle": 0,
         "tickcolor": "black",
         "tickfont": {
          "color": "black",
          "family": "Myriad Pro",
          "size": 18
         },
         "ticklen": 0,
         "ticks": "outside",
         "title": {
          "font": {
           "color": "black",
           "family": "Myriad Pro",
           "size": 24
          },
          "standoff": 0
         },
         "zeroline": false
        },
        "yaxis11": {
         "anchor": "x11",
         "domain": [
          0.25125,
          0.49749999999999994
         ],
         "linecolor": "black",
         "linewidth": 1,
         "mirror": true,
         "nticks": 10,
         "range": [
          0,
          1
         ],
         "showgrid": true,
         "showline": true,
         "showticklabels": false,
         "tickangle": 0,
         "tickcolor": "black",
         "tickfont": {
          "color": "black",
          "family": "Myriad Pro",
          "size": 18
         },
         "ticklen": 0,
         "ticks": "outside",
         "title": {
          "font": {
           "color": "black",
           "family": "Myriad Pro",
           "size": 24
          },
          "standoff": 0
         },
         "zeroline": false
        },
        "yaxis12": {
         "anchor": "x12",
         "domain": [
          0.25125,
          0.49749999999999994
         ],
         "linecolor": "black",
         "linewidth": 1,
         "mirror": true,
         "nticks": 10,
         "range": [
          0,
          1
         ],
         "showgrid": true,
         "showline": true,
         "showticklabels": false,
         "tickangle": 0,
         "tickcolor": "black",
         "tickfont": {
          "color": "black",
          "family": "Myriad Pro",
          "size": 18
         },
         "ticklen": 0,
         "ticks": "outside",
         "title": {
          "font": {
           "color": "black",
           "family": "Myriad Pro",
           "size": 24
          },
          "standoff": 0
         },
         "zeroline": false
        },
        "yaxis13": {
         "anchor": "x13",
         "domain": [
          0,
          0.24625
         ],
         "linecolor": "black",
         "linewidth": 1,
         "mirror": true,
         "nticks": 10,
         "range": [
          0,
          1
         ],
         "showgrid": true,
         "showline": true,
         "showticklabels": false,
         "tickangle": 0,
         "tickcolor": "black",
         "tickfont": {
          "color": "black",
          "family": "Myriad Pro",
          "size": 18
         },
         "ticklen": 0,
         "ticks": "outside",
         "title": {
          "font": {
           "color": "black",
           "family": "Myriad Pro",
           "size": 24
          },
          "standoff": 0,
          "text": "No Tag"
         },
         "zeroline": false
        },
        "yaxis14": {
         "anchor": "x14",
         "domain": [
          0,
          0.24625
         ],
         "linecolor": "black",
         "linewidth": 1,
         "mirror": true,
         "nticks": 10,
         "range": [
          0,
          1
         ],
         "showgrid": true,
         "showline": true,
         "showticklabels": false,
         "tickangle": 0,
         "tickcolor": "black",
         "tickfont": {
          "color": "black",
          "family": "Myriad Pro",
          "size": 18
         },
         "ticklen": 0,
         "ticks": "outside",
         "title": {
          "font": {
           "color": "black",
           "family": "Myriad Pro",
           "size": 24
          },
          "standoff": 0
         },
         "zeroline": false
        },
        "yaxis15": {
         "anchor": "x15",
         "domain": [
          0,
          0.24625
         ],
         "linecolor": "black",
         "linewidth": 1,
         "mirror": true,
         "nticks": 10,
         "range": [
          0,
          1
         ],
         "showgrid": true,
         "showline": true,
         "showticklabels": false,
         "tickangle": 0,
         "tickcolor": "black",
         "tickfont": {
          "color": "black",
          "family": "Myriad Pro",
          "size": 18
         },
         "ticklen": 0,
         "ticks": "outside",
         "title": {
          "font": {
           "color": "black",
           "family": "Myriad Pro",
           "size": 24
          },
          "standoff": 0
         },
         "zeroline": false
        },
        "yaxis16": {
         "anchor": "x16",
         "domain": [
          0,
          0.24625
         ],
         "linecolor": "black",
         "linewidth": 1,
         "mirror": true,
         "nticks": 10,
         "range": [
          0,
          1
         ],
         "showgrid": true,
         "showline": true,
         "showticklabels": false,
         "tickangle": 0,
         "tickcolor": "black",
         "tickfont": {
          "color": "black",
          "family": "Myriad Pro",
          "size": 18
         },
         "ticklen": 0,
         "ticks": "outside",
         "title": {
          "font": {
           "color": "black",
           "family": "Myriad Pro",
           "size": 24
          },
          "standoff": 0
         },
         "zeroline": false
        },
        "yaxis2": {
         "anchor": "x2",
         "domain": [
          0.75375,
          1
         ],
         "linecolor": "black",
         "linewidth": 1,
         "mirror": true,
         "nticks": 10,
         "range": [
          0,
          1
         ],
         "showgrid": true,
         "showline": true,
         "showticklabels": false,
         "tickangle": 0,
         "tickcolor": "black",
         "tickfont": {
          "color": "black",
          "family": "Myriad Pro",
          "size": 18
         },
         "ticklen": 0,
         "ticks": "outside",
         "title": {
          "font": {
           "color": "black",
           "family": "Myriad Pro",
           "size": 24
          },
          "standoff": 0
         },
         "zeroline": false
        },
        "yaxis3": {
         "anchor": "x3",
         "domain": [
          0.75375,
          1
         ],
         "linecolor": "black",
         "linewidth": 1,
         "mirror": true,
         "nticks": 10,
         "range": [
          0,
          1
         ],
         "showgrid": true,
         "showline": true,
         "showticklabels": false,
         "tickangle": 0,
         "tickcolor": "black",
         "tickfont": {
          "color": "black",
          "family": "Myriad Pro",
          "size": 18
         },
         "ticklen": 0,
         "ticks": "outside",
         "title": {
          "font": {
           "color": "black",
           "family": "Myriad Pro",
           "size": 24
          },
          "standoff": 0
         },
         "zeroline": false
        },
        "yaxis4": {
         "anchor": "x4",
         "domain": [
          0.75375,
          1
         ],
         "linecolor": "black",
         "linewidth": 1,
         "mirror": true,
         "nticks": 10,
         "range": [
          0,
          1
         ],
         "showgrid": true,
         "showline": true,
         "showticklabels": false,
         "tickangle": 0,
         "tickcolor": "black",
         "tickfont": {
          "color": "black",
          "family": "Myriad Pro",
          "size": 18
         },
         "ticklen": 0,
         "ticks": "outside",
         "title": {
          "font": {
           "color": "black",
           "family": "Myriad Pro",
           "size": 24
          },
          "standoff": 0
         },
         "zeroline": false
        },
        "yaxis5": {
         "anchor": "x5",
         "domain": [
          0.5025,
          0.7487499999999999
         ],
         "linecolor": "black",
         "linewidth": 1,
         "mirror": true,
         "nticks": 10,
         "range": [
          0,
          1
         ],
         "showgrid": true,
         "showline": true,
         "showticklabels": false,
         "tickangle": 0,
         "tickcolor": "black",
         "tickfont": {
          "color": "black",
          "family": "Myriad Pro",
          "size": 18
         },
         "ticklen": 0,
         "ticks": "outside",
         "title": {
          "font": {
           "color": "black",
           "family": "Myriad Pro",
           "size": 24
          },
          "standoff": 0,
          "text": "DAS+2 Tag"
         },
         "zeroline": false
        },
        "yaxis6": {
         "anchor": "x6",
         "domain": [
          0.5025,
          0.7487499999999999
         ],
         "linecolor": "black",
         "linewidth": 1,
         "mirror": true,
         "nticks": 10,
         "range": [
          0,
          1
         ],
         "showgrid": true,
         "showline": true,
         "showticklabels": false,
         "tickangle": 0,
         "tickcolor": "black",
         "tickfont": {
          "color": "black",
          "family": "Myriad Pro",
          "size": 18
         },
         "ticklen": 0,
         "ticks": "outside",
         "title": {
          "font": {
           "color": "black",
           "family": "Myriad Pro",
           "size": 24
          },
          "standoff": 0
         },
         "zeroline": false
        },
        "yaxis7": {
         "anchor": "x7",
         "domain": [
          0.5025,
          0.7487499999999999
         ],
         "linecolor": "black",
         "linewidth": 1,
         "mirror": true,
         "nticks": 10,
         "range": [
          0,
          1
         ],
         "showgrid": true,
         "showline": true,
         "showticklabels": false,
         "tickangle": 0,
         "tickcolor": "black",
         "tickfont": {
          "color": "black",
          "family": "Myriad Pro",
          "size": 18
         },
         "ticklen": 0,
         "ticks": "outside",
         "title": {
          "font": {
           "color": "black",
           "family": "Myriad Pro",
           "size": 24
          },
          "standoff": 0
         },
         "zeroline": false
        },
        "yaxis8": {
         "anchor": "x8",
         "domain": [
          0.5025,
          0.7487499999999999
         ],
         "linecolor": "black",
         "linewidth": 1,
         "mirror": true,
         "nticks": 10,
         "range": [
          0,
          1
         ],
         "showgrid": true,
         "showline": true,
         "showticklabels": false,
         "tickangle": 0,
         "tickcolor": "black",
         "tickfont": {
          "color": "black",
          "family": "Myriad Pro",
          "size": 18
         },
         "ticklen": 0,
         "ticks": "outside",
         "title": {
          "font": {
           "color": "black",
           "family": "Myriad Pro",
           "size": 24
          },
          "standoff": 0
         },
         "zeroline": false
        },
        "yaxis9": {
         "anchor": "x9",
         "domain": [
          0.25125,
          0.49749999999999994
         ],
         "linecolor": "black",
         "linewidth": 1,
         "mirror": true,
         "nticks": 10,
         "range": [
          0,
          1
         ],
         "showgrid": true,
         "showline": true,
         "showticklabels": false,
         "tickangle": 0,
         "tickcolor": "black",
         "tickfont": {
          "color": "black",
          "family": "Myriad Pro",
          "size": 18
         },
         "ticklen": 0,
         "ticks": "outside",
         "title": {
          "font": {
           "color": "black",
           "family": "Myriad Pro",
           "size": 24
          },
          "standoff": 0,
          "text": "DAS Tag"
         },
         "zeroline": false
        }
       }
      },
      "text/html": [
       "<div>                            <div id=\"d59dc23b-944a-455d-bfc1-2ea8c8f20e8c\" class=\"plotly-graph-div\" style=\"height:650px; width:750px;\"></div>            <script type=\"text/javascript\">                require([\"plotly\"], function(Plotly) {                    window.PLOTLYENV=window.PLOTLYENV || {};                                    if (document.getElementById(\"d59dc23b-944a-455d-bfc1-2ea8c8f20e8c\")) {                    Plotly.newPlot(                        \"d59dc23b-944a-455d-bfc1-2ea8c8f20e8c\",                        [{\"fill\": \"tonextx\", \"fillcolor\": \"rgb(73,143,201)\", \"legendgroup\": \"bistable\", \"line\": {\"width\": 0}, \"mode\": \"lines\", \"name\": \"Bistable\", \"showlegend\": true, \"type\": \"scatter\", \"x\": [0.875, 0.875, 0.875, 0.875, 0.875, 0.875, 0.875, 0.875, 0.875, 0.875], \"xaxis\": \"x13\", \"y\": [0.0, 0.1111111111111111, 0.2222222222222222, 0.3333333333333333, 0.4444444444444444, 0.5555555555555556, 0.6666666666666666, 0.7777777777777777, 0.8888888888888888, 1.0], \"yaxis\": \"y13\"}, {\"fill\": \"tonextx\", \"fillcolor\": \"rgb(205,92,98)\", \"legendgroup\": \"tet_stable\", \"line\": {\"width\": 0}, \"mode\": \"lines\", \"name\": \"Monostable Tet\", \"showlegend\": true, \"type\": \"scatter\", \"x\": [1.0, 1.0, 1.0, 1.0, 1.0, 1.0, 1.0, 1.0, 1.0, 1.0], \"xaxis\": \"x13\", \"y\": [0.0, 0.1111111111111111, 0.2222222222222222, 0.3333333333333333, 0.4444444444444444, 0.5555555555555556, 0.6666666666666666, 0.7777777777777777, 0.8888888888888888, 1.0], \"yaxis\": \"y13\"}, {\"fill\": \"tonextx\", \"fillcolor\": \"rgb(89,185,92)\", \"legendgroup\": \"lac_stable\", \"line\": {\"width\": 0}, \"mode\": \"lines\", \"name\": \"Monostable Lac\", \"showlegend\": true, \"type\": \"scatter\", \"x\": [1.0, 1.0, 1.0, 1.0, 1.0, 1.0, 1.0, 1.0, 1.0, 1.0], \"xaxis\": \"x13\", \"y\": [0.0, 0.1111111111111111, 0.2222222222222222, 0.3333333333333333, 0.4444444444444444, 0.5555555555555556, 0.6666666666666666, 0.7777777777777777, 0.8888888888888888, 1.0], \"yaxis\": \"y13\"}, {\"fill\": \"tonextx\", \"fillcolor\": \"rgb(109,109,109)\", \"legendgroup\": \"unstable\", \"line\": {\"width\": 0}, \"mode\": \"lines\", \"name\": \"Unstable\", \"showlegend\": true, \"type\": \"scatter\", \"x\": [1.0, 1.0, 1.0, 1.0, 1.0, 1.0, 1.0, 1.0, 1.0, 1.0], \"xaxis\": \"x13\", \"y\": [0.0, 0.1111111111111111, 0.2222222222222222, 0.3333333333333333, 0.4444444444444444, 0.5555555555555556, 0.6666666666666666, 0.7777777777777777, 0.8888888888888888, 1.0], \"yaxis\": \"y13\"}, {\"fill\": \"tonextx\", \"fillcolor\": \"rgb(73,143,201)\", \"legendgroup\": \"bistable\", \"line\": {\"width\": 0}, \"mode\": \"lines\", \"name\": \"Bistable\", \"showlegend\": false, \"type\": \"scatter\", \"x\": [0.625, 0.625, 0.625, 0.625, 0.625, 0.625, 0.625, 0.625, 0.625, 0.625], \"xaxis\": \"x9\", \"y\": [0.0, 0.1111111111111111, 0.2222222222222222, 0.3333333333333333, 0.4444444444444444, 0.5555555555555556, 0.6666666666666666, 0.7777777777777777, 0.8888888888888888, 1.0], \"yaxis\": \"y9\"}, {\"fill\": \"tonextx\", \"fillcolor\": \"rgb(205,92,98)\", \"legendgroup\": \"tet_stable\", \"line\": {\"width\": 0}, \"mode\": \"lines\", \"name\": \"Monostable Tet\", \"showlegend\": false, \"type\": \"scatter\", \"x\": [0.75, 0.75, 0.75, 0.75, 0.75, 0.75, 0.75, 0.75, 0.75, 0.75], \"xaxis\": \"x9\", \"y\": [0.0, 0.1111111111111111, 0.2222222222222222, 0.3333333333333333, 0.4444444444444444, 0.5555555555555556, 0.6666666666666666, 0.7777777777777777, 0.8888888888888888, 1.0], \"yaxis\": \"y9\"}, {\"fill\": \"tonextx\", \"fillcolor\": \"rgb(89,185,92)\", \"legendgroup\": \"lac_stable\", \"line\": {\"width\": 0}, \"mode\": \"lines\", \"name\": \"Monostable Lac\", \"showlegend\": false, \"type\": \"scatter\", \"x\": [1.0, 1.0, 1.0, 1.0, 1.0, 1.0, 1.0, 1.0, 1.0, 1.0], \"xaxis\": \"x9\", \"y\": [0.0, 0.1111111111111111, 0.2222222222222222, 0.3333333333333333, 0.4444444444444444, 0.5555555555555556, 0.6666666666666666, 0.7777777777777777, 0.8888888888888888, 1.0], \"yaxis\": \"y9\"}, {\"fill\": \"tonextx\", \"fillcolor\": \"rgb(109,109,109)\", \"legendgroup\": \"unstable\", \"line\": {\"width\": 0}, \"mode\": \"lines\", \"name\": \"Unstable\", \"showlegend\": false, \"type\": \"scatter\", \"x\": [1.0, 1.0, 1.0, 1.0, 1.0, 1.0, 1.0, 1.0, 1.0, 1.0], \"xaxis\": \"x9\", \"y\": [0.0, 0.1111111111111111, 0.2222222222222222, 0.3333333333333333, 0.4444444444444444, 0.5555555555555556, 0.6666666666666666, 0.7777777777777777, 0.8888888888888888, 1.0], \"yaxis\": \"y9\"}, {\"fill\": \"tonextx\", \"fillcolor\": \"rgb(73,143,201)\", \"legendgroup\": \"bistable\", \"line\": {\"width\": 0}, \"mode\": \"lines\", \"name\": \"Bistable\", \"showlegend\": false, \"type\": \"scatter\", \"x\": [0.5, 0.5, 0.5, 0.5, 0.5, 0.5, 0.5, 0.5, 0.5, 0.5], \"xaxis\": \"x5\", \"y\": [0.0, 0.1111111111111111, 0.2222222222222222, 0.3333333333333333, 0.4444444444444444, 0.5555555555555556, 0.6666666666666666, 0.7777777777777777, 0.8888888888888888, 1.0], \"yaxis\": \"y5\"}, {\"fill\": \"tonextx\", \"fillcolor\": \"rgb(205,92,98)\", \"legendgroup\": \"tet_stable\", \"line\": {\"width\": 0}, \"mode\": \"lines\", \"name\": \"Monostable Tet\", \"showlegend\": false, \"type\": \"scatter\", \"x\": [0.5, 0.5, 0.5, 0.5, 0.5, 0.5, 0.5, 0.5, 0.5, 0.5], \"xaxis\": \"x5\", \"y\": [0.0, 0.1111111111111111, 0.2222222222222222, 0.3333333333333333, 0.4444444444444444, 0.5555555555555556, 0.6666666666666666, 0.7777777777777777, 0.8888888888888888, 1.0], \"yaxis\": \"y5\"}, {\"fill\": \"tonextx\", \"fillcolor\": \"rgb(89,185,92)\", \"legendgroup\": \"lac_stable\", \"line\": {\"width\": 0}, \"mode\": \"lines\", \"name\": \"Monostable Lac\", \"showlegend\": false, \"type\": \"scatter\", \"x\": [1.0, 1.0, 1.0, 1.0, 1.0, 1.0, 1.0, 1.0, 1.0, 1.0], \"xaxis\": \"x5\", \"y\": [0.0, 0.1111111111111111, 0.2222222222222222, 0.3333333333333333, 0.4444444444444444, 0.5555555555555556, 0.6666666666666666, 0.7777777777777777, 0.8888888888888888, 1.0], \"yaxis\": \"y5\"}, {\"fill\": \"tonextx\", \"fillcolor\": \"rgb(109,109,109)\", \"legendgroup\": \"unstable\", \"line\": {\"width\": 0}, \"mode\": \"lines\", \"name\": \"Unstable\", \"showlegend\": false, \"type\": \"scatter\", \"x\": [1.0, 1.0, 1.0, 1.0, 1.0, 1.0, 1.0, 1.0, 1.0, 1.0], \"xaxis\": \"x5\", \"y\": [0.0, 0.1111111111111111, 0.2222222222222222, 0.3333333333333333, 0.4444444444444444, 0.5555555555555556, 0.6666666666666666, 0.7777777777777777, 0.8888888888888888, 1.0], \"yaxis\": \"y5\"}, {\"fill\": \"tonextx\", \"fillcolor\": \"rgb(73,143,201)\", \"legendgroup\": \"bistable\", \"line\": {\"width\": 0}, \"mode\": \"lines\", \"name\": \"Bistable\", \"showlegend\": false, \"type\": \"scatter\", \"x\": [0.5833333333333334, 0.5833333333333334, 0.5833333333333334, 0.5833333333333334, 0.5833333333333334, 0.5833333333333334, 0.5833333333333334, 0.5833333333333334, 0.5833333333333334, 0.5833333333333334], \"xaxis\": \"x\", \"y\": [0.0, 0.1111111111111111, 0.2222222222222222, 0.3333333333333333, 0.4444444444444444, 0.5555555555555556, 0.6666666666666666, 0.7777777777777777, 0.8888888888888888, 1.0], \"yaxis\": \"y\"}, {\"fill\": \"tonextx\", \"fillcolor\": \"rgb(205,92,98)\", \"legendgroup\": \"tet_stable\", \"line\": {\"width\": 0}, \"mode\": \"lines\", \"name\": \"Monostable Tet\", \"showlegend\": false, \"type\": \"scatter\", \"x\": [0.5833333333333334, 0.5833333333333334, 0.5833333333333334, 0.5833333333333334, 0.5833333333333334, 0.5833333333333334, 0.5833333333333334, 0.5833333333333334, 0.5833333333333334, 0.5833333333333334], \"xaxis\": \"x\", \"y\": [0.0, 0.1111111111111111, 0.2222222222222222, 0.3333333333333333, 0.4444444444444444, 0.5555555555555556, 0.6666666666666666, 0.7777777777777777, 0.8888888888888888, 1.0], \"yaxis\": \"y\"}, {\"fill\": \"tonextx\", \"fillcolor\": \"rgb(89,185,92)\", \"legendgroup\": \"lac_stable\", \"line\": {\"width\": 0}, \"mode\": \"lines\", \"name\": \"Monostable Lac\", \"showlegend\": false, \"type\": \"scatter\", \"x\": [0.9166666666666667, 0.9166666666666667, 0.9166666666666667, 0.9166666666666667, 0.9166666666666667, 0.9166666666666667, 0.9166666666666667, 0.9166666666666667, 0.9166666666666667, 0.9166666666666667], \"xaxis\": \"x\", \"y\": [0.0, 0.1111111111111111, 0.2222222222222222, 0.3333333333333333, 0.4444444444444444, 0.5555555555555556, 0.6666666666666666, 0.7777777777777777, 0.8888888888888888, 1.0], \"yaxis\": \"y\"}, {\"fill\": \"tonextx\", \"fillcolor\": \"rgb(109,109,109)\", \"legendgroup\": \"unstable\", \"line\": {\"width\": 0}, \"mode\": \"lines\", \"name\": \"Unstable\", \"showlegend\": false, \"type\": \"scatter\", \"x\": [1.0, 1.0, 1.0, 1.0, 1.0, 1.0, 1.0, 1.0, 1.0, 1.0], \"xaxis\": \"x\", \"y\": [0.0, 0.1111111111111111, 0.2222222222222222, 0.3333333333333333, 0.4444444444444444, 0.5555555555555556, 0.6666666666666666, 0.7777777777777777, 0.8888888888888888, 1.0], \"yaxis\": \"y\"}, {\"fill\": \"tonextx\", \"fillcolor\": \"rgb(73,143,201)\", \"legendgroup\": \"bistable\", \"line\": {\"width\": 0}, \"mode\": \"lines\", \"name\": \"Bistable\", \"showlegend\": false, \"type\": \"scatter\", \"x\": [0.5, 0.5, 0.5, 0.5, 0.5, 0.5, 0.5, 0.5, 0.5, 0.5], \"xaxis\": \"x14\", \"y\": [0.0, 0.1111111111111111, 0.2222222222222222, 0.3333333333333333, 0.4444444444444444, 0.5555555555555556, 0.6666666666666666, 0.7777777777777777, 0.8888888888888888, 1.0], \"yaxis\": \"y14\"}, {\"fill\": \"tonextx\", \"fillcolor\": \"rgb(205,92,98)\", \"legendgroup\": \"tet_stable\", \"line\": {\"width\": 0}, \"mode\": \"lines\", \"name\": \"Monostable Tet\", \"showlegend\": false, \"type\": \"scatter\", \"x\": [1.0, 1.0, 1.0, 1.0, 1.0, 1.0, 1.0, 1.0, 1.0, 1.0], \"xaxis\": \"x14\", \"y\": [0.0, 0.1111111111111111, 0.2222222222222222, 0.3333333333333333, 0.4444444444444444, 0.5555555555555556, 0.6666666666666666, 0.7777777777777777, 0.8888888888888888, 1.0], \"yaxis\": \"y14\"}, {\"fill\": \"tonextx\", \"fillcolor\": \"rgb(89,185,92)\", \"legendgroup\": \"lac_stable\", \"line\": {\"width\": 0}, \"mode\": \"lines\", \"name\": \"Monostable Lac\", \"showlegend\": false, \"type\": \"scatter\", \"x\": [1.0, 1.0, 1.0, 1.0, 1.0, 1.0, 1.0, 1.0, 1.0, 1.0], \"xaxis\": \"x14\", \"y\": [0.0, 0.1111111111111111, 0.2222222222222222, 0.3333333333333333, 0.4444444444444444, 0.5555555555555556, 0.6666666666666666, 0.7777777777777777, 0.8888888888888888, 1.0], \"yaxis\": \"y14\"}, {\"fill\": \"tonextx\", \"fillcolor\": \"rgb(109,109,109)\", \"legendgroup\": \"unstable\", \"line\": {\"width\": 0}, \"mode\": \"lines\", \"name\": \"Unstable\", \"showlegend\": false, \"type\": \"scatter\", \"x\": [1.0, 1.0, 1.0, 1.0, 1.0, 1.0, 1.0, 1.0, 1.0, 1.0], \"xaxis\": \"x14\", \"y\": [0.0, 0.1111111111111111, 0.2222222222222222, 0.3333333333333333, 0.4444444444444444, 0.5555555555555556, 0.6666666666666666, 0.7777777777777777, 0.8888888888888888, 1.0], \"yaxis\": \"y14\"}, {\"fill\": \"tonextx\", \"fillcolor\": \"rgb(73,143,201)\", \"legendgroup\": \"bistable\", \"line\": {\"width\": 0}, \"mode\": \"lines\", \"name\": \"Bistable\", \"showlegend\": false, \"type\": \"scatter\", \"x\": [0.5, 0.5, 0.5, 0.5, 0.5, 0.5, 0.5, 0.5, 0.5, 0.5], \"xaxis\": \"x10\", \"y\": [0.0, 0.1111111111111111, 0.2222222222222222, 0.3333333333333333, 0.4444444444444444, 0.5555555555555556, 0.6666666666666666, 0.7777777777777777, 0.8888888888888888, 1.0], \"yaxis\": \"y10\"}, {\"fill\": \"tonextx\", \"fillcolor\": \"rgb(205,92,98)\", \"legendgroup\": \"tet_stable\", \"line\": {\"width\": 0}, \"mode\": \"lines\", \"name\": \"Monostable Tet\", \"showlegend\": false, \"type\": \"scatter\", \"x\": [1.0, 1.0, 1.0, 1.0, 1.0, 1.0, 1.0, 1.0, 1.0, 1.0], \"xaxis\": \"x10\", \"y\": [0.0, 0.1111111111111111, 0.2222222222222222, 0.3333333333333333, 0.4444444444444444, 0.5555555555555556, 0.6666666666666666, 0.7777777777777777, 0.8888888888888888, 1.0], \"yaxis\": \"y10\"}, {\"fill\": \"tonextx\", \"fillcolor\": \"rgb(89,185,92)\", \"legendgroup\": \"lac_stable\", \"line\": {\"width\": 0}, \"mode\": \"lines\", \"name\": \"Monostable Lac\", \"showlegend\": false, \"type\": \"scatter\", \"x\": [1.0, 1.0, 1.0, 1.0, 1.0, 1.0, 1.0, 1.0, 1.0, 1.0], \"xaxis\": \"x10\", \"y\": [0.0, 0.1111111111111111, 0.2222222222222222, 0.3333333333333333, 0.4444444444444444, 0.5555555555555556, 0.6666666666666666, 0.7777777777777777, 0.8888888888888888, 1.0], \"yaxis\": \"y10\"}, {\"fill\": \"tonextx\", \"fillcolor\": \"rgb(109,109,109)\", \"legendgroup\": \"unstable\", \"line\": {\"width\": 0}, \"mode\": \"lines\", \"name\": \"Unstable\", \"showlegend\": false, \"type\": \"scatter\", \"x\": [1.0, 1.0, 1.0, 1.0, 1.0, 1.0, 1.0, 1.0, 1.0, 1.0], \"xaxis\": \"x10\", \"y\": [0.0, 0.1111111111111111, 0.2222222222222222, 0.3333333333333333, 0.4444444444444444, 0.5555555555555556, 0.6666666666666666, 0.7777777777777777, 0.8888888888888888, 1.0], \"yaxis\": \"y10\"}, {\"fill\": \"tonextx\", \"fillcolor\": \"rgb(73,143,201)\", \"legendgroup\": \"bistable\", \"line\": {\"width\": 0}, \"mode\": \"lines\", \"name\": \"Bistable\", \"showlegend\": false, \"type\": \"scatter\", \"x\": [0.3333333333333333, 0.3333333333333333, 0.3333333333333333, 0.3333333333333333, 0.3333333333333333, 0.3333333333333333, 0.3333333333333333, 0.3333333333333333, 0.3333333333333333, 0.3333333333333333], \"xaxis\": \"x6\", \"y\": [0.0, 0.1111111111111111, 0.2222222222222222, 0.3333333333333333, 0.4444444444444444, 0.5555555555555556, 0.6666666666666666, 0.7777777777777777, 0.8888888888888888, 1.0], \"yaxis\": \"y6\"}, {\"fill\": \"tonextx\", \"fillcolor\": \"rgb(205,92,98)\", \"legendgroup\": \"tet_stable\", \"line\": {\"width\": 0}, \"mode\": \"lines\", \"name\": \"Monostable Tet\", \"showlegend\": false, \"type\": \"scatter\", \"x\": [0.3333333333333333, 0.3333333333333333, 0.3333333333333333, 0.3333333333333333, 0.3333333333333333, 0.3333333333333333, 0.3333333333333333, 0.3333333333333333, 0.3333333333333333, 0.3333333333333333], \"xaxis\": \"x6\", \"y\": [0.0, 0.1111111111111111, 0.2222222222222222, 0.3333333333333333, 0.4444444444444444, 0.5555555555555556, 0.6666666666666666, 0.7777777777777777, 0.8888888888888888, 1.0], \"yaxis\": \"y6\"}, {\"fill\": \"tonextx\", \"fillcolor\": \"rgb(89,185,92)\", \"legendgroup\": \"lac_stable\", \"line\": {\"width\": 0}, \"mode\": \"lines\", \"name\": \"Monostable Lac\", \"showlegend\": false, \"type\": \"scatter\", \"x\": [0.6666666666666666, 0.6666666666666666, 0.6666666666666666, 0.6666666666666666, 0.6666666666666666, 0.6666666666666666, 0.6666666666666666, 0.6666666666666666, 0.6666666666666666, 0.6666666666666666], \"xaxis\": \"x6\", \"y\": [0.0, 0.1111111111111111, 0.2222222222222222, 0.3333333333333333, 0.4444444444444444, 0.5555555555555556, 0.6666666666666666, 0.7777777777777777, 0.8888888888888888, 1.0], \"yaxis\": \"y6\"}, {\"fill\": \"tonextx\", \"fillcolor\": \"rgb(109,109,109)\", \"legendgroup\": \"unstable\", \"line\": {\"width\": 0}, \"mode\": \"lines\", \"name\": \"Unstable\", \"showlegend\": false, \"type\": \"scatter\", \"x\": [1.0, 1.0, 1.0, 1.0, 1.0, 1.0, 1.0, 1.0, 1.0, 1.0], \"xaxis\": \"x6\", \"y\": [0.0, 0.1111111111111111, 0.2222222222222222, 0.3333333333333333, 0.4444444444444444, 0.5555555555555556, 0.6666666666666666, 0.7777777777777777, 0.8888888888888888, 1.0], \"yaxis\": \"y6\"}, {\"fill\": \"tonextx\", \"fillcolor\": \"rgb(73,143,201)\", \"legendgroup\": \"bistable\", \"line\": {\"width\": 0}, \"mode\": \"lines\", \"name\": \"Bistable\", \"showlegend\": false, \"type\": \"scatter\", \"x\": [0.6666666666666666, 0.6666666666666666, 0.6666666666666666, 0.6666666666666666, 0.6666666666666666, 0.6666666666666666, 0.6666666666666666, 0.6666666666666666, 0.6666666666666666, 0.6666666666666666], \"xaxis\": \"x2\", \"y\": [0.0, 0.1111111111111111, 0.2222222222222222, 0.3333333333333333, 0.4444444444444444, 0.5555555555555556, 0.6666666666666666, 0.7777777777777777, 0.8888888888888888, 1.0], \"yaxis\": \"y2\"}, {\"fill\": \"tonextx\", \"fillcolor\": \"rgb(205,92,98)\", \"legendgroup\": \"tet_stable\", \"line\": {\"width\": 0}, \"mode\": \"lines\", \"name\": \"Monostable Tet\", \"showlegend\": false, \"type\": \"scatter\", \"x\": [0.6666666666666666, 0.6666666666666666, 0.6666666666666666, 0.6666666666666666, 0.6666666666666666, 0.6666666666666666, 0.6666666666666666, 0.6666666666666666, 0.6666666666666666, 0.6666666666666666], \"xaxis\": \"x2\", \"y\": [0.0, 0.1111111111111111, 0.2222222222222222, 0.3333333333333333, 0.4444444444444444, 0.5555555555555556, 0.6666666666666666, 0.7777777777777777, 0.8888888888888888, 1.0], \"yaxis\": \"y2\"}, {\"fill\": \"tonextx\", \"fillcolor\": \"rgb(89,185,92)\", \"legendgroup\": \"lac_stable\", \"line\": {\"width\": 0}, \"mode\": \"lines\", \"name\": \"Monostable Lac\", \"showlegend\": false, \"type\": \"scatter\", \"x\": [1.0, 1.0, 1.0, 1.0, 1.0, 1.0, 1.0, 1.0, 1.0, 1.0], \"xaxis\": \"x2\", \"y\": [0.0, 0.1111111111111111, 0.2222222222222222, 0.3333333333333333, 0.4444444444444444, 0.5555555555555556, 0.6666666666666666, 0.7777777777777777, 0.8888888888888888, 1.0], \"yaxis\": \"y2\"}, {\"fill\": \"tonextx\", \"fillcolor\": \"rgb(109,109,109)\", \"legendgroup\": \"unstable\", \"line\": {\"width\": 0}, \"mode\": \"lines\", \"name\": \"Unstable\", \"showlegend\": false, \"type\": \"scatter\", \"x\": [1.0, 1.0, 1.0, 1.0, 1.0, 1.0, 1.0, 1.0, 1.0, 1.0], \"xaxis\": \"x2\", \"y\": [0.0, 0.1111111111111111, 0.2222222222222222, 0.3333333333333333, 0.4444444444444444, 0.5555555555555556, 0.6666666666666666, 0.7777777777777777, 0.8888888888888888, 1.0], \"yaxis\": \"y2\"}, {\"fill\": \"tonextx\", \"fillcolor\": \"rgb(73,143,201)\", \"legendgroup\": \"bistable\", \"line\": {\"width\": 0}, \"mode\": \"lines\", \"name\": \"Bistable\", \"showlegend\": false, \"type\": \"scatter\", \"x\": [0.75, 0.75, 0.75, 0.75, 0.75, 0.75, 0.75, 0.75, 0.75, 0.75], \"xaxis\": \"x15\", \"y\": [0.0, 0.1111111111111111, 0.2222222222222222, 0.3333333333333333, 0.4444444444444444, 0.5555555555555556, 0.6666666666666666, 0.7777777777777777, 0.8888888888888888, 1.0], \"yaxis\": \"y15\"}, {\"fill\": \"tonextx\", \"fillcolor\": \"rgb(205,92,98)\", \"legendgroup\": \"tet_stable\", \"line\": {\"width\": 0}, \"mode\": \"lines\", \"name\": \"Monostable Tet\", \"showlegend\": false, \"type\": \"scatter\", \"x\": [1.0, 1.0, 1.0, 1.0, 1.0, 1.0, 1.0, 1.0, 1.0, 1.0], \"xaxis\": \"x15\", \"y\": [0.0, 0.1111111111111111, 0.2222222222222222, 0.3333333333333333, 0.4444444444444444, 0.5555555555555556, 0.6666666666666666, 0.7777777777777777, 0.8888888888888888, 1.0], \"yaxis\": \"y15\"}, {\"fill\": \"tonextx\", \"fillcolor\": \"rgb(89,185,92)\", \"legendgroup\": \"lac_stable\", \"line\": {\"width\": 0}, \"mode\": \"lines\", \"name\": \"Monostable Lac\", \"showlegend\": false, \"type\": \"scatter\", \"x\": [1.0, 1.0, 1.0, 1.0, 1.0, 1.0, 1.0, 1.0, 1.0, 1.0], \"xaxis\": \"x15\", \"y\": [0.0, 0.1111111111111111, 0.2222222222222222, 0.3333333333333333, 0.4444444444444444, 0.5555555555555556, 0.6666666666666666, 0.7777777777777777, 0.8888888888888888, 1.0], \"yaxis\": \"y15\"}, {\"fill\": \"tonextx\", \"fillcolor\": \"rgb(109,109,109)\", \"legendgroup\": \"unstable\", \"line\": {\"width\": 0}, \"mode\": \"lines\", \"name\": \"Unstable\", \"showlegend\": false, \"type\": \"scatter\", \"x\": [1.0, 1.0, 1.0, 1.0, 1.0, 1.0, 1.0, 1.0, 1.0, 1.0], \"xaxis\": \"x15\", \"y\": [0.0, 0.1111111111111111, 0.2222222222222222, 0.3333333333333333, 0.4444444444444444, 0.5555555555555556, 0.6666666666666666, 0.7777777777777777, 0.8888888888888888, 1.0], \"yaxis\": \"y15\"}, {\"fill\": \"tonextx\", \"fillcolor\": \"rgb(73,143,201)\", \"legendgroup\": \"bistable\", \"line\": {\"width\": 0}, \"mode\": \"lines\", \"name\": \"Bistable\", \"showlegend\": false, \"type\": \"scatter\", \"x\": [0.5, 0.5, 0.5, 0.5, 0.5, 0.5, 0.5, 0.5, 0.5, 0.5], \"xaxis\": \"x11\", \"y\": [0.0, 0.1111111111111111, 0.2222222222222222, 0.3333333333333333, 0.4444444444444444, 0.5555555555555556, 0.6666666666666666, 0.7777777777777777, 0.8888888888888888, 1.0], \"yaxis\": \"y11\"}, {\"fill\": \"tonextx\", \"fillcolor\": \"rgb(205,92,98)\", \"legendgroup\": \"tet_stable\", \"line\": {\"width\": 0}, \"mode\": \"lines\", \"name\": \"Monostable Tet\", \"showlegend\": false, \"type\": \"scatter\", \"x\": [0.75, 0.75, 0.75, 0.75, 0.75, 0.75, 0.75, 0.75, 0.75, 0.75], \"xaxis\": \"x11\", \"y\": [0.0, 0.1111111111111111, 0.2222222222222222, 0.3333333333333333, 0.4444444444444444, 0.5555555555555556, 0.6666666666666666, 0.7777777777777777, 0.8888888888888888, 1.0], \"yaxis\": \"y11\"}, {\"fill\": \"tonextx\", \"fillcolor\": \"rgb(89,185,92)\", \"legendgroup\": \"lac_stable\", \"line\": {\"width\": 0}, \"mode\": \"lines\", \"name\": \"Monostable Lac\", \"showlegend\": false, \"type\": \"scatter\", \"x\": [1.0, 1.0, 1.0, 1.0, 1.0, 1.0, 1.0, 1.0, 1.0, 1.0], \"xaxis\": \"x11\", \"y\": [0.0, 0.1111111111111111, 0.2222222222222222, 0.3333333333333333, 0.4444444444444444, 0.5555555555555556, 0.6666666666666666, 0.7777777777777777, 0.8888888888888888, 1.0], \"yaxis\": \"y11\"}, {\"fill\": \"tonextx\", \"fillcolor\": \"rgb(109,109,109)\", \"legendgroup\": \"unstable\", \"line\": {\"width\": 0}, \"mode\": \"lines\", \"name\": \"Unstable\", \"showlegend\": false, \"type\": \"scatter\", \"x\": [1.0, 1.0, 1.0, 1.0, 1.0, 1.0, 1.0, 1.0, 1.0, 1.0], \"xaxis\": \"x11\", \"y\": [0.0, 0.1111111111111111, 0.2222222222222222, 0.3333333333333333, 0.4444444444444444, 0.5555555555555556, 0.6666666666666666, 0.7777777777777777, 0.8888888888888888, 1.0], \"yaxis\": \"y11\"}, {\"fill\": \"tonextx\", \"fillcolor\": \"rgb(73,143,201)\", \"legendgroup\": \"bistable\", \"line\": {\"width\": 0}, \"mode\": \"lines\", \"name\": \"Bistable\", \"showlegend\": false, \"type\": \"scatter\", \"x\": [0.5, 0.5, 0.5, 0.5, 0.5, 0.5, 0.5, 0.5, 0.5, 0.5], \"xaxis\": \"x7\", \"y\": [0.0, 0.1111111111111111, 0.2222222222222222, 0.3333333333333333, 0.4444444444444444, 0.5555555555555556, 0.6666666666666666, 0.7777777777777777, 0.8888888888888888, 1.0], \"yaxis\": \"y7\"}, {\"fill\": \"tonextx\", \"fillcolor\": \"rgb(205,92,98)\", \"legendgroup\": \"tet_stable\", \"line\": {\"width\": 0}, \"mode\": \"lines\", \"name\": \"Monostable Tet\", \"showlegend\": false, \"type\": \"scatter\", \"x\": [0.5, 0.5, 0.5, 0.5, 0.5, 0.5, 0.5, 0.5, 0.5, 0.5], \"xaxis\": \"x7\", \"y\": [0.0, 0.1111111111111111, 0.2222222222222222, 0.3333333333333333, 0.4444444444444444, 0.5555555555555556, 0.6666666666666666, 0.7777777777777777, 0.8888888888888888, 1.0], \"yaxis\": \"y7\"}, {\"fill\": \"tonextx\", \"fillcolor\": \"rgb(89,185,92)\", \"legendgroup\": \"lac_stable\", \"line\": {\"width\": 0}, \"mode\": \"lines\", \"name\": \"Monostable Lac\", \"showlegend\": false, \"type\": \"scatter\", \"x\": [0.8333333333333333, 0.8333333333333333, 0.8333333333333333, 0.8333333333333333, 0.8333333333333333, 0.8333333333333333, 0.8333333333333333, 0.8333333333333333, 0.8333333333333333, 0.8333333333333333], \"xaxis\": \"x7\", \"y\": [0.0, 0.1111111111111111, 0.2222222222222222, 0.3333333333333333, 0.4444444444444444, 0.5555555555555556, 0.6666666666666666, 0.7777777777777777, 0.8888888888888888, 1.0], \"yaxis\": \"y7\"}, {\"fill\": \"tonextx\", \"fillcolor\": \"rgb(109,109,109)\", \"legendgroup\": \"unstable\", \"line\": {\"width\": 0}, \"mode\": \"lines\", \"name\": \"Unstable\", \"showlegend\": false, \"type\": \"scatter\", \"x\": [0.9999999999999999, 0.9999999999999999, 0.9999999999999999, 0.9999999999999999, 0.9999999999999999, 0.9999999999999999, 0.9999999999999999, 0.9999999999999999, 0.9999999999999999, 0.9999999999999999], \"xaxis\": \"x7\", \"y\": [0.0, 0.1111111111111111, 0.2222222222222222, 0.3333333333333333, 0.4444444444444444, 0.5555555555555556, 0.6666666666666666, 0.7777777777777777, 0.8888888888888888, 1.0], \"yaxis\": \"y7\"}, {\"fill\": \"tonextx\", \"fillcolor\": \"rgb(73,143,201)\", \"legendgroup\": \"bistable\", \"line\": {\"width\": 0}, \"mode\": \"lines\", \"name\": \"Bistable\", \"showlegend\": false, \"type\": \"scatter\", \"x\": [0.6666666666666666, 0.6666666666666666, 0.6666666666666666, 0.6666666666666666, 0.6666666666666666, 0.6666666666666666, 0.6666666666666666, 0.6666666666666666, 0.6666666666666666, 0.6666666666666666], \"xaxis\": \"x3\", \"y\": [0.0, 0.1111111111111111, 0.2222222222222222, 0.3333333333333333, 0.4444444444444444, 0.5555555555555556, 0.6666666666666666, 0.7777777777777777, 0.8888888888888888, 1.0], \"yaxis\": \"y3\"}, {\"fill\": \"tonextx\", \"fillcolor\": \"rgb(205,92,98)\", \"legendgroup\": \"tet_stable\", \"line\": {\"width\": 0}, \"mode\": \"lines\", \"name\": \"Monostable Tet\", \"showlegend\": false, \"type\": \"scatter\", \"x\": [0.6666666666666666, 0.6666666666666666, 0.6666666666666666, 0.6666666666666666, 0.6666666666666666, 0.6666666666666666, 0.6666666666666666, 0.6666666666666666, 0.6666666666666666, 0.6666666666666666], \"xaxis\": \"x3\", \"y\": [0.0, 0.1111111111111111, 0.2222222222222222, 0.3333333333333333, 0.4444444444444444, 0.5555555555555556, 0.6666666666666666, 0.7777777777777777, 0.8888888888888888, 1.0], \"yaxis\": \"y3\"}, {\"fill\": \"tonextx\", \"fillcolor\": \"rgb(89,185,92)\", \"legendgroup\": \"lac_stable\", \"line\": {\"width\": 0}, \"mode\": \"lines\", \"name\": \"Monostable Lac\", \"showlegend\": false, \"type\": \"scatter\", \"x\": [0.8333333333333333, 0.8333333333333333, 0.8333333333333333, 0.8333333333333333, 0.8333333333333333, 0.8333333333333333, 0.8333333333333333, 0.8333333333333333, 0.8333333333333333, 0.8333333333333333], \"xaxis\": \"x3\", \"y\": [0.0, 0.1111111111111111, 0.2222222222222222, 0.3333333333333333, 0.4444444444444444, 0.5555555555555556, 0.6666666666666666, 0.7777777777777777, 0.8888888888888888, 1.0], \"yaxis\": \"y3\"}, {\"fill\": \"tonextx\", \"fillcolor\": \"rgb(109,109,109)\", \"legendgroup\": \"unstable\", \"line\": {\"width\": 0}, \"mode\": \"lines\", \"name\": \"Unstable\", \"showlegend\": false, \"type\": \"scatter\", \"x\": [0.9999999999999999, 0.9999999999999999, 0.9999999999999999, 0.9999999999999999, 0.9999999999999999, 0.9999999999999999, 0.9999999999999999, 0.9999999999999999, 0.9999999999999999, 0.9999999999999999], \"xaxis\": \"x3\", \"y\": [0.0, 0.1111111111111111, 0.2222222222222222, 0.3333333333333333, 0.4444444444444444, 0.5555555555555556, 0.6666666666666666, 0.7777777777777777, 0.8888888888888888, 1.0], \"yaxis\": \"y3\"}, {\"fill\": \"tonextx\", \"fillcolor\": \"rgb(73,143,201)\", \"legendgroup\": \"bistable\", \"line\": {\"width\": 0}, \"mode\": \"lines\", \"name\": \"Bistable\", \"showlegend\": false, \"type\": \"scatter\", \"x\": [0.5, 0.5, 0.5, 0.5, 0.5, 0.5, 0.5, 0.5, 0.5, 0.5], \"xaxis\": \"x16\", \"y\": [0.0, 0.1111111111111111, 0.2222222222222222, 0.3333333333333333, 0.4444444444444444, 0.5555555555555556, 0.6666666666666666, 0.7777777777777777, 0.8888888888888888, 1.0], \"yaxis\": \"y16\"}, {\"fill\": \"tonextx\", \"fillcolor\": \"rgb(205,92,98)\", \"legendgroup\": \"tet_stable\", \"line\": {\"width\": 0}, \"mode\": \"lines\", \"name\": \"Monostable Tet\", \"showlegend\": false, \"type\": \"scatter\", \"x\": [1.0, 1.0, 1.0, 1.0, 1.0, 1.0, 1.0, 1.0, 1.0, 1.0], \"xaxis\": \"x16\", \"y\": [0.0, 0.1111111111111111, 0.2222222222222222, 0.3333333333333333, 0.4444444444444444, 0.5555555555555556, 0.6666666666666666, 0.7777777777777777, 0.8888888888888888, 1.0], \"yaxis\": \"y16\"}, {\"fill\": \"tonextx\", \"fillcolor\": \"rgb(89,185,92)\", \"legendgroup\": \"lac_stable\", \"line\": {\"width\": 0}, \"mode\": \"lines\", \"name\": \"Monostable Lac\", \"showlegend\": false, \"type\": \"scatter\", \"x\": [1.0, 1.0, 1.0, 1.0, 1.0, 1.0, 1.0, 1.0, 1.0, 1.0], \"xaxis\": \"x16\", \"y\": [0.0, 0.1111111111111111, 0.2222222222222222, 0.3333333333333333, 0.4444444444444444, 0.5555555555555556, 0.6666666666666666, 0.7777777777777777, 0.8888888888888888, 1.0], \"yaxis\": \"y16\"}, {\"fill\": \"tonextx\", \"fillcolor\": \"rgb(109,109,109)\", \"legendgroup\": \"unstable\", \"line\": {\"width\": 0}, \"mode\": \"lines\", \"name\": \"Unstable\", \"showlegend\": false, \"type\": \"scatter\", \"x\": [1.0, 1.0, 1.0, 1.0, 1.0, 1.0, 1.0, 1.0, 1.0, 1.0], \"xaxis\": \"x16\", \"y\": [0.0, 0.1111111111111111, 0.2222222222222222, 0.3333333333333333, 0.4444444444444444, 0.5555555555555556, 0.6666666666666666, 0.7777777777777777, 0.8888888888888888, 1.0], \"yaxis\": \"y16\"}, {\"fill\": \"tonextx\", \"fillcolor\": \"rgb(73,143,201)\", \"legendgroup\": \"bistable\", \"line\": {\"width\": 0}, \"mode\": \"lines\", \"name\": \"Bistable\", \"showlegend\": false, \"type\": \"scatter\", \"x\": [0.5, 0.5, 0.5, 0.5, 0.5, 0.5, 0.5, 0.5, 0.5, 0.5], \"xaxis\": \"x12\", \"y\": [0.0, 0.1111111111111111, 0.2222222222222222, 0.3333333333333333, 0.4444444444444444, 0.5555555555555556, 0.6666666666666666, 0.7777777777777777, 0.8888888888888888, 1.0], \"yaxis\": \"y12\"}, {\"fill\": \"tonextx\", \"fillcolor\": \"rgb(205,92,98)\", \"legendgroup\": \"tet_stable\", \"line\": {\"width\": 0}, \"mode\": \"lines\", \"name\": \"Monostable Tet\", \"showlegend\": false, \"type\": \"scatter\", \"x\": [1.0, 1.0, 1.0, 1.0, 1.0, 1.0, 1.0, 1.0, 1.0, 1.0], \"xaxis\": \"x12\", \"y\": [0.0, 0.1111111111111111, 0.2222222222222222, 0.3333333333333333, 0.4444444444444444, 0.5555555555555556, 0.6666666666666666, 0.7777777777777777, 0.8888888888888888, 1.0], \"yaxis\": \"y12\"}, {\"fill\": \"tonextx\", \"fillcolor\": \"rgb(89,185,92)\", \"legendgroup\": \"lac_stable\", \"line\": {\"width\": 0}, \"mode\": \"lines\", \"name\": \"Monostable Lac\", \"showlegend\": false, \"type\": \"scatter\", \"x\": [1.0, 1.0, 1.0, 1.0, 1.0, 1.0, 1.0, 1.0, 1.0, 1.0], \"xaxis\": \"x12\", \"y\": [0.0, 0.1111111111111111, 0.2222222222222222, 0.3333333333333333, 0.4444444444444444, 0.5555555555555556, 0.6666666666666666, 0.7777777777777777, 0.8888888888888888, 1.0], \"yaxis\": \"y12\"}, {\"fill\": \"tonextx\", \"fillcolor\": \"rgb(109,109,109)\", \"legendgroup\": \"unstable\", \"line\": {\"width\": 0}, \"mode\": \"lines\", \"name\": \"Unstable\", \"showlegend\": false, \"type\": \"scatter\", \"x\": [1.0, 1.0, 1.0, 1.0, 1.0, 1.0, 1.0, 1.0, 1.0, 1.0], \"xaxis\": \"x12\", \"y\": [0.0, 0.1111111111111111, 0.2222222222222222, 0.3333333333333333, 0.4444444444444444, 0.5555555555555556, 0.6666666666666666, 0.7777777777777777, 0.8888888888888888, 1.0], \"yaxis\": \"y12\"}, {\"fill\": \"tonextx\", \"fillcolor\": \"rgb(73,143,201)\", \"legendgroup\": \"bistable\", \"line\": {\"width\": 0}, \"mode\": \"lines\", \"name\": \"Bistable\", \"showlegend\": false, \"type\": \"scatter\", \"x\": [0.3333333333333333, 0.3333333333333333, 0.3333333333333333, 0.3333333333333333, 0.3333333333333333, 0.3333333333333333, 0.3333333333333333, 0.3333333333333333, 0.3333333333333333, 0.3333333333333333], \"xaxis\": \"x8\", \"y\": [0.0, 0.1111111111111111, 0.2222222222222222, 0.3333333333333333, 0.4444444444444444, 0.5555555555555556, 0.6666666666666666, 0.7777777777777777, 0.8888888888888888, 1.0], \"yaxis\": \"y8\"}, {\"fill\": \"tonextx\", \"fillcolor\": \"rgb(205,92,98)\", \"legendgroup\": \"tet_stable\", \"line\": {\"width\": 0}, \"mode\": \"lines\", \"name\": \"Monostable Tet\", \"showlegend\": false, \"type\": \"scatter\", \"x\": [0.7777777777777777, 0.7777777777777777, 0.7777777777777777, 0.7777777777777777, 0.7777777777777777, 0.7777777777777777, 0.7777777777777777, 0.7777777777777777, 0.7777777777777777, 0.7777777777777777], \"xaxis\": \"x8\", \"y\": [0.0, 0.1111111111111111, 0.2222222222222222, 0.3333333333333333, 0.4444444444444444, 0.5555555555555556, 0.6666666666666666, 0.7777777777777777, 0.8888888888888888, 1.0], \"yaxis\": \"y8\"}, {\"fill\": \"tonextx\", \"fillcolor\": \"rgb(89,185,92)\", \"legendgroup\": \"lac_stable\", \"line\": {\"width\": 0}, \"mode\": \"lines\", \"name\": \"Monostable Lac\", \"showlegend\": false, \"type\": \"scatter\", \"x\": [0.8888888888888888, 0.8888888888888888, 0.8888888888888888, 0.8888888888888888, 0.8888888888888888, 0.8888888888888888, 0.8888888888888888, 0.8888888888888888, 0.8888888888888888, 0.8888888888888888], \"xaxis\": \"x8\", \"y\": [0.0, 0.1111111111111111, 0.2222222222222222, 0.3333333333333333, 0.4444444444444444, 0.5555555555555556, 0.6666666666666666, 0.7777777777777777, 0.8888888888888888, 1.0], \"yaxis\": \"y8\"}, {\"fill\": \"tonextx\", \"fillcolor\": \"rgb(109,109,109)\", \"legendgroup\": \"unstable\", \"line\": {\"width\": 0}, \"mode\": \"lines\", \"name\": \"Unstable\", \"showlegend\": false, \"type\": \"scatter\", \"x\": [1.0, 1.0, 1.0, 1.0, 1.0, 1.0, 1.0, 1.0, 1.0, 1.0], \"xaxis\": \"x8\", \"y\": [0.0, 0.1111111111111111, 0.2222222222222222, 0.3333333333333333, 0.4444444444444444, 0.5555555555555556, 0.6666666666666666, 0.7777777777777777, 0.8888888888888888, 1.0], \"yaxis\": \"y8\"}, {\"fill\": \"tonextx\", \"fillcolor\": \"rgb(73,143,201)\", \"legendgroup\": \"bistable\", \"line\": {\"width\": 0}, \"mode\": \"lines\", \"name\": \"Bistable\", \"showlegend\": false, \"type\": \"scatter\", \"x\": [0.6666666666666666, 0.6666666666666666, 0.6666666666666666, 0.6666666666666666, 0.6666666666666666, 0.6666666666666666, 0.6666666666666666, 0.6666666666666666, 0.6666666666666666, 0.6666666666666666], \"xaxis\": \"x4\", \"y\": [0.0, 0.1111111111111111, 0.2222222222222222, 0.3333333333333333, 0.4444444444444444, 0.5555555555555556, 0.6666666666666666, 0.7777777777777777, 0.8888888888888888, 1.0], \"yaxis\": \"y4\"}, {\"fill\": \"tonextx\", \"fillcolor\": \"rgb(205,92,98)\", \"legendgroup\": \"tet_stable\", \"line\": {\"width\": 0}, \"mode\": \"lines\", \"name\": \"Monostable Tet\", \"showlegend\": false, \"type\": \"scatter\", \"x\": [0.6666666666666666, 0.6666666666666666, 0.6666666666666666, 0.6666666666666666, 0.6666666666666666, 0.6666666666666666, 0.6666666666666666, 0.6666666666666666, 0.6666666666666666, 0.6666666666666666], \"xaxis\": \"x4\", \"y\": [0.0, 0.1111111111111111, 0.2222222222222222, 0.3333333333333333, 0.4444444444444444, 0.5555555555555556, 0.6666666666666666, 0.7777777777777777, 0.8888888888888888, 1.0], \"yaxis\": \"y4\"}, {\"fill\": \"tonextx\", \"fillcolor\": \"rgb(89,185,92)\", \"legendgroup\": \"lac_stable\", \"line\": {\"width\": 0}, \"mode\": \"lines\", \"name\": \"Monostable Lac\", \"showlegend\": false, \"type\": \"scatter\", \"x\": [0.8888888888888888, 0.8888888888888888, 0.8888888888888888, 0.8888888888888888, 0.8888888888888888, 0.8888888888888888, 0.8888888888888888, 0.8888888888888888, 0.8888888888888888, 0.8888888888888888], \"xaxis\": \"x4\", \"y\": [0.0, 0.1111111111111111, 0.2222222222222222, 0.3333333333333333, 0.4444444444444444, 0.5555555555555556, 0.6666666666666666, 0.7777777777777777, 0.8888888888888888, 1.0], \"yaxis\": \"y4\"}, {\"fill\": \"tonextx\", \"fillcolor\": \"rgb(109,109,109)\", \"legendgroup\": \"unstable\", \"line\": {\"width\": 0}, \"mode\": \"lines\", \"name\": \"Unstable\", \"showlegend\": false, \"type\": \"scatter\", \"x\": [1.0, 1.0, 1.0, 1.0, 1.0, 1.0, 1.0, 1.0, 1.0, 1.0], \"xaxis\": \"x4\", \"y\": [0.0, 0.1111111111111111, 0.2222222222222222, 0.3333333333333333, 0.4444444444444444, 0.5555555555555556, 0.6666666666666666, 0.7777777777777777, 0.8888888888888888, 1.0], \"yaxis\": \"y4\"}],                        {\"annotations\": [{\"font\": {\"color\": \"black\", \"family\": \"Myriad Pro\", \"size\": 18}, \"showarrow\": false, \"text\": \"88%\", \"x\": 0.4375, \"xref\": \"x13\", \"y\": 0.5, \"yref\": \"y13\"}, {\"font\": {\"color\": \"black\", \"family\": \"Myriad Pro\", \"size\": 18}, \"showarrow\": false, \"text\": \"12%\", \"x\": 0.9375, \"xref\": \"x13\", \"y\": 0.5, \"yref\": \"y13\"}, {\"font\": {\"color\": \"black\", \"family\": \"Myriad Pro\", \"size\": 18}, \"showarrow\": false, \"text\": \"n = 8\", \"x\": 0.5, \"xref\": \"x13\", \"y\": 0.8, \"yref\": \"y13\"}, {\"font\": {\"color\": \"black\", \"family\": \"Myriad Pro\", \"size\": 18}, \"showarrow\": false, \"text\": \"62%\", \"x\": 0.3125, \"xref\": \"x9\", \"y\": 0.5, \"yref\": \"y9\"}, {\"font\": {\"color\": \"black\", \"family\": \"Myriad Pro\", \"size\": 18}, \"showarrow\": false, \"text\": \"12%\", \"x\": 0.6875, \"xref\": \"x9\", \"y\": 0.5, \"yref\": \"y9\"}, {\"font\": {\"color\": \"black\", \"family\": \"Myriad Pro\", \"size\": 18}, \"showarrow\": false, \"text\": \"25%\", \"x\": 0.875, \"xref\": \"x9\", \"y\": 0.5, \"yref\": \"y9\"}, {\"font\": {\"color\": \"black\", \"family\": \"Myriad Pro\", \"size\": 18}, \"showarrow\": false, \"text\": \"n = 8\", \"x\": 0.5, \"xref\": \"x9\", \"y\": 0.8, \"yref\": \"y9\"}, {\"font\": {\"color\": \"black\", \"family\": \"Myriad Pro\", \"size\": 18}, \"showarrow\": false, \"text\": \"50%\", \"x\": 0.25, \"xref\": \"x5\", \"y\": 0.5, \"yref\": \"y5\"}, {\"font\": {\"color\": \"black\", \"family\": \"Myriad Pro\", \"size\": 18}, \"showarrow\": false, \"text\": \"50%\", \"x\": 0.75, \"xref\": \"x5\", \"y\": 0.5, \"yref\": \"y5\"}, {\"font\": {\"color\": \"black\", \"family\": \"Myriad Pro\", \"size\": 18}, \"showarrow\": false, \"text\": \"n = 12\", \"x\": 0.5, \"xref\": \"x5\", \"y\": 0.8, \"yref\": \"y5\"}, {\"font\": {\"color\": \"black\", \"family\": \"Myriad Pro\", \"size\": 18}, \"showarrow\": false, \"text\": \"58%\", \"x\": 0.2916666666666667, \"xref\": \"x\", \"y\": 0.5, \"yref\": \"y\"}, {\"font\": {\"color\": \"black\", \"family\": \"Myriad Pro\", \"size\": 18}, \"showarrow\": false, \"text\": \"33%\", \"x\": 0.75, \"xref\": \"x\", \"y\": 0.5, \"yref\": \"y\"}, {\"font\": {\"color\": \"black\", \"family\": \"Myriad Pro\", \"size\": 18}, \"showarrow\": false, \"text\": \"8%\", \"x\": 0.9583333333333334, \"xref\": \"x\", \"y\": 0.5, \"yref\": \"y\"}, {\"font\": {\"color\": \"black\", \"family\": \"Myriad Pro\", \"size\": 18}, \"showarrow\": false, \"text\": \"n = 12\", \"x\": 0.5, \"xref\": \"x\", \"y\": 0.8, \"yref\": \"y\"}, {\"font\": {\"color\": \"black\", \"family\": \"Myriad Pro\", \"size\": 18}, \"showarrow\": false, \"text\": \"50%\", \"x\": 0.25, \"xref\": \"x14\", \"y\": 0.5, \"yref\": \"y14\"}, {\"font\": {\"color\": \"black\", \"family\": \"Myriad Pro\", \"size\": 18}, \"showarrow\": false, \"text\": \"50%\", \"x\": 0.75, \"xref\": \"x14\", \"y\": 0.5, \"yref\": \"y14\"}, {\"font\": {\"color\": \"black\", \"family\": \"Myriad Pro\", \"size\": 18}, \"showarrow\": false, \"text\": \"n = 2\", \"x\": 0.5, \"xref\": \"x14\", \"y\": 0.8, \"yref\": \"y14\"}, {\"font\": {\"color\": \"black\", \"family\": \"Myriad Pro\", \"size\": 18}, \"showarrow\": false, \"text\": \"50%\", \"x\": 0.25, \"xref\": \"x10\", \"y\": 0.5, \"yref\": \"y10\"}, {\"font\": {\"color\": \"black\", \"family\": \"Myriad Pro\", \"size\": 18}, \"showarrow\": false, \"text\": \"50%\", \"x\": 0.75, \"xref\": \"x10\", \"y\": 0.5, \"yref\": \"y10\"}, {\"font\": {\"color\": \"black\", \"family\": \"Myriad Pro\", \"size\": 18}, \"showarrow\": false, \"text\": \"n = 2\", \"x\": 0.5, \"xref\": \"x10\", \"y\": 0.8, \"yref\": \"y10\"}, {\"font\": {\"color\": \"black\", \"family\": \"Myriad Pro\", \"size\": 18}, \"showarrow\": false, \"text\": \"33%\", \"x\": 0.16666666666666666, \"xref\": \"x6\", \"y\": 0.5, \"yref\": \"y6\"}, {\"font\": {\"color\": \"black\", \"family\": \"Myriad Pro\", \"size\": 18}, \"showarrow\": false, \"text\": \"33%\", \"x\": 0.5, \"xref\": \"x6\", \"y\": 0.5, \"yref\": \"y6\"}, {\"font\": {\"color\": \"black\", \"family\": \"Myriad Pro\", \"size\": 18}, \"showarrow\": false, \"text\": \"33%\", \"x\": 0.8333333333333333, \"xref\": \"x6\", \"y\": 0.5, \"yref\": \"y6\"}, {\"font\": {\"color\": \"black\", \"family\": \"Myriad Pro\", \"size\": 18}, \"showarrow\": false, \"text\": \"n = 3\", \"x\": 0.5, \"xref\": \"x6\", \"y\": 0.8, \"yref\": \"y6\"}, {\"font\": {\"color\": \"black\", \"family\": \"Myriad Pro\", \"size\": 18}, \"showarrow\": false, \"text\": \"67%\", \"x\": 0.3333333333333333, \"xref\": \"x2\", \"y\": 0.5, \"yref\": \"y2\"}, {\"font\": {\"color\": \"black\", \"family\": \"Myriad Pro\", \"size\": 18}, \"showarrow\": false, \"text\": \"33%\", \"x\": 0.8333333333333333, \"xref\": \"x2\", \"y\": 0.5, \"yref\": \"y2\"}, {\"font\": {\"color\": \"black\", \"family\": \"Myriad Pro\", \"size\": 18}, \"showarrow\": false, \"text\": \"n = 3\", \"x\": 0.5, \"xref\": \"x2\", \"y\": 0.8, \"yref\": \"y2\"}, {\"font\": {\"color\": \"black\", \"family\": \"Myriad Pro\", \"size\": 18}, \"showarrow\": false, \"text\": \"75%\", \"x\": 0.375, \"xref\": \"x15\", \"y\": 0.5, \"yref\": \"y15\"}, {\"font\": {\"color\": \"black\", \"family\": \"Myriad Pro\", \"size\": 18}, \"showarrow\": false, \"text\": \"25%\", \"x\": 0.875, \"xref\": \"x15\", \"y\": 0.5, \"yref\": \"y15\"}, {\"font\": {\"color\": \"black\", \"family\": \"Myriad Pro\", \"size\": 18}, \"showarrow\": false, \"text\": \"n = 4\", \"x\": 0.5, \"xref\": \"x15\", \"y\": 0.8, \"yref\": \"y15\"}, {\"font\": {\"color\": \"black\", \"family\": \"Myriad Pro\", \"size\": 18}, \"showarrow\": false, \"text\": \"50%\", \"x\": 0.25, \"xref\": \"x11\", \"y\": 0.5, \"yref\": \"y11\"}, {\"font\": {\"color\": \"black\", \"family\": \"Myriad Pro\", \"size\": 18}, \"showarrow\": false, \"text\": \"25%\", \"x\": 0.625, \"xref\": \"x11\", \"y\": 0.5, \"yref\": \"y11\"}, {\"font\": {\"color\": \"black\", \"family\": \"Myriad Pro\", \"size\": 18}, \"showarrow\": false, \"text\": \"25%\", \"x\": 0.875, \"xref\": \"x11\", \"y\": 0.5, \"yref\": \"y11\"}, {\"font\": {\"color\": \"black\", \"family\": \"Myriad Pro\", \"size\": 18}, \"showarrow\": false, \"text\": \"n = 4\", \"x\": 0.5, \"xref\": \"x11\", \"y\": 0.8, \"yref\": \"y11\"}, {\"font\": {\"color\": \"black\", \"family\": \"Myriad Pro\", \"size\": 18}, \"showarrow\": false, \"text\": \"50%\", \"x\": 0.25, \"xref\": \"x7\", \"y\": 0.5, \"yref\": \"y7\"}, {\"font\": {\"color\": \"black\", \"family\": \"Myriad Pro\", \"size\": 18}, \"showarrow\": false, \"text\": \"33%\", \"x\": 0.6666666666666666, \"xref\": \"x7\", \"y\": 0.5, \"yref\": \"y7\"}, {\"font\": {\"color\": \"black\", \"family\": \"Myriad Pro\", \"size\": 18}, \"showarrow\": false, \"text\": \"17%\", \"x\": 0.9166666666666665, \"xref\": \"x7\", \"y\": 0.5, \"yref\": \"y7\"}, {\"font\": {\"color\": \"black\", \"family\": \"Myriad Pro\", \"size\": 18}, \"showarrow\": false, \"text\": \"n = 6\", \"x\": 0.5, \"xref\": \"x7\", \"y\": 0.8, \"yref\": \"y7\"}, {\"font\": {\"color\": \"black\", \"family\": \"Myriad Pro\", \"size\": 18}, \"showarrow\": false, \"text\": \"67%\", \"x\": 0.3333333333333333, \"xref\": \"x3\", \"y\": 0.5, \"yref\": \"y3\"}, {\"font\": {\"color\": \"black\", \"family\": \"Myriad Pro\", \"size\": 18}, \"showarrow\": false, \"text\": \"17%\", \"x\": 0.75, \"xref\": \"x3\", \"y\": 0.5, \"yref\": \"y3\"}, {\"font\": {\"color\": \"black\", \"family\": \"Myriad Pro\", \"size\": 18}, \"showarrow\": false, \"text\": \"17%\", \"x\": 0.9166666666666665, \"xref\": \"x3\", \"y\": 0.5, \"yref\": \"y3\"}, {\"font\": {\"color\": \"black\", \"family\": \"Myriad Pro\", \"size\": 18}, \"showarrow\": false, \"text\": \"n = 6\", \"x\": 0.5, \"xref\": \"x3\", \"y\": 0.8, \"yref\": \"y3\"}, {\"font\": {\"color\": \"black\", \"family\": \"Myriad Pro\", \"size\": 18}, \"showarrow\": false, \"text\": \"50%\", \"x\": 0.25, \"xref\": \"x16\", \"y\": 0.5, \"yref\": \"y16\"}, {\"font\": {\"color\": \"black\", \"family\": \"Myriad Pro\", \"size\": 18}, \"showarrow\": false, \"text\": \"50%\", \"x\": 0.75, \"xref\": \"x16\", \"y\": 0.5, \"yref\": \"y16\"}, {\"font\": {\"color\": \"black\", \"family\": \"Myriad Pro\", \"size\": 18}, \"showarrow\": false, \"text\": \"n = 6\", \"x\": 0.5, \"xref\": \"x16\", \"y\": 0.8, \"yref\": \"y16\"}, {\"font\": {\"color\": \"black\", \"family\": \"Myriad Pro\", \"size\": 18}, \"showarrow\": false, \"text\": \"50%\", \"x\": 0.25, \"xref\": \"x12\", \"y\": 0.5, \"yref\": \"y12\"}, {\"font\": {\"color\": \"black\", \"family\": \"Myriad Pro\", \"size\": 18}, \"showarrow\": false, \"text\": \"50%\", \"x\": 0.75, \"xref\": \"x12\", \"y\": 0.5, \"yref\": \"y12\"}, {\"font\": {\"color\": \"black\", \"family\": \"Myriad Pro\", \"size\": 18}, \"showarrow\": false, \"text\": \"n = 6\", \"x\": 0.5, \"xref\": \"x12\", \"y\": 0.8, \"yref\": \"y12\"}, {\"font\": {\"color\": \"black\", \"family\": \"Myriad Pro\", \"size\": 18}, \"showarrow\": false, \"text\": \"33%\", \"x\": 0.16666666666666666, \"xref\": \"x8\", \"y\": 0.5, \"yref\": \"y8\"}, {\"font\": {\"color\": \"black\", \"family\": \"Myriad Pro\", \"size\": 18}, \"showarrow\": false, \"text\": \"44%\", \"x\": 0.5555555555555555, \"xref\": \"x8\", \"y\": 0.5, \"yref\": \"y8\"}, {\"font\": {\"color\": \"black\", \"family\": \"Myriad Pro\", \"size\": 18}, \"showarrow\": false, \"text\": \"11%\", \"x\": 0.8333333333333333, \"xref\": \"x8\", \"y\": 0.5, \"yref\": \"y8\"}, {\"font\": {\"color\": \"black\", \"family\": \"Myriad Pro\", \"size\": 18}, \"showarrow\": false, \"text\": \"11%\", \"x\": 0.9444444444444444, \"xref\": \"x8\", \"y\": 0.5, \"yref\": \"y8\"}, {\"font\": {\"color\": \"black\", \"family\": \"Myriad Pro\", \"size\": 18}, \"showarrow\": false, \"text\": \"n = 9\", \"x\": 0.5, \"xref\": \"x8\", \"y\": 0.8, \"yref\": \"y8\"}, {\"font\": {\"color\": \"black\", \"family\": \"Myriad Pro\", \"size\": 18}, \"showarrow\": false, \"text\": \"67%\", \"x\": 0.3333333333333333, \"xref\": \"x4\", \"y\": 0.5, \"yref\": \"y4\"}, {\"font\": {\"color\": \"black\", \"family\": \"Myriad Pro\", \"size\": 18}, \"showarrow\": false, \"text\": \"22%\", \"x\": 0.7777777777777777, \"xref\": \"x4\", \"y\": 0.5, \"yref\": \"y4\"}, {\"font\": {\"color\": \"black\", \"family\": \"Myriad Pro\", \"size\": 18}, \"showarrow\": false, \"text\": \"11%\", \"x\": 0.9444444444444444, \"xref\": \"x4\", \"y\": 0.5, \"yref\": \"y4\"}, {\"font\": {\"color\": \"black\", \"family\": \"Myriad Pro\", \"size\": 18}, \"showarrow\": false, \"text\": \"n = 9\", \"x\": 0.5, \"xref\": \"x4\", \"y\": 0.8, \"yref\": \"y4\"}], \"height\": 650, \"legend\": {\"font\": {\"color\": \"black\", \"family\": \"Myriad Pro\", \"size\": 18}}, \"template\": {\"data\": {\"bar\": [{\"error_x\": {\"color\": \"#2a3f5f\"}, \"error_y\": {\"color\": \"#2a3f5f\"}, \"marker\": {\"line\": {\"color\": \"white\", \"width\": 0.5}}, \"type\": \"bar\"}], \"barpolar\": [{\"marker\": {\"line\": {\"color\": \"white\", \"width\": 0.5}}, \"type\": \"barpolar\"}], \"carpet\": [{\"aaxis\": {\"endlinecolor\": \"#2a3f5f\", \"gridcolor\": \"#C8D4E3\", \"linecolor\": \"#C8D4E3\", \"minorgridcolor\": \"#C8D4E3\", \"startlinecolor\": \"#2a3f5f\"}, \"baxis\": {\"endlinecolor\": \"#2a3f5f\", \"gridcolor\": \"#C8D4E3\", \"linecolor\": \"#C8D4E3\", \"minorgridcolor\": \"#C8D4E3\", \"startlinecolor\": \"#2a3f5f\"}, \"type\": \"carpet\"}], \"choropleth\": [{\"colorbar\": {\"outlinewidth\": 0, \"ticks\": \"\"}, \"type\": \"choropleth\"}], \"contour\": [{\"colorbar\": {\"outlinewidth\": 0, \"ticks\": \"\"}, \"colorscale\": [[0.0, \"#0d0887\"], [0.1111111111111111, \"#46039f\"], [0.2222222222222222, \"#7201a8\"], [0.3333333333333333, \"#9c179e\"], [0.4444444444444444, \"#bd3786\"], [0.5555555555555556, \"#d8576b\"], [0.6666666666666666, \"#ed7953\"], [0.7777777777777778, \"#fb9f3a\"], [0.8888888888888888, \"#fdca26\"], [1.0, \"#f0f921\"]], \"type\": \"contour\"}], \"contourcarpet\": [{\"colorbar\": {\"outlinewidth\": 0, \"ticks\": \"\"}, \"type\": \"contourcarpet\"}], \"heatmap\": [{\"colorbar\": {\"outlinewidth\": 0, \"ticks\": \"\"}, \"colorscale\": [[0.0, \"#0d0887\"], [0.1111111111111111, \"#46039f\"], [0.2222222222222222, \"#7201a8\"], [0.3333333333333333, \"#9c179e\"], [0.4444444444444444, \"#bd3786\"], [0.5555555555555556, \"#d8576b\"], [0.6666666666666666, \"#ed7953\"], [0.7777777777777778, \"#fb9f3a\"], [0.8888888888888888, \"#fdca26\"], [1.0, \"#f0f921\"]], \"type\": \"heatmap\"}], \"heatmapgl\": [{\"colorbar\": {\"outlinewidth\": 0, \"ticks\": \"\"}, \"colorscale\": [[0.0, \"#0d0887\"], [0.1111111111111111, \"#46039f\"], [0.2222222222222222, \"#7201a8\"], [0.3333333333333333, \"#9c179e\"], [0.4444444444444444, \"#bd3786\"], [0.5555555555555556, \"#d8576b\"], [0.6666666666666666, \"#ed7953\"], [0.7777777777777778, \"#fb9f3a\"], [0.8888888888888888, \"#fdca26\"], [1.0, \"#f0f921\"]], \"type\": \"heatmapgl\"}], \"histogram\": [{\"marker\": {\"colorbar\": {\"outlinewidth\": 0, \"ticks\": \"\"}}, \"type\": \"histogram\"}], \"histogram2d\": [{\"colorbar\": {\"outlinewidth\": 0, \"ticks\": \"\"}, \"colorscale\": [[0.0, \"#0d0887\"], [0.1111111111111111, \"#46039f\"], [0.2222222222222222, \"#7201a8\"], [0.3333333333333333, \"#9c179e\"], [0.4444444444444444, \"#bd3786\"], [0.5555555555555556, \"#d8576b\"], [0.6666666666666666, \"#ed7953\"], [0.7777777777777778, \"#fb9f3a\"], [0.8888888888888888, \"#fdca26\"], [1.0, \"#f0f921\"]], \"type\": \"histogram2d\"}], \"histogram2dcontour\": [{\"colorbar\": {\"outlinewidth\": 0, \"ticks\": \"\"}, \"colorscale\": [[0.0, \"#0d0887\"], [0.1111111111111111, \"#46039f\"], [0.2222222222222222, \"#7201a8\"], [0.3333333333333333, \"#9c179e\"], [0.4444444444444444, \"#bd3786\"], [0.5555555555555556, \"#d8576b\"], [0.6666666666666666, \"#ed7953\"], [0.7777777777777778, \"#fb9f3a\"], [0.8888888888888888, \"#fdca26\"], [1.0, \"#f0f921\"]], \"type\": \"histogram2dcontour\"}], \"mesh3d\": [{\"colorbar\": {\"outlinewidth\": 0, \"ticks\": \"\"}, \"type\": \"mesh3d\"}], \"parcoords\": [{\"line\": {\"colorbar\": {\"outlinewidth\": 0, \"ticks\": \"\"}}, \"type\": \"parcoords\"}], \"pie\": [{\"automargin\": true, \"type\": \"pie\"}], \"scatter\": [{\"marker\": {\"colorbar\": {\"outlinewidth\": 0, \"ticks\": \"\"}}, \"type\": \"scatter\"}], \"scatter3d\": [{\"line\": {\"colorbar\": {\"outlinewidth\": 0, \"ticks\": \"\"}}, \"marker\": {\"colorbar\": {\"outlinewidth\": 0, \"ticks\": \"\"}}, \"type\": \"scatter3d\"}], \"scattercarpet\": [{\"marker\": {\"colorbar\": {\"outlinewidth\": 0, \"ticks\": \"\"}}, \"type\": \"scattercarpet\"}], \"scattergeo\": [{\"marker\": {\"colorbar\": {\"outlinewidth\": 0, \"ticks\": \"\"}}, \"type\": \"scattergeo\"}], \"scattergl\": [{\"marker\": {\"colorbar\": {\"outlinewidth\": 0, \"ticks\": \"\"}}, \"type\": \"scattergl\"}], \"scattermapbox\": [{\"marker\": {\"colorbar\": {\"outlinewidth\": 0, \"ticks\": \"\"}}, \"type\": \"scattermapbox\"}], \"scatterpolar\": [{\"marker\": {\"colorbar\": {\"outlinewidth\": 0, \"ticks\": \"\"}}, \"type\": \"scatterpolar\"}], \"scatterpolargl\": [{\"marker\": {\"colorbar\": {\"outlinewidth\": 0, \"ticks\": \"\"}}, \"type\": \"scatterpolargl\"}], \"scatterternary\": [{\"marker\": {\"colorbar\": {\"outlinewidth\": 0, \"ticks\": \"\"}}, \"type\": \"scatterternary\"}], \"surface\": [{\"colorbar\": {\"outlinewidth\": 0, \"ticks\": \"\"}, \"colorscale\": [[0.0, \"#0d0887\"], [0.1111111111111111, \"#46039f\"], [0.2222222222222222, \"#7201a8\"], [0.3333333333333333, \"#9c179e\"], [0.4444444444444444, \"#bd3786\"], [0.5555555555555556, \"#d8576b\"], [0.6666666666666666, \"#ed7953\"], [0.7777777777777778, \"#fb9f3a\"], [0.8888888888888888, \"#fdca26\"], [1.0, \"#f0f921\"]], \"type\": \"surface\"}], \"table\": [{\"cells\": {\"fill\": {\"color\": \"#EBF0F8\"}, \"line\": {\"color\": \"white\"}}, \"header\": {\"fill\": {\"color\": \"#C8D4E3\"}, \"line\": {\"color\": \"white\"}}, \"type\": \"table\"}]}, \"layout\": {\"annotationdefaults\": {\"arrowcolor\": \"#2a3f5f\", \"arrowhead\": 0, \"arrowwidth\": 1}, \"autotypenumbers\": \"strict\", \"coloraxis\": {\"colorbar\": {\"outlinewidth\": 0, \"ticks\": \"\"}}, \"colorscale\": {\"diverging\": [[0, \"#8e0152\"], [0.1, \"#c51b7d\"], [0.2, \"#de77ae\"], [0.3, \"#f1b6da\"], [0.4, \"#fde0ef\"], [0.5, \"#f7f7f7\"], [0.6, \"#e6f5d0\"], [0.7, \"#b8e186\"], [0.8, \"#7fbc41\"], [0.9, \"#4d9221\"], [1, \"#276419\"]], \"sequential\": [[0.0, \"#0d0887\"], [0.1111111111111111, \"#46039f\"], [0.2222222222222222, \"#7201a8\"], [0.3333333333333333, \"#9c179e\"], [0.4444444444444444, \"#bd3786\"], [0.5555555555555556, \"#d8576b\"], [0.6666666666666666, \"#ed7953\"], [0.7777777777777778, \"#fb9f3a\"], [0.8888888888888888, \"#fdca26\"], [1.0, \"#f0f921\"]], \"sequentialminus\": [[0.0, \"#0d0887\"], [0.1111111111111111, \"#46039f\"], [0.2222222222222222, \"#7201a8\"], [0.3333333333333333, \"#9c179e\"], [0.4444444444444444, \"#bd3786\"], [0.5555555555555556, \"#d8576b\"], [0.6666666666666666, \"#ed7953\"], [0.7777777777777778, \"#fb9f3a\"], [0.8888888888888888, \"#fdca26\"], [1.0, \"#f0f921\"]]}, \"colorway\": [\"#636efa\", \"#EF553B\", \"#00cc96\", \"#ab63fa\", \"#FFA15A\", \"#19d3f3\", \"#FF6692\", \"#B6E880\", \"#FF97FF\", \"#FECB52\"], \"font\": {\"color\": \"#2a3f5f\"}, \"geo\": {\"bgcolor\": \"white\", \"lakecolor\": \"white\", \"landcolor\": \"white\", \"showlakes\": true, \"showland\": true, \"subunitcolor\": \"#C8D4E3\"}, \"hoverlabel\": {\"align\": \"left\"}, \"hovermode\": \"closest\", \"mapbox\": {\"style\": \"light\"}, \"paper_bgcolor\": \"white\", \"plot_bgcolor\": \"white\", \"polar\": {\"angularaxis\": {\"gridcolor\": \"#EBF0F8\", \"linecolor\": \"#EBF0F8\", \"ticks\": \"\"}, \"bgcolor\": \"white\", \"radialaxis\": {\"gridcolor\": \"#EBF0F8\", \"linecolor\": \"#EBF0F8\", \"ticks\": \"\"}}, \"scene\": {\"xaxis\": {\"backgroundcolor\": \"white\", \"gridcolor\": \"#DFE8F3\", \"gridwidth\": 2, \"linecolor\": \"#EBF0F8\", \"showbackground\": true, \"ticks\": \"\", \"zerolinecolor\": \"#EBF0F8\"}, \"yaxis\": {\"backgroundcolor\": \"white\", \"gridcolor\": \"#DFE8F3\", \"gridwidth\": 2, \"linecolor\": \"#EBF0F8\", \"showbackground\": true, \"ticks\": \"\", \"zerolinecolor\": \"#EBF0F8\"}, \"zaxis\": {\"backgroundcolor\": \"white\", \"gridcolor\": \"#DFE8F3\", \"gridwidth\": 2, \"linecolor\": \"#EBF0F8\", \"showbackground\": true, \"ticks\": \"\", \"zerolinecolor\": \"#EBF0F8\"}}, \"shapedefaults\": {\"line\": {\"color\": \"#2a3f5f\"}}, \"ternary\": {\"aaxis\": {\"gridcolor\": \"#DFE8F3\", \"linecolor\": \"#A2B1C6\", \"ticks\": \"\"}, \"baxis\": {\"gridcolor\": \"#DFE8F3\", \"linecolor\": \"#A2B1C6\", \"ticks\": \"\"}, \"bgcolor\": \"white\", \"caxis\": {\"gridcolor\": \"#DFE8F3\", \"linecolor\": \"#A2B1C6\", \"ticks\": \"\"}}, \"title\": {\"x\": 0.05}, \"xaxis\": {\"automargin\": true, \"gridcolor\": \"#EBF0F8\", \"linecolor\": \"#EBF0F8\", \"ticks\": \"\", \"title\": {\"standoff\": 15}, \"zerolinecolor\": \"#EBF0F8\", \"zerolinewidth\": 2}, \"yaxis\": {\"automargin\": true, \"gridcolor\": \"#EBF0F8\", \"linecolor\": \"#EBF0F8\", \"ticks\": \"\", \"title\": {\"standoff\": 15}, \"zerolinecolor\": \"#EBF0F8\", \"zerolinewidth\": 2}}}, \"title\": {\"font\": {\"color\": \"black\", \"family\": \"Myriad Pro\", \"size\": 18}, \"text\": \"Replicates\"}, \"width\": 750, \"xaxis\": {\"anchor\": \"y\", \"domain\": [0.0, 0.24625], \"linecolor\": \"black\", \"linewidth\": 1, \"mirror\": true, \"nticks\": 10, \"range\": [0, 1], \"showgrid\": true, \"showline\": true, \"showticklabels\": false, \"tickangle\": 0, \"tickcolor\": \"black\", \"tickfont\": {\"color\": \"black\", \"family\": \"Myriad Pro\", \"size\": 18}, \"ticklen\": 0, \"ticks\": \"outside\", \"title\": {\"font\": {\"color\": \"black\", \"family\": \"Myriad Pro\", \"size\": 24}, \"standoff\": 10}, \"zeroline\": false}, \"xaxis10\": {\"anchor\": \"y10\", \"domain\": [0.25125, 0.49749999999999994], \"linecolor\": \"black\", \"linewidth\": 1, \"mirror\": true, \"nticks\": 10, \"range\": [0, 1], \"showgrid\": true, \"showline\": true, \"showticklabels\": false, \"tickangle\": 0, \"tickcolor\": \"black\", \"tickfont\": {\"color\": \"black\", \"family\": \"Myriad Pro\", \"size\": 18}, \"ticklen\": 0, \"ticks\": \"outside\", \"title\": {\"font\": {\"color\": \"black\", \"family\": \"Myriad Pro\", \"size\": 24}, \"standoff\": 10}, \"zeroline\": false}, \"xaxis11\": {\"anchor\": \"y11\", \"domain\": [0.5025, 0.7487499999999999], \"linecolor\": \"black\", \"linewidth\": 1, \"mirror\": true, \"nticks\": 10, \"range\": [0, 1], \"showgrid\": true, \"showline\": true, \"showticklabels\": false, \"tickangle\": 0, \"tickcolor\": \"black\", \"tickfont\": {\"color\": \"black\", \"family\": \"Myriad Pro\", \"size\": 18}, \"ticklen\": 0, \"ticks\": \"outside\", \"title\": {\"font\": {\"color\": \"black\", \"family\": \"Myriad Pro\", \"size\": 24}, \"standoff\": 10}, \"zeroline\": false}, \"xaxis12\": {\"anchor\": \"y12\", \"domain\": [0.75375, 1.0], \"linecolor\": \"black\", \"linewidth\": 1, \"mirror\": true, \"nticks\": 10, \"range\": [0, 1], \"showgrid\": true, \"showline\": true, \"showticklabels\": false, \"tickangle\": 0, \"tickcolor\": \"black\", \"tickfont\": {\"color\": \"black\", \"family\": \"Myriad Pro\", \"size\": 18}, \"ticklen\": 0, \"ticks\": \"outside\", \"title\": {\"font\": {\"color\": \"black\", \"family\": \"Myriad Pro\", \"size\": 24}, \"standoff\": 10}, \"zeroline\": false}, \"xaxis13\": {\"anchor\": \"y13\", \"domain\": [0.0, 0.24625], \"linecolor\": \"black\", \"linewidth\": 1, \"mirror\": true, \"nticks\": 10, \"range\": [0, 1], \"showgrid\": true, \"showline\": true, \"showticklabels\": false, \"tickangle\": 0, \"tickcolor\": \"black\", \"tickfont\": {\"color\": \"black\", \"family\": \"Myriad Pro\", \"size\": 18}, \"ticklen\": 0, \"ticks\": \"outside\", \"title\": {\"font\": {\"color\": \"black\", \"family\": \"Myriad Pro\", \"size\": 24}, \"standoff\": 10, \"text\": \"No Tag\"}, \"zeroline\": false}, \"xaxis14\": {\"anchor\": \"y14\", \"domain\": [0.25125, 0.49749999999999994], \"linecolor\": \"black\", \"linewidth\": 1, \"mirror\": true, \"nticks\": 10, \"range\": [0, 1], \"showgrid\": true, \"showline\": true, \"showticklabels\": false, \"tickangle\": 0, \"tickcolor\": \"black\", \"tickfont\": {\"color\": \"black\", \"family\": \"Myriad Pro\", \"size\": 18}, \"ticklen\": 0, \"ticks\": \"outside\", \"title\": {\"font\": {\"color\": \"black\", \"family\": \"Myriad Pro\", \"size\": 24}, \"standoff\": 10, \"text\": \"DAS Tag\"}, \"zeroline\": false}, \"xaxis15\": {\"anchor\": \"y15\", \"domain\": [0.5025, 0.7487499999999999], \"linecolor\": \"black\", \"linewidth\": 1, \"mirror\": true, \"nticks\": 10, \"range\": [0, 1], \"showgrid\": true, \"showline\": true, \"showticklabels\": false, \"tickangle\": 0, \"tickcolor\": \"black\", \"tickfont\": {\"color\": \"black\", \"family\": \"Myriad Pro\", \"size\": 18}, \"ticklen\": 0, \"ticks\": \"outside\", \"title\": {\"font\": {\"color\": \"black\", \"family\": \"Myriad Pro\", \"size\": 24}, \"standoff\": 10, \"text\": \"DAS+2 Tag\"}, \"zeroline\": false}, \"xaxis16\": {\"anchor\": \"y16\", \"domain\": [0.75375, 1.0], \"linecolor\": \"black\", \"linewidth\": 1, \"mirror\": true, \"nticks\": 10, \"range\": [0, 1], \"showgrid\": true, \"showline\": true, \"showticklabels\": false, \"tickangle\": 0, \"tickcolor\": \"black\", \"tickfont\": {\"color\": \"black\", \"family\": \"Myriad Pro\", \"size\": 18}, \"ticklen\": 0, \"ticks\": \"outside\", \"title\": {\"font\": {\"color\": \"black\", \"family\": \"Myriad Pro\", \"size\": 24}, \"standoff\": 10, \"text\": \"LAA Tag\"}, \"zeroline\": false}, \"xaxis2\": {\"anchor\": \"y2\", \"domain\": [0.25125, 0.49749999999999994], \"linecolor\": \"black\", \"linewidth\": 1, \"mirror\": true, \"nticks\": 10, \"range\": [0, 1], \"showgrid\": true, \"showline\": true, \"showticklabels\": false, \"tickangle\": 0, \"tickcolor\": \"black\", \"tickfont\": {\"color\": \"black\", \"family\": \"Myriad Pro\", \"size\": 18}, \"ticklen\": 0, \"ticks\": \"outside\", \"title\": {\"font\": {\"color\": \"black\", \"family\": \"Myriad Pro\", \"size\": 24}, \"standoff\": 10}, \"zeroline\": false}, \"xaxis3\": {\"anchor\": \"y3\", \"domain\": [0.5025, 0.7487499999999999], \"linecolor\": \"black\", \"linewidth\": 1, \"mirror\": true, \"nticks\": 10, \"range\": [0, 1], \"showgrid\": true, \"showline\": true, \"showticklabels\": false, \"tickangle\": 0, \"tickcolor\": \"black\", \"tickfont\": {\"color\": \"black\", \"family\": \"Myriad Pro\", \"size\": 18}, \"ticklen\": 0, \"ticks\": \"outside\", \"title\": {\"font\": {\"color\": \"black\", \"family\": \"Myriad Pro\", \"size\": 24}, \"standoff\": 10}, \"zeroline\": false}, \"xaxis4\": {\"anchor\": \"y4\", \"domain\": [0.75375, 1.0], \"linecolor\": \"black\", \"linewidth\": 1, \"mirror\": true, \"nticks\": 10, \"range\": [0, 1], \"showgrid\": true, \"showline\": true, \"showticklabels\": false, \"tickangle\": 0, \"tickcolor\": \"black\", \"tickfont\": {\"color\": \"black\", \"family\": \"Myriad Pro\", \"size\": 18}, \"ticklen\": 0, \"ticks\": \"outside\", \"title\": {\"font\": {\"color\": \"black\", \"family\": \"Myriad Pro\", \"size\": 24}, \"standoff\": 10}, \"zeroline\": false}, \"xaxis5\": {\"anchor\": \"y5\", \"domain\": [0.0, 0.24625], \"linecolor\": \"black\", \"linewidth\": 1, \"mirror\": true, \"nticks\": 10, \"range\": [0, 1], \"showgrid\": true, \"showline\": true, \"showticklabels\": false, \"tickangle\": 0, \"tickcolor\": \"black\", \"tickfont\": {\"color\": \"black\", \"family\": \"Myriad Pro\", \"size\": 18}, \"ticklen\": 0, \"ticks\": \"outside\", \"title\": {\"font\": {\"color\": \"black\", \"family\": \"Myriad Pro\", \"size\": 24}, \"standoff\": 10}, \"zeroline\": false}, \"xaxis6\": {\"anchor\": \"y6\", \"domain\": [0.25125, 0.49749999999999994], \"linecolor\": \"black\", \"linewidth\": 1, \"mirror\": true, \"nticks\": 10, \"range\": [0, 1], \"showgrid\": true, \"showline\": true, \"showticklabels\": false, \"tickangle\": 0, \"tickcolor\": \"black\", \"tickfont\": {\"color\": \"black\", \"family\": \"Myriad Pro\", \"size\": 18}, \"ticklen\": 0, \"ticks\": \"outside\", \"title\": {\"font\": {\"color\": \"black\", \"family\": \"Myriad Pro\", \"size\": 24}, \"standoff\": 10}, \"zeroline\": false}, \"xaxis7\": {\"anchor\": \"y7\", \"domain\": [0.5025, 0.7487499999999999], \"linecolor\": \"black\", \"linewidth\": 1, \"mirror\": true, \"nticks\": 10, \"range\": [0, 1], \"showgrid\": true, \"showline\": true, \"showticklabels\": false, \"tickangle\": 0, \"tickcolor\": \"black\", \"tickfont\": {\"color\": \"black\", \"family\": \"Myriad Pro\", \"size\": 18}, \"ticklen\": 0, \"ticks\": \"outside\", \"title\": {\"font\": {\"color\": \"black\", \"family\": \"Myriad Pro\", \"size\": 24}, \"standoff\": 10}, \"zeroline\": false}, \"xaxis8\": {\"anchor\": \"y8\", \"domain\": [0.75375, 1.0], \"linecolor\": \"black\", \"linewidth\": 1, \"mirror\": true, \"nticks\": 10, \"range\": [0, 1], \"showgrid\": true, \"showline\": true, \"showticklabels\": false, \"tickangle\": 0, \"tickcolor\": \"black\", \"tickfont\": {\"color\": \"black\", \"family\": \"Myriad Pro\", \"size\": 18}, \"ticklen\": 0, \"ticks\": \"outside\", \"title\": {\"font\": {\"color\": \"black\", \"family\": \"Myriad Pro\", \"size\": 24}, \"standoff\": 10}, \"zeroline\": false}, \"xaxis9\": {\"anchor\": \"y9\", \"domain\": [0.0, 0.24625], \"linecolor\": \"black\", \"linewidth\": 1, \"mirror\": true, \"nticks\": 10, \"range\": [0, 1], \"showgrid\": true, \"showline\": true, \"showticklabels\": false, \"tickangle\": 0, \"tickcolor\": \"black\", \"tickfont\": {\"color\": \"black\", \"family\": \"Myriad Pro\", \"size\": 18}, \"ticklen\": 0, \"ticks\": \"outside\", \"title\": {\"font\": {\"color\": \"black\", \"family\": \"Myriad Pro\", \"size\": 24}, \"standoff\": 10}, \"zeroline\": false}, \"yaxis\": {\"anchor\": \"x\", \"domain\": [0.75375, 1.0], \"linecolor\": \"black\", \"linewidth\": 1, \"mirror\": true, \"nticks\": 10, \"range\": [0, 1], \"showgrid\": true, \"showline\": true, \"showticklabels\": false, \"tickangle\": 0, \"tickcolor\": \"black\", \"tickfont\": {\"color\": \"black\", \"family\": \"Myriad Pro\", \"size\": 18}, \"ticklen\": 0, \"ticks\": \"outside\", \"title\": {\"font\": {\"color\": \"black\", \"family\": \"Myriad Pro\", \"size\": 24}, \"standoff\": 0, \"text\": \"LAA Tag\"}, \"zeroline\": false}, \"yaxis10\": {\"anchor\": \"x10\", \"domain\": [0.25125, 0.49749999999999994], \"linecolor\": \"black\", \"linewidth\": 1, \"mirror\": true, \"nticks\": 10, \"range\": [0, 1], \"showgrid\": true, \"showline\": true, \"showticklabels\": false, \"tickangle\": 0, \"tickcolor\": \"black\", \"tickfont\": {\"color\": \"black\", \"family\": \"Myriad Pro\", \"size\": 18}, \"ticklen\": 0, \"ticks\": \"outside\", \"title\": {\"font\": {\"color\": \"black\", \"family\": \"Myriad Pro\", \"size\": 24}, \"standoff\": 0}, \"zeroline\": false}, \"yaxis11\": {\"anchor\": \"x11\", \"domain\": [0.25125, 0.49749999999999994], \"linecolor\": \"black\", \"linewidth\": 1, \"mirror\": true, \"nticks\": 10, \"range\": [0, 1], \"showgrid\": true, \"showline\": true, \"showticklabels\": false, \"tickangle\": 0, \"tickcolor\": \"black\", \"tickfont\": {\"color\": \"black\", \"family\": \"Myriad Pro\", \"size\": 18}, \"ticklen\": 0, \"ticks\": \"outside\", \"title\": {\"font\": {\"color\": \"black\", \"family\": \"Myriad Pro\", \"size\": 24}, \"standoff\": 0}, \"zeroline\": false}, \"yaxis12\": {\"anchor\": \"x12\", \"domain\": [0.25125, 0.49749999999999994], \"linecolor\": \"black\", \"linewidth\": 1, \"mirror\": true, \"nticks\": 10, \"range\": [0, 1], \"showgrid\": true, \"showline\": true, \"showticklabels\": false, \"tickangle\": 0, \"tickcolor\": \"black\", \"tickfont\": {\"color\": \"black\", \"family\": \"Myriad Pro\", \"size\": 18}, \"ticklen\": 0, \"ticks\": \"outside\", \"title\": {\"font\": {\"color\": \"black\", \"family\": \"Myriad Pro\", \"size\": 24}, \"standoff\": 0}, \"zeroline\": false}, \"yaxis13\": {\"anchor\": \"x13\", \"domain\": [0.0, 0.24625], \"linecolor\": \"black\", \"linewidth\": 1, \"mirror\": true, \"nticks\": 10, \"range\": [0, 1], \"showgrid\": true, \"showline\": true, \"showticklabels\": false, \"tickangle\": 0, \"tickcolor\": \"black\", \"tickfont\": {\"color\": \"black\", \"family\": \"Myriad Pro\", \"size\": 18}, \"ticklen\": 0, \"ticks\": \"outside\", \"title\": {\"font\": {\"color\": \"black\", \"family\": \"Myriad Pro\", \"size\": 24}, \"standoff\": 0, \"text\": \"No Tag\"}, \"zeroline\": false}, \"yaxis14\": {\"anchor\": \"x14\", \"domain\": [0.0, 0.24625], \"linecolor\": \"black\", \"linewidth\": 1, \"mirror\": true, \"nticks\": 10, \"range\": [0, 1], \"showgrid\": true, \"showline\": true, \"showticklabels\": false, \"tickangle\": 0, \"tickcolor\": \"black\", \"tickfont\": {\"color\": \"black\", \"family\": \"Myriad Pro\", \"size\": 18}, \"ticklen\": 0, \"ticks\": \"outside\", \"title\": {\"font\": {\"color\": \"black\", \"family\": \"Myriad Pro\", \"size\": 24}, \"standoff\": 0}, \"zeroline\": false}, \"yaxis15\": {\"anchor\": \"x15\", \"domain\": [0.0, 0.24625], \"linecolor\": \"black\", \"linewidth\": 1, \"mirror\": true, \"nticks\": 10, \"range\": [0, 1], \"showgrid\": true, \"showline\": true, \"showticklabels\": false, \"tickangle\": 0, \"tickcolor\": \"black\", \"tickfont\": {\"color\": \"black\", \"family\": \"Myriad Pro\", \"size\": 18}, \"ticklen\": 0, \"ticks\": \"outside\", \"title\": {\"font\": {\"color\": \"black\", \"family\": \"Myriad Pro\", \"size\": 24}, \"standoff\": 0}, \"zeroline\": false}, \"yaxis16\": {\"anchor\": \"x16\", \"domain\": [0.0, 0.24625], \"linecolor\": \"black\", \"linewidth\": 1, \"mirror\": true, \"nticks\": 10, \"range\": [0, 1], \"showgrid\": true, \"showline\": true, \"showticklabels\": false, \"tickangle\": 0, \"tickcolor\": \"black\", \"tickfont\": {\"color\": \"black\", \"family\": \"Myriad Pro\", \"size\": 18}, \"ticklen\": 0, \"ticks\": \"outside\", \"title\": {\"font\": {\"color\": \"black\", \"family\": \"Myriad Pro\", \"size\": 24}, \"standoff\": 0}, \"zeroline\": false}, \"yaxis2\": {\"anchor\": \"x2\", \"domain\": [0.75375, 1.0], \"linecolor\": \"black\", \"linewidth\": 1, \"mirror\": true, \"nticks\": 10, \"range\": [0, 1], \"showgrid\": true, \"showline\": true, \"showticklabels\": false, \"tickangle\": 0, \"tickcolor\": \"black\", \"tickfont\": {\"color\": \"black\", \"family\": \"Myriad Pro\", \"size\": 18}, \"ticklen\": 0, \"ticks\": \"outside\", \"title\": {\"font\": {\"color\": \"black\", \"family\": \"Myriad Pro\", \"size\": 24}, \"standoff\": 0}, \"zeroline\": false}, \"yaxis3\": {\"anchor\": \"x3\", \"domain\": [0.75375, 1.0], \"linecolor\": \"black\", \"linewidth\": 1, \"mirror\": true, \"nticks\": 10, \"range\": [0, 1], \"showgrid\": true, \"showline\": true, \"showticklabels\": false, \"tickangle\": 0, \"tickcolor\": \"black\", \"tickfont\": {\"color\": \"black\", \"family\": \"Myriad Pro\", \"size\": 18}, \"ticklen\": 0, \"ticks\": \"outside\", \"title\": {\"font\": {\"color\": \"black\", \"family\": \"Myriad Pro\", \"size\": 24}, \"standoff\": 0}, \"zeroline\": false}, \"yaxis4\": {\"anchor\": \"x4\", \"domain\": [0.75375, 1.0], \"linecolor\": \"black\", \"linewidth\": 1, \"mirror\": true, \"nticks\": 10, \"range\": [0, 1], \"showgrid\": true, \"showline\": true, \"showticklabels\": false, \"tickangle\": 0, \"tickcolor\": \"black\", \"tickfont\": {\"color\": \"black\", \"family\": \"Myriad Pro\", \"size\": 18}, \"ticklen\": 0, \"ticks\": \"outside\", \"title\": {\"font\": {\"color\": \"black\", \"family\": \"Myriad Pro\", \"size\": 24}, \"standoff\": 0}, \"zeroline\": false}, \"yaxis5\": {\"anchor\": \"x5\", \"domain\": [0.5025, 0.7487499999999999], \"linecolor\": \"black\", \"linewidth\": 1, \"mirror\": true, \"nticks\": 10, \"range\": [0, 1], \"showgrid\": true, \"showline\": true, \"showticklabels\": false, \"tickangle\": 0, \"tickcolor\": \"black\", \"tickfont\": {\"color\": \"black\", \"family\": \"Myriad Pro\", \"size\": 18}, \"ticklen\": 0, \"ticks\": \"outside\", \"title\": {\"font\": {\"color\": \"black\", \"family\": \"Myriad Pro\", \"size\": 24}, \"standoff\": 0, \"text\": \"DAS+2 Tag\"}, \"zeroline\": false}, \"yaxis6\": {\"anchor\": \"x6\", \"domain\": [0.5025, 0.7487499999999999], \"linecolor\": \"black\", \"linewidth\": 1, \"mirror\": true, \"nticks\": 10, \"range\": [0, 1], \"showgrid\": true, \"showline\": true, \"showticklabels\": false, \"tickangle\": 0, \"tickcolor\": \"black\", \"tickfont\": {\"color\": \"black\", \"family\": \"Myriad Pro\", \"size\": 18}, \"ticklen\": 0, \"ticks\": \"outside\", \"title\": {\"font\": {\"color\": \"black\", \"family\": \"Myriad Pro\", \"size\": 24}, \"standoff\": 0}, \"zeroline\": false}, \"yaxis7\": {\"anchor\": \"x7\", \"domain\": [0.5025, 0.7487499999999999], \"linecolor\": \"black\", \"linewidth\": 1, \"mirror\": true, \"nticks\": 10, \"range\": [0, 1], \"showgrid\": true, \"showline\": true, \"showticklabels\": false, \"tickangle\": 0, \"tickcolor\": \"black\", \"tickfont\": {\"color\": \"black\", \"family\": \"Myriad Pro\", \"size\": 18}, \"ticklen\": 0, \"ticks\": \"outside\", \"title\": {\"font\": {\"color\": \"black\", \"family\": \"Myriad Pro\", \"size\": 24}, \"standoff\": 0}, \"zeroline\": false}, \"yaxis8\": {\"anchor\": \"x8\", \"domain\": [0.5025, 0.7487499999999999], \"linecolor\": \"black\", \"linewidth\": 1, \"mirror\": true, \"nticks\": 10, \"range\": [0, 1], \"showgrid\": true, \"showline\": true, \"showticklabels\": false, \"tickangle\": 0, \"tickcolor\": \"black\", \"tickfont\": {\"color\": \"black\", \"family\": \"Myriad Pro\", \"size\": 18}, \"ticklen\": 0, \"ticks\": \"outside\", \"title\": {\"font\": {\"color\": \"black\", \"family\": \"Myriad Pro\", \"size\": 24}, \"standoff\": 0}, \"zeroline\": false}, \"yaxis9\": {\"anchor\": \"x9\", \"domain\": [0.25125, 0.49749999999999994], \"linecolor\": \"black\", \"linewidth\": 1, \"mirror\": true, \"nticks\": 10, \"range\": [0, 1], \"showgrid\": true, \"showline\": true, \"showticklabels\": false, \"tickangle\": 0, \"tickcolor\": \"black\", \"tickfont\": {\"color\": \"black\", \"family\": \"Myriad Pro\", \"size\": 18}, \"ticklen\": 0, \"ticks\": \"outside\", \"title\": {\"font\": {\"color\": \"black\", \"family\": \"Myriad Pro\", \"size\": 24}, \"standoff\": 0, \"text\": \"DAS Tag\"}, \"zeroline\": false}},                        {\"responsive\": true}                    ).then(function(){\n",
       "                            \n",
       "var gd = document.getElementById('d59dc23b-944a-455d-bfc1-2ea8c8f20e8c');\n",
       "var x = new MutationObserver(function (mutations, observer) {{\n",
       "        var display = window.getComputedStyle(gd).display;\n",
       "        if (!display || display === 'none') {{\n",
       "            console.log([gd, 'removed!']);\n",
       "            Plotly.purge(gd);\n",
       "            observer.disconnect();\n",
       "        }}\n",
       "}});\n",
       "\n",
       "// Listen for the removal of the full notebook cells\n",
       "var notebookContainer = gd.closest('#notebook-container');\n",
       "if (notebookContainer) {{\n",
       "    x.observe(notebookContainer, {childList: true});\n",
       "}}\n",
       "\n",
       "// Listen for the clearing of the current output cell\n",
       "var outputEl = gd.closest('.output');\n",
       "if (outputEl) {{\n",
       "    x.observe(outputEl, {childList: true});\n",
       "}}\n",
       "\n",
       "                        })                };                });            </script>        </div>"
      ]
     },
     "metadata": {},
     "output_type": "display_data"
    }
   ],
   "source": [
    "bistability_dfs = [st_bistability_df, rep_bistability_df]\n",
    "titles = ['Single Trials', 'Replicates']\n",
    "\n",
    "for n,bistability_df in enumerate(bistability_dfs):\n",
    "    fig = make_subplots(rows=4, cols=4, horizontal_spacing=0.005, vertical_spacing=0.005)\n",
    "    \n",
    "    for i, lac_deg in enumerate(['0','1','2','3']):\n",
    "        for j, tet_deg in enumerate(['0','1','2','3']):\n",
    "            temp_df = bistability_df[bistability_df.index.get_level_values(0).map(lambda x:(x[1], x[3]))==(lac_deg,tet_deg)]\n",
    "            temp_dict = {stability:(temp_df['stability']==stability).sum() for stability in stabilities}\n",
    "            cumulative = np.cumsum([temp_dict[key]/len(temp_df) for key in temp_dict])\n",
    "\n",
    "            if lac_deg=='0' and tet_deg=='0':\n",
    "                showlegend = True\n",
    "            else:\n",
    "                showlegend = False\n",
    "\n",
    "            for k, stability in enumerate(stabilities):\n",
    "                fig.add_trace(go.Scatter(y=np.linspace(0,1,10), x=[cumulative[k]]*10,\n",
    "                                         mode='lines', line=dict(width=0), \n",
    "                                         name=legend_dict[stability], showlegend=showlegend, legendgroup=stability,\n",
    "                                         fillcolor=stability_colors[stability], fill='tonextx'),\n",
    "                              row=4-j, col=i+1)\n",
    "\n",
    "                if temp_dict[stability]!=0:\n",
    "                    fig.add_annotation(x=(cumulative - np.diff(cumulative, prepend=0)/2)[k], y=0.5,\n",
    "                                       text=str(int(np.round(temp_dict[stability]*100/len(temp_df), decimals=0)))+'%',\n",
    "                                       showarrow=False, row=4-int(j), col=int(i)+1)\n",
    "            fig.add_annotation(x=0.5, y=0.8, text='n = '+str(len(temp_df)), showarrow=False,row=4-j, col=i+1)\n",
    "\n",
    "            if i==0:\n",
    "                fig.update_yaxes(title=deg_tags[int(tet_deg)], row=4-j, col=i+1)\n",
    "            if j==0:\n",
    "                fig.update_xaxes(title=deg_tags[int(lac_deg)], row=4-j, col=i+1)\n",
    "\n",
    "    fig.update_layout(width=750, height=650, legend_font=font_defaults, title=titles[n], title_font=font_defaults)\n",
    "    fig.update_xaxes({**axis_defaults, \n",
    "                      **dict(title_standoff=10, titlefont=dict(family='Myriad Pro', size=24, color='black'),\n",
    "                             showticklabels=False, range=(0,1), ticklen=0)}) \n",
    "    fig.update_yaxes({**axis_defaults, \n",
    "                      **dict(title_standoff=0, titlefont=dict(family='Myriad Pro', size=24, color='black'),\n",
    "                             showticklabels=False, range=(0,1), ticklen=0)})\n",
    "    fig.update_annotations(font=font_defaults)\n",
    "    plot(fig)\n",
    "    if n==0:\n",
    "        pio.write_image(fig,\"figures\\Robustness_Tags_SingleTrials.svg\",format='svg')"
   ]
  },
  {
   "cell_type": "code",
   "execution_count": 202,
   "metadata": {},
   "outputs": [
    {
     "data": {
      "application/vnd.plotly.v1+json": {
       "config": {
        "linkText": "Export to plot.ly",
        "plotlyServerURL": "https://plot.ly",
        "showLink": false
       },
       "data": [
        {
         "fill": "tonextx",
         "fillcolor": "rgb(73,143,201)",
         "legendgroup": "bistable",
         "line": {
          "width": 0
         },
         "mode": "lines",
         "name": "Bistable",
         "showlegend": true,
         "type": "scatter",
         "x": [
          0.9375,
          0.9375,
          0.9375,
          0.9375,
          0.9375,
          0.9375,
          0.9375,
          0.9375,
          0.9375,
          0.9375
         ],
         "xaxis": "x7",
         "y": [
          0,
          0.1111111111111111,
          0.2222222222222222,
          0.3333333333333333,
          0.4444444444444444,
          0.5555555555555556,
          0.6666666666666666,
          0.7777777777777777,
          0.8888888888888888,
          1
         ],
         "yaxis": "y7"
        },
        {
         "fill": "tonextx",
         "fillcolor": "rgb(205,92,98)",
         "legendgroup": "tet_stable",
         "line": {
          "width": 0
         },
         "mode": "lines",
         "name": "Monostable Tet",
         "showlegend": true,
         "type": "scatter",
         "x": [
          1,
          1,
          1,
          1,
          1,
          1,
          1,
          1,
          1,
          1
         ],
         "xaxis": "x7",
         "y": [
          0,
          0.1111111111111111,
          0.2222222222222222,
          0.3333333333333333,
          0.4444444444444444,
          0.5555555555555556,
          0.6666666666666666,
          0.7777777777777777,
          0.8888888888888888,
          1
         ],
         "yaxis": "y7"
        },
        {
         "fill": "tonextx",
         "fillcolor": "rgb(89,185,92)",
         "legendgroup": "lac_stable",
         "line": {
          "width": 0
         },
         "mode": "lines",
         "name": "Monostable Lac",
         "showlegend": true,
         "type": "scatter",
         "x": [
          1,
          1,
          1,
          1,
          1,
          1,
          1,
          1,
          1,
          1
         ],
         "xaxis": "x7",
         "y": [
          0,
          0.1111111111111111,
          0.2222222222222222,
          0.3333333333333333,
          0.4444444444444444,
          0.5555555555555556,
          0.6666666666666666,
          0.7777777777777777,
          0.8888888888888888,
          1
         ],
         "yaxis": "y7"
        },
        {
         "fill": "tonextx",
         "fillcolor": "rgb(109,109,109)",
         "legendgroup": "unstable",
         "line": {
          "width": 0
         },
         "mode": "lines",
         "name": "Unstable",
         "showlegend": true,
         "type": "scatter",
         "x": [
          1,
          1,
          1,
          1,
          1,
          1,
          1,
          1,
          1,
          1
         ],
         "xaxis": "x7",
         "y": [
          0,
          0.1111111111111111,
          0.2222222222222222,
          0.3333333333333333,
          0.4444444444444444,
          0.5555555555555556,
          0.6666666666666666,
          0.7777777777777777,
          0.8888888888888888,
          1
         ],
         "yaxis": "y7"
        },
        {
         "fill": "tonextx",
         "fillcolor": "rgb(73,143,201)",
         "legendgroup": "bistable",
         "line": {
          "width": 0
         },
         "mode": "lines",
         "name": "Bistable",
         "showlegend": false,
         "type": "scatter",
         "x": [
          0.8333333333333334,
          0.8333333333333334,
          0.8333333333333334,
          0.8333333333333334,
          0.8333333333333334,
          0.8333333333333334,
          0.8333333333333334,
          0.8333333333333334,
          0.8333333333333334,
          0.8333333333333334
         ],
         "xaxis": "x4",
         "y": [
          0,
          0.1111111111111111,
          0.2222222222222222,
          0.3333333333333333,
          0.4444444444444444,
          0.5555555555555556,
          0.6666666666666666,
          0.7777777777777777,
          0.8888888888888888,
          1
         ],
         "yaxis": "y4"
        },
        {
         "fill": "tonextx",
         "fillcolor": "rgb(205,92,98)",
         "legendgroup": "tet_stable",
         "line": {
          "width": 0
         },
         "mode": "lines",
         "name": "Monostable Tet",
         "showlegend": false,
         "type": "scatter",
         "x": [
          0.888888888888889,
          0.888888888888889,
          0.888888888888889,
          0.888888888888889,
          0.888888888888889,
          0.888888888888889,
          0.888888888888889,
          0.888888888888889,
          0.888888888888889,
          0.888888888888889
         ],
         "xaxis": "x4",
         "y": [
          0,
          0.1111111111111111,
          0.2222222222222222,
          0.3333333333333333,
          0.4444444444444444,
          0.5555555555555556,
          0.6666666666666666,
          0.7777777777777777,
          0.8888888888888888,
          1
         ],
         "yaxis": "y4"
        },
        {
         "fill": "tonextx",
         "fillcolor": "rgb(89,185,92)",
         "legendgroup": "lac_stable",
         "line": {
          "width": 0
         },
         "mode": "lines",
         "name": "Monostable Lac",
         "showlegend": false,
         "type": "scatter",
         "x": [
          1,
          1,
          1,
          1,
          1,
          1,
          1,
          1,
          1,
          1
         ],
         "xaxis": "x4",
         "y": [
          0,
          0.1111111111111111,
          0.2222222222222222,
          0.3333333333333333,
          0.4444444444444444,
          0.5555555555555556,
          0.6666666666666666,
          0.7777777777777777,
          0.8888888888888888,
          1
         ],
         "yaxis": "y4"
        },
        {
         "fill": "tonextx",
         "fillcolor": "rgb(109,109,109)",
         "legendgroup": "unstable",
         "line": {
          "width": 0
         },
         "mode": "lines",
         "name": "Unstable",
         "showlegend": false,
         "type": "scatter",
         "x": [
          1,
          1,
          1,
          1,
          1,
          1,
          1,
          1,
          1,
          1
         ],
         "xaxis": "x4",
         "y": [
          0,
          0.1111111111111111,
          0.2222222222222222,
          0.3333333333333333,
          0.4444444444444444,
          0.5555555555555556,
          0.6666666666666666,
          0.7777777777777777,
          0.8888888888888888,
          1
         ],
         "yaxis": "y4"
        },
        {
         "fill": "tonextx",
         "fillcolor": "rgb(73,143,201)",
         "legendgroup": "bistable",
         "line": {
          "width": 0
         },
         "mode": "lines",
         "name": "Bistable",
         "showlegend": false,
         "type": "scatter",
         "x": [
          0.2222222222222222,
          0.2222222222222222,
          0.2222222222222222,
          0.2222222222222222,
          0.2222222222222222,
          0.2222222222222222,
          0.2222222222222222,
          0.2222222222222222,
          0.2222222222222222,
          0.2222222222222222
         ],
         "xaxis": "x",
         "y": [
          0,
          0.1111111111111111,
          0.2222222222222222,
          0.3333333333333333,
          0.4444444444444444,
          0.5555555555555556,
          0.6666666666666666,
          0.7777777777777777,
          0.8888888888888888,
          1
         ],
         "yaxis": "y"
        },
        {
         "fill": "tonextx",
         "fillcolor": "rgb(205,92,98)",
         "legendgroup": "tet_stable",
         "line": {
          "width": 0
         },
         "mode": "lines",
         "name": "Monostable Tet",
         "showlegend": false,
         "type": "scatter",
         "x": [
          0.2222222222222222,
          0.2222222222222222,
          0.2222222222222222,
          0.2222222222222222,
          0.2222222222222222,
          0.2222222222222222,
          0.2222222222222222,
          0.2222222222222222,
          0.2222222222222222,
          0.2222222222222222
         ],
         "xaxis": "x",
         "y": [
          0,
          0.1111111111111111,
          0.2222222222222222,
          0.3333333333333333,
          0.4444444444444444,
          0.5555555555555556,
          0.6666666666666666,
          0.7777777777777777,
          0.8888888888888888,
          1
         ],
         "yaxis": "y"
        },
        {
         "fill": "tonextx",
         "fillcolor": "rgb(89,185,92)",
         "legendgroup": "lac_stable",
         "line": {
          "width": 0
         },
         "mode": "lines",
         "name": "Monostable Lac",
         "showlegend": false,
         "type": "scatter",
         "x": [
          0.9444444444444444,
          0.9444444444444444,
          0.9444444444444444,
          0.9444444444444444,
          0.9444444444444444,
          0.9444444444444444,
          0.9444444444444444,
          0.9444444444444444,
          0.9444444444444444,
          0.9444444444444444
         ],
         "xaxis": "x",
         "y": [
          0,
          0.1111111111111111,
          0.2222222222222222,
          0.3333333333333333,
          0.4444444444444444,
          0.5555555555555556,
          0.6666666666666666,
          0.7777777777777777,
          0.8888888888888888,
          1
         ],
         "yaxis": "y"
        },
        {
         "fill": "tonextx",
         "fillcolor": "rgb(109,109,109)",
         "legendgroup": "unstable",
         "line": {
          "width": 0
         },
         "mode": "lines",
         "name": "Unstable",
         "showlegend": false,
         "type": "scatter",
         "x": [
          1,
          1,
          1,
          1,
          1,
          1,
          1,
          1,
          1,
          1
         ],
         "xaxis": "x",
         "y": [
          0,
          0.1111111111111111,
          0.2222222222222222,
          0.3333333333333333,
          0.4444444444444444,
          0.5555555555555556,
          0.6666666666666666,
          0.7777777777777777,
          0.8888888888888888,
          1
         ],
         "yaxis": "y"
        },
        {
         "fill": "tonextx",
         "fillcolor": "rgb(73,143,201)",
         "legendgroup": "bistable",
         "line": {
          "width": 0
         },
         "mode": "lines",
         "name": "Bistable",
         "showlegend": false,
         "type": "scatter",
         "x": [
          0.8611111111111112,
          0.8611111111111112,
          0.8611111111111112,
          0.8611111111111112,
          0.8611111111111112,
          0.8611111111111112,
          0.8611111111111112,
          0.8611111111111112,
          0.8611111111111112,
          0.8611111111111112
         ],
         "xaxis": "x8",
         "y": [
          0,
          0.1111111111111111,
          0.2222222222222222,
          0.3333333333333333,
          0.4444444444444444,
          0.5555555555555556,
          0.6666666666666666,
          0.7777777777777777,
          0.8888888888888888,
          1
         ],
         "yaxis": "y8"
        },
        {
         "fill": "tonextx",
         "fillcolor": "rgb(205,92,98)",
         "legendgroup": "tet_stable",
         "line": {
          "width": 0
         },
         "mode": "lines",
         "name": "Monostable Tet",
         "showlegend": false,
         "type": "scatter",
         "x": [
          1,
          1,
          1,
          1,
          1,
          1,
          1,
          1,
          1,
          1
         ],
         "xaxis": "x8",
         "y": [
          0,
          0.1111111111111111,
          0.2222222222222222,
          0.3333333333333333,
          0.4444444444444444,
          0.5555555555555556,
          0.6666666666666666,
          0.7777777777777777,
          0.8888888888888888,
          1
         ],
         "yaxis": "y8"
        },
        {
         "fill": "tonextx",
         "fillcolor": "rgb(89,185,92)",
         "legendgroup": "lac_stable",
         "line": {
          "width": 0
         },
         "mode": "lines",
         "name": "Monostable Lac",
         "showlegend": false,
         "type": "scatter",
         "x": [
          1,
          1,
          1,
          1,
          1,
          1,
          1,
          1,
          1,
          1
         ],
         "xaxis": "x8",
         "y": [
          0,
          0.1111111111111111,
          0.2222222222222222,
          0.3333333333333333,
          0.4444444444444444,
          0.5555555555555556,
          0.6666666666666666,
          0.7777777777777777,
          0.8888888888888888,
          1
         ],
         "yaxis": "y8"
        },
        {
         "fill": "tonextx",
         "fillcolor": "rgb(109,109,109)",
         "legendgroup": "unstable",
         "line": {
          "width": 0
         },
         "mode": "lines",
         "name": "Unstable",
         "showlegend": false,
         "type": "scatter",
         "x": [
          1,
          1,
          1,
          1,
          1,
          1,
          1,
          1,
          1,
          1
         ],
         "xaxis": "x8",
         "y": [
          0,
          0.1111111111111111,
          0.2222222222222222,
          0.3333333333333333,
          0.4444444444444444,
          0.5555555555555556,
          0.6666666666666666,
          0.7777777777777777,
          0.8888888888888888,
          1
         ],
         "yaxis": "y8"
        },
        {
         "fill": "tonextx",
         "fillcolor": "rgb(73,143,201)",
         "legendgroup": "bistable",
         "line": {
          "width": 0
         },
         "mode": "lines",
         "name": "Bistable",
         "showlegend": false,
         "type": "scatter",
         "x": [
          0.7037037037037037,
          0.7037037037037037,
          0.7037037037037037,
          0.7037037037037037,
          0.7037037037037037,
          0.7037037037037037,
          0.7037037037037037,
          0.7037037037037037,
          0.7037037037037037,
          0.7037037037037037
         ],
         "xaxis": "x5",
         "y": [
          0,
          0.1111111111111111,
          0.2222222222222222,
          0.3333333333333333,
          0.4444444444444444,
          0.5555555555555556,
          0.6666666666666666,
          0.7777777777777777,
          0.8888888888888888,
          1
         ],
         "yaxis": "y5"
        },
        {
         "fill": "tonextx",
         "fillcolor": "rgb(205,92,98)",
         "legendgroup": "tet_stable",
         "line": {
          "width": 0
         },
         "mode": "lines",
         "name": "Monostable Tet",
         "showlegend": false,
         "type": "scatter",
         "x": [
          0.9259259259259259,
          0.9259259259259259,
          0.9259259259259259,
          0.9259259259259259,
          0.9259259259259259,
          0.9259259259259259,
          0.9259259259259259,
          0.9259259259259259,
          0.9259259259259259,
          0.9259259259259259
         ],
         "xaxis": "x5",
         "y": [
          0,
          0.1111111111111111,
          0.2222222222222222,
          0.3333333333333333,
          0.4444444444444444,
          0.5555555555555556,
          0.6666666666666666,
          0.7777777777777777,
          0.8888888888888888,
          1
         ],
         "yaxis": "y5"
        },
        {
         "fill": "tonextx",
         "fillcolor": "rgb(89,185,92)",
         "legendgroup": "lac_stable",
         "line": {
          "width": 0
         },
         "mode": "lines",
         "name": "Monostable Lac",
         "showlegend": false,
         "type": "scatter",
         "x": [
          1,
          1,
          1,
          1,
          1,
          1,
          1,
          1,
          1,
          1
         ],
         "xaxis": "x5",
         "y": [
          0,
          0.1111111111111111,
          0.2222222222222222,
          0.3333333333333333,
          0.4444444444444444,
          0.5555555555555556,
          0.6666666666666666,
          0.7777777777777777,
          0.8888888888888888,
          1
         ],
         "yaxis": "y5"
        },
        {
         "fill": "tonextx",
         "fillcolor": "rgb(109,109,109)",
         "legendgroup": "unstable",
         "line": {
          "width": 0
         },
         "mode": "lines",
         "name": "Unstable",
         "showlegend": false,
         "type": "scatter",
         "x": [
          1,
          1,
          1,
          1,
          1,
          1,
          1,
          1,
          1,
          1
         ],
         "xaxis": "x5",
         "y": [
          0,
          0.1111111111111111,
          0.2222222222222222,
          0.3333333333333333,
          0.4444444444444444,
          0.5555555555555556,
          0.6666666666666666,
          0.7777777777777777,
          0.8888888888888888,
          1
         ],
         "yaxis": "y5"
        },
        {
         "fill": "tonextx",
         "fillcolor": "rgb(73,143,201)",
         "legendgroup": "bistable",
         "line": {
          "width": 0
         },
         "mode": "lines",
         "name": "Bistable",
         "showlegend": false,
         "type": "scatter",
         "x": [
          0.2962962962962963,
          0.2962962962962963,
          0.2962962962962963,
          0.2962962962962963,
          0.2962962962962963,
          0.2962962962962963,
          0.2962962962962963,
          0.2962962962962963,
          0.2962962962962963,
          0.2962962962962963
         ],
         "xaxis": "x2",
         "y": [
          0,
          0.1111111111111111,
          0.2222222222222222,
          0.3333333333333333,
          0.4444444444444444,
          0.5555555555555556,
          0.6666666666666666,
          0.7777777777777777,
          0.8888888888888888,
          1
         ],
         "yaxis": "y2"
        },
        {
         "fill": "tonextx",
         "fillcolor": "rgb(205,92,98)",
         "legendgroup": "tet_stable",
         "line": {
          "width": 0
         },
         "mode": "lines",
         "name": "Monostable Tet",
         "showlegend": false,
         "type": "scatter",
         "x": [
          0.4074074074074074,
          0.4074074074074074,
          0.4074074074074074,
          0.4074074074074074,
          0.4074074074074074,
          0.4074074074074074,
          0.4074074074074074,
          0.4074074074074074,
          0.4074074074074074,
          0.4074074074074074
         ],
         "xaxis": "x2",
         "y": [
          0,
          0.1111111111111111,
          0.2222222222222222,
          0.3333333333333333,
          0.4444444444444444,
          0.5555555555555556,
          0.6666666666666666,
          0.7777777777777777,
          0.8888888888888888,
          1
         ],
         "yaxis": "y2"
        },
        {
         "fill": "tonextx",
         "fillcolor": "rgb(89,185,92)",
         "legendgroup": "lac_stable",
         "line": {
          "width": 0
         },
         "mode": "lines",
         "name": "Monostable Lac",
         "showlegend": false,
         "type": "scatter",
         "x": [
          0.7777777777777777,
          0.7777777777777777,
          0.7777777777777777,
          0.7777777777777777,
          0.7777777777777777,
          0.7777777777777777,
          0.7777777777777777,
          0.7777777777777777,
          0.7777777777777777,
          0.7777777777777777
         ],
         "xaxis": "x2",
         "y": [
          0,
          0.1111111111111111,
          0.2222222222222222,
          0.3333333333333333,
          0.4444444444444444,
          0.5555555555555556,
          0.6666666666666666,
          0.7777777777777777,
          0.8888888888888888,
          1
         ],
         "yaxis": "y2"
        },
        {
         "fill": "tonextx",
         "fillcolor": "rgb(109,109,109)",
         "legendgroup": "unstable",
         "line": {
          "width": 0
         },
         "mode": "lines",
         "name": "Unstable",
         "showlegend": false,
         "type": "scatter",
         "x": [
          0.9999999999999999,
          0.9999999999999999,
          0.9999999999999999,
          0.9999999999999999,
          0.9999999999999999,
          0.9999999999999999,
          0.9999999999999999,
          0.9999999999999999,
          0.9999999999999999,
          0.9999999999999999
         ],
         "xaxis": "x2",
         "y": [
          0,
          0.1111111111111111,
          0.2222222222222222,
          0.3333333333333333,
          0.4444444444444444,
          0.5555555555555556,
          0.6666666666666666,
          0.7777777777777777,
          0.8888888888888888,
          1
         ],
         "yaxis": "y2"
        },
        {
         "fill": "tonextx",
         "fillcolor": "rgb(73,143,201)",
         "legendgroup": "bistable",
         "line": {
          "width": 0
         },
         "mode": "lines",
         "name": "Bistable",
         "showlegend": false,
         "type": "scatter",
         "x": [
          0.75,
          0.75,
          0.75,
          0.75,
          0.75,
          0.75,
          0.75,
          0.75,
          0.75,
          0.75
         ],
         "xaxis": "x9",
         "y": [
          0,
          0.1111111111111111,
          0.2222222222222222,
          0.3333333333333333,
          0.4444444444444444,
          0.5555555555555556,
          0.6666666666666666,
          0.7777777777777777,
          0.8888888888888888,
          1
         ],
         "yaxis": "y9"
        },
        {
         "fill": "tonextx",
         "fillcolor": "rgb(205,92,98)",
         "legendgroup": "tet_stable",
         "line": {
          "width": 0
         },
         "mode": "lines",
         "name": "Monostable Tet",
         "showlegend": false,
         "type": "scatter",
         "x": [
          1,
          1,
          1,
          1,
          1,
          1,
          1,
          1,
          1,
          1
         ],
         "xaxis": "x9",
         "y": [
          0,
          0.1111111111111111,
          0.2222222222222222,
          0.3333333333333333,
          0.4444444444444444,
          0.5555555555555556,
          0.6666666666666666,
          0.7777777777777777,
          0.8888888888888888,
          1
         ],
         "yaxis": "y9"
        },
        {
         "fill": "tonextx",
         "fillcolor": "rgb(89,185,92)",
         "legendgroup": "lac_stable",
         "line": {
          "width": 0
         },
         "mode": "lines",
         "name": "Monostable Lac",
         "showlegend": false,
         "type": "scatter",
         "x": [
          1,
          1,
          1,
          1,
          1,
          1,
          1,
          1,
          1,
          1
         ],
         "xaxis": "x9",
         "y": [
          0,
          0.1111111111111111,
          0.2222222222222222,
          0.3333333333333333,
          0.4444444444444444,
          0.5555555555555556,
          0.6666666666666666,
          0.7777777777777777,
          0.8888888888888888,
          1
         ],
         "yaxis": "y9"
        },
        {
         "fill": "tonextx",
         "fillcolor": "rgb(109,109,109)",
         "legendgroup": "unstable",
         "line": {
          "width": 0
         },
         "mode": "lines",
         "name": "Unstable",
         "showlegend": false,
         "type": "scatter",
         "x": [
          1,
          1,
          1,
          1,
          1,
          1,
          1,
          1,
          1,
          1
         ],
         "xaxis": "x9",
         "y": [
          0,
          0.1111111111111111,
          0.2222222222222222,
          0.3333333333333333,
          0.4444444444444444,
          0.5555555555555556,
          0.6666666666666666,
          0.7777777777777777,
          0.8888888888888888,
          1
         ],
         "yaxis": "y9"
        },
        {
         "fill": "tonextx",
         "fillcolor": "rgb(73,143,201)",
         "legendgroup": "bistable",
         "line": {
          "width": 0
         },
         "mode": "lines",
         "name": "Bistable",
         "showlegend": false,
         "type": "scatter",
         "x": [
          0.6666666666666666,
          0.6666666666666666,
          0.6666666666666666,
          0.6666666666666666,
          0.6666666666666666,
          0.6666666666666666,
          0.6666666666666666,
          0.6666666666666666,
          0.6666666666666666,
          0.6666666666666666
         ],
         "xaxis": "x6",
         "y": [
          0,
          0.1111111111111111,
          0.2222222222222222,
          0.3333333333333333,
          0.4444444444444444,
          0.5555555555555556,
          0.6666666666666666,
          0.7777777777777777,
          0.8888888888888888,
          1
         ],
         "yaxis": "y6"
        },
        {
         "fill": "tonextx",
         "fillcolor": "rgb(205,92,98)",
         "legendgroup": "tet_stable",
         "line": {
          "width": 0
         },
         "mode": "lines",
         "name": "Monostable Tet",
         "showlegend": false,
         "type": "scatter",
         "x": [
          1,
          1,
          1,
          1,
          1,
          1,
          1,
          1,
          1,
          1
         ],
         "xaxis": "x6",
         "y": [
          0,
          0.1111111111111111,
          0.2222222222222222,
          0.3333333333333333,
          0.4444444444444444,
          0.5555555555555556,
          0.6666666666666666,
          0.7777777777777777,
          0.8888888888888888,
          1
         ],
         "yaxis": "y6"
        },
        {
         "fill": "tonextx",
         "fillcolor": "rgb(89,185,92)",
         "legendgroup": "lac_stable",
         "line": {
          "width": 0
         },
         "mode": "lines",
         "name": "Monostable Lac",
         "showlegend": false,
         "type": "scatter",
         "x": [
          1,
          1,
          1,
          1,
          1,
          1,
          1,
          1,
          1,
          1
         ],
         "xaxis": "x6",
         "y": [
          0,
          0.1111111111111111,
          0.2222222222222222,
          0.3333333333333333,
          0.4444444444444444,
          0.5555555555555556,
          0.6666666666666666,
          0.7777777777777777,
          0.8888888888888888,
          1
         ],
         "yaxis": "y6"
        },
        {
         "fill": "tonextx",
         "fillcolor": "rgb(109,109,109)",
         "legendgroup": "unstable",
         "line": {
          "width": 0
         },
         "mode": "lines",
         "name": "Unstable",
         "showlegend": false,
         "type": "scatter",
         "x": [
          1,
          1,
          1,
          1,
          1,
          1,
          1,
          1,
          1,
          1
         ],
         "xaxis": "x6",
         "y": [
          0,
          0.1111111111111111,
          0.2222222222222222,
          0.3333333333333333,
          0.4444444444444444,
          0.5555555555555556,
          0.6666666666666666,
          0.7777777777777777,
          0.8888888888888888,
          1
         ],
         "yaxis": "y6"
        },
        {
         "fill": "tonextx",
         "fillcolor": "rgb(73,143,201)",
         "legendgroup": "bistable",
         "line": {
          "width": 0
         },
         "mode": "lines",
         "name": "Bistable",
         "showlegend": false,
         "type": "scatter",
         "x": [
          0.14814814814814814,
          0.14814814814814814,
          0.14814814814814814,
          0.14814814814814814,
          0.14814814814814814,
          0.14814814814814814,
          0.14814814814814814,
          0.14814814814814814,
          0.14814814814814814,
          0.14814814814814814
         ],
         "xaxis": "x3",
         "y": [
          0,
          0.1111111111111111,
          0.2222222222222222,
          0.3333333333333333,
          0.4444444444444444,
          0.5555555555555556,
          0.6666666666666666,
          0.7777777777777777,
          0.8888888888888888,
          1
         ],
         "yaxis": "y3"
        },
        {
         "fill": "tonextx",
         "fillcolor": "rgb(205,92,98)",
         "legendgroup": "tet_stable",
         "line": {
          "width": 0
         },
         "mode": "lines",
         "name": "Monostable Tet",
         "showlegend": false,
         "type": "scatter",
         "x": [
          0.37037037037037035,
          0.37037037037037035,
          0.37037037037037035,
          0.37037037037037035,
          0.37037037037037035,
          0.37037037037037035,
          0.37037037037037035,
          0.37037037037037035,
          0.37037037037037035,
          0.37037037037037035
         ],
         "xaxis": "x3",
         "y": [
          0,
          0.1111111111111111,
          0.2222222222222222,
          0.3333333333333333,
          0.4444444444444444,
          0.5555555555555556,
          0.6666666666666666,
          0.7777777777777777,
          0.8888888888888888,
          1
         ],
         "yaxis": "y3"
        },
        {
         "fill": "tonextx",
         "fillcolor": "rgb(89,185,92)",
         "legendgroup": "lac_stable",
         "line": {
          "width": 0
         },
         "mode": "lines",
         "name": "Monostable Lac",
         "showlegend": false,
         "type": "scatter",
         "x": [
          0.8148148148148148,
          0.8148148148148148,
          0.8148148148148148,
          0.8148148148148148,
          0.8148148148148148,
          0.8148148148148148,
          0.8148148148148148,
          0.8148148148148148,
          0.8148148148148148,
          0.8148148148148148
         ],
         "xaxis": "x3",
         "y": [
          0,
          0.1111111111111111,
          0.2222222222222222,
          0.3333333333333333,
          0.4444444444444444,
          0.5555555555555556,
          0.6666666666666666,
          0.7777777777777777,
          0.8888888888888888,
          1
         ],
         "yaxis": "y3"
        },
        {
         "fill": "tonextx",
         "fillcolor": "rgb(109,109,109)",
         "legendgroup": "unstable",
         "line": {
          "width": 0
         },
         "mode": "lines",
         "name": "Unstable",
         "showlegend": false,
         "type": "scatter",
         "x": [
          1,
          1,
          1,
          1,
          1,
          1,
          1,
          1,
          1,
          1
         ],
         "xaxis": "x3",
         "y": [
          0,
          0.1111111111111111,
          0.2222222222222222,
          0.3333333333333333,
          0.4444444444444444,
          0.5555555555555556,
          0.6666666666666666,
          0.7777777777777777,
          0.8888888888888888,
          1
         ],
         "yaxis": "y3"
        }
       ],
       "layout": {
        "annotations": [
         {
          "font": {
           "color": "black",
           "family": "Myriad Pro",
           "size": 18
          },
          "showarrow": false,
          "text": "94%",
          "x": 0.46875,
          "xref": "x7",
          "y": 0.5,
          "yref": "y7"
         },
         {
          "font": {
           "color": "black",
           "family": "Myriad Pro",
           "size": 18
          },
          "showarrow": false,
          "text": "6%",
          "x": 0.96875,
          "xref": "x7",
          "y": 0.5,
          "yref": "y7"
         },
         {
          "font": {
           "color": "black",
           "family": "Myriad Pro",
           "size": 18
          },
          "showarrow": false,
          "text": "n = 48",
          "x": 0.5,
          "xref": "x7",
          "y": 0.8,
          "yref": "y7"
         },
         {
          "font": {
           "color": "black",
           "family": "Myriad Pro",
           "size": 18
          },
          "showarrow": false,
          "text": "83%",
          "x": 0.4166666666666667,
          "xref": "x4",
          "y": 0.5,
          "yref": "y4"
         },
         {
          "font": {
           "color": "black",
           "family": "Myriad Pro",
           "size": 18
          },
          "showarrow": false,
          "text": "6%",
          "x": 0.8611111111111112,
          "xref": "x4",
          "y": 0.5,
          "yref": "y4"
         },
         {
          "font": {
           "color": "black",
           "family": "Myriad Pro",
           "size": 18
          },
          "showarrow": false,
          "text": "11%",
          "x": 0.9444444444444444,
          "xref": "x4",
          "y": 0.5,
          "yref": "y4"
         },
         {
          "font": {
           "color": "black",
           "family": "Myriad Pro",
           "size": 18
          },
          "showarrow": false,
          "text": "n = 36",
          "x": 0.5,
          "xref": "x4",
          "y": 0.8,
          "yref": "y4"
         },
         {
          "font": {
           "color": "black",
           "family": "Myriad Pro",
           "size": 18
          },
          "showarrow": false,
          "text": "22%",
          "x": 0.1111111111111111,
          "xref": "x",
          "y": 0.5,
          "yref": "y"
         },
         {
          "font": {
           "color": "black",
           "family": "Myriad Pro",
           "size": 18
          },
          "showarrow": false,
          "text": "72%",
          "x": 0.5833333333333333,
          "xref": "x",
          "y": 0.5,
          "yref": "y"
         },
         {
          "font": {
           "color": "black",
           "family": "Myriad Pro",
           "size": 18
          },
          "showarrow": false,
          "text": "6%",
          "x": 0.9722222222222222,
          "xref": "x",
          "y": 0.5,
          "yref": "y"
         },
         {
          "font": {
           "color": "black",
           "family": "Myriad Pro",
           "size": 18
          },
          "showarrow": false,
          "text": "n = 36",
          "x": 0.5,
          "xref": "x",
          "y": 0.8,
          "yref": "y"
         },
         {
          "font": {
           "color": "black",
           "family": "Myriad Pro",
           "size": 18
          },
          "showarrow": false,
          "text": "86%",
          "x": 0.4305555555555556,
          "xref": "x8",
          "y": 0.5,
          "yref": "y8"
         },
         {
          "font": {
           "color": "black",
           "family": "Myriad Pro",
           "size": 18
          },
          "showarrow": false,
          "text": "14%",
          "x": 0.9305555555555556,
          "xref": "x8",
          "y": 0.5,
          "yref": "y8"
         },
         {
          "font": {
           "color": "black",
           "family": "Myriad Pro",
           "size": 18
          },
          "showarrow": false,
          "text": "n = 36",
          "x": 0.5,
          "xref": "x8",
          "y": 0.8,
          "yref": "y8"
         },
         {
          "font": {
           "color": "black",
           "family": "Myriad Pro",
           "size": 18
          },
          "showarrow": false,
          "text": "70%",
          "x": 0.35185185185185186,
          "xref": "x5",
          "y": 0.5,
          "yref": "y5"
         },
         {
          "font": {
           "color": "black",
           "family": "Myriad Pro",
           "size": 18
          },
          "showarrow": false,
          "text": "22%",
          "x": 0.8148148148148149,
          "xref": "x5",
          "y": 0.5,
          "yref": "y5"
         },
         {
          "font": {
           "color": "black",
           "family": "Myriad Pro",
           "size": 18
          },
          "showarrow": false,
          "text": "7%",
          "x": 0.962962962962963,
          "xref": "x5",
          "y": 0.5,
          "yref": "y5"
         },
         {
          "font": {
           "color": "black",
           "family": "Myriad Pro",
           "size": 18
          },
          "showarrow": false,
          "text": "n = 27",
          "x": 0.5,
          "xref": "x5",
          "y": 0.8,
          "yref": "y5"
         },
         {
          "font": {
           "color": "black",
           "family": "Myriad Pro",
           "size": 18
          },
          "showarrow": false,
          "text": "30%",
          "x": 0.14814814814814814,
          "xref": "x2",
          "y": 0.5,
          "yref": "y2"
         },
         {
          "font": {
           "color": "black",
           "family": "Myriad Pro",
           "size": 18
          },
          "showarrow": false,
          "text": "11%",
          "x": 0.35185185185185186,
          "xref": "x2",
          "y": 0.5,
          "yref": "y2"
         },
         {
          "font": {
           "color": "black",
           "family": "Myriad Pro",
           "size": 18
          },
          "showarrow": false,
          "text": "37%",
          "x": 0.5925925925925926,
          "xref": "x2",
          "y": 0.5,
          "yref": "y2"
         },
         {
          "font": {
           "color": "black",
           "family": "Myriad Pro",
           "size": 18
          },
          "showarrow": false,
          "text": "22%",
          "x": 0.8888888888888888,
          "xref": "x2",
          "y": 0.5,
          "yref": "y2"
         },
         {
          "font": {
           "color": "black",
           "family": "Myriad Pro",
           "size": 18
          },
          "showarrow": false,
          "text": "n = 27",
          "x": 0.5,
          "xref": "x2",
          "y": 0.8,
          "yref": "y2"
         },
         {
          "font": {
           "color": "black",
           "family": "Myriad Pro",
           "size": 18
          },
          "showarrow": false,
          "text": "75%",
          "x": 0.375,
          "xref": "x9",
          "y": 0.5,
          "yref": "y9"
         },
         {
          "font": {
           "color": "black",
           "family": "Myriad Pro",
           "size": 18
          },
          "showarrow": false,
          "text": "25%",
          "x": 0.875,
          "xref": "x9",
          "y": 0.5,
          "yref": "y9"
         },
         {
          "font": {
           "color": "black",
           "family": "Myriad Pro",
           "size": 18
          },
          "showarrow": false,
          "text": "n = 36",
          "x": 0.5,
          "xref": "x9",
          "y": 0.8,
          "yref": "y9"
         },
         {
          "font": {
           "color": "black",
           "family": "Myriad Pro",
           "size": 18
          },
          "showarrow": false,
          "text": "67%",
          "x": 0.3333333333333333,
          "xref": "x6",
          "y": 0.5,
          "yref": "y6"
         },
         {
          "font": {
           "color": "black",
           "family": "Myriad Pro",
           "size": 18
          },
          "showarrow": false,
          "text": "33%",
          "x": 0.8333333333333333,
          "xref": "x6",
          "y": 0.5,
          "yref": "y6"
         },
         {
          "font": {
           "color": "black",
           "family": "Myriad Pro",
           "size": 18
          },
          "showarrow": false,
          "text": "n = 27",
          "x": 0.5,
          "xref": "x6",
          "y": 0.8,
          "yref": "y6"
         },
         {
          "font": {
           "color": "black",
           "family": "Myriad Pro",
           "size": 18
          },
          "showarrow": false,
          "text": "15%",
          "x": 0.07407407407407407,
          "xref": "x3",
          "y": 0.5,
          "yref": "y3"
         },
         {
          "font": {
           "color": "black",
           "family": "Myriad Pro",
           "size": 18
          },
          "showarrow": false,
          "text": "22%",
          "x": 0.25925925925925924,
          "xref": "x3",
          "y": 0.5,
          "yref": "y3"
         },
         {
          "font": {
           "color": "black",
           "family": "Myriad Pro",
           "size": 18
          },
          "showarrow": false,
          "text": "44%",
          "x": 0.5925925925925926,
          "xref": "x3",
          "y": 0.5,
          "yref": "y3"
         },
         {
          "font": {
           "color": "black",
           "family": "Myriad Pro",
           "size": 18
          },
          "showarrow": false,
          "text": "19%",
          "x": 0.9074074074074074,
          "xref": "x3",
          "y": 0.5,
          "yref": "y3"
         },
         {
          "font": {
           "color": "black",
           "family": "Myriad Pro",
           "size": 18
          },
          "showarrow": false,
          "text": "n = 27",
          "x": 0.5,
          "xref": "x3",
          "y": 0.8,
          "yref": "y3"
         }
        ],
        "height": 600,
        "legend": {
         "font": {
          "color": "black",
          "family": "Myriad Pro",
          "size": 18
         }
        },
        "template": {
         "data": {
          "bar": [
           {
            "error_x": {
             "color": "#2a3f5f"
            },
            "error_y": {
             "color": "#2a3f5f"
            },
            "marker": {
             "line": {
              "color": "white",
              "width": 0.5
             }
            },
            "type": "bar"
           }
          ],
          "barpolar": [
           {
            "marker": {
             "line": {
              "color": "white",
              "width": 0.5
             }
            },
            "type": "barpolar"
           }
          ],
          "carpet": [
           {
            "aaxis": {
             "endlinecolor": "#2a3f5f",
             "gridcolor": "#C8D4E3",
             "linecolor": "#C8D4E3",
             "minorgridcolor": "#C8D4E3",
             "startlinecolor": "#2a3f5f"
            },
            "baxis": {
             "endlinecolor": "#2a3f5f",
             "gridcolor": "#C8D4E3",
             "linecolor": "#C8D4E3",
             "minorgridcolor": "#C8D4E3",
             "startlinecolor": "#2a3f5f"
            },
            "type": "carpet"
           }
          ],
          "choropleth": [
           {
            "colorbar": {
             "outlinewidth": 0,
             "ticks": ""
            },
            "type": "choropleth"
           }
          ],
          "contour": [
           {
            "colorbar": {
             "outlinewidth": 0,
             "ticks": ""
            },
            "colorscale": [
             [
              0,
              "#0d0887"
             ],
             [
              0.1111111111111111,
              "#46039f"
             ],
             [
              0.2222222222222222,
              "#7201a8"
             ],
             [
              0.3333333333333333,
              "#9c179e"
             ],
             [
              0.4444444444444444,
              "#bd3786"
             ],
             [
              0.5555555555555556,
              "#d8576b"
             ],
             [
              0.6666666666666666,
              "#ed7953"
             ],
             [
              0.7777777777777778,
              "#fb9f3a"
             ],
             [
              0.8888888888888888,
              "#fdca26"
             ],
             [
              1,
              "#f0f921"
             ]
            ],
            "type": "contour"
           }
          ],
          "contourcarpet": [
           {
            "colorbar": {
             "outlinewidth": 0,
             "ticks": ""
            },
            "type": "contourcarpet"
           }
          ],
          "heatmap": [
           {
            "colorbar": {
             "outlinewidth": 0,
             "ticks": ""
            },
            "colorscale": [
             [
              0,
              "#0d0887"
             ],
             [
              0.1111111111111111,
              "#46039f"
             ],
             [
              0.2222222222222222,
              "#7201a8"
             ],
             [
              0.3333333333333333,
              "#9c179e"
             ],
             [
              0.4444444444444444,
              "#bd3786"
             ],
             [
              0.5555555555555556,
              "#d8576b"
             ],
             [
              0.6666666666666666,
              "#ed7953"
             ],
             [
              0.7777777777777778,
              "#fb9f3a"
             ],
             [
              0.8888888888888888,
              "#fdca26"
             ],
             [
              1,
              "#f0f921"
             ]
            ],
            "type": "heatmap"
           }
          ],
          "heatmapgl": [
           {
            "colorbar": {
             "outlinewidth": 0,
             "ticks": ""
            },
            "colorscale": [
             [
              0,
              "#0d0887"
             ],
             [
              0.1111111111111111,
              "#46039f"
             ],
             [
              0.2222222222222222,
              "#7201a8"
             ],
             [
              0.3333333333333333,
              "#9c179e"
             ],
             [
              0.4444444444444444,
              "#bd3786"
             ],
             [
              0.5555555555555556,
              "#d8576b"
             ],
             [
              0.6666666666666666,
              "#ed7953"
             ],
             [
              0.7777777777777778,
              "#fb9f3a"
             ],
             [
              0.8888888888888888,
              "#fdca26"
             ],
             [
              1,
              "#f0f921"
             ]
            ],
            "type": "heatmapgl"
           }
          ],
          "histogram": [
           {
            "marker": {
             "colorbar": {
              "outlinewidth": 0,
              "ticks": ""
             }
            },
            "type": "histogram"
           }
          ],
          "histogram2d": [
           {
            "colorbar": {
             "outlinewidth": 0,
             "ticks": ""
            },
            "colorscale": [
             [
              0,
              "#0d0887"
             ],
             [
              0.1111111111111111,
              "#46039f"
             ],
             [
              0.2222222222222222,
              "#7201a8"
             ],
             [
              0.3333333333333333,
              "#9c179e"
             ],
             [
              0.4444444444444444,
              "#bd3786"
             ],
             [
              0.5555555555555556,
              "#d8576b"
             ],
             [
              0.6666666666666666,
              "#ed7953"
             ],
             [
              0.7777777777777778,
              "#fb9f3a"
             ],
             [
              0.8888888888888888,
              "#fdca26"
             ],
             [
              1,
              "#f0f921"
             ]
            ],
            "type": "histogram2d"
           }
          ],
          "histogram2dcontour": [
           {
            "colorbar": {
             "outlinewidth": 0,
             "ticks": ""
            },
            "colorscale": [
             [
              0,
              "#0d0887"
             ],
             [
              0.1111111111111111,
              "#46039f"
             ],
             [
              0.2222222222222222,
              "#7201a8"
             ],
             [
              0.3333333333333333,
              "#9c179e"
             ],
             [
              0.4444444444444444,
              "#bd3786"
             ],
             [
              0.5555555555555556,
              "#d8576b"
             ],
             [
              0.6666666666666666,
              "#ed7953"
             ],
             [
              0.7777777777777778,
              "#fb9f3a"
             ],
             [
              0.8888888888888888,
              "#fdca26"
             ],
             [
              1,
              "#f0f921"
             ]
            ],
            "type": "histogram2dcontour"
           }
          ],
          "mesh3d": [
           {
            "colorbar": {
             "outlinewidth": 0,
             "ticks": ""
            },
            "type": "mesh3d"
           }
          ],
          "parcoords": [
           {
            "line": {
             "colorbar": {
              "outlinewidth": 0,
              "ticks": ""
             }
            },
            "type": "parcoords"
           }
          ],
          "pie": [
           {
            "automargin": true,
            "type": "pie"
           }
          ],
          "scatter": [
           {
            "marker": {
             "colorbar": {
              "outlinewidth": 0,
              "ticks": ""
             }
            },
            "type": "scatter"
           }
          ],
          "scatter3d": [
           {
            "line": {
             "colorbar": {
              "outlinewidth": 0,
              "ticks": ""
             }
            },
            "marker": {
             "colorbar": {
              "outlinewidth": 0,
              "ticks": ""
             }
            },
            "type": "scatter3d"
           }
          ],
          "scattercarpet": [
           {
            "marker": {
             "colorbar": {
              "outlinewidth": 0,
              "ticks": ""
             }
            },
            "type": "scattercarpet"
           }
          ],
          "scattergeo": [
           {
            "marker": {
             "colorbar": {
              "outlinewidth": 0,
              "ticks": ""
             }
            },
            "type": "scattergeo"
           }
          ],
          "scattergl": [
           {
            "marker": {
             "colorbar": {
              "outlinewidth": 0,
              "ticks": ""
             }
            },
            "type": "scattergl"
           }
          ],
          "scattermapbox": [
           {
            "marker": {
             "colorbar": {
              "outlinewidth": 0,
              "ticks": ""
             }
            },
            "type": "scattermapbox"
           }
          ],
          "scatterpolar": [
           {
            "marker": {
             "colorbar": {
              "outlinewidth": 0,
              "ticks": ""
             }
            },
            "type": "scatterpolar"
           }
          ],
          "scatterpolargl": [
           {
            "marker": {
             "colorbar": {
              "outlinewidth": 0,
              "ticks": ""
             }
            },
            "type": "scatterpolargl"
           }
          ],
          "scatterternary": [
           {
            "marker": {
             "colorbar": {
              "outlinewidth": 0,
              "ticks": ""
             }
            },
            "type": "scatterternary"
           }
          ],
          "surface": [
           {
            "colorbar": {
             "outlinewidth": 0,
             "ticks": ""
            },
            "colorscale": [
             [
              0,
              "#0d0887"
             ],
             [
              0.1111111111111111,
              "#46039f"
             ],
             [
              0.2222222222222222,
              "#7201a8"
             ],
             [
              0.3333333333333333,
              "#9c179e"
             ],
             [
              0.4444444444444444,
              "#bd3786"
             ],
             [
              0.5555555555555556,
              "#d8576b"
             ],
             [
              0.6666666666666666,
              "#ed7953"
             ],
             [
              0.7777777777777778,
              "#fb9f3a"
             ],
             [
              0.8888888888888888,
              "#fdca26"
             ],
             [
              1,
              "#f0f921"
             ]
            ],
            "type": "surface"
           }
          ],
          "table": [
           {
            "cells": {
             "fill": {
              "color": "#EBF0F8"
             },
             "line": {
              "color": "white"
             }
            },
            "header": {
             "fill": {
              "color": "#C8D4E3"
             },
             "line": {
              "color": "white"
             }
            },
            "type": "table"
           }
          ]
         },
         "layout": {
          "annotationdefaults": {
           "arrowcolor": "#2a3f5f",
           "arrowhead": 0,
           "arrowwidth": 1
          },
          "autotypenumbers": "strict",
          "coloraxis": {
           "colorbar": {
            "outlinewidth": 0,
            "ticks": ""
           }
          },
          "colorscale": {
           "diverging": [
            [
             0,
             "#8e0152"
            ],
            [
             0.1,
             "#c51b7d"
            ],
            [
             0.2,
             "#de77ae"
            ],
            [
             0.3,
             "#f1b6da"
            ],
            [
             0.4,
             "#fde0ef"
            ],
            [
             0.5,
             "#f7f7f7"
            ],
            [
             0.6,
             "#e6f5d0"
            ],
            [
             0.7,
             "#b8e186"
            ],
            [
             0.8,
             "#7fbc41"
            ],
            [
             0.9,
             "#4d9221"
            ],
            [
             1,
             "#276419"
            ]
           ],
           "sequential": [
            [
             0,
             "#0d0887"
            ],
            [
             0.1111111111111111,
             "#46039f"
            ],
            [
             0.2222222222222222,
             "#7201a8"
            ],
            [
             0.3333333333333333,
             "#9c179e"
            ],
            [
             0.4444444444444444,
             "#bd3786"
            ],
            [
             0.5555555555555556,
             "#d8576b"
            ],
            [
             0.6666666666666666,
             "#ed7953"
            ],
            [
             0.7777777777777778,
             "#fb9f3a"
            ],
            [
             0.8888888888888888,
             "#fdca26"
            ],
            [
             1,
             "#f0f921"
            ]
           ],
           "sequentialminus": [
            [
             0,
             "#0d0887"
            ],
            [
             0.1111111111111111,
             "#46039f"
            ],
            [
             0.2222222222222222,
             "#7201a8"
            ],
            [
             0.3333333333333333,
             "#9c179e"
            ],
            [
             0.4444444444444444,
             "#bd3786"
            ],
            [
             0.5555555555555556,
             "#d8576b"
            ],
            [
             0.6666666666666666,
             "#ed7953"
            ],
            [
             0.7777777777777778,
             "#fb9f3a"
            ],
            [
             0.8888888888888888,
             "#fdca26"
            ],
            [
             1,
             "#f0f921"
            ]
           ]
          },
          "colorway": [
           "#636efa",
           "#EF553B",
           "#00cc96",
           "#ab63fa",
           "#FFA15A",
           "#19d3f3",
           "#FF6692",
           "#B6E880",
           "#FF97FF",
           "#FECB52"
          ],
          "font": {
           "color": "#2a3f5f"
          },
          "geo": {
           "bgcolor": "white",
           "lakecolor": "white",
           "landcolor": "white",
           "showlakes": true,
           "showland": true,
           "subunitcolor": "#C8D4E3"
          },
          "hoverlabel": {
           "align": "left"
          },
          "hovermode": "closest",
          "mapbox": {
           "style": "light"
          },
          "paper_bgcolor": "white",
          "plot_bgcolor": "white",
          "polar": {
           "angularaxis": {
            "gridcolor": "#EBF0F8",
            "linecolor": "#EBF0F8",
            "ticks": ""
           },
           "bgcolor": "white",
           "radialaxis": {
            "gridcolor": "#EBF0F8",
            "linecolor": "#EBF0F8",
            "ticks": ""
           }
          },
          "scene": {
           "xaxis": {
            "backgroundcolor": "white",
            "gridcolor": "#DFE8F3",
            "gridwidth": 2,
            "linecolor": "#EBF0F8",
            "showbackground": true,
            "ticks": "",
            "zerolinecolor": "#EBF0F8"
           },
           "yaxis": {
            "backgroundcolor": "white",
            "gridcolor": "#DFE8F3",
            "gridwidth": 2,
            "linecolor": "#EBF0F8",
            "showbackground": true,
            "ticks": "",
            "zerolinecolor": "#EBF0F8"
           },
           "zaxis": {
            "backgroundcolor": "white",
            "gridcolor": "#DFE8F3",
            "gridwidth": 2,
            "linecolor": "#EBF0F8",
            "showbackground": true,
            "ticks": "",
            "zerolinecolor": "#EBF0F8"
           }
          },
          "shapedefaults": {
           "line": {
            "color": "#2a3f5f"
           }
          },
          "ternary": {
           "aaxis": {
            "gridcolor": "#DFE8F3",
            "linecolor": "#A2B1C6",
            "ticks": ""
           },
           "baxis": {
            "gridcolor": "#DFE8F3",
            "linecolor": "#A2B1C6",
            "ticks": ""
           },
           "bgcolor": "white",
           "caxis": {
            "gridcolor": "#DFE8F3",
            "linecolor": "#A2B1C6",
            "ticks": ""
           }
          },
          "title": {
           "x": 0.05
          },
          "xaxis": {
           "automargin": true,
           "gridcolor": "#EBF0F8",
           "linecolor": "#EBF0F8",
           "ticks": "",
           "title": {
            "standoff": 15
           },
           "zerolinecolor": "#EBF0F8",
           "zerolinewidth": 2
          },
          "yaxis": {
           "automargin": true,
           "gridcolor": "#EBF0F8",
           "linecolor": "#EBF0F8",
           "ticks": "",
           "title": {
            "standoff": 15
           },
           "zerolinecolor": "#EBF0F8",
           "zerolinewidth": 2
          }
         }
        },
        "title": {
         "font": {
          "color": "black",
          "family": "Myriad Pro",
          "size": 18
         },
         "text": "Single Trials"
        },
        "width": 675,
        "xaxis": {
         "anchor": "y",
         "domain": [
          0,
          0.32666666666666666
         ],
         "linecolor": "black",
         "linewidth": 1,
         "mirror": true,
         "nticks": 10,
         "range": [
          0,
          1
         ],
         "showgrid": true,
         "showline": true,
         "showticklabels": false,
         "tickangle": 0,
         "tickcolor": "black",
         "tickfont": {
          "color": "black",
          "family": "Myriad Pro",
          "size": 18
         },
         "ticklen": 0,
         "ticks": "outside",
         "title": {
          "font": {
           "color": "black",
           "family": "Myriad Pro",
           "size": 24
          },
          "standoff": 10
         },
         "zeroline": false
        },
        "xaxis2": {
         "anchor": "y2",
         "domain": [
          0.33666666666666667,
          0.6633333333333333
         ],
         "linecolor": "black",
         "linewidth": 1,
         "mirror": true,
         "nticks": 10,
         "range": [
          0,
          1
         ],
         "showgrid": true,
         "showline": true,
         "showticklabels": false,
         "tickangle": 0,
         "tickcolor": "black",
         "tickfont": {
          "color": "black",
          "family": "Myriad Pro",
          "size": 18
         },
         "ticklen": 0,
         "ticks": "outside",
         "title": {
          "font": {
           "color": "black",
           "family": "Myriad Pro",
           "size": 24
          },
          "standoff": 10
         },
         "zeroline": false
        },
        "xaxis3": {
         "anchor": "y3",
         "domain": [
          0.6733333333333333,
          1
         ],
         "linecolor": "black",
         "linewidth": 1,
         "mirror": true,
         "nticks": 10,
         "range": [
          0,
          1
         ],
         "showgrid": true,
         "showline": true,
         "showticklabels": false,
         "tickangle": 0,
         "tickcolor": "black",
         "tickfont": {
          "color": "black",
          "family": "Myriad Pro",
          "size": 18
         },
         "ticklen": 0,
         "ticks": "outside",
         "title": {
          "font": {
           "color": "black",
           "family": "Myriad Pro",
           "size": 24
          },
          "standoff": 10
         },
         "zeroline": false
        },
        "xaxis4": {
         "anchor": "y4",
         "domain": [
          0,
          0.32666666666666666
         ],
         "linecolor": "black",
         "linewidth": 1,
         "mirror": true,
         "nticks": 10,
         "range": [
          0,
          1
         ],
         "showgrid": true,
         "showline": true,
         "showticklabels": false,
         "tickangle": 0,
         "tickcolor": "black",
         "tickfont": {
          "color": "black",
          "family": "Myriad Pro",
          "size": 18
         },
         "ticklen": 0,
         "ticks": "outside",
         "title": {
          "font": {
           "color": "black",
           "family": "Myriad Pro",
           "size": 24
          },
          "standoff": 10
         },
         "zeroline": false
        },
        "xaxis5": {
         "anchor": "y5",
         "domain": [
          0.33666666666666667,
          0.6633333333333333
         ],
         "linecolor": "black",
         "linewidth": 1,
         "mirror": true,
         "nticks": 10,
         "range": [
          0,
          1
         ],
         "showgrid": true,
         "showline": true,
         "showticklabels": false,
         "tickangle": 0,
         "tickcolor": "black",
         "tickfont": {
          "color": "black",
          "family": "Myriad Pro",
          "size": 18
         },
         "ticklen": 0,
         "ticks": "outside",
         "title": {
          "font": {
           "color": "black",
           "family": "Myriad Pro",
           "size": 24
          },
          "standoff": 10
         },
         "zeroline": false
        },
        "xaxis6": {
         "anchor": "y6",
         "domain": [
          0.6733333333333333,
          1
         ],
         "linecolor": "black",
         "linewidth": 1,
         "mirror": true,
         "nticks": 10,
         "range": [
          0,
          1
         ],
         "showgrid": true,
         "showline": true,
         "showticklabels": false,
         "tickangle": 0,
         "tickcolor": "black",
         "tickfont": {
          "color": "black",
          "family": "Myriad Pro",
          "size": 18
         },
         "ticklen": 0,
         "ticks": "outside",
         "title": {
          "font": {
           "color": "black",
           "family": "Myriad Pro",
           "size": 24
          },
          "standoff": 10
         },
         "zeroline": false
        },
        "xaxis7": {
         "anchor": "y7",
         "domain": [
          0,
          0.32666666666666666
         ],
         "linecolor": "black",
         "linewidth": 1,
         "mirror": true,
         "nticks": 10,
         "range": [
          0,
          1
         ],
         "showgrid": true,
         "showline": true,
         "showticklabels": false,
         "tickangle": 0,
         "tickcolor": "black",
         "tickfont": {
          "color": "black",
          "family": "Myriad Pro",
          "size": 18
         },
         "ticklen": 0,
         "ticks": "outside",
         "title": {
          "font": {
           "color": "black",
           "family": "Myriad Pro",
           "size": 24
          },
          "standoff": 10,
          "text": "Low"
         },
         "zeroline": false
        },
        "xaxis8": {
         "anchor": "y8",
         "domain": [
          0.33666666666666667,
          0.6633333333333333
         ],
         "linecolor": "black",
         "linewidth": 1,
         "mirror": true,
         "nticks": 10,
         "range": [
          0,
          1
         ],
         "showgrid": true,
         "showline": true,
         "showticklabels": false,
         "tickangle": 0,
         "tickcolor": "black",
         "tickfont": {
          "color": "black",
          "family": "Myriad Pro",
          "size": 18
         },
         "ticklen": 0,
         "ticks": "outside",
         "title": {
          "font": {
           "color": "black",
           "family": "Myriad Pro",
           "size": 24
          },
          "standoff": 10,
          "text": "Mid"
         },
         "zeroline": false
        },
        "xaxis9": {
         "anchor": "y9",
         "domain": [
          0.6733333333333333,
          1
         ],
         "linecolor": "black",
         "linewidth": 1,
         "mirror": true,
         "nticks": 10,
         "range": [
          0,
          1
         ],
         "showgrid": true,
         "showline": true,
         "showticklabels": false,
         "tickangle": 0,
         "tickcolor": "black",
         "tickfont": {
          "color": "black",
          "family": "Myriad Pro",
          "size": 18
         },
         "ticklen": 0,
         "ticks": "outside",
         "title": {
          "font": {
           "color": "black",
           "family": "Myriad Pro",
           "size": 24
          },
          "standoff": 10,
          "text": "High"
         },
         "zeroline": false
        },
        "yaxis": {
         "anchor": "x",
         "domain": [
          0.6733333333333333,
          1
         ],
         "linecolor": "black",
         "linewidth": 1,
         "mirror": true,
         "nticks": 10,
         "range": [
          0,
          1
         ],
         "showgrid": true,
         "showline": true,
         "showticklabels": false,
         "tickangle": 0,
         "tickcolor": "black",
         "tickfont": {
          "color": "black",
          "family": "Myriad Pro",
          "size": 18
         },
         "ticklen": 0,
         "ticks": "outside",
         "title": {
          "font": {
           "color": "black",
           "family": "Myriad Pro",
           "size": 24
          },
          "standoff": 0,
          "text": "High"
         },
         "zeroline": false
        },
        "yaxis2": {
         "anchor": "x2",
         "domain": [
          0.6733333333333333,
          1
         ],
         "linecolor": "black",
         "linewidth": 1,
         "mirror": true,
         "nticks": 10,
         "range": [
          0,
          1
         ],
         "showgrid": true,
         "showline": true,
         "showticklabels": false,
         "tickangle": 0,
         "tickcolor": "black",
         "tickfont": {
          "color": "black",
          "family": "Myriad Pro",
          "size": 18
         },
         "ticklen": 0,
         "ticks": "outside",
         "title": {
          "font": {
           "color": "black",
           "family": "Myriad Pro",
           "size": 24
          },
          "standoff": 0
         },
         "zeroline": false
        },
        "yaxis3": {
         "anchor": "x3",
         "domain": [
          0.6733333333333333,
          1
         ],
         "linecolor": "black",
         "linewidth": 1,
         "mirror": true,
         "nticks": 10,
         "range": [
          0,
          1
         ],
         "showgrid": true,
         "showline": true,
         "showticklabels": false,
         "tickangle": 0,
         "tickcolor": "black",
         "tickfont": {
          "color": "black",
          "family": "Myriad Pro",
          "size": 18
         },
         "ticklen": 0,
         "ticks": "outside",
         "title": {
          "font": {
           "color": "black",
           "family": "Myriad Pro",
           "size": 24
          },
          "standoff": 0
         },
         "zeroline": false
        },
        "yaxis4": {
         "anchor": "x4",
         "domain": [
          0.33666666666666667,
          0.6633333333333333
         ],
         "linecolor": "black",
         "linewidth": 1,
         "mirror": true,
         "nticks": 10,
         "range": [
          0,
          1
         ],
         "showgrid": true,
         "showline": true,
         "showticklabels": false,
         "tickangle": 0,
         "tickcolor": "black",
         "tickfont": {
          "color": "black",
          "family": "Myriad Pro",
          "size": 18
         },
         "ticklen": 0,
         "ticks": "outside",
         "title": {
          "font": {
           "color": "black",
           "family": "Myriad Pro",
           "size": 24
          },
          "standoff": 0,
          "text": "Mid"
         },
         "zeroline": false
        },
        "yaxis5": {
         "anchor": "x5",
         "domain": [
          0.33666666666666667,
          0.6633333333333333
         ],
         "linecolor": "black",
         "linewidth": 1,
         "mirror": true,
         "nticks": 10,
         "range": [
          0,
          1
         ],
         "showgrid": true,
         "showline": true,
         "showticklabels": false,
         "tickangle": 0,
         "tickcolor": "black",
         "tickfont": {
          "color": "black",
          "family": "Myriad Pro",
          "size": 18
         },
         "ticklen": 0,
         "ticks": "outside",
         "title": {
          "font": {
           "color": "black",
           "family": "Myriad Pro",
           "size": 24
          },
          "standoff": 0
         },
         "zeroline": false
        },
        "yaxis6": {
         "anchor": "x6",
         "domain": [
          0.33666666666666667,
          0.6633333333333333
         ],
         "linecolor": "black",
         "linewidth": 1,
         "mirror": true,
         "nticks": 10,
         "range": [
          0,
          1
         ],
         "showgrid": true,
         "showline": true,
         "showticklabels": false,
         "tickangle": 0,
         "tickcolor": "black",
         "tickfont": {
          "color": "black",
          "family": "Myriad Pro",
          "size": 18
         },
         "ticklen": 0,
         "ticks": "outside",
         "title": {
          "font": {
           "color": "black",
           "family": "Myriad Pro",
           "size": 24
          },
          "standoff": 0
         },
         "zeroline": false
        },
        "yaxis7": {
         "anchor": "x7",
         "domain": [
          0,
          0.32666666666666666
         ],
         "linecolor": "black",
         "linewidth": 1,
         "mirror": true,
         "nticks": 10,
         "range": [
          0,
          1
         ],
         "showgrid": true,
         "showline": true,
         "showticklabels": false,
         "tickangle": 0,
         "tickcolor": "black",
         "tickfont": {
          "color": "black",
          "family": "Myriad Pro",
          "size": 18
         },
         "ticklen": 0,
         "ticks": "outside",
         "title": {
          "font": {
           "color": "black",
           "family": "Myriad Pro",
           "size": 24
          },
          "standoff": 0,
          "text": "Low"
         },
         "zeroline": false
        },
        "yaxis8": {
         "anchor": "x8",
         "domain": [
          0,
          0.32666666666666666
         ],
         "linecolor": "black",
         "linewidth": 1,
         "mirror": true,
         "nticks": 10,
         "range": [
          0,
          1
         ],
         "showgrid": true,
         "showline": true,
         "showticklabels": false,
         "tickangle": 0,
         "tickcolor": "black",
         "tickfont": {
          "color": "black",
          "family": "Myriad Pro",
          "size": 18
         },
         "ticklen": 0,
         "ticks": "outside",
         "title": {
          "font": {
           "color": "black",
           "family": "Myriad Pro",
           "size": 24
          },
          "standoff": 0
         },
         "zeroline": false
        },
        "yaxis9": {
         "anchor": "x9",
         "domain": [
          0,
          0.32666666666666666
         ],
         "linecolor": "black",
         "linewidth": 1,
         "mirror": true,
         "nticks": 10,
         "range": [
          0,
          1
         ],
         "showgrid": true,
         "showline": true,
         "showticklabels": false,
         "tickangle": 0,
         "tickcolor": "black",
         "tickfont": {
          "color": "black",
          "family": "Myriad Pro",
          "size": 18
         },
         "ticklen": 0,
         "ticks": "outside",
         "title": {
          "font": {
           "color": "black",
           "family": "Myriad Pro",
           "size": 24
          },
          "standoff": 0
         },
         "zeroline": false
        }
       }
      },
      "text/html": [
       "<div>                            <div id=\"ba1191c7-a31b-4378-b142-2eba8e27c771\" class=\"plotly-graph-div\" style=\"height:600px; width:675px;\"></div>            <script type=\"text/javascript\">                require([\"plotly\"], function(Plotly) {                    window.PLOTLYENV=window.PLOTLYENV || {};                                    if (document.getElementById(\"ba1191c7-a31b-4378-b142-2eba8e27c771\")) {                    Plotly.newPlot(                        \"ba1191c7-a31b-4378-b142-2eba8e27c771\",                        [{\"fill\": \"tonextx\", \"fillcolor\": \"rgb(73,143,201)\", \"legendgroup\": \"bistable\", \"line\": {\"width\": 0}, \"mode\": \"lines\", \"name\": \"Bistable\", \"showlegend\": true, \"type\": \"scatter\", \"x\": [0.9375, 0.9375, 0.9375, 0.9375, 0.9375, 0.9375, 0.9375, 0.9375, 0.9375, 0.9375], \"xaxis\": \"x7\", \"y\": [0.0, 0.1111111111111111, 0.2222222222222222, 0.3333333333333333, 0.4444444444444444, 0.5555555555555556, 0.6666666666666666, 0.7777777777777777, 0.8888888888888888, 1.0], \"yaxis\": \"y7\"}, {\"fill\": \"tonextx\", \"fillcolor\": \"rgb(205,92,98)\", \"legendgroup\": \"tet_stable\", \"line\": {\"width\": 0}, \"mode\": \"lines\", \"name\": \"Monostable Tet\", \"showlegend\": true, \"type\": \"scatter\", \"x\": [1.0, 1.0, 1.0, 1.0, 1.0, 1.0, 1.0, 1.0, 1.0, 1.0], \"xaxis\": \"x7\", \"y\": [0.0, 0.1111111111111111, 0.2222222222222222, 0.3333333333333333, 0.4444444444444444, 0.5555555555555556, 0.6666666666666666, 0.7777777777777777, 0.8888888888888888, 1.0], \"yaxis\": \"y7\"}, {\"fill\": \"tonextx\", \"fillcolor\": \"rgb(89,185,92)\", \"legendgroup\": \"lac_stable\", \"line\": {\"width\": 0}, \"mode\": \"lines\", \"name\": \"Monostable Lac\", \"showlegend\": true, \"type\": \"scatter\", \"x\": [1.0, 1.0, 1.0, 1.0, 1.0, 1.0, 1.0, 1.0, 1.0, 1.0], \"xaxis\": \"x7\", \"y\": [0.0, 0.1111111111111111, 0.2222222222222222, 0.3333333333333333, 0.4444444444444444, 0.5555555555555556, 0.6666666666666666, 0.7777777777777777, 0.8888888888888888, 1.0], \"yaxis\": \"y7\"}, {\"fill\": \"tonextx\", \"fillcolor\": \"rgb(109,109,109)\", \"legendgroup\": \"unstable\", \"line\": {\"width\": 0}, \"mode\": \"lines\", \"name\": \"Unstable\", \"showlegend\": true, \"type\": \"scatter\", \"x\": [1.0, 1.0, 1.0, 1.0, 1.0, 1.0, 1.0, 1.0, 1.0, 1.0], \"xaxis\": \"x7\", \"y\": [0.0, 0.1111111111111111, 0.2222222222222222, 0.3333333333333333, 0.4444444444444444, 0.5555555555555556, 0.6666666666666666, 0.7777777777777777, 0.8888888888888888, 1.0], \"yaxis\": \"y7\"}, {\"fill\": \"tonextx\", \"fillcolor\": \"rgb(73,143,201)\", \"legendgroup\": \"bistable\", \"line\": {\"width\": 0}, \"mode\": \"lines\", \"name\": \"Bistable\", \"showlegend\": false, \"type\": \"scatter\", \"x\": [0.8333333333333334, 0.8333333333333334, 0.8333333333333334, 0.8333333333333334, 0.8333333333333334, 0.8333333333333334, 0.8333333333333334, 0.8333333333333334, 0.8333333333333334, 0.8333333333333334], \"xaxis\": \"x4\", \"y\": [0.0, 0.1111111111111111, 0.2222222222222222, 0.3333333333333333, 0.4444444444444444, 0.5555555555555556, 0.6666666666666666, 0.7777777777777777, 0.8888888888888888, 1.0], \"yaxis\": \"y4\"}, {\"fill\": \"tonextx\", \"fillcolor\": \"rgb(205,92,98)\", \"legendgroup\": \"tet_stable\", \"line\": {\"width\": 0}, \"mode\": \"lines\", \"name\": \"Monostable Tet\", \"showlegend\": false, \"type\": \"scatter\", \"x\": [0.888888888888889, 0.888888888888889, 0.888888888888889, 0.888888888888889, 0.888888888888889, 0.888888888888889, 0.888888888888889, 0.888888888888889, 0.888888888888889, 0.888888888888889], \"xaxis\": \"x4\", \"y\": [0.0, 0.1111111111111111, 0.2222222222222222, 0.3333333333333333, 0.4444444444444444, 0.5555555555555556, 0.6666666666666666, 0.7777777777777777, 0.8888888888888888, 1.0], \"yaxis\": \"y4\"}, {\"fill\": \"tonextx\", \"fillcolor\": \"rgb(89,185,92)\", \"legendgroup\": \"lac_stable\", \"line\": {\"width\": 0}, \"mode\": \"lines\", \"name\": \"Monostable Lac\", \"showlegend\": false, \"type\": \"scatter\", \"x\": [1.0, 1.0, 1.0, 1.0, 1.0, 1.0, 1.0, 1.0, 1.0, 1.0], \"xaxis\": \"x4\", \"y\": [0.0, 0.1111111111111111, 0.2222222222222222, 0.3333333333333333, 0.4444444444444444, 0.5555555555555556, 0.6666666666666666, 0.7777777777777777, 0.8888888888888888, 1.0], \"yaxis\": \"y4\"}, {\"fill\": \"tonextx\", \"fillcolor\": \"rgb(109,109,109)\", \"legendgroup\": \"unstable\", \"line\": {\"width\": 0}, \"mode\": \"lines\", \"name\": \"Unstable\", \"showlegend\": false, \"type\": \"scatter\", \"x\": [1.0, 1.0, 1.0, 1.0, 1.0, 1.0, 1.0, 1.0, 1.0, 1.0], \"xaxis\": \"x4\", \"y\": [0.0, 0.1111111111111111, 0.2222222222222222, 0.3333333333333333, 0.4444444444444444, 0.5555555555555556, 0.6666666666666666, 0.7777777777777777, 0.8888888888888888, 1.0], \"yaxis\": \"y4\"}, {\"fill\": \"tonextx\", \"fillcolor\": \"rgb(73,143,201)\", \"legendgroup\": \"bistable\", \"line\": {\"width\": 0}, \"mode\": \"lines\", \"name\": \"Bistable\", \"showlegend\": false, \"type\": \"scatter\", \"x\": [0.2222222222222222, 0.2222222222222222, 0.2222222222222222, 0.2222222222222222, 0.2222222222222222, 0.2222222222222222, 0.2222222222222222, 0.2222222222222222, 0.2222222222222222, 0.2222222222222222], \"xaxis\": \"x\", \"y\": [0.0, 0.1111111111111111, 0.2222222222222222, 0.3333333333333333, 0.4444444444444444, 0.5555555555555556, 0.6666666666666666, 0.7777777777777777, 0.8888888888888888, 1.0], \"yaxis\": \"y\"}, {\"fill\": \"tonextx\", \"fillcolor\": \"rgb(205,92,98)\", \"legendgroup\": \"tet_stable\", \"line\": {\"width\": 0}, \"mode\": \"lines\", \"name\": \"Monostable Tet\", \"showlegend\": false, \"type\": \"scatter\", \"x\": [0.2222222222222222, 0.2222222222222222, 0.2222222222222222, 0.2222222222222222, 0.2222222222222222, 0.2222222222222222, 0.2222222222222222, 0.2222222222222222, 0.2222222222222222, 0.2222222222222222], \"xaxis\": \"x\", \"y\": [0.0, 0.1111111111111111, 0.2222222222222222, 0.3333333333333333, 0.4444444444444444, 0.5555555555555556, 0.6666666666666666, 0.7777777777777777, 0.8888888888888888, 1.0], \"yaxis\": \"y\"}, {\"fill\": \"tonextx\", \"fillcolor\": \"rgb(89,185,92)\", \"legendgroup\": \"lac_stable\", \"line\": {\"width\": 0}, \"mode\": \"lines\", \"name\": \"Monostable Lac\", \"showlegend\": false, \"type\": \"scatter\", \"x\": [0.9444444444444444, 0.9444444444444444, 0.9444444444444444, 0.9444444444444444, 0.9444444444444444, 0.9444444444444444, 0.9444444444444444, 0.9444444444444444, 0.9444444444444444, 0.9444444444444444], \"xaxis\": \"x\", \"y\": [0.0, 0.1111111111111111, 0.2222222222222222, 0.3333333333333333, 0.4444444444444444, 0.5555555555555556, 0.6666666666666666, 0.7777777777777777, 0.8888888888888888, 1.0], \"yaxis\": \"y\"}, {\"fill\": \"tonextx\", \"fillcolor\": \"rgb(109,109,109)\", \"legendgroup\": \"unstable\", \"line\": {\"width\": 0}, \"mode\": \"lines\", \"name\": \"Unstable\", \"showlegend\": false, \"type\": \"scatter\", \"x\": [1.0, 1.0, 1.0, 1.0, 1.0, 1.0, 1.0, 1.0, 1.0, 1.0], \"xaxis\": \"x\", \"y\": [0.0, 0.1111111111111111, 0.2222222222222222, 0.3333333333333333, 0.4444444444444444, 0.5555555555555556, 0.6666666666666666, 0.7777777777777777, 0.8888888888888888, 1.0], \"yaxis\": \"y\"}, {\"fill\": \"tonextx\", \"fillcolor\": \"rgb(73,143,201)\", \"legendgroup\": \"bistable\", \"line\": {\"width\": 0}, \"mode\": \"lines\", \"name\": \"Bistable\", \"showlegend\": false, \"type\": \"scatter\", \"x\": [0.8611111111111112, 0.8611111111111112, 0.8611111111111112, 0.8611111111111112, 0.8611111111111112, 0.8611111111111112, 0.8611111111111112, 0.8611111111111112, 0.8611111111111112, 0.8611111111111112], \"xaxis\": \"x8\", \"y\": [0.0, 0.1111111111111111, 0.2222222222222222, 0.3333333333333333, 0.4444444444444444, 0.5555555555555556, 0.6666666666666666, 0.7777777777777777, 0.8888888888888888, 1.0], \"yaxis\": \"y8\"}, {\"fill\": \"tonextx\", \"fillcolor\": \"rgb(205,92,98)\", \"legendgroup\": \"tet_stable\", \"line\": {\"width\": 0}, \"mode\": \"lines\", \"name\": \"Monostable Tet\", \"showlegend\": false, \"type\": \"scatter\", \"x\": [1.0, 1.0, 1.0, 1.0, 1.0, 1.0, 1.0, 1.0, 1.0, 1.0], \"xaxis\": \"x8\", \"y\": [0.0, 0.1111111111111111, 0.2222222222222222, 0.3333333333333333, 0.4444444444444444, 0.5555555555555556, 0.6666666666666666, 0.7777777777777777, 0.8888888888888888, 1.0], \"yaxis\": \"y8\"}, {\"fill\": \"tonextx\", \"fillcolor\": \"rgb(89,185,92)\", \"legendgroup\": \"lac_stable\", \"line\": {\"width\": 0}, \"mode\": \"lines\", \"name\": \"Monostable Lac\", \"showlegend\": false, \"type\": \"scatter\", \"x\": [1.0, 1.0, 1.0, 1.0, 1.0, 1.0, 1.0, 1.0, 1.0, 1.0], \"xaxis\": \"x8\", \"y\": [0.0, 0.1111111111111111, 0.2222222222222222, 0.3333333333333333, 0.4444444444444444, 0.5555555555555556, 0.6666666666666666, 0.7777777777777777, 0.8888888888888888, 1.0], \"yaxis\": \"y8\"}, {\"fill\": \"tonextx\", \"fillcolor\": \"rgb(109,109,109)\", \"legendgroup\": \"unstable\", \"line\": {\"width\": 0}, \"mode\": \"lines\", \"name\": \"Unstable\", \"showlegend\": false, \"type\": \"scatter\", \"x\": [1.0, 1.0, 1.0, 1.0, 1.0, 1.0, 1.0, 1.0, 1.0, 1.0], \"xaxis\": \"x8\", \"y\": [0.0, 0.1111111111111111, 0.2222222222222222, 0.3333333333333333, 0.4444444444444444, 0.5555555555555556, 0.6666666666666666, 0.7777777777777777, 0.8888888888888888, 1.0], \"yaxis\": \"y8\"}, {\"fill\": \"tonextx\", \"fillcolor\": \"rgb(73,143,201)\", \"legendgroup\": \"bistable\", \"line\": {\"width\": 0}, \"mode\": \"lines\", \"name\": \"Bistable\", \"showlegend\": false, \"type\": \"scatter\", \"x\": [0.7037037037037037, 0.7037037037037037, 0.7037037037037037, 0.7037037037037037, 0.7037037037037037, 0.7037037037037037, 0.7037037037037037, 0.7037037037037037, 0.7037037037037037, 0.7037037037037037], \"xaxis\": \"x5\", \"y\": [0.0, 0.1111111111111111, 0.2222222222222222, 0.3333333333333333, 0.4444444444444444, 0.5555555555555556, 0.6666666666666666, 0.7777777777777777, 0.8888888888888888, 1.0], \"yaxis\": \"y5\"}, {\"fill\": \"tonextx\", \"fillcolor\": \"rgb(205,92,98)\", \"legendgroup\": \"tet_stable\", \"line\": {\"width\": 0}, \"mode\": \"lines\", \"name\": \"Monostable Tet\", \"showlegend\": false, \"type\": \"scatter\", \"x\": [0.9259259259259259, 0.9259259259259259, 0.9259259259259259, 0.9259259259259259, 0.9259259259259259, 0.9259259259259259, 0.9259259259259259, 0.9259259259259259, 0.9259259259259259, 0.9259259259259259], \"xaxis\": \"x5\", \"y\": [0.0, 0.1111111111111111, 0.2222222222222222, 0.3333333333333333, 0.4444444444444444, 0.5555555555555556, 0.6666666666666666, 0.7777777777777777, 0.8888888888888888, 1.0], \"yaxis\": \"y5\"}, {\"fill\": \"tonextx\", \"fillcolor\": \"rgb(89,185,92)\", \"legendgroup\": \"lac_stable\", \"line\": {\"width\": 0}, \"mode\": \"lines\", \"name\": \"Monostable Lac\", \"showlegend\": false, \"type\": \"scatter\", \"x\": [1.0, 1.0, 1.0, 1.0, 1.0, 1.0, 1.0, 1.0, 1.0, 1.0], \"xaxis\": \"x5\", \"y\": [0.0, 0.1111111111111111, 0.2222222222222222, 0.3333333333333333, 0.4444444444444444, 0.5555555555555556, 0.6666666666666666, 0.7777777777777777, 0.8888888888888888, 1.0], \"yaxis\": \"y5\"}, {\"fill\": \"tonextx\", \"fillcolor\": \"rgb(109,109,109)\", \"legendgroup\": \"unstable\", \"line\": {\"width\": 0}, \"mode\": \"lines\", \"name\": \"Unstable\", \"showlegend\": false, \"type\": \"scatter\", \"x\": [1.0, 1.0, 1.0, 1.0, 1.0, 1.0, 1.0, 1.0, 1.0, 1.0], \"xaxis\": \"x5\", \"y\": [0.0, 0.1111111111111111, 0.2222222222222222, 0.3333333333333333, 0.4444444444444444, 0.5555555555555556, 0.6666666666666666, 0.7777777777777777, 0.8888888888888888, 1.0], \"yaxis\": \"y5\"}, {\"fill\": \"tonextx\", \"fillcolor\": \"rgb(73,143,201)\", \"legendgroup\": \"bistable\", \"line\": {\"width\": 0}, \"mode\": \"lines\", \"name\": \"Bistable\", \"showlegend\": false, \"type\": \"scatter\", \"x\": [0.2962962962962963, 0.2962962962962963, 0.2962962962962963, 0.2962962962962963, 0.2962962962962963, 0.2962962962962963, 0.2962962962962963, 0.2962962962962963, 0.2962962962962963, 0.2962962962962963], \"xaxis\": \"x2\", \"y\": [0.0, 0.1111111111111111, 0.2222222222222222, 0.3333333333333333, 0.4444444444444444, 0.5555555555555556, 0.6666666666666666, 0.7777777777777777, 0.8888888888888888, 1.0], \"yaxis\": \"y2\"}, {\"fill\": \"tonextx\", \"fillcolor\": \"rgb(205,92,98)\", \"legendgroup\": \"tet_stable\", \"line\": {\"width\": 0}, \"mode\": \"lines\", \"name\": \"Monostable Tet\", \"showlegend\": false, \"type\": \"scatter\", \"x\": [0.4074074074074074, 0.4074074074074074, 0.4074074074074074, 0.4074074074074074, 0.4074074074074074, 0.4074074074074074, 0.4074074074074074, 0.4074074074074074, 0.4074074074074074, 0.4074074074074074], \"xaxis\": \"x2\", \"y\": [0.0, 0.1111111111111111, 0.2222222222222222, 0.3333333333333333, 0.4444444444444444, 0.5555555555555556, 0.6666666666666666, 0.7777777777777777, 0.8888888888888888, 1.0], \"yaxis\": \"y2\"}, {\"fill\": \"tonextx\", \"fillcolor\": \"rgb(89,185,92)\", \"legendgroup\": \"lac_stable\", \"line\": {\"width\": 0}, \"mode\": \"lines\", \"name\": \"Monostable Lac\", \"showlegend\": false, \"type\": \"scatter\", \"x\": [0.7777777777777777, 0.7777777777777777, 0.7777777777777777, 0.7777777777777777, 0.7777777777777777, 0.7777777777777777, 0.7777777777777777, 0.7777777777777777, 0.7777777777777777, 0.7777777777777777], \"xaxis\": \"x2\", \"y\": [0.0, 0.1111111111111111, 0.2222222222222222, 0.3333333333333333, 0.4444444444444444, 0.5555555555555556, 0.6666666666666666, 0.7777777777777777, 0.8888888888888888, 1.0], \"yaxis\": \"y2\"}, {\"fill\": \"tonextx\", \"fillcolor\": \"rgb(109,109,109)\", \"legendgroup\": \"unstable\", \"line\": {\"width\": 0}, \"mode\": \"lines\", \"name\": \"Unstable\", \"showlegend\": false, \"type\": \"scatter\", \"x\": [0.9999999999999999, 0.9999999999999999, 0.9999999999999999, 0.9999999999999999, 0.9999999999999999, 0.9999999999999999, 0.9999999999999999, 0.9999999999999999, 0.9999999999999999, 0.9999999999999999], \"xaxis\": \"x2\", \"y\": [0.0, 0.1111111111111111, 0.2222222222222222, 0.3333333333333333, 0.4444444444444444, 0.5555555555555556, 0.6666666666666666, 0.7777777777777777, 0.8888888888888888, 1.0], \"yaxis\": \"y2\"}, {\"fill\": \"tonextx\", \"fillcolor\": \"rgb(73,143,201)\", \"legendgroup\": \"bistable\", \"line\": {\"width\": 0}, \"mode\": \"lines\", \"name\": \"Bistable\", \"showlegend\": false, \"type\": \"scatter\", \"x\": [0.75, 0.75, 0.75, 0.75, 0.75, 0.75, 0.75, 0.75, 0.75, 0.75], \"xaxis\": \"x9\", \"y\": [0.0, 0.1111111111111111, 0.2222222222222222, 0.3333333333333333, 0.4444444444444444, 0.5555555555555556, 0.6666666666666666, 0.7777777777777777, 0.8888888888888888, 1.0], \"yaxis\": \"y9\"}, {\"fill\": \"tonextx\", \"fillcolor\": \"rgb(205,92,98)\", \"legendgroup\": \"tet_stable\", \"line\": {\"width\": 0}, \"mode\": \"lines\", \"name\": \"Monostable Tet\", \"showlegend\": false, \"type\": \"scatter\", \"x\": [1.0, 1.0, 1.0, 1.0, 1.0, 1.0, 1.0, 1.0, 1.0, 1.0], \"xaxis\": \"x9\", \"y\": [0.0, 0.1111111111111111, 0.2222222222222222, 0.3333333333333333, 0.4444444444444444, 0.5555555555555556, 0.6666666666666666, 0.7777777777777777, 0.8888888888888888, 1.0], \"yaxis\": \"y9\"}, {\"fill\": \"tonextx\", \"fillcolor\": \"rgb(89,185,92)\", \"legendgroup\": \"lac_stable\", \"line\": {\"width\": 0}, \"mode\": \"lines\", \"name\": \"Monostable Lac\", \"showlegend\": false, \"type\": \"scatter\", \"x\": [1.0, 1.0, 1.0, 1.0, 1.0, 1.0, 1.0, 1.0, 1.0, 1.0], \"xaxis\": \"x9\", \"y\": [0.0, 0.1111111111111111, 0.2222222222222222, 0.3333333333333333, 0.4444444444444444, 0.5555555555555556, 0.6666666666666666, 0.7777777777777777, 0.8888888888888888, 1.0], \"yaxis\": \"y9\"}, {\"fill\": \"tonextx\", \"fillcolor\": \"rgb(109,109,109)\", \"legendgroup\": \"unstable\", \"line\": {\"width\": 0}, \"mode\": \"lines\", \"name\": \"Unstable\", \"showlegend\": false, \"type\": \"scatter\", \"x\": [1.0, 1.0, 1.0, 1.0, 1.0, 1.0, 1.0, 1.0, 1.0, 1.0], \"xaxis\": \"x9\", \"y\": [0.0, 0.1111111111111111, 0.2222222222222222, 0.3333333333333333, 0.4444444444444444, 0.5555555555555556, 0.6666666666666666, 0.7777777777777777, 0.8888888888888888, 1.0], \"yaxis\": \"y9\"}, {\"fill\": \"tonextx\", \"fillcolor\": \"rgb(73,143,201)\", \"legendgroup\": \"bistable\", \"line\": {\"width\": 0}, \"mode\": \"lines\", \"name\": \"Bistable\", \"showlegend\": false, \"type\": \"scatter\", \"x\": [0.6666666666666666, 0.6666666666666666, 0.6666666666666666, 0.6666666666666666, 0.6666666666666666, 0.6666666666666666, 0.6666666666666666, 0.6666666666666666, 0.6666666666666666, 0.6666666666666666], \"xaxis\": \"x6\", \"y\": [0.0, 0.1111111111111111, 0.2222222222222222, 0.3333333333333333, 0.4444444444444444, 0.5555555555555556, 0.6666666666666666, 0.7777777777777777, 0.8888888888888888, 1.0], \"yaxis\": \"y6\"}, {\"fill\": \"tonextx\", \"fillcolor\": \"rgb(205,92,98)\", \"legendgroup\": \"tet_stable\", \"line\": {\"width\": 0}, \"mode\": \"lines\", \"name\": \"Monostable Tet\", \"showlegend\": false, \"type\": \"scatter\", \"x\": [1.0, 1.0, 1.0, 1.0, 1.0, 1.0, 1.0, 1.0, 1.0, 1.0], \"xaxis\": \"x6\", \"y\": [0.0, 0.1111111111111111, 0.2222222222222222, 0.3333333333333333, 0.4444444444444444, 0.5555555555555556, 0.6666666666666666, 0.7777777777777777, 0.8888888888888888, 1.0], \"yaxis\": \"y6\"}, {\"fill\": \"tonextx\", \"fillcolor\": \"rgb(89,185,92)\", \"legendgroup\": \"lac_stable\", \"line\": {\"width\": 0}, \"mode\": \"lines\", \"name\": \"Monostable Lac\", \"showlegend\": false, \"type\": \"scatter\", \"x\": [1.0, 1.0, 1.0, 1.0, 1.0, 1.0, 1.0, 1.0, 1.0, 1.0], \"xaxis\": \"x6\", \"y\": [0.0, 0.1111111111111111, 0.2222222222222222, 0.3333333333333333, 0.4444444444444444, 0.5555555555555556, 0.6666666666666666, 0.7777777777777777, 0.8888888888888888, 1.0], \"yaxis\": \"y6\"}, {\"fill\": \"tonextx\", \"fillcolor\": \"rgb(109,109,109)\", \"legendgroup\": \"unstable\", \"line\": {\"width\": 0}, \"mode\": \"lines\", \"name\": \"Unstable\", \"showlegend\": false, \"type\": \"scatter\", \"x\": [1.0, 1.0, 1.0, 1.0, 1.0, 1.0, 1.0, 1.0, 1.0, 1.0], \"xaxis\": \"x6\", \"y\": [0.0, 0.1111111111111111, 0.2222222222222222, 0.3333333333333333, 0.4444444444444444, 0.5555555555555556, 0.6666666666666666, 0.7777777777777777, 0.8888888888888888, 1.0], \"yaxis\": \"y6\"}, {\"fill\": \"tonextx\", \"fillcolor\": \"rgb(73,143,201)\", \"legendgroup\": \"bistable\", \"line\": {\"width\": 0}, \"mode\": \"lines\", \"name\": \"Bistable\", \"showlegend\": false, \"type\": \"scatter\", \"x\": [0.14814814814814814, 0.14814814814814814, 0.14814814814814814, 0.14814814814814814, 0.14814814814814814, 0.14814814814814814, 0.14814814814814814, 0.14814814814814814, 0.14814814814814814, 0.14814814814814814], \"xaxis\": \"x3\", \"y\": [0.0, 0.1111111111111111, 0.2222222222222222, 0.3333333333333333, 0.4444444444444444, 0.5555555555555556, 0.6666666666666666, 0.7777777777777777, 0.8888888888888888, 1.0], \"yaxis\": \"y3\"}, {\"fill\": \"tonextx\", \"fillcolor\": \"rgb(205,92,98)\", \"legendgroup\": \"tet_stable\", \"line\": {\"width\": 0}, \"mode\": \"lines\", \"name\": \"Monostable Tet\", \"showlegend\": false, \"type\": \"scatter\", \"x\": [0.37037037037037035, 0.37037037037037035, 0.37037037037037035, 0.37037037037037035, 0.37037037037037035, 0.37037037037037035, 0.37037037037037035, 0.37037037037037035, 0.37037037037037035, 0.37037037037037035], \"xaxis\": \"x3\", \"y\": [0.0, 0.1111111111111111, 0.2222222222222222, 0.3333333333333333, 0.4444444444444444, 0.5555555555555556, 0.6666666666666666, 0.7777777777777777, 0.8888888888888888, 1.0], \"yaxis\": \"y3\"}, {\"fill\": \"tonextx\", \"fillcolor\": \"rgb(89,185,92)\", \"legendgroup\": \"lac_stable\", \"line\": {\"width\": 0}, \"mode\": \"lines\", \"name\": \"Monostable Lac\", \"showlegend\": false, \"type\": \"scatter\", \"x\": [0.8148148148148148, 0.8148148148148148, 0.8148148148148148, 0.8148148148148148, 0.8148148148148148, 0.8148148148148148, 0.8148148148148148, 0.8148148148148148, 0.8148148148148148, 0.8148148148148148], \"xaxis\": \"x3\", \"y\": [0.0, 0.1111111111111111, 0.2222222222222222, 0.3333333333333333, 0.4444444444444444, 0.5555555555555556, 0.6666666666666666, 0.7777777777777777, 0.8888888888888888, 1.0], \"yaxis\": \"y3\"}, {\"fill\": \"tonextx\", \"fillcolor\": \"rgb(109,109,109)\", \"legendgroup\": \"unstable\", \"line\": {\"width\": 0}, \"mode\": \"lines\", \"name\": \"Unstable\", \"showlegend\": false, \"type\": \"scatter\", \"x\": [1.0, 1.0, 1.0, 1.0, 1.0, 1.0, 1.0, 1.0, 1.0, 1.0], \"xaxis\": \"x3\", \"y\": [0.0, 0.1111111111111111, 0.2222222222222222, 0.3333333333333333, 0.4444444444444444, 0.5555555555555556, 0.6666666666666666, 0.7777777777777777, 0.8888888888888888, 1.0], \"yaxis\": \"y3\"}],                        {\"annotations\": [{\"font\": {\"color\": \"black\", \"family\": \"Myriad Pro\", \"size\": 18}, \"showarrow\": false, \"text\": \"94%\", \"x\": 0.46875, \"xref\": \"x7\", \"y\": 0.5, \"yref\": \"y7\"}, {\"font\": {\"color\": \"black\", \"family\": \"Myriad Pro\", \"size\": 18}, \"showarrow\": false, \"text\": \"6%\", \"x\": 0.96875, \"xref\": \"x7\", \"y\": 0.5, \"yref\": \"y7\"}, {\"font\": {\"color\": \"black\", \"family\": \"Myriad Pro\", \"size\": 18}, \"showarrow\": false, \"text\": \"n = 48\", \"x\": 0.5, \"xref\": \"x7\", \"y\": 0.8, \"yref\": \"y7\"}, {\"font\": {\"color\": \"black\", \"family\": \"Myriad Pro\", \"size\": 18}, \"showarrow\": false, \"text\": \"83%\", \"x\": 0.4166666666666667, \"xref\": \"x4\", \"y\": 0.5, \"yref\": \"y4\"}, {\"font\": {\"color\": \"black\", \"family\": \"Myriad Pro\", \"size\": 18}, \"showarrow\": false, \"text\": \"6%\", \"x\": 0.8611111111111112, \"xref\": \"x4\", \"y\": 0.5, \"yref\": \"y4\"}, {\"font\": {\"color\": \"black\", \"family\": \"Myriad Pro\", \"size\": 18}, \"showarrow\": false, \"text\": \"11%\", \"x\": 0.9444444444444444, \"xref\": \"x4\", \"y\": 0.5, \"yref\": \"y4\"}, {\"font\": {\"color\": \"black\", \"family\": \"Myriad Pro\", \"size\": 18}, \"showarrow\": false, \"text\": \"n = 36\", \"x\": 0.5, \"xref\": \"x4\", \"y\": 0.8, \"yref\": \"y4\"}, {\"font\": {\"color\": \"black\", \"family\": \"Myriad Pro\", \"size\": 18}, \"showarrow\": false, \"text\": \"22%\", \"x\": 0.1111111111111111, \"xref\": \"x\", \"y\": 0.5, \"yref\": \"y\"}, {\"font\": {\"color\": \"black\", \"family\": \"Myriad Pro\", \"size\": 18}, \"showarrow\": false, \"text\": \"72%\", \"x\": 0.5833333333333333, \"xref\": \"x\", \"y\": 0.5, \"yref\": \"y\"}, {\"font\": {\"color\": \"black\", \"family\": \"Myriad Pro\", \"size\": 18}, \"showarrow\": false, \"text\": \"6%\", \"x\": 0.9722222222222222, \"xref\": \"x\", \"y\": 0.5, \"yref\": \"y\"}, {\"font\": {\"color\": \"black\", \"family\": \"Myriad Pro\", \"size\": 18}, \"showarrow\": false, \"text\": \"n = 36\", \"x\": 0.5, \"xref\": \"x\", \"y\": 0.8, \"yref\": \"y\"}, {\"font\": {\"color\": \"black\", \"family\": \"Myriad Pro\", \"size\": 18}, \"showarrow\": false, \"text\": \"86%\", \"x\": 0.4305555555555556, \"xref\": \"x8\", \"y\": 0.5, \"yref\": \"y8\"}, {\"font\": {\"color\": \"black\", \"family\": \"Myriad Pro\", \"size\": 18}, \"showarrow\": false, \"text\": \"14%\", \"x\": 0.9305555555555556, \"xref\": \"x8\", \"y\": 0.5, \"yref\": \"y8\"}, {\"font\": {\"color\": \"black\", \"family\": \"Myriad Pro\", \"size\": 18}, \"showarrow\": false, \"text\": \"n = 36\", \"x\": 0.5, \"xref\": \"x8\", \"y\": 0.8, \"yref\": \"y8\"}, {\"font\": {\"color\": \"black\", \"family\": \"Myriad Pro\", \"size\": 18}, \"showarrow\": false, \"text\": \"70%\", \"x\": 0.35185185185185186, \"xref\": \"x5\", \"y\": 0.5, \"yref\": \"y5\"}, {\"font\": {\"color\": \"black\", \"family\": \"Myriad Pro\", \"size\": 18}, \"showarrow\": false, \"text\": \"22%\", \"x\": 0.8148148148148149, \"xref\": \"x5\", \"y\": 0.5, \"yref\": \"y5\"}, {\"font\": {\"color\": \"black\", \"family\": \"Myriad Pro\", \"size\": 18}, \"showarrow\": false, \"text\": \"7%\", \"x\": 0.962962962962963, \"xref\": \"x5\", \"y\": 0.5, \"yref\": \"y5\"}, {\"font\": {\"color\": \"black\", \"family\": \"Myriad Pro\", \"size\": 18}, \"showarrow\": false, \"text\": \"n = 27\", \"x\": 0.5, \"xref\": \"x5\", \"y\": 0.8, \"yref\": \"y5\"}, {\"font\": {\"color\": \"black\", \"family\": \"Myriad Pro\", \"size\": 18}, \"showarrow\": false, \"text\": \"30%\", \"x\": 0.14814814814814814, \"xref\": \"x2\", \"y\": 0.5, \"yref\": \"y2\"}, {\"font\": {\"color\": \"black\", \"family\": \"Myriad Pro\", \"size\": 18}, \"showarrow\": false, \"text\": \"11%\", \"x\": 0.35185185185185186, \"xref\": \"x2\", \"y\": 0.5, \"yref\": \"y2\"}, {\"font\": {\"color\": \"black\", \"family\": \"Myriad Pro\", \"size\": 18}, \"showarrow\": false, \"text\": \"37%\", \"x\": 0.5925925925925926, \"xref\": \"x2\", \"y\": 0.5, \"yref\": \"y2\"}, {\"font\": {\"color\": \"black\", \"family\": \"Myriad Pro\", \"size\": 18}, \"showarrow\": false, \"text\": \"22%\", \"x\": 0.8888888888888888, \"xref\": \"x2\", \"y\": 0.5, \"yref\": \"y2\"}, {\"font\": {\"color\": \"black\", \"family\": \"Myriad Pro\", \"size\": 18}, \"showarrow\": false, \"text\": \"n = 27\", \"x\": 0.5, \"xref\": \"x2\", \"y\": 0.8, \"yref\": \"y2\"}, {\"font\": {\"color\": \"black\", \"family\": \"Myriad Pro\", \"size\": 18}, \"showarrow\": false, \"text\": \"75%\", \"x\": 0.375, \"xref\": \"x9\", \"y\": 0.5, \"yref\": \"y9\"}, {\"font\": {\"color\": \"black\", \"family\": \"Myriad Pro\", \"size\": 18}, \"showarrow\": false, \"text\": \"25%\", \"x\": 0.875, \"xref\": \"x9\", \"y\": 0.5, \"yref\": \"y9\"}, {\"font\": {\"color\": \"black\", \"family\": \"Myriad Pro\", \"size\": 18}, \"showarrow\": false, \"text\": \"n = 36\", \"x\": 0.5, \"xref\": \"x9\", \"y\": 0.8, \"yref\": \"y9\"}, {\"font\": {\"color\": \"black\", \"family\": \"Myriad Pro\", \"size\": 18}, \"showarrow\": false, \"text\": \"67%\", \"x\": 0.3333333333333333, \"xref\": \"x6\", \"y\": 0.5, \"yref\": \"y6\"}, {\"font\": {\"color\": \"black\", \"family\": \"Myriad Pro\", \"size\": 18}, \"showarrow\": false, \"text\": \"33%\", \"x\": 0.8333333333333333, \"xref\": \"x6\", \"y\": 0.5, \"yref\": \"y6\"}, {\"font\": {\"color\": \"black\", \"family\": \"Myriad Pro\", \"size\": 18}, \"showarrow\": false, \"text\": \"n = 27\", \"x\": 0.5, \"xref\": \"x6\", \"y\": 0.8, \"yref\": \"y6\"}, {\"font\": {\"color\": \"black\", \"family\": \"Myriad Pro\", \"size\": 18}, \"showarrow\": false, \"text\": \"15%\", \"x\": 0.07407407407407407, \"xref\": \"x3\", \"y\": 0.5, \"yref\": \"y3\"}, {\"font\": {\"color\": \"black\", \"family\": \"Myriad Pro\", \"size\": 18}, \"showarrow\": false, \"text\": \"22%\", \"x\": 0.25925925925925924, \"xref\": \"x3\", \"y\": 0.5, \"yref\": \"y3\"}, {\"font\": {\"color\": \"black\", \"family\": \"Myriad Pro\", \"size\": 18}, \"showarrow\": false, \"text\": \"44%\", \"x\": 0.5925925925925926, \"xref\": \"x3\", \"y\": 0.5, \"yref\": \"y3\"}, {\"font\": {\"color\": \"black\", \"family\": \"Myriad Pro\", \"size\": 18}, \"showarrow\": false, \"text\": \"19%\", \"x\": 0.9074074074074074, \"xref\": \"x3\", \"y\": 0.5, \"yref\": \"y3\"}, {\"font\": {\"color\": \"black\", \"family\": \"Myriad Pro\", \"size\": 18}, \"showarrow\": false, \"text\": \"n = 27\", \"x\": 0.5, \"xref\": \"x3\", \"y\": 0.8, \"yref\": \"y3\"}], \"height\": 600, \"legend\": {\"font\": {\"color\": \"black\", \"family\": \"Myriad Pro\", \"size\": 18}}, \"template\": {\"data\": {\"bar\": [{\"error_x\": {\"color\": \"#2a3f5f\"}, \"error_y\": {\"color\": \"#2a3f5f\"}, \"marker\": {\"line\": {\"color\": \"white\", \"width\": 0.5}}, \"type\": \"bar\"}], \"barpolar\": [{\"marker\": {\"line\": {\"color\": \"white\", \"width\": 0.5}}, \"type\": \"barpolar\"}], \"carpet\": [{\"aaxis\": {\"endlinecolor\": \"#2a3f5f\", \"gridcolor\": \"#C8D4E3\", \"linecolor\": \"#C8D4E3\", \"minorgridcolor\": \"#C8D4E3\", \"startlinecolor\": \"#2a3f5f\"}, \"baxis\": {\"endlinecolor\": \"#2a3f5f\", \"gridcolor\": \"#C8D4E3\", \"linecolor\": \"#C8D4E3\", \"minorgridcolor\": \"#C8D4E3\", \"startlinecolor\": \"#2a3f5f\"}, \"type\": \"carpet\"}], \"choropleth\": [{\"colorbar\": {\"outlinewidth\": 0, \"ticks\": \"\"}, \"type\": \"choropleth\"}], \"contour\": [{\"colorbar\": {\"outlinewidth\": 0, \"ticks\": \"\"}, \"colorscale\": [[0.0, \"#0d0887\"], [0.1111111111111111, \"#46039f\"], [0.2222222222222222, \"#7201a8\"], [0.3333333333333333, \"#9c179e\"], [0.4444444444444444, \"#bd3786\"], [0.5555555555555556, \"#d8576b\"], [0.6666666666666666, \"#ed7953\"], [0.7777777777777778, \"#fb9f3a\"], [0.8888888888888888, \"#fdca26\"], [1.0, \"#f0f921\"]], \"type\": \"contour\"}], \"contourcarpet\": [{\"colorbar\": {\"outlinewidth\": 0, \"ticks\": \"\"}, \"type\": \"contourcarpet\"}], \"heatmap\": [{\"colorbar\": {\"outlinewidth\": 0, \"ticks\": \"\"}, \"colorscale\": [[0.0, \"#0d0887\"], [0.1111111111111111, \"#46039f\"], [0.2222222222222222, \"#7201a8\"], [0.3333333333333333, \"#9c179e\"], [0.4444444444444444, \"#bd3786\"], [0.5555555555555556, \"#d8576b\"], [0.6666666666666666, \"#ed7953\"], [0.7777777777777778, \"#fb9f3a\"], [0.8888888888888888, \"#fdca26\"], [1.0, \"#f0f921\"]], \"type\": \"heatmap\"}], \"heatmapgl\": [{\"colorbar\": {\"outlinewidth\": 0, \"ticks\": \"\"}, \"colorscale\": [[0.0, \"#0d0887\"], [0.1111111111111111, \"#46039f\"], [0.2222222222222222, \"#7201a8\"], [0.3333333333333333, \"#9c179e\"], [0.4444444444444444, \"#bd3786\"], [0.5555555555555556, \"#d8576b\"], [0.6666666666666666, \"#ed7953\"], [0.7777777777777778, \"#fb9f3a\"], [0.8888888888888888, \"#fdca26\"], [1.0, \"#f0f921\"]], \"type\": \"heatmapgl\"}], \"histogram\": [{\"marker\": {\"colorbar\": {\"outlinewidth\": 0, \"ticks\": \"\"}}, \"type\": \"histogram\"}], \"histogram2d\": [{\"colorbar\": {\"outlinewidth\": 0, \"ticks\": \"\"}, \"colorscale\": [[0.0, \"#0d0887\"], [0.1111111111111111, \"#46039f\"], [0.2222222222222222, \"#7201a8\"], [0.3333333333333333, \"#9c179e\"], [0.4444444444444444, \"#bd3786\"], [0.5555555555555556, \"#d8576b\"], [0.6666666666666666, \"#ed7953\"], [0.7777777777777778, \"#fb9f3a\"], [0.8888888888888888, \"#fdca26\"], [1.0, \"#f0f921\"]], \"type\": \"histogram2d\"}], \"histogram2dcontour\": [{\"colorbar\": {\"outlinewidth\": 0, \"ticks\": \"\"}, \"colorscale\": [[0.0, \"#0d0887\"], [0.1111111111111111, \"#46039f\"], [0.2222222222222222, \"#7201a8\"], [0.3333333333333333, \"#9c179e\"], [0.4444444444444444, \"#bd3786\"], [0.5555555555555556, \"#d8576b\"], [0.6666666666666666, \"#ed7953\"], [0.7777777777777778, \"#fb9f3a\"], [0.8888888888888888, \"#fdca26\"], [1.0, \"#f0f921\"]], \"type\": \"histogram2dcontour\"}], \"mesh3d\": [{\"colorbar\": {\"outlinewidth\": 0, \"ticks\": \"\"}, \"type\": \"mesh3d\"}], \"parcoords\": [{\"line\": {\"colorbar\": {\"outlinewidth\": 0, \"ticks\": \"\"}}, \"type\": \"parcoords\"}], \"pie\": [{\"automargin\": true, \"type\": \"pie\"}], \"scatter\": [{\"marker\": {\"colorbar\": {\"outlinewidth\": 0, \"ticks\": \"\"}}, \"type\": \"scatter\"}], \"scatter3d\": [{\"line\": {\"colorbar\": {\"outlinewidth\": 0, \"ticks\": \"\"}}, \"marker\": {\"colorbar\": {\"outlinewidth\": 0, \"ticks\": \"\"}}, \"type\": \"scatter3d\"}], \"scattercarpet\": [{\"marker\": {\"colorbar\": {\"outlinewidth\": 0, \"ticks\": \"\"}}, \"type\": \"scattercarpet\"}], \"scattergeo\": [{\"marker\": {\"colorbar\": {\"outlinewidth\": 0, \"ticks\": \"\"}}, \"type\": \"scattergeo\"}], \"scattergl\": [{\"marker\": {\"colorbar\": {\"outlinewidth\": 0, \"ticks\": \"\"}}, \"type\": \"scattergl\"}], \"scattermapbox\": [{\"marker\": {\"colorbar\": {\"outlinewidth\": 0, \"ticks\": \"\"}}, \"type\": \"scattermapbox\"}], \"scatterpolar\": [{\"marker\": {\"colorbar\": {\"outlinewidth\": 0, \"ticks\": \"\"}}, \"type\": \"scatterpolar\"}], \"scatterpolargl\": [{\"marker\": {\"colorbar\": {\"outlinewidth\": 0, \"ticks\": \"\"}}, \"type\": \"scatterpolargl\"}], \"scatterternary\": [{\"marker\": {\"colorbar\": {\"outlinewidth\": 0, \"ticks\": \"\"}}, \"type\": \"scatterternary\"}], \"surface\": [{\"colorbar\": {\"outlinewidth\": 0, \"ticks\": \"\"}, \"colorscale\": [[0.0, \"#0d0887\"], [0.1111111111111111, \"#46039f\"], [0.2222222222222222, \"#7201a8\"], [0.3333333333333333, \"#9c179e\"], [0.4444444444444444, \"#bd3786\"], [0.5555555555555556, \"#d8576b\"], [0.6666666666666666, \"#ed7953\"], [0.7777777777777778, \"#fb9f3a\"], [0.8888888888888888, \"#fdca26\"], [1.0, \"#f0f921\"]], \"type\": \"surface\"}], \"table\": [{\"cells\": {\"fill\": {\"color\": \"#EBF0F8\"}, \"line\": {\"color\": \"white\"}}, \"header\": {\"fill\": {\"color\": \"#C8D4E3\"}, \"line\": {\"color\": \"white\"}}, \"type\": \"table\"}]}, \"layout\": {\"annotationdefaults\": {\"arrowcolor\": \"#2a3f5f\", \"arrowhead\": 0, \"arrowwidth\": 1}, \"autotypenumbers\": \"strict\", \"coloraxis\": {\"colorbar\": {\"outlinewidth\": 0, \"ticks\": \"\"}}, \"colorscale\": {\"diverging\": [[0, \"#8e0152\"], [0.1, \"#c51b7d\"], [0.2, \"#de77ae\"], [0.3, \"#f1b6da\"], [0.4, \"#fde0ef\"], [0.5, \"#f7f7f7\"], [0.6, \"#e6f5d0\"], [0.7, \"#b8e186\"], [0.8, \"#7fbc41\"], [0.9, \"#4d9221\"], [1, \"#276419\"]], \"sequential\": [[0.0, \"#0d0887\"], [0.1111111111111111, \"#46039f\"], [0.2222222222222222, \"#7201a8\"], [0.3333333333333333, \"#9c179e\"], [0.4444444444444444, \"#bd3786\"], [0.5555555555555556, \"#d8576b\"], [0.6666666666666666, \"#ed7953\"], [0.7777777777777778, \"#fb9f3a\"], [0.8888888888888888, \"#fdca26\"], [1.0, \"#f0f921\"]], \"sequentialminus\": [[0.0, \"#0d0887\"], [0.1111111111111111, \"#46039f\"], [0.2222222222222222, \"#7201a8\"], [0.3333333333333333, \"#9c179e\"], [0.4444444444444444, \"#bd3786\"], [0.5555555555555556, \"#d8576b\"], [0.6666666666666666, \"#ed7953\"], [0.7777777777777778, \"#fb9f3a\"], [0.8888888888888888, \"#fdca26\"], [1.0, \"#f0f921\"]]}, \"colorway\": [\"#636efa\", \"#EF553B\", \"#00cc96\", \"#ab63fa\", \"#FFA15A\", \"#19d3f3\", \"#FF6692\", \"#B6E880\", \"#FF97FF\", \"#FECB52\"], \"font\": {\"color\": \"#2a3f5f\"}, \"geo\": {\"bgcolor\": \"white\", \"lakecolor\": \"white\", \"landcolor\": \"white\", \"showlakes\": true, \"showland\": true, \"subunitcolor\": \"#C8D4E3\"}, \"hoverlabel\": {\"align\": \"left\"}, \"hovermode\": \"closest\", \"mapbox\": {\"style\": \"light\"}, \"paper_bgcolor\": \"white\", \"plot_bgcolor\": \"white\", \"polar\": {\"angularaxis\": {\"gridcolor\": \"#EBF0F8\", \"linecolor\": \"#EBF0F8\", \"ticks\": \"\"}, \"bgcolor\": \"white\", \"radialaxis\": {\"gridcolor\": \"#EBF0F8\", \"linecolor\": \"#EBF0F8\", \"ticks\": \"\"}}, \"scene\": {\"xaxis\": {\"backgroundcolor\": \"white\", \"gridcolor\": \"#DFE8F3\", \"gridwidth\": 2, \"linecolor\": \"#EBF0F8\", \"showbackground\": true, \"ticks\": \"\", \"zerolinecolor\": \"#EBF0F8\"}, \"yaxis\": {\"backgroundcolor\": \"white\", \"gridcolor\": \"#DFE8F3\", \"gridwidth\": 2, \"linecolor\": \"#EBF0F8\", \"showbackground\": true, \"ticks\": \"\", \"zerolinecolor\": \"#EBF0F8\"}, \"zaxis\": {\"backgroundcolor\": \"white\", \"gridcolor\": \"#DFE8F3\", \"gridwidth\": 2, \"linecolor\": \"#EBF0F8\", \"showbackground\": true, \"ticks\": \"\", \"zerolinecolor\": \"#EBF0F8\"}}, \"shapedefaults\": {\"line\": {\"color\": \"#2a3f5f\"}}, \"ternary\": {\"aaxis\": {\"gridcolor\": \"#DFE8F3\", \"linecolor\": \"#A2B1C6\", \"ticks\": \"\"}, \"baxis\": {\"gridcolor\": \"#DFE8F3\", \"linecolor\": \"#A2B1C6\", \"ticks\": \"\"}, \"bgcolor\": \"white\", \"caxis\": {\"gridcolor\": \"#DFE8F3\", \"linecolor\": \"#A2B1C6\", \"ticks\": \"\"}}, \"title\": {\"x\": 0.05}, \"xaxis\": {\"automargin\": true, \"gridcolor\": \"#EBF0F8\", \"linecolor\": \"#EBF0F8\", \"ticks\": \"\", \"title\": {\"standoff\": 15}, \"zerolinecolor\": \"#EBF0F8\", \"zerolinewidth\": 2}, \"yaxis\": {\"automargin\": true, \"gridcolor\": \"#EBF0F8\", \"linecolor\": \"#EBF0F8\", \"ticks\": \"\", \"title\": {\"standoff\": 15}, \"zerolinecolor\": \"#EBF0F8\", \"zerolinewidth\": 2}}}, \"title\": {\"font\": {\"color\": \"black\", \"family\": \"Myriad Pro\", \"size\": 18}, \"text\": \"Single Trials\"}, \"width\": 675, \"xaxis\": {\"anchor\": \"y\", \"domain\": [0.0, 0.32666666666666666], \"linecolor\": \"black\", \"linewidth\": 1, \"mirror\": true, \"nticks\": 10, \"range\": [0, 1], \"showgrid\": true, \"showline\": true, \"showticklabels\": false, \"tickangle\": 0, \"tickcolor\": \"black\", \"tickfont\": {\"color\": \"black\", \"family\": \"Myriad Pro\", \"size\": 18}, \"ticklen\": 0, \"ticks\": \"outside\", \"title\": {\"font\": {\"color\": \"black\", \"family\": \"Myriad Pro\", \"size\": 24}, \"standoff\": 10}, \"zeroline\": false}, \"xaxis2\": {\"anchor\": \"y2\", \"domain\": [0.33666666666666667, 0.6633333333333333], \"linecolor\": \"black\", \"linewidth\": 1, \"mirror\": true, \"nticks\": 10, \"range\": [0, 1], \"showgrid\": true, \"showline\": true, \"showticklabels\": false, \"tickangle\": 0, \"tickcolor\": \"black\", \"tickfont\": {\"color\": \"black\", \"family\": \"Myriad Pro\", \"size\": 18}, \"ticklen\": 0, \"ticks\": \"outside\", \"title\": {\"font\": {\"color\": \"black\", \"family\": \"Myriad Pro\", \"size\": 24}, \"standoff\": 10}, \"zeroline\": false}, \"xaxis3\": {\"anchor\": \"y3\", \"domain\": [0.6733333333333333, 1.0], \"linecolor\": \"black\", \"linewidth\": 1, \"mirror\": true, \"nticks\": 10, \"range\": [0, 1], \"showgrid\": true, \"showline\": true, \"showticklabels\": false, \"tickangle\": 0, \"tickcolor\": \"black\", \"tickfont\": {\"color\": \"black\", \"family\": \"Myriad Pro\", \"size\": 18}, \"ticklen\": 0, \"ticks\": \"outside\", \"title\": {\"font\": {\"color\": \"black\", \"family\": \"Myriad Pro\", \"size\": 24}, \"standoff\": 10}, \"zeroline\": false}, \"xaxis4\": {\"anchor\": \"y4\", \"domain\": [0.0, 0.32666666666666666], \"linecolor\": \"black\", \"linewidth\": 1, \"mirror\": true, \"nticks\": 10, \"range\": [0, 1], \"showgrid\": true, \"showline\": true, \"showticklabels\": false, \"tickangle\": 0, \"tickcolor\": \"black\", \"tickfont\": {\"color\": \"black\", \"family\": \"Myriad Pro\", \"size\": 18}, \"ticklen\": 0, \"ticks\": \"outside\", \"title\": {\"font\": {\"color\": \"black\", \"family\": \"Myriad Pro\", \"size\": 24}, \"standoff\": 10}, \"zeroline\": false}, \"xaxis5\": {\"anchor\": \"y5\", \"domain\": [0.33666666666666667, 0.6633333333333333], \"linecolor\": \"black\", \"linewidth\": 1, \"mirror\": true, \"nticks\": 10, \"range\": [0, 1], \"showgrid\": true, \"showline\": true, \"showticklabels\": false, \"tickangle\": 0, \"tickcolor\": \"black\", \"tickfont\": {\"color\": \"black\", \"family\": \"Myriad Pro\", \"size\": 18}, \"ticklen\": 0, \"ticks\": \"outside\", \"title\": {\"font\": {\"color\": \"black\", \"family\": \"Myriad Pro\", \"size\": 24}, \"standoff\": 10}, \"zeroline\": false}, \"xaxis6\": {\"anchor\": \"y6\", \"domain\": [0.6733333333333333, 1.0], \"linecolor\": \"black\", \"linewidth\": 1, \"mirror\": true, \"nticks\": 10, \"range\": [0, 1], \"showgrid\": true, \"showline\": true, \"showticklabels\": false, \"tickangle\": 0, \"tickcolor\": \"black\", \"tickfont\": {\"color\": \"black\", \"family\": \"Myriad Pro\", \"size\": 18}, \"ticklen\": 0, \"ticks\": \"outside\", \"title\": {\"font\": {\"color\": \"black\", \"family\": \"Myriad Pro\", \"size\": 24}, \"standoff\": 10}, \"zeroline\": false}, \"xaxis7\": {\"anchor\": \"y7\", \"domain\": [0.0, 0.32666666666666666], \"linecolor\": \"black\", \"linewidth\": 1, \"mirror\": true, \"nticks\": 10, \"range\": [0, 1], \"showgrid\": true, \"showline\": true, \"showticklabels\": false, \"tickangle\": 0, \"tickcolor\": \"black\", \"tickfont\": {\"color\": \"black\", \"family\": \"Myriad Pro\", \"size\": 18}, \"ticklen\": 0, \"ticks\": \"outside\", \"title\": {\"font\": {\"color\": \"black\", \"family\": \"Myriad Pro\", \"size\": 24}, \"standoff\": 10, \"text\": \"Low\"}, \"zeroline\": false}, \"xaxis8\": {\"anchor\": \"y8\", \"domain\": [0.33666666666666667, 0.6633333333333333], \"linecolor\": \"black\", \"linewidth\": 1, \"mirror\": true, \"nticks\": 10, \"range\": [0, 1], \"showgrid\": true, \"showline\": true, \"showticklabels\": false, \"tickangle\": 0, \"tickcolor\": \"black\", \"tickfont\": {\"color\": \"black\", \"family\": \"Myriad Pro\", \"size\": 18}, \"ticklen\": 0, \"ticks\": \"outside\", \"title\": {\"font\": {\"color\": \"black\", \"family\": \"Myriad Pro\", \"size\": 24}, \"standoff\": 10, \"text\": \"Mid\"}, \"zeroline\": false}, \"xaxis9\": {\"anchor\": \"y9\", \"domain\": [0.6733333333333333, 1.0], \"linecolor\": \"black\", \"linewidth\": 1, \"mirror\": true, \"nticks\": 10, \"range\": [0, 1], \"showgrid\": true, \"showline\": true, \"showticklabels\": false, \"tickangle\": 0, \"tickcolor\": \"black\", \"tickfont\": {\"color\": \"black\", \"family\": \"Myriad Pro\", \"size\": 18}, \"ticklen\": 0, \"ticks\": \"outside\", \"title\": {\"font\": {\"color\": \"black\", \"family\": \"Myriad Pro\", \"size\": 24}, \"standoff\": 10, \"text\": \"High\"}, \"zeroline\": false}, \"yaxis\": {\"anchor\": \"x\", \"domain\": [0.6733333333333333, 1.0], \"linecolor\": \"black\", \"linewidth\": 1, \"mirror\": true, \"nticks\": 10, \"range\": [0, 1], \"showgrid\": true, \"showline\": true, \"showticklabels\": false, \"tickangle\": 0, \"tickcolor\": \"black\", \"tickfont\": {\"color\": \"black\", \"family\": \"Myriad Pro\", \"size\": 18}, \"ticklen\": 0, \"ticks\": \"outside\", \"title\": {\"font\": {\"color\": \"black\", \"family\": \"Myriad Pro\", \"size\": 24}, \"standoff\": 0, \"text\": \"High\"}, \"zeroline\": false}, \"yaxis2\": {\"anchor\": \"x2\", \"domain\": [0.6733333333333333, 1.0], \"linecolor\": \"black\", \"linewidth\": 1, \"mirror\": true, \"nticks\": 10, \"range\": [0, 1], \"showgrid\": true, \"showline\": true, \"showticklabels\": false, \"tickangle\": 0, \"tickcolor\": \"black\", \"tickfont\": {\"color\": \"black\", \"family\": \"Myriad Pro\", \"size\": 18}, \"ticklen\": 0, \"ticks\": \"outside\", \"title\": {\"font\": {\"color\": \"black\", \"family\": \"Myriad Pro\", \"size\": 24}, \"standoff\": 0}, \"zeroline\": false}, \"yaxis3\": {\"anchor\": \"x3\", \"domain\": [0.6733333333333333, 1.0], \"linecolor\": \"black\", \"linewidth\": 1, \"mirror\": true, \"nticks\": 10, \"range\": [0, 1], \"showgrid\": true, \"showline\": true, \"showticklabels\": false, \"tickangle\": 0, \"tickcolor\": \"black\", \"tickfont\": {\"color\": \"black\", \"family\": \"Myriad Pro\", \"size\": 18}, \"ticklen\": 0, \"ticks\": \"outside\", \"title\": {\"font\": {\"color\": \"black\", \"family\": \"Myriad Pro\", \"size\": 24}, \"standoff\": 0}, \"zeroline\": false}, \"yaxis4\": {\"anchor\": \"x4\", \"domain\": [0.33666666666666667, 0.6633333333333333], \"linecolor\": \"black\", \"linewidth\": 1, \"mirror\": true, \"nticks\": 10, \"range\": [0, 1], \"showgrid\": true, \"showline\": true, \"showticklabels\": false, \"tickangle\": 0, \"tickcolor\": \"black\", \"tickfont\": {\"color\": \"black\", \"family\": \"Myriad Pro\", \"size\": 18}, \"ticklen\": 0, \"ticks\": \"outside\", \"title\": {\"font\": {\"color\": \"black\", \"family\": \"Myriad Pro\", \"size\": 24}, \"standoff\": 0, \"text\": \"Mid\"}, \"zeroline\": false}, \"yaxis5\": {\"anchor\": \"x5\", \"domain\": [0.33666666666666667, 0.6633333333333333], \"linecolor\": \"black\", \"linewidth\": 1, \"mirror\": true, \"nticks\": 10, \"range\": [0, 1], \"showgrid\": true, \"showline\": true, \"showticklabels\": false, \"tickangle\": 0, \"tickcolor\": \"black\", \"tickfont\": {\"color\": \"black\", \"family\": \"Myriad Pro\", \"size\": 18}, \"ticklen\": 0, \"ticks\": \"outside\", \"title\": {\"font\": {\"color\": \"black\", \"family\": \"Myriad Pro\", \"size\": 24}, \"standoff\": 0}, \"zeroline\": false}, \"yaxis6\": {\"anchor\": \"x6\", \"domain\": [0.33666666666666667, 0.6633333333333333], \"linecolor\": \"black\", \"linewidth\": 1, \"mirror\": true, \"nticks\": 10, \"range\": [0, 1], \"showgrid\": true, \"showline\": true, \"showticklabels\": false, \"tickangle\": 0, \"tickcolor\": \"black\", \"tickfont\": {\"color\": \"black\", \"family\": \"Myriad Pro\", \"size\": 18}, \"ticklen\": 0, \"ticks\": \"outside\", \"title\": {\"font\": {\"color\": \"black\", \"family\": \"Myriad Pro\", \"size\": 24}, \"standoff\": 0}, \"zeroline\": false}, \"yaxis7\": {\"anchor\": \"x7\", \"domain\": [0.0, 0.32666666666666666], \"linecolor\": \"black\", \"linewidth\": 1, \"mirror\": true, \"nticks\": 10, \"range\": [0, 1], \"showgrid\": true, \"showline\": true, \"showticklabels\": false, \"tickangle\": 0, \"tickcolor\": \"black\", \"tickfont\": {\"color\": \"black\", \"family\": \"Myriad Pro\", \"size\": 18}, \"ticklen\": 0, \"ticks\": \"outside\", \"title\": {\"font\": {\"color\": \"black\", \"family\": \"Myriad Pro\", \"size\": 24}, \"standoff\": 0, \"text\": \"Low\"}, \"zeroline\": false}, \"yaxis8\": {\"anchor\": \"x8\", \"domain\": [0.0, 0.32666666666666666], \"linecolor\": \"black\", \"linewidth\": 1, \"mirror\": true, \"nticks\": 10, \"range\": [0, 1], \"showgrid\": true, \"showline\": true, \"showticklabels\": false, \"tickangle\": 0, \"tickcolor\": \"black\", \"tickfont\": {\"color\": \"black\", \"family\": \"Myriad Pro\", \"size\": 18}, \"ticklen\": 0, \"ticks\": \"outside\", \"title\": {\"font\": {\"color\": \"black\", \"family\": \"Myriad Pro\", \"size\": 24}, \"standoff\": 0}, \"zeroline\": false}, \"yaxis9\": {\"anchor\": \"x9\", \"domain\": [0.0, 0.32666666666666666], \"linecolor\": \"black\", \"linewidth\": 1, \"mirror\": true, \"nticks\": 10, \"range\": [0, 1], \"showgrid\": true, \"showline\": true, \"showticklabels\": false, \"tickangle\": 0, \"tickcolor\": \"black\", \"tickfont\": {\"color\": \"black\", \"family\": \"Myriad Pro\", \"size\": 18}, \"ticklen\": 0, \"ticks\": \"outside\", \"title\": {\"font\": {\"color\": \"black\", \"family\": \"Myriad Pro\", \"size\": 24}, \"standoff\": 0}, \"zeroline\": false}},                        {\"responsive\": true}                    ).then(function(){\n",
       "                            \n",
       "var gd = document.getElementById('ba1191c7-a31b-4378-b142-2eba8e27c771');\n",
       "var x = new MutationObserver(function (mutations, observer) {{\n",
       "        var display = window.getComputedStyle(gd).display;\n",
       "        if (!display || display === 'none') {{\n",
       "            console.log([gd, 'removed!']);\n",
       "            Plotly.purge(gd);\n",
       "            observer.disconnect();\n",
       "        }}\n",
       "}});\n",
       "\n",
       "// Listen for the removal of the full notebook cells\n",
       "var notebookContainer = gd.closest('#notebook-container');\n",
       "if (notebookContainer) {{\n",
       "    x.observe(notebookContainer, {childList: true});\n",
       "}}\n",
       "\n",
       "// Listen for the clearing of the current output cell\n",
       "var outputEl = gd.closest('.output');\n",
       "if (outputEl) {{\n",
       "    x.observe(outputEl, {childList: true});\n",
       "}}\n",
       "\n",
       "                        })                };                });            </script>        </div>"
      ]
     },
     "metadata": {},
     "output_type": "display_data"
    },
    {
     "data": {
      "application/vnd.plotly.v1+json": {
       "config": {
        "linkText": "Export to plot.ly",
        "plotlyServerURL": "https://plot.ly",
        "showLink": false
       },
       "data": [
        {
         "fill": "tonextx",
         "fillcolor": "rgb(73,143,201)",
         "legendgroup": "bistable",
         "line": {
          "width": 0
         },
         "mode": "lines",
         "name": "Bistable",
         "showlegend": true,
         "type": "scatter",
         "x": [
          0.9375,
          0.9375,
          0.9375,
          0.9375,
          0.9375,
          0.9375,
          0.9375,
          0.9375,
          0.9375,
          0.9375
         ],
         "xaxis": "x7",
         "y": [
          0,
          0.1111111111111111,
          0.2222222222222222,
          0.3333333333333333,
          0.4444444444444444,
          0.5555555555555556,
          0.6666666666666666,
          0.7777777777777777,
          0.8888888888888888,
          1
         ],
         "yaxis": "y7"
        },
        {
         "fill": "tonextx",
         "fillcolor": "rgb(205,92,98)",
         "legendgroup": "tet_stable",
         "line": {
          "width": 0
         },
         "mode": "lines",
         "name": "Monostable Tet",
         "showlegend": true,
         "type": "scatter",
         "x": [
          1,
          1,
          1,
          1,
          1,
          1,
          1,
          1,
          1,
          1
         ],
         "xaxis": "x7",
         "y": [
          0,
          0.1111111111111111,
          0.2222222222222222,
          0.3333333333333333,
          0.4444444444444444,
          0.5555555555555556,
          0.6666666666666666,
          0.7777777777777777,
          0.8888888888888888,
          1
         ],
         "yaxis": "y7"
        },
        {
         "fill": "tonextx",
         "fillcolor": "rgb(89,185,92)",
         "legendgroup": "lac_stable",
         "line": {
          "width": 0
         },
         "mode": "lines",
         "name": "Monostable Lac",
         "showlegend": true,
         "type": "scatter",
         "x": [
          1,
          1,
          1,
          1,
          1,
          1,
          1,
          1,
          1,
          1
         ],
         "xaxis": "x7",
         "y": [
          0,
          0.1111111111111111,
          0.2222222222222222,
          0.3333333333333333,
          0.4444444444444444,
          0.5555555555555556,
          0.6666666666666666,
          0.7777777777777777,
          0.8888888888888888,
          1
         ],
         "yaxis": "y7"
        },
        {
         "fill": "tonextx",
         "fillcolor": "rgb(109,109,109)",
         "legendgroup": "unstable",
         "line": {
          "width": 0
         },
         "mode": "lines",
         "name": "Unstable",
         "showlegend": true,
         "type": "scatter",
         "x": [
          1,
          1,
          1,
          1,
          1,
          1,
          1,
          1,
          1,
          1
         ],
         "xaxis": "x7",
         "y": [
          0,
          0.1111111111111111,
          0.2222222222222222,
          0.3333333333333333,
          0.4444444444444444,
          0.5555555555555556,
          0.6666666666666666,
          0.7777777777777777,
          0.8888888888888888,
          1
         ],
         "yaxis": "y7"
        },
        {
         "fill": "tonextx",
         "fillcolor": "rgb(73,143,201)",
         "legendgroup": "bistable",
         "line": {
          "width": 0
         },
         "mode": "lines",
         "name": "Bistable",
         "showlegend": false,
         "type": "scatter",
         "x": [
          0.6666666666666666,
          0.6666666666666666,
          0.6666666666666666,
          0.6666666666666666,
          0.6666666666666666,
          0.6666666666666666,
          0.6666666666666666,
          0.6666666666666666,
          0.6666666666666666,
          0.6666666666666666
         ],
         "xaxis": "x4",
         "y": [
          0,
          0.1111111111111111,
          0.2222222222222222,
          0.3333333333333333,
          0.4444444444444444,
          0.5555555555555556,
          0.6666666666666666,
          0.7777777777777777,
          0.8888888888888888,
          1
         ],
         "yaxis": "y4"
        },
        {
         "fill": "tonextx",
         "fillcolor": "rgb(205,92,98)",
         "legendgroup": "tet_stable",
         "line": {
          "width": 0
         },
         "mode": "lines",
         "name": "Monostable Tet",
         "showlegend": false,
         "type": "scatter",
         "x": [
          0.75,
          0.75,
          0.75,
          0.75,
          0.75,
          0.75,
          0.75,
          0.75,
          0.75,
          0.75
         ],
         "xaxis": "x4",
         "y": [
          0,
          0.1111111111111111,
          0.2222222222222222,
          0.3333333333333333,
          0.4444444444444444,
          0.5555555555555556,
          0.6666666666666666,
          0.7777777777777777,
          0.8888888888888888,
          1
         ],
         "yaxis": "y4"
        },
        {
         "fill": "tonextx",
         "fillcolor": "rgb(89,185,92)",
         "legendgroup": "lac_stable",
         "line": {
          "width": 0
         },
         "mode": "lines",
         "name": "Monostable Lac",
         "showlegend": false,
         "type": "scatter",
         "x": [
          1,
          1,
          1,
          1,
          1,
          1,
          1,
          1,
          1,
          1
         ],
         "xaxis": "x4",
         "y": [
          0,
          0.1111111111111111,
          0.2222222222222222,
          0.3333333333333333,
          0.4444444444444444,
          0.5555555555555556,
          0.6666666666666666,
          0.7777777777777777,
          0.8888888888888888,
          1
         ],
         "yaxis": "y4"
        },
        {
         "fill": "tonextx",
         "fillcolor": "rgb(109,109,109)",
         "legendgroup": "unstable",
         "line": {
          "width": 0
         },
         "mode": "lines",
         "name": "Unstable",
         "showlegend": false,
         "type": "scatter",
         "x": [
          1,
          1,
          1,
          1,
          1,
          1,
          1,
          1,
          1,
          1
         ],
         "xaxis": "x4",
         "y": [
          0,
          0.1111111111111111,
          0.2222222222222222,
          0.3333333333333333,
          0.4444444444444444,
          0.5555555555555556,
          0.6666666666666666,
          0.7777777777777777,
          0.8888888888888888,
          1
         ],
         "yaxis": "y4"
        },
        {
         "fill": "tonextx",
         "fillcolor": "rgb(73,143,201)",
         "legendgroup": "bistable",
         "line": {
          "width": 0
         },
         "mode": "lines",
         "name": "Bistable",
         "showlegend": false,
         "type": "scatter",
         "x": [
          0.16666666666666666,
          0.16666666666666666,
          0.16666666666666666,
          0.16666666666666666,
          0.16666666666666666,
          0.16666666666666666,
          0.16666666666666666,
          0.16666666666666666,
          0.16666666666666666,
          0.16666666666666666
         ],
         "xaxis": "x",
         "y": [
          0,
          0.1111111111111111,
          0.2222222222222222,
          0.3333333333333333,
          0.4444444444444444,
          0.5555555555555556,
          0.6666666666666666,
          0.7777777777777777,
          0.8888888888888888,
          1
         ],
         "yaxis": "y"
        },
        {
         "fill": "tonextx",
         "fillcolor": "rgb(205,92,98)",
         "legendgroup": "tet_stable",
         "line": {
          "width": 0
         },
         "mode": "lines",
         "name": "Monostable Tet",
         "showlegend": false,
         "type": "scatter",
         "x": [
          0.16666666666666666,
          0.16666666666666666,
          0.16666666666666666,
          0.16666666666666666,
          0.16666666666666666,
          0.16666666666666666,
          0.16666666666666666,
          0.16666666666666666,
          0.16666666666666666,
          0.16666666666666666
         ],
         "xaxis": "x",
         "y": [
          0,
          0.1111111111111111,
          0.2222222222222222,
          0.3333333333333333,
          0.4444444444444444,
          0.5555555555555556,
          0.6666666666666666,
          0.7777777777777777,
          0.8888888888888888,
          1
         ],
         "yaxis": "y"
        },
        {
         "fill": "tonextx",
         "fillcolor": "rgb(89,185,92)",
         "legendgroup": "lac_stable",
         "line": {
          "width": 0
         },
         "mode": "lines",
         "name": "Monostable Lac",
         "showlegend": false,
         "type": "scatter",
         "x": [
          0.9166666666666666,
          0.9166666666666666,
          0.9166666666666666,
          0.9166666666666666,
          0.9166666666666666,
          0.9166666666666666,
          0.9166666666666666,
          0.9166666666666666,
          0.9166666666666666,
          0.9166666666666666
         ],
         "xaxis": "x",
         "y": [
          0,
          0.1111111111111111,
          0.2222222222222222,
          0.3333333333333333,
          0.4444444444444444,
          0.5555555555555556,
          0.6666666666666666,
          0.7777777777777777,
          0.8888888888888888,
          1
         ],
         "yaxis": "y"
        },
        {
         "fill": "tonextx",
         "fillcolor": "rgb(109,109,109)",
         "legendgroup": "unstable",
         "line": {
          "width": 0
         },
         "mode": "lines",
         "name": "Unstable",
         "showlegend": false,
         "type": "scatter",
         "x": [
          1,
          1,
          1,
          1,
          1,
          1,
          1,
          1,
          1,
          1
         ],
         "xaxis": "x",
         "y": [
          0,
          0.1111111111111111,
          0.2222222222222222,
          0.3333333333333333,
          0.4444444444444444,
          0.5555555555555556,
          0.6666666666666666,
          0.7777777777777777,
          0.8888888888888888,
          1
         ],
         "yaxis": "y"
        },
        {
         "fill": "tonextx",
         "fillcolor": "rgb(73,143,201)",
         "legendgroup": "bistable",
         "line": {
          "width": 0
         },
         "mode": "lines",
         "name": "Bistable",
         "showlegend": false,
         "type": "scatter",
         "x": [
          0.75,
          0.75,
          0.75,
          0.75,
          0.75,
          0.75,
          0.75,
          0.75,
          0.75,
          0.75
         ],
         "xaxis": "x8",
         "y": [
          0,
          0.1111111111111111,
          0.2222222222222222,
          0.3333333333333333,
          0.4444444444444444,
          0.5555555555555556,
          0.6666666666666666,
          0.7777777777777777,
          0.8888888888888888,
          1
         ],
         "yaxis": "y8"
        },
        {
         "fill": "tonextx",
         "fillcolor": "rgb(205,92,98)",
         "legendgroup": "tet_stable",
         "line": {
          "width": 0
         },
         "mode": "lines",
         "name": "Monostable Tet",
         "showlegend": false,
         "type": "scatter",
         "x": [
          1,
          1,
          1,
          1,
          1,
          1,
          1,
          1,
          1,
          1
         ],
         "xaxis": "x8",
         "y": [
          0,
          0.1111111111111111,
          0.2222222222222222,
          0.3333333333333333,
          0.4444444444444444,
          0.5555555555555556,
          0.6666666666666666,
          0.7777777777777777,
          0.8888888888888888,
          1
         ],
         "yaxis": "y8"
        },
        {
         "fill": "tonextx",
         "fillcolor": "rgb(89,185,92)",
         "legendgroup": "lac_stable",
         "line": {
          "width": 0
         },
         "mode": "lines",
         "name": "Monostable Lac",
         "showlegend": false,
         "type": "scatter",
         "x": [
          1,
          1,
          1,
          1,
          1,
          1,
          1,
          1,
          1,
          1
         ],
         "xaxis": "x8",
         "y": [
          0,
          0.1111111111111111,
          0.2222222222222222,
          0.3333333333333333,
          0.4444444444444444,
          0.5555555555555556,
          0.6666666666666666,
          0.7777777777777777,
          0.8888888888888888,
          1
         ],
         "yaxis": "y8"
        },
        {
         "fill": "tonextx",
         "fillcolor": "rgb(109,109,109)",
         "legendgroup": "unstable",
         "line": {
          "width": 0
         },
         "mode": "lines",
         "name": "Unstable",
         "showlegend": false,
         "type": "scatter",
         "x": [
          1,
          1,
          1,
          1,
          1,
          1,
          1,
          1,
          1,
          1
         ],
         "xaxis": "x8",
         "y": [
          0,
          0.1111111111111111,
          0.2222222222222222,
          0.3333333333333333,
          0.4444444444444444,
          0.5555555555555556,
          0.6666666666666666,
          0.7777777777777777,
          0.8888888888888888,
          1
         ],
         "yaxis": "y8"
        },
        {
         "fill": "tonextx",
         "fillcolor": "rgb(73,143,201)",
         "legendgroup": "bistable",
         "line": {
          "width": 0
         },
         "mode": "lines",
         "name": "Bistable",
         "showlegend": false,
         "type": "scatter",
         "x": [
          0.6666666666666666,
          0.6666666666666666,
          0.6666666666666666,
          0.6666666666666666,
          0.6666666666666666,
          0.6666666666666666,
          0.6666666666666666,
          0.6666666666666666,
          0.6666666666666666,
          0.6666666666666666
         ],
         "xaxis": "x5",
         "y": [
          0,
          0.1111111111111111,
          0.2222222222222222,
          0.3333333333333333,
          0.4444444444444444,
          0.5555555555555556,
          0.6666666666666666,
          0.7777777777777777,
          0.8888888888888888,
          1
         ],
         "yaxis": "y5"
        },
        {
         "fill": "tonextx",
         "fillcolor": "rgb(205,92,98)",
         "legendgroup": "tet_stable",
         "line": {
          "width": 0
         },
         "mode": "lines",
         "name": "Monostable Tet",
         "showlegend": false,
         "type": "scatter",
         "x": [
          0.8888888888888888,
          0.8888888888888888,
          0.8888888888888888,
          0.8888888888888888,
          0.8888888888888888,
          0.8888888888888888,
          0.8888888888888888,
          0.8888888888888888,
          0.8888888888888888,
          0.8888888888888888
         ],
         "xaxis": "x5",
         "y": [
          0,
          0.1111111111111111,
          0.2222222222222222,
          0.3333333333333333,
          0.4444444444444444,
          0.5555555555555556,
          0.6666666666666666,
          0.7777777777777777,
          0.8888888888888888,
          1
         ],
         "yaxis": "y5"
        },
        {
         "fill": "tonextx",
         "fillcolor": "rgb(89,185,92)",
         "legendgroup": "lac_stable",
         "line": {
          "width": 0
         },
         "mode": "lines",
         "name": "Monostable Lac",
         "showlegend": false,
         "type": "scatter",
         "x": [
          1,
          1,
          1,
          1,
          1,
          1,
          1,
          1,
          1,
          1
         ],
         "xaxis": "x5",
         "y": [
          0,
          0.1111111111111111,
          0.2222222222222222,
          0.3333333333333333,
          0.4444444444444444,
          0.5555555555555556,
          0.6666666666666666,
          0.7777777777777777,
          0.8888888888888888,
          1
         ],
         "yaxis": "y5"
        },
        {
         "fill": "tonextx",
         "fillcolor": "rgb(109,109,109)",
         "legendgroup": "unstable",
         "line": {
          "width": 0
         },
         "mode": "lines",
         "name": "Unstable",
         "showlegend": false,
         "type": "scatter",
         "x": [
          1,
          1,
          1,
          1,
          1,
          1,
          1,
          1,
          1,
          1
         ],
         "xaxis": "x5",
         "y": [
          0,
          0.1111111111111111,
          0.2222222222222222,
          0.3333333333333333,
          0.4444444444444444,
          0.5555555555555556,
          0.6666666666666666,
          0.7777777777777777,
          0.8888888888888888,
          1
         ],
         "yaxis": "y5"
        },
        {
         "fill": "tonextx",
         "fillcolor": "rgb(73,143,201)",
         "legendgroup": "bistable",
         "line": {
          "width": 0
         },
         "mode": "lines",
         "name": "Bistable",
         "showlegend": false,
         "type": "scatter",
         "x": [
          0.1111111111111111,
          0.1111111111111111,
          0.1111111111111111,
          0.1111111111111111,
          0.1111111111111111,
          0.1111111111111111,
          0.1111111111111111,
          0.1111111111111111,
          0.1111111111111111,
          0.1111111111111111
         ],
         "xaxis": "x2",
         "y": [
          0,
          0.1111111111111111,
          0.2222222222222222,
          0.3333333333333333,
          0.4444444444444444,
          0.5555555555555556,
          0.6666666666666666,
          0.7777777777777777,
          0.8888888888888888,
          1
         ],
         "yaxis": "y2"
        },
        {
         "fill": "tonextx",
         "fillcolor": "rgb(205,92,98)",
         "legendgroup": "tet_stable",
         "line": {
          "width": 0
         },
         "mode": "lines",
         "name": "Monostable Tet",
         "showlegend": false,
         "type": "scatter",
         "x": [
          0.2222222222222222,
          0.2222222222222222,
          0.2222222222222222,
          0.2222222222222222,
          0.2222222222222222,
          0.2222222222222222,
          0.2222222222222222,
          0.2222222222222222,
          0.2222222222222222,
          0.2222222222222222
         ],
         "xaxis": "x2",
         "y": [
          0,
          0.1111111111111111,
          0.2222222222222222,
          0.3333333333333333,
          0.4444444444444444,
          0.5555555555555556,
          0.6666666666666666,
          0.7777777777777777,
          0.8888888888888888,
          1
         ],
         "yaxis": "y2"
        },
        {
         "fill": "tonextx",
         "fillcolor": "rgb(89,185,92)",
         "legendgroup": "lac_stable",
         "line": {
          "width": 0
         },
         "mode": "lines",
         "name": "Monostable Lac",
         "showlegend": false,
         "type": "scatter",
         "x": [
          0.6666666666666666,
          0.6666666666666666,
          0.6666666666666666,
          0.6666666666666666,
          0.6666666666666666,
          0.6666666666666666,
          0.6666666666666666,
          0.6666666666666666,
          0.6666666666666666,
          0.6666666666666666
         ],
         "xaxis": "x2",
         "y": [
          0,
          0.1111111111111111,
          0.2222222222222222,
          0.3333333333333333,
          0.4444444444444444,
          0.5555555555555556,
          0.6666666666666666,
          0.7777777777777777,
          0.8888888888888888,
          1
         ],
         "yaxis": "y2"
        },
        {
         "fill": "tonextx",
         "fillcolor": "rgb(109,109,109)",
         "legendgroup": "unstable",
         "line": {
          "width": 0
         },
         "mode": "lines",
         "name": "Unstable",
         "showlegend": false,
         "type": "scatter",
         "x": [
          1,
          1,
          1,
          1,
          1,
          1,
          1,
          1,
          1,
          1
         ],
         "xaxis": "x2",
         "y": [
          0,
          0.1111111111111111,
          0.2222222222222222,
          0.3333333333333333,
          0.4444444444444444,
          0.5555555555555556,
          0.6666666666666666,
          0.7777777777777777,
          0.8888888888888888,
          1
         ],
         "yaxis": "y2"
        },
        {
         "fill": "tonextx",
         "fillcolor": "rgb(73,143,201)",
         "legendgroup": "bistable",
         "line": {
          "width": 0
         },
         "mode": "lines",
         "name": "Bistable",
         "showlegend": false,
         "type": "scatter",
         "x": [
          0.75,
          0.75,
          0.75,
          0.75,
          0.75,
          0.75,
          0.75,
          0.75,
          0.75,
          0.75
         ],
         "xaxis": "x9",
         "y": [
          0,
          0.1111111111111111,
          0.2222222222222222,
          0.3333333333333333,
          0.4444444444444444,
          0.5555555555555556,
          0.6666666666666666,
          0.7777777777777777,
          0.8888888888888888,
          1
         ],
         "yaxis": "y9"
        },
        {
         "fill": "tonextx",
         "fillcolor": "rgb(205,92,98)",
         "legendgroup": "tet_stable",
         "line": {
          "width": 0
         },
         "mode": "lines",
         "name": "Monostable Tet",
         "showlegend": false,
         "type": "scatter",
         "x": [
          1,
          1,
          1,
          1,
          1,
          1,
          1,
          1,
          1,
          1
         ],
         "xaxis": "x9",
         "y": [
          0,
          0.1111111111111111,
          0.2222222222222222,
          0.3333333333333333,
          0.4444444444444444,
          0.5555555555555556,
          0.6666666666666666,
          0.7777777777777777,
          0.8888888888888888,
          1
         ],
         "yaxis": "y9"
        },
        {
         "fill": "tonextx",
         "fillcolor": "rgb(89,185,92)",
         "legendgroup": "lac_stable",
         "line": {
          "width": 0
         },
         "mode": "lines",
         "name": "Monostable Lac",
         "showlegend": false,
         "type": "scatter",
         "x": [
          1,
          1,
          1,
          1,
          1,
          1,
          1,
          1,
          1,
          1
         ],
         "xaxis": "x9",
         "y": [
          0,
          0.1111111111111111,
          0.2222222222222222,
          0.3333333333333333,
          0.4444444444444444,
          0.5555555555555556,
          0.6666666666666666,
          0.7777777777777777,
          0.8888888888888888,
          1
         ],
         "yaxis": "y9"
        },
        {
         "fill": "tonextx",
         "fillcolor": "rgb(109,109,109)",
         "legendgroup": "unstable",
         "line": {
          "width": 0
         },
         "mode": "lines",
         "name": "Unstable",
         "showlegend": false,
         "type": "scatter",
         "x": [
          1,
          1,
          1,
          1,
          1,
          1,
          1,
          1,
          1,
          1
         ],
         "xaxis": "x9",
         "y": [
          0,
          0.1111111111111111,
          0.2222222222222222,
          0.3333333333333333,
          0.4444444444444444,
          0.5555555555555556,
          0.6666666666666666,
          0.7777777777777777,
          0.8888888888888888,
          1
         ],
         "yaxis": "y9"
        },
        {
         "fill": "tonextx",
         "fillcolor": "rgb(73,143,201)",
         "legendgroup": "bistable",
         "line": {
          "width": 0
         },
         "mode": "lines",
         "name": "Bistable",
         "showlegend": false,
         "type": "scatter",
         "x": [
          0.6666666666666666,
          0.6666666666666666,
          0.6666666666666666,
          0.6666666666666666,
          0.6666666666666666,
          0.6666666666666666,
          0.6666666666666666,
          0.6666666666666666,
          0.6666666666666666,
          0.6666666666666666
         ],
         "xaxis": "x6",
         "y": [
          0,
          0.1111111111111111,
          0.2222222222222222,
          0.3333333333333333,
          0.4444444444444444,
          0.5555555555555556,
          0.6666666666666666,
          0.7777777777777777,
          0.8888888888888888,
          1
         ],
         "yaxis": "y6"
        },
        {
         "fill": "tonextx",
         "fillcolor": "rgb(205,92,98)",
         "legendgroup": "tet_stable",
         "line": {
          "width": 0
         },
         "mode": "lines",
         "name": "Monostable Tet",
         "showlegend": false,
         "type": "scatter",
         "x": [
          1,
          1,
          1,
          1,
          1,
          1,
          1,
          1,
          1,
          1
         ],
         "xaxis": "x6",
         "y": [
          0,
          0.1111111111111111,
          0.2222222222222222,
          0.3333333333333333,
          0.4444444444444444,
          0.5555555555555556,
          0.6666666666666666,
          0.7777777777777777,
          0.8888888888888888,
          1
         ],
         "yaxis": "y6"
        },
        {
         "fill": "tonextx",
         "fillcolor": "rgb(89,185,92)",
         "legendgroup": "lac_stable",
         "line": {
          "width": 0
         },
         "mode": "lines",
         "name": "Monostable Lac",
         "showlegend": false,
         "type": "scatter",
         "x": [
          1,
          1,
          1,
          1,
          1,
          1,
          1,
          1,
          1,
          1
         ],
         "xaxis": "x6",
         "y": [
          0,
          0.1111111111111111,
          0.2222222222222222,
          0.3333333333333333,
          0.4444444444444444,
          0.5555555555555556,
          0.6666666666666666,
          0.7777777777777777,
          0.8888888888888888,
          1
         ],
         "yaxis": "y6"
        },
        {
         "fill": "tonextx",
         "fillcolor": "rgb(109,109,109)",
         "legendgroup": "unstable",
         "line": {
          "width": 0
         },
         "mode": "lines",
         "name": "Unstable",
         "showlegend": false,
         "type": "scatter",
         "x": [
          1,
          1,
          1,
          1,
          1,
          1,
          1,
          1,
          1,
          1
         ],
         "xaxis": "x6",
         "y": [
          0,
          0.1111111111111111,
          0.2222222222222222,
          0.3333333333333333,
          0.4444444444444444,
          0.5555555555555556,
          0.6666666666666666,
          0.7777777777777777,
          0.8888888888888888,
          1
         ],
         "yaxis": "y6"
        },
        {
         "fill": "tonextx",
         "fillcolor": "rgb(73,143,201)",
         "legendgroup": "bistable",
         "line": {
          "width": 0
         },
         "mode": "lines",
         "name": "Bistable",
         "showlegend": false,
         "type": "scatter",
         "x": [
          0.1111111111111111,
          0.1111111111111111,
          0.1111111111111111,
          0.1111111111111111,
          0.1111111111111111,
          0.1111111111111111,
          0.1111111111111111,
          0.1111111111111111,
          0.1111111111111111,
          0.1111111111111111
         ],
         "xaxis": "x3",
         "y": [
          0,
          0.1111111111111111,
          0.2222222222222222,
          0.3333333333333333,
          0.4444444444444444,
          0.5555555555555556,
          0.6666666666666666,
          0.7777777777777777,
          0.8888888888888888,
          1
         ],
         "yaxis": "y3"
        },
        {
         "fill": "tonextx",
         "fillcolor": "rgb(205,92,98)",
         "legendgroup": "tet_stable",
         "line": {
          "width": 0
         },
         "mode": "lines",
         "name": "Monostable Tet",
         "showlegend": false,
         "type": "scatter",
         "x": [
          0.3333333333333333,
          0.3333333333333333,
          0.3333333333333333,
          0.3333333333333333,
          0.3333333333333333,
          0.3333333333333333,
          0.3333333333333333,
          0.3333333333333333,
          0.3333333333333333,
          0.3333333333333333
         ],
         "xaxis": "x3",
         "y": [
          0,
          0.1111111111111111,
          0.2222222222222222,
          0.3333333333333333,
          0.4444444444444444,
          0.5555555555555556,
          0.6666666666666666,
          0.7777777777777777,
          0.8888888888888888,
          1
         ],
         "yaxis": "y3"
        },
        {
         "fill": "tonextx",
         "fillcolor": "rgb(89,185,92)",
         "legendgroup": "lac_stable",
         "line": {
          "width": 0
         },
         "mode": "lines",
         "name": "Monostable Lac",
         "showlegend": false,
         "type": "scatter",
         "x": [
          0.7777777777777777,
          0.7777777777777777,
          0.7777777777777777,
          0.7777777777777777,
          0.7777777777777777,
          0.7777777777777777,
          0.7777777777777777,
          0.7777777777777777,
          0.7777777777777777,
          0.7777777777777777
         ],
         "xaxis": "x3",
         "y": [
          0,
          0.1111111111111111,
          0.2222222222222222,
          0.3333333333333333,
          0.4444444444444444,
          0.5555555555555556,
          0.6666666666666666,
          0.7777777777777777,
          0.8888888888888888,
          1
         ],
         "yaxis": "y3"
        },
        {
         "fill": "tonextx",
         "fillcolor": "rgb(109,109,109)",
         "legendgroup": "unstable",
         "line": {
          "width": 0
         },
         "mode": "lines",
         "name": "Unstable",
         "showlegend": false,
         "type": "scatter",
         "x": [
          0.9999999999999999,
          0.9999999999999999,
          0.9999999999999999,
          0.9999999999999999,
          0.9999999999999999,
          0.9999999999999999,
          0.9999999999999999,
          0.9999999999999999,
          0.9999999999999999,
          0.9999999999999999
         ],
         "xaxis": "x3",
         "y": [
          0,
          0.1111111111111111,
          0.2222222222222222,
          0.3333333333333333,
          0.4444444444444444,
          0.5555555555555556,
          0.6666666666666666,
          0.7777777777777777,
          0.8888888888888888,
          1
         ],
         "yaxis": "y3"
        }
       ],
       "layout": {
        "annotations": [
         {
          "font": {
           "color": "black",
           "family": "Myriad Pro",
           "size": 18
          },
          "showarrow": false,
          "text": "94%",
          "x": 0.46875,
          "xref": "x7",
          "y": 0.5,
          "yref": "y7"
         },
         {
          "font": {
           "color": "black",
           "family": "Myriad Pro",
           "size": 18
          },
          "showarrow": false,
          "text": "6%",
          "x": 0.96875,
          "xref": "x7",
          "y": 0.5,
          "yref": "y7"
         },
         {
          "font": {
           "color": "black",
           "family": "Myriad Pro",
           "size": 18
          },
          "showarrow": false,
          "text": "n = 16",
          "x": 0.5,
          "xref": "x7",
          "y": 0.8,
          "yref": "y7"
         },
         {
          "font": {
           "color": "black",
           "family": "Myriad Pro",
           "size": 18
          },
          "showarrow": false,
          "text": "67%",
          "x": 0.3333333333333333,
          "xref": "x4",
          "y": 0.5,
          "yref": "y4"
         },
         {
          "font": {
           "color": "black",
           "family": "Myriad Pro",
           "size": 18
          },
          "showarrow": false,
          "text": "8%",
          "x": 0.7083333333333333,
          "xref": "x4",
          "y": 0.5,
          "yref": "y4"
         },
         {
          "font": {
           "color": "black",
           "family": "Myriad Pro",
           "size": 18
          },
          "showarrow": false,
          "text": "25%",
          "x": 0.875,
          "xref": "x4",
          "y": 0.5,
          "yref": "y4"
         },
         {
          "font": {
           "color": "black",
           "family": "Myriad Pro",
           "size": 18
          },
          "showarrow": false,
          "text": "n = 12",
          "x": 0.5,
          "xref": "x4",
          "y": 0.8,
          "yref": "y4"
         },
         {
          "font": {
           "color": "black",
           "family": "Myriad Pro",
           "size": 18
          },
          "showarrow": false,
          "text": "17%",
          "x": 0.08333333333333333,
          "xref": "x",
          "y": 0.5,
          "yref": "y"
         },
         {
          "font": {
           "color": "black",
           "family": "Myriad Pro",
           "size": 18
          },
          "showarrow": false,
          "text": "75%",
          "x": 0.5416666666666666,
          "xref": "x",
          "y": 0.5,
          "yref": "y"
         },
         {
          "font": {
           "color": "black",
           "family": "Myriad Pro",
           "size": 18
          },
          "showarrow": false,
          "text": "8%",
          "x": 0.9583333333333333,
          "xref": "x",
          "y": 0.5,
          "yref": "y"
         },
         {
          "font": {
           "color": "black",
           "family": "Myriad Pro",
           "size": 18
          },
          "showarrow": false,
          "text": "n = 12",
          "x": 0.5,
          "xref": "x",
          "y": 0.8,
          "yref": "y"
         },
         {
          "font": {
           "color": "black",
           "family": "Myriad Pro",
           "size": 18
          },
          "showarrow": false,
          "text": "75%",
          "x": 0.375,
          "xref": "x8",
          "y": 0.5,
          "yref": "y8"
         },
         {
          "font": {
           "color": "black",
           "family": "Myriad Pro",
           "size": 18
          },
          "showarrow": false,
          "text": "25%",
          "x": 0.875,
          "xref": "x8",
          "y": 0.5,
          "yref": "y8"
         },
         {
          "font": {
           "color": "black",
           "family": "Myriad Pro",
           "size": 18
          },
          "showarrow": false,
          "text": "n = 12",
          "x": 0.5,
          "xref": "x8",
          "y": 0.8,
          "yref": "y8"
         },
         {
          "font": {
           "color": "black",
           "family": "Myriad Pro",
           "size": 18
          },
          "showarrow": false,
          "text": "67%",
          "x": 0.3333333333333333,
          "xref": "x5",
          "y": 0.5,
          "yref": "y5"
         },
         {
          "font": {
           "color": "black",
           "family": "Myriad Pro",
           "size": 18
          },
          "showarrow": false,
          "text": "22%",
          "x": 0.7777777777777777,
          "xref": "x5",
          "y": 0.5,
          "yref": "y5"
         },
         {
          "font": {
           "color": "black",
           "family": "Myriad Pro",
           "size": 18
          },
          "showarrow": false,
          "text": "11%",
          "x": 0.9444444444444444,
          "xref": "x5",
          "y": 0.5,
          "yref": "y5"
         },
         {
          "font": {
           "color": "black",
           "family": "Myriad Pro",
           "size": 18
          },
          "showarrow": false,
          "text": "n = 9",
          "x": 0.5,
          "xref": "x5",
          "y": 0.8,
          "yref": "y5"
         },
         {
          "font": {
           "color": "black",
           "family": "Myriad Pro",
           "size": 18
          },
          "showarrow": false,
          "text": "11%",
          "x": 0.05555555555555555,
          "xref": "x2",
          "y": 0.5,
          "yref": "y2"
         },
         {
          "font": {
           "color": "black",
           "family": "Myriad Pro",
           "size": 18
          },
          "showarrow": false,
          "text": "11%",
          "x": 0.16666666666666666,
          "xref": "x2",
          "y": 0.5,
          "yref": "y2"
         },
         {
          "font": {
           "color": "black",
           "family": "Myriad Pro",
           "size": 18
          },
          "showarrow": false,
          "text": "44%",
          "x": 0.4444444444444444,
          "xref": "x2",
          "y": 0.5,
          "yref": "y2"
         },
         {
          "font": {
           "color": "black",
           "family": "Myriad Pro",
           "size": 18
          },
          "showarrow": false,
          "text": "33%",
          "x": 0.8333333333333333,
          "xref": "x2",
          "y": 0.5,
          "yref": "y2"
         },
         {
          "font": {
           "color": "black",
           "family": "Myriad Pro",
           "size": 18
          },
          "showarrow": false,
          "text": "n = 9",
          "x": 0.5,
          "xref": "x2",
          "y": 0.8,
          "yref": "y2"
         },
         {
          "font": {
           "color": "black",
           "family": "Myriad Pro",
           "size": 18
          },
          "showarrow": false,
          "text": "75%",
          "x": 0.375,
          "xref": "x9",
          "y": 0.5,
          "yref": "y9"
         },
         {
          "font": {
           "color": "black",
           "family": "Myriad Pro",
           "size": 18
          },
          "showarrow": false,
          "text": "25%",
          "x": 0.875,
          "xref": "x9",
          "y": 0.5,
          "yref": "y9"
         },
         {
          "font": {
           "color": "black",
           "family": "Myriad Pro",
           "size": 18
          },
          "showarrow": false,
          "text": "n = 12",
          "x": 0.5,
          "xref": "x9",
          "y": 0.8,
          "yref": "y9"
         },
         {
          "font": {
           "color": "black",
           "family": "Myriad Pro",
           "size": 18
          },
          "showarrow": false,
          "text": "67%",
          "x": 0.3333333333333333,
          "xref": "x6",
          "y": 0.5,
          "yref": "y6"
         },
         {
          "font": {
           "color": "black",
           "family": "Myriad Pro",
           "size": 18
          },
          "showarrow": false,
          "text": "33%",
          "x": 0.8333333333333333,
          "xref": "x6",
          "y": 0.5,
          "yref": "y6"
         },
         {
          "font": {
           "color": "black",
           "family": "Myriad Pro",
           "size": 18
          },
          "showarrow": false,
          "text": "n = 9",
          "x": 0.5,
          "xref": "x6",
          "y": 0.8,
          "yref": "y6"
         },
         {
          "font": {
           "color": "black",
           "family": "Myriad Pro",
           "size": 18
          },
          "showarrow": false,
          "text": "11%",
          "x": 0.05555555555555555,
          "xref": "x3",
          "y": 0.5,
          "yref": "y3"
         },
         {
          "font": {
           "color": "black",
           "family": "Myriad Pro",
           "size": 18
          },
          "showarrow": false,
          "text": "22%",
          "x": 0.2222222222222222,
          "xref": "x3",
          "y": 0.5,
          "yref": "y3"
         },
         {
          "font": {
           "color": "black",
           "family": "Myriad Pro",
           "size": 18
          },
          "showarrow": false,
          "text": "44%",
          "x": 0.5555555555555555,
          "xref": "x3",
          "y": 0.5,
          "yref": "y3"
         },
         {
          "font": {
           "color": "black",
           "family": "Myriad Pro",
           "size": 18
          },
          "showarrow": false,
          "text": "22%",
          "x": 0.8888888888888888,
          "xref": "x3",
          "y": 0.5,
          "yref": "y3"
         },
         {
          "font": {
           "color": "black",
           "family": "Myriad Pro",
           "size": 18
          },
          "showarrow": false,
          "text": "n = 9",
          "x": 0.5,
          "xref": "x3",
          "y": 0.8,
          "yref": "y3"
         }
        ],
        "height": 600,
        "legend": {
         "font": {
          "color": "black",
          "family": "Myriad Pro",
          "size": 18
         }
        },
        "template": {
         "data": {
          "bar": [
           {
            "error_x": {
             "color": "#2a3f5f"
            },
            "error_y": {
             "color": "#2a3f5f"
            },
            "marker": {
             "line": {
              "color": "white",
              "width": 0.5
             }
            },
            "type": "bar"
           }
          ],
          "barpolar": [
           {
            "marker": {
             "line": {
              "color": "white",
              "width": 0.5
             }
            },
            "type": "barpolar"
           }
          ],
          "carpet": [
           {
            "aaxis": {
             "endlinecolor": "#2a3f5f",
             "gridcolor": "#C8D4E3",
             "linecolor": "#C8D4E3",
             "minorgridcolor": "#C8D4E3",
             "startlinecolor": "#2a3f5f"
            },
            "baxis": {
             "endlinecolor": "#2a3f5f",
             "gridcolor": "#C8D4E3",
             "linecolor": "#C8D4E3",
             "minorgridcolor": "#C8D4E3",
             "startlinecolor": "#2a3f5f"
            },
            "type": "carpet"
           }
          ],
          "choropleth": [
           {
            "colorbar": {
             "outlinewidth": 0,
             "ticks": ""
            },
            "type": "choropleth"
           }
          ],
          "contour": [
           {
            "colorbar": {
             "outlinewidth": 0,
             "ticks": ""
            },
            "colorscale": [
             [
              0,
              "#0d0887"
             ],
             [
              0.1111111111111111,
              "#46039f"
             ],
             [
              0.2222222222222222,
              "#7201a8"
             ],
             [
              0.3333333333333333,
              "#9c179e"
             ],
             [
              0.4444444444444444,
              "#bd3786"
             ],
             [
              0.5555555555555556,
              "#d8576b"
             ],
             [
              0.6666666666666666,
              "#ed7953"
             ],
             [
              0.7777777777777778,
              "#fb9f3a"
             ],
             [
              0.8888888888888888,
              "#fdca26"
             ],
             [
              1,
              "#f0f921"
             ]
            ],
            "type": "contour"
           }
          ],
          "contourcarpet": [
           {
            "colorbar": {
             "outlinewidth": 0,
             "ticks": ""
            },
            "type": "contourcarpet"
           }
          ],
          "heatmap": [
           {
            "colorbar": {
             "outlinewidth": 0,
             "ticks": ""
            },
            "colorscale": [
             [
              0,
              "#0d0887"
             ],
             [
              0.1111111111111111,
              "#46039f"
             ],
             [
              0.2222222222222222,
              "#7201a8"
             ],
             [
              0.3333333333333333,
              "#9c179e"
             ],
             [
              0.4444444444444444,
              "#bd3786"
             ],
             [
              0.5555555555555556,
              "#d8576b"
             ],
             [
              0.6666666666666666,
              "#ed7953"
             ],
             [
              0.7777777777777778,
              "#fb9f3a"
             ],
             [
              0.8888888888888888,
              "#fdca26"
             ],
             [
              1,
              "#f0f921"
             ]
            ],
            "type": "heatmap"
           }
          ],
          "heatmapgl": [
           {
            "colorbar": {
             "outlinewidth": 0,
             "ticks": ""
            },
            "colorscale": [
             [
              0,
              "#0d0887"
             ],
             [
              0.1111111111111111,
              "#46039f"
             ],
             [
              0.2222222222222222,
              "#7201a8"
             ],
             [
              0.3333333333333333,
              "#9c179e"
             ],
             [
              0.4444444444444444,
              "#bd3786"
             ],
             [
              0.5555555555555556,
              "#d8576b"
             ],
             [
              0.6666666666666666,
              "#ed7953"
             ],
             [
              0.7777777777777778,
              "#fb9f3a"
             ],
             [
              0.8888888888888888,
              "#fdca26"
             ],
             [
              1,
              "#f0f921"
             ]
            ],
            "type": "heatmapgl"
           }
          ],
          "histogram": [
           {
            "marker": {
             "colorbar": {
              "outlinewidth": 0,
              "ticks": ""
             }
            },
            "type": "histogram"
           }
          ],
          "histogram2d": [
           {
            "colorbar": {
             "outlinewidth": 0,
             "ticks": ""
            },
            "colorscale": [
             [
              0,
              "#0d0887"
             ],
             [
              0.1111111111111111,
              "#46039f"
             ],
             [
              0.2222222222222222,
              "#7201a8"
             ],
             [
              0.3333333333333333,
              "#9c179e"
             ],
             [
              0.4444444444444444,
              "#bd3786"
             ],
             [
              0.5555555555555556,
              "#d8576b"
             ],
             [
              0.6666666666666666,
              "#ed7953"
             ],
             [
              0.7777777777777778,
              "#fb9f3a"
             ],
             [
              0.8888888888888888,
              "#fdca26"
             ],
             [
              1,
              "#f0f921"
             ]
            ],
            "type": "histogram2d"
           }
          ],
          "histogram2dcontour": [
           {
            "colorbar": {
             "outlinewidth": 0,
             "ticks": ""
            },
            "colorscale": [
             [
              0,
              "#0d0887"
             ],
             [
              0.1111111111111111,
              "#46039f"
             ],
             [
              0.2222222222222222,
              "#7201a8"
             ],
             [
              0.3333333333333333,
              "#9c179e"
             ],
             [
              0.4444444444444444,
              "#bd3786"
             ],
             [
              0.5555555555555556,
              "#d8576b"
             ],
             [
              0.6666666666666666,
              "#ed7953"
             ],
             [
              0.7777777777777778,
              "#fb9f3a"
             ],
             [
              0.8888888888888888,
              "#fdca26"
             ],
             [
              1,
              "#f0f921"
             ]
            ],
            "type": "histogram2dcontour"
           }
          ],
          "mesh3d": [
           {
            "colorbar": {
             "outlinewidth": 0,
             "ticks": ""
            },
            "type": "mesh3d"
           }
          ],
          "parcoords": [
           {
            "line": {
             "colorbar": {
              "outlinewidth": 0,
              "ticks": ""
             }
            },
            "type": "parcoords"
           }
          ],
          "pie": [
           {
            "automargin": true,
            "type": "pie"
           }
          ],
          "scatter": [
           {
            "marker": {
             "colorbar": {
              "outlinewidth": 0,
              "ticks": ""
             }
            },
            "type": "scatter"
           }
          ],
          "scatter3d": [
           {
            "line": {
             "colorbar": {
              "outlinewidth": 0,
              "ticks": ""
             }
            },
            "marker": {
             "colorbar": {
              "outlinewidth": 0,
              "ticks": ""
             }
            },
            "type": "scatter3d"
           }
          ],
          "scattercarpet": [
           {
            "marker": {
             "colorbar": {
              "outlinewidth": 0,
              "ticks": ""
             }
            },
            "type": "scattercarpet"
           }
          ],
          "scattergeo": [
           {
            "marker": {
             "colorbar": {
              "outlinewidth": 0,
              "ticks": ""
             }
            },
            "type": "scattergeo"
           }
          ],
          "scattergl": [
           {
            "marker": {
             "colorbar": {
              "outlinewidth": 0,
              "ticks": ""
             }
            },
            "type": "scattergl"
           }
          ],
          "scattermapbox": [
           {
            "marker": {
             "colorbar": {
              "outlinewidth": 0,
              "ticks": ""
             }
            },
            "type": "scattermapbox"
           }
          ],
          "scatterpolar": [
           {
            "marker": {
             "colorbar": {
              "outlinewidth": 0,
              "ticks": ""
             }
            },
            "type": "scatterpolar"
           }
          ],
          "scatterpolargl": [
           {
            "marker": {
             "colorbar": {
              "outlinewidth": 0,
              "ticks": ""
             }
            },
            "type": "scatterpolargl"
           }
          ],
          "scatterternary": [
           {
            "marker": {
             "colorbar": {
              "outlinewidth": 0,
              "ticks": ""
             }
            },
            "type": "scatterternary"
           }
          ],
          "surface": [
           {
            "colorbar": {
             "outlinewidth": 0,
             "ticks": ""
            },
            "colorscale": [
             [
              0,
              "#0d0887"
             ],
             [
              0.1111111111111111,
              "#46039f"
             ],
             [
              0.2222222222222222,
              "#7201a8"
             ],
             [
              0.3333333333333333,
              "#9c179e"
             ],
             [
              0.4444444444444444,
              "#bd3786"
             ],
             [
              0.5555555555555556,
              "#d8576b"
             ],
             [
              0.6666666666666666,
              "#ed7953"
             ],
             [
              0.7777777777777778,
              "#fb9f3a"
             ],
             [
              0.8888888888888888,
              "#fdca26"
             ],
             [
              1,
              "#f0f921"
             ]
            ],
            "type": "surface"
           }
          ],
          "table": [
           {
            "cells": {
             "fill": {
              "color": "#EBF0F8"
             },
             "line": {
              "color": "white"
             }
            },
            "header": {
             "fill": {
              "color": "#C8D4E3"
             },
             "line": {
              "color": "white"
             }
            },
            "type": "table"
           }
          ]
         },
         "layout": {
          "annotationdefaults": {
           "arrowcolor": "#2a3f5f",
           "arrowhead": 0,
           "arrowwidth": 1
          },
          "autotypenumbers": "strict",
          "coloraxis": {
           "colorbar": {
            "outlinewidth": 0,
            "ticks": ""
           }
          },
          "colorscale": {
           "diverging": [
            [
             0,
             "#8e0152"
            ],
            [
             0.1,
             "#c51b7d"
            ],
            [
             0.2,
             "#de77ae"
            ],
            [
             0.3,
             "#f1b6da"
            ],
            [
             0.4,
             "#fde0ef"
            ],
            [
             0.5,
             "#f7f7f7"
            ],
            [
             0.6,
             "#e6f5d0"
            ],
            [
             0.7,
             "#b8e186"
            ],
            [
             0.8,
             "#7fbc41"
            ],
            [
             0.9,
             "#4d9221"
            ],
            [
             1,
             "#276419"
            ]
           ],
           "sequential": [
            [
             0,
             "#0d0887"
            ],
            [
             0.1111111111111111,
             "#46039f"
            ],
            [
             0.2222222222222222,
             "#7201a8"
            ],
            [
             0.3333333333333333,
             "#9c179e"
            ],
            [
             0.4444444444444444,
             "#bd3786"
            ],
            [
             0.5555555555555556,
             "#d8576b"
            ],
            [
             0.6666666666666666,
             "#ed7953"
            ],
            [
             0.7777777777777778,
             "#fb9f3a"
            ],
            [
             0.8888888888888888,
             "#fdca26"
            ],
            [
             1,
             "#f0f921"
            ]
           ],
           "sequentialminus": [
            [
             0,
             "#0d0887"
            ],
            [
             0.1111111111111111,
             "#46039f"
            ],
            [
             0.2222222222222222,
             "#7201a8"
            ],
            [
             0.3333333333333333,
             "#9c179e"
            ],
            [
             0.4444444444444444,
             "#bd3786"
            ],
            [
             0.5555555555555556,
             "#d8576b"
            ],
            [
             0.6666666666666666,
             "#ed7953"
            ],
            [
             0.7777777777777778,
             "#fb9f3a"
            ],
            [
             0.8888888888888888,
             "#fdca26"
            ],
            [
             1,
             "#f0f921"
            ]
           ]
          },
          "colorway": [
           "#636efa",
           "#EF553B",
           "#00cc96",
           "#ab63fa",
           "#FFA15A",
           "#19d3f3",
           "#FF6692",
           "#B6E880",
           "#FF97FF",
           "#FECB52"
          ],
          "font": {
           "color": "#2a3f5f"
          },
          "geo": {
           "bgcolor": "white",
           "lakecolor": "white",
           "landcolor": "white",
           "showlakes": true,
           "showland": true,
           "subunitcolor": "#C8D4E3"
          },
          "hoverlabel": {
           "align": "left"
          },
          "hovermode": "closest",
          "mapbox": {
           "style": "light"
          },
          "paper_bgcolor": "white",
          "plot_bgcolor": "white",
          "polar": {
           "angularaxis": {
            "gridcolor": "#EBF0F8",
            "linecolor": "#EBF0F8",
            "ticks": ""
           },
           "bgcolor": "white",
           "radialaxis": {
            "gridcolor": "#EBF0F8",
            "linecolor": "#EBF0F8",
            "ticks": ""
           }
          },
          "scene": {
           "xaxis": {
            "backgroundcolor": "white",
            "gridcolor": "#DFE8F3",
            "gridwidth": 2,
            "linecolor": "#EBF0F8",
            "showbackground": true,
            "ticks": "",
            "zerolinecolor": "#EBF0F8"
           },
           "yaxis": {
            "backgroundcolor": "white",
            "gridcolor": "#DFE8F3",
            "gridwidth": 2,
            "linecolor": "#EBF0F8",
            "showbackground": true,
            "ticks": "",
            "zerolinecolor": "#EBF0F8"
           },
           "zaxis": {
            "backgroundcolor": "white",
            "gridcolor": "#DFE8F3",
            "gridwidth": 2,
            "linecolor": "#EBF0F8",
            "showbackground": true,
            "ticks": "",
            "zerolinecolor": "#EBF0F8"
           }
          },
          "shapedefaults": {
           "line": {
            "color": "#2a3f5f"
           }
          },
          "ternary": {
           "aaxis": {
            "gridcolor": "#DFE8F3",
            "linecolor": "#A2B1C6",
            "ticks": ""
           },
           "baxis": {
            "gridcolor": "#DFE8F3",
            "linecolor": "#A2B1C6",
            "ticks": ""
           },
           "bgcolor": "white",
           "caxis": {
            "gridcolor": "#DFE8F3",
            "linecolor": "#A2B1C6",
            "ticks": ""
           }
          },
          "title": {
           "x": 0.05
          },
          "xaxis": {
           "automargin": true,
           "gridcolor": "#EBF0F8",
           "linecolor": "#EBF0F8",
           "ticks": "",
           "title": {
            "standoff": 15
           },
           "zerolinecolor": "#EBF0F8",
           "zerolinewidth": 2
          },
          "yaxis": {
           "automargin": true,
           "gridcolor": "#EBF0F8",
           "linecolor": "#EBF0F8",
           "ticks": "",
           "title": {
            "standoff": 15
           },
           "zerolinecolor": "#EBF0F8",
           "zerolinewidth": 2
          }
         }
        },
        "title": {
         "font": {
          "color": "black",
          "family": "Myriad Pro",
          "size": 18
         },
         "text": "Replicates"
        },
        "width": 675,
        "xaxis": {
         "anchor": "y",
         "domain": [
          0,
          0.32666666666666666
         ],
         "linecolor": "black",
         "linewidth": 1,
         "mirror": true,
         "nticks": 10,
         "range": [
          0,
          1
         ],
         "showgrid": true,
         "showline": true,
         "showticklabels": false,
         "tickangle": 0,
         "tickcolor": "black",
         "tickfont": {
          "color": "black",
          "family": "Myriad Pro",
          "size": 18
         },
         "ticklen": 0,
         "ticks": "outside",
         "title": {
          "font": {
           "color": "black",
           "family": "Myriad Pro",
           "size": 24
          },
          "standoff": 10
         },
         "zeroline": false
        },
        "xaxis2": {
         "anchor": "y2",
         "domain": [
          0.33666666666666667,
          0.6633333333333333
         ],
         "linecolor": "black",
         "linewidth": 1,
         "mirror": true,
         "nticks": 10,
         "range": [
          0,
          1
         ],
         "showgrid": true,
         "showline": true,
         "showticklabels": false,
         "tickangle": 0,
         "tickcolor": "black",
         "tickfont": {
          "color": "black",
          "family": "Myriad Pro",
          "size": 18
         },
         "ticklen": 0,
         "ticks": "outside",
         "title": {
          "font": {
           "color": "black",
           "family": "Myriad Pro",
           "size": 24
          },
          "standoff": 10
         },
         "zeroline": false
        },
        "xaxis3": {
         "anchor": "y3",
         "domain": [
          0.6733333333333333,
          1
         ],
         "linecolor": "black",
         "linewidth": 1,
         "mirror": true,
         "nticks": 10,
         "range": [
          0,
          1
         ],
         "showgrid": true,
         "showline": true,
         "showticklabels": false,
         "tickangle": 0,
         "tickcolor": "black",
         "tickfont": {
          "color": "black",
          "family": "Myriad Pro",
          "size": 18
         },
         "ticklen": 0,
         "ticks": "outside",
         "title": {
          "font": {
           "color": "black",
           "family": "Myriad Pro",
           "size": 24
          },
          "standoff": 10
         },
         "zeroline": false
        },
        "xaxis4": {
         "anchor": "y4",
         "domain": [
          0,
          0.32666666666666666
         ],
         "linecolor": "black",
         "linewidth": 1,
         "mirror": true,
         "nticks": 10,
         "range": [
          0,
          1
         ],
         "showgrid": true,
         "showline": true,
         "showticklabels": false,
         "tickangle": 0,
         "tickcolor": "black",
         "tickfont": {
          "color": "black",
          "family": "Myriad Pro",
          "size": 18
         },
         "ticklen": 0,
         "ticks": "outside",
         "title": {
          "font": {
           "color": "black",
           "family": "Myriad Pro",
           "size": 24
          },
          "standoff": 10
         },
         "zeroline": false
        },
        "xaxis5": {
         "anchor": "y5",
         "domain": [
          0.33666666666666667,
          0.6633333333333333
         ],
         "linecolor": "black",
         "linewidth": 1,
         "mirror": true,
         "nticks": 10,
         "range": [
          0,
          1
         ],
         "showgrid": true,
         "showline": true,
         "showticklabels": false,
         "tickangle": 0,
         "tickcolor": "black",
         "tickfont": {
          "color": "black",
          "family": "Myriad Pro",
          "size": 18
         },
         "ticklen": 0,
         "ticks": "outside",
         "title": {
          "font": {
           "color": "black",
           "family": "Myriad Pro",
           "size": 24
          },
          "standoff": 10
         },
         "zeroline": false
        },
        "xaxis6": {
         "anchor": "y6",
         "domain": [
          0.6733333333333333,
          1
         ],
         "linecolor": "black",
         "linewidth": 1,
         "mirror": true,
         "nticks": 10,
         "range": [
          0,
          1
         ],
         "showgrid": true,
         "showline": true,
         "showticklabels": false,
         "tickangle": 0,
         "tickcolor": "black",
         "tickfont": {
          "color": "black",
          "family": "Myriad Pro",
          "size": 18
         },
         "ticklen": 0,
         "ticks": "outside",
         "title": {
          "font": {
           "color": "black",
           "family": "Myriad Pro",
           "size": 24
          },
          "standoff": 10
         },
         "zeroline": false
        },
        "xaxis7": {
         "anchor": "y7",
         "domain": [
          0,
          0.32666666666666666
         ],
         "linecolor": "black",
         "linewidth": 1,
         "mirror": true,
         "nticks": 10,
         "range": [
          0,
          1
         ],
         "showgrid": true,
         "showline": true,
         "showticklabels": false,
         "tickangle": 0,
         "tickcolor": "black",
         "tickfont": {
          "color": "black",
          "family": "Myriad Pro",
          "size": 18
         },
         "ticklen": 0,
         "ticks": "outside",
         "title": {
          "font": {
           "color": "black",
           "family": "Myriad Pro",
           "size": 24
          },
          "standoff": 10,
          "text": "Low"
         },
         "zeroline": false
        },
        "xaxis8": {
         "anchor": "y8",
         "domain": [
          0.33666666666666667,
          0.6633333333333333
         ],
         "linecolor": "black",
         "linewidth": 1,
         "mirror": true,
         "nticks": 10,
         "range": [
          0,
          1
         ],
         "showgrid": true,
         "showline": true,
         "showticklabels": false,
         "tickangle": 0,
         "tickcolor": "black",
         "tickfont": {
          "color": "black",
          "family": "Myriad Pro",
          "size": 18
         },
         "ticklen": 0,
         "ticks": "outside",
         "title": {
          "font": {
           "color": "black",
           "family": "Myriad Pro",
           "size": 24
          },
          "standoff": 10,
          "text": "Mid"
         },
         "zeroline": false
        },
        "xaxis9": {
         "anchor": "y9",
         "domain": [
          0.6733333333333333,
          1
         ],
         "linecolor": "black",
         "linewidth": 1,
         "mirror": true,
         "nticks": 10,
         "range": [
          0,
          1
         ],
         "showgrid": true,
         "showline": true,
         "showticklabels": false,
         "tickangle": 0,
         "tickcolor": "black",
         "tickfont": {
          "color": "black",
          "family": "Myriad Pro",
          "size": 18
         },
         "ticklen": 0,
         "ticks": "outside",
         "title": {
          "font": {
           "color": "black",
           "family": "Myriad Pro",
           "size": 24
          },
          "standoff": 10,
          "text": "High"
         },
         "zeroline": false
        },
        "yaxis": {
         "anchor": "x",
         "domain": [
          0.6733333333333333,
          1
         ],
         "linecolor": "black",
         "linewidth": 1,
         "mirror": true,
         "nticks": 10,
         "range": [
          0,
          1
         ],
         "showgrid": true,
         "showline": true,
         "showticklabels": false,
         "tickangle": 0,
         "tickcolor": "black",
         "tickfont": {
          "color": "black",
          "family": "Myriad Pro",
          "size": 18
         },
         "ticklen": 0,
         "ticks": "outside",
         "title": {
          "font": {
           "color": "black",
           "family": "Myriad Pro",
           "size": 24
          },
          "standoff": 0,
          "text": "High"
         },
         "zeroline": false
        },
        "yaxis2": {
         "anchor": "x2",
         "domain": [
          0.6733333333333333,
          1
         ],
         "linecolor": "black",
         "linewidth": 1,
         "mirror": true,
         "nticks": 10,
         "range": [
          0,
          1
         ],
         "showgrid": true,
         "showline": true,
         "showticklabels": false,
         "tickangle": 0,
         "tickcolor": "black",
         "tickfont": {
          "color": "black",
          "family": "Myriad Pro",
          "size": 18
         },
         "ticklen": 0,
         "ticks": "outside",
         "title": {
          "font": {
           "color": "black",
           "family": "Myriad Pro",
           "size": 24
          },
          "standoff": 0
         },
         "zeroline": false
        },
        "yaxis3": {
         "anchor": "x3",
         "domain": [
          0.6733333333333333,
          1
         ],
         "linecolor": "black",
         "linewidth": 1,
         "mirror": true,
         "nticks": 10,
         "range": [
          0,
          1
         ],
         "showgrid": true,
         "showline": true,
         "showticklabels": false,
         "tickangle": 0,
         "tickcolor": "black",
         "tickfont": {
          "color": "black",
          "family": "Myriad Pro",
          "size": 18
         },
         "ticklen": 0,
         "ticks": "outside",
         "title": {
          "font": {
           "color": "black",
           "family": "Myriad Pro",
           "size": 24
          },
          "standoff": 0
         },
         "zeroline": false
        },
        "yaxis4": {
         "anchor": "x4",
         "domain": [
          0.33666666666666667,
          0.6633333333333333
         ],
         "linecolor": "black",
         "linewidth": 1,
         "mirror": true,
         "nticks": 10,
         "range": [
          0,
          1
         ],
         "showgrid": true,
         "showline": true,
         "showticklabels": false,
         "tickangle": 0,
         "tickcolor": "black",
         "tickfont": {
          "color": "black",
          "family": "Myriad Pro",
          "size": 18
         },
         "ticklen": 0,
         "ticks": "outside",
         "title": {
          "font": {
           "color": "black",
           "family": "Myriad Pro",
           "size": 24
          },
          "standoff": 0,
          "text": "Mid"
         },
         "zeroline": false
        },
        "yaxis5": {
         "anchor": "x5",
         "domain": [
          0.33666666666666667,
          0.6633333333333333
         ],
         "linecolor": "black",
         "linewidth": 1,
         "mirror": true,
         "nticks": 10,
         "range": [
          0,
          1
         ],
         "showgrid": true,
         "showline": true,
         "showticklabels": false,
         "tickangle": 0,
         "tickcolor": "black",
         "tickfont": {
          "color": "black",
          "family": "Myriad Pro",
          "size": 18
         },
         "ticklen": 0,
         "ticks": "outside",
         "title": {
          "font": {
           "color": "black",
           "family": "Myriad Pro",
           "size": 24
          },
          "standoff": 0
         },
         "zeroline": false
        },
        "yaxis6": {
         "anchor": "x6",
         "domain": [
          0.33666666666666667,
          0.6633333333333333
         ],
         "linecolor": "black",
         "linewidth": 1,
         "mirror": true,
         "nticks": 10,
         "range": [
          0,
          1
         ],
         "showgrid": true,
         "showline": true,
         "showticklabels": false,
         "tickangle": 0,
         "tickcolor": "black",
         "tickfont": {
          "color": "black",
          "family": "Myriad Pro",
          "size": 18
         },
         "ticklen": 0,
         "ticks": "outside",
         "title": {
          "font": {
           "color": "black",
           "family": "Myriad Pro",
           "size": 24
          },
          "standoff": 0
         },
         "zeroline": false
        },
        "yaxis7": {
         "anchor": "x7",
         "domain": [
          0,
          0.32666666666666666
         ],
         "linecolor": "black",
         "linewidth": 1,
         "mirror": true,
         "nticks": 10,
         "range": [
          0,
          1
         ],
         "showgrid": true,
         "showline": true,
         "showticklabels": false,
         "tickangle": 0,
         "tickcolor": "black",
         "tickfont": {
          "color": "black",
          "family": "Myriad Pro",
          "size": 18
         },
         "ticklen": 0,
         "ticks": "outside",
         "title": {
          "font": {
           "color": "black",
           "family": "Myriad Pro",
           "size": 24
          },
          "standoff": 0,
          "text": "Low"
         },
         "zeroline": false
        },
        "yaxis8": {
         "anchor": "x8",
         "domain": [
          0,
          0.32666666666666666
         ],
         "linecolor": "black",
         "linewidth": 1,
         "mirror": true,
         "nticks": 10,
         "range": [
          0,
          1
         ],
         "showgrid": true,
         "showline": true,
         "showticklabels": false,
         "tickangle": 0,
         "tickcolor": "black",
         "tickfont": {
          "color": "black",
          "family": "Myriad Pro",
          "size": 18
         },
         "ticklen": 0,
         "ticks": "outside",
         "title": {
          "font": {
           "color": "black",
           "family": "Myriad Pro",
           "size": 24
          },
          "standoff": 0
         },
         "zeroline": false
        },
        "yaxis9": {
         "anchor": "x9",
         "domain": [
          0,
          0.32666666666666666
         ],
         "linecolor": "black",
         "linewidth": 1,
         "mirror": true,
         "nticks": 10,
         "range": [
          0,
          1
         ],
         "showgrid": true,
         "showline": true,
         "showticklabels": false,
         "tickangle": 0,
         "tickcolor": "black",
         "tickfont": {
          "color": "black",
          "family": "Myriad Pro",
          "size": 18
         },
         "ticklen": 0,
         "ticks": "outside",
         "title": {
          "font": {
           "color": "black",
           "family": "Myriad Pro",
           "size": 24
          },
          "standoff": 0
         },
         "zeroline": false
        }
       }
      },
      "text/html": [
       "<div>                            <div id=\"00dc8ce7-b07f-4a29-881f-4c9a3ec878e4\" class=\"plotly-graph-div\" style=\"height:600px; width:675px;\"></div>            <script type=\"text/javascript\">                require([\"plotly\"], function(Plotly) {                    window.PLOTLYENV=window.PLOTLYENV || {};                                    if (document.getElementById(\"00dc8ce7-b07f-4a29-881f-4c9a3ec878e4\")) {                    Plotly.newPlot(                        \"00dc8ce7-b07f-4a29-881f-4c9a3ec878e4\",                        [{\"fill\": \"tonextx\", \"fillcolor\": \"rgb(73,143,201)\", \"legendgroup\": \"bistable\", \"line\": {\"width\": 0}, \"mode\": \"lines\", \"name\": \"Bistable\", \"showlegend\": true, \"type\": \"scatter\", \"x\": [0.9375, 0.9375, 0.9375, 0.9375, 0.9375, 0.9375, 0.9375, 0.9375, 0.9375, 0.9375], \"xaxis\": \"x7\", \"y\": [0.0, 0.1111111111111111, 0.2222222222222222, 0.3333333333333333, 0.4444444444444444, 0.5555555555555556, 0.6666666666666666, 0.7777777777777777, 0.8888888888888888, 1.0], \"yaxis\": \"y7\"}, {\"fill\": \"tonextx\", \"fillcolor\": \"rgb(205,92,98)\", \"legendgroup\": \"tet_stable\", \"line\": {\"width\": 0}, \"mode\": \"lines\", \"name\": \"Monostable Tet\", \"showlegend\": true, \"type\": \"scatter\", \"x\": [1.0, 1.0, 1.0, 1.0, 1.0, 1.0, 1.0, 1.0, 1.0, 1.0], \"xaxis\": \"x7\", \"y\": [0.0, 0.1111111111111111, 0.2222222222222222, 0.3333333333333333, 0.4444444444444444, 0.5555555555555556, 0.6666666666666666, 0.7777777777777777, 0.8888888888888888, 1.0], \"yaxis\": \"y7\"}, {\"fill\": \"tonextx\", \"fillcolor\": \"rgb(89,185,92)\", \"legendgroup\": \"lac_stable\", \"line\": {\"width\": 0}, \"mode\": \"lines\", \"name\": \"Monostable Lac\", \"showlegend\": true, \"type\": \"scatter\", \"x\": [1.0, 1.0, 1.0, 1.0, 1.0, 1.0, 1.0, 1.0, 1.0, 1.0], \"xaxis\": \"x7\", \"y\": [0.0, 0.1111111111111111, 0.2222222222222222, 0.3333333333333333, 0.4444444444444444, 0.5555555555555556, 0.6666666666666666, 0.7777777777777777, 0.8888888888888888, 1.0], \"yaxis\": \"y7\"}, {\"fill\": \"tonextx\", \"fillcolor\": \"rgb(109,109,109)\", \"legendgroup\": \"unstable\", \"line\": {\"width\": 0}, \"mode\": \"lines\", \"name\": \"Unstable\", \"showlegend\": true, \"type\": \"scatter\", \"x\": [1.0, 1.0, 1.0, 1.0, 1.0, 1.0, 1.0, 1.0, 1.0, 1.0], \"xaxis\": \"x7\", \"y\": [0.0, 0.1111111111111111, 0.2222222222222222, 0.3333333333333333, 0.4444444444444444, 0.5555555555555556, 0.6666666666666666, 0.7777777777777777, 0.8888888888888888, 1.0], \"yaxis\": \"y7\"}, {\"fill\": \"tonextx\", \"fillcolor\": \"rgb(73,143,201)\", \"legendgroup\": \"bistable\", \"line\": {\"width\": 0}, \"mode\": \"lines\", \"name\": \"Bistable\", \"showlegend\": false, \"type\": \"scatter\", \"x\": [0.6666666666666666, 0.6666666666666666, 0.6666666666666666, 0.6666666666666666, 0.6666666666666666, 0.6666666666666666, 0.6666666666666666, 0.6666666666666666, 0.6666666666666666, 0.6666666666666666], \"xaxis\": \"x4\", \"y\": [0.0, 0.1111111111111111, 0.2222222222222222, 0.3333333333333333, 0.4444444444444444, 0.5555555555555556, 0.6666666666666666, 0.7777777777777777, 0.8888888888888888, 1.0], \"yaxis\": \"y4\"}, {\"fill\": \"tonextx\", \"fillcolor\": \"rgb(205,92,98)\", \"legendgroup\": \"tet_stable\", \"line\": {\"width\": 0}, \"mode\": \"lines\", \"name\": \"Monostable Tet\", \"showlegend\": false, \"type\": \"scatter\", \"x\": [0.75, 0.75, 0.75, 0.75, 0.75, 0.75, 0.75, 0.75, 0.75, 0.75], \"xaxis\": \"x4\", \"y\": [0.0, 0.1111111111111111, 0.2222222222222222, 0.3333333333333333, 0.4444444444444444, 0.5555555555555556, 0.6666666666666666, 0.7777777777777777, 0.8888888888888888, 1.0], \"yaxis\": \"y4\"}, {\"fill\": \"tonextx\", \"fillcolor\": \"rgb(89,185,92)\", \"legendgroup\": \"lac_stable\", \"line\": {\"width\": 0}, \"mode\": \"lines\", \"name\": \"Monostable Lac\", \"showlegend\": false, \"type\": \"scatter\", \"x\": [1.0, 1.0, 1.0, 1.0, 1.0, 1.0, 1.0, 1.0, 1.0, 1.0], \"xaxis\": \"x4\", \"y\": [0.0, 0.1111111111111111, 0.2222222222222222, 0.3333333333333333, 0.4444444444444444, 0.5555555555555556, 0.6666666666666666, 0.7777777777777777, 0.8888888888888888, 1.0], \"yaxis\": \"y4\"}, {\"fill\": \"tonextx\", \"fillcolor\": \"rgb(109,109,109)\", \"legendgroup\": \"unstable\", \"line\": {\"width\": 0}, \"mode\": \"lines\", \"name\": \"Unstable\", \"showlegend\": false, \"type\": \"scatter\", \"x\": [1.0, 1.0, 1.0, 1.0, 1.0, 1.0, 1.0, 1.0, 1.0, 1.0], \"xaxis\": \"x4\", \"y\": [0.0, 0.1111111111111111, 0.2222222222222222, 0.3333333333333333, 0.4444444444444444, 0.5555555555555556, 0.6666666666666666, 0.7777777777777777, 0.8888888888888888, 1.0], \"yaxis\": \"y4\"}, {\"fill\": \"tonextx\", \"fillcolor\": \"rgb(73,143,201)\", \"legendgroup\": \"bistable\", \"line\": {\"width\": 0}, \"mode\": \"lines\", \"name\": \"Bistable\", \"showlegend\": false, \"type\": \"scatter\", \"x\": [0.16666666666666666, 0.16666666666666666, 0.16666666666666666, 0.16666666666666666, 0.16666666666666666, 0.16666666666666666, 0.16666666666666666, 0.16666666666666666, 0.16666666666666666, 0.16666666666666666], \"xaxis\": \"x\", \"y\": [0.0, 0.1111111111111111, 0.2222222222222222, 0.3333333333333333, 0.4444444444444444, 0.5555555555555556, 0.6666666666666666, 0.7777777777777777, 0.8888888888888888, 1.0], \"yaxis\": \"y\"}, {\"fill\": \"tonextx\", \"fillcolor\": \"rgb(205,92,98)\", \"legendgroup\": \"tet_stable\", \"line\": {\"width\": 0}, \"mode\": \"lines\", \"name\": \"Monostable Tet\", \"showlegend\": false, \"type\": \"scatter\", \"x\": [0.16666666666666666, 0.16666666666666666, 0.16666666666666666, 0.16666666666666666, 0.16666666666666666, 0.16666666666666666, 0.16666666666666666, 0.16666666666666666, 0.16666666666666666, 0.16666666666666666], \"xaxis\": \"x\", \"y\": [0.0, 0.1111111111111111, 0.2222222222222222, 0.3333333333333333, 0.4444444444444444, 0.5555555555555556, 0.6666666666666666, 0.7777777777777777, 0.8888888888888888, 1.0], \"yaxis\": \"y\"}, {\"fill\": \"tonextx\", \"fillcolor\": \"rgb(89,185,92)\", \"legendgroup\": \"lac_stable\", \"line\": {\"width\": 0}, \"mode\": \"lines\", \"name\": \"Monostable Lac\", \"showlegend\": false, \"type\": \"scatter\", \"x\": [0.9166666666666666, 0.9166666666666666, 0.9166666666666666, 0.9166666666666666, 0.9166666666666666, 0.9166666666666666, 0.9166666666666666, 0.9166666666666666, 0.9166666666666666, 0.9166666666666666], \"xaxis\": \"x\", \"y\": [0.0, 0.1111111111111111, 0.2222222222222222, 0.3333333333333333, 0.4444444444444444, 0.5555555555555556, 0.6666666666666666, 0.7777777777777777, 0.8888888888888888, 1.0], \"yaxis\": \"y\"}, {\"fill\": \"tonextx\", \"fillcolor\": \"rgb(109,109,109)\", \"legendgroup\": \"unstable\", \"line\": {\"width\": 0}, \"mode\": \"lines\", \"name\": \"Unstable\", \"showlegend\": false, \"type\": \"scatter\", \"x\": [1.0, 1.0, 1.0, 1.0, 1.0, 1.0, 1.0, 1.0, 1.0, 1.0], \"xaxis\": \"x\", \"y\": [0.0, 0.1111111111111111, 0.2222222222222222, 0.3333333333333333, 0.4444444444444444, 0.5555555555555556, 0.6666666666666666, 0.7777777777777777, 0.8888888888888888, 1.0], \"yaxis\": \"y\"}, {\"fill\": \"tonextx\", \"fillcolor\": \"rgb(73,143,201)\", \"legendgroup\": \"bistable\", \"line\": {\"width\": 0}, \"mode\": \"lines\", \"name\": \"Bistable\", \"showlegend\": false, \"type\": \"scatter\", \"x\": [0.75, 0.75, 0.75, 0.75, 0.75, 0.75, 0.75, 0.75, 0.75, 0.75], \"xaxis\": \"x8\", \"y\": [0.0, 0.1111111111111111, 0.2222222222222222, 0.3333333333333333, 0.4444444444444444, 0.5555555555555556, 0.6666666666666666, 0.7777777777777777, 0.8888888888888888, 1.0], \"yaxis\": \"y8\"}, {\"fill\": \"tonextx\", \"fillcolor\": \"rgb(205,92,98)\", \"legendgroup\": \"tet_stable\", \"line\": {\"width\": 0}, \"mode\": \"lines\", \"name\": \"Monostable Tet\", \"showlegend\": false, \"type\": \"scatter\", \"x\": [1.0, 1.0, 1.0, 1.0, 1.0, 1.0, 1.0, 1.0, 1.0, 1.0], \"xaxis\": \"x8\", \"y\": [0.0, 0.1111111111111111, 0.2222222222222222, 0.3333333333333333, 0.4444444444444444, 0.5555555555555556, 0.6666666666666666, 0.7777777777777777, 0.8888888888888888, 1.0], \"yaxis\": \"y8\"}, {\"fill\": \"tonextx\", \"fillcolor\": \"rgb(89,185,92)\", \"legendgroup\": \"lac_stable\", \"line\": {\"width\": 0}, \"mode\": \"lines\", \"name\": \"Monostable Lac\", \"showlegend\": false, \"type\": \"scatter\", \"x\": [1.0, 1.0, 1.0, 1.0, 1.0, 1.0, 1.0, 1.0, 1.0, 1.0], \"xaxis\": \"x8\", \"y\": [0.0, 0.1111111111111111, 0.2222222222222222, 0.3333333333333333, 0.4444444444444444, 0.5555555555555556, 0.6666666666666666, 0.7777777777777777, 0.8888888888888888, 1.0], \"yaxis\": \"y8\"}, {\"fill\": \"tonextx\", \"fillcolor\": \"rgb(109,109,109)\", \"legendgroup\": \"unstable\", \"line\": {\"width\": 0}, \"mode\": \"lines\", \"name\": \"Unstable\", \"showlegend\": false, \"type\": \"scatter\", \"x\": [1.0, 1.0, 1.0, 1.0, 1.0, 1.0, 1.0, 1.0, 1.0, 1.0], \"xaxis\": \"x8\", \"y\": [0.0, 0.1111111111111111, 0.2222222222222222, 0.3333333333333333, 0.4444444444444444, 0.5555555555555556, 0.6666666666666666, 0.7777777777777777, 0.8888888888888888, 1.0], \"yaxis\": \"y8\"}, {\"fill\": \"tonextx\", \"fillcolor\": \"rgb(73,143,201)\", \"legendgroup\": \"bistable\", \"line\": {\"width\": 0}, \"mode\": \"lines\", \"name\": \"Bistable\", \"showlegend\": false, \"type\": \"scatter\", \"x\": [0.6666666666666666, 0.6666666666666666, 0.6666666666666666, 0.6666666666666666, 0.6666666666666666, 0.6666666666666666, 0.6666666666666666, 0.6666666666666666, 0.6666666666666666, 0.6666666666666666], \"xaxis\": \"x5\", \"y\": [0.0, 0.1111111111111111, 0.2222222222222222, 0.3333333333333333, 0.4444444444444444, 0.5555555555555556, 0.6666666666666666, 0.7777777777777777, 0.8888888888888888, 1.0], \"yaxis\": \"y5\"}, {\"fill\": \"tonextx\", \"fillcolor\": \"rgb(205,92,98)\", \"legendgroup\": \"tet_stable\", \"line\": {\"width\": 0}, \"mode\": \"lines\", \"name\": \"Monostable Tet\", \"showlegend\": false, \"type\": \"scatter\", \"x\": [0.8888888888888888, 0.8888888888888888, 0.8888888888888888, 0.8888888888888888, 0.8888888888888888, 0.8888888888888888, 0.8888888888888888, 0.8888888888888888, 0.8888888888888888, 0.8888888888888888], \"xaxis\": \"x5\", \"y\": [0.0, 0.1111111111111111, 0.2222222222222222, 0.3333333333333333, 0.4444444444444444, 0.5555555555555556, 0.6666666666666666, 0.7777777777777777, 0.8888888888888888, 1.0], \"yaxis\": \"y5\"}, {\"fill\": \"tonextx\", \"fillcolor\": \"rgb(89,185,92)\", \"legendgroup\": \"lac_stable\", \"line\": {\"width\": 0}, \"mode\": \"lines\", \"name\": \"Monostable Lac\", \"showlegend\": false, \"type\": \"scatter\", \"x\": [1.0, 1.0, 1.0, 1.0, 1.0, 1.0, 1.0, 1.0, 1.0, 1.0], \"xaxis\": \"x5\", \"y\": [0.0, 0.1111111111111111, 0.2222222222222222, 0.3333333333333333, 0.4444444444444444, 0.5555555555555556, 0.6666666666666666, 0.7777777777777777, 0.8888888888888888, 1.0], \"yaxis\": \"y5\"}, {\"fill\": \"tonextx\", \"fillcolor\": \"rgb(109,109,109)\", \"legendgroup\": \"unstable\", \"line\": {\"width\": 0}, \"mode\": \"lines\", \"name\": \"Unstable\", \"showlegend\": false, \"type\": \"scatter\", \"x\": [1.0, 1.0, 1.0, 1.0, 1.0, 1.0, 1.0, 1.0, 1.0, 1.0], \"xaxis\": \"x5\", \"y\": [0.0, 0.1111111111111111, 0.2222222222222222, 0.3333333333333333, 0.4444444444444444, 0.5555555555555556, 0.6666666666666666, 0.7777777777777777, 0.8888888888888888, 1.0], \"yaxis\": \"y5\"}, {\"fill\": \"tonextx\", \"fillcolor\": \"rgb(73,143,201)\", \"legendgroup\": \"bistable\", \"line\": {\"width\": 0}, \"mode\": \"lines\", \"name\": \"Bistable\", \"showlegend\": false, \"type\": \"scatter\", \"x\": [0.1111111111111111, 0.1111111111111111, 0.1111111111111111, 0.1111111111111111, 0.1111111111111111, 0.1111111111111111, 0.1111111111111111, 0.1111111111111111, 0.1111111111111111, 0.1111111111111111], \"xaxis\": \"x2\", \"y\": [0.0, 0.1111111111111111, 0.2222222222222222, 0.3333333333333333, 0.4444444444444444, 0.5555555555555556, 0.6666666666666666, 0.7777777777777777, 0.8888888888888888, 1.0], \"yaxis\": \"y2\"}, {\"fill\": \"tonextx\", \"fillcolor\": \"rgb(205,92,98)\", \"legendgroup\": \"tet_stable\", \"line\": {\"width\": 0}, \"mode\": \"lines\", \"name\": \"Monostable Tet\", \"showlegend\": false, \"type\": \"scatter\", \"x\": [0.2222222222222222, 0.2222222222222222, 0.2222222222222222, 0.2222222222222222, 0.2222222222222222, 0.2222222222222222, 0.2222222222222222, 0.2222222222222222, 0.2222222222222222, 0.2222222222222222], \"xaxis\": \"x2\", \"y\": [0.0, 0.1111111111111111, 0.2222222222222222, 0.3333333333333333, 0.4444444444444444, 0.5555555555555556, 0.6666666666666666, 0.7777777777777777, 0.8888888888888888, 1.0], \"yaxis\": \"y2\"}, {\"fill\": \"tonextx\", \"fillcolor\": \"rgb(89,185,92)\", \"legendgroup\": \"lac_stable\", \"line\": {\"width\": 0}, \"mode\": \"lines\", \"name\": \"Monostable Lac\", \"showlegend\": false, \"type\": \"scatter\", \"x\": [0.6666666666666666, 0.6666666666666666, 0.6666666666666666, 0.6666666666666666, 0.6666666666666666, 0.6666666666666666, 0.6666666666666666, 0.6666666666666666, 0.6666666666666666, 0.6666666666666666], \"xaxis\": \"x2\", \"y\": [0.0, 0.1111111111111111, 0.2222222222222222, 0.3333333333333333, 0.4444444444444444, 0.5555555555555556, 0.6666666666666666, 0.7777777777777777, 0.8888888888888888, 1.0], \"yaxis\": \"y2\"}, {\"fill\": \"tonextx\", \"fillcolor\": \"rgb(109,109,109)\", \"legendgroup\": \"unstable\", \"line\": {\"width\": 0}, \"mode\": \"lines\", \"name\": \"Unstable\", \"showlegend\": false, \"type\": \"scatter\", \"x\": [1.0, 1.0, 1.0, 1.0, 1.0, 1.0, 1.0, 1.0, 1.0, 1.0], \"xaxis\": \"x2\", \"y\": [0.0, 0.1111111111111111, 0.2222222222222222, 0.3333333333333333, 0.4444444444444444, 0.5555555555555556, 0.6666666666666666, 0.7777777777777777, 0.8888888888888888, 1.0], \"yaxis\": \"y2\"}, {\"fill\": \"tonextx\", \"fillcolor\": \"rgb(73,143,201)\", \"legendgroup\": \"bistable\", \"line\": {\"width\": 0}, \"mode\": \"lines\", \"name\": \"Bistable\", \"showlegend\": false, \"type\": \"scatter\", \"x\": [0.75, 0.75, 0.75, 0.75, 0.75, 0.75, 0.75, 0.75, 0.75, 0.75], \"xaxis\": \"x9\", \"y\": [0.0, 0.1111111111111111, 0.2222222222222222, 0.3333333333333333, 0.4444444444444444, 0.5555555555555556, 0.6666666666666666, 0.7777777777777777, 0.8888888888888888, 1.0], \"yaxis\": \"y9\"}, {\"fill\": \"tonextx\", \"fillcolor\": \"rgb(205,92,98)\", \"legendgroup\": \"tet_stable\", \"line\": {\"width\": 0}, \"mode\": \"lines\", \"name\": \"Monostable Tet\", \"showlegend\": false, \"type\": \"scatter\", \"x\": [1.0, 1.0, 1.0, 1.0, 1.0, 1.0, 1.0, 1.0, 1.0, 1.0], \"xaxis\": \"x9\", \"y\": [0.0, 0.1111111111111111, 0.2222222222222222, 0.3333333333333333, 0.4444444444444444, 0.5555555555555556, 0.6666666666666666, 0.7777777777777777, 0.8888888888888888, 1.0], \"yaxis\": \"y9\"}, {\"fill\": \"tonextx\", \"fillcolor\": \"rgb(89,185,92)\", \"legendgroup\": \"lac_stable\", \"line\": {\"width\": 0}, \"mode\": \"lines\", \"name\": \"Monostable Lac\", \"showlegend\": false, \"type\": \"scatter\", \"x\": [1.0, 1.0, 1.0, 1.0, 1.0, 1.0, 1.0, 1.0, 1.0, 1.0], \"xaxis\": \"x9\", \"y\": [0.0, 0.1111111111111111, 0.2222222222222222, 0.3333333333333333, 0.4444444444444444, 0.5555555555555556, 0.6666666666666666, 0.7777777777777777, 0.8888888888888888, 1.0], \"yaxis\": \"y9\"}, {\"fill\": \"tonextx\", \"fillcolor\": \"rgb(109,109,109)\", \"legendgroup\": \"unstable\", \"line\": {\"width\": 0}, \"mode\": \"lines\", \"name\": \"Unstable\", \"showlegend\": false, \"type\": \"scatter\", \"x\": [1.0, 1.0, 1.0, 1.0, 1.0, 1.0, 1.0, 1.0, 1.0, 1.0], \"xaxis\": \"x9\", \"y\": [0.0, 0.1111111111111111, 0.2222222222222222, 0.3333333333333333, 0.4444444444444444, 0.5555555555555556, 0.6666666666666666, 0.7777777777777777, 0.8888888888888888, 1.0], \"yaxis\": \"y9\"}, {\"fill\": \"tonextx\", \"fillcolor\": \"rgb(73,143,201)\", \"legendgroup\": \"bistable\", \"line\": {\"width\": 0}, \"mode\": \"lines\", \"name\": \"Bistable\", \"showlegend\": false, \"type\": \"scatter\", \"x\": [0.6666666666666666, 0.6666666666666666, 0.6666666666666666, 0.6666666666666666, 0.6666666666666666, 0.6666666666666666, 0.6666666666666666, 0.6666666666666666, 0.6666666666666666, 0.6666666666666666], \"xaxis\": \"x6\", \"y\": [0.0, 0.1111111111111111, 0.2222222222222222, 0.3333333333333333, 0.4444444444444444, 0.5555555555555556, 0.6666666666666666, 0.7777777777777777, 0.8888888888888888, 1.0], \"yaxis\": \"y6\"}, {\"fill\": \"tonextx\", \"fillcolor\": \"rgb(205,92,98)\", \"legendgroup\": \"tet_stable\", \"line\": {\"width\": 0}, \"mode\": \"lines\", \"name\": \"Monostable Tet\", \"showlegend\": false, \"type\": \"scatter\", \"x\": [1.0, 1.0, 1.0, 1.0, 1.0, 1.0, 1.0, 1.0, 1.0, 1.0], \"xaxis\": \"x6\", \"y\": [0.0, 0.1111111111111111, 0.2222222222222222, 0.3333333333333333, 0.4444444444444444, 0.5555555555555556, 0.6666666666666666, 0.7777777777777777, 0.8888888888888888, 1.0], \"yaxis\": \"y6\"}, {\"fill\": \"tonextx\", \"fillcolor\": \"rgb(89,185,92)\", \"legendgroup\": \"lac_stable\", \"line\": {\"width\": 0}, \"mode\": \"lines\", \"name\": \"Monostable Lac\", \"showlegend\": false, \"type\": \"scatter\", \"x\": [1.0, 1.0, 1.0, 1.0, 1.0, 1.0, 1.0, 1.0, 1.0, 1.0], \"xaxis\": \"x6\", \"y\": [0.0, 0.1111111111111111, 0.2222222222222222, 0.3333333333333333, 0.4444444444444444, 0.5555555555555556, 0.6666666666666666, 0.7777777777777777, 0.8888888888888888, 1.0], \"yaxis\": \"y6\"}, {\"fill\": \"tonextx\", \"fillcolor\": \"rgb(109,109,109)\", \"legendgroup\": \"unstable\", \"line\": {\"width\": 0}, \"mode\": \"lines\", \"name\": \"Unstable\", \"showlegend\": false, \"type\": \"scatter\", \"x\": [1.0, 1.0, 1.0, 1.0, 1.0, 1.0, 1.0, 1.0, 1.0, 1.0], \"xaxis\": \"x6\", \"y\": [0.0, 0.1111111111111111, 0.2222222222222222, 0.3333333333333333, 0.4444444444444444, 0.5555555555555556, 0.6666666666666666, 0.7777777777777777, 0.8888888888888888, 1.0], \"yaxis\": \"y6\"}, {\"fill\": \"tonextx\", \"fillcolor\": \"rgb(73,143,201)\", \"legendgroup\": \"bistable\", \"line\": {\"width\": 0}, \"mode\": \"lines\", \"name\": \"Bistable\", \"showlegend\": false, \"type\": \"scatter\", \"x\": [0.1111111111111111, 0.1111111111111111, 0.1111111111111111, 0.1111111111111111, 0.1111111111111111, 0.1111111111111111, 0.1111111111111111, 0.1111111111111111, 0.1111111111111111, 0.1111111111111111], \"xaxis\": \"x3\", \"y\": [0.0, 0.1111111111111111, 0.2222222222222222, 0.3333333333333333, 0.4444444444444444, 0.5555555555555556, 0.6666666666666666, 0.7777777777777777, 0.8888888888888888, 1.0], \"yaxis\": \"y3\"}, {\"fill\": \"tonextx\", \"fillcolor\": \"rgb(205,92,98)\", \"legendgroup\": \"tet_stable\", \"line\": {\"width\": 0}, \"mode\": \"lines\", \"name\": \"Monostable Tet\", \"showlegend\": false, \"type\": \"scatter\", \"x\": [0.3333333333333333, 0.3333333333333333, 0.3333333333333333, 0.3333333333333333, 0.3333333333333333, 0.3333333333333333, 0.3333333333333333, 0.3333333333333333, 0.3333333333333333, 0.3333333333333333], \"xaxis\": \"x3\", \"y\": [0.0, 0.1111111111111111, 0.2222222222222222, 0.3333333333333333, 0.4444444444444444, 0.5555555555555556, 0.6666666666666666, 0.7777777777777777, 0.8888888888888888, 1.0], \"yaxis\": \"y3\"}, {\"fill\": \"tonextx\", \"fillcolor\": \"rgb(89,185,92)\", \"legendgroup\": \"lac_stable\", \"line\": {\"width\": 0}, \"mode\": \"lines\", \"name\": \"Monostable Lac\", \"showlegend\": false, \"type\": \"scatter\", \"x\": [0.7777777777777777, 0.7777777777777777, 0.7777777777777777, 0.7777777777777777, 0.7777777777777777, 0.7777777777777777, 0.7777777777777777, 0.7777777777777777, 0.7777777777777777, 0.7777777777777777], \"xaxis\": \"x3\", \"y\": [0.0, 0.1111111111111111, 0.2222222222222222, 0.3333333333333333, 0.4444444444444444, 0.5555555555555556, 0.6666666666666666, 0.7777777777777777, 0.8888888888888888, 1.0], \"yaxis\": \"y3\"}, {\"fill\": \"tonextx\", \"fillcolor\": \"rgb(109,109,109)\", \"legendgroup\": \"unstable\", \"line\": {\"width\": 0}, \"mode\": \"lines\", \"name\": \"Unstable\", \"showlegend\": false, \"type\": \"scatter\", \"x\": [0.9999999999999999, 0.9999999999999999, 0.9999999999999999, 0.9999999999999999, 0.9999999999999999, 0.9999999999999999, 0.9999999999999999, 0.9999999999999999, 0.9999999999999999, 0.9999999999999999], \"xaxis\": \"x3\", \"y\": [0.0, 0.1111111111111111, 0.2222222222222222, 0.3333333333333333, 0.4444444444444444, 0.5555555555555556, 0.6666666666666666, 0.7777777777777777, 0.8888888888888888, 1.0], \"yaxis\": \"y3\"}],                        {\"annotations\": [{\"font\": {\"color\": \"black\", \"family\": \"Myriad Pro\", \"size\": 18}, \"showarrow\": false, \"text\": \"94%\", \"x\": 0.46875, \"xref\": \"x7\", \"y\": 0.5, \"yref\": \"y7\"}, {\"font\": {\"color\": \"black\", \"family\": \"Myriad Pro\", \"size\": 18}, \"showarrow\": false, \"text\": \"6%\", \"x\": 0.96875, \"xref\": \"x7\", \"y\": 0.5, \"yref\": \"y7\"}, {\"font\": {\"color\": \"black\", \"family\": \"Myriad Pro\", \"size\": 18}, \"showarrow\": false, \"text\": \"n = 16\", \"x\": 0.5, \"xref\": \"x7\", \"y\": 0.8, \"yref\": \"y7\"}, {\"font\": {\"color\": \"black\", \"family\": \"Myriad Pro\", \"size\": 18}, \"showarrow\": false, \"text\": \"67%\", \"x\": 0.3333333333333333, \"xref\": \"x4\", \"y\": 0.5, \"yref\": \"y4\"}, {\"font\": {\"color\": \"black\", \"family\": \"Myriad Pro\", \"size\": 18}, \"showarrow\": false, \"text\": \"8%\", \"x\": 0.7083333333333333, \"xref\": \"x4\", \"y\": 0.5, \"yref\": \"y4\"}, {\"font\": {\"color\": \"black\", \"family\": \"Myriad Pro\", \"size\": 18}, \"showarrow\": false, \"text\": \"25%\", \"x\": 0.875, \"xref\": \"x4\", \"y\": 0.5, \"yref\": \"y4\"}, {\"font\": {\"color\": \"black\", \"family\": \"Myriad Pro\", \"size\": 18}, \"showarrow\": false, \"text\": \"n = 12\", \"x\": 0.5, \"xref\": \"x4\", \"y\": 0.8, \"yref\": \"y4\"}, {\"font\": {\"color\": \"black\", \"family\": \"Myriad Pro\", \"size\": 18}, \"showarrow\": false, \"text\": \"17%\", \"x\": 0.08333333333333333, \"xref\": \"x\", \"y\": 0.5, \"yref\": \"y\"}, {\"font\": {\"color\": \"black\", \"family\": \"Myriad Pro\", \"size\": 18}, \"showarrow\": false, \"text\": \"75%\", \"x\": 0.5416666666666666, \"xref\": \"x\", \"y\": 0.5, \"yref\": \"y\"}, {\"font\": {\"color\": \"black\", \"family\": \"Myriad Pro\", \"size\": 18}, \"showarrow\": false, \"text\": \"8%\", \"x\": 0.9583333333333333, \"xref\": \"x\", \"y\": 0.5, \"yref\": \"y\"}, {\"font\": {\"color\": \"black\", \"family\": \"Myriad Pro\", \"size\": 18}, \"showarrow\": false, \"text\": \"n = 12\", \"x\": 0.5, \"xref\": \"x\", \"y\": 0.8, \"yref\": \"y\"}, {\"font\": {\"color\": \"black\", \"family\": \"Myriad Pro\", \"size\": 18}, \"showarrow\": false, \"text\": \"75%\", \"x\": 0.375, \"xref\": \"x8\", \"y\": 0.5, \"yref\": \"y8\"}, {\"font\": {\"color\": \"black\", \"family\": \"Myriad Pro\", \"size\": 18}, \"showarrow\": false, \"text\": \"25%\", \"x\": 0.875, \"xref\": \"x8\", \"y\": 0.5, \"yref\": \"y8\"}, {\"font\": {\"color\": \"black\", \"family\": \"Myriad Pro\", \"size\": 18}, \"showarrow\": false, \"text\": \"n = 12\", \"x\": 0.5, \"xref\": \"x8\", \"y\": 0.8, \"yref\": \"y8\"}, {\"font\": {\"color\": \"black\", \"family\": \"Myriad Pro\", \"size\": 18}, \"showarrow\": false, \"text\": \"67%\", \"x\": 0.3333333333333333, \"xref\": \"x5\", \"y\": 0.5, \"yref\": \"y5\"}, {\"font\": {\"color\": \"black\", \"family\": \"Myriad Pro\", \"size\": 18}, \"showarrow\": false, \"text\": \"22%\", \"x\": 0.7777777777777777, \"xref\": \"x5\", \"y\": 0.5, \"yref\": \"y5\"}, {\"font\": {\"color\": \"black\", \"family\": \"Myriad Pro\", \"size\": 18}, \"showarrow\": false, \"text\": \"11%\", \"x\": 0.9444444444444444, \"xref\": \"x5\", \"y\": 0.5, \"yref\": \"y5\"}, {\"font\": {\"color\": \"black\", \"family\": \"Myriad Pro\", \"size\": 18}, \"showarrow\": false, \"text\": \"n = 9\", \"x\": 0.5, \"xref\": \"x5\", \"y\": 0.8, \"yref\": \"y5\"}, {\"font\": {\"color\": \"black\", \"family\": \"Myriad Pro\", \"size\": 18}, \"showarrow\": false, \"text\": \"11%\", \"x\": 0.05555555555555555, \"xref\": \"x2\", \"y\": 0.5, \"yref\": \"y2\"}, {\"font\": {\"color\": \"black\", \"family\": \"Myriad Pro\", \"size\": 18}, \"showarrow\": false, \"text\": \"11%\", \"x\": 0.16666666666666666, \"xref\": \"x2\", \"y\": 0.5, \"yref\": \"y2\"}, {\"font\": {\"color\": \"black\", \"family\": \"Myriad Pro\", \"size\": 18}, \"showarrow\": false, \"text\": \"44%\", \"x\": 0.4444444444444444, \"xref\": \"x2\", \"y\": 0.5, \"yref\": \"y2\"}, {\"font\": {\"color\": \"black\", \"family\": \"Myriad Pro\", \"size\": 18}, \"showarrow\": false, \"text\": \"33%\", \"x\": 0.8333333333333333, \"xref\": \"x2\", \"y\": 0.5, \"yref\": \"y2\"}, {\"font\": {\"color\": \"black\", \"family\": \"Myriad Pro\", \"size\": 18}, \"showarrow\": false, \"text\": \"n = 9\", \"x\": 0.5, \"xref\": \"x2\", \"y\": 0.8, \"yref\": \"y2\"}, {\"font\": {\"color\": \"black\", \"family\": \"Myriad Pro\", \"size\": 18}, \"showarrow\": false, \"text\": \"75%\", \"x\": 0.375, \"xref\": \"x9\", \"y\": 0.5, \"yref\": \"y9\"}, {\"font\": {\"color\": \"black\", \"family\": \"Myriad Pro\", \"size\": 18}, \"showarrow\": false, \"text\": \"25%\", \"x\": 0.875, \"xref\": \"x9\", \"y\": 0.5, \"yref\": \"y9\"}, {\"font\": {\"color\": \"black\", \"family\": \"Myriad Pro\", \"size\": 18}, \"showarrow\": false, \"text\": \"n = 12\", \"x\": 0.5, \"xref\": \"x9\", \"y\": 0.8, \"yref\": \"y9\"}, {\"font\": {\"color\": \"black\", \"family\": \"Myriad Pro\", \"size\": 18}, \"showarrow\": false, \"text\": \"67%\", \"x\": 0.3333333333333333, \"xref\": \"x6\", \"y\": 0.5, \"yref\": \"y6\"}, {\"font\": {\"color\": \"black\", \"family\": \"Myriad Pro\", \"size\": 18}, \"showarrow\": false, \"text\": \"33%\", \"x\": 0.8333333333333333, \"xref\": \"x6\", \"y\": 0.5, \"yref\": \"y6\"}, {\"font\": {\"color\": \"black\", \"family\": \"Myriad Pro\", \"size\": 18}, \"showarrow\": false, \"text\": \"n = 9\", \"x\": 0.5, \"xref\": \"x6\", \"y\": 0.8, \"yref\": \"y6\"}, {\"font\": {\"color\": \"black\", \"family\": \"Myriad Pro\", \"size\": 18}, \"showarrow\": false, \"text\": \"11%\", \"x\": 0.05555555555555555, \"xref\": \"x3\", \"y\": 0.5, \"yref\": \"y3\"}, {\"font\": {\"color\": \"black\", \"family\": \"Myriad Pro\", \"size\": 18}, \"showarrow\": false, \"text\": \"22%\", \"x\": 0.2222222222222222, \"xref\": \"x3\", \"y\": 0.5, \"yref\": \"y3\"}, {\"font\": {\"color\": \"black\", \"family\": \"Myriad Pro\", \"size\": 18}, \"showarrow\": false, \"text\": \"44%\", \"x\": 0.5555555555555555, \"xref\": \"x3\", \"y\": 0.5, \"yref\": \"y3\"}, {\"font\": {\"color\": \"black\", \"family\": \"Myriad Pro\", \"size\": 18}, \"showarrow\": false, \"text\": \"22%\", \"x\": 0.8888888888888888, \"xref\": \"x3\", \"y\": 0.5, \"yref\": \"y3\"}, {\"font\": {\"color\": \"black\", \"family\": \"Myriad Pro\", \"size\": 18}, \"showarrow\": false, \"text\": \"n = 9\", \"x\": 0.5, \"xref\": \"x3\", \"y\": 0.8, \"yref\": \"y3\"}], \"height\": 600, \"legend\": {\"font\": {\"color\": \"black\", \"family\": \"Myriad Pro\", \"size\": 18}}, \"template\": {\"data\": {\"bar\": [{\"error_x\": {\"color\": \"#2a3f5f\"}, \"error_y\": {\"color\": \"#2a3f5f\"}, \"marker\": {\"line\": {\"color\": \"white\", \"width\": 0.5}}, \"type\": \"bar\"}], \"barpolar\": [{\"marker\": {\"line\": {\"color\": \"white\", \"width\": 0.5}}, \"type\": \"barpolar\"}], \"carpet\": [{\"aaxis\": {\"endlinecolor\": \"#2a3f5f\", \"gridcolor\": \"#C8D4E3\", \"linecolor\": \"#C8D4E3\", \"minorgridcolor\": \"#C8D4E3\", \"startlinecolor\": \"#2a3f5f\"}, \"baxis\": {\"endlinecolor\": \"#2a3f5f\", \"gridcolor\": \"#C8D4E3\", \"linecolor\": \"#C8D4E3\", \"minorgridcolor\": \"#C8D4E3\", \"startlinecolor\": \"#2a3f5f\"}, \"type\": \"carpet\"}], \"choropleth\": [{\"colorbar\": {\"outlinewidth\": 0, \"ticks\": \"\"}, \"type\": \"choropleth\"}], \"contour\": [{\"colorbar\": {\"outlinewidth\": 0, \"ticks\": \"\"}, \"colorscale\": [[0.0, \"#0d0887\"], [0.1111111111111111, \"#46039f\"], [0.2222222222222222, \"#7201a8\"], [0.3333333333333333, \"#9c179e\"], [0.4444444444444444, \"#bd3786\"], [0.5555555555555556, \"#d8576b\"], [0.6666666666666666, \"#ed7953\"], [0.7777777777777778, \"#fb9f3a\"], [0.8888888888888888, \"#fdca26\"], [1.0, \"#f0f921\"]], \"type\": \"contour\"}], \"contourcarpet\": [{\"colorbar\": {\"outlinewidth\": 0, \"ticks\": \"\"}, \"type\": \"contourcarpet\"}], \"heatmap\": [{\"colorbar\": {\"outlinewidth\": 0, \"ticks\": \"\"}, \"colorscale\": [[0.0, \"#0d0887\"], [0.1111111111111111, \"#46039f\"], [0.2222222222222222, \"#7201a8\"], [0.3333333333333333, \"#9c179e\"], [0.4444444444444444, \"#bd3786\"], [0.5555555555555556, \"#d8576b\"], [0.6666666666666666, \"#ed7953\"], [0.7777777777777778, \"#fb9f3a\"], [0.8888888888888888, \"#fdca26\"], [1.0, \"#f0f921\"]], \"type\": \"heatmap\"}], \"heatmapgl\": [{\"colorbar\": {\"outlinewidth\": 0, \"ticks\": \"\"}, \"colorscale\": [[0.0, \"#0d0887\"], [0.1111111111111111, \"#46039f\"], [0.2222222222222222, \"#7201a8\"], [0.3333333333333333, \"#9c179e\"], [0.4444444444444444, \"#bd3786\"], [0.5555555555555556, \"#d8576b\"], [0.6666666666666666, \"#ed7953\"], [0.7777777777777778, \"#fb9f3a\"], [0.8888888888888888, \"#fdca26\"], [1.0, \"#f0f921\"]], \"type\": \"heatmapgl\"}], \"histogram\": [{\"marker\": {\"colorbar\": {\"outlinewidth\": 0, \"ticks\": \"\"}}, \"type\": \"histogram\"}], \"histogram2d\": [{\"colorbar\": {\"outlinewidth\": 0, \"ticks\": \"\"}, \"colorscale\": [[0.0, \"#0d0887\"], [0.1111111111111111, \"#46039f\"], [0.2222222222222222, \"#7201a8\"], [0.3333333333333333, \"#9c179e\"], [0.4444444444444444, \"#bd3786\"], [0.5555555555555556, \"#d8576b\"], [0.6666666666666666, \"#ed7953\"], [0.7777777777777778, \"#fb9f3a\"], [0.8888888888888888, \"#fdca26\"], [1.0, \"#f0f921\"]], \"type\": \"histogram2d\"}], \"histogram2dcontour\": [{\"colorbar\": {\"outlinewidth\": 0, \"ticks\": \"\"}, \"colorscale\": [[0.0, \"#0d0887\"], [0.1111111111111111, \"#46039f\"], [0.2222222222222222, \"#7201a8\"], [0.3333333333333333, \"#9c179e\"], [0.4444444444444444, \"#bd3786\"], [0.5555555555555556, \"#d8576b\"], [0.6666666666666666, \"#ed7953\"], [0.7777777777777778, \"#fb9f3a\"], [0.8888888888888888, \"#fdca26\"], [1.0, \"#f0f921\"]], \"type\": \"histogram2dcontour\"}], \"mesh3d\": [{\"colorbar\": {\"outlinewidth\": 0, \"ticks\": \"\"}, \"type\": \"mesh3d\"}], \"parcoords\": [{\"line\": {\"colorbar\": {\"outlinewidth\": 0, \"ticks\": \"\"}}, \"type\": \"parcoords\"}], \"pie\": [{\"automargin\": true, \"type\": \"pie\"}], \"scatter\": [{\"marker\": {\"colorbar\": {\"outlinewidth\": 0, \"ticks\": \"\"}}, \"type\": \"scatter\"}], \"scatter3d\": [{\"line\": {\"colorbar\": {\"outlinewidth\": 0, \"ticks\": \"\"}}, \"marker\": {\"colorbar\": {\"outlinewidth\": 0, \"ticks\": \"\"}}, \"type\": \"scatter3d\"}], \"scattercarpet\": [{\"marker\": {\"colorbar\": {\"outlinewidth\": 0, \"ticks\": \"\"}}, \"type\": \"scattercarpet\"}], \"scattergeo\": [{\"marker\": {\"colorbar\": {\"outlinewidth\": 0, \"ticks\": \"\"}}, \"type\": \"scattergeo\"}], \"scattergl\": [{\"marker\": {\"colorbar\": {\"outlinewidth\": 0, \"ticks\": \"\"}}, \"type\": \"scattergl\"}], \"scattermapbox\": [{\"marker\": {\"colorbar\": {\"outlinewidth\": 0, \"ticks\": \"\"}}, \"type\": \"scattermapbox\"}], \"scatterpolar\": [{\"marker\": {\"colorbar\": {\"outlinewidth\": 0, \"ticks\": \"\"}}, \"type\": \"scatterpolar\"}], \"scatterpolargl\": [{\"marker\": {\"colorbar\": {\"outlinewidth\": 0, \"ticks\": \"\"}}, \"type\": \"scatterpolargl\"}], \"scatterternary\": [{\"marker\": {\"colorbar\": {\"outlinewidth\": 0, \"ticks\": \"\"}}, \"type\": \"scatterternary\"}], \"surface\": [{\"colorbar\": {\"outlinewidth\": 0, \"ticks\": \"\"}, \"colorscale\": [[0.0, \"#0d0887\"], [0.1111111111111111, \"#46039f\"], [0.2222222222222222, \"#7201a8\"], [0.3333333333333333, \"#9c179e\"], [0.4444444444444444, \"#bd3786\"], [0.5555555555555556, \"#d8576b\"], [0.6666666666666666, \"#ed7953\"], [0.7777777777777778, \"#fb9f3a\"], [0.8888888888888888, \"#fdca26\"], [1.0, \"#f0f921\"]], \"type\": \"surface\"}], \"table\": [{\"cells\": {\"fill\": {\"color\": \"#EBF0F8\"}, \"line\": {\"color\": \"white\"}}, \"header\": {\"fill\": {\"color\": \"#C8D4E3\"}, \"line\": {\"color\": \"white\"}}, \"type\": \"table\"}]}, \"layout\": {\"annotationdefaults\": {\"arrowcolor\": \"#2a3f5f\", \"arrowhead\": 0, \"arrowwidth\": 1}, \"autotypenumbers\": \"strict\", \"coloraxis\": {\"colorbar\": {\"outlinewidth\": 0, \"ticks\": \"\"}}, \"colorscale\": {\"diverging\": [[0, \"#8e0152\"], [0.1, \"#c51b7d\"], [0.2, \"#de77ae\"], [0.3, \"#f1b6da\"], [0.4, \"#fde0ef\"], [0.5, \"#f7f7f7\"], [0.6, \"#e6f5d0\"], [0.7, \"#b8e186\"], [0.8, \"#7fbc41\"], [0.9, \"#4d9221\"], [1, \"#276419\"]], \"sequential\": [[0.0, \"#0d0887\"], [0.1111111111111111, \"#46039f\"], [0.2222222222222222, \"#7201a8\"], [0.3333333333333333, \"#9c179e\"], [0.4444444444444444, \"#bd3786\"], [0.5555555555555556, \"#d8576b\"], [0.6666666666666666, \"#ed7953\"], [0.7777777777777778, \"#fb9f3a\"], [0.8888888888888888, \"#fdca26\"], [1.0, \"#f0f921\"]], \"sequentialminus\": [[0.0, \"#0d0887\"], [0.1111111111111111, \"#46039f\"], [0.2222222222222222, \"#7201a8\"], [0.3333333333333333, \"#9c179e\"], [0.4444444444444444, \"#bd3786\"], [0.5555555555555556, \"#d8576b\"], [0.6666666666666666, \"#ed7953\"], [0.7777777777777778, \"#fb9f3a\"], [0.8888888888888888, \"#fdca26\"], [1.0, \"#f0f921\"]]}, \"colorway\": [\"#636efa\", \"#EF553B\", \"#00cc96\", \"#ab63fa\", \"#FFA15A\", \"#19d3f3\", \"#FF6692\", \"#B6E880\", \"#FF97FF\", \"#FECB52\"], \"font\": {\"color\": \"#2a3f5f\"}, \"geo\": {\"bgcolor\": \"white\", \"lakecolor\": \"white\", \"landcolor\": \"white\", \"showlakes\": true, \"showland\": true, \"subunitcolor\": \"#C8D4E3\"}, \"hoverlabel\": {\"align\": \"left\"}, \"hovermode\": \"closest\", \"mapbox\": {\"style\": \"light\"}, \"paper_bgcolor\": \"white\", \"plot_bgcolor\": \"white\", \"polar\": {\"angularaxis\": {\"gridcolor\": \"#EBF0F8\", \"linecolor\": \"#EBF0F8\", \"ticks\": \"\"}, \"bgcolor\": \"white\", \"radialaxis\": {\"gridcolor\": \"#EBF0F8\", \"linecolor\": \"#EBF0F8\", \"ticks\": \"\"}}, \"scene\": {\"xaxis\": {\"backgroundcolor\": \"white\", \"gridcolor\": \"#DFE8F3\", \"gridwidth\": 2, \"linecolor\": \"#EBF0F8\", \"showbackground\": true, \"ticks\": \"\", \"zerolinecolor\": \"#EBF0F8\"}, \"yaxis\": {\"backgroundcolor\": \"white\", \"gridcolor\": \"#DFE8F3\", \"gridwidth\": 2, \"linecolor\": \"#EBF0F8\", \"showbackground\": true, \"ticks\": \"\", \"zerolinecolor\": \"#EBF0F8\"}, \"zaxis\": {\"backgroundcolor\": \"white\", \"gridcolor\": \"#DFE8F3\", \"gridwidth\": 2, \"linecolor\": \"#EBF0F8\", \"showbackground\": true, \"ticks\": \"\", \"zerolinecolor\": \"#EBF0F8\"}}, \"shapedefaults\": {\"line\": {\"color\": \"#2a3f5f\"}}, \"ternary\": {\"aaxis\": {\"gridcolor\": \"#DFE8F3\", \"linecolor\": \"#A2B1C6\", \"ticks\": \"\"}, \"baxis\": {\"gridcolor\": \"#DFE8F3\", \"linecolor\": \"#A2B1C6\", \"ticks\": \"\"}, \"bgcolor\": \"white\", \"caxis\": {\"gridcolor\": \"#DFE8F3\", \"linecolor\": \"#A2B1C6\", \"ticks\": \"\"}}, \"title\": {\"x\": 0.05}, \"xaxis\": {\"automargin\": true, \"gridcolor\": \"#EBF0F8\", \"linecolor\": \"#EBF0F8\", \"ticks\": \"\", \"title\": {\"standoff\": 15}, \"zerolinecolor\": \"#EBF0F8\", \"zerolinewidth\": 2}, \"yaxis\": {\"automargin\": true, \"gridcolor\": \"#EBF0F8\", \"linecolor\": \"#EBF0F8\", \"ticks\": \"\", \"title\": {\"standoff\": 15}, \"zerolinecolor\": \"#EBF0F8\", \"zerolinewidth\": 2}}}, \"title\": {\"font\": {\"color\": \"black\", \"family\": \"Myriad Pro\", \"size\": 18}, \"text\": \"Replicates\"}, \"width\": 675, \"xaxis\": {\"anchor\": \"y\", \"domain\": [0.0, 0.32666666666666666], \"linecolor\": \"black\", \"linewidth\": 1, \"mirror\": true, \"nticks\": 10, \"range\": [0, 1], \"showgrid\": true, \"showline\": true, \"showticklabels\": false, \"tickangle\": 0, \"tickcolor\": \"black\", \"tickfont\": {\"color\": \"black\", \"family\": \"Myriad Pro\", \"size\": 18}, \"ticklen\": 0, \"ticks\": \"outside\", \"title\": {\"font\": {\"color\": \"black\", \"family\": \"Myriad Pro\", \"size\": 24}, \"standoff\": 10}, \"zeroline\": false}, \"xaxis2\": {\"anchor\": \"y2\", \"domain\": [0.33666666666666667, 0.6633333333333333], \"linecolor\": \"black\", \"linewidth\": 1, \"mirror\": true, \"nticks\": 10, \"range\": [0, 1], \"showgrid\": true, \"showline\": true, \"showticklabels\": false, \"tickangle\": 0, \"tickcolor\": \"black\", \"tickfont\": {\"color\": \"black\", \"family\": \"Myriad Pro\", \"size\": 18}, \"ticklen\": 0, \"ticks\": \"outside\", \"title\": {\"font\": {\"color\": \"black\", \"family\": \"Myriad Pro\", \"size\": 24}, \"standoff\": 10}, \"zeroline\": false}, \"xaxis3\": {\"anchor\": \"y3\", \"domain\": [0.6733333333333333, 1.0], \"linecolor\": \"black\", \"linewidth\": 1, \"mirror\": true, \"nticks\": 10, \"range\": [0, 1], \"showgrid\": true, \"showline\": true, \"showticklabels\": false, \"tickangle\": 0, \"tickcolor\": \"black\", \"tickfont\": {\"color\": \"black\", \"family\": \"Myriad Pro\", \"size\": 18}, \"ticklen\": 0, \"ticks\": \"outside\", \"title\": {\"font\": {\"color\": \"black\", \"family\": \"Myriad Pro\", \"size\": 24}, \"standoff\": 10}, \"zeroline\": false}, \"xaxis4\": {\"anchor\": \"y4\", \"domain\": [0.0, 0.32666666666666666], \"linecolor\": \"black\", \"linewidth\": 1, \"mirror\": true, \"nticks\": 10, \"range\": [0, 1], \"showgrid\": true, \"showline\": true, \"showticklabels\": false, \"tickangle\": 0, \"tickcolor\": \"black\", \"tickfont\": {\"color\": \"black\", \"family\": \"Myriad Pro\", \"size\": 18}, \"ticklen\": 0, \"ticks\": \"outside\", \"title\": {\"font\": {\"color\": \"black\", \"family\": \"Myriad Pro\", \"size\": 24}, \"standoff\": 10}, \"zeroline\": false}, \"xaxis5\": {\"anchor\": \"y5\", \"domain\": [0.33666666666666667, 0.6633333333333333], \"linecolor\": \"black\", \"linewidth\": 1, \"mirror\": true, \"nticks\": 10, \"range\": [0, 1], \"showgrid\": true, \"showline\": true, \"showticklabels\": false, \"tickangle\": 0, \"tickcolor\": \"black\", \"tickfont\": {\"color\": \"black\", \"family\": \"Myriad Pro\", \"size\": 18}, \"ticklen\": 0, \"ticks\": \"outside\", \"title\": {\"font\": {\"color\": \"black\", \"family\": \"Myriad Pro\", \"size\": 24}, \"standoff\": 10}, \"zeroline\": false}, \"xaxis6\": {\"anchor\": \"y6\", \"domain\": [0.6733333333333333, 1.0], \"linecolor\": \"black\", \"linewidth\": 1, \"mirror\": true, \"nticks\": 10, \"range\": [0, 1], \"showgrid\": true, \"showline\": true, \"showticklabels\": false, \"tickangle\": 0, \"tickcolor\": \"black\", \"tickfont\": {\"color\": \"black\", \"family\": \"Myriad Pro\", \"size\": 18}, \"ticklen\": 0, \"ticks\": \"outside\", \"title\": {\"font\": {\"color\": \"black\", \"family\": \"Myriad Pro\", \"size\": 24}, \"standoff\": 10}, \"zeroline\": false}, \"xaxis7\": {\"anchor\": \"y7\", \"domain\": [0.0, 0.32666666666666666], \"linecolor\": \"black\", \"linewidth\": 1, \"mirror\": true, \"nticks\": 10, \"range\": [0, 1], \"showgrid\": true, \"showline\": true, \"showticklabels\": false, \"tickangle\": 0, \"tickcolor\": \"black\", \"tickfont\": {\"color\": \"black\", \"family\": \"Myriad Pro\", \"size\": 18}, \"ticklen\": 0, \"ticks\": \"outside\", \"title\": {\"font\": {\"color\": \"black\", \"family\": \"Myriad Pro\", \"size\": 24}, \"standoff\": 10, \"text\": \"Low\"}, \"zeroline\": false}, \"xaxis8\": {\"anchor\": \"y8\", \"domain\": [0.33666666666666667, 0.6633333333333333], \"linecolor\": \"black\", \"linewidth\": 1, \"mirror\": true, \"nticks\": 10, \"range\": [0, 1], \"showgrid\": true, \"showline\": true, \"showticklabels\": false, \"tickangle\": 0, \"tickcolor\": \"black\", \"tickfont\": {\"color\": \"black\", \"family\": \"Myriad Pro\", \"size\": 18}, \"ticklen\": 0, \"ticks\": \"outside\", \"title\": {\"font\": {\"color\": \"black\", \"family\": \"Myriad Pro\", \"size\": 24}, \"standoff\": 10, \"text\": \"Mid\"}, \"zeroline\": false}, \"xaxis9\": {\"anchor\": \"y9\", \"domain\": [0.6733333333333333, 1.0], \"linecolor\": \"black\", \"linewidth\": 1, \"mirror\": true, \"nticks\": 10, \"range\": [0, 1], \"showgrid\": true, \"showline\": true, \"showticklabels\": false, \"tickangle\": 0, \"tickcolor\": \"black\", \"tickfont\": {\"color\": \"black\", \"family\": \"Myriad Pro\", \"size\": 18}, \"ticklen\": 0, \"ticks\": \"outside\", \"title\": {\"font\": {\"color\": \"black\", \"family\": \"Myriad Pro\", \"size\": 24}, \"standoff\": 10, \"text\": \"High\"}, \"zeroline\": false}, \"yaxis\": {\"anchor\": \"x\", \"domain\": [0.6733333333333333, 1.0], \"linecolor\": \"black\", \"linewidth\": 1, \"mirror\": true, \"nticks\": 10, \"range\": [0, 1], \"showgrid\": true, \"showline\": true, \"showticklabels\": false, \"tickangle\": 0, \"tickcolor\": \"black\", \"tickfont\": {\"color\": \"black\", \"family\": \"Myriad Pro\", \"size\": 18}, \"ticklen\": 0, \"ticks\": \"outside\", \"title\": {\"font\": {\"color\": \"black\", \"family\": \"Myriad Pro\", \"size\": 24}, \"standoff\": 0, \"text\": \"High\"}, \"zeroline\": false}, \"yaxis2\": {\"anchor\": \"x2\", \"domain\": [0.6733333333333333, 1.0], \"linecolor\": \"black\", \"linewidth\": 1, \"mirror\": true, \"nticks\": 10, \"range\": [0, 1], \"showgrid\": true, \"showline\": true, \"showticklabels\": false, \"tickangle\": 0, \"tickcolor\": \"black\", \"tickfont\": {\"color\": \"black\", \"family\": \"Myriad Pro\", \"size\": 18}, \"ticklen\": 0, \"ticks\": \"outside\", \"title\": {\"font\": {\"color\": \"black\", \"family\": \"Myriad Pro\", \"size\": 24}, \"standoff\": 0}, \"zeroline\": false}, \"yaxis3\": {\"anchor\": \"x3\", \"domain\": [0.6733333333333333, 1.0], \"linecolor\": \"black\", \"linewidth\": 1, \"mirror\": true, \"nticks\": 10, \"range\": [0, 1], \"showgrid\": true, \"showline\": true, \"showticklabels\": false, \"tickangle\": 0, \"tickcolor\": \"black\", \"tickfont\": {\"color\": \"black\", \"family\": \"Myriad Pro\", \"size\": 18}, \"ticklen\": 0, \"ticks\": \"outside\", \"title\": {\"font\": {\"color\": \"black\", \"family\": \"Myriad Pro\", \"size\": 24}, \"standoff\": 0}, \"zeroline\": false}, \"yaxis4\": {\"anchor\": \"x4\", \"domain\": [0.33666666666666667, 0.6633333333333333], \"linecolor\": \"black\", \"linewidth\": 1, \"mirror\": true, \"nticks\": 10, \"range\": [0, 1], \"showgrid\": true, \"showline\": true, \"showticklabels\": false, \"tickangle\": 0, \"tickcolor\": \"black\", \"tickfont\": {\"color\": \"black\", \"family\": \"Myriad Pro\", \"size\": 18}, \"ticklen\": 0, \"ticks\": \"outside\", \"title\": {\"font\": {\"color\": \"black\", \"family\": \"Myriad Pro\", \"size\": 24}, \"standoff\": 0, \"text\": \"Mid\"}, \"zeroline\": false}, \"yaxis5\": {\"anchor\": \"x5\", \"domain\": [0.33666666666666667, 0.6633333333333333], \"linecolor\": \"black\", \"linewidth\": 1, \"mirror\": true, \"nticks\": 10, \"range\": [0, 1], \"showgrid\": true, \"showline\": true, \"showticklabels\": false, \"tickangle\": 0, \"tickcolor\": \"black\", \"tickfont\": {\"color\": \"black\", \"family\": \"Myriad Pro\", \"size\": 18}, \"ticklen\": 0, \"ticks\": \"outside\", \"title\": {\"font\": {\"color\": \"black\", \"family\": \"Myriad Pro\", \"size\": 24}, \"standoff\": 0}, \"zeroline\": false}, \"yaxis6\": {\"anchor\": \"x6\", \"domain\": [0.33666666666666667, 0.6633333333333333], \"linecolor\": \"black\", \"linewidth\": 1, \"mirror\": true, \"nticks\": 10, \"range\": [0, 1], \"showgrid\": true, \"showline\": true, \"showticklabels\": false, \"tickangle\": 0, \"tickcolor\": \"black\", \"tickfont\": {\"color\": \"black\", \"family\": \"Myriad Pro\", \"size\": 18}, \"ticklen\": 0, \"ticks\": \"outside\", \"title\": {\"font\": {\"color\": \"black\", \"family\": \"Myriad Pro\", \"size\": 24}, \"standoff\": 0}, \"zeroline\": false}, \"yaxis7\": {\"anchor\": \"x7\", \"domain\": [0.0, 0.32666666666666666], \"linecolor\": \"black\", \"linewidth\": 1, \"mirror\": true, \"nticks\": 10, \"range\": [0, 1], \"showgrid\": true, \"showline\": true, \"showticklabels\": false, \"tickangle\": 0, \"tickcolor\": \"black\", \"tickfont\": {\"color\": \"black\", \"family\": \"Myriad Pro\", \"size\": 18}, \"ticklen\": 0, \"ticks\": \"outside\", \"title\": {\"font\": {\"color\": \"black\", \"family\": \"Myriad Pro\", \"size\": 24}, \"standoff\": 0, \"text\": \"Low\"}, \"zeroline\": false}, \"yaxis8\": {\"anchor\": \"x8\", \"domain\": [0.0, 0.32666666666666666], \"linecolor\": \"black\", \"linewidth\": 1, \"mirror\": true, \"nticks\": 10, \"range\": [0, 1], \"showgrid\": true, \"showline\": true, \"showticklabels\": false, \"tickangle\": 0, \"tickcolor\": \"black\", \"tickfont\": {\"color\": \"black\", \"family\": \"Myriad Pro\", \"size\": 18}, \"ticklen\": 0, \"ticks\": \"outside\", \"title\": {\"font\": {\"color\": \"black\", \"family\": \"Myriad Pro\", \"size\": 24}, \"standoff\": 0}, \"zeroline\": false}, \"yaxis9\": {\"anchor\": \"x9\", \"domain\": [0.0, 0.32666666666666666], \"linecolor\": \"black\", \"linewidth\": 1, \"mirror\": true, \"nticks\": 10, \"range\": [0, 1], \"showgrid\": true, \"showline\": true, \"showticklabels\": false, \"tickangle\": 0, \"tickcolor\": \"black\", \"tickfont\": {\"color\": \"black\", \"family\": \"Myriad Pro\", \"size\": 18}, \"ticklen\": 0, \"ticks\": \"outside\", \"title\": {\"font\": {\"color\": \"black\", \"family\": \"Myriad Pro\", \"size\": 24}, \"standoff\": 0}, \"zeroline\": false}},                        {\"responsive\": true}                    ).then(function(){\n",
       "                            \n",
       "var gd = document.getElementById('00dc8ce7-b07f-4a29-881f-4c9a3ec878e4');\n",
       "var x = new MutationObserver(function (mutations, observer) {{\n",
       "        var display = window.getComputedStyle(gd).display;\n",
       "        if (!display || display === 'none') {{\n",
       "            console.log([gd, 'removed!']);\n",
       "            Plotly.purge(gd);\n",
       "            observer.disconnect();\n",
       "        }}\n",
       "}});\n",
       "\n",
       "// Listen for the removal of the full notebook cells\n",
       "var notebookContainer = gd.closest('#notebook-container');\n",
       "if (notebookContainer) {{\n",
       "    x.observe(notebookContainer, {childList: true});\n",
       "}}\n",
       "\n",
       "// Listen for the clearing of the current output cell\n",
       "var outputEl = gd.closest('.output');\n",
       "if (outputEl) {{\n",
       "    x.observe(outputEl, {childList: true});\n",
       "}}\n",
       "\n",
       "                        })                };                });            </script>        </div>"
      ]
     },
     "metadata": {},
     "output_type": "display_data"
    }
   ],
   "source": [
    "bistability_dfs = [st_bistability_df, rep_bistability_df]\n",
    "titles = ['Single Trials', 'Replicates']\n",
    "\n",
    "for n,bistability_df in enumerate(bistability_dfs):\n",
    "    fig = make_subplots(rows=3, cols=3, horizontal_spacing=0.01, vertical_spacing=0.01)\n",
    "    \n",
    "    for i, lac_deg in enumerate(['Low', 'Mid', 'High']):\n",
    "        for j, tet_deg in enumerate(['Low', 'Mid', 'High']):\n",
    "            \n",
    "            temp_df = bistability_df[bistability_df.index.get_level_values(0).map(lambda x:(gfp_df.loc[x[:2]]['deg_class'], \n",
    "                                                                                            mche_df.loc[x[2:]]['deg_class']))==(lac_deg, tet_deg)]\n",
    "            temp_dict = {stability:(temp_df['stability']==stability).sum() for stability in stabilities}\n",
    "            cumulative = np.cumsum([temp_dict[key]/len(temp_df) for key in temp_dict])\n",
    "\n",
    "            if i==0 and j==0:\n",
    "                showlegend = True\n",
    "            else:\n",
    "                showlegend = False\n",
    "\n",
    "            for k, stability in enumerate(stabilities):\n",
    "                fig.add_trace(go.Scatter(y=np.linspace(0,1,10), x=[cumulative[k]]*10,\n",
    "                                         mode='lines', line=dict(width=0), \n",
    "                                         name=legend_dict[stability], showlegend=showlegend, legendgroup=stability,\n",
    "                                         fillcolor=stability_colors[stability], fill='tonextx'),\n",
    "                              row=3-j, col=i+1)\n",
    "\n",
    "                if temp_dict[stability]!=0:\n",
    "                    fig.add_annotation(x=(cumulative - np.diff(cumulative, prepend=0)/2)[k], y=0.5,\n",
    "                                       text=str(int(np.round(temp_dict[stability]*100/len(temp_df), decimals=0)))+'%',\n",
    "                                       showarrow=False, row=3-int(j), col=int(i)+1)\n",
    "            fig.add_annotation(x=0.5, y=0.8, text='n = '+str(len(temp_df)), showarrow=False,row=3-j, col=i+1)\n",
    "\n",
    "            if i==0:\n",
    "                fig.update_yaxes(title=tet_deg, row=3-j, col=i+1)\n",
    "            if j==0:\n",
    "                fig.update_xaxes(title=lac_deg, row=3-j, col=i+1)\n",
    "\n",
    "    fig.update_layout(width=675, height=600, legend_font=font_defaults, title=titles[n], title_font=font_defaults)\n",
    "    fig.update_xaxes({**axis_defaults, \n",
    "                      **dict(title_standoff=10, titlefont=dict(family='Myriad Pro', size=24, color='black'),\n",
    "                             showticklabels=False, range=(0,1), ticklen=0)}) \n",
    "    fig.update_yaxes({**axis_defaults, \n",
    "                      **dict(title_standoff=0, titlefont=dict(family='Myriad Pro', size=24, color='black'),\n",
    "                             showticklabels=False, range=(0,1), ticklen=0)})\n",
    "    fig.update_annotations(font=font_defaults)\n",
    "    plot(fig)\n",
    "    \n",
    "    if n==0:\n",
    "        pio.write_image(fig,\"figures\\Robustness_RateBins_SingleTrials.svg\",format='svg')\n",
    "    if n==1:\n",
    "        pio.write_image(fig,\"figures\\Robustness_RateBins_Replicates.svg\",format='svg')\n",
    "        \n"
   ]
  },
  {
   "cell_type": "code",
   "execution_count": 203,
   "metadata": {
    "scrolled": false
   },
   "outputs": [
    {
     "data": {
      "application/vnd.plotly.v1+json": {
       "config": {
        "linkText": "Export to plot.ly",
        "plotlyServerURL": "https://plot.ly",
        "showLink": false
       },
       "data": [
        {
         "marker": {
          "color": "rgb(73,143,201)"
         },
         "orientation": "v",
         "showlegend": false,
         "type": "bar",
         "x": [
          "A-*",
          "B-*",
          "C-*",
          "D-*"
         ],
         "xaxis": "x",
         "y": [
          0.5333333333333333,
          0.6666666666666666,
          0.7666666666666667,
          0.8
         ],
         "yaxis": "y"
        },
        {
         "marker": {
          "color": "rgb(73,143,201)"
         },
         "orientation": "v",
         "showlegend": false,
         "type": "bar",
         "x": [
          "D-DAS+2",
          "E-DAS+2",
          "D-LAA"
         ],
         "xaxis": "x2",
         "y": [
          0.7666666666666667,
          0.5333333333333333,
          0.6333333333333333
         ],
         "yaxis": "y2"
        },
        {
         "marker": {
          "color": "rgb(73,143,201)"
         },
         "orientation": "v",
         "showlegend": false,
         "type": "bar",
         "x": [
          "C-LAA",
          "B-DAS",
          "E-LAA"
         ],
         "xaxis": "x3",
         "y": [
          0.5,
          0.5,
          0.6333333333333333
         ],
         "yaxis": "y3"
        }
       ],
       "layout": {
        "bargap": 0.5,
        "height": 350,
        "template": {
         "data": {
          "bar": [
           {
            "error_x": {
             "color": "#2a3f5f"
            },
            "error_y": {
             "color": "#2a3f5f"
            },
            "marker": {
             "line": {
              "color": "white",
              "width": 0.5
             }
            },
            "type": "bar"
           }
          ],
          "barpolar": [
           {
            "marker": {
             "line": {
              "color": "white",
              "width": 0.5
             }
            },
            "type": "barpolar"
           }
          ],
          "carpet": [
           {
            "aaxis": {
             "endlinecolor": "#2a3f5f",
             "gridcolor": "#C8D4E3",
             "linecolor": "#C8D4E3",
             "minorgridcolor": "#C8D4E3",
             "startlinecolor": "#2a3f5f"
            },
            "baxis": {
             "endlinecolor": "#2a3f5f",
             "gridcolor": "#C8D4E3",
             "linecolor": "#C8D4E3",
             "minorgridcolor": "#C8D4E3",
             "startlinecolor": "#2a3f5f"
            },
            "type": "carpet"
           }
          ],
          "choropleth": [
           {
            "colorbar": {
             "outlinewidth": 0,
             "ticks": ""
            },
            "type": "choropleth"
           }
          ],
          "contour": [
           {
            "colorbar": {
             "outlinewidth": 0,
             "ticks": ""
            },
            "colorscale": [
             [
              0,
              "#0d0887"
             ],
             [
              0.1111111111111111,
              "#46039f"
             ],
             [
              0.2222222222222222,
              "#7201a8"
             ],
             [
              0.3333333333333333,
              "#9c179e"
             ],
             [
              0.4444444444444444,
              "#bd3786"
             ],
             [
              0.5555555555555556,
              "#d8576b"
             ],
             [
              0.6666666666666666,
              "#ed7953"
             ],
             [
              0.7777777777777778,
              "#fb9f3a"
             ],
             [
              0.8888888888888888,
              "#fdca26"
             ],
             [
              1,
              "#f0f921"
             ]
            ],
            "type": "contour"
           }
          ],
          "contourcarpet": [
           {
            "colorbar": {
             "outlinewidth": 0,
             "ticks": ""
            },
            "type": "contourcarpet"
           }
          ],
          "heatmap": [
           {
            "colorbar": {
             "outlinewidth": 0,
             "ticks": ""
            },
            "colorscale": [
             [
              0,
              "#0d0887"
             ],
             [
              0.1111111111111111,
              "#46039f"
             ],
             [
              0.2222222222222222,
              "#7201a8"
             ],
             [
              0.3333333333333333,
              "#9c179e"
             ],
             [
              0.4444444444444444,
              "#bd3786"
             ],
             [
              0.5555555555555556,
              "#d8576b"
             ],
             [
              0.6666666666666666,
              "#ed7953"
             ],
             [
              0.7777777777777778,
              "#fb9f3a"
             ],
             [
              0.8888888888888888,
              "#fdca26"
             ],
             [
              1,
              "#f0f921"
             ]
            ],
            "type": "heatmap"
           }
          ],
          "heatmapgl": [
           {
            "colorbar": {
             "outlinewidth": 0,
             "ticks": ""
            },
            "colorscale": [
             [
              0,
              "#0d0887"
             ],
             [
              0.1111111111111111,
              "#46039f"
             ],
             [
              0.2222222222222222,
              "#7201a8"
             ],
             [
              0.3333333333333333,
              "#9c179e"
             ],
             [
              0.4444444444444444,
              "#bd3786"
             ],
             [
              0.5555555555555556,
              "#d8576b"
             ],
             [
              0.6666666666666666,
              "#ed7953"
             ],
             [
              0.7777777777777778,
              "#fb9f3a"
             ],
             [
              0.8888888888888888,
              "#fdca26"
             ],
             [
              1,
              "#f0f921"
             ]
            ],
            "type": "heatmapgl"
           }
          ],
          "histogram": [
           {
            "marker": {
             "colorbar": {
              "outlinewidth": 0,
              "ticks": ""
             }
            },
            "type": "histogram"
           }
          ],
          "histogram2d": [
           {
            "colorbar": {
             "outlinewidth": 0,
             "ticks": ""
            },
            "colorscale": [
             [
              0,
              "#0d0887"
             ],
             [
              0.1111111111111111,
              "#46039f"
             ],
             [
              0.2222222222222222,
              "#7201a8"
             ],
             [
              0.3333333333333333,
              "#9c179e"
             ],
             [
              0.4444444444444444,
              "#bd3786"
             ],
             [
              0.5555555555555556,
              "#d8576b"
             ],
             [
              0.6666666666666666,
              "#ed7953"
             ],
             [
              0.7777777777777778,
              "#fb9f3a"
             ],
             [
              0.8888888888888888,
              "#fdca26"
             ],
             [
              1,
              "#f0f921"
             ]
            ],
            "type": "histogram2d"
           }
          ],
          "histogram2dcontour": [
           {
            "colorbar": {
             "outlinewidth": 0,
             "ticks": ""
            },
            "colorscale": [
             [
              0,
              "#0d0887"
             ],
             [
              0.1111111111111111,
              "#46039f"
             ],
             [
              0.2222222222222222,
              "#7201a8"
             ],
             [
              0.3333333333333333,
              "#9c179e"
             ],
             [
              0.4444444444444444,
              "#bd3786"
             ],
             [
              0.5555555555555556,
              "#d8576b"
             ],
             [
              0.6666666666666666,
              "#ed7953"
             ],
             [
              0.7777777777777778,
              "#fb9f3a"
             ],
             [
              0.8888888888888888,
              "#fdca26"
             ],
             [
              1,
              "#f0f921"
             ]
            ],
            "type": "histogram2dcontour"
           }
          ],
          "mesh3d": [
           {
            "colorbar": {
             "outlinewidth": 0,
             "ticks": ""
            },
            "type": "mesh3d"
           }
          ],
          "parcoords": [
           {
            "line": {
             "colorbar": {
              "outlinewidth": 0,
              "ticks": ""
             }
            },
            "type": "parcoords"
           }
          ],
          "pie": [
           {
            "automargin": true,
            "type": "pie"
           }
          ],
          "scatter": [
           {
            "marker": {
             "colorbar": {
              "outlinewidth": 0,
              "ticks": ""
             }
            },
            "type": "scatter"
           }
          ],
          "scatter3d": [
           {
            "line": {
             "colorbar": {
              "outlinewidth": 0,
              "ticks": ""
             }
            },
            "marker": {
             "colorbar": {
              "outlinewidth": 0,
              "ticks": ""
             }
            },
            "type": "scatter3d"
           }
          ],
          "scattercarpet": [
           {
            "marker": {
             "colorbar": {
              "outlinewidth": 0,
              "ticks": ""
             }
            },
            "type": "scattercarpet"
           }
          ],
          "scattergeo": [
           {
            "marker": {
             "colorbar": {
              "outlinewidth": 0,
              "ticks": ""
             }
            },
            "type": "scattergeo"
           }
          ],
          "scattergl": [
           {
            "marker": {
             "colorbar": {
              "outlinewidth": 0,
              "ticks": ""
             }
            },
            "type": "scattergl"
           }
          ],
          "scattermapbox": [
           {
            "marker": {
             "colorbar": {
              "outlinewidth": 0,
              "ticks": ""
             }
            },
            "type": "scattermapbox"
           }
          ],
          "scatterpolar": [
           {
            "marker": {
             "colorbar": {
              "outlinewidth": 0,
              "ticks": ""
             }
            },
            "type": "scatterpolar"
           }
          ],
          "scatterpolargl": [
           {
            "marker": {
             "colorbar": {
              "outlinewidth": 0,
              "ticks": ""
             }
            },
            "type": "scatterpolargl"
           }
          ],
          "scatterternary": [
           {
            "marker": {
             "colorbar": {
              "outlinewidth": 0,
              "ticks": ""
             }
            },
            "type": "scatterternary"
           }
          ],
          "surface": [
           {
            "colorbar": {
             "outlinewidth": 0,
             "ticks": ""
            },
            "colorscale": [
             [
              0,
              "#0d0887"
             ],
             [
              0.1111111111111111,
              "#46039f"
             ],
             [
              0.2222222222222222,
              "#7201a8"
             ],
             [
              0.3333333333333333,
              "#9c179e"
             ],
             [
              0.4444444444444444,
              "#bd3786"
             ],
             [
              0.5555555555555556,
              "#d8576b"
             ],
             [
              0.6666666666666666,
              "#ed7953"
             ],
             [
              0.7777777777777778,
              "#fb9f3a"
             ],
             [
              0.8888888888888888,
              "#fdca26"
             ],
             [
              1,
              "#f0f921"
             ]
            ],
            "type": "surface"
           }
          ],
          "table": [
           {
            "cells": {
             "fill": {
              "color": "#EBF0F8"
             },
             "line": {
              "color": "white"
             }
            },
            "header": {
             "fill": {
              "color": "#C8D4E3"
             },
             "line": {
              "color": "white"
             }
            },
            "type": "table"
           }
          ]
         },
         "layout": {
          "annotationdefaults": {
           "arrowcolor": "#2a3f5f",
           "arrowhead": 0,
           "arrowwidth": 1
          },
          "autotypenumbers": "strict",
          "coloraxis": {
           "colorbar": {
            "outlinewidth": 0,
            "ticks": ""
           }
          },
          "colorscale": {
           "diverging": [
            [
             0,
             "#8e0152"
            ],
            [
             0.1,
             "#c51b7d"
            ],
            [
             0.2,
             "#de77ae"
            ],
            [
             0.3,
             "#f1b6da"
            ],
            [
             0.4,
             "#fde0ef"
            ],
            [
             0.5,
             "#f7f7f7"
            ],
            [
             0.6,
             "#e6f5d0"
            ],
            [
             0.7,
             "#b8e186"
            ],
            [
             0.8,
             "#7fbc41"
            ],
            [
             0.9,
             "#4d9221"
            ],
            [
             1,
             "#276419"
            ]
           ],
           "sequential": [
            [
             0,
             "#0d0887"
            ],
            [
             0.1111111111111111,
             "#46039f"
            ],
            [
             0.2222222222222222,
             "#7201a8"
            ],
            [
             0.3333333333333333,
             "#9c179e"
            ],
            [
             0.4444444444444444,
             "#bd3786"
            ],
            [
             0.5555555555555556,
             "#d8576b"
            ],
            [
             0.6666666666666666,
             "#ed7953"
            ],
            [
             0.7777777777777778,
             "#fb9f3a"
            ],
            [
             0.8888888888888888,
             "#fdca26"
            ],
            [
             1,
             "#f0f921"
            ]
           ],
           "sequentialminus": [
            [
             0,
             "#0d0887"
            ],
            [
             0.1111111111111111,
             "#46039f"
            ],
            [
             0.2222222222222222,
             "#7201a8"
            ],
            [
             0.3333333333333333,
             "#9c179e"
            ],
            [
             0.4444444444444444,
             "#bd3786"
            ],
            [
             0.5555555555555556,
             "#d8576b"
            ],
            [
             0.6666666666666666,
             "#ed7953"
            ],
            [
             0.7777777777777778,
             "#fb9f3a"
            ],
            [
             0.8888888888888888,
             "#fdca26"
            ],
            [
             1,
             "#f0f921"
            ]
           ]
          },
          "colorway": [
           "#636efa",
           "#EF553B",
           "#00cc96",
           "#ab63fa",
           "#FFA15A",
           "#19d3f3",
           "#FF6692",
           "#B6E880",
           "#FF97FF",
           "#FECB52"
          ],
          "font": {
           "color": "#2a3f5f"
          },
          "geo": {
           "bgcolor": "white",
           "lakecolor": "white",
           "landcolor": "white",
           "showlakes": true,
           "showland": true,
           "subunitcolor": "#C8D4E3"
          },
          "hoverlabel": {
           "align": "left"
          },
          "hovermode": "closest",
          "mapbox": {
           "style": "light"
          },
          "paper_bgcolor": "white",
          "plot_bgcolor": "white",
          "polar": {
           "angularaxis": {
            "gridcolor": "#EBF0F8",
            "linecolor": "#EBF0F8",
            "ticks": ""
           },
           "bgcolor": "white",
           "radialaxis": {
            "gridcolor": "#EBF0F8",
            "linecolor": "#EBF0F8",
            "ticks": ""
           }
          },
          "scene": {
           "xaxis": {
            "backgroundcolor": "white",
            "gridcolor": "#DFE8F3",
            "gridwidth": 2,
            "linecolor": "#EBF0F8",
            "showbackground": true,
            "ticks": "",
            "zerolinecolor": "#EBF0F8"
           },
           "yaxis": {
            "backgroundcolor": "white",
            "gridcolor": "#DFE8F3",
            "gridwidth": 2,
            "linecolor": "#EBF0F8",
            "showbackground": true,
            "ticks": "",
            "zerolinecolor": "#EBF0F8"
           },
           "zaxis": {
            "backgroundcolor": "white",
            "gridcolor": "#DFE8F3",
            "gridwidth": 2,
            "linecolor": "#EBF0F8",
            "showbackground": true,
            "ticks": "",
            "zerolinecolor": "#EBF0F8"
           }
          },
          "shapedefaults": {
           "line": {
            "color": "#2a3f5f"
           }
          },
          "ternary": {
           "aaxis": {
            "gridcolor": "#DFE8F3",
            "linecolor": "#A2B1C6",
            "ticks": ""
           },
           "baxis": {
            "gridcolor": "#DFE8F3",
            "linecolor": "#A2B1C6",
            "ticks": ""
           },
           "bgcolor": "white",
           "caxis": {
            "gridcolor": "#DFE8F3",
            "linecolor": "#A2B1C6",
            "ticks": ""
           }
          },
          "title": {
           "x": 0.05
          },
          "xaxis": {
           "automargin": true,
           "gridcolor": "#EBF0F8",
           "linecolor": "#EBF0F8",
           "ticks": "",
           "title": {
            "standoff": 15
           },
           "zerolinecolor": "#EBF0F8",
           "zerolinewidth": 2
          },
          "yaxis": {
           "automargin": true,
           "gridcolor": "#EBF0F8",
           "linecolor": "#EBF0F8",
           "ticks": "",
           "title": {
            "standoff": 15
           },
           "zerolinecolor": "#EBF0F8",
           "zerolinewidth": 2
          }
         }
        },
        "title": {
         "font": {
          "color": "black",
          "family": "Myriad Pro",
          "size": 18
         },
         "text": "Single Trials_Lac"
        },
        "width": 700,
        "xaxis": {
         "anchor": "y",
         "domain": [
          0,
          0.26666666666666666
         ],
         "linecolor": "black",
         "linewidth": 1,
         "mirror": true,
         "nticks": 10,
         "showgrid": false,
         "showline": true,
         "tickangle": -90,
         "tickcolor": "black",
         "tickfont": {
          "color": "black",
          "family": "Myriad Pro",
          "size": 18
         },
         "ticklen": 6,
         "ticks": "outside",
         "title": {
          "font": {
           "color": "black",
           "family": "Myriad Pro",
           "size": 18
          },
          "standoff": 2
         },
         "zeroline": false
        },
        "xaxis2": {
         "anchor": "y2",
         "domain": [
          0.3666666666666667,
          0.6333333333333333
         ],
         "linecolor": "black",
         "linewidth": 1,
         "mirror": true,
         "nticks": 10,
         "showgrid": false,
         "showline": true,
         "tickangle": -90,
         "tickcolor": "black",
         "tickfont": {
          "color": "black",
          "family": "Myriad Pro",
          "size": 18
         },
         "ticklen": 6,
         "ticks": "outside",
         "title": {
          "font": {
           "color": "black",
           "family": "Myriad Pro",
           "size": 18
          },
          "standoff": 2
         },
         "zeroline": false
        },
        "xaxis3": {
         "anchor": "y3",
         "domain": [
          0.7333333333333334,
          1
         ],
         "linecolor": "black",
         "linewidth": 1,
         "mirror": true,
         "nticks": 10,
         "showgrid": false,
         "showline": true,
         "tickangle": -90,
         "tickcolor": "black",
         "tickfont": {
          "color": "black",
          "family": "Myriad Pro",
          "size": 18
         },
         "ticklen": 6,
         "ticks": "outside",
         "title": {
          "font": {
           "color": "black",
           "family": "Myriad Pro",
           "size": 18
          },
          "standoff": 2
         },
         "zeroline": false
        },
        "yaxis": {
         "anchor": "x",
         "domain": [
          0,
          1
         ],
         "linecolor": "black",
         "linewidth": 1,
         "mirror": true,
         "nticks": 10,
         "range": [
          0,
          1
         ],
         "showgrid": false,
         "showline": true,
         "tickangle": 0,
         "tickcolor": "black",
         "tickfont": {
          "color": "black",
          "family": "Myriad Pro",
          "size": 18
         },
         "ticklen": 6,
         "ticks": "outside",
         "title": {
          "font": {
           "color": "black",
           "family": "Myriad Pro",
           "size": 18
          },
          "standoff": 2
         },
         "zeroline": false
        },
        "yaxis2": {
         "anchor": "x2",
         "domain": [
          0,
          1
         ],
         "linecolor": "black",
         "linewidth": 1,
         "mirror": true,
         "nticks": 10,
         "range": [
          0,
          1
         ],
         "showgrid": false,
         "showline": true,
         "tickangle": 0,
         "tickcolor": "black",
         "tickfont": {
          "color": "black",
          "family": "Myriad Pro",
          "size": 18
         },
         "ticklen": 6,
         "ticks": "outside",
         "title": {
          "font": {
           "color": "black",
           "family": "Myriad Pro",
           "size": 18
          },
          "standoff": 2
         },
         "zeroline": false
        },
        "yaxis3": {
         "anchor": "x3",
         "domain": [
          0,
          1
         ],
         "linecolor": "black",
         "linewidth": 1,
         "mirror": true,
         "nticks": 10,
         "range": [
          0,
          1
         ],
         "showgrid": false,
         "showline": true,
         "tickangle": 0,
         "tickcolor": "black",
         "tickfont": {
          "color": "black",
          "family": "Myriad Pro",
          "size": 18
         },
         "ticklen": 6,
         "ticks": "outside",
         "title": {
          "font": {
           "color": "black",
           "family": "Myriad Pro",
           "size": 18
          },
          "standoff": 2
         },
         "zeroline": false
        }
       }
      },
      "text/html": [
       "<div>                            <div id=\"7e7df34d-af1d-4ebf-8849-ba7dd4c159d7\" class=\"plotly-graph-div\" style=\"height:350px; width:700px;\"></div>            <script type=\"text/javascript\">                require([\"plotly\"], function(Plotly) {                    window.PLOTLYENV=window.PLOTLYENV || {};                                    if (document.getElementById(\"7e7df34d-af1d-4ebf-8849-ba7dd4c159d7\")) {                    Plotly.newPlot(                        \"7e7df34d-af1d-4ebf-8849-ba7dd4c159d7\",                        [{\"marker\": {\"color\": \"rgb(73,143,201)\"}, \"orientation\": \"v\", \"showlegend\": false, \"type\": \"bar\", \"x\": [\"A-*\", \"B-*\", \"C-*\", \"D-*\"], \"xaxis\": \"x\", \"y\": [0.5333333333333333, 0.6666666666666666, 0.7666666666666667, 0.8], \"yaxis\": \"y\"}, {\"marker\": {\"color\": \"rgb(73,143,201)\"}, \"orientation\": \"v\", \"showlegend\": false, \"type\": \"bar\", \"x\": [\"D-DAS+2\", \"E-DAS+2\", \"D-LAA\"], \"xaxis\": \"x2\", \"y\": [0.7666666666666667, 0.5333333333333333, 0.6333333333333333], \"yaxis\": \"y2\"}, {\"marker\": {\"color\": \"rgb(73,143,201)\"}, \"orientation\": \"v\", \"showlegend\": false, \"type\": \"bar\", \"x\": [\"C-LAA\", \"B-DAS\", \"E-LAA\"], \"xaxis\": \"x3\", \"y\": [0.5, 0.5, 0.6333333333333333], \"yaxis\": \"y3\"}],                        {\"bargap\": 0.5, \"height\": 350, \"template\": {\"data\": {\"bar\": [{\"error_x\": {\"color\": \"#2a3f5f\"}, \"error_y\": {\"color\": \"#2a3f5f\"}, \"marker\": {\"line\": {\"color\": \"white\", \"width\": 0.5}}, \"type\": \"bar\"}], \"barpolar\": [{\"marker\": {\"line\": {\"color\": \"white\", \"width\": 0.5}}, \"type\": \"barpolar\"}], \"carpet\": [{\"aaxis\": {\"endlinecolor\": \"#2a3f5f\", \"gridcolor\": \"#C8D4E3\", \"linecolor\": \"#C8D4E3\", \"minorgridcolor\": \"#C8D4E3\", \"startlinecolor\": \"#2a3f5f\"}, \"baxis\": {\"endlinecolor\": \"#2a3f5f\", \"gridcolor\": \"#C8D4E3\", \"linecolor\": \"#C8D4E3\", \"minorgridcolor\": \"#C8D4E3\", \"startlinecolor\": \"#2a3f5f\"}, \"type\": \"carpet\"}], \"choropleth\": [{\"colorbar\": {\"outlinewidth\": 0, \"ticks\": \"\"}, \"type\": \"choropleth\"}], \"contour\": [{\"colorbar\": {\"outlinewidth\": 0, \"ticks\": \"\"}, \"colorscale\": [[0.0, \"#0d0887\"], [0.1111111111111111, \"#46039f\"], [0.2222222222222222, \"#7201a8\"], [0.3333333333333333, \"#9c179e\"], [0.4444444444444444, \"#bd3786\"], [0.5555555555555556, \"#d8576b\"], [0.6666666666666666, \"#ed7953\"], [0.7777777777777778, \"#fb9f3a\"], [0.8888888888888888, \"#fdca26\"], [1.0, \"#f0f921\"]], \"type\": \"contour\"}], \"contourcarpet\": [{\"colorbar\": {\"outlinewidth\": 0, \"ticks\": \"\"}, \"type\": \"contourcarpet\"}], \"heatmap\": [{\"colorbar\": {\"outlinewidth\": 0, \"ticks\": \"\"}, \"colorscale\": [[0.0, \"#0d0887\"], [0.1111111111111111, \"#46039f\"], [0.2222222222222222, \"#7201a8\"], [0.3333333333333333, \"#9c179e\"], [0.4444444444444444, \"#bd3786\"], [0.5555555555555556, \"#d8576b\"], [0.6666666666666666, \"#ed7953\"], [0.7777777777777778, \"#fb9f3a\"], [0.8888888888888888, \"#fdca26\"], [1.0, \"#f0f921\"]], \"type\": \"heatmap\"}], \"heatmapgl\": [{\"colorbar\": {\"outlinewidth\": 0, \"ticks\": \"\"}, \"colorscale\": [[0.0, \"#0d0887\"], [0.1111111111111111, \"#46039f\"], [0.2222222222222222, \"#7201a8\"], [0.3333333333333333, \"#9c179e\"], [0.4444444444444444, \"#bd3786\"], [0.5555555555555556, \"#d8576b\"], [0.6666666666666666, \"#ed7953\"], [0.7777777777777778, \"#fb9f3a\"], [0.8888888888888888, \"#fdca26\"], [1.0, \"#f0f921\"]], \"type\": \"heatmapgl\"}], \"histogram\": [{\"marker\": {\"colorbar\": {\"outlinewidth\": 0, \"ticks\": \"\"}}, \"type\": \"histogram\"}], \"histogram2d\": [{\"colorbar\": {\"outlinewidth\": 0, \"ticks\": \"\"}, \"colorscale\": [[0.0, \"#0d0887\"], [0.1111111111111111, \"#46039f\"], [0.2222222222222222, \"#7201a8\"], [0.3333333333333333, \"#9c179e\"], [0.4444444444444444, \"#bd3786\"], [0.5555555555555556, \"#d8576b\"], [0.6666666666666666, \"#ed7953\"], [0.7777777777777778, \"#fb9f3a\"], [0.8888888888888888, \"#fdca26\"], [1.0, \"#f0f921\"]], \"type\": \"histogram2d\"}], \"histogram2dcontour\": [{\"colorbar\": {\"outlinewidth\": 0, \"ticks\": \"\"}, \"colorscale\": [[0.0, \"#0d0887\"], [0.1111111111111111, \"#46039f\"], [0.2222222222222222, \"#7201a8\"], [0.3333333333333333, \"#9c179e\"], [0.4444444444444444, \"#bd3786\"], [0.5555555555555556, \"#d8576b\"], [0.6666666666666666, \"#ed7953\"], [0.7777777777777778, \"#fb9f3a\"], [0.8888888888888888, \"#fdca26\"], [1.0, \"#f0f921\"]], \"type\": \"histogram2dcontour\"}], \"mesh3d\": [{\"colorbar\": {\"outlinewidth\": 0, \"ticks\": \"\"}, \"type\": \"mesh3d\"}], \"parcoords\": [{\"line\": {\"colorbar\": {\"outlinewidth\": 0, \"ticks\": \"\"}}, \"type\": \"parcoords\"}], \"pie\": [{\"automargin\": true, \"type\": \"pie\"}], \"scatter\": [{\"marker\": {\"colorbar\": {\"outlinewidth\": 0, \"ticks\": \"\"}}, \"type\": \"scatter\"}], \"scatter3d\": [{\"line\": {\"colorbar\": {\"outlinewidth\": 0, \"ticks\": \"\"}}, \"marker\": {\"colorbar\": {\"outlinewidth\": 0, \"ticks\": \"\"}}, \"type\": \"scatter3d\"}], \"scattercarpet\": [{\"marker\": {\"colorbar\": {\"outlinewidth\": 0, \"ticks\": \"\"}}, \"type\": \"scattercarpet\"}], \"scattergeo\": [{\"marker\": {\"colorbar\": {\"outlinewidth\": 0, \"ticks\": \"\"}}, \"type\": \"scattergeo\"}], \"scattergl\": [{\"marker\": {\"colorbar\": {\"outlinewidth\": 0, \"ticks\": \"\"}}, \"type\": \"scattergl\"}], \"scattermapbox\": [{\"marker\": {\"colorbar\": {\"outlinewidth\": 0, \"ticks\": \"\"}}, \"type\": \"scattermapbox\"}], \"scatterpolar\": [{\"marker\": {\"colorbar\": {\"outlinewidth\": 0, \"ticks\": \"\"}}, \"type\": \"scatterpolar\"}], \"scatterpolargl\": [{\"marker\": {\"colorbar\": {\"outlinewidth\": 0, \"ticks\": \"\"}}, \"type\": \"scatterpolargl\"}], \"scatterternary\": [{\"marker\": {\"colorbar\": {\"outlinewidth\": 0, \"ticks\": \"\"}}, \"type\": \"scatterternary\"}], \"surface\": [{\"colorbar\": {\"outlinewidth\": 0, \"ticks\": \"\"}, \"colorscale\": [[0.0, \"#0d0887\"], [0.1111111111111111, \"#46039f\"], [0.2222222222222222, \"#7201a8\"], [0.3333333333333333, \"#9c179e\"], [0.4444444444444444, \"#bd3786\"], [0.5555555555555556, \"#d8576b\"], [0.6666666666666666, \"#ed7953\"], [0.7777777777777778, \"#fb9f3a\"], [0.8888888888888888, \"#fdca26\"], [1.0, \"#f0f921\"]], \"type\": \"surface\"}], \"table\": [{\"cells\": {\"fill\": {\"color\": \"#EBF0F8\"}, \"line\": {\"color\": \"white\"}}, \"header\": {\"fill\": {\"color\": \"#C8D4E3\"}, \"line\": {\"color\": \"white\"}}, \"type\": \"table\"}]}, \"layout\": {\"annotationdefaults\": {\"arrowcolor\": \"#2a3f5f\", \"arrowhead\": 0, \"arrowwidth\": 1}, \"autotypenumbers\": \"strict\", \"coloraxis\": {\"colorbar\": {\"outlinewidth\": 0, \"ticks\": \"\"}}, \"colorscale\": {\"diverging\": [[0, \"#8e0152\"], [0.1, \"#c51b7d\"], [0.2, \"#de77ae\"], [0.3, \"#f1b6da\"], [0.4, \"#fde0ef\"], [0.5, \"#f7f7f7\"], [0.6, \"#e6f5d0\"], [0.7, \"#b8e186\"], [0.8, \"#7fbc41\"], [0.9, \"#4d9221\"], [1, \"#276419\"]], \"sequential\": [[0.0, \"#0d0887\"], [0.1111111111111111, \"#46039f\"], [0.2222222222222222, \"#7201a8\"], [0.3333333333333333, \"#9c179e\"], [0.4444444444444444, \"#bd3786\"], [0.5555555555555556, \"#d8576b\"], [0.6666666666666666, \"#ed7953\"], [0.7777777777777778, \"#fb9f3a\"], [0.8888888888888888, \"#fdca26\"], [1.0, \"#f0f921\"]], \"sequentialminus\": [[0.0, \"#0d0887\"], [0.1111111111111111, \"#46039f\"], [0.2222222222222222, \"#7201a8\"], [0.3333333333333333, \"#9c179e\"], [0.4444444444444444, \"#bd3786\"], [0.5555555555555556, \"#d8576b\"], [0.6666666666666666, \"#ed7953\"], [0.7777777777777778, \"#fb9f3a\"], [0.8888888888888888, \"#fdca26\"], [1.0, \"#f0f921\"]]}, \"colorway\": [\"#636efa\", \"#EF553B\", \"#00cc96\", \"#ab63fa\", \"#FFA15A\", \"#19d3f3\", \"#FF6692\", \"#B6E880\", \"#FF97FF\", \"#FECB52\"], \"font\": {\"color\": \"#2a3f5f\"}, \"geo\": {\"bgcolor\": \"white\", \"lakecolor\": \"white\", \"landcolor\": \"white\", \"showlakes\": true, \"showland\": true, \"subunitcolor\": \"#C8D4E3\"}, \"hoverlabel\": {\"align\": \"left\"}, \"hovermode\": \"closest\", \"mapbox\": {\"style\": \"light\"}, \"paper_bgcolor\": \"white\", \"plot_bgcolor\": \"white\", \"polar\": {\"angularaxis\": {\"gridcolor\": \"#EBF0F8\", \"linecolor\": \"#EBF0F8\", \"ticks\": \"\"}, \"bgcolor\": \"white\", \"radialaxis\": {\"gridcolor\": \"#EBF0F8\", \"linecolor\": \"#EBF0F8\", \"ticks\": \"\"}}, \"scene\": {\"xaxis\": {\"backgroundcolor\": \"white\", \"gridcolor\": \"#DFE8F3\", \"gridwidth\": 2, \"linecolor\": \"#EBF0F8\", \"showbackground\": true, \"ticks\": \"\", \"zerolinecolor\": \"#EBF0F8\"}, \"yaxis\": {\"backgroundcolor\": \"white\", \"gridcolor\": \"#DFE8F3\", \"gridwidth\": 2, \"linecolor\": \"#EBF0F8\", \"showbackground\": true, \"ticks\": \"\", \"zerolinecolor\": \"#EBF0F8\"}, \"zaxis\": {\"backgroundcolor\": \"white\", \"gridcolor\": \"#DFE8F3\", \"gridwidth\": 2, \"linecolor\": \"#EBF0F8\", \"showbackground\": true, \"ticks\": \"\", \"zerolinecolor\": \"#EBF0F8\"}}, \"shapedefaults\": {\"line\": {\"color\": \"#2a3f5f\"}}, \"ternary\": {\"aaxis\": {\"gridcolor\": \"#DFE8F3\", \"linecolor\": \"#A2B1C6\", \"ticks\": \"\"}, \"baxis\": {\"gridcolor\": \"#DFE8F3\", \"linecolor\": \"#A2B1C6\", \"ticks\": \"\"}, \"bgcolor\": \"white\", \"caxis\": {\"gridcolor\": \"#DFE8F3\", \"linecolor\": \"#A2B1C6\", \"ticks\": \"\"}}, \"title\": {\"x\": 0.05}, \"xaxis\": {\"automargin\": true, \"gridcolor\": \"#EBF0F8\", \"linecolor\": \"#EBF0F8\", \"ticks\": \"\", \"title\": {\"standoff\": 15}, \"zerolinecolor\": \"#EBF0F8\", \"zerolinewidth\": 2}, \"yaxis\": {\"automargin\": true, \"gridcolor\": \"#EBF0F8\", \"linecolor\": \"#EBF0F8\", \"ticks\": \"\", \"title\": {\"standoff\": 15}, \"zerolinecolor\": \"#EBF0F8\", \"zerolinewidth\": 2}}}, \"title\": {\"font\": {\"color\": \"black\", \"family\": \"Myriad Pro\", \"size\": 18}, \"text\": \"Single Trials_Lac\"}, \"width\": 700, \"xaxis\": {\"anchor\": \"y\", \"domain\": [0.0, 0.26666666666666666], \"linecolor\": \"black\", \"linewidth\": 1, \"mirror\": true, \"nticks\": 10, \"showgrid\": false, \"showline\": true, \"tickangle\": -90, \"tickcolor\": \"black\", \"tickfont\": {\"color\": \"black\", \"family\": \"Myriad Pro\", \"size\": 18}, \"ticklen\": 6, \"ticks\": \"outside\", \"title\": {\"font\": {\"color\": \"black\", \"family\": \"Myriad Pro\", \"size\": 18}, \"standoff\": 2}, \"zeroline\": false}, \"xaxis2\": {\"anchor\": \"y2\", \"domain\": [0.3666666666666667, 0.6333333333333333], \"linecolor\": \"black\", \"linewidth\": 1, \"mirror\": true, \"nticks\": 10, \"showgrid\": false, \"showline\": true, \"tickangle\": -90, \"tickcolor\": \"black\", \"tickfont\": {\"color\": \"black\", \"family\": \"Myriad Pro\", \"size\": 18}, \"ticklen\": 6, \"ticks\": \"outside\", \"title\": {\"font\": {\"color\": \"black\", \"family\": \"Myriad Pro\", \"size\": 18}, \"standoff\": 2}, \"zeroline\": false}, \"xaxis3\": {\"anchor\": \"y3\", \"domain\": [0.7333333333333334, 1.0], \"linecolor\": \"black\", \"linewidth\": 1, \"mirror\": true, \"nticks\": 10, \"showgrid\": false, \"showline\": true, \"tickangle\": -90, \"tickcolor\": \"black\", \"tickfont\": {\"color\": \"black\", \"family\": \"Myriad Pro\", \"size\": 18}, \"ticklen\": 6, \"ticks\": \"outside\", \"title\": {\"font\": {\"color\": \"black\", \"family\": \"Myriad Pro\", \"size\": 18}, \"standoff\": 2}, \"zeroline\": false}, \"yaxis\": {\"anchor\": \"x\", \"domain\": [0.0, 1.0], \"linecolor\": \"black\", \"linewidth\": 1, \"mirror\": true, \"nticks\": 10, \"range\": [0, 1], \"showgrid\": false, \"showline\": true, \"tickangle\": 0, \"tickcolor\": \"black\", \"tickfont\": {\"color\": \"black\", \"family\": \"Myriad Pro\", \"size\": 18}, \"ticklen\": 6, \"ticks\": \"outside\", \"title\": {\"font\": {\"color\": \"black\", \"family\": \"Myriad Pro\", \"size\": 18}, \"standoff\": 2}, \"zeroline\": false}, \"yaxis2\": {\"anchor\": \"x2\", \"domain\": [0.0, 1.0], \"linecolor\": \"black\", \"linewidth\": 1, \"mirror\": true, \"nticks\": 10, \"range\": [0, 1], \"showgrid\": false, \"showline\": true, \"tickangle\": 0, \"tickcolor\": \"black\", \"tickfont\": {\"color\": \"black\", \"family\": \"Myriad Pro\", \"size\": 18}, \"ticklen\": 6, \"ticks\": \"outside\", \"title\": {\"font\": {\"color\": \"black\", \"family\": \"Myriad Pro\", \"size\": 18}, \"standoff\": 2}, \"zeroline\": false}, \"yaxis3\": {\"anchor\": \"x3\", \"domain\": [0.0, 1.0], \"linecolor\": \"black\", \"linewidth\": 1, \"mirror\": true, \"nticks\": 10, \"range\": [0, 1], \"showgrid\": false, \"showline\": true, \"tickangle\": 0, \"tickcolor\": \"black\", \"tickfont\": {\"color\": \"black\", \"family\": \"Myriad Pro\", \"size\": 18}, \"ticklen\": 6, \"ticks\": \"outside\", \"title\": {\"font\": {\"color\": \"black\", \"family\": \"Myriad Pro\", \"size\": 18}, \"standoff\": 2}, \"zeroline\": false}},                        {\"responsive\": true}                    ).then(function(){\n",
       "                            \n",
       "var gd = document.getElementById('7e7df34d-af1d-4ebf-8849-ba7dd4c159d7');\n",
       "var x = new MutationObserver(function (mutations, observer) {{\n",
       "        var display = window.getComputedStyle(gd).display;\n",
       "        if (!display || display === 'none') {{\n",
       "            console.log([gd, 'removed!']);\n",
       "            Plotly.purge(gd);\n",
       "            observer.disconnect();\n",
       "        }}\n",
       "}});\n",
       "\n",
       "// Listen for the removal of the full notebook cells\n",
       "var notebookContainer = gd.closest('#notebook-container');\n",
       "if (notebookContainer) {{\n",
       "    x.observe(notebookContainer, {childList: true});\n",
       "}}\n",
       "\n",
       "// Listen for the clearing of the current output cell\n",
       "var outputEl = gd.closest('.output');\n",
       "if (outputEl) {{\n",
       "    x.observe(outputEl, {childList: true});\n",
       "}}\n",
       "\n",
       "                        })                };                });            </script>        </div>"
      ]
     },
     "metadata": {},
     "output_type": "display_data"
    },
    {
     "data": {
      "application/vnd.plotly.v1+json": {
       "config": {
        "linkText": "Export to plot.ly",
        "plotlyServerURL": "https://plot.ly",
        "showLink": false
       },
       "data": [
        {
         "marker": {
          "color": "rgb(73,143,201)"
         },
         "orientation": "h",
         "showlegend": false,
         "type": "bar",
         "x": [
          0.2,
          0.43333333333333335,
          0.03333333333333333
         ],
         "xaxis": "x",
         "y": [
          "B-DAS+2",
          "C-DAS+2",
          "C-LAA"
         ],
         "yaxis": "y"
        },
        {
         "marker": {
          "color": "rgb(73,143,201)"
         },
         "orientation": "h",
         "showlegend": false,
         "type": "bar",
         "x": [
          0.9666666666666667,
          1,
          0.26666666666666666
         ],
         "xaxis": "x2",
         "y": [
          "D-LAA",
          "E-LAA",
          "B-DAS"
         ],
         "yaxis": "y2"
        },
        {
         "marker": {
          "color": "rgb(73,143,201)"
         },
         "orientation": "h",
         "showlegend": false,
         "type": "bar",
         "x": [
          0.4666666666666667,
          1,
          1,
          0.9666666666666667
         ],
         "xaxis": "x3",
         "y": [
          "C-*",
          "E-*",
          "E-DAS",
          "E-DAS+2"
         ],
         "yaxis": "y3"
        }
       ],
       "layout": {
        "bargap": 0.5,
        "height": 775,
        "template": {
         "data": {
          "bar": [
           {
            "error_x": {
             "color": "#2a3f5f"
            },
            "error_y": {
             "color": "#2a3f5f"
            },
            "marker": {
             "line": {
              "color": "white",
              "width": 0.5
             }
            },
            "type": "bar"
           }
          ],
          "barpolar": [
           {
            "marker": {
             "line": {
              "color": "white",
              "width": 0.5
             }
            },
            "type": "barpolar"
           }
          ],
          "carpet": [
           {
            "aaxis": {
             "endlinecolor": "#2a3f5f",
             "gridcolor": "#C8D4E3",
             "linecolor": "#C8D4E3",
             "minorgridcolor": "#C8D4E3",
             "startlinecolor": "#2a3f5f"
            },
            "baxis": {
             "endlinecolor": "#2a3f5f",
             "gridcolor": "#C8D4E3",
             "linecolor": "#C8D4E3",
             "minorgridcolor": "#C8D4E3",
             "startlinecolor": "#2a3f5f"
            },
            "type": "carpet"
           }
          ],
          "choropleth": [
           {
            "colorbar": {
             "outlinewidth": 0,
             "ticks": ""
            },
            "type": "choropleth"
           }
          ],
          "contour": [
           {
            "colorbar": {
             "outlinewidth": 0,
             "ticks": ""
            },
            "colorscale": [
             [
              0,
              "#0d0887"
             ],
             [
              0.1111111111111111,
              "#46039f"
             ],
             [
              0.2222222222222222,
              "#7201a8"
             ],
             [
              0.3333333333333333,
              "#9c179e"
             ],
             [
              0.4444444444444444,
              "#bd3786"
             ],
             [
              0.5555555555555556,
              "#d8576b"
             ],
             [
              0.6666666666666666,
              "#ed7953"
             ],
             [
              0.7777777777777778,
              "#fb9f3a"
             ],
             [
              0.8888888888888888,
              "#fdca26"
             ],
             [
              1,
              "#f0f921"
             ]
            ],
            "type": "contour"
           }
          ],
          "contourcarpet": [
           {
            "colorbar": {
             "outlinewidth": 0,
             "ticks": ""
            },
            "type": "contourcarpet"
           }
          ],
          "heatmap": [
           {
            "colorbar": {
             "outlinewidth": 0,
             "ticks": ""
            },
            "colorscale": [
             [
              0,
              "#0d0887"
             ],
             [
              0.1111111111111111,
              "#46039f"
             ],
             [
              0.2222222222222222,
              "#7201a8"
             ],
             [
              0.3333333333333333,
              "#9c179e"
             ],
             [
              0.4444444444444444,
              "#bd3786"
             ],
             [
              0.5555555555555556,
              "#d8576b"
             ],
             [
              0.6666666666666666,
              "#ed7953"
             ],
             [
              0.7777777777777778,
              "#fb9f3a"
             ],
             [
              0.8888888888888888,
              "#fdca26"
             ],
             [
              1,
              "#f0f921"
             ]
            ],
            "type": "heatmap"
           }
          ],
          "heatmapgl": [
           {
            "colorbar": {
             "outlinewidth": 0,
             "ticks": ""
            },
            "colorscale": [
             [
              0,
              "#0d0887"
             ],
             [
              0.1111111111111111,
              "#46039f"
             ],
             [
              0.2222222222222222,
              "#7201a8"
             ],
             [
              0.3333333333333333,
              "#9c179e"
             ],
             [
              0.4444444444444444,
              "#bd3786"
             ],
             [
              0.5555555555555556,
              "#d8576b"
             ],
             [
              0.6666666666666666,
              "#ed7953"
             ],
             [
              0.7777777777777778,
              "#fb9f3a"
             ],
             [
              0.8888888888888888,
              "#fdca26"
             ],
             [
              1,
              "#f0f921"
             ]
            ],
            "type": "heatmapgl"
           }
          ],
          "histogram": [
           {
            "marker": {
             "colorbar": {
              "outlinewidth": 0,
              "ticks": ""
             }
            },
            "type": "histogram"
           }
          ],
          "histogram2d": [
           {
            "colorbar": {
             "outlinewidth": 0,
             "ticks": ""
            },
            "colorscale": [
             [
              0,
              "#0d0887"
             ],
             [
              0.1111111111111111,
              "#46039f"
             ],
             [
              0.2222222222222222,
              "#7201a8"
             ],
             [
              0.3333333333333333,
              "#9c179e"
             ],
             [
              0.4444444444444444,
              "#bd3786"
             ],
             [
              0.5555555555555556,
              "#d8576b"
             ],
             [
              0.6666666666666666,
              "#ed7953"
             ],
             [
              0.7777777777777778,
              "#fb9f3a"
             ],
             [
              0.8888888888888888,
              "#fdca26"
             ],
             [
              1,
              "#f0f921"
             ]
            ],
            "type": "histogram2d"
           }
          ],
          "histogram2dcontour": [
           {
            "colorbar": {
             "outlinewidth": 0,
             "ticks": ""
            },
            "colorscale": [
             [
              0,
              "#0d0887"
             ],
             [
              0.1111111111111111,
              "#46039f"
             ],
             [
              0.2222222222222222,
              "#7201a8"
             ],
             [
              0.3333333333333333,
              "#9c179e"
             ],
             [
              0.4444444444444444,
              "#bd3786"
             ],
             [
              0.5555555555555556,
              "#d8576b"
             ],
             [
              0.6666666666666666,
              "#ed7953"
             ],
             [
              0.7777777777777778,
              "#fb9f3a"
             ],
             [
              0.8888888888888888,
              "#fdca26"
             ],
             [
              1,
              "#f0f921"
             ]
            ],
            "type": "histogram2dcontour"
           }
          ],
          "mesh3d": [
           {
            "colorbar": {
             "outlinewidth": 0,
             "ticks": ""
            },
            "type": "mesh3d"
           }
          ],
          "parcoords": [
           {
            "line": {
             "colorbar": {
              "outlinewidth": 0,
              "ticks": ""
             }
            },
            "type": "parcoords"
           }
          ],
          "pie": [
           {
            "automargin": true,
            "type": "pie"
           }
          ],
          "scatter": [
           {
            "marker": {
             "colorbar": {
              "outlinewidth": 0,
              "ticks": ""
             }
            },
            "type": "scatter"
           }
          ],
          "scatter3d": [
           {
            "line": {
             "colorbar": {
              "outlinewidth": 0,
              "ticks": ""
             }
            },
            "marker": {
             "colorbar": {
              "outlinewidth": 0,
              "ticks": ""
             }
            },
            "type": "scatter3d"
           }
          ],
          "scattercarpet": [
           {
            "marker": {
             "colorbar": {
              "outlinewidth": 0,
              "ticks": ""
             }
            },
            "type": "scattercarpet"
           }
          ],
          "scattergeo": [
           {
            "marker": {
             "colorbar": {
              "outlinewidth": 0,
              "ticks": ""
             }
            },
            "type": "scattergeo"
           }
          ],
          "scattergl": [
           {
            "marker": {
             "colorbar": {
              "outlinewidth": 0,
              "ticks": ""
             }
            },
            "type": "scattergl"
           }
          ],
          "scattermapbox": [
           {
            "marker": {
             "colorbar": {
              "outlinewidth": 0,
              "ticks": ""
             }
            },
            "type": "scattermapbox"
           }
          ],
          "scatterpolar": [
           {
            "marker": {
             "colorbar": {
              "outlinewidth": 0,
              "ticks": ""
             }
            },
            "type": "scatterpolar"
           }
          ],
          "scatterpolargl": [
           {
            "marker": {
             "colorbar": {
              "outlinewidth": 0,
              "ticks": ""
             }
            },
            "type": "scatterpolargl"
           }
          ],
          "scatterternary": [
           {
            "marker": {
             "colorbar": {
              "outlinewidth": 0,
              "ticks": ""
             }
            },
            "type": "scatterternary"
           }
          ],
          "surface": [
           {
            "colorbar": {
             "outlinewidth": 0,
             "ticks": ""
            },
            "colorscale": [
             [
              0,
              "#0d0887"
             ],
             [
              0.1111111111111111,
              "#46039f"
             ],
             [
              0.2222222222222222,
              "#7201a8"
             ],
             [
              0.3333333333333333,
              "#9c179e"
             ],
             [
              0.4444444444444444,
              "#bd3786"
             ],
             [
              0.5555555555555556,
              "#d8576b"
             ],
             [
              0.6666666666666666,
              "#ed7953"
             ],
             [
              0.7777777777777778,
              "#fb9f3a"
             ],
             [
              0.8888888888888888,
              "#fdca26"
             ],
             [
              1,
              "#f0f921"
             ]
            ],
            "type": "surface"
           }
          ],
          "table": [
           {
            "cells": {
             "fill": {
              "color": "#EBF0F8"
             },
             "line": {
              "color": "white"
             }
            },
            "header": {
             "fill": {
              "color": "#C8D4E3"
             },
             "line": {
              "color": "white"
             }
            },
            "type": "table"
           }
          ]
         },
         "layout": {
          "annotationdefaults": {
           "arrowcolor": "#2a3f5f",
           "arrowhead": 0,
           "arrowwidth": 1
          },
          "autotypenumbers": "strict",
          "coloraxis": {
           "colorbar": {
            "outlinewidth": 0,
            "ticks": ""
           }
          },
          "colorscale": {
           "diverging": [
            [
             0,
             "#8e0152"
            ],
            [
             0.1,
             "#c51b7d"
            ],
            [
             0.2,
             "#de77ae"
            ],
            [
             0.3,
             "#f1b6da"
            ],
            [
             0.4,
             "#fde0ef"
            ],
            [
             0.5,
             "#f7f7f7"
            ],
            [
             0.6,
             "#e6f5d0"
            ],
            [
             0.7,
             "#b8e186"
            ],
            [
             0.8,
             "#7fbc41"
            ],
            [
             0.9,
             "#4d9221"
            ],
            [
             1,
             "#276419"
            ]
           ],
           "sequential": [
            [
             0,
             "#0d0887"
            ],
            [
             0.1111111111111111,
             "#46039f"
            ],
            [
             0.2222222222222222,
             "#7201a8"
            ],
            [
             0.3333333333333333,
             "#9c179e"
            ],
            [
             0.4444444444444444,
             "#bd3786"
            ],
            [
             0.5555555555555556,
             "#d8576b"
            ],
            [
             0.6666666666666666,
             "#ed7953"
            ],
            [
             0.7777777777777778,
             "#fb9f3a"
            ],
            [
             0.8888888888888888,
             "#fdca26"
            ],
            [
             1,
             "#f0f921"
            ]
           ],
           "sequentialminus": [
            [
             0,
             "#0d0887"
            ],
            [
             0.1111111111111111,
             "#46039f"
            ],
            [
             0.2222222222222222,
             "#7201a8"
            ],
            [
             0.3333333333333333,
             "#9c179e"
            ],
            [
             0.4444444444444444,
             "#bd3786"
            ],
            [
             0.5555555555555556,
             "#d8576b"
            ],
            [
             0.6666666666666666,
             "#ed7953"
            ],
            [
             0.7777777777777778,
             "#fb9f3a"
            ],
            [
             0.8888888888888888,
             "#fdca26"
            ],
            [
             1,
             "#f0f921"
            ]
           ]
          },
          "colorway": [
           "#636efa",
           "#EF553B",
           "#00cc96",
           "#ab63fa",
           "#FFA15A",
           "#19d3f3",
           "#FF6692",
           "#B6E880",
           "#FF97FF",
           "#FECB52"
          ],
          "font": {
           "color": "#2a3f5f"
          },
          "geo": {
           "bgcolor": "white",
           "lakecolor": "white",
           "landcolor": "white",
           "showlakes": true,
           "showland": true,
           "subunitcolor": "#C8D4E3"
          },
          "hoverlabel": {
           "align": "left"
          },
          "hovermode": "closest",
          "mapbox": {
           "style": "light"
          },
          "paper_bgcolor": "white",
          "plot_bgcolor": "white",
          "polar": {
           "angularaxis": {
            "gridcolor": "#EBF0F8",
            "linecolor": "#EBF0F8",
            "ticks": ""
           },
           "bgcolor": "white",
           "radialaxis": {
            "gridcolor": "#EBF0F8",
            "linecolor": "#EBF0F8",
            "ticks": ""
           }
          },
          "scene": {
           "xaxis": {
            "backgroundcolor": "white",
            "gridcolor": "#DFE8F3",
            "gridwidth": 2,
            "linecolor": "#EBF0F8",
            "showbackground": true,
            "ticks": "",
            "zerolinecolor": "#EBF0F8"
           },
           "yaxis": {
            "backgroundcolor": "white",
            "gridcolor": "#DFE8F3",
            "gridwidth": 2,
            "linecolor": "#EBF0F8",
            "showbackground": true,
            "ticks": "",
            "zerolinecolor": "#EBF0F8"
           },
           "zaxis": {
            "backgroundcolor": "white",
            "gridcolor": "#DFE8F3",
            "gridwidth": 2,
            "linecolor": "#EBF0F8",
            "showbackground": true,
            "ticks": "",
            "zerolinecolor": "#EBF0F8"
           }
          },
          "shapedefaults": {
           "line": {
            "color": "#2a3f5f"
           }
          },
          "ternary": {
           "aaxis": {
            "gridcolor": "#DFE8F3",
            "linecolor": "#A2B1C6",
            "ticks": ""
           },
           "baxis": {
            "gridcolor": "#DFE8F3",
            "linecolor": "#A2B1C6",
            "ticks": ""
           },
           "bgcolor": "white",
           "caxis": {
            "gridcolor": "#DFE8F3",
            "linecolor": "#A2B1C6",
            "ticks": ""
           }
          },
          "title": {
           "x": 0.05
          },
          "xaxis": {
           "automargin": true,
           "gridcolor": "#EBF0F8",
           "linecolor": "#EBF0F8",
           "ticks": "",
           "title": {
            "standoff": 15
           },
           "zerolinecolor": "#EBF0F8",
           "zerolinewidth": 2
          },
          "yaxis": {
           "automargin": true,
           "gridcolor": "#EBF0F8",
           "linecolor": "#EBF0F8",
           "ticks": "",
           "title": {
            "standoff": 15
           },
           "zerolinecolor": "#EBF0F8",
           "zerolinewidth": 2
          }
         }
        },
        "title": {
         "font": {
          "color": "black",
          "family": "Myriad Pro",
          "size": 18
         },
         "text": "Single Trials_Tet"
        },
        "width": 330,
        "xaxis": {
         "anchor": "y",
         "domain": [
          0,
          1
         ],
         "linecolor": "black",
         "linewidth": 1,
         "mirror": true,
         "nticks": 10,
         "range": [
          0,
          1
         ],
         "showgrid": false,
         "showline": true,
         "tickangle": -90,
         "tickcolor": "black",
         "tickfont": {
          "color": "black",
          "family": "Myriad Pro",
          "size": 18
         },
         "ticklen": 6,
         "ticks": "outside",
         "title": {
          "font": {
           "color": "black",
           "family": "Myriad Pro",
           "size": 18
          },
          "standoff": 2
         },
         "zeroline": false
        },
        "xaxis2": {
         "anchor": "y2",
         "domain": [
          0,
          1
         ],
         "linecolor": "black",
         "linewidth": 1,
         "mirror": true,
         "nticks": 10,
         "range": [
          0,
          1
         ],
         "showgrid": false,
         "showline": true,
         "tickangle": -90,
         "tickcolor": "black",
         "tickfont": {
          "color": "black",
          "family": "Myriad Pro",
          "size": 18
         },
         "ticklen": 6,
         "ticks": "outside",
         "title": {
          "font": {
           "color": "black",
           "family": "Myriad Pro",
           "size": 18
          },
          "standoff": 2
         },
         "zeroline": false
        },
        "xaxis3": {
         "anchor": "y3",
         "domain": [
          0,
          1
         ],
         "linecolor": "black",
         "linewidth": 1,
         "mirror": true,
         "nticks": 10,
         "range": [
          0,
          1
         ],
         "showgrid": false,
         "showline": true,
         "tickangle": -90,
         "tickcolor": "black",
         "tickfont": {
          "color": "black",
          "family": "Myriad Pro",
          "size": 18
         },
         "ticklen": 6,
         "ticks": "outside",
         "title": {
          "font": {
           "color": "black",
           "family": "Myriad Pro",
           "size": 18
          },
          "standoff": 2
         },
         "zeroline": false
        },
        "yaxis": {
         "anchor": "x",
         "domain": [
          0.7333333333333334,
          1
         ],
         "linecolor": "black",
         "linewidth": 1,
         "mirror": true,
         "nticks": 10,
         "showgrid": false,
         "showline": true,
         "tickangle": 0,
         "tickcolor": "black",
         "tickfont": {
          "color": "black",
          "family": "Myriad Pro",
          "size": 18
         },
         "ticklen": 6,
         "ticks": "outside",
         "title": {
          "font": {
           "color": "black",
           "family": "Myriad Pro",
           "size": 18
          },
          "standoff": 2
         },
         "zeroline": false
        },
        "yaxis2": {
         "anchor": "x2",
         "domain": [
          0.3666666666666667,
          0.6333333333333333
         ],
         "linecolor": "black",
         "linewidth": 1,
         "mirror": true,
         "nticks": 10,
         "showgrid": false,
         "showline": true,
         "tickangle": 0,
         "tickcolor": "black",
         "tickfont": {
          "color": "black",
          "family": "Myriad Pro",
          "size": 18
         },
         "ticklen": 6,
         "ticks": "outside",
         "title": {
          "font": {
           "color": "black",
           "family": "Myriad Pro",
           "size": 18
          },
          "standoff": 2
         },
         "zeroline": false
        },
        "yaxis3": {
         "anchor": "x3",
         "domain": [
          0,
          0.26666666666666666
         ],
         "linecolor": "black",
         "linewidth": 1,
         "mirror": true,
         "nticks": 10,
         "showgrid": false,
         "showline": true,
         "tickangle": 0,
         "tickcolor": "black",
         "tickfont": {
          "color": "black",
          "family": "Myriad Pro",
          "size": 18
         },
         "ticklen": 6,
         "ticks": "outside",
         "title": {
          "font": {
           "color": "black",
           "family": "Myriad Pro",
           "size": 18
          },
          "standoff": 2
         },
         "zeroline": false
        }
       }
      },
      "text/html": [
       "<div>                            <div id=\"a65e20f3-5781-4e2c-a3f1-559d9f156049\" class=\"plotly-graph-div\" style=\"height:775px; width:330px;\"></div>            <script type=\"text/javascript\">                require([\"plotly\"], function(Plotly) {                    window.PLOTLYENV=window.PLOTLYENV || {};                                    if (document.getElementById(\"a65e20f3-5781-4e2c-a3f1-559d9f156049\")) {                    Plotly.newPlot(                        \"a65e20f3-5781-4e2c-a3f1-559d9f156049\",                        [{\"marker\": {\"color\": \"rgb(73,143,201)\"}, \"orientation\": \"h\", \"showlegend\": false, \"type\": \"bar\", \"x\": [0.2, 0.43333333333333335, 0.03333333333333333], \"xaxis\": \"x\", \"y\": [\"B-DAS+2\", \"C-DAS+2\", \"C-LAA\"], \"yaxis\": \"y\"}, {\"marker\": {\"color\": \"rgb(73,143,201)\"}, \"orientation\": \"h\", \"showlegend\": false, \"type\": \"bar\", \"x\": [0.9666666666666667, 1.0, 0.26666666666666666], \"xaxis\": \"x2\", \"y\": [\"D-LAA\", \"E-LAA\", \"B-DAS\"], \"yaxis\": \"y2\"}, {\"marker\": {\"color\": \"rgb(73,143,201)\"}, \"orientation\": \"h\", \"showlegend\": false, \"type\": \"bar\", \"x\": [0.4666666666666667, 1.0, 1.0, 0.9666666666666667], \"xaxis\": \"x3\", \"y\": [\"C-*\", \"E-*\", \"E-DAS\", \"E-DAS+2\"], \"yaxis\": \"y3\"}],                        {\"bargap\": 0.5, \"height\": 775, \"template\": {\"data\": {\"bar\": [{\"error_x\": {\"color\": \"#2a3f5f\"}, \"error_y\": {\"color\": \"#2a3f5f\"}, \"marker\": {\"line\": {\"color\": \"white\", \"width\": 0.5}}, \"type\": \"bar\"}], \"barpolar\": [{\"marker\": {\"line\": {\"color\": \"white\", \"width\": 0.5}}, \"type\": \"barpolar\"}], \"carpet\": [{\"aaxis\": {\"endlinecolor\": \"#2a3f5f\", \"gridcolor\": \"#C8D4E3\", \"linecolor\": \"#C8D4E3\", \"minorgridcolor\": \"#C8D4E3\", \"startlinecolor\": \"#2a3f5f\"}, \"baxis\": {\"endlinecolor\": \"#2a3f5f\", \"gridcolor\": \"#C8D4E3\", \"linecolor\": \"#C8D4E3\", \"minorgridcolor\": \"#C8D4E3\", \"startlinecolor\": \"#2a3f5f\"}, \"type\": \"carpet\"}], \"choropleth\": [{\"colorbar\": {\"outlinewidth\": 0, \"ticks\": \"\"}, \"type\": \"choropleth\"}], \"contour\": [{\"colorbar\": {\"outlinewidth\": 0, \"ticks\": \"\"}, \"colorscale\": [[0.0, \"#0d0887\"], [0.1111111111111111, \"#46039f\"], [0.2222222222222222, \"#7201a8\"], [0.3333333333333333, \"#9c179e\"], [0.4444444444444444, \"#bd3786\"], [0.5555555555555556, \"#d8576b\"], [0.6666666666666666, \"#ed7953\"], [0.7777777777777778, \"#fb9f3a\"], [0.8888888888888888, \"#fdca26\"], [1.0, \"#f0f921\"]], \"type\": \"contour\"}], \"contourcarpet\": [{\"colorbar\": {\"outlinewidth\": 0, \"ticks\": \"\"}, \"type\": \"contourcarpet\"}], \"heatmap\": [{\"colorbar\": {\"outlinewidth\": 0, \"ticks\": \"\"}, \"colorscale\": [[0.0, \"#0d0887\"], [0.1111111111111111, \"#46039f\"], [0.2222222222222222, \"#7201a8\"], [0.3333333333333333, \"#9c179e\"], [0.4444444444444444, \"#bd3786\"], [0.5555555555555556, \"#d8576b\"], [0.6666666666666666, \"#ed7953\"], [0.7777777777777778, \"#fb9f3a\"], [0.8888888888888888, \"#fdca26\"], [1.0, \"#f0f921\"]], \"type\": \"heatmap\"}], \"heatmapgl\": [{\"colorbar\": {\"outlinewidth\": 0, \"ticks\": \"\"}, \"colorscale\": [[0.0, \"#0d0887\"], [0.1111111111111111, \"#46039f\"], [0.2222222222222222, \"#7201a8\"], [0.3333333333333333, \"#9c179e\"], [0.4444444444444444, \"#bd3786\"], [0.5555555555555556, \"#d8576b\"], [0.6666666666666666, \"#ed7953\"], [0.7777777777777778, \"#fb9f3a\"], [0.8888888888888888, \"#fdca26\"], [1.0, \"#f0f921\"]], \"type\": \"heatmapgl\"}], \"histogram\": [{\"marker\": {\"colorbar\": {\"outlinewidth\": 0, \"ticks\": \"\"}}, \"type\": \"histogram\"}], \"histogram2d\": [{\"colorbar\": {\"outlinewidth\": 0, \"ticks\": \"\"}, \"colorscale\": [[0.0, \"#0d0887\"], [0.1111111111111111, \"#46039f\"], [0.2222222222222222, \"#7201a8\"], [0.3333333333333333, \"#9c179e\"], [0.4444444444444444, \"#bd3786\"], [0.5555555555555556, \"#d8576b\"], [0.6666666666666666, \"#ed7953\"], [0.7777777777777778, \"#fb9f3a\"], [0.8888888888888888, \"#fdca26\"], [1.0, \"#f0f921\"]], \"type\": \"histogram2d\"}], \"histogram2dcontour\": [{\"colorbar\": {\"outlinewidth\": 0, \"ticks\": \"\"}, \"colorscale\": [[0.0, \"#0d0887\"], [0.1111111111111111, \"#46039f\"], [0.2222222222222222, \"#7201a8\"], [0.3333333333333333, \"#9c179e\"], [0.4444444444444444, \"#bd3786\"], [0.5555555555555556, \"#d8576b\"], [0.6666666666666666, \"#ed7953\"], [0.7777777777777778, \"#fb9f3a\"], [0.8888888888888888, \"#fdca26\"], [1.0, \"#f0f921\"]], \"type\": \"histogram2dcontour\"}], \"mesh3d\": [{\"colorbar\": {\"outlinewidth\": 0, \"ticks\": \"\"}, \"type\": \"mesh3d\"}], \"parcoords\": [{\"line\": {\"colorbar\": {\"outlinewidth\": 0, \"ticks\": \"\"}}, \"type\": \"parcoords\"}], \"pie\": [{\"automargin\": true, \"type\": \"pie\"}], \"scatter\": [{\"marker\": {\"colorbar\": {\"outlinewidth\": 0, \"ticks\": \"\"}}, \"type\": \"scatter\"}], \"scatter3d\": [{\"line\": {\"colorbar\": {\"outlinewidth\": 0, \"ticks\": \"\"}}, \"marker\": {\"colorbar\": {\"outlinewidth\": 0, \"ticks\": \"\"}}, \"type\": \"scatter3d\"}], \"scattercarpet\": [{\"marker\": {\"colorbar\": {\"outlinewidth\": 0, \"ticks\": \"\"}}, \"type\": \"scattercarpet\"}], \"scattergeo\": [{\"marker\": {\"colorbar\": {\"outlinewidth\": 0, \"ticks\": \"\"}}, \"type\": \"scattergeo\"}], \"scattergl\": [{\"marker\": {\"colorbar\": {\"outlinewidth\": 0, \"ticks\": \"\"}}, \"type\": \"scattergl\"}], \"scattermapbox\": [{\"marker\": {\"colorbar\": {\"outlinewidth\": 0, \"ticks\": \"\"}}, \"type\": \"scattermapbox\"}], \"scatterpolar\": [{\"marker\": {\"colorbar\": {\"outlinewidth\": 0, \"ticks\": \"\"}}, \"type\": \"scatterpolar\"}], \"scatterpolargl\": [{\"marker\": {\"colorbar\": {\"outlinewidth\": 0, \"ticks\": \"\"}}, \"type\": \"scatterpolargl\"}], \"scatterternary\": [{\"marker\": {\"colorbar\": {\"outlinewidth\": 0, \"ticks\": \"\"}}, \"type\": \"scatterternary\"}], \"surface\": [{\"colorbar\": {\"outlinewidth\": 0, \"ticks\": \"\"}, \"colorscale\": [[0.0, \"#0d0887\"], [0.1111111111111111, \"#46039f\"], [0.2222222222222222, \"#7201a8\"], [0.3333333333333333, \"#9c179e\"], [0.4444444444444444, \"#bd3786\"], [0.5555555555555556, \"#d8576b\"], [0.6666666666666666, \"#ed7953\"], [0.7777777777777778, \"#fb9f3a\"], [0.8888888888888888, \"#fdca26\"], [1.0, \"#f0f921\"]], \"type\": \"surface\"}], \"table\": [{\"cells\": {\"fill\": {\"color\": \"#EBF0F8\"}, \"line\": {\"color\": \"white\"}}, \"header\": {\"fill\": {\"color\": \"#C8D4E3\"}, \"line\": {\"color\": \"white\"}}, \"type\": \"table\"}]}, \"layout\": {\"annotationdefaults\": {\"arrowcolor\": \"#2a3f5f\", \"arrowhead\": 0, \"arrowwidth\": 1}, \"autotypenumbers\": \"strict\", \"coloraxis\": {\"colorbar\": {\"outlinewidth\": 0, \"ticks\": \"\"}}, \"colorscale\": {\"diverging\": [[0, \"#8e0152\"], [0.1, \"#c51b7d\"], [0.2, \"#de77ae\"], [0.3, \"#f1b6da\"], [0.4, \"#fde0ef\"], [0.5, \"#f7f7f7\"], [0.6, \"#e6f5d0\"], [0.7, \"#b8e186\"], [0.8, \"#7fbc41\"], [0.9, \"#4d9221\"], [1, \"#276419\"]], \"sequential\": [[0.0, \"#0d0887\"], [0.1111111111111111, \"#46039f\"], [0.2222222222222222, \"#7201a8\"], [0.3333333333333333, \"#9c179e\"], [0.4444444444444444, \"#bd3786\"], [0.5555555555555556, \"#d8576b\"], [0.6666666666666666, \"#ed7953\"], [0.7777777777777778, \"#fb9f3a\"], [0.8888888888888888, \"#fdca26\"], [1.0, \"#f0f921\"]], \"sequentialminus\": [[0.0, \"#0d0887\"], [0.1111111111111111, \"#46039f\"], [0.2222222222222222, \"#7201a8\"], [0.3333333333333333, \"#9c179e\"], [0.4444444444444444, \"#bd3786\"], [0.5555555555555556, \"#d8576b\"], [0.6666666666666666, \"#ed7953\"], [0.7777777777777778, \"#fb9f3a\"], [0.8888888888888888, \"#fdca26\"], [1.0, \"#f0f921\"]]}, \"colorway\": [\"#636efa\", \"#EF553B\", \"#00cc96\", \"#ab63fa\", \"#FFA15A\", \"#19d3f3\", \"#FF6692\", \"#B6E880\", \"#FF97FF\", \"#FECB52\"], \"font\": {\"color\": \"#2a3f5f\"}, \"geo\": {\"bgcolor\": \"white\", \"lakecolor\": \"white\", \"landcolor\": \"white\", \"showlakes\": true, \"showland\": true, \"subunitcolor\": \"#C8D4E3\"}, \"hoverlabel\": {\"align\": \"left\"}, \"hovermode\": \"closest\", \"mapbox\": {\"style\": \"light\"}, \"paper_bgcolor\": \"white\", \"plot_bgcolor\": \"white\", \"polar\": {\"angularaxis\": {\"gridcolor\": \"#EBF0F8\", \"linecolor\": \"#EBF0F8\", \"ticks\": \"\"}, \"bgcolor\": \"white\", \"radialaxis\": {\"gridcolor\": \"#EBF0F8\", \"linecolor\": \"#EBF0F8\", \"ticks\": \"\"}}, \"scene\": {\"xaxis\": {\"backgroundcolor\": \"white\", \"gridcolor\": \"#DFE8F3\", \"gridwidth\": 2, \"linecolor\": \"#EBF0F8\", \"showbackground\": true, \"ticks\": \"\", \"zerolinecolor\": \"#EBF0F8\"}, \"yaxis\": {\"backgroundcolor\": \"white\", \"gridcolor\": \"#DFE8F3\", \"gridwidth\": 2, \"linecolor\": \"#EBF0F8\", \"showbackground\": true, \"ticks\": \"\", \"zerolinecolor\": \"#EBF0F8\"}, \"zaxis\": {\"backgroundcolor\": \"white\", \"gridcolor\": \"#DFE8F3\", \"gridwidth\": 2, \"linecolor\": \"#EBF0F8\", \"showbackground\": true, \"ticks\": \"\", \"zerolinecolor\": \"#EBF0F8\"}}, \"shapedefaults\": {\"line\": {\"color\": \"#2a3f5f\"}}, \"ternary\": {\"aaxis\": {\"gridcolor\": \"#DFE8F3\", \"linecolor\": \"#A2B1C6\", \"ticks\": \"\"}, \"baxis\": {\"gridcolor\": \"#DFE8F3\", \"linecolor\": \"#A2B1C6\", \"ticks\": \"\"}, \"bgcolor\": \"white\", \"caxis\": {\"gridcolor\": \"#DFE8F3\", \"linecolor\": \"#A2B1C6\", \"ticks\": \"\"}}, \"title\": {\"x\": 0.05}, \"xaxis\": {\"automargin\": true, \"gridcolor\": \"#EBF0F8\", \"linecolor\": \"#EBF0F8\", \"ticks\": \"\", \"title\": {\"standoff\": 15}, \"zerolinecolor\": \"#EBF0F8\", \"zerolinewidth\": 2}, \"yaxis\": {\"automargin\": true, \"gridcolor\": \"#EBF0F8\", \"linecolor\": \"#EBF0F8\", \"ticks\": \"\", \"title\": {\"standoff\": 15}, \"zerolinecolor\": \"#EBF0F8\", \"zerolinewidth\": 2}}}, \"title\": {\"font\": {\"color\": \"black\", \"family\": \"Myriad Pro\", \"size\": 18}, \"text\": \"Single Trials_Tet\"}, \"width\": 330, \"xaxis\": {\"anchor\": \"y\", \"domain\": [0.0, 1.0], \"linecolor\": \"black\", \"linewidth\": 1, \"mirror\": true, \"nticks\": 10, \"range\": [0, 1], \"showgrid\": false, \"showline\": true, \"tickangle\": -90, \"tickcolor\": \"black\", \"tickfont\": {\"color\": \"black\", \"family\": \"Myriad Pro\", \"size\": 18}, \"ticklen\": 6, \"ticks\": \"outside\", \"title\": {\"font\": {\"color\": \"black\", \"family\": \"Myriad Pro\", \"size\": 18}, \"standoff\": 2}, \"zeroline\": false}, \"xaxis2\": {\"anchor\": \"y2\", \"domain\": [0.0, 1.0], \"linecolor\": \"black\", \"linewidth\": 1, \"mirror\": true, \"nticks\": 10, \"range\": [0, 1], \"showgrid\": false, \"showline\": true, \"tickangle\": -90, \"tickcolor\": \"black\", \"tickfont\": {\"color\": \"black\", \"family\": \"Myriad Pro\", \"size\": 18}, \"ticklen\": 6, \"ticks\": \"outside\", \"title\": {\"font\": {\"color\": \"black\", \"family\": \"Myriad Pro\", \"size\": 18}, \"standoff\": 2}, \"zeroline\": false}, \"xaxis3\": {\"anchor\": \"y3\", \"domain\": [0.0, 1.0], \"linecolor\": \"black\", \"linewidth\": 1, \"mirror\": true, \"nticks\": 10, \"range\": [0, 1], \"showgrid\": false, \"showline\": true, \"tickangle\": -90, \"tickcolor\": \"black\", \"tickfont\": {\"color\": \"black\", \"family\": \"Myriad Pro\", \"size\": 18}, \"ticklen\": 6, \"ticks\": \"outside\", \"title\": {\"font\": {\"color\": \"black\", \"family\": \"Myriad Pro\", \"size\": 18}, \"standoff\": 2}, \"zeroline\": false}, \"yaxis\": {\"anchor\": \"x\", \"domain\": [0.7333333333333334, 1.0], \"linecolor\": \"black\", \"linewidth\": 1, \"mirror\": true, \"nticks\": 10, \"showgrid\": false, \"showline\": true, \"tickangle\": 0, \"tickcolor\": \"black\", \"tickfont\": {\"color\": \"black\", \"family\": \"Myriad Pro\", \"size\": 18}, \"ticklen\": 6, \"ticks\": \"outside\", \"title\": {\"font\": {\"color\": \"black\", \"family\": \"Myriad Pro\", \"size\": 18}, \"standoff\": 2}, \"zeroline\": false}, \"yaxis2\": {\"anchor\": \"x2\", \"domain\": [0.3666666666666667, 0.6333333333333333], \"linecolor\": \"black\", \"linewidth\": 1, \"mirror\": true, \"nticks\": 10, \"showgrid\": false, \"showline\": true, \"tickangle\": 0, \"tickcolor\": \"black\", \"tickfont\": {\"color\": \"black\", \"family\": \"Myriad Pro\", \"size\": 18}, \"ticklen\": 6, \"ticks\": \"outside\", \"title\": {\"font\": {\"color\": \"black\", \"family\": \"Myriad Pro\", \"size\": 18}, \"standoff\": 2}, \"zeroline\": false}, \"yaxis3\": {\"anchor\": \"x3\", \"domain\": [0.0, 0.26666666666666666], \"linecolor\": \"black\", \"linewidth\": 1, \"mirror\": true, \"nticks\": 10, \"showgrid\": false, \"showline\": true, \"tickangle\": 0, \"tickcolor\": \"black\", \"tickfont\": {\"color\": \"black\", \"family\": \"Myriad Pro\", \"size\": 18}, \"ticklen\": 6, \"ticks\": \"outside\", \"title\": {\"font\": {\"color\": \"black\", \"family\": \"Myriad Pro\", \"size\": 18}, \"standoff\": 2}, \"zeroline\": false}},                        {\"responsive\": true}                    ).then(function(){\n",
       "                            \n",
       "var gd = document.getElementById('a65e20f3-5781-4e2c-a3f1-559d9f156049');\n",
       "var x = new MutationObserver(function (mutations, observer) {{\n",
       "        var display = window.getComputedStyle(gd).display;\n",
       "        if (!display || display === 'none') {{\n",
       "            console.log([gd, 'removed!']);\n",
       "            Plotly.purge(gd);\n",
       "            observer.disconnect();\n",
       "        }}\n",
       "}});\n",
       "\n",
       "// Listen for the removal of the full notebook cells\n",
       "var notebookContainer = gd.closest('#notebook-container');\n",
       "if (notebookContainer) {{\n",
       "    x.observe(notebookContainer, {childList: true});\n",
       "}}\n",
       "\n",
       "// Listen for the clearing of the current output cell\n",
       "var outputEl = gd.closest('.output');\n",
       "if (outputEl) {{\n",
       "    x.observe(outputEl, {childList: true});\n",
       "}}\n",
       "\n",
       "                        })                };                });            </script>        </div>"
      ]
     },
     "metadata": {},
     "output_type": "display_data"
    },
    {
     "data": {
      "application/vnd.plotly.v1+json": {
       "config": {
        "linkText": "Export to plot.ly",
        "plotlyServerURL": "https://plot.ly",
        "showLink": false
       },
       "data": [
        {
         "marker": {
          "color": "rgb(73,143,201)"
         },
         "orientation": "v",
         "showlegend": false,
         "type": "bar",
         "x": [
          "A-*",
          "B-*",
          "C-*",
          "D-*"
         ],
         "xaxis": "x",
         "y": [
          0.5,
          0.6,
          0.7,
          0.7
         ],
         "yaxis": "y"
        },
        {
         "marker": {
          "color": "rgb(73,143,201)"
         },
         "orientation": "v",
         "showlegend": false,
         "type": "bar",
         "x": [
          "D-DAS+2",
          "E-DAS+2",
          "D-LAA"
         ],
         "xaxis": "x2",
         "y": [
          0.7,
          0.5,
          0.4
         ],
         "yaxis": "y2"
        },
        {
         "marker": {
          "color": "rgb(73,143,201)"
         },
         "orientation": "v",
         "showlegend": false,
         "type": "bar",
         "x": [
          "C-LAA",
          "B-DAS",
          "E-LAA"
         ],
         "xaxis": "x3",
         "y": [
          0.5,
          0.5,
          0.6
         ],
         "yaxis": "y3"
        }
       ],
       "layout": {
        "bargap": 0.5,
        "height": 350,
        "template": {
         "data": {
          "bar": [
           {
            "error_x": {
             "color": "#2a3f5f"
            },
            "error_y": {
             "color": "#2a3f5f"
            },
            "marker": {
             "line": {
              "color": "white",
              "width": 0.5
             }
            },
            "type": "bar"
           }
          ],
          "barpolar": [
           {
            "marker": {
             "line": {
              "color": "white",
              "width": 0.5
             }
            },
            "type": "barpolar"
           }
          ],
          "carpet": [
           {
            "aaxis": {
             "endlinecolor": "#2a3f5f",
             "gridcolor": "#C8D4E3",
             "linecolor": "#C8D4E3",
             "minorgridcolor": "#C8D4E3",
             "startlinecolor": "#2a3f5f"
            },
            "baxis": {
             "endlinecolor": "#2a3f5f",
             "gridcolor": "#C8D4E3",
             "linecolor": "#C8D4E3",
             "minorgridcolor": "#C8D4E3",
             "startlinecolor": "#2a3f5f"
            },
            "type": "carpet"
           }
          ],
          "choropleth": [
           {
            "colorbar": {
             "outlinewidth": 0,
             "ticks": ""
            },
            "type": "choropleth"
           }
          ],
          "contour": [
           {
            "colorbar": {
             "outlinewidth": 0,
             "ticks": ""
            },
            "colorscale": [
             [
              0,
              "#0d0887"
             ],
             [
              0.1111111111111111,
              "#46039f"
             ],
             [
              0.2222222222222222,
              "#7201a8"
             ],
             [
              0.3333333333333333,
              "#9c179e"
             ],
             [
              0.4444444444444444,
              "#bd3786"
             ],
             [
              0.5555555555555556,
              "#d8576b"
             ],
             [
              0.6666666666666666,
              "#ed7953"
             ],
             [
              0.7777777777777778,
              "#fb9f3a"
             ],
             [
              0.8888888888888888,
              "#fdca26"
             ],
             [
              1,
              "#f0f921"
             ]
            ],
            "type": "contour"
           }
          ],
          "contourcarpet": [
           {
            "colorbar": {
             "outlinewidth": 0,
             "ticks": ""
            },
            "type": "contourcarpet"
           }
          ],
          "heatmap": [
           {
            "colorbar": {
             "outlinewidth": 0,
             "ticks": ""
            },
            "colorscale": [
             [
              0,
              "#0d0887"
             ],
             [
              0.1111111111111111,
              "#46039f"
             ],
             [
              0.2222222222222222,
              "#7201a8"
             ],
             [
              0.3333333333333333,
              "#9c179e"
             ],
             [
              0.4444444444444444,
              "#bd3786"
             ],
             [
              0.5555555555555556,
              "#d8576b"
             ],
             [
              0.6666666666666666,
              "#ed7953"
             ],
             [
              0.7777777777777778,
              "#fb9f3a"
             ],
             [
              0.8888888888888888,
              "#fdca26"
             ],
             [
              1,
              "#f0f921"
             ]
            ],
            "type": "heatmap"
           }
          ],
          "heatmapgl": [
           {
            "colorbar": {
             "outlinewidth": 0,
             "ticks": ""
            },
            "colorscale": [
             [
              0,
              "#0d0887"
             ],
             [
              0.1111111111111111,
              "#46039f"
             ],
             [
              0.2222222222222222,
              "#7201a8"
             ],
             [
              0.3333333333333333,
              "#9c179e"
             ],
             [
              0.4444444444444444,
              "#bd3786"
             ],
             [
              0.5555555555555556,
              "#d8576b"
             ],
             [
              0.6666666666666666,
              "#ed7953"
             ],
             [
              0.7777777777777778,
              "#fb9f3a"
             ],
             [
              0.8888888888888888,
              "#fdca26"
             ],
             [
              1,
              "#f0f921"
             ]
            ],
            "type": "heatmapgl"
           }
          ],
          "histogram": [
           {
            "marker": {
             "colorbar": {
              "outlinewidth": 0,
              "ticks": ""
             }
            },
            "type": "histogram"
           }
          ],
          "histogram2d": [
           {
            "colorbar": {
             "outlinewidth": 0,
             "ticks": ""
            },
            "colorscale": [
             [
              0,
              "#0d0887"
             ],
             [
              0.1111111111111111,
              "#46039f"
             ],
             [
              0.2222222222222222,
              "#7201a8"
             ],
             [
              0.3333333333333333,
              "#9c179e"
             ],
             [
              0.4444444444444444,
              "#bd3786"
             ],
             [
              0.5555555555555556,
              "#d8576b"
             ],
             [
              0.6666666666666666,
              "#ed7953"
             ],
             [
              0.7777777777777778,
              "#fb9f3a"
             ],
             [
              0.8888888888888888,
              "#fdca26"
             ],
             [
              1,
              "#f0f921"
             ]
            ],
            "type": "histogram2d"
           }
          ],
          "histogram2dcontour": [
           {
            "colorbar": {
             "outlinewidth": 0,
             "ticks": ""
            },
            "colorscale": [
             [
              0,
              "#0d0887"
             ],
             [
              0.1111111111111111,
              "#46039f"
             ],
             [
              0.2222222222222222,
              "#7201a8"
             ],
             [
              0.3333333333333333,
              "#9c179e"
             ],
             [
              0.4444444444444444,
              "#bd3786"
             ],
             [
              0.5555555555555556,
              "#d8576b"
             ],
             [
              0.6666666666666666,
              "#ed7953"
             ],
             [
              0.7777777777777778,
              "#fb9f3a"
             ],
             [
              0.8888888888888888,
              "#fdca26"
             ],
             [
              1,
              "#f0f921"
             ]
            ],
            "type": "histogram2dcontour"
           }
          ],
          "mesh3d": [
           {
            "colorbar": {
             "outlinewidth": 0,
             "ticks": ""
            },
            "type": "mesh3d"
           }
          ],
          "parcoords": [
           {
            "line": {
             "colorbar": {
              "outlinewidth": 0,
              "ticks": ""
             }
            },
            "type": "parcoords"
           }
          ],
          "pie": [
           {
            "automargin": true,
            "type": "pie"
           }
          ],
          "scatter": [
           {
            "marker": {
             "colorbar": {
              "outlinewidth": 0,
              "ticks": ""
             }
            },
            "type": "scatter"
           }
          ],
          "scatter3d": [
           {
            "line": {
             "colorbar": {
              "outlinewidth": 0,
              "ticks": ""
             }
            },
            "marker": {
             "colorbar": {
              "outlinewidth": 0,
              "ticks": ""
             }
            },
            "type": "scatter3d"
           }
          ],
          "scattercarpet": [
           {
            "marker": {
             "colorbar": {
              "outlinewidth": 0,
              "ticks": ""
             }
            },
            "type": "scattercarpet"
           }
          ],
          "scattergeo": [
           {
            "marker": {
             "colorbar": {
              "outlinewidth": 0,
              "ticks": ""
             }
            },
            "type": "scattergeo"
           }
          ],
          "scattergl": [
           {
            "marker": {
             "colorbar": {
              "outlinewidth": 0,
              "ticks": ""
             }
            },
            "type": "scattergl"
           }
          ],
          "scattermapbox": [
           {
            "marker": {
             "colorbar": {
              "outlinewidth": 0,
              "ticks": ""
             }
            },
            "type": "scattermapbox"
           }
          ],
          "scatterpolar": [
           {
            "marker": {
             "colorbar": {
              "outlinewidth": 0,
              "ticks": ""
             }
            },
            "type": "scatterpolar"
           }
          ],
          "scatterpolargl": [
           {
            "marker": {
             "colorbar": {
              "outlinewidth": 0,
              "ticks": ""
             }
            },
            "type": "scatterpolargl"
           }
          ],
          "scatterternary": [
           {
            "marker": {
             "colorbar": {
              "outlinewidth": 0,
              "ticks": ""
             }
            },
            "type": "scatterternary"
           }
          ],
          "surface": [
           {
            "colorbar": {
             "outlinewidth": 0,
             "ticks": ""
            },
            "colorscale": [
             [
              0,
              "#0d0887"
             ],
             [
              0.1111111111111111,
              "#46039f"
             ],
             [
              0.2222222222222222,
              "#7201a8"
             ],
             [
              0.3333333333333333,
              "#9c179e"
             ],
             [
              0.4444444444444444,
              "#bd3786"
             ],
             [
              0.5555555555555556,
              "#d8576b"
             ],
             [
              0.6666666666666666,
              "#ed7953"
             ],
             [
              0.7777777777777778,
              "#fb9f3a"
             ],
             [
              0.8888888888888888,
              "#fdca26"
             ],
             [
              1,
              "#f0f921"
             ]
            ],
            "type": "surface"
           }
          ],
          "table": [
           {
            "cells": {
             "fill": {
              "color": "#EBF0F8"
             },
             "line": {
              "color": "white"
             }
            },
            "header": {
             "fill": {
              "color": "#C8D4E3"
             },
             "line": {
              "color": "white"
             }
            },
            "type": "table"
           }
          ]
         },
         "layout": {
          "annotationdefaults": {
           "arrowcolor": "#2a3f5f",
           "arrowhead": 0,
           "arrowwidth": 1
          },
          "autotypenumbers": "strict",
          "coloraxis": {
           "colorbar": {
            "outlinewidth": 0,
            "ticks": ""
           }
          },
          "colorscale": {
           "diverging": [
            [
             0,
             "#8e0152"
            ],
            [
             0.1,
             "#c51b7d"
            ],
            [
             0.2,
             "#de77ae"
            ],
            [
             0.3,
             "#f1b6da"
            ],
            [
             0.4,
             "#fde0ef"
            ],
            [
             0.5,
             "#f7f7f7"
            ],
            [
             0.6,
             "#e6f5d0"
            ],
            [
             0.7,
             "#b8e186"
            ],
            [
             0.8,
             "#7fbc41"
            ],
            [
             0.9,
             "#4d9221"
            ],
            [
             1,
             "#276419"
            ]
           ],
           "sequential": [
            [
             0,
             "#0d0887"
            ],
            [
             0.1111111111111111,
             "#46039f"
            ],
            [
             0.2222222222222222,
             "#7201a8"
            ],
            [
             0.3333333333333333,
             "#9c179e"
            ],
            [
             0.4444444444444444,
             "#bd3786"
            ],
            [
             0.5555555555555556,
             "#d8576b"
            ],
            [
             0.6666666666666666,
             "#ed7953"
            ],
            [
             0.7777777777777778,
             "#fb9f3a"
            ],
            [
             0.8888888888888888,
             "#fdca26"
            ],
            [
             1,
             "#f0f921"
            ]
           ],
           "sequentialminus": [
            [
             0,
             "#0d0887"
            ],
            [
             0.1111111111111111,
             "#46039f"
            ],
            [
             0.2222222222222222,
             "#7201a8"
            ],
            [
             0.3333333333333333,
             "#9c179e"
            ],
            [
             0.4444444444444444,
             "#bd3786"
            ],
            [
             0.5555555555555556,
             "#d8576b"
            ],
            [
             0.6666666666666666,
             "#ed7953"
            ],
            [
             0.7777777777777778,
             "#fb9f3a"
            ],
            [
             0.8888888888888888,
             "#fdca26"
            ],
            [
             1,
             "#f0f921"
            ]
           ]
          },
          "colorway": [
           "#636efa",
           "#EF553B",
           "#00cc96",
           "#ab63fa",
           "#FFA15A",
           "#19d3f3",
           "#FF6692",
           "#B6E880",
           "#FF97FF",
           "#FECB52"
          ],
          "font": {
           "color": "#2a3f5f"
          },
          "geo": {
           "bgcolor": "white",
           "lakecolor": "white",
           "landcolor": "white",
           "showlakes": true,
           "showland": true,
           "subunitcolor": "#C8D4E3"
          },
          "hoverlabel": {
           "align": "left"
          },
          "hovermode": "closest",
          "mapbox": {
           "style": "light"
          },
          "paper_bgcolor": "white",
          "plot_bgcolor": "white",
          "polar": {
           "angularaxis": {
            "gridcolor": "#EBF0F8",
            "linecolor": "#EBF0F8",
            "ticks": ""
           },
           "bgcolor": "white",
           "radialaxis": {
            "gridcolor": "#EBF0F8",
            "linecolor": "#EBF0F8",
            "ticks": ""
           }
          },
          "scene": {
           "xaxis": {
            "backgroundcolor": "white",
            "gridcolor": "#DFE8F3",
            "gridwidth": 2,
            "linecolor": "#EBF0F8",
            "showbackground": true,
            "ticks": "",
            "zerolinecolor": "#EBF0F8"
           },
           "yaxis": {
            "backgroundcolor": "white",
            "gridcolor": "#DFE8F3",
            "gridwidth": 2,
            "linecolor": "#EBF0F8",
            "showbackground": true,
            "ticks": "",
            "zerolinecolor": "#EBF0F8"
           },
           "zaxis": {
            "backgroundcolor": "white",
            "gridcolor": "#DFE8F3",
            "gridwidth": 2,
            "linecolor": "#EBF0F8",
            "showbackground": true,
            "ticks": "",
            "zerolinecolor": "#EBF0F8"
           }
          },
          "shapedefaults": {
           "line": {
            "color": "#2a3f5f"
           }
          },
          "ternary": {
           "aaxis": {
            "gridcolor": "#DFE8F3",
            "linecolor": "#A2B1C6",
            "ticks": ""
           },
           "baxis": {
            "gridcolor": "#DFE8F3",
            "linecolor": "#A2B1C6",
            "ticks": ""
           },
           "bgcolor": "white",
           "caxis": {
            "gridcolor": "#DFE8F3",
            "linecolor": "#A2B1C6",
            "ticks": ""
           }
          },
          "title": {
           "x": 0.05
          },
          "xaxis": {
           "automargin": true,
           "gridcolor": "#EBF0F8",
           "linecolor": "#EBF0F8",
           "ticks": "",
           "title": {
            "standoff": 15
           },
           "zerolinecolor": "#EBF0F8",
           "zerolinewidth": 2
          },
          "yaxis": {
           "automargin": true,
           "gridcolor": "#EBF0F8",
           "linecolor": "#EBF0F8",
           "ticks": "",
           "title": {
            "standoff": 15
           },
           "zerolinecolor": "#EBF0F8",
           "zerolinewidth": 2
          }
         }
        },
        "title": {
         "font": {
          "color": "black",
          "family": "Myriad Pro",
          "size": 18
         },
         "text": "Replicates_Lac"
        },
        "width": 700,
        "xaxis": {
         "anchor": "y",
         "domain": [
          0,
          0.26666666666666666
         ],
         "linecolor": "black",
         "linewidth": 1,
         "mirror": true,
         "nticks": 10,
         "showgrid": false,
         "showline": true,
         "tickangle": -90,
         "tickcolor": "black",
         "tickfont": {
          "color": "black",
          "family": "Myriad Pro",
          "size": 18
         },
         "ticklen": 6,
         "ticks": "outside",
         "title": {
          "font": {
           "color": "black",
           "family": "Myriad Pro",
           "size": 18
          },
          "standoff": 2
         },
         "zeroline": false
        },
        "xaxis2": {
         "anchor": "y2",
         "domain": [
          0.3666666666666667,
          0.6333333333333333
         ],
         "linecolor": "black",
         "linewidth": 1,
         "mirror": true,
         "nticks": 10,
         "showgrid": false,
         "showline": true,
         "tickangle": -90,
         "tickcolor": "black",
         "tickfont": {
          "color": "black",
          "family": "Myriad Pro",
          "size": 18
         },
         "ticklen": 6,
         "ticks": "outside",
         "title": {
          "font": {
           "color": "black",
           "family": "Myriad Pro",
           "size": 18
          },
          "standoff": 2
         },
         "zeroline": false
        },
        "xaxis3": {
         "anchor": "y3",
         "domain": [
          0.7333333333333334,
          1
         ],
         "linecolor": "black",
         "linewidth": 1,
         "mirror": true,
         "nticks": 10,
         "showgrid": false,
         "showline": true,
         "tickangle": -90,
         "tickcolor": "black",
         "tickfont": {
          "color": "black",
          "family": "Myriad Pro",
          "size": 18
         },
         "ticklen": 6,
         "ticks": "outside",
         "title": {
          "font": {
           "color": "black",
           "family": "Myriad Pro",
           "size": 18
          },
          "standoff": 2
         },
         "zeroline": false
        },
        "yaxis": {
         "anchor": "x",
         "domain": [
          0,
          1
         ],
         "linecolor": "black",
         "linewidth": 1,
         "mirror": true,
         "nticks": 10,
         "range": [
          0,
          1
         ],
         "showgrid": false,
         "showline": true,
         "tickangle": 0,
         "tickcolor": "black",
         "tickfont": {
          "color": "black",
          "family": "Myriad Pro",
          "size": 18
         },
         "ticklen": 6,
         "ticks": "outside",
         "title": {
          "font": {
           "color": "black",
           "family": "Myriad Pro",
           "size": 18
          },
          "standoff": 2
         },
         "zeroline": false
        },
        "yaxis2": {
         "anchor": "x2",
         "domain": [
          0,
          1
         ],
         "linecolor": "black",
         "linewidth": 1,
         "mirror": true,
         "nticks": 10,
         "range": [
          0,
          1
         ],
         "showgrid": false,
         "showline": true,
         "tickangle": 0,
         "tickcolor": "black",
         "tickfont": {
          "color": "black",
          "family": "Myriad Pro",
          "size": 18
         },
         "ticklen": 6,
         "ticks": "outside",
         "title": {
          "font": {
           "color": "black",
           "family": "Myriad Pro",
           "size": 18
          },
          "standoff": 2
         },
         "zeroline": false
        },
        "yaxis3": {
         "anchor": "x3",
         "domain": [
          0,
          1
         ],
         "linecolor": "black",
         "linewidth": 1,
         "mirror": true,
         "nticks": 10,
         "range": [
          0,
          1
         ],
         "showgrid": false,
         "showline": true,
         "tickangle": 0,
         "tickcolor": "black",
         "tickfont": {
          "color": "black",
          "family": "Myriad Pro",
          "size": 18
         },
         "ticklen": 6,
         "ticks": "outside",
         "title": {
          "font": {
           "color": "black",
           "family": "Myriad Pro",
           "size": 18
          },
          "standoff": 2
         },
         "zeroline": false
        }
       }
      },
      "text/html": [
       "<div>                            <div id=\"be268759-9660-4246-a3f3-5f66a98ddc55\" class=\"plotly-graph-div\" style=\"height:350px; width:700px;\"></div>            <script type=\"text/javascript\">                require([\"plotly\"], function(Plotly) {                    window.PLOTLYENV=window.PLOTLYENV || {};                                    if (document.getElementById(\"be268759-9660-4246-a3f3-5f66a98ddc55\")) {                    Plotly.newPlot(                        \"be268759-9660-4246-a3f3-5f66a98ddc55\",                        [{\"marker\": {\"color\": \"rgb(73,143,201)\"}, \"orientation\": \"v\", \"showlegend\": false, \"type\": \"bar\", \"x\": [\"A-*\", \"B-*\", \"C-*\", \"D-*\"], \"xaxis\": \"x\", \"y\": [0.5, 0.6, 0.7, 0.7], \"yaxis\": \"y\"}, {\"marker\": {\"color\": \"rgb(73,143,201)\"}, \"orientation\": \"v\", \"showlegend\": false, \"type\": \"bar\", \"x\": [\"D-DAS+2\", \"E-DAS+2\", \"D-LAA\"], \"xaxis\": \"x2\", \"y\": [0.7, 0.5, 0.4], \"yaxis\": \"y2\"}, {\"marker\": {\"color\": \"rgb(73,143,201)\"}, \"orientation\": \"v\", \"showlegend\": false, \"type\": \"bar\", \"x\": [\"C-LAA\", \"B-DAS\", \"E-LAA\"], \"xaxis\": \"x3\", \"y\": [0.5, 0.5, 0.6], \"yaxis\": \"y3\"}],                        {\"bargap\": 0.5, \"height\": 350, \"template\": {\"data\": {\"bar\": [{\"error_x\": {\"color\": \"#2a3f5f\"}, \"error_y\": {\"color\": \"#2a3f5f\"}, \"marker\": {\"line\": {\"color\": \"white\", \"width\": 0.5}}, \"type\": \"bar\"}], \"barpolar\": [{\"marker\": {\"line\": {\"color\": \"white\", \"width\": 0.5}}, \"type\": \"barpolar\"}], \"carpet\": [{\"aaxis\": {\"endlinecolor\": \"#2a3f5f\", \"gridcolor\": \"#C8D4E3\", \"linecolor\": \"#C8D4E3\", \"minorgridcolor\": \"#C8D4E3\", \"startlinecolor\": \"#2a3f5f\"}, \"baxis\": {\"endlinecolor\": \"#2a3f5f\", \"gridcolor\": \"#C8D4E3\", \"linecolor\": \"#C8D4E3\", \"minorgridcolor\": \"#C8D4E3\", \"startlinecolor\": \"#2a3f5f\"}, \"type\": \"carpet\"}], \"choropleth\": [{\"colorbar\": {\"outlinewidth\": 0, \"ticks\": \"\"}, \"type\": \"choropleth\"}], \"contour\": [{\"colorbar\": {\"outlinewidth\": 0, \"ticks\": \"\"}, \"colorscale\": [[0.0, \"#0d0887\"], [0.1111111111111111, \"#46039f\"], [0.2222222222222222, \"#7201a8\"], [0.3333333333333333, \"#9c179e\"], [0.4444444444444444, \"#bd3786\"], [0.5555555555555556, \"#d8576b\"], [0.6666666666666666, \"#ed7953\"], [0.7777777777777778, \"#fb9f3a\"], [0.8888888888888888, \"#fdca26\"], [1.0, \"#f0f921\"]], \"type\": \"contour\"}], \"contourcarpet\": [{\"colorbar\": {\"outlinewidth\": 0, \"ticks\": \"\"}, \"type\": \"contourcarpet\"}], \"heatmap\": [{\"colorbar\": {\"outlinewidth\": 0, \"ticks\": \"\"}, \"colorscale\": [[0.0, \"#0d0887\"], [0.1111111111111111, \"#46039f\"], [0.2222222222222222, \"#7201a8\"], [0.3333333333333333, \"#9c179e\"], [0.4444444444444444, \"#bd3786\"], [0.5555555555555556, \"#d8576b\"], [0.6666666666666666, \"#ed7953\"], [0.7777777777777778, \"#fb9f3a\"], [0.8888888888888888, \"#fdca26\"], [1.0, \"#f0f921\"]], \"type\": \"heatmap\"}], \"heatmapgl\": [{\"colorbar\": {\"outlinewidth\": 0, \"ticks\": \"\"}, \"colorscale\": [[0.0, \"#0d0887\"], [0.1111111111111111, \"#46039f\"], [0.2222222222222222, \"#7201a8\"], [0.3333333333333333, \"#9c179e\"], [0.4444444444444444, \"#bd3786\"], [0.5555555555555556, \"#d8576b\"], [0.6666666666666666, \"#ed7953\"], [0.7777777777777778, \"#fb9f3a\"], [0.8888888888888888, \"#fdca26\"], [1.0, \"#f0f921\"]], \"type\": \"heatmapgl\"}], \"histogram\": [{\"marker\": {\"colorbar\": {\"outlinewidth\": 0, \"ticks\": \"\"}}, \"type\": \"histogram\"}], \"histogram2d\": [{\"colorbar\": {\"outlinewidth\": 0, \"ticks\": \"\"}, \"colorscale\": [[0.0, \"#0d0887\"], [0.1111111111111111, \"#46039f\"], [0.2222222222222222, \"#7201a8\"], [0.3333333333333333, \"#9c179e\"], [0.4444444444444444, \"#bd3786\"], [0.5555555555555556, \"#d8576b\"], [0.6666666666666666, \"#ed7953\"], [0.7777777777777778, \"#fb9f3a\"], [0.8888888888888888, \"#fdca26\"], [1.0, \"#f0f921\"]], \"type\": \"histogram2d\"}], \"histogram2dcontour\": [{\"colorbar\": {\"outlinewidth\": 0, \"ticks\": \"\"}, \"colorscale\": [[0.0, \"#0d0887\"], [0.1111111111111111, \"#46039f\"], [0.2222222222222222, \"#7201a8\"], [0.3333333333333333, \"#9c179e\"], [0.4444444444444444, \"#bd3786\"], [0.5555555555555556, \"#d8576b\"], [0.6666666666666666, \"#ed7953\"], [0.7777777777777778, \"#fb9f3a\"], [0.8888888888888888, \"#fdca26\"], [1.0, \"#f0f921\"]], \"type\": \"histogram2dcontour\"}], \"mesh3d\": [{\"colorbar\": {\"outlinewidth\": 0, \"ticks\": \"\"}, \"type\": \"mesh3d\"}], \"parcoords\": [{\"line\": {\"colorbar\": {\"outlinewidth\": 0, \"ticks\": \"\"}}, \"type\": \"parcoords\"}], \"pie\": [{\"automargin\": true, \"type\": \"pie\"}], \"scatter\": [{\"marker\": {\"colorbar\": {\"outlinewidth\": 0, \"ticks\": \"\"}}, \"type\": \"scatter\"}], \"scatter3d\": [{\"line\": {\"colorbar\": {\"outlinewidth\": 0, \"ticks\": \"\"}}, \"marker\": {\"colorbar\": {\"outlinewidth\": 0, \"ticks\": \"\"}}, \"type\": \"scatter3d\"}], \"scattercarpet\": [{\"marker\": {\"colorbar\": {\"outlinewidth\": 0, \"ticks\": \"\"}}, \"type\": \"scattercarpet\"}], \"scattergeo\": [{\"marker\": {\"colorbar\": {\"outlinewidth\": 0, \"ticks\": \"\"}}, \"type\": \"scattergeo\"}], \"scattergl\": [{\"marker\": {\"colorbar\": {\"outlinewidth\": 0, \"ticks\": \"\"}}, \"type\": \"scattergl\"}], \"scattermapbox\": [{\"marker\": {\"colorbar\": {\"outlinewidth\": 0, \"ticks\": \"\"}}, \"type\": \"scattermapbox\"}], \"scatterpolar\": [{\"marker\": {\"colorbar\": {\"outlinewidth\": 0, \"ticks\": \"\"}}, \"type\": \"scatterpolar\"}], \"scatterpolargl\": [{\"marker\": {\"colorbar\": {\"outlinewidth\": 0, \"ticks\": \"\"}}, \"type\": \"scatterpolargl\"}], \"scatterternary\": [{\"marker\": {\"colorbar\": {\"outlinewidth\": 0, \"ticks\": \"\"}}, \"type\": \"scatterternary\"}], \"surface\": [{\"colorbar\": {\"outlinewidth\": 0, \"ticks\": \"\"}, \"colorscale\": [[0.0, \"#0d0887\"], [0.1111111111111111, \"#46039f\"], [0.2222222222222222, \"#7201a8\"], [0.3333333333333333, \"#9c179e\"], [0.4444444444444444, \"#bd3786\"], [0.5555555555555556, \"#d8576b\"], [0.6666666666666666, \"#ed7953\"], [0.7777777777777778, \"#fb9f3a\"], [0.8888888888888888, \"#fdca26\"], [1.0, \"#f0f921\"]], \"type\": \"surface\"}], \"table\": [{\"cells\": {\"fill\": {\"color\": \"#EBF0F8\"}, \"line\": {\"color\": \"white\"}}, \"header\": {\"fill\": {\"color\": \"#C8D4E3\"}, \"line\": {\"color\": \"white\"}}, \"type\": \"table\"}]}, \"layout\": {\"annotationdefaults\": {\"arrowcolor\": \"#2a3f5f\", \"arrowhead\": 0, \"arrowwidth\": 1}, \"autotypenumbers\": \"strict\", \"coloraxis\": {\"colorbar\": {\"outlinewidth\": 0, \"ticks\": \"\"}}, \"colorscale\": {\"diverging\": [[0, \"#8e0152\"], [0.1, \"#c51b7d\"], [0.2, \"#de77ae\"], [0.3, \"#f1b6da\"], [0.4, \"#fde0ef\"], [0.5, \"#f7f7f7\"], [0.6, \"#e6f5d0\"], [0.7, \"#b8e186\"], [0.8, \"#7fbc41\"], [0.9, \"#4d9221\"], [1, \"#276419\"]], \"sequential\": [[0.0, \"#0d0887\"], [0.1111111111111111, \"#46039f\"], [0.2222222222222222, \"#7201a8\"], [0.3333333333333333, \"#9c179e\"], [0.4444444444444444, \"#bd3786\"], [0.5555555555555556, \"#d8576b\"], [0.6666666666666666, \"#ed7953\"], [0.7777777777777778, \"#fb9f3a\"], [0.8888888888888888, \"#fdca26\"], [1.0, \"#f0f921\"]], \"sequentialminus\": [[0.0, \"#0d0887\"], [0.1111111111111111, \"#46039f\"], [0.2222222222222222, \"#7201a8\"], [0.3333333333333333, \"#9c179e\"], [0.4444444444444444, \"#bd3786\"], [0.5555555555555556, \"#d8576b\"], [0.6666666666666666, \"#ed7953\"], [0.7777777777777778, \"#fb9f3a\"], [0.8888888888888888, \"#fdca26\"], [1.0, \"#f0f921\"]]}, \"colorway\": [\"#636efa\", \"#EF553B\", \"#00cc96\", \"#ab63fa\", \"#FFA15A\", \"#19d3f3\", \"#FF6692\", \"#B6E880\", \"#FF97FF\", \"#FECB52\"], \"font\": {\"color\": \"#2a3f5f\"}, \"geo\": {\"bgcolor\": \"white\", \"lakecolor\": \"white\", \"landcolor\": \"white\", \"showlakes\": true, \"showland\": true, \"subunitcolor\": \"#C8D4E3\"}, \"hoverlabel\": {\"align\": \"left\"}, \"hovermode\": \"closest\", \"mapbox\": {\"style\": \"light\"}, \"paper_bgcolor\": \"white\", \"plot_bgcolor\": \"white\", \"polar\": {\"angularaxis\": {\"gridcolor\": \"#EBF0F8\", \"linecolor\": \"#EBF0F8\", \"ticks\": \"\"}, \"bgcolor\": \"white\", \"radialaxis\": {\"gridcolor\": \"#EBF0F8\", \"linecolor\": \"#EBF0F8\", \"ticks\": \"\"}}, \"scene\": {\"xaxis\": {\"backgroundcolor\": \"white\", \"gridcolor\": \"#DFE8F3\", \"gridwidth\": 2, \"linecolor\": \"#EBF0F8\", \"showbackground\": true, \"ticks\": \"\", \"zerolinecolor\": \"#EBF0F8\"}, \"yaxis\": {\"backgroundcolor\": \"white\", \"gridcolor\": \"#DFE8F3\", \"gridwidth\": 2, \"linecolor\": \"#EBF0F8\", \"showbackground\": true, \"ticks\": \"\", \"zerolinecolor\": \"#EBF0F8\"}, \"zaxis\": {\"backgroundcolor\": \"white\", \"gridcolor\": \"#DFE8F3\", \"gridwidth\": 2, \"linecolor\": \"#EBF0F8\", \"showbackground\": true, \"ticks\": \"\", \"zerolinecolor\": \"#EBF0F8\"}}, \"shapedefaults\": {\"line\": {\"color\": \"#2a3f5f\"}}, \"ternary\": {\"aaxis\": {\"gridcolor\": \"#DFE8F3\", \"linecolor\": \"#A2B1C6\", \"ticks\": \"\"}, \"baxis\": {\"gridcolor\": \"#DFE8F3\", \"linecolor\": \"#A2B1C6\", \"ticks\": \"\"}, \"bgcolor\": \"white\", \"caxis\": {\"gridcolor\": \"#DFE8F3\", \"linecolor\": \"#A2B1C6\", \"ticks\": \"\"}}, \"title\": {\"x\": 0.05}, \"xaxis\": {\"automargin\": true, \"gridcolor\": \"#EBF0F8\", \"linecolor\": \"#EBF0F8\", \"ticks\": \"\", \"title\": {\"standoff\": 15}, \"zerolinecolor\": \"#EBF0F8\", \"zerolinewidth\": 2}, \"yaxis\": {\"automargin\": true, \"gridcolor\": \"#EBF0F8\", \"linecolor\": \"#EBF0F8\", \"ticks\": \"\", \"title\": {\"standoff\": 15}, \"zerolinecolor\": \"#EBF0F8\", \"zerolinewidth\": 2}}}, \"title\": {\"font\": {\"color\": \"black\", \"family\": \"Myriad Pro\", \"size\": 18}, \"text\": \"Replicates_Lac\"}, \"width\": 700, \"xaxis\": {\"anchor\": \"y\", \"domain\": [0.0, 0.26666666666666666], \"linecolor\": \"black\", \"linewidth\": 1, \"mirror\": true, \"nticks\": 10, \"showgrid\": false, \"showline\": true, \"tickangle\": -90, \"tickcolor\": \"black\", \"tickfont\": {\"color\": \"black\", \"family\": \"Myriad Pro\", \"size\": 18}, \"ticklen\": 6, \"ticks\": \"outside\", \"title\": {\"font\": {\"color\": \"black\", \"family\": \"Myriad Pro\", \"size\": 18}, \"standoff\": 2}, \"zeroline\": false}, \"xaxis2\": {\"anchor\": \"y2\", \"domain\": [0.3666666666666667, 0.6333333333333333], \"linecolor\": \"black\", \"linewidth\": 1, \"mirror\": true, \"nticks\": 10, \"showgrid\": false, \"showline\": true, \"tickangle\": -90, \"tickcolor\": \"black\", \"tickfont\": {\"color\": \"black\", \"family\": \"Myriad Pro\", \"size\": 18}, \"ticklen\": 6, \"ticks\": \"outside\", \"title\": {\"font\": {\"color\": \"black\", \"family\": \"Myriad Pro\", \"size\": 18}, \"standoff\": 2}, \"zeroline\": false}, \"xaxis3\": {\"anchor\": \"y3\", \"domain\": [0.7333333333333334, 1.0], \"linecolor\": \"black\", \"linewidth\": 1, \"mirror\": true, \"nticks\": 10, \"showgrid\": false, \"showline\": true, \"tickangle\": -90, \"tickcolor\": \"black\", \"tickfont\": {\"color\": \"black\", \"family\": \"Myriad Pro\", \"size\": 18}, \"ticklen\": 6, \"ticks\": \"outside\", \"title\": {\"font\": {\"color\": \"black\", \"family\": \"Myriad Pro\", \"size\": 18}, \"standoff\": 2}, \"zeroline\": false}, \"yaxis\": {\"anchor\": \"x\", \"domain\": [0.0, 1.0], \"linecolor\": \"black\", \"linewidth\": 1, \"mirror\": true, \"nticks\": 10, \"range\": [0, 1], \"showgrid\": false, \"showline\": true, \"tickangle\": 0, \"tickcolor\": \"black\", \"tickfont\": {\"color\": \"black\", \"family\": \"Myriad Pro\", \"size\": 18}, \"ticklen\": 6, \"ticks\": \"outside\", \"title\": {\"font\": {\"color\": \"black\", \"family\": \"Myriad Pro\", \"size\": 18}, \"standoff\": 2}, \"zeroline\": false}, \"yaxis2\": {\"anchor\": \"x2\", \"domain\": [0.0, 1.0], \"linecolor\": \"black\", \"linewidth\": 1, \"mirror\": true, \"nticks\": 10, \"range\": [0, 1], \"showgrid\": false, \"showline\": true, \"tickangle\": 0, \"tickcolor\": \"black\", \"tickfont\": {\"color\": \"black\", \"family\": \"Myriad Pro\", \"size\": 18}, \"ticklen\": 6, \"ticks\": \"outside\", \"title\": {\"font\": {\"color\": \"black\", \"family\": \"Myriad Pro\", \"size\": 18}, \"standoff\": 2}, \"zeroline\": false}, \"yaxis3\": {\"anchor\": \"x3\", \"domain\": [0.0, 1.0], \"linecolor\": \"black\", \"linewidth\": 1, \"mirror\": true, \"nticks\": 10, \"range\": [0, 1], \"showgrid\": false, \"showline\": true, \"tickangle\": 0, \"tickcolor\": \"black\", \"tickfont\": {\"color\": \"black\", \"family\": \"Myriad Pro\", \"size\": 18}, \"ticklen\": 6, \"ticks\": \"outside\", \"title\": {\"font\": {\"color\": \"black\", \"family\": \"Myriad Pro\", \"size\": 18}, \"standoff\": 2}, \"zeroline\": false}},                        {\"responsive\": true}                    ).then(function(){\n",
       "                            \n",
       "var gd = document.getElementById('be268759-9660-4246-a3f3-5f66a98ddc55');\n",
       "var x = new MutationObserver(function (mutations, observer) {{\n",
       "        var display = window.getComputedStyle(gd).display;\n",
       "        if (!display || display === 'none') {{\n",
       "            console.log([gd, 'removed!']);\n",
       "            Plotly.purge(gd);\n",
       "            observer.disconnect();\n",
       "        }}\n",
       "}});\n",
       "\n",
       "// Listen for the removal of the full notebook cells\n",
       "var notebookContainer = gd.closest('#notebook-container');\n",
       "if (notebookContainer) {{\n",
       "    x.observe(notebookContainer, {childList: true});\n",
       "}}\n",
       "\n",
       "// Listen for the clearing of the current output cell\n",
       "var outputEl = gd.closest('.output');\n",
       "if (outputEl) {{\n",
       "    x.observe(outputEl, {childList: true});\n",
       "}}\n",
       "\n",
       "                        })                };                });            </script>        </div>"
      ]
     },
     "metadata": {},
     "output_type": "display_data"
    },
    {
     "data": {
      "application/vnd.plotly.v1+json": {
       "config": {
        "linkText": "Export to plot.ly",
        "plotlyServerURL": "https://plot.ly",
        "showLink": false
       },
       "data": [
        {
         "marker": {
          "color": "rgb(73,143,201)"
         },
         "orientation": "h",
         "showlegend": false,
         "type": "bar",
         "x": [
          0.1,
          0.3,
          0
         ],
         "xaxis": "x",
         "y": [
          "B-DAS+2",
          "C-DAS+2",
          "C-LAA"
         ],
         "yaxis": "y"
        },
        {
         "marker": {
          "color": "rgb(73,143,201)"
         },
         "orientation": "h",
         "showlegend": false,
         "type": "bar",
         "x": [
          0.9,
          1,
          0.1
         ],
         "xaxis": "x2",
         "y": [
          "D-LAA",
          "E-LAA",
          "B-DAS"
         ],
         "yaxis": "y2"
        },
        {
         "marker": {
          "color": "rgb(73,143,201)"
         },
         "orientation": "h",
         "showlegend": false,
         "type": "bar",
         "x": [
          0.4,
          1,
          1,
          0.9
         ],
         "xaxis": "x3",
         "y": [
          "C-*",
          "E-*",
          "E-DAS",
          "E-DAS+2"
         ],
         "yaxis": "y3"
        }
       ],
       "layout": {
        "bargap": 0.5,
        "height": 775,
        "template": {
         "data": {
          "bar": [
           {
            "error_x": {
             "color": "#2a3f5f"
            },
            "error_y": {
             "color": "#2a3f5f"
            },
            "marker": {
             "line": {
              "color": "white",
              "width": 0.5
             }
            },
            "type": "bar"
           }
          ],
          "barpolar": [
           {
            "marker": {
             "line": {
              "color": "white",
              "width": 0.5
             }
            },
            "type": "barpolar"
           }
          ],
          "carpet": [
           {
            "aaxis": {
             "endlinecolor": "#2a3f5f",
             "gridcolor": "#C8D4E3",
             "linecolor": "#C8D4E3",
             "minorgridcolor": "#C8D4E3",
             "startlinecolor": "#2a3f5f"
            },
            "baxis": {
             "endlinecolor": "#2a3f5f",
             "gridcolor": "#C8D4E3",
             "linecolor": "#C8D4E3",
             "minorgridcolor": "#C8D4E3",
             "startlinecolor": "#2a3f5f"
            },
            "type": "carpet"
           }
          ],
          "choropleth": [
           {
            "colorbar": {
             "outlinewidth": 0,
             "ticks": ""
            },
            "type": "choropleth"
           }
          ],
          "contour": [
           {
            "colorbar": {
             "outlinewidth": 0,
             "ticks": ""
            },
            "colorscale": [
             [
              0,
              "#0d0887"
             ],
             [
              0.1111111111111111,
              "#46039f"
             ],
             [
              0.2222222222222222,
              "#7201a8"
             ],
             [
              0.3333333333333333,
              "#9c179e"
             ],
             [
              0.4444444444444444,
              "#bd3786"
             ],
             [
              0.5555555555555556,
              "#d8576b"
             ],
             [
              0.6666666666666666,
              "#ed7953"
             ],
             [
              0.7777777777777778,
              "#fb9f3a"
             ],
             [
              0.8888888888888888,
              "#fdca26"
             ],
             [
              1,
              "#f0f921"
             ]
            ],
            "type": "contour"
           }
          ],
          "contourcarpet": [
           {
            "colorbar": {
             "outlinewidth": 0,
             "ticks": ""
            },
            "type": "contourcarpet"
           }
          ],
          "heatmap": [
           {
            "colorbar": {
             "outlinewidth": 0,
             "ticks": ""
            },
            "colorscale": [
             [
              0,
              "#0d0887"
             ],
             [
              0.1111111111111111,
              "#46039f"
             ],
             [
              0.2222222222222222,
              "#7201a8"
             ],
             [
              0.3333333333333333,
              "#9c179e"
             ],
             [
              0.4444444444444444,
              "#bd3786"
             ],
             [
              0.5555555555555556,
              "#d8576b"
             ],
             [
              0.6666666666666666,
              "#ed7953"
             ],
             [
              0.7777777777777778,
              "#fb9f3a"
             ],
             [
              0.8888888888888888,
              "#fdca26"
             ],
             [
              1,
              "#f0f921"
             ]
            ],
            "type": "heatmap"
           }
          ],
          "heatmapgl": [
           {
            "colorbar": {
             "outlinewidth": 0,
             "ticks": ""
            },
            "colorscale": [
             [
              0,
              "#0d0887"
             ],
             [
              0.1111111111111111,
              "#46039f"
             ],
             [
              0.2222222222222222,
              "#7201a8"
             ],
             [
              0.3333333333333333,
              "#9c179e"
             ],
             [
              0.4444444444444444,
              "#bd3786"
             ],
             [
              0.5555555555555556,
              "#d8576b"
             ],
             [
              0.6666666666666666,
              "#ed7953"
             ],
             [
              0.7777777777777778,
              "#fb9f3a"
             ],
             [
              0.8888888888888888,
              "#fdca26"
             ],
             [
              1,
              "#f0f921"
             ]
            ],
            "type": "heatmapgl"
           }
          ],
          "histogram": [
           {
            "marker": {
             "colorbar": {
              "outlinewidth": 0,
              "ticks": ""
             }
            },
            "type": "histogram"
           }
          ],
          "histogram2d": [
           {
            "colorbar": {
             "outlinewidth": 0,
             "ticks": ""
            },
            "colorscale": [
             [
              0,
              "#0d0887"
             ],
             [
              0.1111111111111111,
              "#46039f"
             ],
             [
              0.2222222222222222,
              "#7201a8"
             ],
             [
              0.3333333333333333,
              "#9c179e"
             ],
             [
              0.4444444444444444,
              "#bd3786"
             ],
             [
              0.5555555555555556,
              "#d8576b"
             ],
             [
              0.6666666666666666,
              "#ed7953"
             ],
             [
              0.7777777777777778,
              "#fb9f3a"
             ],
             [
              0.8888888888888888,
              "#fdca26"
             ],
             [
              1,
              "#f0f921"
             ]
            ],
            "type": "histogram2d"
           }
          ],
          "histogram2dcontour": [
           {
            "colorbar": {
             "outlinewidth": 0,
             "ticks": ""
            },
            "colorscale": [
             [
              0,
              "#0d0887"
             ],
             [
              0.1111111111111111,
              "#46039f"
             ],
             [
              0.2222222222222222,
              "#7201a8"
             ],
             [
              0.3333333333333333,
              "#9c179e"
             ],
             [
              0.4444444444444444,
              "#bd3786"
             ],
             [
              0.5555555555555556,
              "#d8576b"
             ],
             [
              0.6666666666666666,
              "#ed7953"
             ],
             [
              0.7777777777777778,
              "#fb9f3a"
             ],
             [
              0.8888888888888888,
              "#fdca26"
             ],
             [
              1,
              "#f0f921"
             ]
            ],
            "type": "histogram2dcontour"
           }
          ],
          "mesh3d": [
           {
            "colorbar": {
             "outlinewidth": 0,
             "ticks": ""
            },
            "type": "mesh3d"
           }
          ],
          "parcoords": [
           {
            "line": {
             "colorbar": {
              "outlinewidth": 0,
              "ticks": ""
             }
            },
            "type": "parcoords"
           }
          ],
          "pie": [
           {
            "automargin": true,
            "type": "pie"
           }
          ],
          "scatter": [
           {
            "marker": {
             "colorbar": {
              "outlinewidth": 0,
              "ticks": ""
             }
            },
            "type": "scatter"
           }
          ],
          "scatter3d": [
           {
            "line": {
             "colorbar": {
              "outlinewidth": 0,
              "ticks": ""
             }
            },
            "marker": {
             "colorbar": {
              "outlinewidth": 0,
              "ticks": ""
             }
            },
            "type": "scatter3d"
           }
          ],
          "scattercarpet": [
           {
            "marker": {
             "colorbar": {
              "outlinewidth": 0,
              "ticks": ""
             }
            },
            "type": "scattercarpet"
           }
          ],
          "scattergeo": [
           {
            "marker": {
             "colorbar": {
              "outlinewidth": 0,
              "ticks": ""
             }
            },
            "type": "scattergeo"
           }
          ],
          "scattergl": [
           {
            "marker": {
             "colorbar": {
              "outlinewidth": 0,
              "ticks": ""
             }
            },
            "type": "scattergl"
           }
          ],
          "scattermapbox": [
           {
            "marker": {
             "colorbar": {
              "outlinewidth": 0,
              "ticks": ""
             }
            },
            "type": "scattermapbox"
           }
          ],
          "scatterpolar": [
           {
            "marker": {
             "colorbar": {
              "outlinewidth": 0,
              "ticks": ""
             }
            },
            "type": "scatterpolar"
           }
          ],
          "scatterpolargl": [
           {
            "marker": {
             "colorbar": {
              "outlinewidth": 0,
              "ticks": ""
             }
            },
            "type": "scatterpolargl"
           }
          ],
          "scatterternary": [
           {
            "marker": {
             "colorbar": {
              "outlinewidth": 0,
              "ticks": ""
             }
            },
            "type": "scatterternary"
           }
          ],
          "surface": [
           {
            "colorbar": {
             "outlinewidth": 0,
             "ticks": ""
            },
            "colorscale": [
             [
              0,
              "#0d0887"
             ],
             [
              0.1111111111111111,
              "#46039f"
             ],
             [
              0.2222222222222222,
              "#7201a8"
             ],
             [
              0.3333333333333333,
              "#9c179e"
             ],
             [
              0.4444444444444444,
              "#bd3786"
             ],
             [
              0.5555555555555556,
              "#d8576b"
             ],
             [
              0.6666666666666666,
              "#ed7953"
             ],
             [
              0.7777777777777778,
              "#fb9f3a"
             ],
             [
              0.8888888888888888,
              "#fdca26"
             ],
             [
              1,
              "#f0f921"
             ]
            ],
            "type": "surface"
           }
          ],
          "table": [
           {
            "cells": {
             "fill": {
              "color": "#EBF0F8"
             },
             "line": {
              "color": "white"
             }
            },
            "header": {
             "fill": {
              "color": "#C8D4E3"
             },
             "line": {
              "color": "white"
             }
            },
            "type": "table"
           }
          ]
         },
         "layout": {
          "annotationdefaults": {
           "arrowcolor": "#2a3f5f",
           "arrowhead": 0,
           "arrowwidth": 1
          },
          "autotypenumbers": "strict",
          "coloraxis": {
           "colorbar": {
            "outlinewidth": 0,
            "ticks": ""
           }
          },
          "colorscale": {
           "diverging": [
            [
             0,
             "#8e0152"
            ],
            [
             0.1,
             "#c51b7d"
            ],
            [
             0.2,
             "#de77ae"
            ],
            [
             0.3,
             "#f1b6da"
            ],
            [
             0.4,
             "#fde0ef"
            ],
            [
             0.5,
             "#f7f7f7"
            ],
            [
             0.6,
             "#e6f5d0"
            ],
            [
             0.7,
             "#b8e186"
            ],
            [
             0.8,
             "#7fbc41"
            ],
            [
             0.9,
             "#4d9221"
            ],
            [
             1,
             "#276419"
            ]
           ],
           "sequential": [
            [
             0,
             "#0d0887"
            ],
            [
             0.1111111111111111,
             "#46039f"
            ],
            [
             0.2222222222222222,
             "#7201a8"
            ],
            [
             0.3333333333333333,
             "#9c179e"
            ],
            [
             0.4444444444444444,
             "#bd3786"
            ],
            [
             0.5555555555555556,
             "#d8576b"
            ],
            [
             0.6666666666666666,
             "#ed7953"
            ],
            [
             0.7777777777777778,
             "#fb9f3a"
            ],
            [
             0.8888888888888888,
             "#fdca26"
            ],
            [
             1,
             "#f0f921"
            ]
           ],
           "sequentialminus": [
            [
             0,
             "#0d0887"
            ],
            [
             0.1111111111111111,
             "#46039f"
            ],
            [
             0.2222222222222222,
             "#7201a8"
            ],
            [
             0.3333333333333333,
             "#9c179e"
            ],
            [
             0.4444444444444444,
             "#bd3786"
            ],
            [
             0.5555555555555556,
             "#d8576b"
            ],
            [
             0.6666666666666666,
             "#ed7953"
            ],
            [
             0.7777777777777778,
             "#fb9f3a"
            ],
            [
             0.8888888888888888,
             "#fdca26"
            ],
            [
             1,
             "#f0f921"
            ]
           ]
          },
          "colorway": [
           "#636efa",
           "#EF553B",
           "#00cc96",
           "#ab63fa",
           "#FFA15A",
           "#19d3f3",
           "#FF6692",
           "#B6E880",
           "#FF97FF",
           "#FECB52"
          ],
          "font": {
           "color": "#2a3f5f"
          },
          "geo": {
           "bgcolor": "white",
           "lakecolor": "white",
           "landcolor": "white",
           "showlakes": true,
           "showland": true,
           "subunitcolor": "#C8D4E3"
          },
          "hoverlabel": {
           "align": "left"
          },
          "hovermode": "closest",
          "mapbox": {
           "style": "light"
          },
          "paper_bgcolor": "white",
          "plot_bgcolor": "white",
          "polar": {
           "angularaxis": {
            "gridcolor": "#EBF0F8",
            "linecolor": "#EBF0F8",
            "ticks": ""
           },
           "bgcolor": "white",
           "radialaxis": {
            "gridcolor": "#EBF0F8",
            "linecolor": "#EBF0F8",
            "ticks": ""
           }
          },
          "scene": {
           "xaxis": {
            "backgroundcolor": "white",
            "gridcolor": "#DFE8F3",
            "gridwidth": 2,
            "linecolor": "#EBF0F8",
            "showbackground": true,
            "ticks": "",
            "zerolinecolor": "#EBF0F8"
           },
           "yaxis": {
            "backgroundcolor": "white",
            "gridcolor": "#DFE8F3",
            "gridwidth": 2,
            "linecolor": "#EBF0F8",
            "showbackground": true,
            "ticks": "",
            "zerolinecolor": "#EBF0F8"
           },
           "zaxis": {
            "backgroundcolor": "white",
            "gridcolor": "#DFE8F3",
            "gridwidth": 2,
            "linecolor": "#EBF0F8",
            "showbackground": true,
            "ticks": "",
            "zerolinecolor": "#EBF0F8"
           }
          },
          "shapedefaults": {
           "line": {
            "color": "#2a3f5f"
           }
          },
          "ternary": {
           "aaxis": {
            "gridcolor": "#DFE8F3",
            "linecolor": "#A2B1C6",
            "ticks": ""
           },
           "baxis": {
            "gridcolor": "#DFE8F3",
            "linecolor": "#A2B1C6",
            "ticks": ""
           },
           "bgcolor": "white",
           "caxis": {
            "gridcolor": "#DFE8F3",
            "linecolor": "#A2B1C6",
            "ticks": ""
           }
          },
          "title": {
           "x": 0.05
          },
          "xaxis": {
           "automargin": true,
           "gridcolor": "#EBF0F8",
           "linecolor": "#EBF0F8",
           "ticks": "",
           "title": {
            "standoff": 15
           },
           "zerolinecolor": "#EBF0F8",
           "zerolinewidth": 2
          },
          "yaxis": {
           "automargin": true,
           "gridcolor": "#EBF0F8",
           "linecolor": "#EBF0F8",
           "ticks": "",
           "title": {
            "standoff": 15
           },
           "zerolinecolor": "#EBF0F8",
           "zerolinewidth": 2
          }
         }
        },
        "title": {
         "font": {
          "color": "black",
          "family": "Myriad Pro",
          "size": 18
         },
         "text": "Replicates_Tet"
        },
        "width": 330,
        "xaxis": {
         "anchor": "y",
         "domain": [
          0,
          1
         ],
         "linecolor": "black",
         "linewidth": 1,
         "mirror": true,
         "nticks": 10,
         "range": [
          0,
          1
         ],
         "showgrid": false,
         "showline": true,
         "tickangle": -90,
         "tickcolor": "black",
         "tickfont": {
          "color": "black",
          "family": "Myriad Pro",
          "size": 18
         },
         "ticklen": 6,
         "ticks": "outside",
         "title": {
          "font": {
           "color": "black",
           "family": "Myriad Pro",
           "size": 18
          },
          "standoff": 2
         },
         "zeroline": false
        },
        "xaxis2": {
         "anchor": "y2",
         "domain": [
          0,
          1
         ],
         "linecolor": "black",
         "linewidth": 1,
         "mirror": true,
         "nticks": 10,
         "range": [
          0,
          1
         ],
         "showgrid": false,
         "showline": true,
         "tickangle": -90,
         "tickcolor": "black",
         "tickfont": {
          "color": "black",
          "family": "Myriad Pro",
          "size": 18
         },
         "ticklen": 6,
         "ticks": "outside",
         "title": {
          "font": {
           "color": "black",
           "family": "Myriad Pro",
           "size": 18
          },
          "standoff": 2
         },
         "zeroline": false
        },
        "xaxis3": {
         "anchor": "y3",
         "domain": [
          0,
          1
         ],
         "linecolor": "black",
         "linewidth": 1,
         "mirror": true,
         "nticks": 10,
         "range": [
          0,
          1
         ],
         "showgrid": false,
         "showline": true,
         "tickangle": -90,
         "tickcolor": "black",
         "tickfont": {
          "color": "black",
          "family": "Myriad Pro",
          "size": 18
         },
         "ticklen": 6,
         "ticks": "outside",
         "title": {
          "font": {
           "color": "black",
           "family": "Myriad Pro",
           "size": 18
          },
          "standoff": 2
         },
         "zeroline": false
        },
        "yaxis": {
         "anchor": "x",
         "domain": [
          0.7333333333333334,
          1
         ],
         "linecolor": "black",
         "linewidth": 1,
         "mirror": true,
         "nticks": 10,
         "showgrid": false,
         "showline": true,
         "tickangle": 0,
         "tickcolor": "black",
         "tickfont": {
          "color": "black",
          "family": "Myriad Pro",
          "size": 18
         },
         "ticklen": 6,
         "ticks": "outside",
         "title": {
          "font": {
           "color": "black",
           "family": "Myriad Pro",
           "size": 18
          },
          "standoff": 2
         },
         "zeroline": false
        },
        "yaxis2": {
         "anchor": "x2",
         "domain": [
          0.3666666666666667,
          0.6333333333333333
         ],
         "linecolor": "black",
         "linewidth": 1,
         "mirror": true,
         "nticks": 10,
         "showgrid": false,
         "showline": true,
         "tickangle": 0,
         "tickcolor": "black",
         "tickfont": {
          "color": "black",
          "family": "Myriad Pro",
          "size": 18
         },
         "ticklen": 6,
         "ticks": "outside",
         "title": {
          "font": {
           "color": "black",
           "family": "Myriad Pro",
           "size": 18
          },
          "standoff": 2
         },
         "zeroline": false
        },
        "yaxis3": {
         "anchor": "x3",
         "domain": [
          0,
          0.26666666666666666
         ],
         "linecolor": "black",
         "linewidth": 1,
         "mirror": true,
         "nticks": 10,
         "showgrid": false,
         "showline": true,
         "tickangle": 0,
         "tickcolor": "black",
         "tickfont": {
          "color": "black",
          "family": "Myriad Pro",
          "size": 18
         },
         "ticklen": 6,
         "ticks": "outside",
         "title": {
          "font": {
           "color": "black",
           "family": "Myriad Pro",
           "size": 18
          },
          "standoff": 2
         },
         "zeroline": false
        }
       }
      },
      "text/html": [
       "<div>                            <div id=\"1b7d2cf0-24d4-442f-895c-a47ac4905132\" class=\"plotly-graph-div\" style=\"height:775px; width:330px;\"></div>            <script type=\"text/javascript\">                require([\"plotly\"], function(Plotly) {                    window.PLOTLYENV=window.PLOTLYENV || {};                                    if (document.getElementById(\"1b7d2cf0-24d4-442f-895c-a47ac4905132\")) {                    Plotly.newPlot(                        \"1b7d2cf0-24d4-442f-895c-a47ac4905132\",                        [{\"marker\": {\"color\": \"rgb(73,143,201)\"}, \"orientation\": \"h\", \"showlegend\": false, \"type\": \"bar\", \"x\": [0.1, 0.3, 0], \"xaxis\": \"x\", \"y\": [\"B-DAS+2\", \"C-DAS+2\", \"C-LAA\"], \"yaxis\": \"y\"}, {\"marker\": {\"color\": \"rgb(73,143,201)\"}, \"orientation\": \"h\", \"showlegend\": false, \"type\": \"bar\", \"x\": [0.9, 1.0, 0.1], \"xaxis\": \"x2\", \"y\": [\"D-LAA\", \"E-LAA\", \"B-DAS\"], \"yaxis\": \"y2\"}, {\"marker\": {\"color\": \"rgb(73,143,201)\"}, \"orientation\": \"h\", \"showlegend\": false, \"type\": \"bar\", \"x\": [0.4, 1.0, 1.0, 0.9], \"xaxis\": \"x3\", \"y\": [\"C-*\", \"E-*\", \"E-DAS\", \"E-DAS+2\"], \"yaxis\": \"y3\"}],                        {\"bargap\": 0.5, \"height\": 775, \"template\": {\"data\": {\"bar\": [{\"error_x\": {\"color\": \"#2a3f5f\"}, \"error_y\": {\"color\": \"#2a3f5f\"}, \"marker\": {\"line\": {\"color\": \"white\", \"width\": 0.5}}, \"type\": \"bar\"}], \"barpolar\": [{\"marker\": {\"line\": {\"color\": \"white\", \"width\": 0.5}}, \"type\": \"barpolar\"}], \"carpet\": [{\"aaxis\": {\"endlinecolor\": \"#2a3f5f\", \"gridcolor\": \"#C8D4E3\", \"linecolor\": \"#C8D4E3\", \"minorgridcolor\": \"#C8D4E3\", \"startlinecolor\": \"#2a3f5f\"}, \"baxis\": {\"endlinecolor\": \"#2a3f5f\", \"gridcolor\": \"#C8D4E3\", \"linecolor\": \"#C8D4E3\", \"minorgridcolor\": \"#C8D4E3\", \"startlinecolor\": \"#2a3f5f\"}, \"type\": \"carpet\"}], \"choropleth\": [{\"colorbar\": {\"outlinewidth\": 0, \"ticks\": \"\"}, \"type\": \"choropleth\"}], \"contour\": [{\"colorbar\": {\"outlinewidth\": 0, \"ticks\": \"\"}, \"colorscale\": [[0.0, \"#0d0887\"], [0.1111111111111111, \"#46039f\"], [0.2222222222222222, \"#7201a8\"], [0.3333333333333333, \"#9c179e\"], [0.4444444444444444, \"#bd3786\"], [0.5555555555555556, \"#d8576b\"], [0.6666666666666666, \"#ed7953\"], [0.7777777777777778, \"#fb9f3a\"], [0.8888888888888888, \"#fdca26\"], [1.0, \"#f0f921\"]], \"type\": \"contour\"}], \"contourcarpet\": [{\"colorbar\": {\"outlinewidth\": 0, \"ticks\": \"\"}, \"type\": \"contourcarpet\"}], \"heatmap\": [{\"colorbar\": {\"outlinewidth\": 0, \"ticks\": \"\"}, \"colorscale\": [[0.0, \"#0d0887\"], [0.1111111111111111, \"#46039f\"], [0.2222222222222222, \"#7201a8\"], [0.3333333333333333, \"#9c179e\"], [0.4444444444444444, \"#bd3786\"], [0.5555555555555556, \"#d8576b\"], [0.6666666666666666, \"#ed7953\"], [0.7777777777777778, \"#fb9f3a\"], [0.8888888888888888, \"#fdca26\"], [1.0, \"#f0f921\"]], \"type\": \"heatmap\"}], \"heatmapgl\": [{\"colorbar\": {\"outlinewidth\": 0, \"ticks\": \"\"}, \"colorscale\": [[0.0, \"#0d0887\"], [0.1111111111111111, \"#46039f\"], [0.2222222222222222, \"#7201a8\"], [0.3333333333333333, \"#9c179e\"], [0.4444444444444444, \"#bd3786\"], [0.5555555555555556, \"#d8576b\"], [0.6666666666666666, \"#ed7953\"], [0.7777777777777778, \"#fb9f3a\"], [0.8888888888888888, \"#fdca26\"], [1.0, \"#f0f921\"]], \"type\": \"heatmapgl\"}], \"histogram\": [{\"marker\": {\"colorbar\": {\"outlinewidth\": 0, \"ticks\": \"\"}}, \"type\": \"histogram\"}], \"histogram2d\": [{\"colorbar\": {\"outlinewidth\": 0, \"ticks\": \"\"}, \"colorscale\": [[0.0, \"#0d0887\"], [0.1111111111111111, \"#46039f\"], [0.2222222222222222, \"#7201a8\"], [0.3333333333333333, \"#9c179e\"], [0.4444444444444444, \"#bd3786\"], [0.5555555555555556, \"#d8576b\"], [0.6666666666666666, \"#ed7953\"], [0.7777777777777778, \"#fb9f3a\"], [0.8888888888888888, \"#fdca26\"], [1.0, \"#f0f921\"]], \"type\": \"histogram2d\"}], \"histogram2dcontour\": [{\"colorbar\": {\"outlinewidth\": 0, \"ticks\": \"\"}, \"colorscale\": [[0.0, \"#0d0887\"], [0.1111111111111111, \"#46039f\"], [0.2222222222222222, \"#7201a8\"], [0.3333333333333333, \"#9c179e\"], [0.4444444444444444, \"#bd3786\"], [0.5555555555555556, \"#d8576b\"], [0.6666666666666666, \"#ed7953\"], [0.7777777777777778, \"#fb9f3a\"], [0.8888888888888888, \"#fdca26\"], [1.0, \"#f0f921\"]], \"type\": \"histogram2dcontour\"}], \"mesh3d\": [{\"colorbar\": {\"outlinewidth\": 0, \"ticks\": \"\"}, \"type\": \"mesh3d\"}], \"parcoords\": [{\"line\": {\"colorbar\": {\"outlinewidth\": 0, \"ticks\": \"\"}}, \"type\": \"parcoords\"}], \"pie\": [{\"automargin\": true, \"type\": \"pie\"}], \"scatter\": [{\"marker\": {\"colorbar\": {\"outlinewidth\": 0, \"ticks\": \"\"}}, \"type\": \"scatter\"}], \"scatter3d\": [{\"line\": {\"colorbar\": {\"outlinewidth\": 0, \"ticks\": \"\"}}, \"marker\": {\"colorbar\": {\"outlinewidth\": 0, \"ticks\": \"\"}}, \"type\": \"scatter3d\"}], \"scattercarpet\": [{\"marker\": {\"colorbar\": {\"outlinewidth\": 0, \"ticks\": \"\"}}, \"type\": \"scattercarpet\"}], \"scattergeo\": [{\"marker\": {\"colorbar\": {\"outlinewidth\": 0, \"ticks\": \"\"}}, \"type\": \"scattergeo\"}], \"scattergl\": [{\"marker\": {\"colorbar\": {\"outlinewidth\": 0, \"ticks\": \"\"}}, \"type\": \"scattergl\"}], \"scattermapbox\": [{\"marker\": {\"colorbar\": {\"outlinewidth\": 0, \"ticks\": \"\"}}, \"type\": \"scattermapbox\"}], \"scatterpolar\": [{\"marker\": {\"colorbar\": {\"outlinewidth\": 0, \"ticks\": \"\"}}, \"type\": \"scatterpolar\"}], \"scatterpolargl\": [{\"marker\": {\"colorbar\": {\"outlinewidth\": 0, \"ticks\": \"\"}}, \"type\": \"scatterpolargl\"}], \"scatterternary\": [{\"marker\": {\"colorbar\": {\"outlinewidth\": 0, \"ticks\": \"\"}}, \"type\": \"scatterternary\"}], \"surface\": [{\"colorbar\": {\"outlinewidth\": 0, \"ticks\": \"\"}, \"colorscale\": [[0.0, \"#0d0887\"], [0.1111111111111111, \"#46039f\"], [0.2222222222222222, \"#7201a8\"], [0.3333333333333333, \"#9c179e\"], [0.4444444444444444, \"#bd3786\"], [0.5555555555555556, \"#d8576b\"], [0.6666666666666666, \"#ed7953\"], [0.7777777777777778, \"#fb9f3a\"], [0.8888888888888888, \"#fdca26\"], [1.0, \"#f0f921\"]], \"type\": \"surface\"}], \"table\": [{\"cells\": {\"fill\": {\"color\": \"#EBF0F8\"}, \"line\": {\"color\": \"white\"}}, \"header\": {\"fill\": {\"color\": \"#C8D4E3\"}, \"line\": {\"color\": \"white\"}}, \"type\": \"table\"}]}, \"layout\": {\"annotationdefaults\": {\"arrowcolor\": \"#2a3f5f\", \"arrowhead\": 0, \"arrowwidth\": 1}, \"autotypenumbers\": \"strict\", \"coloraxis\": {\"colorbar\": {\"outlinewidth\": 0, \"ticks\": \"\"}}, \"colorscale\": {\"diverging\": [[0, \"#8e0152\"], [0.1, \"#c51b7d\"], [0.2, \"#de77ae\"], [0.3, \"#f1b6da\"], [0.4, \"#fde0ef\"], [0.5, \"#f7f7f7\"], [0.6, \"#e6f5d0\"], [0.7, \"#b8e186\"], [0.8, \"#7fbc41\"], [0.9, \"#4d9221\"], [1, \"#276419\"]], \"sequential\": [[0.0, \"#0d0887\"], [0.1111111111111111, \"#46039f\"], [0.2222222222222222, \"#7201a8\"], [0.3333333333333333, \"#9c179e\"], [0.4444444444444444, \"#bd3786\"], [0.5555555555555556, \"#d8576b\"], [0.6666666666666666, \"#ed7953\"], [0.7777777777777778, \"#fb9f3a\"], [0.8888888888888888, \"#fdca26\"], [1.0, \"#f0f921\"]], \"sequentialminus\": [[0.0, \"#0d0887\"], [0.1111111111111111, \"#46039f\"], [0.2222222222222222, \"#7201a8\"], [0.3333333333333333, \"#9c179e\"], [0.4444444444444444, \"#bd3786\"], [0.5555555555555556, \"#d8576b\"], [0.6666666666666666, \"#ed7953\"], [0.7777777777777778, \"#fb9f3a\"], [0.8888888888888888, \"#fdca26\"], [1.0, \"#f0f921\"]]}, \"colorway\": [\"#636efa\", \"#EF553B\", \"#00cc96\", \"#ab63fa\", \"#FFA15A\", \"#19d3f3\", \"#FF6692\", \"#B6E880\", \"#FF97FF\", \"#FECB52\"], \"font\": {\"color\": \"#2a3f5f\"}, \"geo\": {\"bgcolor\": \"white\", \"lakecolor\": \"white\", \"landcolor\": \"white\", \"showlakes\": true, \"showland\": true, \"subunitcolor\": \"#C8D4E3\"}, \"hoverlabel\": {\"align\": \"left\"}, \"hovermode\": \"closest\", \"mapbox\": {\"style\": \"light\"}, \"paper_bgcolor\": \"white\", \"plot_bgcolor\": \"white\", \"polar\": {\"angularaxis\": {\"gridcolor\": \"#EBF0F8\", \"linecolor\": \"#EBF0F8\", \"ticks\": \"\"}, \"bgcolor\": \"white\", \"radialaxis\": {\"gridcolor\": \"#EBF0F8\", \"linecolor\": \"#EBF0F8\", \"ticks\": \"\"}}, \"scene\": {\"xaxis\": {\"backgroundcolor\": \"white\", \"gridcolor\": \"#DFE8F3\", \"gridwidth\": 2, \"linecolor\": \"#EBF0F8\", \"showbackground\": true, \"ticks\": \"\", \"zerolinecolor\": \"#EBF0F8\"}, \"yaxis\": {\"backgroundcolor\": \"white\", \"gridcolor\": \"#DFE8F3\", \"gridwidth\": 2, \"linecolor\": \"#EBF0F8\", \"showbackground\": true, \"ticks\": \"\", \"zerolinecolor\": \"#EBF0F8\"}, \"zaxis\": {\"backgroundcolor\": \"white\", \"gridcolor\": \"#DFE8F3\", \"gridwidth\": 2, \"linecolor\": \"#EBF0F8\", \"showbackground\": true, \"ticks\": \"\", \"zerolinecolor\": \"#EBF0F8\"}}, \"shapedefaults\": {\"line\": {\"color\": \"#2a3f5f\"}}, \"ternary\": {\"aaxis\": {\"gridcolor\": \"#DFE8F3\", \"linecolor\": \"#A2B1C6\", \"ticks\": \"\"}, \"baxis\": {\"gridcolor\": \"#DFE8F3\", \"linecolor\": \"#A2B1C6\", \"ticks\": \"\"}, \"bgcolor\": \"white\", \"caxis\": {\"gridcolor\": \"#DFE8F3\", \"linecolor\": \"#A2B1C6\", \"ticks\": \"\"}}, \"title\": {\"x\": 0.05}, \"xaxis\": {\"automargin\": true, \"gridcolor\": \"#EBF0F8\", \"linecolor\": \"#EBF0F8\", \"ticks\": \"\", \"title\": {\"standoff\": 15}, \"zerolinecolor\": \"#EBF0F8\", \"zerolinewidth\": 2}, \"yaxis\": {\"automargin\": true, \"gridcolor\": \"#EBF0F8\", \"linecolor\": \"#EBF0F8\", \"ticks\": \"\", \"title\": {\"standoff\": 15}, \"zerolinecolor\": \"#EBF0F8\", \"zerolinewidth\": 2}}}, \"title\": {\"font\": {\"color\": \"black\", \"family\": \"Myriad Pro\", \"size\": 18}, \"text\": \"Replicates_Tet\"}, \"width\": 330, \"xaxis\": {\"anchor\": \"y\", \"domain\": [0.0, 1.0], \"linecolor\": \"black\", \"linewidth\": 1, \"mirror\": true, \"nticks\": 10, \"range\": [0, 1], \"showgrid\": false, \"showline\": true, \"tickangle\": -90, \"tickcolor\": \"black\", \"tickfont\": {\"color\": \"black\", \"family\": \"Myriad Pro\", \"size\": 18}, \"ticklen\": 6, \"ticks\": \"outside\", \"title\": {\"font\": {\"color\": \"black\", \"family\": \"Myriad Pro\", \"size\": 18}, \"standoff\": 2}, \"zeroline\": false}, \"xaxis2\": {\"anchor\": \"y2\", \"domain\": [0.0, 1.0], \"linecolor\": \"black\", \"linewidth\": 1, \"mirror\": true, \"nticks\": 10, \"range\": [0, 1], \"showgrid\": false, \"showline\": true, \"tickangle\": -90, \"tickcolor\": \"black\", \"tickfont\": {\"color\": \"black\", \"family\": \"Myriad Pro\", \"size\": 18}, \"ticklen\": 6, \"ticks\": \"outside\", \"title\": {\"font\": {\"color\": \"black\", \"family\": \"Myriad Pro\", \"size\": 18}, \"standoff\": 2}, \"zeroline\": false}, \"xaxis3\": {\"anchor\": \"y3\", \"domain\": [0.0, 1.0], \"linecolor\": \"black\", \"linewidth\": 1, \"mirror\": true, \"nticks\": 10, \"range\": [0, 1], \"showgrid\": false, \"showline\": true, \"tickangle\": -90, \"tickcolor\": \"black\", \"tickfont\": {\"color\": \"black\", \"family\": \"Myriad Pro\", \"size\": 18}, \"ticklen\": 6, \"ticks\": \"outside\", \"title\": {\"font\": {\"color\": \"black\", \"family\": \"Myriad Pro\", \"size\": 18}, \"standoff\": 2}, \"zeroline\": false}, \"yaxis\": {\"anchor\": \"x\", \"domain\": [0.7333333333333334, 1.0], \"linecolor\": \"black\", \"linewidth\": 1, \"mirror\": true, \"nticks\": 10, \"showgrid\": false, \"showline\": true, \"tickangle\": 0, \"tickcolor\": \"black\", \"tickfont\": {\"color\": \"black\", \"family\": \"Myriad Pro\", \"size\": 18}, \"ticklen\": 6, \"ticks\": \"outside\", \"title\": {\"font\": {\"color\": \"black\", \"family\": \"Myriad Pro\", \"size\": 18}, \"standoff\": 2}, \"zeroline\": false}, \"yaxis2\": {\"anchor\": \"x2\", \"domain\": [0.3666666666666667, 0.6333333333333333], \"linecolor\": \"black\", \"linewidth\": 1, \"mirror\": true, \"nticks\": 10, \"showgrid\": false, \"showline\": true, \"tickangle\": 0, \"tickcolor\": \"black\", \"tickfont\": {\"color\": \"black\", \"family\": \"Myriad Pro\", \"size\": 18}, \"ticklen\": 6, \"ticks\": \"outside\", \"title\": {\"font\": {\"color\": \"black\", \"family\": \"Myriad Pro\", \"size\": 18}, \"standoff\": 2}, \"zeroline\": false}, \"yaxis3\": {\"anchor\": \"x3\", \"domain\": [0.0, 0.26666666666666666], \"linecolor\": \"black\", \"linewidth\": 1, \"mirror\": true, \"nticks\": 10, \"showgrid\": false, \"showline\": true, \"tickangle\": 0, \"tickcolor\": \"black\", \"tickfont\": {\"color\": \"black\", \"family\": \"Myriad Pro\", \"size\": 18}, \"ticklen\": 6, \"ticks\": \"outside\", \"title\": {\"font\": {\"color\": \"black\", \"family\": \"Myriad Pro\", \"size\": 18}, \"standoff\": 2}, \"zeroline\": false}},                        {\"responsive\": true}                    ).then(function(){\n",
       "                            \n",
       "var gd = document.getElementById('1b7d2cf0-24d4-442f-895c-a47ac4905132');\n",
       "var x = new MutationObserver(function (mutations, observer) {{\n",
       "        var display = window.getComputedStyle(gd).display;\n",
       "        if (!display || display === 'none') {{\n",
       "            console.log([gd, 'removed!']);\n",
       "            Plotly.purge(gd);\n",
       "            observer.disconnect();\n",
       "        }}\n",
       "}});\n",
       "\n",
       "// Listen for the removal of the full notebook cells\n",
       "var notebookContainer = gd.closest('#notebook-container');\n",
       "if (notebookContainer) {{\n",
       "    x.observe(notebookContainer, {childList: true});\n",
       "}}\n",
       "\n",
       "// Listen for the clearing of the current output cell\n",
       "var outputEl = gd.closest('.output');\n",
       "if (outputEl) {{\n",
       "    x.observe(outputEl, {childList: true});\n",
       "}}\n",
       "\n",
       "                        })                };                });            </script>        </div>"
      ]
     },
     "metadata": {},
     "output_type": "display_data"
    }
   ],
   "source": [
    "bistability_dfs = [st_bistability_df, rep_bistability_df]\n",
    "titles = ['Single Trials', 'Replicates']\n",
    "\n",
    "for n, bistability_df in enumerate(bistability_dfs):\n",
    "    fig = make_subplots(rows=1, cols=3, horizontal_spacing=0.1, vertical_spacing=0.1)\n",
    "\n",
    "    for i, deg_class in enumerate(['Low', 'Mid', 'High']):\n",
    "        temp_df = bistability_df[bistability_df.index.get_level_values(0).map(lambda x:gfp_df.loc[x[:2]]['deg_class'])==deg_class]\n",
    "        deg_labels = []\n",
    "        bistable_counts = []\n",
    "        lac_codes = sorted(temp_df.index.get_level_values(0).map(lambda x:x[:2]).unique(), \n",
    "                           key=lambda x:gfp_df.loc[x]['deg_mean'])\n",
    "        for lac_code in lac_codes:\n",
    "            temp_temp_df = temp_df[temp_df.index.get_level_values(0).map(lambda x:x[:2]==lac_code)]\n",
    "            try:\n",
    "                bistable_counts.append(temp_temp_df['stability'].value_counts(True)['bistable'])\n",
    "            except KeyError:\n",
    "                bistable_counts.append(0)\n",
    "        fig.add_trace(go.Bar(x=[rbs_codes[code[0]]+'-'+deg_codes[code[1]] for code in lac_codes],\n",
    "                             y=bistable_counts,\n",
    "                             marker=dict(color=stability_colors['bistable']), showlegend=False,\n",
    "                             orientation='v'), row=1, col=i+1)\n",
    "\n",
    "        fig.update_layout(width=700,height=350, bargap=0.5, title = titles[n]+'_'+'Lac', title_font = font_defaults)\n",
    "        fig.update_xaxes({**axis_defaults, **dict(showgrid=False, tickangle=-90)})\n",
    "        fig.update_yaxes({**axis_defaults, **dict(showgrid=False, range=(0,1))})\n",
    "\n",
    "    plot(fig)\n",
    "    if n==0:\n",
    "        pio.write_image(fig,\"figures\\Robustness_Individual_SingleTrials_lacs.svg\",format='svg')\n",
    "    if n==1:\n",
    "        pio.write_image(fig,\"figures\\Robustness_Individual_Replicates_lacs.svg\",format='svg')\n",
    "    \n",
    "    \n",
    "    fig = make_subplots(rows=3, cols=1, horizontal_spacing=0.1, vertical_spacing=0.1)\n",
    "    \n",
    "    for i, deg_class in enumerate(['High', 'Mid', 'Low']):\n",
    "        temp_df = bistability_df[bistability_df.index.get_level_values(0).map(lambda x:mche_df.loc[x[2:]]['deg_class'])==deg_class]\n",
    "        deg_labels = []\n",
    "        bistable_counts = []\n",
    "        tet_codes = sorted(temp_df.index.get_level_values(0).map(lambda x:x[2:]).unique(), \n",
    "                           key=lambda x:mche_df.loc[x]['deg_mean'])\n",
    "        for tet_code in tet_codes:\n",
    "            temp_temp_df = temp_df[temp_df.index.get_level_values(0).map(lambda x:x[2:]==tet_code)]\n",
    "            try:\n",
    "                bistable_counts.append(temp_temp_df['stability'].value_counts(True)['bistable'])\n",
    "            except KeyError:\n",
    "                bistable_counts.append(0)\n",
    "\n",
    "        fig.add_trace(go.Bar(y=[rbs_codes[code[0]]+'-'+deg_codes[code[1]] for code in tet_codes],\n",
    "                             x=bistable_counts,\n",
    "                             marker=dict(color=stability_colors['bistable']), showlegend=False,\n",
    "                             orientation='h'), row=i+1, col=1)\n",
    "\n",
    "        fig.update_layout(width=330,height=775, bargap=0.5, title = titles[n]+'_'+'Tet', title_font = font_defaults)\n",
    "        fig.update_yaxes({**axis_defaults, **dict(showgrid=False, tickangle=0)})\n",
    "        fig.update_xaxes({**axis_defaults, **dict(showgrid=False, range=(0,1), tickangle=-90)})\n",
    "\n",
    "    plot(fig)\n",
    "    if n==0:\n",
    "        pio.write_image(fig,\"figures\\Robustness_Individual_SingleTrials_tets.svg\",format='svg')\n",
    "    if n==1:\n",
    "        pio.write_image(fig,\"figures\\Robustness_Individual_Replicates_tets.svg\",format='svg')"
   ]
  },
  {
   "cell_type": "code",
   "execution_count": 197,
   "metadata": {},
   "outputs": [],
   "source": [
    "rep_bistability_df.to_csv('misc_excel_data/rep_bistability_df.csv')\n",
    "st_bistability_df.to_csv('misc_excel_data/st_bistability_df.csv')"
   ]
  }
 ],
 "metadata": {
  "kernelspec": {
   "display_name": "Python [conda env:impact]",
   "language": "python",
   "name": "conda-env-impact-py"
  },
  "language_info": {
   "codemirror_mode": {
    "name": "ipython",
    "version": 3
   },
   "file_extension": ".py",
   "mimetype": "text/x-python",
   "name": "python",
   "nbconvert_exporter": "python",
   "pygments_lexer": "ipython3",
   "version": "3.7.6"
  }
 },
 "nbformat": 4,
 "nbformat_minor": 2
}
