{
 "cells": [
  {
   "cell_type": "code",
   "execution_count": 26,
   "metadata": {
    "scrolled": false
   },
   "outputs": [
    {
     "data": {
      "text/html": [
       "        <script type=\"text/javascript\">\n",
       "        window.PlotlyConfig = {MathJaxConfig: 'local'};\n",
       "        if (window.MathJax) {MathJax.Hub.Config({SVG: {font: \"STIX-Web\"}});}\n",
       "        if (typeof require !== 'undefined') {\n",
       "        require.undef(\"plotly\");\n",
       "        requirejs.config({\n",
       "            paths: {\n",
       "                'plotly': ['https://cdn.plot.ly/plotly-latest.min']\n",
       "            }\n",
       "        });\n",
       "        require(['plotly'], function(Plotly) {\n",
       "            window._Plotly = Plotly;\n",
       "        });\n",
       "        }\n",
       "        </script>\n",
       "        "
      ]
     },
     "metadata": {},
     "output_type": "display_data"
    }
   ],
   "source": [
    "#Import necessary modules\n",
    "import impact as                             impt\n",
    "import impact.plotting as                    implot\n",
    "from impact.parsers import Parser as parser\n",
    "import numpy as np\n",
    "#SETTINGS FOR IMPACT. Change settings to alter calculations as required\n",
    "impt.settings.perform_curve_fit = False\n",
    "impt.settings.fit_type = 'gompertz'\n",
    "impt.settings.outlier_cleaning_flag = True\n",
    "impt.settings.max_fraction_replicates_to_remove = 0.3\n",
    "impt.settings.std_deviation_cutoff=0.1\n",
    "impt.settings.verbose = False\n",
    "impt.settings.live_calculations = False\n",
    "impt.settings.use_filtered_data = True\n",
    "impt.settings.death_phase_hyperparameter = 1\n",
    "import plotly as py\n",
    "import sys\n",
    "if 'ipykernel' in sys.modules:\n",
    "    from plotly.offline import init_notebook_mode\n",
    "    from plotly.offline import iplot as plot\n",
    "    from IPython.display import HTML\n",
    "\n",
    "    # This is required for correct mathjax (latex) and documentation rendering\n",
    "    HTML(\n",
    "        \"\"\"\n",
    "        <script>\n",
    "            var waitForPlotly = setInterval( function() {\n",
    "                if( typeof(window.Plotly) !== \"undefined\" ){\n",
    "                    MathJax.Hub.Config({ SVG: { font: \"STIX-Web\" }, displayAlign: \"center\" });\n",
    "                    MathJax.Hub.Queue([\"setRenderer\", MathJax.Hub, \"SVG\"]);\n",
    "                    clearInterval(waitForPlotly);\n",
    "                }}, 250 );\n",
    "        </script>\n",
    "        \"\"\"\n",
    "    )\n",
    "    init_notebook_mode(connected=True)\n",
    "\n",
    "from plotly import tools\n",
    "import plotly.graph_objs as go\n",
    "import colorlover as cl\n",
    "import math\n",
    "import plotly.io as pio\n",
    "pio.templates.default = \"plotly_white\"\n",
    "import plotly.colors\n",
    "from plotly.subplots import make_subplots\n",
    "import pandas as pd\n",
    "\n",
    "colors = {'blues':['rgb(164,199,228)','rgb(119,171,214)','rgb(73,143,201)','rgb(49,113,165)','rgb(36,82,120)','rgb(23,52,76)'],\n",
    "          'greens':['rgb(172,220,173)','rgb(130,203,133)','rgb(89,185,92)','rgb(63,152,66)','rgb(46,110,48)','rgb(28,67,29)'],\n",
    "         'reds':['rgb(230,174,176)','rgb(218,133,137)','rgb(205,92,98)','rgb(187,57,64)','rgb(146,45,50)','rgb(104,32,35)'],\n",
    "          #['rgb'+str(color) for color in plotly.colors.n_colors((254,224,210), (165,15,21), 6)],\n",
    "         'pinks':['rgb(215,181,210)','rgb(195,144,188)','rgb(175,107,165)','rgb(147,79,137)','rgb(110,59,102)','rgb(74,40,69)'],\n",
    "         'browns':['rgb(216,197,184)','rgb(196,168,148)','rgb(176,139,112)','rgb(150,111,83)','rgb(115,85,63)','rgb(80, 59, 44)'],\n",
    "         'oranges': ['rgb(255,206,146)','rgb(255,189,109)','rgb(255,173,73)','rgb(255,157,36)','rgb(255, 140, 0)','rgb(219,120,0)'],\n",
    "          'cyans': ['rgb(177,222,219)','rgb(139,205,201)','rgb(100,189,183)','rgb(70,163,157)','rgb(53,124,120)','rgb(37,87,84)'],\n",
    "          'yellows': ['rgb(244,239,186)','rgb(239,231,151)','rgb(233,224,116)','rgb(228,216,82)','rgb(223,208,47)','rgb(200,185,31)',],\n",
    "         'blacks':['rgb(182,182,182)','rgb(146,146,146)','rgb(109,109,109)','rgb(73,73,73)','rgb(36,36,36)','rgb(0,0,0)']}\n",
    "\n",
    "colors_bg =  {'blues':['rgba'+color.rstrip(')').lstrip('rgb')+',0.25)' for color in colors['blues']],\n",
    "              'greens':['rgba'+color.rstrip(')').lstrip('rgb')+',0.25)' for color in colors['greens']],\n",
    "              'reds':['rgba'+color.rstrip(')').lstrip('rgb')+',0.25)' for color in colors['reds']],\n",
    "              'pinks':['rgba'+color.rstrip(')').lstrip('rgb')+',0.25)' for color in colors['pinks']],\n",
    "              'browns':['rgba'+color.rstrip(')').lstrip('rgb')+',0.25)' for color in colors['browns']],\n",
    "              'oranges':['rgba'+color.rstrip(')').lstrip('rgb')+',0.25)' for color in colors['oranges']],\n",
    "              'cyans': ['rgba'+color.rstrip(')').lstrip('rgb')+',0.25)' for color in colors['cyans']],\n",
    "              'yellows': ['rgba'+color.rstrip(')').lstrip('rgb')+',0.25)' for color in colors['yellows']],\n",
    "              'blacks':['rgba'+color.rstrip(')').lstrip('rgb')+',0.25)' for color in colors['blacks']]}\n",
    "\n",
    "import pickle\n",
    "with open('C:/Users/User/OneDrive - University of Toronto/Research/PhD_UofT/Data/Toggle_Switch_Project/Experiments/Screening/Autofluorescence_Models/gfp_models.pickle', 'rb') as handle:\n",
    "    gfp_autofl_models = pickle.load(handle)"
   ]
  },
  {
   "cell_type": "code",
   "execution_count": 2,
   "metadata": {},
   "outputs": [],
   "source": [
    "def bar_plot_all(replicate_trials=None, analyte_of_interest='OD700', base_rep=None,\n",
    "                 plot_start=0, plot_end=-1, plot_width=900, norm=True, od_norm=True):\n",
    "    title = ''\n",
    "    if analyte_of_interest == 'OD700':\n",
    "        title += analyte_of_interest+' '\n",
    "        attr = 'data_vector'\n",
    "    else:\n",
    "        if od_norm:\n",
    "            title += 'OD Normalized '+analyte_of_interest+' '\n",
    "            attr = 'od_normalized_data'\n",
    "        else:\n",
    "            title += analyte_of_interest+' '\n",
    "            attr='data_vector'\n",
    "            \n",
    "    if base_rep:\n",
    "        bg_fl = getattr(base_rep.avg.analyte_dict[analyte_of_interest], attr)[-1]\n",
    "        bg_fl_err = getattr(base_rep.std.analyte_dict[analyte_of_interest], attr)[-1]\n",
    "    else:\n",
    "        bg_fl = 0\n",
    "        bg_fl_err = 0\n",
    "        \n",
    "        \n",
    "    if norm:\n",
    "        title = title + 'scaled to the max value'\n",
    "        \n",
    "        \n",
    "    max_ss = max([getattr(rep.avg.analyte_dict['GFP'], attr)[-1] - bg_fl for rep in replicate_trials])\n",
    "    min_ss = min([getattr(rep.avg.analyte_dict['GFP'], attr)[-1] - bg_fl for rep in replicate_trials])\n",
    "    \n",
    "    \n",
    "    #First separate by Degradation Tag - Observe effect of RBS\n",
    "    trace_list = []\n",
    "    for index,rbs_level in enumerate(['1','2','3','4','5']):\n",
    "        reps=[]\n",
    "        for rep in replicate_trials:\n",
    "            if rep.trial_identifier.strain.name.lower() not in ['lac', 'tet', '0000']:\n",
    "                ident = rep.trial_identifier.strain.name.replace('00','').split()\n",
    "                if ident:\n",
    "                    if ident[0][0] == rbs_level:\n",
    "                        reps.append(rep)\n",
    "        reps = sorted(reps, key=lambda rep: str(rep.trial_identifier.strain))\n",
    "        x = ['Degradation<br>Level 0', 'Degradation<br>Level 1', 'Degradation<br>Level 2', 'Degradation<br>Level 3']\n",
    "        \n",
    "\n",
    "        y = [(getattr(rep.avg.analyte_dict[analyte_of_interest], attr)[-1] - bg_fl)\n",
    "             for rep in reps]\n",
    "        y_errs = [np.sqrt(getattr(rep.std.analyte_dict[analyte_of_interest], attr)[-1]**2 + bg_fl_err**2)\n",
    "             for rep in reps]\n",
    "        \n",
    "        if norm:\n",
    "            base = 0#min_ss\n",
    "            scale = max_ss# - min_ss\n",
    "        else:\n",
    "            base=0\n",
    "            scale=1\n",
    "            \n",
    "        y = [(value - base)/scale for value in y]\n",
    "        y_errs = [value/scale for value in y_errs]\n",
    "        \n",
    "        if rbs_level=='1':\n",
    "            showlegend=True\n",
    "        else:\n",
    "            showlegened=False\n",
    "        if reps:\n",
    "            trace_list.append(go.Bar(x=x,\n",
    "                                 y=y,\n",
    "                                 error_y=dict(type='data', array=y_errs, thickness=1.5, width=3, color='black'),\n",
    "                                 marker=dict(color=colors['greens'][index], line=dict(width=0)),\n",
    "                                 showlegend=showlegend,# yaxis='y2',\n",
    "                                 legendgroup=str(rbs_level),\n",
    "                                 name='RBS Level: '+str(rbs_level)))\n",
    "\n",
    "    strains = ['0000', 'Lac', 'Tet']\n",
    "    temp_colors=[colors['blacks'][4], colors['oranges'][4], colors['pinks'][4]]\n",
    "    for i,strain in enumerate(strains):\n",
    "        x = ['Reference Strains']\n",
    "        replicate = [rep for rep in replicate_trials if rep.trial_identifier.strain.name==strain]\n",
    "        if replicate:\n",
    "            replicate = replicate[0]\n",
    "            y = [(getattr(replicate.avg.analyte_dict[analyte_of_interest], attr)[-1] - bg_fl)]\n",
    "            y_errs = [np.sqrt(getattr(replicate.std.analyte_dict[analyte_of_interest], attr)[-1]**2 + bg_fl_err**2)]\n",
    "\n",
    "            if norm:\n",
    "                base = 0#min_ss\n",
    "                scale = max_ss# - min_ss\n",
    "            else:\n",
    "                base=0\n",
    "                scale=1\n",
    "\n",
    "            y = [(value - base)/scale for value in y]\n",
    "            y_errs = [value/scale for value in y_errs]\n",
    "\n",
    "            trace_list.append(go.Bar(x=x,\n",
    "                                 y=y,\n",
    "                                 error_y=dict(type='data', array=y_errs, thickness=1.5, width=3, color='black'),\n",
    "                                 marker=dict(color=temp_colors[i], line=dict(width=0)),\n",
    "                                 showlegend=showlegend,# yaxis='y2',\n",
    "                                 legendgroup=str(strain),\n",
    "                                 name=str(strain)))    \n",
    "    width=plot_width\n",
    "    fig1=go.Figure(data=trace_list)\n",
    "    fig1.update_xaxes(showline=True, linewidth=1, linecolor='black', mirror=True, side='bottom',\n",
    "                      ticks='outside', ticklen=4, tickangle=0, tickson='boundaries', title_font=dict(size=18, family='Myriad Pro', color='black'),\n",
    "                      tickfont=dict(size=16, family='Myriad Pro', color='black'), tickcolor='black',\n",
    "                      showgrid=False,zeroline=False)\n",
    "    fig1.update_layout(height=450, width=width, legend_orientation='h', legend_y=-0.2, \n",
    "                       title_font=dict(family='Myriad Pro',size=16, color='black'),\n",
    "                       legend_x=0.02, bargap=0.2, bargroupgap=0.1, title=title,\n",
    "                       legend_font=dict(family='Myriad Pro', size=16, color='black'))\n",
    "    fig1['layout']['title']['font'] = dict(family='Myriad Pro',size=16, color='black')\n",
    "    fig1['layout']['yaxis'] = dict(title='(a.u.)', title_standoff=0,\n",
    "                                 title_font=dict(family='Myriad Pro', size=18, color='black'),\n",
    "                                 showline=True, linewidth=1, linecolor='black', mirror=True, nticks=9,\n",
    "                                 ticks='outside', ticklen=4, tickangle=0, type='log',\n",
    "                                 tickfont=dict(family='Myriad Pro',size=16, color='black'), tickcolor='black', \n",
    "                                 showgrid=True,zeroline=False,side='left')\n",
    "    \n",
    "    trace_list = []\n",
    "    for index,deg_level in enumerate(['0','1','2','3']):\n",
    "        reps=[]\n",
    "        for rep in replicate_trials:\n",
    "            if rep.trial_identifier.strain.name.lower() not in ['lac', 'tet', '0000']:\n",
    "                ident = rep.trial_identifier.strain.name.replace('00','').split()\n",
    "                if ident:\n",
    "                    if ident[0][1] == deg_level:\n",
    "                        reps.append(rep)\n",
    "        reps = sorted(reps, key=lambda rep: str(rep.trial_identifier.strain))\n",
    "        x = ['RBS<br>Level 1', 'RBS<br>Level 2', 'RBS<br>Level 3', 'RBS<br>Level 4', 'RBS<br>Level 5']\n",
    "        \n",
    "\n",
    "        y = [(getattr(rep.avg.analyte_dict[analyte_of_interest], attr)[-1] - bg_fl)\n",
    "             for rep in reps]\n",
    "        y_errs = [np.sqrt(getattr(rep.std.analyte_dict[analyte_of_interest], attr)[-1]**2 + bg_fl_err**2)\n",
    "             for rep in reps]\n",
    "        \n",
    "        if norm:\n",
    "            base = 0#min_ss\n",
    "            scale = max_ss# - min_ss\n",
    "        else:\n",
    "            base=0\n",
    "            scale=1\n",
    "            \n",
    "        y = [(value - base)/scale for value in y]\n",
    "        y_errs = [value/scale for value in y_errs]\n",
    "        if deg_level=='0':\n",
    "            showlegend=True\n",
    "        else:\n",
    "            showlegened=False\n",
    "        if reps:\n",
    "            trace_list.append(go.Bar(x=x,\n",
    "                                 y=y,\n",
    "                                 error_y=dict(type='data', array=y_errs, thickness=1.5, width=3, color='black'),\n",
    "                                 marker=dict(color=colors['reds'][1:][index], line=dict(width=0)),\n",
    "                                 showlegend=showlegend,# yaxis='y2',\n",
    "                                 legendgroup=str(deg_level),\n",
    "                                 name='Degradation Level: '+str(deg_level)))\n",
    "        \n",
    "    width=plot_width\n",
    "    fig2=go.Figure(data=trace_list)\n",
    "    fig2.update_xaxes(showline=True, linewidth=1, linecolor='black', mirror=True, side='bottom',\n",
    "                      ticks='outside', ticklen=4, tickangle=0, tickson='boundaries', title_font=dict(size=18, family='Myriad Pro', color='black'),\n",
    "                      tickfont=dict(size=16, family='Myriad Pro', color='black'), tickcolor='black',\n",
    "                      showgrid=False,zeroline=False)\n",
    "    fig2.update_layout(height=450, width=width, legend_orientation='h', legend_y=-0.2, \n",
    "                        title_font=dict(family='Myriad Pro',size=18, color='black'),\n",
    "                      legend_x=0.02, bargap=0.2, bargroupgap=0.1, title=title,\n",
    "                      legend_font=dict(family='Myriad Pro', size=16, color='black'))\n",
    "    fig2['layout']['title']['font'] = dict(family='Myriad Pro',size=18, color='black')\n",
    "\n",
    "    fig2['layout']['yaxis'] = dict(title='(a.u.)', title_standoff=0,\n",
    "                                 title_font=dict(family='Myriad Pro', size=18, color='black'),\n",
    "                                 showline=True, linewidth=1, linecolor='black', mirror=True, nticks=9,\n",
    "                                 ticks='outside', ticklen=4, tickangle=0, type='log',\n",
    "                                 tickfont=dict(family='Myriad Pro',size=16, color='black'), tickcolor='black', \n",
    "                                 showgrid=True,zeroline=False,side='left')\n",
    "    \n",
    "    \n",
    "    \n",
    "    \n",
    "    \n",
    "\n",
    "    return fig1, fig2"
   ]
  },
  {
   "cell_type": "code",
   "execution_count": 20,
   "metadata": {
    "scrolled": true
   },
   "outputs": [
    {
     "name": "stdout",
     "output_type": "stream",
     "text": [
      "\n",
      "Importing data from 24Jan2021_Day1of2_pTSFusXX00_EndPoint.xlsx...0.0s\n",
      "Extracting timepoint data...Extracted time point data in 0.1s\n",
      "Parsing time point list...Parsed 288 time points in 0.1s\n",
      "Parsing analyte list...Parsed 96 single trials in 853.7ms\n",
      "Parsing single trial list...Parsed 24 replicates in 0.1s\n",
      "Analyzing data...Ran analysis in 1.0s\n",
      "\n",
      "Analyzing data...Ran analysis in 0.9s\n",
      "\n"
     ]
    }
   ],
   "source": [
    "data_format='tecan_OD_GFP_mCherry'\n",
    "plate_type = '96 Wells'\n",
    "file_name = '24Jan2021_Day1of2_pTSFusXX00_EndPoint.xlsx'\n",
    "expt_atc = parser.parse_raw_data(data_format=data_format,file_name=file_name,plate_type=plate_type)\n",
    "expt_atc.calculate()\n",
    "autofl_rep = [rep for rep in expt_atc.replicate_trials if rep.trial_identifier.strain.name=='Lac'][0]\n",
    "\n",
    "# gfp_model = gfp_autofl_models['film_spark'][90]\n",
    "for replicate in expt_atc.replicate_trials:\n",
    "    if replicate.trial_identifier.strain.name.lower() != 'blank':\n",
    "        for single_trial in replicate.single_trials:\n",
    "            single_trial.analyte_dict['GFP'].pd_series.update(single_trial.analyte_dict['GFP'].pd_series - \n",
    "                                                              autofl_rep.avg.analyte_dict['GFP'].pd_series)\n",
    "            \n",
    "expt_atc.calculate()\n",
    "\n",
    "\n",
    "# data_format='tecan_OD_GFP_mCherry'\n",
    "# plate_type = '96 Wells'\n",
    "# file_name = 'pTSFus00XX_SparkEndPoint_24012021_D1.xlsx'\n",
    "# expt_iptg = parser.parse_raw_data(data_format=data_format,file_name=file_name,plate_type=plate_type)\n",
    "# expt_iptg.calculate()\n",
    "\n",
    "# gfp_model = gfp_autofl_models['film_spark'][90]\n",
    "# for replicate in expt_iptg.replicate_trials:\n",
    "#     if replicate.trial_identifier.strain.name.lower() != 'blank':\n",
    "#         for single_trial in replicate.single_trials:\n",
    "#             single_trial.analyte_dict['GFP'].pd_series.update(single_trial.analyte_dict['GFP'].pd_series - \n",
    "#                                                               np.array([gfp_model(od_value) for od_value\n",
    "#                                                                         in single_trial.analyte_dict['OD700'].pd_series.values]))\n",
    "            \n",
    "# expt_iptg.calculate()"
   ]
  },
  {
   "cell_type": "code",
   "execution_count": 18,
   "metadata": {},
   "outputs": [
    {
     "data": {
      "text/plain": [
       "0.0    1523.5\n",
       "dtype: float64"
      ]
     },
     "execution_count": 18,
     "metadata": {},
     "output_type": "execute_result"
    }
   ],
   "source": [
    "expt_atc.replicate_trials[0].single_trials[0].analyte_dict['GFP'].pd_series-autofl_rep.avg.analyte_dict['GFP'].data_vector"
   ]
  },
  {
   "cell_type": "code",
   "execution_count": 7,
   "metadata": {
    "scrolled": false
   },
   "outputs": [
    {
     "data": {
      "application/vnd.plotly.v1+json": {
       "config": {
        "linkText": "Export to plot.ly",
        "plotlyServerURL": "https://plot.ly",
        "showLink": false
       },
       "data": [
        {
         "error_y": {
          "array": [
           0.026430373998316353,
           0.010188064647954477,
           0.017517152996754493,
           0.004488236994406194
          ],
          "color": "black",
          "thickness": 1.5,
          "type": "data",
          "width": 3
         },
         "legendgroup": "1",
         "marker": {
          "color": "rgb(172,220,173)",
          "line": {
           "width": 0
          }
         },
         "name": "RBS Level: 1",
         "showlegend": true,
         "type": "bar",
         "x": [
          "Degradation<br>Level 0",
          "Degradation<br>Level 1",
          "Degradation<br>Level 2",
          "Degradation<br>Level 3"
         ],
         "y": [
          0.23730317888389638,
          0.1185766800626292,
          0.07433754062115865,
          0.08417432649255716
         ]
        },
        {
         "error_y": {
          "array": [
           0.01075785748413268,
           0.0630746769617702,
           0.01924128853257939,
           0.02681382517540817
          ],
          "color": "black",
          "thickness": 1.5,
          "type": "data",
          "width": 3
         },
         "legendgroup": "2",
         "marker": {
          "color": "rgb(130,203,133)",
          "line": {
           "width": 0
          }
         },
         "name": "RBS Level: 2",
         "showlegend": true,
         "type": "bar",
         "x": [
          "Degradation<br>Level 0",
          "Degradation<br>Level 1",
          "Degradation<br>Level 2",
          "Degradation<br>Level 3"
         ],
         "y": [
          0.4450637839407218,
          0.20952740103705486,
          0.14911074655815187,
          0.1215857041318965
         ]
        },
        {
         "error_y": {
          "array": [
           0.07214400389231007,
           0.022775400564831946,
           0.07506752347877751,
           0.04869259352150033
          ],
          "color": "black",
          "thickness": 1.5,
          "type": "data",
          "width": 3
         },
         "legendgroup": "3",
         "marker": {
          "color": "rgb(89,185,92)",
          "line": {
           "width": 0
          }
         },
         "name": "RBS Level: 3",
         "showlegend": true,
         "type": "bar",
         "x": [
          "Degradation<br>Level 0",
          "Degradation<br>Level 1",
          "Degradation<br>Level 2",
          "Degradation<br>Level 3"
         ],
         "y": [
          0.7784465190532414,
          0.76821178535395,
          0.6205532641533195,
          0.4422723317879039
         ]
        },
        {
         "error_y": {
          "array": [
           0.07725961643898871,
           0.14350697924010078,
           0.11095985360817014,
           0.027168233464802446
          ],
          "color": "black",
          "thickness": 1.5,
          "type": "data",
          "width": 3
         },
         "legendgroup": "4",
         "marker": {
          "color": "rgb(63,152,66)",
          "line": {
           "width": 0
          }
         },
         "name": "RBS Level: 4",
         "showlegend": true,
         "type": "bar",
         "x": [
          "Degradation<br>Level 0",
          "Degradation<br>Level 1",
          "Degradation<br>Level 2",
          "Degradation<br>Level 3"
         ],
         "y": [
          0.9251815264867311,
          1,
          0.8911090268428332,
          0.7319712621127147
         ]
        },
        {
         "error_y": {
          "array": [
           0.04761081402345436,
           0.04374675006404153,
           0.04250799983699168,
           0.03136665805240327
          ],
          "color": "black",
          "thickness": 1.5,
          "type": "data",
          "width": 3
         },
         "legendgroup": "5",
         "marker": {
          "color": "rgb(46,110,48)",
          "line": {
           "width": 0
          }
         },
         "name": "RBS Level: 5",
         "showlegend": true,
         "type": "bar",
         "x": [
          "Degradation<br>Level 0",
          "Degradation<br>Level 1",
          "Degradation<br>Level 2",
          "Degradation<br>Level 3"
         ],
         "y": [
          0.6621571506621042,
          0.5359509877514267,
          0.4493232736564566,
          0.34755536862691044
         ]
        }
       ],
       "layout": {
        "bargap": 0.2,
        "bargroupgap": 0.1,
        "height": 450,
        "legend": {
         "font": {
          "color": "black",
          "family": "Myriad Pro",
          "size": 16
         },
         "orientation": "h",
         "x": 0.02,
         "y": -0.2
        },
        "template": {
         "data": {
          "bar": [
           {
            "error_x": {
             "color": "#2a3f5f"
            },
            "error_y": {
             "color": "#2a3f5f"
            },
            "marker": {
             "line": {
              "color": "white",
              "width": 0.5
             }
            },
            "type": "bar"
           }
          ],
          "barpolar": [
           {
            "marker": {
             "line": {
              "color": "white",
              "width": 0.5
             }
            },
            "type": "barpolar"
           }
          ],
          "carpet": [
           {
            "aaxis": {
             "endlinecolor": "#2a3f5f",
             "gridcolor": "#C8D4E3",
             "linecolor": "#C8D4E3",
             "minorgridcolor": "#C8D4E3",
             "startlinecolor": "#2a3f5f"
            },
            "baxis": {
             "endlinecolor": "#2a3f5f",
             "gridcolor": "#C8D4E3",
             "linecolor": "#C8D4E3",
             "minorgridcolor": "#C8D4E3",
             "startlinecolor": "#2a3f5f"
            },
            "type": "carpet"
           }
          ],
          "choropleth": [
           {
            "colorbar": {
             "outlinewidth": 0,
             "ticks": ""
            },
            "type": "choropleth"
           }
          ],
          "contour": [
           {
            "colorbar": {
             "outlinewidth": 0,
             "ticks": ""
            },
            "colorscale": [
             [
              0,
              "#0d0887"
             ],
             [
              0.1111111111111111,
              "#46039f"
             ],
             [
              0.2222222222222222,
              "#7201a8"
             ],
             [
              0.3333333333333333,
              "#9c179e"
             ],
             [
              0.4444444444444444,
              "#bd3786"
             ],
             [
              0.5555555555555556,
              "#d8576b"
             ],
             [
              0.6666666666666666,
              "#ed7953"
             ],
             [
              0.7777777777777778,
              "#fb9f3a"
             ],
             [
              0.8888888888888888,
              "#fdca26"
             ],
             [
              1,
              "#f0f921"
             ]
            ],
            "type": "contour"
           }
          ],
          "contourcarpet": [
           {
            "colorbar": {
             "outlinewidth": 0,
             "ticks": ""
            },
            "type": "contourcarpet"
           }
          ],
          "heatmap": [
           {
            "colorbar": {
             "outlinewidth": 0,
             "ticks": ""
            },
            "colorscale": [
             [
              0,
              "#0d0887"
             ],
             [
              0.1111111111111111,
              "#46039f"
             ],
             [
              0.2222222222222222,
              "#7201a8"
             ],
             [
              0.3333333333333333,
              "#9c179e"
             ],
             [
              0.4444444444444444,
              "#bd3786"
             ],
             [
              0.5555555555555556,
              "#d8576b"
             ],
             [
              0.6666666666666666,
              "#ed7953"
             ],
             [
              0.7777777777777778,
              "#fb9f3a"
             ],
             [
              0.8888888888888888,
              "#fdca26"
             ],
             [
              1,
              "#f0f921"
             ]
            ],
            "type": "heatmap"
           }
          ],
          "heatmapgl": [
           {
            "colorbar": {
             "outlinewidth": 0,
             "ticks": ""
            },
            "colorscale": [
             [
              0,
              "#0d0887"
             ],
             [
              0.1111111111111111,
              "#46039f"
             ],
             [
              0.2222222222222222,
              "#7201a8"
             ],
             [
              0.3333333333333333,
              "#9c179e"
             ],
             [
              0.4444444444444444,
              "#bd3786"
             ],
             [
              0.5555555555555556,
              "#d8576b"
             ],
             [
              0.6666666666666666,
              "#ed7953"
             ],
             [
              0.7777777777777778,
              "#fb9f3a"
             ],
             [
              0.8888888888888888,
              "#fdca26"
             ],
             [
              1,
              "#f0f921"
             ]
            ],
            "type": "heatmapgl"
           }
          ],
          "histogram": [
           {
            "marker": {
             "colorbar": {
              "outlinewidth": 0,
              "ticks": ""
             }
            },
            "type": "histogram"
           }
          ],
          "histogram2d": [
           {
            "colorbar": {
             "outlinewidth": 0,
             "ticks": ""
            },
            "colorscale": [
             [
              0,
              "#0d0887"
             ],
             [
              0.1111111111111111,
              "#46039f"
             ],
             [
              0.2222222222222222,
              "#7201a8"
             ],
             [
              0.3333333333333333,
              "#9c179e"
             ],
             [
              0.4444444444444444,
              "#bd3786"
             ],
             [
              0.5555555555555556,
              "#d8576b"
             ],
             [
              0.6666666666666666,
              "#ed7953"
             ],
             [
              0.7777777777777778,
              "#fb9f3a"
             ],
             [
              0.8888888888888888,
              "#fdca26"
             ],
             [
              1,
              "#f0f921"
             ]
            ],
            "type": "histogram2d"
           }
          ],
          "histogram2dcontour": [
           {
            "colorbar": {
             "outlinewidth": 0,
             "ticks": ""
            },
            "colorscale": [
             [
              0,
              "#0d0887"
             ],
             [
              0.1111111111111111,
              "#46039f"
             ],
             [
              0.2222222222222222,
              "#7201a8"
             ],
             [
              0.3333333333333333,
              "#9c179e"
             ],
             [
              0.4444444444444444,
              "#bd3786"
             ],
             [
              0.5555555555555556,
              "#d8576b"
             ],
             [
              0.6666666666666666,
              "#ed7953"
             ],
             [
              0.7777777777777778,
              "#fb9f3a"
             ],
             [
              0.8888888888888888,
              "#fdca26"
             ],
             [
              1,
              "#f0f921"
             ]
            ],
            "type": "histogram2dcontour"
           }
          ],
          "mesh3d": [
           {
            "colorbar": {
             "outlinewidth": 0,
             "ticks": ""
            },
            "type": "mesh3d"
           }
          ],
          "parcoords": [
           {
            "line": {
             "colorbar": {
              "outlinewidth": 0,
              "ticks": ""
             }
            },
            "type": "parcoords"
           }
          ],
          "pie": [
           {
            "automargin": true,
            "type": "pie"
           }
          ],
          "scatter": [
           {
            "marker": {
             "colorbar": {
              "outlinewidth": 0,
              "ticks": ""
             }
            },
            "type": "scatter"
           }
          ],
          "scatter3d": [
           {
            "line": {
             "colorbar": {
              "outlinewidth": 0,
              "ticks": ""
             }
            },
            "marker": {
             "colorbar": {
              "outlinewidth": 0,
              "ticks": ""
             }
            },
            "type": "scatter3d"
           }
          ],
          "scattercarpet": [
           {
            "marker": {
             "colorbar": {
              "outlinewidth": 0,
              "ticks": ""
             }
            },
            "type": "scattercarpet"
           }
          ],
          "scattergeo": [
           {
            "marker": {
             "colorbar": {
              "outlinewidth": 0,
              "ticks": ""
             }
            },
            "type": "scattergeo"
           }
          ],
          "scattergl": [
           {
            "marker": {
             "colorbar": {
              "outlinewidth": 0,
              "ticks": ""
             }
            },
            "type": "scattergl"
           }
          ],
          "scattermapbox": [
           {
            "marker": {
             "colorbar": {
              "outlinewidth": 0,
              "ticks": ""
             }
            },
            "type": "scattermapbox"
           }
          ],
          "scatterpolar": [
           {
            "marker": {
             "colorbar": {
              "outlinewidth": 0,
              "ticks": ""
             }
            },
            "type": "scatterpolar"
           }
          ],
          "scatterpolargl": [
           {
            "marker": {
             "colorbar": {
              "outlinewidth": 0,
              "ticks": ""
             }
            },
            "type": "scatterpolargl"
           }
          ],
          "scatterternary": [
           {
            "marker": {
             "colorbar": {
              "outlinewidth": 0,
              "ticks": ""
             }
            },
            "type": "scatterternary"
           }
          ],
          "surface": [
           {
            "colorbar": {
             "outlinewidth": 0,
             "ticks": ""
            },
            "colorscale": [
             [
              0,
              "#0d0887"
             ],
             [
              0.1111111111111111,
              "#46039f"
             ],
             [
              0.2222222222222222,
              "#7201a8"
             ],
             [
              0.3333333333333333,
              "#9c179e"
             ],
             [
              0.4444444444444444,
              "#bd3786"
             ],
             [
              0.5555555555555556,
              "#d8576b"
             ],
             [
              0.6666666666666666,
              "#ed7953"
             ],
             [
              0.7777777777777778,
              "#fb9f3a"
             ],
             [
              0.8888888888888888,
              "#fdca26"
             ],
             [
              1,
              "#f0f921"
             ]
            ],
            "type": "surface"
           }
          ],
          "table": [
           {
            "cells": {
             "fill": {
              "color": "#EBF0F8"
             },
             "line": {
              "color": "white"
             }
            },
            "header": {
             "fill": {
              "color": "#C8D4E3"
             },
             "line": {
              "color": "white"
             }
            },
            "type": "table"
           }
          ]
         },
         "layout": {
          "annotationdefaults": {
           "arrowcolor": "#2a3f5f",
           "arrowhead": 0,
           "arrowwidth": 1
          },
          "autotypenumbers": "strict",
          "coloraxis": {
           "colorbar": {
            "outlinewidth": 0,
            "ticks": ""
           }
          },
          "colorscale": {
           "diverging": [
            [
             0,
             "#8e0152"
            ],
            [
             0.1,
             "#c51b7d"
            ],
            [
             0.2,
             "#de77ae"
            ],
            [
             0.3,
             "#f1b6da"
            ],
            [
             0.4,
             "#fde0ef"
            ],
            [
             0.5,
             "#f7f7f7"
            ],
            [
             0.6,
             "#e6f5d0"
            ],
            [
             0.7,
             "#b8e186"
            ],
            [
             0.8,
             "#7fbc41"
            ],
            [
             0.9,
             "#4d9221"
            ],
            [
             1,
             "#276419"
            ]
           ],
           "sequential": [
            [
             0,
             "#0d0887"
            ],
            [
             0.1111111111111111,
             "#46039f"
            ],
            [
             0.2222222222222222,
             "#7201a8"
            ],
            [
             0.3333333333333333,
             "#9c179e"
            ],
            [
             0.4444444444444444,
             "#bd3786"
            ],
            [
             0.5555555555555556,
             "#d8576b"
            ],
            [
             0.6666666666666666,
             "#ed7953"
            ],
            [
             0.7777777777777778,
             "#fb9f3a"
            ],
            [
             0.8888888888888888,
             "#fdca26"
            ],
            [
             1,
             "#f0f921"
            ]
           ],
           "sequentialminus": [
            [
             0,
             "#0d0887"
            ],
            [
             0.1111111111111111,
             "#46039f"
            ],
            [
             0.2222222222222222,
             "#7201a8"
            ],
            [
             0.3333333333333333,
             "#9c179e"
            ],
            [
             0.4444444444444444,
             "#bd3786"
            ],
            [
             0.5555555555555556,
             "#d8576b"
            ],
            [
             0.6666666666666666,
             "#ed7953"
            ],
            [
             0.7777777777777778,
             "#fb9f3a"
            ],
            [
             0.8888888888888888,
             "#fdca26"
            ],
            [
             1,
             "#f0f921"
            ]
           ]
          },
          "colorway": [
           "#636efa",
           "#EF553B",
           "#00cc96",
           "#ab63fa",
           "#FFA15A",
           "#19d3f3",
           "#FF6692",
           "#B6E880",
           "#FF97FF",
           "#FECB52"
          ],
          "font": {
           "color": "#2a3f5f"
          },
          "geo": {
           "bgcolor": "white",
           "lakecolor": "white",
           "landcolor": "white",
           "showlakes": true,
           "showland": true,
           "subunitcolor": "#C8D4E3"
          },
          "hoverlabel": {
           "align": "left"
          },
          "hovermode": "closest",
          "mapbox": {
           "style": "light"
          },
          "paper_bgcolor": "white",
          "plot_bgcolor": "white",
          "polar": {
           "angularaxis": {
            "gridcolor": "#EBF0F8",
            "linecolor": "#EBF0F8",
            "ticks": ""
           },
           "bgcolor": "white",
           "radialaxis": {
            "gridcolor": "#EBF0F8",
            "linecolor": "#EBF0F8",
            "ticks": ""
           }
          },
          "scene": {
           "xaxis": {
            "backgroundcolor": "white",
            "gridcolor": "#DFE8F3",
            "gridwidth": 2,
            "linecolor": "#EBF0F8",
            "showbackground": true,
            "ticks": "",
            "zerolinecolor": "#EBF0F8"
           },
           "yaxis": {
            "backgroundcolor": "white",
            "gridcolor": "#DFE8F3",
            "gridwidth": 2,
            "linecolor": "#EBF0F8",
            "showbackground": true,
            "ticks": "",
            "zerolinecolor": "#EBF0F8"
           },
           "zaxis": {
            "backgroundcolor": "white",
            "gridcolor": "#DFE8F3",
            "gridwidth": 2,
            "linecolor": "#EBF0F8",
            "showbackground": true,
            "ticks": "",
            "zerolinecolor": "#EBF0F8"
           }
          },
          "shapedefaults": {
           "line": {
            "color": "#2a3f5f"
           }
          },
          "ternary": {
           "aaxis": {
            "gridcolor": "#DFE8F3",
            "linecolor": "#A2B1C6",
            "ticks": ""
           },
           "baxis": {
            "gridcolor": "#DFE8F3",
            "linecolor": "#A2B1C6",
            "ticks": ""
           },
           "bgcolor": "white",
           "caxis": {
            "gridcolor": "#DFE8F3",
            "linecolor": "#A2B1C6",
            "ticks": ""
           }
          },
          "title": {
           "x": 0.05
          },
          "xaxis": {
           "automargin": true,
           "gridcolor": "#EBF0F8",
           "linecolor": "#EBF0F8",
           "ticks": "",
           "title": {
            "standoff": 15
           },
           "zerolinecolor": "#EBF0F8",
           "zerolinewidth": 2
          },
          "yaxis": {
           "automargin": true,
           "gridcolor": "#EBF0F8",
           "linecolor": "#EBF0F8",
           "ticks": "",
           "title": {
            "standoff": 15
           },
           "zerolinecolor": "#EBF0F8",
           "zerolinewidth": 2
          }
         }
        },
        "title": {
         "font": {
          "color": "black",
          "family": "Myriad Pro",
          "size": 16
         },
         "text": "OD Normalized GFP scaled to the max value"
        },
        "width": 600,
        "xaxis": {
         "linecolor": "black",
         "linewidth": 1,
         "mirror": true,
         "showgrid": false,
         "showline": true,
         "side": "bottom",
         "tickangle": 0,
         "tickcolor": "black",
         "tickfont": {
          "color": "black",
          "family": "Myriad Pro",
          "size": 16
         },
         "ticklen": 4,
         "ticks": "outside",
         "tickson": "boundaries",
         "title": {
          "font": {
           "color": "black",
           "family": "Myriad Pro",
           "size": 18
          }
         },
         "zeroline": false
        },
        "yaxis": {
         "linecolor": "black",
         "linewidth": 1,
         "mirror": true,
         "nticks": 9,
         "showgrid": true,
         "showline": true,
         "side": "left",
         "tickangle": 0,
         "tickcolor": "black",
         "tickfont": {
          "color": "black",
          "family": "Myriad Pro",
          "size": 16
         },
         "ticklen": 4,
         "ticks": "outside",
         "title": {
          "font": {
           "color": "black",
           "family": "Myriad Pro",
           "size": 18
          },
          "standoff": 0,
          "text": "(a.u.)"
         },
         "type": "log",
         "zeroline": false
        }
       }
      },
      "text/html": [
       "<div>                            <div id=\"8c046492-bf74-4606-b757-347658f000e6\" class=\"plotly-graph-div\" style=\"height:450px; width:600px;\"></div>            <script type=\"text/javascript\">                require([\"plotly\"], function(Plotly) {                    window.PLOTLYENV=window.PLOTLYENV || {};                                    if (document.getElementById(\"8c046492-bf74-4606-b757-347658f000e6\")) {                    Plotly.newPlot(                        \"8c046492-bf74-4606-b757-347658f000e6\",                        [{\"error_y\": {\"array\": [0.026430373998316353, 0.010188064647954477, 0.017517152996754493, 0.004488236994406194], \"color\": \"black\", \"thickness\": 1.5, \"type\": \"data\", \"width\": 3}, \"legendgroup\": \"1\", \"marker\": {\"color\": \"rgb(172,220,173)\", \"line\": {\"width\": 0}}, \"name\": \"RBS Level: 1\", \"showlegend\": true, \"type\": \"bar\", \"x\": [\"Degradation<br>Level 0\", \"Degradation<br>Level 1\", \"Degradation<br>Level 2\", \"Degradation<br>Level 3\"], \"y\": [0.23730317888389638, 0.1185766800626292, 0.07433754062115865, 0.08417432649255716]}, {\"error_y\": {\"array\": [0.01075785748413268, 0.0630746769617702, 0.01924128853257939, 0.02681382517540817], \"color\": \"black\", \"thickness\": 1.5, \"type\": \"data\", \"width\": 3}, \"legendgroup\": \"2\", \"marker\": {\"color\": \"rgb(130,203,133)\", \"line\": {\"width\": 0}}, \"name\": \"RBS Level: 2\", \"showlegend\": true, \"type\": \"bar\", \"x\": [\"Degradation<br>Level 0\", \"Degradation<br>Level 1\", \"Degradation<br>Level 2\", \"Degradation<br>Level 3\"], \"y\": [0.4450637839407218, 0.20952740103705486, 0.14911074655815187, 0.1215857041318965]}, {\"error_y\": {\"array\": [0.07214400389231007, 0.022775400564831946, 0.07506752347877751, 0.04869259352150033], \"color\": \"black\", \"thickness\": 1.5, \"type\": \"data\", \"width\": 3}, \"legendgroup\": \"3\", \"marker\": {\"color\": \"rgb(89,185,92)\", \"line\": {\"width\": 0}}, \"name\": \"RBS Level: 3\", \"showlegend\": true, \"type\": \"bar\", \"x\": [\"Degradation<br>Level 0\", \"Degradation<br>Level 1\", \"Degradation<br>Level 2\", \"Degradation<br>Level 3\"], \"y\": [0.7784465190532414, 0.76821178535395, 0.6205532641533195, 0.4422723317879039]}, {\"error_y\": {\"array\": [0.07725961643898871, 0.14350697924010078, 0.11095985360817014, 0.027168233464802446], \"color\": \"black\", \"thickness\": 1.5, \"type\": \"data\", \"width\": 3}, \"legendgroup\": \"4\", \"marker\": {\"color\": \"rgb(63,152,66)\", \"line\": {\"width\": 0}}, \"name\": \"RBS Level: 4\", \"showlegend\": true, \"type\": \"bar\", \"x\": [\"Degradation<br>Level 0\", \"Degradation<br>Level 1\", \"Degradation<br>Level 2\", \"Degradation<br>Level 3\"], \"y\": [0.9251815264867311, 1.0, 0.8911090268428332, 0.7319712621127147]}, {\"error_y\": {\"array\": [0.04761081402345436, 0.04374675006404153, 0.04250799983699168, 0.03136665805240327], \"color\": \"black\", \"thickness\": 1.5, \"type\": \"data\", \"width\": 3}, \"legendgroup\": \"5\", \"marker\": {\"color\": \"rgb(46,110,48)\", \"line\": {\"width\": 0}}, \"name\": \"RBS Level: 5\", \"showlegend\": true, \"type\": \"bar\", \"x\": [\"Degradation<br>Level 0\", \"Degradation<br>Level 1\", \"Degradation<br>Level 2\", \"Degradation<br>Level 3\"], \"y\": [0.6621571506621042, 0.5359509877514267, 0.4493232736564566, 0.34755536862691044]}],                        {\"bargap\": 0.2, \"bargroupgap\": 0.1, \"height\": 450, \"legend\": {\"font\": {\"color\": \"black\", \"family\": \"Myriad Pro\", \"size\": 16}, \"orientation\": \"h\", \"x\": 0.02, \"y\": -0.2}, \"template\": {\"data\": {\"bar\": [{\"error_x\": {\"color\": \"#2a3f5f\"}, \"error_y\": {\"color\": \"#2a3f5f\"}, \"marker\": {\"line\": {\"color\": \"white\", \"width\": 0.5}}, \"type\": \"bar\"}], \"barpolar\": [{\"marker\": {\"line\": {\"color\": \"white\", \"width\": 0.5}}, \"type\": \"barpolar\"}], \"carpet\": [{\"aaxis\": {\"endlinecolor\": \"#2a3f5f\", \"gridcolor\": \"#C8D4E3\", \"linecolor\": \"#C8D4E3\", \"minorgridcolor\": \"#C8D4E3\", \"startlinecolor\": \"#2a3f5f\"}, \"baxis\": {\"endlinecolor\": \"#2a3f5f\", \"gridcolor\": \"#C8D4E3\", \"linecolor\": \"#C8D4E3\", \"minorgridcolor\": \"#C8D4E3\", \"startlinecolor\": \"#2a3f5f\"}, \"type\": \"carpet\"}], \"choropleth\": [{\"colorbar\": {\"outlinewidth\": 0, \"ticks\": \"\"}, \"type\": \"choropleth\"}], \"contour\": [{\"colorbar\": {\"outlinewidth\": 0, \"ticks\": \"\"}, \"colorscale\": [[0.0, \"#0d0887\"], [0.1111111111111111, \"#46039f\"], [0.2222222222222222, \"#7201a8\"], [0.3333333333333333, \"#9c179e\"], [0.4444444444444444, \"#bd3786\"], [0.5555555555555556, \"#d8576b\"], [0.6666666666666666, \"#ed7953\"], [0.7777777777777778, \"#fb9f3a\"], [0.8888888888888888, \"#fdca26\"], [1.0, \"#f0f921\"]], \"type\": \"contour\"}], \"contourcarpet\": [{\"colorbar\": {\"outlinewidth\": 0, \"ticks\": \"\"}, \"type\": \"contourcarpet\"}], \"heatmap\": [{\"colorbar\": {\"outlinewidth\": 0, \"ticks\": \"\"}, \"colorscale\": [[0.0, \"#0d0887\"], [0.1111111111111111, \"#46039f\"], [0.2222222222222222, \"#7201a8\"], [0.3333333333333333, \"#9c179e\"], [0.4444444444444444, \"#bd3786\"], [0.5555555555555556, \"#d8576b\"], [0.6666666666666666, \"#ed7953\"], [0.7777777777777778, \"#fb9f3a\"], [0.8888888888888888, \"#fdca26\"], [1.0, \"#f0f921\"]], \"type\": \"heatmap\"}], \"heatmapgl\": [{\"colorbar\": {\"outlinewidth\": 0, \"ticks\": \"\"}, \"colorscale\": [[0.0, \"#0d0887\"], [0.1111111111111111, \"#46039f\"], [0.2222222222222222, \"#7201a8\"], [0.3333333333333333, \"#9c179e\"], [0.4444444444444444, \"#bd3786\"], [0.5555555555555556, \"#d8576b\"], [0.6666666666666666, \"#ed7953\"], [0.7777777777777778, \"#fb9f3a\"], [0.8888888888888888, \"#fdca26\"], [1.0, \"#f0f921\"]], \"type\": \"heatmapgl\"}], \"histogram\": [{\"marker\": {\"colorbar\": {\"outlinewidth\": 0, \"ticks\": \"\"}}, \"type\": \"histogram\"}], \"histogram2d\": [{\"colorbar\": {\"outlinewidth\": 0, \"ticks\": \"\"}, \"colorscale\": [[0.0, \"#0d0887\"], [0.1111111111111111, \"#46039f\"], [0.2222222222222222, \"#7201a8\"], [0.3333333333333333, \"#9c179e\"], [0.4444444444444444, \"#bd3786\"], [0.5555555555555556, \"#d8576b\"], [0.6666666666666666, \"#ed7953\"], [0.7777777777777778, \"#fb9f3a\"], [0.8888888888888888, \"#fdca26\"], [1.0, \"#f0f921\"]], \"type\": \"histogram2d\"}], \"histogram2dcontour\": [{\"colorbar\": {\"outlinewidth\": 0, \"ticks\": \"\"}, \"colorscale\": [[0.0, \"#0d0887\"], [0.1111111111111111, \"#46039f\"], [0.2222222222222222, \"#7201a8\"], [0.3333333333333333, \"#9c179e\"], [0.4444444444444444, \"#bd3786\"], [0.5555555555555556, \"#d8576b\"], [0.6666666666666666, \"#ed7953\"], [0.7777777777777778, \"#fb9f3a\"], [0.8888888888888888, \"#fdca26\"], [1.0, \"#f0f921\"]], \"type\": \"histogram2dcontour\"}], \"mesh3d\": [{\"colorbar\": {\"outlinewidth\": 0, \"ticks\": \"\"}, \"type\": \"mesh3d\"}], \"parcoords\": [{\"line\": {\"colorbar\": {\"outlinewidth\": 0, \"ticks\": \"\"}}, \"type\": \"parcoords\"}], \"pie\": [{\"automargin\": true, \"type\": \"pie\"}], \"scatter\": [{\"marker\": {\"colorbar\": {\"outlinewidth\": 0, \"ticks\": \"\"}}, \"type\": \"scatter\"}], \"scatter3d\": [{\"line\": {\"colorbar\": {\"outlinewidth\": 0, \"ticks\": \"\"}}, \"marker\": {\"colorbar\": {\"outlinewidth\": 0, \"ticks\": \"\"}}, \"type\": \"scatter3d\"}], \"scattercarpet\": [{\"marker\": {\"colorbar\": {\"outlinewidth\": 0, \"ticks\": \"\"}}, \"type\": \"scattercarpet\"}], \"scattergeo\": [{\"marker\": {\"colorbar\": {\"outlinewidth\": 0, \"ticks\": \"\"}}, \"type\": \"scattergeo\"}], \"scattergl\": [{\"marker\": {\"colorbar\": {\"outlinewidth\": 0, \"ticks\": \"\"}}, \"type\": \"scattergl\"}], \"scattermapbox\": [{\"marker\": {\"colorbar\": {\"outlinewidth\": 0, \"ticks\": \"\"}}, \"type\": \"scattermapbox\"}], \"scatterpolar\": [{\"marker\": {\"colorbar\": {\"outlinewidth\": 0, \"ticks\": \"\"}}, \"type\": \"scatterpolar\"}], \"scatterpolargl\": [{\"marker\": {\"colorbar\": {\"outlinewidth\": 0, \"ticks\": \"\"}}, \"type\": \"scatterpolargl\"}], \"scatterternary\": [{\"marker\": {\"colorbar\": {\"outlinewidth\": 0, \"ticks\": \"\"}}, \"type\": \"scatterternary\"}], \"surface\": [{\"colorbar\": {\"outlinewidth\": 0, \"ticks\": \"\"}, \"colorscale\": [[0.0, \"#0d0887\"], [0.1111111111111111, \"#46039f\"], [0.2222222222222222, \"#7201a8\"], [0.3333333333333333, \"#9c179e\"], [0.4444444444444444, \"#bd3786\"], [0.5555555555555556, \"#d8576b\"], [0.6666666666666666, \"#ed7953\"], [0.7777777777777778, \"#fb9f3a\"], [0.8888888888888888, \"#fdca26\"], [1.0, \"#f0f921\"]], \"type\": \"surface\"}], \"table\": [{\"cells\": {\"fill\": {\"color\": \"#EBF0F8\"}, \"line\": {\"color\": \"white\"}}, \"header\": {\"fill\": {\"color\": \"#C8D4E3\"}, \"line\": {\"color\": \"white\"}}, \"type\": \"table\"}]}, \"layout\": {\"annotationdefaults\": {\"arrowcolor\": \"#2a3f5f\", \"arrowhead\": 0, \"arrowwidth\": 1}, \"autotypenumbers\": \"strict\", \"coloraxis\": {\"colorbar\": {\"outlinewidth\": 0, \"ticks\": \"\"}}, \"colorscale\": {\"diverging\": [[0, \"#8e0152\"], [0.1, \"#c51b7d\"], [0.2, \"#de77ae\"], [0.3, \"#f1b6da\"], [0.4, \"#fde0ef\"], [0.5, \"#f7f7f7\"], [0.6, \"#e6f5d0\"], [0.7, \"#b8e186\"], [0.8, \"#7fbc41\"], [0.9, \"#4d9221\"], [1, \"#276419\"]], \"sequential\": [[0.0, \"#0d0887\"], [0.1111111111111111, \"#46039f\"], [0.2222222222222222, \"#7201a8\"], [0.3333333333333333, \"#9c179e\"], [0.4444444444444444, \"#bd3786\"], [0.5555555555555556, \"#d8576b\"], [0.6666666666666666, \"#ed7953\"], [0.7777777777777778, \"#fb9f3a\"], [0.8888888888888888, \"#fdca26\"], [1.0, \"#f0f921\"]], \"sequentialminus\": [[0.0, \"#0d0887\"], [0.1111111111111111, \"#46039f\"], [0.2222222222222222, \"#7201a8\"], [0.3333333333333333, \"#9c179e\"], [0.4444444444444444, \"#bd3786\"], [0.5555555555555556, \"#d8576b\"], [0.6666666666666666, \"#ed7953\"], [0.7777777777777778, \"#fb9f3a\"], [0.8888888888888888, \"#fdca26\"], [1.0, \"#f0f921\"]]}, \"colorway\": [\"#636efa\", \"#EF553B\", \"#00cc96\", \"#ab63fa\", \"#FFA15A\", \"#19d3f3\", \"#FF6692\", \"#B6E880\", \"#FF97FF\", \"#FECB52\"], \"font\": {\"color\": \"#2a3f5f\"}, \"geo\": {\"bgcolor\": \"white\", \"lakecolor\": \"white\", \"landcolor\": \"white\", \"showlakes\": true, \"showland\": true, \"subunitcolor\": \"#C8D4E3\"}, \"hoverlabel\": {\"align\": \"left\"}, \"hovermode\": \"closest\", \"mapbox\": {\"style\": \"light\"}, \"paper_bgcolor\": \"white\", \"plot_bgcolor\": \"white\", \"polar\": {\"angularaxis\": {\"gridcolor\": \"#EBF0F8\", \"linecolor\": \"#EBF0F8\", \"ticks\": \"\"}, \"bgcolor\": \"white\", \"radialaxis\": {\"gridcolor\": \"#EBF0F8\", \"linecolor\": \"#EBF0F8\", \"ticks\": \"\"}}, \"scene\": {\"xaxis\": {\"backgroundcolor\": \"white\", \"gridcolor\": \"#DFE8F3\", \"gridwidth\": 2, \"linecolor\": \"#EBF0F8\", \"showbackground\": true, \"ticks\": \"\", \"zerolinecolor\": \"#EBF0F8\"}, \"yaxis\": {\"backgroundcolor\": \"white\", \"gridcolor\": \"#DFE8F3\", \"gridwidth\": 2, \"linecolor\": \"#EBF0F8\", \"showbackground\": true, \"ticks\": \"\", \"zerolinecolor\": \"#EBF0F8\"}, \"zaxis\": {\"backgroundcolor\": \"white\", \"gridcolor\": \"#DFE8F3\", \"gridwidth\": 2, \"linecolor\": \"#EBF0F8\", \"showbackground\": true, \"ticks\": \"\", \"zerolinecolor\": \"#EBF0F8\"}}, \"shapedefaults\": {\"line\": {\"color\": \"#2a3f5f\"}}, \"ternary\": {\"aaxis\": {\"gridcolor\": \"#DFE8F3\", \"linecolor\": \"#A2B1C6\", \"ticks\": \"\"}, \"baxis\": {\"gridcolor\": \"#DFE8F3\", \"linecolor\": \"#A2B1C6\", \"ticks\": \"\"}, \"bgcolor\": \"white\", \"caxis\": {\"gridcolor\": \"#DFE8F3\", \"linecolor\": \"#A2B1C6\", \"ticks\": \"\"}}, \"title\": {\"x\": 0.05}, \"xaxis\": {\"automargin\": true, \"gridcolor\": \"#EBF0F8\", \"linecolor\": \"#EBF0F8\", \"ticks\": \"\", \"title\": {\"standoff\": 15}, \"zerolinecolor\": \"#EBF0F8\", \"zerolinewidth\": 2}, \"yaxis\": {\"automargin\": true, \"gridcolor\": \"#EBF0F8\", \"linecolor\": \"#EBF0F8\", \"ticks\": \"\", \"title\": {\"standoff\": 15}, \"zerolinecolor\": \"#EBF0F8\", \"zerolinewidth\": 2}}}, \"title\": {\"font\": {\"color\": \"black\", \"family\": \"Myriad Pro\", \"size\": 16}, \"text\": \"OD Normalized GFP scaled to the max value\"}, \"width\": 600, \"xaxis\": {\"linecolor\": \"black\", \"linewidth\": 1, \"mirror\": true, \"showgrid\": false, \"showline\": true, \"side\": \"bottom\", \"tickangle\": 0, \"tickcolor\": \"black\", \"tickfont\": {\"color\": \"black\", \"family\": \"Myriad Pro\", \"size\": 16}, \"ticklen\": 4, \"ticks\": \"outside\", \"tickson\": \"boundaries\", \"title\": {\"font\": {\"color\": \"black\", \"family\": \"Myriad Pro\", \"size\": 18}}, \"zeroline\": false}, \"yaxis\": {\"linecolor\": \"black\", \"linewidth\": 1, \"mirror\": true, \"nticks\": 9, \"showgrid\": true, \"showline\": true, \"side\": \"left\", \"tickangle\": 0, \"tickcolor\": \"black\", \"tickfont\": {\"color\": \"black\", \"family\": \"Myriad Pro\", \"size\": 16}, \"ticklen\": 4, \"ticks\": \"outside\", \"title\": {\"font\": {\"color\": \"black\", \"family\": \"Myriad Pro\", \"size\": 18}, \"standoff\": 0, \"text\": \"(a.u.)\"}, \"type\": \"log\", \"zeroline\": false}},                        {\"responsive\": true}                    ).then(function(){\n",
       "                            \n",
       "var gd = document.getElementById('8c046492-bf74-4606-b757-347658f000e6');\n",
       "var x = new MutationObserver(function (mutations, observer) {{\n",
       "        var display = window.getComputedStyle(gd).display;\n",
       "        if (!display || display === 'none') {{\n",
       "            console.log([gd, 'removed!']);\n",
       "            Plotly.purge(gd);\n",
       "            observer.disconnect();\n",
       "        }}\n",
       "}});\n",
       "\n",
       "// Listen for the removal of the full notebook cells\n",
       "var notebookContainer = gd.closest('#notebook-container');\n",
       "if (notebookContainer) {{\n",
       "    x.observe(notebookContainer, {childList: true});\n",
       "}}\n",
       "\n",
       "// Listen for the clearing of the current output cell\n",
       "var outputEl = gd.closest('.output');\n",
       "if (outputEl) {{\n",
       "    x.observe(outputEl, {childList: true});\n",
       "}}\n",
       "\n",
       "                        })                };                });            </script>        </div>"
      ]
     },
     "metadata": {},
     "output_type": "display_data"
    },
    {
     "data": {
      "application/vnd.plotly.v1+json": {
       "config": {
        "linkText": "Export to plot.ly",
        "plotlyServerURL": "https://plot.ly",
        "showLink": false
       },
       "data": [
        {
         "error_y": {
          "array": [
           0.026430373998316353,
           0.01075785748413268,
           0.07214400389231007,
           0.07725961643898871,
           0.04761081402345436
          ],
          "color": "black",
          "thickness": 1.5,
          "type": "data",
          "width": 3
         },
         "legendgroup": "0",
         "marker": {
          "color": "rgb(218,133,137)",
          "line": {
           "width": 0
          }
         },
         "name": "Degradation Level: 0",
         "showlegend": true,
         "type": "bar",
         "x": [
          "RBS<br>Level 1",
          "RBS<br>Level 2",
          "RBS<br>Level 3",
          "RBS<br>Level 4",
          "RBS<br>Level 5"
         ],
         "y": [
          0.23730317888389638,
          0.4450637839407218,
          0.7784465190532414,
          0.9251815264867311,
          0.6621571506621042
         ]
        },
        {
         "error_y": {
          "array": [
           0.010188064647954477,
           0.0630746769617702,
           0.022775400564831946,
           0.14350697924010078,
           0.04374675006404153
          ],
          "color": "black",
          "thickness": 1.5,
          "type": "data",
          "width": 3
         },
         "legendgroup": "1",
         "marker": {
          "color": "rgb(205,92,98)",
          "line": {
           "width": 0
          }
         },
         "name": "Degradation Level: 1",
         "showlegend": true,
         "type": "bar",
         "x": [
          "RBS<br>Level 1",
          "RBS<br>Level 2",
          "RBS<br>Level 3",
          "RBS<br>Level 4",
          "RBS<br>Level 5"
         ],
         "y": [
          0.1185766800626292,
          0.20952740103705486,
          0.76821178535395,
          1,
          0.5359509877514267
         ]
        },
        {
         "error_y": {
          "array": [
           0.017517152996754493,
           0.01924128853257939,
           0.07506752347877751,
           0.11095985360817014,
           0.04250799983699168
          ],
          "color": "black",
          "thickness": 1.5,
          "type": "data",
          "width": 3
         },
         "legendgroup": "2",
         "marker": {
          "color": "rgb(187,57,64)",
          "line": {
           "width": 0
          }
         },
         "name": "Degradation Level: 2",
         "showlegend": true,
         "type": "bar",
         "x": [
          "RBS<br>Level 1",
          "RBS<br>Level 2",
          "RBS<br>Level 3",
          "RBS<br>Level 4",
          "RBS<br>Level 5"
         ],
         "y": [
          0.07433754062115865,
          0.14911074655815187,
          0.6205532641533195,
          0.8911090268428332,
          0.4493232736564566
         ]
        },
        {
         "error_y": {
          "array": [
           0.004488236994406194,
           0.02681382517540817,
           0.04869259352150033,
           0.027168233464802446,
           0.03136665805240327
          ],
          "color": "black",
          "thickness": 1.5,
          "type": "data",
          "width": 3
         },
         "legendgroup": "3",
         "marker": {
          "color": "rgb(146,45,50)",
          "line": {
           "width": 0
          }
         },
         "name": "Degradation Level: 3",
         "showlegend": true,
         "type": "bar",
         "x": [
          "RBS<br>Level 1",
          "RBS<br>Level 2",
          "RBS<br>Level 3",
          "RBS<br>Level 4",
          "RBS<br>Level 5"
         ],
         "y": [
          0.08417432649255716,
          0.1215857041318965,
          0.4422723317879039,
          0.7319712621127147,
          0.34755536862691044
         ]
        }
       ],
       "layout": {
        "bargap": 0.2,
        "bargroupgap": 0.1,
        "height": 450,
        "legend": {
         "font": {
          "color": "black",
          "family": "Myriad Pro",
          "size": 16
         },
         "orientation": "h",
         "x": 0.02,
         "y": -0.2
        },
        "template": {
         "data": {
          "bar": [
           {
            "error_x": {
             "color": "#2a3f5f"
            },
            "error_y": {
             "color": "#2a3f5f"
            },
            "marker": {
             "line": {
              "color": "white",
              "width": 0.5
             }
            },
            "type": "bar"
           }
          ],
          "barpolar": [
           {
            "marker": {
             "line": {
              "color": "white",
              "width": 0.5
             }
            },
            "type": "barpolar"
           }
          ],
          "carpet": [
           {
            "aaxis": {
             "endlinecolor": "#2a3f5f",
             "gridcolor": "#C8D4E3",
             "linecolor": "#C8D4E3",
             "minorgridcolor": "#C8D4E3",
             "startlinecolor": "#2a3f5f"
            },
            "baxis": {
             "endlinecolor": "#2a3f5f",
             "gridcolor": "#C8D4E3",
             "linecolor": "#C8D4E3",
             "minorgridcolor": "#C8D4E3",
             "startlinecolor": "#2a3f5f"
            },
            "type": "carpet"
           }
          ],
          "choropleth": [
           {
            "colorbar": {
             "outlinewidth": 0,
             "ticks": ""
            },
            "type": "choropleth"
           }
          ],
          "contour": [
           {
            "colorbar": {
             "outlinewidth": 0,
             "ticks": ""
            },
            "colorscale": [
             [
              0,
              "#0d0887"
             ],
             [
              0.1111111111111111,
              "#46039f"
             ],
             [
              0.2222222222222222,
              "#7201a8"
             ],
             [
              0.3333333333333333,
              "#9c179e"
             ],
             [
              0.4444444444444444,
              "#bd3786"
             ],
             [
              0.5555555555555556,
              "#d8576b"
             ],
             [
              0.6666666666666666,
              "#ed7953"
             ],
             [
              0.7777777777777778,
              "#fb9f3a"
             ],
             [
              0.8888888888888888,
              "#fdca26"
             ],
             [
              1,
              "#f0f921"
             ]
            ],
            "type": "contour"
           }
          ],
          "contourcarpet": [
           {
            "colorbar": {
             "outlinewidth": 0,
             "ticks": ""
            },
            "type": "contourcarpet"
           }
          ],
          "heatmap": [
           {
            "colorbar": {
             "outlinewidth": 0,
             "ticks": ""
            },
            "colorscale": [
             [
              0,
              "#0d0887"
             ],
             [
              0.1111111111111111,
              "#46039f"
             ],
             [
              0.2222222222222222,
              "#7201a8"
             ],
             [
              0.3333333333333333,
              "#9c179e"
             ],
             [
              0.4444444444444444,
              "#bd3786"
             ],
             [
              0.5555555555555556,
              "#d8576b"
             ],
             [
              0.6666666666666666,
              "#ed7953"
             ],
             [
              0.7777777777777778,
              "#fb9f3a"
             ],
             [
              0.8888888888888888,
              "#fdca26"
             ],
             [
              1,
              "#f0f921"
             ]
            ],
            "type": "heatmap"
           }
          ],
          "heatmapgl": [
           {
            "colorbar": {
             "outlinewidth": 0,
             "ticks": ""
            },
            "colorscale": [
             [
              0,
              "#0d0887"
             ],
             [
              0.1111111111111111,
              "#46039f"
             ],
             [
              0.2222222222222222,
              "#7201a8"
             ],
             [
              0.3333333333333333,
              "#9c179e"
             ],
             [
              0.4444444444444444,
              "#bd3786"
             ],
             [
              0.5555555555555556,
              "#d8576b"
             ],
             [
              0.6666666666666666,
              "#ed7953"
             ],
             [
              0.7777777777777778,
              "#fb9f3a"
             ],
             [
              0.8888888888888888,
              "#fdca26"
             ],
             [
              1,
              "#f0f921"
             ]
            ],
            "type": "heatmapgl"
           }
          ],
          "histogram": [
           {
            "marker": {
             "colorbar": {
              "outlinewidth": 0,
              "ticks": ""
             }
            },
            "type": "histogram"
           }
          ],
          "histogram2d": [
           {
            "colorbar": {
             "outlinewidth": 0,
             "ticks": ""
            },
            "colorscale": [
             [
              0,
              "#0d0887"
             ],
             [
              0.1111111111111111,
              "#46039f"
             ],
             [
              0.2222222222222222,
              "#7201a8"
             ],
             [
              0.3333333333333333,
              "#9c179e"
             ],
             [
              0.4444444444444444,
              "#bd3786"
             ],
             [
              0.5555555555555556,
              "#d8576b"
             ],
             [
              0.6666666666666666,
              "#ed7953"
             ],
             [
              0.7777777777777778,
              "#fb9f3a"
             ],
             [
              0.8888888888888888,
              "#fdca26"
             ],
             [
              1,
              "#f0f921"
             ]
            ],
            "type": "histogram2d"
           }
          ],
          "histogram2dcontour": [
           {
            "colorbar": {
             "outlinewidth": 0,
             "ticks": ""
            },
            "colorscale": [
             [
              0,
              "#0d0887"
             ],
             [
              0.1111111111111111,
              "#46039f"
             ],
             [
              0.2222222222222222,
              "#7201a8"
             ],
             [
              0.3333333333333333,
              "#9c179e"
             ],
             [
              0.4444444444444444,
              "#bd3786"
             ],
             [
              0.5555555555555556,
              "#d8576b"
             ],
             [
              0.6666666666666666,
              "#ed7953"
             ],
             [
              0.7777777777777778,
              "#fb9f3a"
             ],
             [
              0.8888888888888888,
              "#fdca26"
             ],
             [
              1,
              "#f0f921"
             ]
            ],
            "type": "histogram2dcontour"
           }
          ],
          "mesh3d": [
           {
            "colorbar": {
             "outlinewidth": 0,
             "ticks": ""
            },
            "type": "mesh3d"
           }
          ],
          "parcoords": [
           {
            "line": {
             "colorbar": {
              "outlinewidth": 0,
              "ticks": ""
             }
            },
            "type": "parcoords"
           }
          ],
          "pie": [
           {
            "automargin": true,
            "type": "pie"
           }
          ],
          "scatter": [
           {
            "marker": {
             "colorbar": {
              "outlinewidth": 0,
              "ticks": ""
             }
            },
            "type": "scatter"
           }
          ],
          "scatter3d": [
           {
            "line": {
             "colorbar": {
              "outlinewidth": 0,
              "ticks": ""
             }
            },
            "marker": {
             "colorbar": {
              "outlinewidth": 0,
              "ticks": ""
             }
            },
            "type": "scatter3d"
           }
          ],
          "scattercarpet": [
           {
            "marker": {
             "colorbar": {
              "outlinewidth": 0,
              "ticks": ""
             }
            },
            "type": "scattercarpet"
           }
          ],
          "scattergeo": [
           {
            "marker": {
             "colorbar": {
              "outlinewidth": 0,
              "ticks": ""
             }
            },
            "type": "scattergeo"
           }
          ],
          "scattergl": [
           {
            "marker": {
             "colorbar": {
              "outlinewidth": 0,
              "ticks": ""
             }
            },
            "type": "scattergl"
           }
          ],
          "scattermapbox": [
           {
            "marker": {
             "colorbar": {
              "outlinewidth": 0,
              "ticks": ""
             }
            },
            "type": "scattermapbox"
           }
          ],
          "scatterpolar": [
           {
            "marker": {
             "colorbar": {
              "outlinewidth": 0,
              "ticks": ""
             }
            },
            "type": "scatterpolar"
           }
          ],
          "scatterpolargl": [
           {
            "marker": {
             "colorbar": {
              "outlinewidth": 0,
              "ticks": ""
             }
            },
            "type": "scatterpolargl"
           }
          ],
          "scatterternary": [
           {
            "marker": {
             "colorbar": {
              "outlinewidth": 0,
              "ticks": ""
             }
            },
            "type": "scatterternary"
           }
          ],
          "surface": [
           {
            "colorbar": {
             "outlinewidth": 0,
             "ticks": ""
            },
            "colorscale": [
             [
              0,
              "#0d0887"
             ],
             [
              0.1111111111111111,
              "#46039f"
             ],
             [
              0.2222222222222222,
              "#7201a8"
             ],
             [
              0.3333333333333333,
              "#9c179e"
             ],
             [
              0.4444444444444444,
              "#bd3786"
             ],
             [
              0.5555555555555556,
              "#d8576b"
             ],
             [
              0.6666666666666666,
              "#ed7953"
             ],
             [
              0.7777777777777778,
              "#fb9f3a"
             ],
             [
              0.8888888888888888,
              "#fdca26"
             ],
             [
              1,
              "#f0f921"
             ]
            ],
            "type": "surface"
           }
          ],
          "table": [
           {
            "cells": {
             "fill": {
              "color": "#EBF0F8"
             },
             "line": {
              "color": "white"
             }
            },
            "header": {
             "fill": {
              "color": "#C8D4E3"
             },
             "line": {
              "color": "white"
             }
            },
            "type": "table"
           }
          ]
         },
         "layout": {
          "annotationdefaults": {
           "arrowcolor": "#2a3f5f",
           "arrowhead": 0,
           "arrowwidth": 1
          },
          "autotypenumbers": "strict",
          "coloraxis": {
           "colorbar": {
            "outlinewidth": 0,
            "ticks": ""
           }
          },
          "colorscale": {
           "diverging": [
            [
             0,
             "#8e0152"
            ],
            [
             0.1,
             "#c51b7d"
            ],
            [
             0.2,
             "#de77ae"
            ],
            [
             0.3,
             "#f1b6da"
            ],
            [
             0.4,
             "#fde0ef"
            ],
            [
             0.5,
             "#f7f7f7"
            ],
            [
             0.6,
             "#e6f5d0"
            ],
            [
             0.7,
             "#b8e186"
            ],
            [
             0.8,
             "#7fbc41"
            ],
            [
             0.9,
             "#4d9221"
            ],
            [
             1,
             "#276419"
            ]
           ],
           "sequential": [
            [
             0,
             "#0d0887"
            ],
            [
             0.1111111111111111,
             "#46039f"
            ],
            [
             0.2222222222222222,
             "#7201a8"
            ],
            [
             0.3333333333333333,
             "#9c179e"
            ],
            [
             0.4444444444444444,
             "#bd3786"
            ],
            [
             0.5555555555555556,
             "#d8576b"
            ],
            [
             0.6666666666666666,
             "#ed7953"
            ],
            [
             0.7777777777777778,
             "#fb9f3a"
            ],
            [
             0.8888888888888888,
             "#fdca26"
            ],
            [
             1,
             "#f0f921"
            ]
           ],
           "sequentialminus": [
            [
             0,
             "#0d0887"
            ],
            [
             0.1111111111111111,
             "#46039f"
            ],
            [
             0.2222222222222222,
             "#7201a8"
            ],
            [
             0.3333333333333333,
             "#9c179e"
            ],
            [
             0.4444444444444444,
             "#bd3786"
            ],
            [
             0.5555555555555556,
             "#d8576b"
            ],
            [
             0.6666666666666666,
             "#ed7953"
            ],
            [
             0.7777777777777778,
             "#fb9f3a"
            ],
            [
             0.8888888888888888,
             "#fdca26"
            ],
            [
             1,
             "#f0f921"
            ]
           ]
          },
          "colorway": [
           "#636efa",
           "#EF553B",
           "#00cc96",
           "#ab63fa",
           "#FFA15A",
           "#19d3f3",
           "#FF6692",
           "#B6E880",
           "#FF97FF",
           "#FECB52"
          ],
          "font": {
           "color": "#2a3f5f"
          },
          "geo": {
           "bgcolor": "white",
           "lakecolor": "white",
           "landcolor": "white",
           "showlakes": true,
           "showland": true,
           "subunitcolor": "#C8D4E3"
          },
          "hoverlabel": {
           "align": "left"
          },
          "hovermode": "closest",
          "mapbox": {
           "style": "light"
          },
          "paper_bgcolor": "white",
          "plot_bgcolor": "white",
          "polar": {
           "angularaxis": {
            "gridcolor": "#EBF0F8",
            "linecolor": "#EBF0F8",
            "ticks": ""
           },
           "bgcolor": "white",
           "radialaxis": {
            "gridcolor": "#EBF0F8",
            "linecolor": "#EBF0F8",
            "ticks": ""
           }
          },
          "scene": {
           "xaxis": {
            "backgroundcolor": "white",
            "gridcolor": "#DFE8F3",
            "gridwidth": 2,
            "linecolor": "#EBF0F8",
            "showbackground": true,
            "ticks": "",
            "zerolinecolor": "#EBF0F8"
           },
           "yaxis": {
            "backgroundcolor": "white",
            "gridcolor": "#DFE8F3",
            "gridwidth": 2,
            "linecolor": "#EBF0F8",
            "showbackground": true,
            "ticks": "",
            "zerolinecolor": "#EBF0F8"
           },
           "zaxis": {
            "backgroundcolor": "white",
            "gridcolor": "#DFE8F3",
            "gridwidth": 2,
            "linecolor": "#EBF0F8",
            "showbackground": true,
            "ticks": "",
            "zerolinecolor": "#EBF0F8"
           }
          },
          "shapedefaults": {
           "line": {
            "color": "#2a3f5f"
           }
          },
          "ternary": {
           "aaxis": {
            "gridcolor": "#DFE8F3",
            "linecolor": "#A2B1C6",
            "ticks": ""
           },
           "baxis": {
            "gridcolor": "#DFE8F3",
            "linecolor": "#A2B1C6",
            "ticks": ""
           },
           "bgcolor": "white",
           "caxis": {
            "gridcolor": "#DFE8F3",
            "linecolor": "#A2B1C6",
            "ticks": ""
           }
          },
          "title": {
           "x": 0.05
          },
          "xaxis": {
           "automargin": true,
           "gridcolor": "#EBF0F8",
           "linecolor": "#EBF0F8",
           "ticks": "",
           "title": {
            "standoff": 15
           },
           "zerolinecolor": "#EBF0F8",
           "zerolinewidth": 2
          },
          "yaxis": {
           "automargin": true,
           "gridcolor": "#EBF0F8",
           "linecolor": "#EBF0F8",
           "ticks": "",
           "title": {
            "standoff": 15
           },
           "zerolinecolor": "#EBF0F8",
           "zerolinewidth": 2
          }
         }
        },
        "title": {
         "font": {
          "color": "black",
          "family": "Myriad Pro",
          "size": 18
         },
         "text": "OD Normalized GFP scaled to the max value"
        },
        "width": 600,
        "xaxis": {
         "linecolor": "black",
         "linewidth": 1,
         "mirror": true,
         "showgrid": false,
         "showline": true,
         "side": "bottom",
         "tickangle": 0,
         "tickcolor": "black",
         "tickfont": {
          "color": "black",
          "family": "Myriad Pro",
          "size": 16
         },
         "ticklen": 4,
         "ticks": "outside",
         "tickson": "boundaries",
         "title": {
          "font": {
           "color": "black",
           "family": "Myriad Pro",
           "size": 18
          }
         },
         "zeroline": false
        },
        "yaxis": {
         "linecolor": "black",
         "linewidth": 1,
         "mirror": true,
         "nticks": 9,
         "showgrid": true,
         "showline": true,
         "side": "left",
         "tickangle": 0,
         "tickcolor": "black",
         "tickfont": {
          "color": "black",
          "family": "Myriad Pro",
          "size": 16
         },
         "ticklen": 4,
         "ticks": "outside",
         "title": {
          "font": {
           "color": "black",
           "family": "Myriad Pro",
           "size": 18
          },
          "standoff": 0,
          "text": "(a.u.)"
         },
         "type": "log",
         "zeroline": false
        }
       }
      },
      "text/html": [
       "<div>                            <div id=\"6d961124-0519-4a1d-bec1-ffb30af1986b\" class=\"plotly-graph-div\" style=\"height:450px; width:600px;\"></div>            <script type=\"text/javascript\">                require([\"plotly\"], function(Plotly) {                    window.PLOTLYENV=window.PLOTLYENV || {};                                    if (document.getElementById(\"6d961124-0519-4a1d-bec1-ffb30af1986b\")) {                    Plotly.newPlot(                        \"6d961124-0519-4a1d-bec1-ffb30af1986b\",                        [{\"error_y\": {\"array\": [0.026430373998316353, 0.01075785748413268, 0.07214400389231007, 0.07725961643898871, 0.04761081402345436], \"color\": \"black\", \"thickness\": 1.5, \"type\": \"data\", \"width\": 3}, \"legendgroup\": \"0\", \"marker\": {\"color\": \"rgb(218,133,137)\", \"line\": {\"width\": 0}}, \"name\": \"Degradation Level: 0\", \"showlegend\": true, \"type\": \"bar\", \"x\": [\"RBS<br>Level 1\", \"RBS<br>Level 2\", \"RBS<br>Level 3\", \"RBS<br>Level 4\", \"RBS<br>Level 5\"], \"y\": [0.23730317888389638, 0.4450637839407218, 0.7784465190532414, 0.9251815264867311, 0.6621571506621042]}, {\"error_y\": {\"array\": [0.010188064647954477, 0.0630746769617702, 0.022775400564831946, 0.14350697924010078, 0.04374675006404153], \"color\": \"black\", \"thickness\": 1.5, \"type\": \"data\", \"width\": 3}, \"legendgroup\": \"1\", \"marker\": {\"color\": \"rgb(205,92,98)\", \"line\": {\"width\": 0}}, \"name\": \"Degradation Level: 1\", \"showlegend\": true, \"type\": \"bar\", \"x\": [\"RBS<br>Level 1\", \"RBS<br>Level 2\", \"RBS<br>Level 3\", \"RBS<br>Level 4\", \"RBS<br>Level 5\"], \"y\": [0.1185766800626292, 0.20952740103705486, 0.76821178535395, 1.0, 0.5359509877514267]}, {\"error_y\": {\"array\": [0.017517152996754493, 0.01924128853257939, 0.07506752347877751, 0.11095985360817014, 0.04250799983699168], \"color\": \"black\", \"thickness\": 1.5, \"type\": \"data\", \"width\": 3}, \"legendgroup\": \"2\", \"marker\": {\"color\": \"rgb(187,57,64)\", \"line\": {\"width\": 0}}, \"name\": \"Degradation Level: 2\", \"showlegend\": true, \"type\": \"bar\", \"x\": [\"RBS<br>Level 1\", \"RBS<br>Level 2\", \"RBS<br>Level 3\", \"RBS<br>Level 4\", \"RBS<br>Level 5\"], \"y\": [0.07433754062115865, 0.14911074655815187, 0.6205532641533195, 0.8911090268428332, 0.4493232736564566]}, {\"error_y\": {\"array\": [0.004488236994406194, 0.02681382517540817, 0.04869259352150033, 0.027168233464802446, 0.03136665805240327], \"color\": \"black\", \"thickness\": 1.5, \"type\": \"data\", \"width\": 3}, \"legendgroup\": \"3\", \"marker\": {\"color\": \"rgb(146,45,50)\", \"line\": {\"width\": 0}}, \"name\": \"Degradation Level: 3\", \"showlegend\": true, \"type\": \"bar\", \"x\": [\"RBS<br>Level 1\", \"RBS<br>Level 2\", \"RBS<br>Level 3\", \"RBS<br>Level 4\", \"RBS<br>Level 5\"], \"y\": [0.08417432649255716, 0.1215857041318965, 0.4422723317879039, 0.7319712621127147, 0.34755536862691044]}],                        {\"bargap\": 0.2, \"bargroupgap\": 0.1, \"height\": 450, \"legend\": {\"font\": {\"color\": \"black\", \"family\": \"Myriad Pro\", \"size\": 16}, \"orientation\": \"h\", \"x\": 0.02, \"y\": -0.2}, \"template\": {\"data\": {\"bar\": [{\"error_x\": {\"color\": \"#2a3f5f\"}, \"error_y\": {\"color\": \"#2a3f5f\"}, \"marker\": {\"line\": {\"color\": \"white\", \"width\": 0.5}}, \"type\": \"bar\"}], \"barpolar\": [{\"marker\": {\"line\": {\"color\": \"white\", \"width\": 0.5}}, \"type\": \"barpolar\"}], \"carpet\": [{\"aaxis\": {\"endlinecolor\": \"#2a3f5f\", \"gridcolor\": \"#C8D4E3\", \"linecolor\": \"#C8D4E3\", \"minorgridcolor\": \"#C8D4E3\", \"startlinecolor\": \"#2a3f5f\"}, \"baxis\": {\"endlinecolor\": \"#2a3f5f\", \"gridcolor\": \"#C8D4E3\", \"linecolor\": \"#C8D4E3\", \"minorgridcolor\": \"#C8D4E3\", \"startlinecolor\": \"#2a3f5f\"}, \"type\": \"carpet\"}], \"choropleth\": [{\"colorbar\": {\"outlinewidth\": 0, \"ticks\": \"\"}, \"type\": \"choropleth\"}], \"contour\": [{\"colorbar\": {\"outlinewidth\": 0, \"ticks\": \"\"}, \"colorscale\": [[0.0, \"#0d0887\"], [0.1111111111111111, \"#46039f\"], [0.2222222222222222, \"#7201a8\"], [0.3333333333333333, \"#9c179e\"], [0.4444444444444444, \"#bd3786\"], [0.5555555555555556, \"#d8576b\"], [0.6666666666666666, \"#ed7953\"], [0.7777777777777778, \"#fb9f3a\"], [0.8888888888888888, \"#fdca26\"], [1.0, \"#f0f921\"]], \"type\": \"contour\"}], \"contourcarpet\": [{\"colorbar\": {\"outlinewidth\": 0, \"ticks\": \"\"}, \"type\": \"contourcarpet\"}], \"heatmap\": [{\"colorbar\": {\"outlinewidth\": 0, \"ticks\": \"\"}, \"colorscale\": [[0.0, \"#0d0887\"], [0.1111111111111111, \"#46039f\"], [0.2222222222222222, \"#7201a8\"], [0.3333333333333333, \"#9c179e\"], [0.4444444444444444, \"#bd3786\"], [0.5555555555555556, \"#d8576b\"], [0.6666666666666666, \"#ed7953\"], [0.7777777777777778, \"#fb9f3a\"], [0.8888888888888888, \"#fdca26\"], [1.0, \"#f0f921\"]], \"type\": \"heatmap\"}], \"heatmapgl\": [{\"colorbar\": {\"outlinewidth\": 0, \"ticks\": \"\"}, \"colorscale\": [[0.0, \"#0d0887\"], [0.1111111111111111, \"#46039f\"], [0.2222222222222222, \"#7201a8\"], [0.3333333333333333, \"#9c179e\"], [0.4444444444444444, \"#bd3786\"], [0.5555555555555556, \"#d8576b\"], [0.6666666666666666, \"#ed7953\"], [0.7777777777777778, \"#fb9f3a\"], [0.8888888888888888, \"#fdca26\"], [1.0, \"#f0f921\"]], \"type\": \"heatmapgl\"}], \"histogram\": [{\"marker\": {\"colorbar\": {\"outlinewidth\": 0, \"ticks\": \"\"}}, \"type\": \"histogram\"}], \"histogram2d\": [{\"colorbar\": {\"outlinewidth\": 0, \"ticks\": \"\"}, \"colorscale\": [[0.0, \"#0d0887\"], [0.1111111111111111, \"#46039f\"], [0.2222222222222222, \"#7201a8\"], [0.3333333333333333, \"#9c179e\"], [0.4444444444444444, \"#bd3786\"], [0.5555555555555556, \"#d8576b\"], [0.6666666666666666, \"#ed7953\"], [0.7777777777777778, \"#fb9f3a\"], [0.8888888888888888, \"#fdca26\"], [1.0, \"#f0f921\"]], \"type\": \"histogram2d\"}], \"histogram2dcontour\": [{\"colorbar\": {\"outlinewidth\": 0, \"ticks\": \"\"}, \"colorscale\": [[0.0, \"#0d0887\"], [0.1111111111111111, \"#46039f\"], [0.2222222222222222, \"#7201a8\"], [0.3333333333333333, \"#9c179e\"], [0.4444444444444444, \"#bd3786\"], [0.5555555555555556, \"#d8576b\"], [0.6666666666666666, \"#ed7953\"], [0.7777777777777778, \"#fb9f3a\"], [0.8888888888888888, \"#fdca26\"], [1.0, \"#f0f921\"]], \"type\": \"histogram2dcontour\"}], \"mesh3d\": [{\"colorbar\": {\"outlinewidth\": 0, \"ticks\": \"\"}, \"type\": \"mesh3d\"}], \"parcoords\": [{\"line\": {\"colorbar\": {\"outlinewidth\": 0, \"ticks\": \"\"}}, \"type\": \"parcoords\"}], \"pie\": [{\"automargin\": true, \"type\": \"pie\"}], \"scatter\": [{\"marker\": {\"colorbar\": {\"outlinewidth\": 0, \"ticks\": \"\"}}, \"type\": \"scatter\"}], \"scatter3d\": [{\"line\": {\"colorbar\": {\"outlinewidth\": 0, \"ticks\": \"\"}}, \"marker\": {\"colorbar\": {\"outlinewidth\": 0, \"ticks\": \"\"}}, \"type\": \"scatter3d\"}], \"scattercarpet\": [{\"marker\": {\"colorbar\": {\"outlinewidth\": 0, \"ticks\": \"\"}}, \"type\": \"scattercarpet\"}], \"scattergeo\": [{\"marker\": {\"colorbar\": {\"outlinewidth\": 0, \"ticks\": \"\"}}, \"type\": \"scattergeo\"}], \"scattergl\": [{\"marker\": {\"colorbar\": {\"outlinewidth\": 0, \"ticks\": \"\"}}, \"type\": \"scattergl\"}], \"scattermapbox\": [{\"marker\": {\"colorbar\": {\"outlinewidth\": 0, \"ticks\": \"\"}}, \"type\": \"scattermapbox\"}], \"scatterpolar\": [{\"marker\": {\"colorbar\": {\"outlinewidth\": 0, \"ticks\": \"\"}}, \"type\": \"scatterpolar\"}], \"scatterpolargl\": [{\"marker\": {\"colorbar\": {\"outlinewidth\": 0, \"ticks\": \"\"}}, \"type\": \"scatterpolargl\"}], \"scatterternary\": [{\"marker\": {\"colorbar\": {\"outlinewidth\": 0, \"ticks\": \"\"}}, \"type\": \"scatterternary\"}], \"surface\": [{\"colorbar\": {\"outlinewidth\": 0, \"ticks\": \"\"}, \"colorscale\": [[0.0, \"#0d0887\"], [0.1111111111111111, \"#46039f\"], [0.2222222222222222, \"#7201a8\"], [0.3333333333333333, \"#9c179e\"], [0.4444444444444444, \"#bd3786\"], [0.5555555555555556, \"#d8576b\"], [0.6666666666666666, \"#ed7953\"], [0.7777777777777778, \"#fb9f3a\"], [0.8888888888888888, \"#fdca26\"], [1.0, \"#f0f921\"]], \"type\": \"surface\"}], \"table\": [{\"cells\": {\"fill\": {\"color\": \"#EBF0F8\"}, \"line\": {\"color\": \"white\"}}, \"header\": {\"fill\": {\"color\": \"#C8D4E3\"}, \"line\": {\"color\": \"white\"}}, \"type\": \"table\"}]}, \"layout\": {\"annotationdefaults\": {\"arrowcolor\": \"#2a3f5f\", \"arrowhead\": 0, \"arrowwidth\": 1}, \"autotypenumbers\": \"strict\", \"coloraxis\": {\"colorbar\": {\"outlinewidth\": 0, \"ticks\": \"\"}}, \"colorscale\": {\"diverging\": [[0, \"#8e0152\"], [0.1, \"#c51b7d\"], [0.2, \"#de77ae\"], [0.3, \"#f1b6da\"], [0.4, \"#fde0ef\"], [0.5, \"#f7f7f7\"], [0.6, \"#e6f5d0\"], [0.7, \"#b8e186\"], [0.8, \"#7fbc41\"], [0.9, \"#4d9221\"], [1, \"#276419\"]], \"sequential\": [[0.0, \"#0d0887\"], [0.1111111111111111, \"#46039f\"], [0.2222222222222222, \"#7201a8\"], [0.3333333333333333, \"#9c179e\"], [0.4444444444444444, \"#bd3786\"], [0.5555555555555556, \"#d8576b\"], [0.6666666666666666, \"#ed7953\"], [0.7777777777777778, \"#fb9f3a\"], [0.8888888888888888, \"#fdca26\"], [1.0, \"#f0f921\"]], \"sequentialminus\": [[0.0, \"#0d0887\"], [0.1111111111111111, \"#46039f\"], [0.2222222222222222, \"#7201a8\"], [0.3333333333333333, \"#9c179e\"], [0.4444444444444444, \"#bd3786\"], [0.5555555555555556, \"#d8576b\"], [0.6666666666666666, \"#ed7953\"], [0.7777777777777778, \"#fb9f3a\"], [0.8888888888888888, \"#fdca26\"], [1.0, \"#f0f921\"]]}, \"colorway\": [\"#636efa\", \"#EF553B\", \"#00cc96\", \"#ab63fa\", \"#FFA15A\", \"#19d3f3\", \"#FF6692\", \"#B6E880\", \"#FF97FF\", \"#FECB52\"], \"font\": {\"color\": \"#2a3f5f\"}, \"geo\": {\"bgcolor\": \"white\", \"lakecolor\": \"white\", \"landcolor\": \"white\", \"showlakes\": true, \"showland\": true, \"subunitcolor\": \"#C8D4E3\"}, \"hoverlabel\": {\"align\": \"left\"}, \"hovermode\": \"closest\", \"mapbox\": {\"style\": \"light\"}, \"paper_bgcolor\": \"white\", \"plot_bgcolor\": \"white\", \"polar\": {\"angularaxis\": {\"gridcolor\": \"#EBF0F8\", \"linecolor\": \"#EBF0F8\", \"ticks\": \"\"}, \"bgcolor\": \"white\", \"radialaxis\": {\"gridcolor\": \"#EBF0F8\", \"linecolor\": \"#EBF0F8\", \"ticks\": \"\"}}, \"scene\": {\"xaxis\": {\"backgroundcolor\": \"white\", \"gridcolor\": \"#DFE8F3\", \"gridwidth\": 2, \"linecolor\": \"#EBF0F8\", \"showbackground\": true, \"ticks\": \"\", \"zerolinecolor\": \"#EBF0F8\"}, \"yaxis\": {\"backgroundcolor\": \"white\", \"gridcolor\": \"#DFE8F3\", \"gridwidth\": 2, \"linecolor\": \"#EBF0F8\", \"showbackground\": true, \"ticks\": \"\", \"zerolinecolor\": \"#EBF0F8\"}, \"zaxis\": {\"backgroundcolor\": \"white\", \"gridcolor\": \"#DFE8F3\", \"gridwidth\": 2, \"linecolor\": \"#EBF0F8\", \"showbackground\": true, \"ticks\": \"\", \"zerolinecolor\": \"#EBF0F8\"}}, \"shapedefaults\": {\"line\": {\"color\": \"#2a3f5f\"}}, \"ternary\": {\"aaxis\": {\"gridcolor\": \"#DFE8F3\", \"linecolor\": \"#A2B1C6\", \"ticks\": \"\"}, \"baxis\": {\"gridcolor\": \"#DFE8F3\", \"linecolor\": \"#A2B1C6\", \"ticks\": \"\"}, \"bgcolor\": \"white\", \"caxis\": {\"gridcolor\": \"#DFE8F3\", \"linecolor\": \"#A2B1C6\", \"ticks\": \"\"}}, \"title\": {\"x\": 0.05}, \"xaxis\": {\"automargin\": true, \"gridcolor\": \"#EBF0F8\", \"linecolor\": \"#EBF0F8\", \"ticks\": \"\", \"title\": {\"standoff\": 15}, \"zerolinecolor\": \"#EBF0F8\", \"zerolinewidth\": 2}, \"yaxis\": {\"automargin\": true, \"gridcolor\": \"#EBF0F8\", \"linecolor\": \"#EBF0F8\", \"ticks\": \"\", \"title\": {\"standoff\": 15}, \"zerolinecolor\": \"#EBF0F8\", \"zerolinewidth\": 2}}}, \"title\": {\"font\": {\"color\": \"black\", \"family\": \"Myriad Pro\", \"size\": 18}, \"text\": \"OD Normalized GFP scaled to the max value\"}, \"width\": 600, \"xaxis\": {\"linecolor\": \"black\", \"linewidth\": 1, \"mirror\": true, \"showgrid\": false, \"showline\": true, \"side\": \"bottom\", \"tickangle\": 0, \"tickcolor\": \"black\", \"tickfont\": {\"color\": \"black\", \"family\": \"Myriad Pro\", \"size\": 16}, \"ticklen\": 4, \"ticks\": \"outside\", \"tickson\": \"boundaries\", \"title\": {\"font\": {\"color\": \"black\", \"family\": \"Myriad Pro\", \"size\": 18}}, \"zeroline\": false}, \"yaxis\": {\"linecolor\": \"black\", \"linewidth\": 1, \"mirror\": true, \"nticks\": 9, \"showgrid\": true, \"showline\": true, \"side\": \"left\", \"tickangle\": 0, \"tickcolor\": \"black\", \"tickfont\": {\"color\": \"black\", \"family\": \"Myriad Pro\", \"size\": 16}, \"ticklen\": 4, \"ticks\": \"outside\", \"title\": {\"font\": {\"color\": \"black\", \"family\": \"Myriad Pro\", \"size\": 18}, \"standoff\": 0, \"text\": \"(a.u.)\"}, \"type\": \"log\", \"zeroline\": false}},                        {\"responsive\": true}                    ).then(function(){\n",
       "                            \n",
       "var gd = document.getElementById('6d961124-0519-4a1d-bec1-ffb30af1986b');\n",
       "var x = new MutationObserver(function (mutations, observer) {{\n",
       "        var display = window.getComputedStyle(gd).display;\n",
       "        if (!display || display === 'none') {{\n",
       "            console.log([gd, 'removed!']);\n",
       "            Plotly.purge(gd);\n",
       "            observer.disconnect();\n",
       "        }}\n",
       "}});\n",
       "\n",
       "// Listen for the removal of the full notebook cells\n",
       "var notebookContainer = gd.closest('#notebook-container');\n",
       "if (notebookContainer) {{\n",
       "    x.observe(notebookContainer, {childList: true});\n",
       "}}\n",
       "\n",
       "// Listen for the clearing of the current output cell\n",
       "var outputEl = gd.closest('.output');\n",
       "if (outputEl) {{\n",
       "    x.observe(outputEl, {childList: true});\n",
       "}}\n",
       "\n",
       "                        })                };                });            </script>        </div>"
      ]
     },
     "metadata": {},
     "output_type": "display_data"
    },
    {
     "data": {
      "application/vnd.plotly.v1+json": {
       "config": {
        "linkText": "Export to plot.ly",
        "plotlyServerURL": "https://plot.ly",
        "showLink": false
       },
       "data": [
        {
         "error_y": {
          "array": [
           361.4931386893695,
           139.34405419287205,
           239.58535804684615,
           61.38645175406865
          ],
          "color": "black",
          "thickness": 1.5,
          "type": "data",
          "width": 3
         },
         "legendgroup": "1",
         "marker": {
          "color": "rgb(172,220,173)",
          "line": {
           "width": 0
          }
         },
         "name": "RBS Level: 1",
         "showlegend": true,
         "type": "bar",
         "x": [
          "Degradation<br>Level 0",
          "Degradation<br>Level 1",
          "Degradation<br>Level 2",
          "Degradation<br>Level 3"
         ],
         "y": [
          3245.6396932245125,
          1621.795297105351,
          1016.7283627277826,
          1151.2679117895404
         ]
        },
        {
         "error_y": {
          "array": [
           147.13721674009508,
           862.6840826460053,
           263.1666802941561,
           366.7376717235931
          ],
          "color": "black",
          "thickness": 1.5,
          "type": "data",
          "width": 3
         },
         "legendgroup": "2",
         "marker": {
          "color": "rgb(130,203,133)",
          "line": {
           "width": 0
          }
         },
         "name": "RBS Level: 2",
         "showlegend": true,
         "type": "bar",
         "x": [
          "Degradation<br>Level 0",
          "Degradation<br>Level 1",
          "Degradation<br>Level 2",
          "Degradation<br>Level 3"
         ],
         "y": [
          6087.220112131129,
          2865.7452159827976,
          2039.4154009721951,
          1662.950278690575
         ]
        },
        {
         "error_y": {
          "array": [
           986.7269530998902,
           311.5033875651249,
           1026.7124739782284,
           665.9776537454251
          ],
          "color": "black",
          "thickness": 1.5,
          "type": "data",
          "width": 3
         },
         "legendgroup": "3",
         "marker": {
          "color": "rgb(89,185,92)",
          "line": {
           "width": 0
          }
         },
         "name": "RBS Level: 3",
         "showlegend": true,
         "type": "bar",
         "x": [
          "Degradation<br>Level 0",
          "Degradation<br>Level 1",
          "Degradation<br>Level 2",
          "Degradation<br>Level 3"
         ],
         "y": [
          10646.957757476153,
          10506.975401992178,
          8487.422357209425,
          6049.040902094691
         ]
        },
        {
         "error_y": {
          "array": [
           1056.6941369140648,
           1962.7716335999953,
           1517.6185456885898,
           371.58497978358605
          ],
          "color": "black",
          "thickness": 1.5,
          "type": "data",
          "width": 3
         },
         "legendgroup": "4",
         "marker": {
          "color": "rgb(63,152,66)",
          "line": {
           "width": 0
          }
         },
         "name": "RBS Level: 4",
         "showlegend": true,
         "type": "bar",
         "x": [
          "Degradation<br>Level 0",
          "Degradation<br>Level 1",
          "Degradation<br>Level 2",
          "Degradation<br>Level 3"
         ],
         "y": [
          12653.879732780746,
          13677.185904081307,
          12187.86382093441,
          10011.307028360625
         ]
        },
        {
         "error_y": {
          "array": [
           651.1819544434265,
           598.3324333252768,
           581.3898161811932,
           429.00761337246837
          ],
          "color": "black",
          "thickness": 1.5,
          "type": "data",
          "width": 3
         },
         "legendgroup": "5",
         "marker": {
          "color": "rgb(46,110,48)",
          "line": {
           "width": 0
          }
         },
         "name": "RBS Level: 5",
         "showlegend": true,
         "type": "bar",
         "x": [
          "Degradation<br>Level 0",
          "Degradation<br>Level 1",
          "Degradation<br>Level 2",
          "Degradation<br>Level 3"
         ],
         "y": [
          9056.446447322374,
          7330.301294952266,
          6145.477944829756,
          4753.579388671762
         ]
        }
       ],
       "layout": {
        "bargap": 0.2,
        "bargroupgap": 0.1,
        "height": 450,
        "legend": {
         "font": {
          "color": "black",
          "family": "Myriad Pro",
          "size": 16
         },
         "orientation": "h",
         "x": 0.02,
         "y": -0.2
        },
        "template": {
         "data": {
          "bar": [
           {
            "error_x": {
             "color": "#2a3f5f"
            },
            "error_y": {
             "color": "#2a3f5f"
            },
            "marker": {
             "line": {
              "color": "white",
              "width": 0.5
             }
            },
            "type": "bar"
           }
          ],
          "barpolar": [
           {
            "marker": {
             "line": {
              "color": "white",
              "width": 0.5
             }
            },
            "type": "barpolar"
           }
          ],
          "carpet": [
           {
            "aaxis": {
             "endlinecolor": "#2a3f5f",
             "gridcolor": "#C8D4E3",
             "linecolor": "#C8D4E3",
             "minorgridcolor": "#C8D4E3",
             "startlinecolor": "#2a3f5f"
            },
            "baxis": {
             "endlinecolor": "#2a3f5f",
             "gridcolor": "#C8D4E3",
             "linecolor": "#C8D4E3",
             "minorgridcolor": "#C8D4E3",
             "startlinecolor": "#2a3f5f"
            },
            "type": "carpet"
           }
          ],
          "choropleth": [
           {
            "colorbar": {
             "outlinewidth": 0,
             "ticks": ""
            },
            "type": "choropleth"
           }
          ],
          "contour": [
           {
            "colorbar": {
             "outlinewidth": 0,
             "ticks": ""
            },
            "colorscale": [
             [
              0,
              "#0d0887"
             ],
             [
              0.1111111111111111,
              "#46039f"
             ],
             [
              0.2222222222222222,
              "#7201a8"
             ],
             [
              0.3333333333333333,
              "#9c179e"
             ],
             [
              0.4444444444444444,
              "#bd3786"
             ],
             [
              0.5555555555555556,
              "#d8576b"
             ],
             [
              0.6666666666666666,
              "#ed7953"
             ],
             [
              0.7777777777777778,
              "#fb9f3a"
             ],
             [
              0.8888888888888888,
              "#fdca26"
             ],
             [
              1,
              "#f0f921"
             ]
            ],
            "type": "contour"
           }
          ],
          "contourcarpet": [
           {
            "colorbar": {
             "outlinewidth": 0,
             "ticks": ""
            },
            "type": "contourcarpet"
           }
          ],
          "heatmap": [
           {
            "colorbar": {
             "outlinewidth": 0,
             "ticks": ""
            },
            "colorscale": [
             [
              0,
              "#0d0887"
             ],
             [
              0.1111111111111111,
              "#46039f"
             ],
             [
              0.2222222222222222,
              "#7201a8"
             ],
             [
              0.3333333333333333,
              "#9c179e"
             ],
             [
              0.4444444444444444,
              "#bd3786"
             ],
             [
              0.5555555555555556,
              "#d8576b"
             ],
             [
              0.6666666666666666,
              "#ed7953"
             ],
             [
              0.7777777777777778,
              "#fb9f3a"
             ],
             [
              0.8888888888888888,
              "#fdca26"
             ],
             [
              1,
              "#f0f921"
             ]
            ],
            "type": "heatmap"
           }
          ],
          "heatmapgl": [
           {
            "colorbar": {
             "outlinewidth": 0,
             "ticks": ""
            },
            "colorscale": [
             [
              0,
              "#0d0887"
             ],
             [
              0.1111111111111111,
              "#46039f"
             ],
             [
              0.2222222222222222,
              "#7201a8"
             ],
             [
              0.3333333333333333,
              "#9c179e"
             ],
             [
              0.4444444444444444,
              "#bd3786"
             ],
             [
              0.5555555555555556,
              "#d8576b"
             ],
             [
              0.6666666666666666,
              "#ed7953"
             ],
             [
              0.7777777777777778,
              "#fb9f3a"
             ],
             [
              0.8888888888888888,
              "#fdca26"
             ],
             [
              1,
              "#f0f921"
             ]
            ],
            "type": "heatmapgl"
           }
          ],
          "histogram": [
           {
            "marker": {
             "colorbar": {
              "outlinewidth": 0,
              "ticks": ""
             }
            },
            "type": "histogram"
           }
          ],
          "histogram2d": [
           {
            "colorbar": {
             "outlinewidth": 0,
             "ticks": ""
            },
            "colorscale": [
             [
              0,
              "#0d0887"
             ],
             [
              0.1111111111111111,
              "#46039f"
             ],
             [
              0.2222222222222222,
              "#7201a8"
             ],
             [
              0.3333333333333333,
              "#9c179e"
             ],
             [
              0.4444444444444444,
              "#bd3786"
             ],
             [
              0.5555555555555556,
              "#d8576b"
             ],
             [
              0.6666666666666666,
              "#ed7953"
             ],
             [
              0.7777777777777778,
              "#fb9f3a"
             ],
             [
              0.8888888888888888,
              "#fdca26"
             ],
             [
              1,
              "#f0f921"
             ]
            ],
            "type": "histogram2d"
           }
          ],
          "histogram2dcontour": [
           {
            "colorbar": {
             "outlinewidth": 0,
             "ticks": ""
            },
            "colorscale": [
             [
              0,
              "#0d0887"
             ],
             [
              0.1111111111111111,
              "#46039f"
             ],
             [
              0.2222222222222222,
              "#7201a8"
             ],
             [
              0.3333333333333333,
              "#9c179e"
             ],
             [
              0.4444444444444444,
              "#bd3786"
             ],
             [
              0.5555555555555556,
              "#d8576b"
             ],
             [
              0.6666666666666666,
              "#ed7953"
             ],
             [
              0.7777777777777778,
              "#fb9f3a"
             ],
             [
              0.8888888888888888,
              "#fdca26"
             ],
             [
              1,
              "#f0f921"
             ]
            ],
            "type": "histogram2dcontour"
           }
          ],
          "mesh3d": [
           {
            "colorbar": {
             "outlinewidth": 0,
             "ticks": ""
            },
            "type": "mesh3d"
           }
          ],
          "parcoords": [
           {
            "line": {
             "colorbar": {
              "outlinewidth": 0,
              "ticks": ""
             }
            },
            "type": "parcoords"
           }
          ],
          "pie": [
           {
            "automargin": true,
            "type": "pie"
           }
          ],
          "scatter": [
           {
            "marker": {
             "colorbar": {
              "outlinewidth": 0,
              "ticks": ""
             }
            },
            "type": "scatter"
           }
          ],
          "scatter3d": [
           {
            "line": {
             "colorbar": {
              "outlinewidth": 0,
              "ticks": ""
             }
            },
            "marker": {
             "colorbar": {
              "outlinewidth": 0,
              "ticks": ""
             }
            },
            "type": "scatter3d"
           }
          ],
          "scattercarpet": [
           {
            "marker": {
             "colorbar": {
              "outlinewidth": 0,
              "ticks": ""
             }
            },
            "type": "scattercarpet"
           }
          ],
          "scattergeo": [
           {
            "marker": {
             "colorbar": {
              "outlinewidth": 0,
              "ticks": ""
             }
            },
            "type": "scattergeo"
           }
          ],
          "scattergl": [
           {
            "marker": {
             "colorbar": {
              "outlinewidth": 0,
              "ticks": ""
             }
            },
            "type": "scattergl"
           }
          ],
          "scattermapbox": [
           {
            "marker": {
             "colorbar": {
              "outlinewidth": 0,
              "ticks": ""
             }
            },
            "type": "scattermapbox"
           }
          ],
          "scatterpolar": [
           {
            "marker": {
             "colorbar": {
              "outlinewidth": 0,
              "ticks": ""
             }
            },
            "type": "scatterpolar"
           }
          ],
          "scatterpolargl": [
           {
            "marker": {
             "colorbar": {
              "outlinewidth": 0,
              "ticks": ""
             }
            },
            "type": "scatterpolargl"
           }
          ],
          "scatterternary": [
           {
            "marker": {
             "colorbar": {
              "outlinewidth": 0,
              "ticks": ""
             }
            },
            "type": "scatterternary"
           }
          ],
          "surface": [
           {
            "colorbar": {
             "outlinewidth": 0,
             "ticks": ""
            },
            "colorscale": [
             [
              0,
              "#0d0887"
             ],
             [
              0.1111111111111111,
              "#46039f"
             ],
             [
              0.2222222222222222,
              "#7201a8"
             ],
             [
              0.3333333333333333,
              "#9c179e"
             ],
             [
              0.4444444444444444,
              "#bd3786"
             ],
             [
              0.5555555555555556,
              "#d8576b"
             ],
             [
              0.6666666666666666,
              "#ed7953"
             ],
             [
              0.7777777777777778,
              "#fb9f3a"
             ],
             [
              0.8888888888888888,
              "#fdca26"
             ],
             [
              1,
              "#f0f921"
             ]
            ],
            "type": "surface"
           }
          ],
          "table": [
           {
            "cells": {
             "fill": {
              "color": "#EBF0F8"
             },
             "line": {
              "color": "white"
             }
            },
            "header": {
             "fill": {
              "color": "#C8D4E3"
             },
             "line": {
              "color": "white"
             }
            },
            "type": "table"
           }
          ]
         },
         "layout": {
          "annotationdefaults": {
           "arrowcolor": "#2a3f5f",
           "arrowhead": 0,
           "arrowwidth": 1
          },
          "autotypenumbers": "strict",
          "coloraxis": {
           "colorbar": {
            "outlinewidth": 0,
            "ticks": ""
           }
          },
          "colorscale": {
           "diverging": [
            [
             0,
             "#8e0152"
            ],
            [
             0.1,
             "#c51b7d"
            ],
            [
             0.2,
             "#de77ae"
            ],
            [
             0.3,
             "#f1b6da"
            ],
            [
             0.4,
             "#fde0ef"
            ],
            [
             0.5,
             "#f7f7f7"
            ],
            [
             0.6,
             "#e6f5d0"
            ],
            [
             0.7,
             "#b8e186"
            ],
            [
             0.8,
             "#7fbc41"
            ],
            [
             0.9,
             "#4d9221"
            ],
            [
             1,
             "#276419"
            ]
           ],
           "sequential": [
            [
             0,
             "#0d0887"
            ],
            [
             0.1111111111111111,
             "#46039f"
            ],
            [
             0.2222222222222222,
             "#7201a8"
            ],
            [
             0.3333333333333333,
             "#9c179e"
            ],
            [
             0.4444444444444444,
             "#bd3786"
            ],
            [
             0.5555555555555556,
             "#d8576b"
            ],
            [
             0.6666666666666666,
             "#ed7953"
            ],
            [
             0.7777777777777778,
             "#fb9f3a"
            ],
            [
             0.8888888888888888,
             "#fdca26"
            ],
            [
             1,
             "#f0f921"
            ]
           ],
           "sequentialminus": [
            [
             0,
             "#0d0887"
            ],
            [
             0.1111111111111111,
             "#46039f"
            ],
            [
             0.2222222222222222,
             "#7201a8"
            ],
            [
             0.3333333333333333,
             "#9c179e"
            ],
            [
             0.4444444444444444,
             "#bd3786"
            ],
            [
             0.5555555555555556,
             "#d8576b"
            ],
            [
             0.6666666666666666,
             "#ed7953"
            ],
            [
             0.7777777777777778,
             "#fb9f3a"
            ],
            [
             0.8888888888888888,
             "#fdca26"
            ],
            [
             1,
             "#f0f921"
            ]
           ]
          },
          "colorway": [
           "#636efa",
           "#EF553B",
           "#00cc96",
           "#ab63fa",
           "#FFA15A",
           "#19d3f3",
           "#FF6692",
           "#B6E880",
           "#FF97FF",
           "#FECB52"
          ],
          "font": {
           "color": "#2a3f5f"
          },
          "geo": {
           "bgcolor": "white",
           "lakecolor": "white",
           "landcolor": "white",
           "showlakes": true,
           "showland": true,
           "subunitcolor": "#C8D4E3"
          },
          "hoverlabel": {
           "align": "left"
          },
          "hovermode": "closest",
          "mapbox": {
           "style": "light"
          },
          "paper_bgcolor": "white",
          "plot_bgcolor": "white",
          "polar": {
           "angularaxis": {
            "gridcolor": "#EBF0F8",
            "linecolor": "#EBF0F8",
            "ticks": ""
           },
           "bgcolor": "white",
           "radialaxis": {
            "gridcolor": "#EBF0F8",
            "linecolor": "#EBF0F8",
            "ticks": ""
           }
          },
          "scene": {
           "xaxis": {
            "backgroundcolor": "white",
            "gridcolor": "#DFE8F3",
            "gridwidth": 2,
            "linecolor": "#EBF0F8",
            "showbackground": true,
            "ticks": "",
            "zerolinecolor": "#EBF0F8"
           },
           "yaxis": {
            "backgroundcolor": "white",
            "gridcolor": "#DFE8F3",
            "gridwidth": 2,
            "linecolor": "#EBF0F8",
            "showbackground": true,
            "ticks": "",
            "zerolinecolor": "#EBF0F8"
           },
           "zaxis": {
            "backgroundcolor": "white",
            "gridcolor": "#DFE8F3",
            "gridwidth": 2,
            "linecolor": "#EBF0F8",
            "showbackground": true,
            "ticks": "",
            "zerolinecolor": "#EBF0F8"
           }
          },
          "shapedefaults": {
           "line": {
            "color": "#2a3f5f"
           }
          },
          "ternary": {
           "aaxis": {
            "gridcolor": "#DFE8F3",
            "linecolor": "#A2B1C6",
            "ticks": ""
           },
           "baxis": {
            "gridcolor": "#DFE8F3",
            "linecolor": "#A2B1C6",
            "ticks": ""
           },
           "bgcolor": "white",
           "caxis": {
            "gridcolor": "#DFE8F3",
            "linecolor": "#A2B1C6",
            "ticks": ""
           }
          },
          "title": {
           "x": 0.05
          },
          "xaxis": {
           "automargin": true,
           "gridcolor": "#EBF0F8",
           "linecolor": "#EBF0F8",
           "ticks": "",
           "title": {
            "standoff": 15
           },
           "zerolinecolor": "#EBF0F8",
           "zerolinewidth": 2
          },
          "yaxis": {
           "automargin": true,
           "gridcolor": "#EBF0F8",
           "linecolor": "#EBF0F8",
           "ticks": "",
           "title": {
            "standoff": 15
           },
           "zerolinecolor": "#EBF0F8",
           "zerolinewidth": 2
          }
         }
        },
        "title": {
         "font": {
          "color": "black",
          "family": "Myriad Pro",
          "size": 16
         },
         "text": "OD Normalized GFP "
        },
        "width": 600,
        "xaxis": {
         "linecolor": "black",
         "linewidth": 1,
         "mirror": true,
         "showgrid": false,
         "showline": true,
         "side": "bottom",
         "tickangle": 0,
         "tickcolor": "black",
         "tickfont": {
          "color": "black",
          "family": "Myriad Pro",
          "size": 16
         },
         "ticklen": 4,
         "ticks": "outside",
         "tickson": "boundaries",
         "title": {
          "font": {
           "color": "black",
           "family": "Myriad Pro",
           "size": 18
          }
         },
         "zeroline": false
        },
        "yaxis": {
         "linecolor": "black",
         "linewidth": 1,
         "mirror": true,
         "nticks": 9,
         "showgrid": true,
         "showline": true,
         "side": "left",
         "tickangle": 0,
         "tickcolor": "black",
         "tickfont": {
          "color": "black",
          "family": "Myriad Pro",
          "size": 16
         },
         "ticklen": 4,
         "ticks": "outside",
         "title": {
          "font": {
           "color": "black",
           "family": "Myriad Pro",
           "size": 18
          },
          "standoff": 0,
          "text": "(a.u.)"
         },
         "type": "log",
         "zeroline": false
        }
       }
      },
      "text/html": [
       "<div>                            <div id=\"8599c584-f86a-4c21-a7af-8fe94ca582cf\" class=\"plotly-graph-div\" style=\"height:450px; width:600px;\"></div>            <script type=\"text/javascript\">                require([\"plotly\"], function(Plotly) {                    window.PLOTLYENV=window.PLOTLYENV || {};                                    if (document.getElementById(\"8599c584-f86a-4c21-a7af-8fe94ca582cf\")) {                    Plotly.newPlot(                        \"8599c584-f86a-4c21-a7af-8fe94ca582cf\",                        [{\"error_y\": {\"array\": [361.4931386893695, 139.34405419287205, 239.58535804684615, 61.38645175406865], \"color\": \"black\", \"thickness\": 1.5, \"type\": \"data\", \"width\": 3}, \"legendgroup\": \"1\", \"marker\": {\"color\": \"rgb(172,220,173)\", \"line\": {\"width\": 0}}, \"name\": \"RBS Level: 1\", \"showlegend\": true, \"type\": \"bar\", \"x\": [\"Degradation<br>Level 0\", \"Degradation<br>Level 1\", \"Degradation<br>Level 2\", \"Degradation<br>Level 3\"], \"y\": [3245.6396932245125, 1621.795297105351, 1016.7283627277826, 1151.2679117895404]}, {\"error_y\": {\"array\": [147.13721674009508, 862.6840826460053, 263.1666802941561, 366.7376717235931], \"color\": \"black\", \"thickness\": 1.5, \"type\": \"data\", \"width\": 3}, \"legendgroup\": \"2\", \"marker\": {\"color\": \"rgb(130,203,133)\", \"line\": {\"width\": 0}}, \"name\": \"RBS Level: 2\", \"showlegend\": true, \"type\": \"bar\", \"x\": [\"Degradation<br>Level 0\", \"Degradation<br>Level 1\", \"Degradation<br>Level 2\", \"Degradation<br>Level 3\"], \"y\": [6087.220112131129, 2865.7452159827976, 2039.4154009721951, 1662.950278690575]}, {\"error_y\": {\"array\": [986.7269530998902, 311.5033875651249, 1026.7124739782284, 665.9776537454251], \"color\": \"black\", \"thickness\": 1.5, \"type\": \"data\", \"width\": 3}, \"legendgroup\": \"3\", \"marker\": {\"color\": \"rgb(89,185,92)\", \"line\": {\"width\": 0}}, \"name\": \"RBS Level: 3\", \"showlegend\": true, \"type\": \"bar\", \"x\": [\"Degradation<br>Level 0\", \"Degradation<br>Level 1\", \"Degradation<br>Level 2\", \"Degradation<br>Level 3\"], \"y\": [10646.957757476153, 10506.975401992178, 8487.422357209425, 6049.040902094691]}, {\"error_y\": {\"array\": [1056.6941369140648, 1962.7716335999953, 1517.6185456885898, 371.58497978358605], \"color\": \"black\", \"thickness\": 1.5, \"type\": \"data\", \"width\": 3}, \"legendgroup\": \"4\", \"marker\": {\"color\": \"rgb(63,152,66)\", \"line\": {\"width\": 0}}, \"name\": \"RBS Level: 4\", \"showlegend\": true, \"type\": \"bar\", \"x\": [\"Degradation<br>Level 0\", \"Degradation<br>Level 1\", \"Degradation<br>Level 2\", \"Degradation<br>Level 3\"], \"y\": [12653.879732780746, 13677.185904081307, 12187.86382093441, 10011.307028360625]}, {\"error_y\": {\"array\": [651.1819544434265, 598.3324333252768, 581.3898161811932, 429.00761337246837], \"color\": \"black\", \"thickness\": 1.5, \"type\": \"data\", \"width\": 3}, \"legendgroup\": \"5\", \"marker\": {\"color\": \"rgb(46,110,48)\", \"line\": {\"width\": 0}}, \"name\": \"RBS Level: 5\", \"showlegend\": true, \"type\": \"bar\", \"x\": [\"Degradation<br>Level 0\", \"Degradation<br>Level 1\", \"Degradation<br>Level 2\", \"Degradation<br>Level 3\"], \"y\": [9056.446447322374, 7330.301294952266, 6145.477944829756, 4753.579388671762]}],                        {\"bargap\": 0.2, \"bargroupgap\": 0.1, \"height\": 450, \"legend\": {\"font\": {\"color\": \"black\", \"family\": \"Myriad Pro\", \"size\": 16}, \"orientation\": \"h\", \"x\": 0.02, \"y\": -0.2}, \"template\": {\"data\": {\"bar\": [{\"error_x\": {\"color\": \"#2a3f5f\"}, \"error_y\": {\"color\": \"#2a3f5f\"}, \"marker\": {\"line\": {\"color\": \"white\", \"width\": 0.5}}, \"type\": \"bar\"}], \"barpolar\": [{\"marker\": {\"line\": {\"color\": \"white\", \"width\": 0.5}}, \"type\": \"barpolar\"}], \"carpet\": [{\"aaxis\": {\"endlinecolor\": \"#2a3f5f\", \"gridcolor\": \"#C8D4E3\", \"linecolor\": \"#C8D4E3\", \"minorgridcolor\": \"#C8D4E3\", \"startlinecolor\": \"#2a3f5f\"}, \"baxis\": {\"endlinecolor\": \"#2a3f5f\", \"gridcolor\": \"#C8D4E3\", \"linecolor\": \"#C8D4E3\", \"minorgridcolor\": \"#C8D4E3\", \"startlinecolor\": \"#2a3f5f\"}, \"type\": \"carpet\"}], \"choropleth\": [{\"colorbar\": {\"outlinewidth\": 0, \"ticks\": \"\"}, \"type\": \"choropleth\"}], \"contour\": [{\"colorbar\": {\"outlinewidth\": 0, \"ticks\": \"\"}, \"colorscale\": [[0.0, \"#0d0887\"], [0.1111111111111111, \"#46039f\"], [0.2222222222222222, \"#7201a8\"], [0.3333333333333333, \"#9c179e\"], [0.4444444444444444, \"#bd3786\"], [0.5555555555555556, \"#d8576b\"], [0.6666666666666666, \"#ed7953\"], [0.7777777777777778, \"#fb9f3a\"], [0.8888888888888888, \"#fdca26\"], [1.0, \"#f0f921\"]], \"type\": \"contour\"}], \"contourcarpet\": [{\"colorbar\": {\"outlinewidth\": 0, \"ticks\": \"\"}, \"type\": \"contourcarpet\"}], \"heatmap\": [{\"colorbar\": {\"outlinewidth\": 0, \"ticks\": \"\"}, \"colorscale\": [[0.0, \"#0d0887\"], [0.1111111111111111, \"#46039f\"], [0.2222222222222222, \"#7201a8\"], [0.3333333333333333, \"#9c179e\"], [0.4444444444444444, \"#bd3786\"], [0.5555555555555556, \"#d8576b\"], [0.6666666666666666, \"#ed7953\"], [0.7777777777777778, \"#fb9f3a\"], [0.8888888888888888, \"#fdca26\"], [1.0, \"#f0f921\"]], \"type\": \"heatmap\"}], \"heatmapgl\": [{\"colorbar\": {\"outlinewidth\": 0, \"ticks\": \"\"}, \"colorscale\": [[0.0, \"#0d0887\"], [0.1111111111111111, \"#46039f\"], [0.2222222222222222, \"#7201a8\"], [0.3333333333333333, \"#9c179e\"], [0.4444444444444444, \"#bd3786\"], [0.5555555555555556, \"#d8576b\"], [0.6666666666666666, \"#ed7953\"], [0.7777777777777778, \"#fb9f3a\"], [0.8888888888888888, \"#fdca26\"], [1.0, \"#f0f921\"]], \"type\": \"heatmapgl\"}], \"histogram\": [{\"marker\": {\"colorbar\": {\"outlinewidth\": 0, \"ticks\": \"\"}}, \"type\": \"histogram\"}], \"histogram2d\": [{\"colorbar\": {\"outlinewidth\": 0, \"ticks\": \"\"}, \"colorscale\": [[0.0, \"#0d0887\"], [0.1111111111111111, \"#46039f\"], [0.2222222222222222, \"#7201a8\"], [0.3333333333333333, \"#9c179e\"], [0.4444444444444444, \"#bd3786\"], [0.5555555555555556, \"#d8576b\"], [0.6666666666666666, \"#ed7953\"], [0.7777777777777778, \"#fb9f3a\"], [0.8888888888888888, \"#fdca26\"], [1.0, \"#f0f921\"]], \"type\": \"histogram2d\"}], \"histogram2dcontour\": [{\"colorbar\": {\"outlinewidth\": 0, \"ticks\": \"\"}, \"colorscale\": [[0.0, \"#0d0887\"], [0.1111111111111111, \"#46039f\"], [0.2222222222222222, \"#7201a8\"], [0.3333333333333333, \"#9c179e\"], [0.4444444444444444, \"#bd3786\"], [0.5555555555555556, \"#d8576b\"], [0.6666666666666666, \"#ed7953\"], [0.7777777777777778, \"#fb9f3a\"], [0.8888888888888888, \"#fdca26\"], [1.0, \"#f0f921\"]], \"type\": \"histogram2dcontour\"}], \"mesh3d\": [{\"colorbar\": {\"outlinewidth\": 0, \"ticks\": \"\"}, \"type\": \"mesh3d\"}], \"parcoords\": [{\"line\": {\"colorbar\": {\"outlinewidth\": 0, \"ticks\": \"\"}}, \"type\": \"parcoords\"}], \"pie\": [{\"automargin\": true, \"type\": \"pie\"}], \"scatter\": [{\"marker\": {\"colorbar\": {\"outlinewidth\": 0, \"ticks\": \"\"}}, \"type\": \"scatter\"}], \"scatter3d\": [{\"line\": {\"colorbar\": {\"outlinewidth\": 0, \"ticks\": \"\"}}, \"marker\": {\"colorbar\": {\"outlinewidth\": 0, \"ticks\": \"\"}}, \"type\": \"scatter3d\"}], \"scattercarpet\": [{\"marker\": {\"colorbar\": {\"outlinewidth\": 0, \"ticks\": \"\"}}, \"type\": \"scattercarpet\"}], \"scattergeo\": [{\"marker\": {\"colorbar\": {\"outlinewidth\": 0, \"ticks\": \"\"}}, \"type\": \"scattergeo\"}], \"scattergl\": [{\"marker\": {\"colorbar\": {\"outlinewidth\": 0, \"ticks\": \"\"}}, \"type\": \"scattergl\"}], \"scattermapbox\": [{\"marker\": {\"colorbar\": {\"outlinewidth\": 0, \"ticks\": \"\"}}, \"type\": \"scattermapbox\"}], \"scatterpolar\": [{\"marker\": {\"colorbar\": {\"outlinewidth\": 0, \"ticks\": \"\"}}, \"type\": \"scatterpolar\"}], \"scatterpolargl\": [{\"marker\": {\"colorbar\": {\"outlinewidth\": 0, \"ticks\": \"\"}}, \"type\": \"scatterpolargl\"}], \"scatterternary\": [{\"marker\": {\"colorbar\": {\"outlinewidth\": 0, \"ticks\": \"\"}}, \"type\": \"scatterternary\"}], \"surface\": [{\"colorbar\": {\"outlinewidth\": 0, \"ticks\": \"\"}, \"colorscale\": [[0.0, \"#0d0887\"], [0.1111111111111111, \"#46039f\"], [0.2222222222222222, \"#7201a8\"], [0.3333333333333333, \"#9c179e\"], [0.4444444444444444, \"#bd3786\"], [0.5555555555555556, \"#d8576b\"], [0.6666666666666666, \"#ed7953\"], [0.7777777777777778, \"#fb9f3a\"], [0.8888888888888888, \"#fdca26\"], [1.0, \"#f0f921\"]], \"type\": \"surface\"}], \"table\": [{\"cells\": {\"fill\": {\"color\": \"#EBF0F8\"}, \"line\": {\"color\": \"white\"}}, \"header\": {\"fill\": {\"color\": \"#C8D4E3\"}, \"line\": {\"color\": \"white\"}}, \"type\": \"table\"}]}, \"layout\": {\"annotationdefaults\": {\"arrowcolor\": \"#2a3f5f\", \"arrowhead\": 0, \"arrowwidth\": 1}, \"autotypenumbers\": \"strict\", \"coloraxis\": {\"colorbar\": {\"outlinewidth\": 0, \"ticks\": \"\"}}, \"colorscale\": {\"diverging\": [[0, \"#8e0152\"], [0.1, \"#c51b7d\"], [0.2, \"#de77ae\"], [0.3, \"#f1b6da\"], [0.4, \"#fde0ef\"], [0.5, \"#f7f7f7\"], [0.6, \"#e6f5d0\"], [0.7, \"#b8e186\"], [0.8, \"#7fbc41\"], [0.9, \"#4d9221\"], [1, \"#276419\"]], \"sequential\": [[0.0, \"#0d0887\"], [0.1111111111111111, \"#46039f\"], [0.2222222222222222, \"#7201a8\"], [0.3333333333333333, \"#9c179e\"], [0.4444444444444444, \"#bd3786\"], [0.5555555555555556, \"#d8576b\"], [0.6666666666666666, \"#ed7953\"], [0.7777777777777778, \"#fb9f3a\"], [0.8888888888888888, \"#fdca26\"], [1.0, \"#f0f921\"]], \"sequentialminus\": [[0.0, \"#0d0887\"], [0.1111111111111111, \"#46039f\"], [0.2222222222222222, \"#7201a8\"], [0.3333333333333333, \"#9c179e\"], [0.4444444444444444, \"#bd3786\"], [0.5555555555555556, \"#d8576b\"], [0.6666666666666666, \"#ed7953\"], [0.7777777777777778, \"#fb9f3a\"], [0.8888888888888888, \"#fdca26\"], [1.0, \"#f0f921\"]]}, \"colorway\": [\"#636efa\", \"#EF553B\", \"#00cc96\", \"#ab63fa\", \"#FFA15A\", \"#19d3f3\", \"#FF6692\", \"#B6E880\", \"#FF97FF\", \"#FECB52\"], \"font\": {\"color\": \"#2a3f5f\"}, \"geo\": {\"bgcolor\": \"white\", \"lakecolor\": \"white\", \"landcolor\": \"white\", \"showlakes\": true, \"showland\": true, \"subunitcolor\": \"#C8D4E3\"}, \"hoverlabel\": {\"align\": \"left\"}, \"hovermode\": \"closest\", \"mapbox\": {\"style\": \"light\"}, \"paper_bgcolor\": \"white\", \"plot_bgcolor\": \"white\", \"polar\": {\"angularaxis\": {\"gridcolor\": \"#EBF0F8\", \"linecolor\": \"#EBF0F8\", \"ticks\": \"\"}, \"bgcolor\": \"white\", \"radialaxis\": {\"gridcolor\": \"#EBF0F8\", \"linecolor\": \"#EBF0F8\", \"ticks\": \"\"}}, \"scene\": {\"xaxis\": {\"backgroundcolor\": \"white\", \"gridcolor\": \"#DFE8F3\", \"gridwidth\": 2, \"linecolor\": \"#EBF0F8\", \"showbackground\": true, \"ticks\": \"\", \"zerolinecolor\": \"#EBF0F8\"}, \"yaxis\": {\"backgroundcolor\": \"white\", \"gridcolor\": \"#DFE8F3\", \"gridwidth\": 2, \"linecolor\": \"#EBF0F8\", \"showbackground\": true, \"ticks\": \"\", \"zerolinecolor\": \"#EBF0F8\"}, \"zaxis\": {\"backgroundcolor\": \"white\", \"gridcolor\": \"#DFE8F3\", \"gridwidth\": 2, \"linecolor\": \"#EBF0F8\", \"showbackground\": true, \"ticks\": \"\", \"zerolinecolor\": \"#EBF0F8\"}}, \"shapedefaults\": {\"line\": {\"color\": \"#2a3f5f\"}}, \"ternary\": {\"aaxis\": {\"gridcolor\": \"#DFE8F3\", \"linecolor\": \"#A2B1C6\", \"ticks\": \"\"}, \"baxis\": {\"gridcolor\": \"#DFE8F3\", \"linecolor\": \"#A2B1C6\", \"ticks\": \"\"}, \"bgcolor\": \"white\", \"caxis\": {\"gridcolor\": \"#DFE8F3\", \"linecolor\": \"#A2B1C6\", \"ticks\": \"\"}}, \"title\": {\"x\": 0.05}, \"xaxis\": {\"automargin\": true, \"gridcolor\": \"#EBF0F8\", \"linecolor\": \"#EBF0F8\", \"ticks\": \"\", \"title\": {\"standoff\": 15}, \"zerolinecolor\": \"#EBF0F8\", \"zerolinewidth\": 2}, \"yaxis\": {\"automargin\": true, \"gridcolor\": \"#EBF0F8\", \"linecolor\": \"#EBF0F8\", \"ticks\": \"\", \"title\": {\"standoff\": 15}, \"zerolinecolor\": \"#EBF0F8\", \"zerolinewidth\": 2}}}, \"title\": {\"font\": {\"color\": \"black\", \"family\": \"Myriad Pro\", \"size\": 16}, \"text\": \"OD Normalized GFP \"}, \"width\": 600, \"xaxis\": {\"linecolor\": \"black\", \"linewidth\": 1, \"mirror\": true, \"showgrid\": false, \"showline\": true, \"side\": \"bottom\", \"tickangle\": 0, \"tickcolor\": \"black\", \"tickfont\": {\"color\": \"black\", \"family\": \"Myriad Pro\", \"size\": 16}, \"ticklen\": 4, \"ticks\": \"outside\", \"tickson\": \"boundaries\", \"title\": {\"font\": {\"color\": \"black\", \"family\": \"Myriad Pro\", \"size\": 18}}, \"zeroline\": false}, \"yaxis\": {\"linecolor\": \"black\", \"linewidth\": 1, \"mirror\": true, \"nticks\": 9, \"showgrid\": true, \"showline\": true, \"side\": \"left\", \"tickangle\": 0, \"tickcolor\": \"black\", \"tickfont\": {\"color\": \"black\", \"family\": \"Myriad Pro\", \"size\": 16}, \"ticklen\": 4, \"ticks\": \"outside\", \"title\": {\"font\": {\"color\": \"black\", \"family\": \"Myriad Pro\", \"size\": 18}, \"standoff\": 0, \"text\": \"(a.u.)\"}, \"type\": \"log\", \"zeroline\": false}},                        {\"responsive\": true}                    ).then(function(){\n",
       "                            \n",
       "var gd = document.getElementById('8599c584-f86a-4c21-a7af-8fe94ca582cf');\n",
       "var x = new MutationObserver(function (mutations, observer) {{\n",
       "        var display = window.getComputedStyle(gd).display;\n",
       "        if (!display || display === 'none') {{\n",
       "            console.log([gd, 'removed!']);\n",
       "            Plotly.purge(gd);\n",
       "            observer.disconnect();\n",
       "        }}\n",
       "}});\n",
       "\n",
       "// Listen for the removal of the full notebook cells\n",
       "var notebookContainer = gd.closest('#notebook-container');\n",
       "if (notebookContainer) {{\n",
       "    x.observe(notebookContainer, {childList: true});\n",
       "}}\n",
       "\n",
       "// Listen for the clearing of the current output cell\n",
       "var outputEl = gd.closest('.output');\n",
       "if (outputEl) {{\n",
       "    x.observe(outputEl, {childList: true});\n",
       "}}\n",
       "\n",
       "                        })                };                });            </script>        </div>"
      ]
     },
     "metadata": {},
     "output_type": "display_data"
    },
    {
     "data": {
      "application/vnd.plotly.v1+json": {
       "config": {
        "linkText": "Export to plot.ly",
        "plotlyServerURL": "https://plot.ly",
        "showLink": false
       },
       "data": [
        {
         "error_y": {
          "array": [
           361.4931386893695,
           147.13721674009508,
           986.7269530998902,
           1056.6941369140648,
           651.1819544434265
          ],
          "color": "black",
          "thickness": 1.5,
          "type": "data",
          "width": 3
         },
         "legendgroup": "0",
         "marker": {
          "color": "rgb(218,133,137)",
          "line": {
           "width": 0
          }
         },
         "name": "Degradation Level: 0",
         "showlegend": true,
         "type": "bar",
         "x": [
          "RBS<br>Level 1",
          "RBS<br>Level 2",
          "RBS<br>Level 3",
          "RBS<br>Level 4",
          "RBS<br>Level 5"
         ],
         "y": [
          3245.6396932245125,
          6087.220112131129,
          10646.957757476153,
          12653.879732780746,
          9056.446447322374
         ]
        },
        {
         "error_y": {
          "array": [
           139.34405419287205,
           862.6840826460053,
           311.5033875651249,
           1962.7716335999953,
           598.3324333252768
          ],
          "color": "black",
          "thickness": 1.5,
          "type": "data",
          "width": 3
         },
         "legendgroup": "1",
         "marker": {
          "color": "rgb(205,92,98)",
          "line": {
           "width": 0
          }
         },
         "name": "Degradation Level: 1",
         "showlegend": true,
         "type": "bar",
         "x": [
          "RBS<br>Level 1",
          "RBS<br>Level 2",
          "RBS<br>Level 3",
          "RBS<br>Level 4",
          "RBS<br>Level 5"
         ],
         "y": [
          1621.795297105351,
          2865.7452159827976,
          10506.975401992178,
          13677.185904081307,
          7330.301294952266
         ]
        },
        {
         "error_y": {
          "array": [
           239.58535804684615,
           263.1666802941561,
           1026.7124739782284,
           1517.6185456885898,
           581.3898161811932
          ],
          "color": "black",
          "thickness": 1.5,
          "type": "data",
          "width": 3
         },
         "legendgroup": "2",
         "marker": {
          "color": "rgb(187,57,64)",
          "line": {
           "width": 0
          }
         },
         "name": "Degradation Level: 2",
         "showlegend": true,
         "type": "bar",
         "x": [
          "RBS<br>Level 1",
          "RBS<br>Level 2",
          "RBS<br>Level 3",
          "RBS<br>Level 4",
          "RBS<br>Level 5"
         ],
         "y": [
          1016.7283627277826,
          2039.4154009721951,
          8487.422357209425,
          12187.86382093441,
          6145.477944829756
         ]
        },
        {
         "error_y": {
          "array": [
           61.38645175406865,
           366.7376717235931,
           665.9776537454251,
           371.58497978358605,
           429.00761337246837
          ],
          "color": "black",
          "thickness": 1.5,
          "type": "data",
          "width": 3
         },
         "legendgroup": "3",
         "marker": {
          "color": "rgb(146,45,50)",
          "line": {
           "width": 0
          }
         },
         "name": "Degradation Level: 3",
         "showlegend": true,
         "type": "bar",
         "x": [
          "RBS<br>Level 1",
          "RBS<br>Level 2",
          "RBS<br>Level 3",
          "RBS<br>Level 4",
          "RBS<br>Level 5"
         ],
         "y": [
          1151.2679117895404,
          1662.950278690575,
          6049.040902094691,
          10011.307028360625,
          4753.579388671762
         ]
        }
       ],
       "layout": {
        "bargap": 0.2,
        "bargroupgap": 0.1,
        "height": 450,
        "legend": {
         "font": {
          "color": "black",
          "family": "Myriad Pro",
          "size": 16
         },
         "orientation": "h",
         "x": 0.02,
         "y": -0.2
        },
        "template": {
         "data": {
          "bar": [
           {
            "error_x": {
             "color": "#2a3f5f"
            },
            "error_y": {
             "color": "#2a3f5f"
            },
            "marker": {
             "line": {
              "color": "white",
              "width": 0.5
             }
            },
            "type": "bar"
           }
          ],
          "barpolar": [
           {
            "marker": {
             "line": {
              "color": "white",
              "width": 0.5
             }
            },
            "type": "barpolar"
           }
          ],
          "carpet": [
           {
            "aaxis": {
             "endlinecolor": "#2a3f5f",
             "gridcolor": "#C8D4E3",
             "linecolor": "#C8D4E3",
             "minorgridcolor": "#C8D4E3",
             "startlinecolor": "#2a3f5f"
            },
            "baxis": {
             "endlinecolor": "#2a3f5f",
             "gridcolor": "#C8D4E3",
             "linecolor": "#C8D4E3",
             "minorgridcolor": "#C8D4E3",
             "startlinecolor": "#2a3f5f"
            },
            "type": "carpet"
           }
          ],
          "choropleth": [
           {
            "colorbar": {
             "outlinewidth": 0,
             "ticks": ""
            },
            "type": "choropleth"
           }
          ],
          "contour": [
           {
            "colorbar": {
             "outlinewidth": 0,
             "ticks": ""
            },
            "colorscale": [
             [
              0,
              "#0d0887"
             ],
             [
              0.1111111111111111,
              "#46039f"
             ],
             [
              0.2222222222222222,
              "#7201a8"
             ],
             [
              0.3333333333333333,
              "#9c179e"
             ],
             [
              0.4444444444444444,
              "#bd3786"
             ],
             [
              0.5555555555555556,
              "#d8576b"
             ],
             [
              0.6666666666666666,
              "#ed7953"
             ],
             [
              0.7777777777777778,
              "#fb9f3a"
             ],
             [
              0.8888888888888888,
              "#fdca26"
             ],
             [
              1,
              "#f0f921"
             ]
            ],
            "type": "contour"
           }
          ],
          "contourcarpet": [
           {
            "colorbar": {
             "outlinewidth": 0,
             "ticks": ""
            },
            "type": "contourcarpet"
           }
          ],
          "heatmap": [
           {
            "colorbar": {
             "outlinewidth": 0,
             "ticks": ""
            },
            "colorscale": [
             [
              0,
              "#0d0887"
             ],
             [
              0.1111111111111111,
              "#46039f"
             ],
             [
              0.2222222222222222,
              "#7201a8"
             ],
             [
              0.3333333333333333,
              "#9c179e"
             ],
             [
              0.4444444444444444,
              "#bd3786"
             ],
             [
              0.5555555555555556,
              "#d8576b"
             ],
             [
              0.6666666666666666,
              "#ed7953"
             ],
             [
              0.7777777777777778,
              "#fb9f3a"
             ],
             [
              0.8888888888888888,
              "#fdca26"
             ],
             [
              1,
              "#f0f921"
             ]
            ],
            "type": "heatmap"
           }
          ],
          "heatmapgl": [
           {
            "colorbar": {
             "outlinewidth": 0,
             "ticks": ""
            },
            "colorscale": [
             [
              0,
              "#0d0887"
             ],
             [
              0.1111111111111111,
              "#46039f"
             ],
             [
              0.2222222222222222,
              "#7201a8"
             ],
             [
              0.3333333333333333,
              "#9c179e"
             ],
             [
              0.4444444444444444,
              "#bd3786"
             ],
             [
              0.5555555555555556,
              "#d8576b"
             ],
             [
              0.6666666666666666,
              "#ed7953"
             ],
             [
              0.7777777777777778,
              "#fb9f3a"
             ],
             [
              0.8888888888888888,
              "#fdca26"
             ],
             [
              1,
              "#f0f921"
             ]
            ],
            "type": "heatmapgl"
           }
          ],
          "histogram": [
           {
            "marker": {
             "colorbar": {
              "outlinewidth": 0,
              "ticks": ""
             }
            },
            "type": "histogram"
           }
          ],
          "histogram2d": [
           {
            "colorbar": {
             "outlinewidth": 0,
             "ticks": ""
            },
            "colorscale": [
             [
              0,
              "#0d0887"
             ],
             [
              0.1111111111111111,
              "#46039f"
             ],
             [
              0.2222222222222222,
              "#7201a8"
             ],
             [
              0.3333333333333333,
              "#9c179e"
             ],
             [
              0.4444444444444444,
              "#bd3786"
             ],
             [
              0.5555555555555556,
              "#d8576b"
             ],
             [
              0.6666666666666666,
              "#ed7953"
             ],
             [
              0.7777777777777778,
              "#fb9f3a"
             ],
             [
              0.8888888888888888,
              "#fdca26"
             ],
             [
              1,
              "#f0f921"
             ]
            ],
            "type": "histogram2d"
           }
          ],
          "histogram2dcontour": [
           {
            "colorbar": {
             "outlinewidth": 0,
             "ticks": ""
            },
            "colorscale": [
             [
              0,
              "#0d0887"
             ],
             [
              0.1111111111111111,
              "#46039f"
             ],
             [
              0.2222222222222222,
              "#7201a8"
             ],
             [
              0.3333333333333333,
              "#9c179e"
             ],
             [
              0.4444444444444444,
              "#bd3786"
             ],
             [
              0.5555555555555556,
              "#d8576b"
             ],
             [
              0.6666666666666666,
              "#ed7953"
             ],
             [
              0.7777777777777778,
              "#fb9f3a"
             ],
             [
              0.8888888888888888,
              "#fdca26"
             ],
             [
              1,
              "#f0f921"
             ]
            ],
            "type": "histogram2dcontour"
           }
          ],
          "mesh3d": [
           {
            "colorbar": {
             "outlinewidth": 0,
             "ticks": ""
            },
            "type": "mesh3d"
           }
          ],
          "parcoords": [
           {
            "line": {
             "colorbar": {
              "outlinewidth": 0,
              "ticks": ""
             }
            },
            "type": "parcoords"
           }
          ],
          "pie": [
           {
            "automargin": true,
            "type": "pie"
           }
          ],
          "scatter": [
           {
            "marker": {
             "colorbar": {
              "outlinewidth": 0,
              "ticks": ""
             }
            },
            "type": "scatter"
           }
          ],
          "scatter3d": [
           {
            "line": {
             "colorbar": {
              "outlinewidth": 0,
              "ticks": ""
             }
            },
            "marker": {
             "colorbar": {
              "outlinewidth": 0,
              "ticks": ""
             }
            },
            "type": "scatter3d"
           }
          ],
          "scattercarpet": [
           {
            "marker": {
             "colorbar": {
              "outlinewidth": 0,
              "ticks": ""
             }
            },
            "type": "scattercarpet"
           }
          ],
          "scattergeo": [
           {
            "marker": {
             "colorbar": {
              "outlinewidth": 0,
              "ticks": ""
             }
            },
            "type": "scattergeo"
           }
          ],
          "scattergl": [
           {
            "marker": {
             "colorbar": {
              "outlinewidth": 0,
              "ticks": ""
             }
            },
            "type": "scattergl"
           }
          ],
          "scattermapbox": [
           {
            "marker": {
             "colorbar": {
              "outlinewidth": 0,
              "ticks": ""
             }
            },
            "type": "scattermapbox"
           }
          ],
          "scatterpolar": [
           {
            "marker": {
             "colorbar": {
              "outlinewidth": 0,
              "ticks": ""
             }
            },
            "type": "scatterpolar"
           }
          ],
          "scatterpolargl": [
           {
            "marker": {
             "colorbar": {
              "outlinewidth": 0,
              "ticks": ""
             }
            },
            "type": "scatterpolargl"
           }
          ],
          "scatterternary": [
           {
            "marker": {
             "colorbar": {
              "outlinewidth": 0,
              "ticks": ""
             }
            },
            "type": "scatterternary"
           }
          ],
          "surface": [
           {
            "colorbar": {
             "outlinewidth": 0,
             "ticks": ""
            },
            "colorscale": [
             [
              0,
              "#0d0887"
             ],
             [
              0.1111111111111111,
              "#46039f"
             ],
             [
              0.2222222222222222,
              "#7201a8"
             ],
             [
              0.3333333333333333,
              "#9c179e"
             ],
             [
              0.4444444444444444,
              "#bd3786"
             ],
             [
              0.5555555555555556,
              "#d8576b"
             ],
             [
              0.6666666666666666,
              "#ed7953"
             ],
             [
              0.7777777777777778,
              "#fb9f3a"
             ],
             [
              0.8888888888888888,
              "#fdca26"
             ],
             [
              1,
              "#f0f921"
             ]
            ],
            "type": "surface"
           }
          ],
          "table": [
           {
            "cells": {
             "fill": {
              "color": "#EBF0F8"
             },
             "line": {
              "color": "white"
             }
            },
            "header": {
             "fill": {
              "color": "#C8D4E3"
             },
             "line": {
              "color": "white"
             }
            },
            "type": "table"
           }
          ]
         },
         "layout": {
          "annotationdefaults": {
           "arrowcolor": "#2a3f5f",
           "arrowhead": 0,
           "arrowwidth": 1
          },
          "autotypenumbers": "strict",
          "coloraxis": {
           "colorbar": {
            "outlinewidth": 0,
            "ticks": ""
           }
          },
          "colorscale": {
           "diverging": [
            [
             0,
             "#8e0152"
            ],
            [
             0.1,
             "#c51b7d"
            ],
            [
             0.2,
             "#de77ae"
            ],
            [
             0.3,
             "#f1b6da"
            ],
            [
             0.4,
             "#fde0ef"
            ],
            [
             0.5,
             "#f7f7f7"
            ],
            [
             0.6,
             "#e6f5d0"
            ],
            [
             0.7,
             "#b8e186"
            ],
            [
             0.8,
             "#7fbc41"
            ],
            [
             0.9,
             "#4d9221"
            ],
            [
             1,
             "#276419"
            ]
           ],
           "sequential": [
            [
             0,
             "#0d0887"
            ],
            [
             0.1111111111111111,
             "#46039f"
            ],
            [
             0.2222222222222222,
             "#7201a8"
            ],
            [
             0.3333333333333333,
             "#9c179e"
            ],
            [
             0.4444444444444444,
             "#bd3786"
            ],
            [
             0.5555555555555556,
             "#d8576b"
            ],
            [
             0.6666666666666666,
             "#ed7953"
            ],
            [
             0.7777777777777778,
             "#fb9f3a"
            ],
            [
             0.8888888888888888,
             "#fdca26"
            ],
            [
             1,
             "#f0f921"
            ]
           ],
           "sequentialminus": [
            [
             0,
             "#0d0887"
            ],
            [
             0.1111111111111111,
             "#46039f"
            ],
            [
             0.2222222222222222,
             "#7201a8"
            ],
            [
             0.3333333333333333,
             "#9c179e"
            ],
            [
             0.4444444444444444,
             "#bd3786"
            ],
            [
             0.5555555555555556,
             "#d8576b"
            ],
            [
             0.6666666666666666,
             "#ed7953"
            ],
            [
             0.7777777777777778,
             "#fb9f3a"
            ],
            [
             0.8888888888888888,
             "#fdca26"
            ],
            [
             1,
             "#f0f921"
            ]
           ]
          },
          "colorway": [
           "#636efa",
           "#EF553B",
           "#00cc96",
           "#ab63fa",
           "#FFA15A",
           "#19d3f3",
           "#FF6692",
           "#B6E880",
           "#FF97FF",
           "#FECB52"
          ],
          "font": {
           "color": "#2a3f5f"
          },
          "geo": {
           "bgcolor": "white",
           "lakecolor": "white",
           "landcolor": "white",
           "showlakes": true,
           "showland": true,
           "subunitcolor": "#C8D4E3"
          },
          "hoverlabel": {
           "align": "left"
          },
          "hovermode": "closest",
          "mapbox": {
           "style": "light"
          },
          "paper_bgcolor": "white",
          "plot_bgcolor": "white",
          "polar": {
           "angularaxis": {
            "gridcolor": "#EBF0F8",
            "linecolor": "#EBF0F8",
            "ticks": ""
           },
           "bgcolor": "white",
           "radialaxis": {
            "gridcolor": "#EBF0F8",
            "linecolor": "#EBF0F8",
            "ticks": ""
           }
          },
          "scene": {
           "xaxis": {
            "backgroundcolor": "white",
            "gridcolor": "#DFE8F3",
            "gridwidth": 2,
            "linecolor": "#EBF0F8",
            "showbackground": true,
            "ticks": "",
            "zerolinecolor": "#EBF0F8"
           },
           "yaxis": {
            "backgroundcolor": "white",
            "gridcolor": "#DFE8F3",
            "gridwidth": 2,
            "linecolor": "#EBF0F8",
            "showbackground": true,
            "ticks": "",
            "zerolinecolor": "#EBF0F8"
           },
           "zaxis": {
            "backgroundcolor": "white",
            "gridcolor": "#DFE8F3",
            "gridwidth": 2,
            "linecolor": "#EBF0F8",
            "showbackground": true,
            "ticks": "",
            "zerolinecolor": "#EBF0F8"
           }
          },
          "shapedefaults": {
           "line": {
            "color": "#2a3f5f"
           }
          },
          "ternary": {
           "aaxis": {
            "gridcolor": "#DFE8F3",
            "linecolor": "#A2B1C6",
            "ticks": ""
           },
           "baxis": {
            "gridcolor": "#DFE8F3",
            "linecolor": "#A2B1C6",
            "ticks": ""
           },
           "bgcolor": "white",
           "caxis": {
            "gridcolor": "#DFE8F3",
            "linecolor": "#A2B1C6",
            "ticks": ""
           }
          },
          "title": {
           "x": 0.05
          },
          "xaxis": {
           "automargin": true,
           "gridcolor": "#EBF0F8",
           "linecolor": "#EBF0F8",
           "ticks": "",
           "title": {
            "standoff": 15
           },
           "zerolinecolor": "#EBF0F8",
           "zerolinewidth": 2
          },
          "yaxis": {
           "automargin": true,
           "gridcolor": "#EBF0F8",
           "linecolor": "#EBF0F8",
           "ticks": "",
           "title": {
            "standoff": 15
           },
           "zerolinecolor": "#EBF0F8",
           "zerolinewidth": 2
          }
         }
        },
        "title": {
         "font": {
          "color": "black",
          "family": "Myriad Pro",
          "size": 18
         },
         "text": "OD Normalized GFP "
        },
        "width": 600,
        "xaxis": {
         "linecolor": "black",
         "linewidth": 1,
         "mirror": true,
         "showgrid": false,
         "showline": true,
         "side": "bottom",
         "tickangle": 0,
         "tickcolor": "black",
         "tickfont": {
          "color": "black",
          "family": "Myriad Pro",
          "size": 16
         },
         "ticklen": 4,
         "ticks": "outside",
         "tickson": "boundaries",
         "title": {
          "font": {
           "color": "black",
           "family": "Myriad Pro",
           "size": 18
          }
         },
         "zeroline": false
        },
        "yaxis": {
         "linecolor": "black",
         "linewidth": 1,
         "mirror": true,
         "nticks": 9,
         "showgrid": true,
         "showline": true,
         "side": "left",
         "tickangle": 0,
         "tickcolor": "black",
         "tickfont": {
          "color": "black",
          "family": "Myriad Pro",
          "size": 16
         },
         "ticklen": 4,
         "ticks": "outside",
         "title": {
          "font": {
           "color": "black",
           "family": "Myriad Pro",
           "size": 18
          },
          "standoff": 0,
          "text": "(a.u.)"
         },
         "type": "log",
         "zeroline": false
        }
       }
      },
      "text/html": [
       "<div>                            <div id=\"814cc12f-0d2d-4d01-ae0b-14e4cb0d9c8f\" class=\"plotly-graph-div\" style=\"height:450px; width:600px;\"></div>            <script type=\"text/javascript\">                require([\"plotly\"], function(Plotly) {                    window.PLOTLYENV=window.PLOTLYENV || {};                                    if (document.getElementById(\"814cc12f-0d2d-4d01-ae0b-14e4cb0d9c8f\")) {                    Plotly.newPlot(                        \"814cc12f-0d2d-4d01-ae0b-14e4cb0d9c8f\",                        [{\"error_y\": {\"array\": [361.4931386893695, 147.13721674009508, 986.7269530998902, 1056.6941369140648, 651.1819544434265], \"color\": \"black\", \"thickness\": 1.5, \"type\": \"data\", \"width\": 3}, \"legendgroup\": \"0\", \"marker\": {\"color\": \"rgb(218,133,137)\", \"line\": {\"width\": 0}}, \"name\": \"Degradation Level: 0\", \"showlegend\": true, \"type\": \"bar\", \"x\": [\"RBS<br>Level 1\", \"RBS<br>Level 2\", \"RBS<br>Level 3\", \"RBS<br>Level 4\", \"RBS<br>Level 5\"], \"y\": [3245.6396932245125, 6087.220112131129, 10646.957757476153, 12653.879732780746, 9056.446447322374]}, {\"error_y\": {\"array\": [139.34405419287205, 862.6840826460053, 311.5033875651249, 1962.7716335999953, 598.3324333252768], \"color\": \"black\", \"thickness\": 1.5, \"type\": \"data\", \"width\": 3}, \"legendgroup\": \"1\", \"marker\": {\"color\": \"rgb(205,92,98)\", \"line\": {\"width\": 0}}, \"name\": \"Degradation Level: 1\", \"showlegend\": true, \"type\": \"bar\", \"x\": [\"RBS<br>Level 1\", \"RBS<br>Level 2\", \"RBS<br>Level 3\", \"RBS<br>Level 4\", \"RBS<br>Level 5\"], \"y\": [1621.795297105351, 2865.7452159827976, 10506.975401992178, 13677.185904081307, 7330.301294952266]}, {\"error_y\": {\"array\": [239.58535804684615, 263.1666802941561, 1026.7124739782284, 1517.6185456885898, 581.3898161811932], \"color\": \"black\", \"thickness\": 1.5, \"type\": \"data\", \"width\": 3}, \"legendgroup\": \"2\", \"marker\": {\"color\": \"rgb(187,57,64)\", \"line\": {\"width\": 0}}, \"name\": \"Degradation Level: 2\", \"showlegend\": true, \"type\": \"bar\", \"x\": [\"RBS<br>Level 1\", \"RBS<br>Level 2\", \"RBS<br>Level 3\", \"RBS<br>Level 4\", \"RBS<br>Level 5\"], \"y\": [1016.7283627277826, 2039.4154009721951, 8487.422357209425, 12187.86382093441, 6145.477944829756]}, {\"error_y\": {\"array\": [61.38645175406865, 366.7376717235931, 665.9776537454251, 371.58497978358605, 429.00761337246837], \"color\": \"black\", \"thickness\": 1.5, \"type\": \"data\", \"width\": 3}, \"legendgroup\": \"3\", \"marker\": {\"color\": \"rgb(146,45,50)\", \"line\": {\"width\": 0}}, \"name\": \"Degradation Level: 3\", \"showlegend\": true, \"type\": \"bar\", \"x\": [\"RBS<br>Level 1\", \"RBS<br>Level 2\", \"RBS<br>Level 3\", \"RBS<br>Level 4\", \"RBS<br>Level 5\"], \"y\": [1151.2679117895404, 1662.950278690575, 6049.040902094691, 10011.307028360625, 4753.579388671762]}],                        {\"bargap\": 0.2, \"bargroupgap\": 0.1, \"height\": 450, \"legend\": {\"font\": {\"color\": \"black\", \"family\": \"Myriad Pro\", \"size\": 16}, \"orientation\": \"h\", \"x\": 0.02, \"y\": -0.2}, \"template\": {\"data\": {\"bar\": [{\"error_x\": {\"color\": \"#2a3f5f\"}, \"error_y\": {\"color\": \"#2a3f5f\"}, \"marker\": {\"line\": {\"color\": \"white\", \"width\": 0.5}}, \"type\": \"bar\"}], \"barpolar\": [{\"marker\": {\"line\": {\"color\": \"white\", \"width\": 0.5}}, \"type\": \"barpolar\"}], \"carpet\": [{\"aaxis\": {\"endlinecolor\": \"#2a3f5f\", \"gridcolor\": \"#C8D4E3\", \"linecolor\": \"#C8D4E3\", \"minorgridcolor\": \"#C8D4E3\", \"startlinecolor\": \"#2a3f5f\"}, \"baxis\": {\"endlinecolor\": \"#2a3f5f\", \"gridcolor\": \"#C8D4E3\", \"linecolor\": \"#C8D4E3\", \"minorgridcolor\": \"#C8D4E3\", \"startlinecolor\": \"#2a3f5f\"}, \"type\": \"carpet\"}], \"choropleth\": [{\"colorbar\": {\"outlinewidth\": 0, \"ticks\": \"\"}, \"type\": \"choropleth\"}], \"contour\": [{\"colorbar\": {\"outlinewidth\": 0, \"ticks\": \"\"}, \"colorscale\": [[0.0, \"#0d0887\"], [0.1111111111111111, \"#46039f\"], [0.2222222222222222, \"#7201a8\"], [0.3333333333333333, \"#9c179e\"], [0.4444444444444444, \"#bd3786\"], [0.5555555555555556, \"#d8576b\"], [0.6666666666666666, \"#ed7953\"], [0.7777777777777778, \"#fb9f3a\"], [0.8888888888888888, \"#fdca26\"], [1.0, \"#f0f921\"]], \"type\": \"contour\"}], \"contourcarpet\": [{\"colorbar\": {\"outlinewidth\": 0, \"ticks\": \"\"}, \"type\": \"contourcarpet\"}], \"heatmap\": [{\"colorbar\": {\"outlinewidth\": 0, \"ticks\": \"\"}, \"colorscale\": [[0.0, \"#0d0887\"], [0.1111111111111111, \"#46039f\"], [0.2222222222222222, \"#7201a8\"], [0.3333333333333333, \"#9c179e\"], [0.4444444444444444, \"#bd3786\"], [0.5555555555555556, \"#d8576b\"], [0.6666666666666666, \"#ed7953\"], [0.7777777777777778, \"#fb9f3a\"], [0.8888888888888888, \"#fdca26\"], [1.0, \"#f0f921\"]], \"type\": \"heatmap\"}], \"heatmapgl\": [{\"colorbar\": {\"outlinewidth\": 0, \"ticks\": \"\"}, \"colorscale\": [[0.0, \"#0d0887\"], [0.1111111111111111, \"#46039f\"], [0.2222222222222222, \"#7201a8\"], [0.3333333333333333, \"#9c179e\"], [0.4444444444444444, \"#bd3786\"], [0.5555555555555556, \"#d8576b\"], [0.6666666666666666, \"#ed7953\"], [0.7777777777777778, \"#fb9f3a\"], [0.8888888888888888, \"#fdca26\"], [1.0, \"#f0f921\"]], \"type\": \"heatmapgl\"}], \"histogram\": [{\"marker\": {\"colorbar\": {\"outlinewidth\": 0, \"ticks\": \"\"}}, \"type\": \"histogram\"}], \"histogram2d\": [{\"colorbar\": {\"outlinewidth\": 0, \"ticks\": \"\"}, \"colorscale\": [[0.0, \"#0d0887\"], [0.1111111111111111, \"#46039f\"], [0.2222222222222222, \"#7201a8\"], [0.3333333333333333, \"#9c179e\"], [0.4444444444444444, \"#bd3786\"], [0.5555555555555556, \"#d8576b\"], [0.6666666666666666, \"#ed7953\"], [0.7777777777777778, \"#fb9f3a\"], [0.8888888888888888, \"#fdca26\"], [1.0, \"#f0f921\"]], \"type\": \"histogram2d\"}], \"histogram2dcontour\": [{\"colorbar\": {\"outlinewidth\": 0, \"ticks\": \"\"}, \"colorscale\": [[0.0, \"#0d0887\"], [0.1111111111111111, \"#46039f\"], [0.2222222222222222, \"#7201a8\"], [0.3333333333333333, \"#9c179e\"], [0.4444444444444444, \"#bd3786\"], [0.5555555555555556, \"#d8576b\"], [0.6666666666666666, \"#ed7953\"], [0.7777777777777778, \"#fb9f3a\"], [0.8888888888888888, \"#fdca26\"], [1.0, \"#f0f921\"]], \"type\": \"histogram2dcontour\"}], \"mesh3d\": [{\"colorbar\": {\"outlinewidth\": 0, \"ticks\": \"\"}, \"type\": \"mesh3d\"}], \"parcoords\": [{\"line\": {\"colorbar\": {\"outlinewidth\": 0, \"ticks\": \"\"}}, \"type\": \"parcoords\"}], \"pie\": [{\"automargin\": true, \"type\": \"pie\"}], \"scatter\": [{\"marker\": {\"colorbar\": {\"outlinewidth\": 0, \"ticks\": \"\"}}, \"type\": \"scatter\"}], \"scatter3d\": [{\"line\": {\"colorbar\": {\"outlinewidth\": 0, \"ticks\": \"\"}}, \"marker\": {\"colorbar\": {\"outlinewidth\": 0, \"ticks\": \"\"}}, \"type\": \"scatter3d\"}], \"scattercarpet\": [{\"marker\": {\"colorbar\": {\"outlinewidth\": 0, \"ticks\": \"\"}}, \"type\": \"scattercarpet\"}], \"scattergeo\": [{\"marker\": {\"colorbar\": {\"outlinewidth\": 0, \"ticks\": \"\"}}, \"type\": \"scattergeo\"}], \"scattergl\": [{\"marker\": {\"colorbar\": {\"outlinewidth\": 0, \"ticks\": \"\"}}, \"type\": \"scattergl\"}], \"scattermapbox\": [{\"marker\": {\"colorbar\": {\"outlinewidth\": 0, \"ticks\": \"\"}}, \"type\": \"scattermapbox\"}], \"scatterpolar\": [{\"marker\": {\"colorbar\": {\"outlinewidth\": 0, \"ticks\": \"\"}}, \"type\": \"scatterpolar\"}], \"scatterpolargl\": [{\"marker\": {\"colorbar\": {\"outlinewidth\": 0, \"ticks\": \"\"}}, \"type\": \"scatterpolargl\"}], \"scatterternary\": [{\"marker\": {\"colorbar\": {\"outlinewidth\": 0, \"ticks\": \"\"}}, \"type\": \"scatterternary\"}], \"surface\": [{\"colorbar\": {\"outlinewidth\": 0, \"ticks\": \"\"}, \"colorscale\": [[0.0, \"#0d0887\"], [0.1111111111111111, \"#46039f\"], [0.2222222222222222, \"#7201a8\"], [0.3333333333333333, \"#9c179e\"], [0.4444444444444444, \"#bd3786\"], [0.5555555555555556, \"#d8576b\"], [0.6666666666666666, \"#ed7953\"], [0.7777777777777778, \"#fb9f3a\"], [0.8888888888888888, \"#fdca26\"], [1.0, \"#f0f921\"]], \"type\": \"surface\"}], \"table\": [{\"cells\": {\"fill\": {\"color\": \"#EBF0F8\"}, \"line\": {\"color\": \"white\"}}, \"header\": {\"fill\": {\"color\": \"#C8D4E3\"}, \"line\": {\"color\": \"white\"}}, \"type\": \"table\"}]}, \"layout\": {\"annotationdefaults\": {\"arrowcolor\": \"#2a3f5f\", \"arrowhead\": 0, \"arrowwidth\": 1}, \"autotypenumbers\": \"strict\", \"coloraxis\": {\"colorbar\": {\"outlinewidth\": 0, \"ticks\": \"\"}}, \"colorscale\": {\"diverging\": [[0, \"#8e0152\"], [0.1, \"#c51b7d\"], [0.2, \"#de77ae\"], [0.3, \"#f1b6da\"], [0.4, \"#fde0ef\"], [0.5, \"#f7f7f7\"], [0.6, \"#e6f5d0\"], [0.7, \"#b8e186\"], [0.8, \"#7fbc41\"], [0.9, \"#4d9221\"], [1, \"#276419\"]], \"sequential\": [[0.0, \"#0d0887\"], [0.1111111111111111, \"#46039f\"], [0.2222222222222222, \"#7201a8\"], [0.3333333333333333, \"#9c179e\"], [0.4444444444444444, \"#bd3786\"], [0.5555555555555556, \"#d8576b\"], [0.6666666666666666, \"#ed7953\"], [0.7777777777777778, \"#fb9f3a\"], [0.8888888888888888, \"#fdca26\"], [1.0, \"#f0f921\"]], \"sequentialminus\": [[0.0, \"#0d0887\"], [0.1111111111111111, \"#46039f\"], [0.2222222222222222, \"#7201a8\"], [0.3333333333333333, \"#9c179e\"], [0.4444444444444444, \"#bd3786\"], [0.5555555555555556, \"#d8576b\"], [0.6666666666666666, \"#ed7953\"], [0.7777777777777778, \"#fb9f3a\"], [0.8888888888888888, \"#fdca26\"], [1.0, \"#f0f921\"]]}, \"colorway\": [\"#636efa\", \"#EF553B\", \"#00cc96\", \"#ab63fa\", \"#FFA15A\", \"#19d3f3\", \"#FF6692\", \"#B6E880\", \"#FF97FF\", \"#FECB52\"], \"font\": {\"color\": \"#2a3f5f\"}, \"geo\": {\"bgcolor\": \"white\", \"lakecolor\": \"white\", \"landcolor\": \"white\", \"showlakes\": true, \"showland\": true, \"subunitcolor\": \"#C8D4E3\"}, \"hoverlabel\": {\"align\": \"left\"}, \"hovermode\": \"closest\", \"mapbox\": {\"style\": \"light\"}, \"paper_bgcolor\": \"white\", \"plot_bgcolor\": \"white\", \"polar\": {\"angularaxis\": {\"gridcolor\": \"#EBF0F8\", \"linecolor\": \"#EBF0F8\", \"ticks\": \"\"}, \"bgcolor\": \"white\", \"radialaxis\": {\"gridcolor\": \"#EBF0F8\", \"linecolor\": \"#EBF0F8\", \"ticks\": \"\"}}, \"scene\": {\"xaxis\": {\"backgroundcolor\": \"white\", \"gridcolor\": \"#DFE8F3\", \"gridwidth\": 2, \"linecolor\": \"#EBF0F8\", \"showbackground\": true, \"ticks\": \"\", \"zerolinecolor\": \"#EBF0F8\"}, \"yaxis\": {\"backgroundcolor\": \"white\", \"gridcolor\": \"#DFE8F3\", \"gridwidth\": 2, \"linecolor\": \"#EBF0F8\", \"showbackground\": true, \"ticks\": \"\", \"zerolinecolor\": \"#EBF0F8\"}, \"zaxis\": {\"backgroundcolor\": \"white\", \"gridcolor\": \"#DFE8F3\", \"gridwidth\": 2, \"linecolor\": \"#EBF0F8\", \"showbackground\": true, \"ticks\": \"\", \"zerolinecolor\": \"#EBF0F8\"}}, \"shapedefaults\": {\"line\": {\"color\": \"#2a3f5f\"}}, \"ternary\": {\"aaxis\": {\"gridcolor\": \"#DFE8F3\", \"linecolor\": \"#A2B1C6\", \"ticks\": \"\"}, \"baxis\": {\"gridcolor\": \"#DFE8F3\", \"linecolor\": \"#A2B1C6\", \"ticks\": \"\"}, \"bgcolor\": \"white\", \"caxis\": {\"gridcolor\": \"#DFE8F3\", \"linecolor\": \"#A2B1C6\", \"ticks\": \"\"}}, \"title\": {\"x\": 0.05}, \"xaxis\": {\"automargin\": true, \"gridcolor\": \"#EBF0F8\", \"linecolor\": \"#EBF0F8\", \"ticks\": \"\", \"title\": {\"standoff\": 15}, \"zerolinecolor\": \"#EBF0F8\", \"zerolinewidth\": 2}, \"yaxis\": {\"automargin\": true, \"gridcolor\": \"#EBF0F8\", \"linecolor\": \"#EBF0F8\", \"ticks\": \"\", \"title\": {\"standoff\": 15}, \"zerolinecolor\": \"#EBF0F8\", \"zerolinewidth\": 2}}}, \"title\": {\"font\": {\"color\": \"black\", \"family\": \"Myriad Pro\", \"size\": 18}, \"text\": \"OD Normalized GFP \"}, \"width\": 600, \"xaxis\": {\"linecolor\": \"black\", \"linewidth\": 1, \"mirror\": true, \"showgrid\": false, \"showline\": true, \"side\": \"bottom\", \"tickangle\": 0, \"tickcolor\": \"black\", \"tickfont\": {\"color\": \"black\", \"family\": \"Myriad Pro\", \"size\": 16}, \"ticklen\": 4, \"ticks\": \"outside\", \"tickson\": \"boundaries\", \"title\": {\"font\": {\"color\": \"black\", \"family\": \"Myriad Pro\", \"size\": 18}}, \"zeroline\": false}, \"yaxis\": {\"linecolor\": \"black\", \"linewidth\": 1, \"mirror\": true, \"nticks\": 9, \"showgrid\": true, \"showline\": true, \"side\": \"left\", \"tickangle\": 0, \"tickcolor\": \"black\", \"tickfont\": {\"color\": \"black\", \"family\": \"Myriad Pro\", \"size\": 16}, \"ticklen\": 4, \"ticks\": \"outside\", \"title\": {\"font\": {\"color\": \"black\", \"family\": \"Myriad Pro\", \"size\": 18}, \"standoff\": 0, \"text\": \"(a.u.)\"}, \"type\": \"log\", \"zeroline\": false}},                        {\"responsive\": true}                    ).then(function(){\n",
       "                            \n",
       "var gd = document.getElementById('814cc12f-0d2d-4d01-ae0b-14e4cb0d9c8f');\n",
       "var x = new MutationObserver(function (mutations, observer) {{\n",
       "        var display = window.getComputedStyle(gd).display;\n",
       "        if (!display || display === 'none') {{\n",
       "            console.log([gd, 'removed!']);\n",
       "            Plotly.purge(gd);\n",
       "            observer.disconnect();\n",
       "        }}\n",
       "}});\n",
       "\n",
       "// Listen for the removal of the full notebook cells\n",
       "var notebookContainer = gd.closest('#notebook-container');\n",
       "if (notebookContainer) {{\n",
       "    x.observe(notebookContainer, {childList: true});\n",
       "}}\n",
       "\n",
       "// Listen for the clearing of the current output cell\n",
       "var outputEl = gd.closest('.output');\n",
       "if (outputEl) {{\n",
       "    x.observe(outputEl, {childList: true});\n",
       "}}\n",
       "\n",
       "                        })                };                });            </script>        </div>"
      ]
     },
     "metadata": {},
     "output_type": "display_data"
    },
    {
     "ename": "NameError",
     "evalue": "name 'expt' is not defined",
     "output_type": "error",
     "traceback": [
      "\u001b[1;31m---------------------------------------------------------------------------\u001b[0m",
      "\u001b[1;31mNameError\u001b[0m                                 Traceback (most recent call last)",
      "\u001b[1;32m<ipython-input-7-cf509e723186>\u001b[0m in \u001b[0;36m<module>\u001b[1;34m\u001b[0m\n\u001b[0;32m     23\u001b[0m \u001b[1;33m\u001b[0m\u001b[0m\n\u001b[0;32m     24\u001b[0m \u001b[0mstrains_2\u001b[0m \u001b[1;33m=\u001b[0m \u001b[1;33m[\u001b[0m\u001b[1;34m'0000'\u001b[0m\u001b[1;33m,\u001b[0m\u001b[1;34m'Tet'\u001b[0m\u001b[1;33m,\u001b[0m\u001b[1;34m'Lac'\u001b[0m\u001b[1;33m]\u001b[0m\u001b[1;33m\u001b[0m\u001b[1;33m\u001b[0m\u001b[0m\n\u001b[1;32m---> 25\u001b[1;33m rep_list = [replicate for replicate in expt.replicate_trials if\n\u001b[0m\u001b[0;32m     26\u001b[0m             str(replicate.trial_identifier.strain.name) in strains_2]\n\u001b[0;32m     27\u001b[0m \u001b[0mrep_list\u001b[0m \u001b[1;33m=\u001b[0m \u001b[0msorted\u001b[0m\u001b[1;33m(\u001b[0m\u001b[0mrep_list\u001b[0m\u001b[1;33m,\u001b[0m \u001b[0mkey\u001b[0m\u001b[1;33m=\u001b[0m\u001b[1;32mlambda\u001b[0m \u001b[0mrep\u001b[0m\u001b[1;33m:\u001b[0m \u001b[0mstr\u001b[0m\u001b[1;33m(\u001b[0m\u001b[0mrep\u001b[0m\u001b[1;33m.\u001b[0m\u001b[0mtrial_identifier\u001b[0m\u001b[1;33m.\u001b[0m\u001b[0mstrain\u001b[0m\u001b[1;33m)\u001b[0m\u001b[1;33m)\u001b[0m\u001b[1;33m\u001b[0m\u001b[1;33m\u001b[0m\u001b[0m\n",
      "\u001b[1;31mNameError\u001b[0m: name 'expt' is not defined"
     ]
    }
   ],
   "source": [
    "strain_lists = ['1000','2000','3000','4000','5000',#,'0000','Lac'],\n",
    "               '1100','2100','3100','4100','5100',#,'0000','Lac'],\n",
    "              '1200','2200','3200','4200','5200',#,'0000','Lac'],\n",
    "              '1300','2300','3300','4300','5300']#,'0000','Lac']]\n",
    "\n",
    "\n",
    "#gfp_norm_rep = [replicate for replicate in expt.stages['0-8'].replicate_trials if str(replicate.trial_identifier.strain.name)=='Lac'][0]\n",
    "\n",
    "\n",
    "\n",
    "rep_list = [replicate for replicate in expt_atc.replicate_trials if\n",
    "            str(replicate.trial_identifier.strain.name) in strain_lists]\n",
    "rep_list = sorted(rep_list, key=lambda rep: str(rep.trial_identifier.strain))\n",
    "\n",
    "fig1,fig2=bar_plot_all(rep_list, plot_end=-1, plot_start=1, analyte_of_interest='GFP', plot_width=600, base_rep=None)\n",
    "plot(fig1)\n",
    "plot(fig2)\n",
    "\n",
    "fig1,fig2=bar_plot_all(rep_list, plot_end=-1, plot_start=1, analyte_of_interest='GFP', plot_width=600, norm=False,  base_rep=None)\n",
    "plot(fig1)\n",
    "fig1.write_image('fig1.svg', format='svg')\n",
    "plot(fig2)\n",
    "\n",
    "strains_2 = ['0000','Tet','Lac']\n",
    "rep_list = [replicate for replicate in expt.replicate_trials if\n",
    "            str(replicate.trial_identifier.strain.name) in strains_2]\n",
    "rep_list = sorted(rep_list, key=lambda rep: str(rep.trial_identifier.strain))\n",
    "fig1,fig2=bar_plot_all(rep_list, plot_end=-1, plot_start=1, analyte_of_interest='GFP', plot_width=300, norm=False, base_rep=gfp_norm_rep)\n",
    "plot(fig1)\n",
    "\n",
    "\n",
    "strains_2 = ['0000','Tet','Lac']\n",
    "rep_list = [replicate for replicate in expt.replicate_trials if\n",
    "            str(replicate.trial_identifier.strain.name) in strains_2]\n",
    "rep_list = sorted(rep_list, key=lambda rep: str(rep.trial_identifier.strain))\n",
    "fig1,fig2=bar_plot_all(rep_list, plot_end=-1, plot_start=1, analyte_of_interest='GFP', plot_width=300, norm=False, base_rep=None)\n",
    "plot(fig1)\n"
   ]
  },
  {
   "cell_type": "code",
   "execution_count": null,
   "metadata": {},
   "outputs": [],
   "source": []
  },
  {
   "cell_type": "code",
   "execution_count": 23,
   "metadata": {},
   "outputs": [
    {
     "data": {
      "application/vnd.plotly.v1+json": {
       "config": {
        "linkText": "Export to plot.ly",
        "plotlyServerURL": "https://plot.ly",
        "showLink": false
       },
       "data": [
        {
         "error_y": {
          "array": [
           0.016674905936030885,
           0.007916306108649287,
           0.017417578925966185,
           0.013601866241579668
          ],
          "color": "black",
          "thickness": 1.5,
          "type": "data",
          "width": 3
         },
         "legendgroup": "1",
         "marker": {
          "color": "rgb(146.0, 197.0, 222.0)",
          "line": {
           "width": 0
          }
         },
         "name": "RBS \"A\"",
         "showlegend": true,
         "type": "bar",
         "x": [
          "No Tag",
          "DAS Tag",
          "DAS+2 Tag",
          "LAA Tag"
         ],
         "y": [
          0.059817238056755664,
          0.030304914058371928,
          0.0320247826852744,
          0.03285363503558885
         ]
        },
        {
         "error_y": {
          "array": [
           0.00914273009000545,
           0.021637176813238464,
           0.007540286095122502,
           0.01011406316316934
          ],
          "color": "black",
          "thickness": 1.5,
          "type": "data",
          "width": 3
         },
         "legendgroup": "2",
         "marker": {
          "color": "rgb(117.75, 173.25, 209.5)",
          "line": {
           "width": 0
          }
         },
         "name": "RBS \"B\"",
         "showlegend": true,
         "type": "bar",
         "x": [
          "No Tag",
          "DAS Tag",
          "DAS+2 Tag",
          "LAA Tag"
         ],
         "y": [
          0.22052652845553725,
          0.0857344149856505,
          0.10328536350355888,
          0.06638071260580818
         ]
        },
        {
         "error_y": {
          "array": [
           0.07082266351779264,
           0.028687321784568103,
           0.06824158793608569,
           0.028520474706057737
          ],
          "color": "black",
          "thickness": 1.5,
          "type": "data",
          "width": 3
         },
         "legendgroup": "3",
         "marker": {
          "color": "rgb(89.5, 149.5, 197.0)",
          "line": {
           "width": 0
          }
         },
         "name": "RBS \"C\"",
         "showlegend": true,
         "type": "bar",
         "x": [
          "No Tag",
          "DAS Tag",
          "DAS+2 Tag",
          "LAA Tag"
         ],
         "y": [
          0.5859260870916607,
          0.5984054952910826,
          0.5420176338337529,
          0.2657352438380008
         ]
        },
        {
         "error_y": {
          "array": [
           0.09231494971756932,
           0.09811243259496455,
           0.13001741096754577,
           0.08754466893373064
          ],
          "color": "black",
          "thickness": 1.5,
          "type": "data",
          "width": 3
         },
         "legendgroup": "4",
         "marker": {
          "color": "rgb(61.25, 125.75, 184.5)",
          "line": {
           "width": 0
          }
         },
         "name": "RBS \"D\"",
         "showlegend": true,
         "type": "bar",
         "x": [
          "No Tag",
          "DAS Tag",
          "DAS+2 Tag",
          "LAA Tag"
         ],
         "y": [
          0.9722127249557082,
          1,
          0.8978180461877973,
          0.5912255618064837
         ]
        },
        {
         "error_y": {
          "array": [
           0.0331252221622212,
           0.03057566906788834,
           0.010729686959910952,
           0.023167150649785525
          ],
          "color": "black",
          "thickness": 1.5,
          "type": "data",
          "width": 3
         },
         "legendgroup": "5",
         "marker": {
          "color": "rgb(33.0, 102.0, 172.0)",
          "line": {
           "width": 0
          }
         },
         "name": "RBS \"E\"",
         "showlegend": true,
         "type": "bar",
         "x": [
          "No Tag",
          "DAS Tag",
          "DAS+2 Tag",
          "LAA Tag"
         ],
         "y": [
          0.4011438162434339,
          0.39724302986976656,
          0.29834022316849534,
          0.14355204674727257
         ]
        }
       ],
       "layout": {
        "bargap": 0.3,
        "bargroupgap": 0.1,
        "height": 450,
        "legend": {
         "font": {
          "color": "black",
          "family": "Myriad Pro",
          "size": 18
         },
         "orientation": "h",
         "x": 0.02,
         "y": -0.2
        },
        "template": {
         "data": {
          "bar": [
           {
            "error_x": {
             "color": "#2a3f5f"
            },
            "error_y": {
             "color": "#2a3f5f"
            },
            "marker": {
             "line": {
              "color": "white",
              "width": 0.5
             }
            },
            "type": "bar"
           }
          ],
          "barpolar": [
           {
            "marker": {
             "line": {
              "color": "white",
              "width": 0.5
             }
            },
            "type": "barpolar"
           }
          ],
          "carpet": [
           {
            "aaxis": {
             "endlinecolor": "#2a3f5f",
             "gridcolor": "#C8D4E3",
             "linecolor": "#C8D4E3",
             "minorgridcolor": "#C8D4E3",
             "startlinecolor": "#2a3f5f"
            },
            "baxis": {
             "endlinecolor": "#2a3f5f",
             "gridcolor": "#C8D4E3",
             "linecolor": "#C8D4E3",
             "minorgridcolor": "#C8D4E3",
             "startlinecolor": "#2a3f5f"
            },
            "type": "carpet"
           }
          ],
          "choropleth": [
           {
            "colorbar": {
             "outlinewidth": 0,
             "ticks": ""
            },
            "type": "choropleth"
           }
          ],
          "contour": [
           {
            "colorbar": {
             "outlinewidth": 0,
             "ticks": ""
            },
            "colorscale": [
             [
              0,
              "#0d0887"
             ],
             [
              0.1111111111111111,
              "#46039f"
             ],
             [
              0.2222222222222222,
              "#7201a8"
             ],
             [
              0.3333333333333333,
              "#9c179e"
             ],
             [
              0.4444444444444444,
              "#bd3786"
             ],
             [
              0.5555555555555556,
              "#d8576b"
             ],
             [
              0.6666666666666666,
              "#ed7953"
             ],
             [
              0.7777777777777778,
              "#fb9f3a"
             ],
             [
              0.8888888888888888,
              "#fdca26"
             ],
             [
              1,
              "#f0f921"
             ]
            ],
            "type": "contour"
           }
          ],
          "contourcarpet": [
           {
            "colorbar": {
             "outlinewidth": 0,
             "ticks": ""
            },
            "type": "contourcarpet"
           }
          ],
          "heatmap": [
           {
            "colorbar": {
             "outlinewidth": 0,
             "ticks": ""
            },
            "colorscale": [
             [
              0,
              "#0d0887"
             ],
             [
              0.1111111111111111,
              "#46039f"
             ],
             [
              0.2222222222222222,
              "#7201a8"
             ],
             [
              0.3333333333333333,
              "#9c179e"
             ],
             [
              0.4444444444444444,
              "#bd3786"
             ],
             [
              0.5555555555555556,
              "#d8576b"
             ],
             [
              0.6666666666666666,
              "#ed7953"
             ],
             [
              0.7777777777777778,
              "#fb9f3a"
             ],
             [
              0.8888888888888888,
              "#fdca26"
             ],
             [
              1,
              "#f0f921"
             ]
            ],
            "type": "heatmap"
           }
          ],
          "heatmapgl": [
           {
            "colorbar": {
             "outlinewidth": 0,
             "ticks": ""
            },
            "colorscale": [
             [
              0,
              "#0d0887"
             ],
             [
              0.1111111111111111,
              "#46039f"
             ],
             [
              0.2222222222222222,
              "#7201a8"
             ],
             [
              0.3333333333333333,
              "#9c179e"
             ],
             [
              0.4444444444444444,
              "#bd3786"
             ],
             [
              0.5555555555555556,
              "#d8576b"
             ],
             [
              0.6666666666666666,
              "#ed7953"
             ],
             [
              0.7777777777777778,
              "#fb9f3a"
             ],
             [
              0.8888888888888888,
              "#fdca26"
             ],
             [
              1,
              "#f0f921"
             ]
            ],
            "type": "heatmapgl"
           }
          ],
          "histogram": [
           {
            "marker": {
             "colorbar": {
              "outlinewidth": 0,
              "ticks": ""
             }
            },
            "type": "histogram"
           }
          ],
          "histogram2d": [
           {
            "colorbar": {
             "outlinewidth": 0,
             "ticks": ""
            },
            "colorscale": [
             [
              0,
              "#0d0887"
             ],
             [
              0.1111111111111111,
              "#46039f"
             ],
             [
              0.2222222222222222,
              "#7201a8"
             ],
             [
              0.3333333333333333,
              "#9c179e"
             ],
             [
              0.4444444444444444,
              "#bd3786"
             ],
             [
              0.5555555555555556,
              "#d8576b"
             ],
             [
              0.6666666666666666,
              "#ed7953"
             ],
             [
              0.7777777777777778,
              "#fb9f3a"
             ],
             [
              0.8888888888888888,
              "#fdca26"
             ],
             [
              1,
              "#f0f921"
             ]
            ],
            "type": "histogram2d"
           }
          ],
          "histogram2dcontour": [
           {
            "colorbar": {
             "outlinewidth": 0,
             "ticks": ""
            },
            "colorscale": [
             [
              0,
              "#0d0887"
             ],
             [
              0.1111111111111111,
              "#46039f"
             ],
             [
              0.2222222222222222,
              "#7201a8"
             ],
             [
              0.3333333333333333,
              "#9c179e"
             ],
             [
              0.4444444444444444,
              "#bd3786"
             ],
             [
              0.5555555555555556,
              "#d8576b"
             ],
             [
              0.6666666666666666,
              "#ed7953"
             ],
             [
              0.7777777777777778,
              "#fb9f3a"
             ],
             [
              0.8888888888888888,
              "#fdca26"
             ],
             [
              1,
              "#f0f921"
             ]
            ],
            "type": "histogram2dcontour"
           }
          ],
          "mesh3d": [
           {
            "colorbar": {
             "outlinewidth": 0,
             "ticks": ""
            },
            "type": "mesh3d"
           }
          ],
          "parcoords": [
           {
            "line": {
             "colorbar": {
              "outlinewidth": 0,
              "ticks": ""
             }
            },
            "type": "parcoords"
           }
          ],
          "pie": [
           {
            "automargin": true,
            "type": "pie"
           }
          ],
          "scatter": [
           {
            "marker": {
             "colorbar": {
              "outlinewidth": 0,
              "ticks": ""
             }
            },
            "type": "scatter"
           }
          ],
          "scatter3d": [
           {
            "line": {
             "colorbar": {
              "outlinewidth": 0,
              "ticks": ""
             }
            },
            "marker": {
             "colorbar": {
              "outlinewidth": 0,
              "ticks": ""
             }
            },
            "type": "scatter3d"
           }
          ],
          "scattercarpet": [
           {
            "marker": {
             "colorbar": {
              "outlinewidth": 0,
              "ticks": ""
             }
            },
            "type": "scattercarpet"
           }
          ],
          "scattergeo": [
           {
            "marker": {
             "colorbar": {
              "outlinewidth": 0,
              "ticks": ""
             }
            },
            "type": "scattergeo"
           }
          ],
          "scattergl": [
           {
            "marker": {
             "colorbar": {
              "outlinewidth": 0,
              "ticks": ""
             }
            },
            "type": "scattergl"
           }
          ],
          "scattermapbox": [
           {
            "marker": {
             "colorbar": {
              "outlinewidth": 0,
              "ticks": ""
             }
            },
            "type": "scattermapbox"
           }
          ],
          "scatterpolar": [
           {
            "marker": {
             "colorbar": {
              "outlinewidth": 0,
              "ticks": ""
             }
            },
            "type": "scatterpolar"
           }
          ],
          "scatterpolargl": [
           {
            "marker": {
             "colorbar": {
              "outlinewidth": 0,
              "ticks": ""
             }
            },
            "type": "scatterpolargl"
           }
          ],
          "scatterternary": [
           {
            "marker": {
             "colorbar": {
              "outlinewidth": 0,
              "ticks": ""
             }
            },
            "type": "scatterternary"
           }
          ],
          "surface": [
           {
            "colorbar": {
             "outlinewidth": 0,
             "ticks": ""
            },
            "colorscale": [
             [
              0,
              "#0d0887"
             ],
             [
              0.1111111111111111,
              "#46039f"
             ],
             [
              0.2222222222222222,
              "#7201a8"
             ],
             [
              0.3333333333333333,
              "#9c179e"
             ],
             [
              0.4444444444444444,
              "#bd3786"
             ],
             [
              0.5555555555555556,
              "#d8576b"
             ],
             [
              0.6666666666666666,
              "#ed7953"
             ],
             [
              0.7777777777777778,
              "#fb9f3a"
             ],
             [
              0.8888888888888888,
              "#fdca26"
             ],
             [
              1,
              "#f0f921"
             ]
            ],
            "type": "surface"
           }
          ],
          "table": [
           {
            "cells": {
             "fill": {
              "color": "#EBF0F8"
             },
             "line": {
              "color": "white"
             }
            },
            "header": {
             "fill": {
              "color": "#C8D4E3"
             },
             "line": {
              "color": "white"
             }
            },
            "type": "table"
           }
          ]
         },
         "layout": {
          "annotationdefaults": {
           "arrowcolor": "#2a3f5f",
           "arrowhead": 0,
           "arrowwidth": 1
          },
          "autotypenumbers": "strict",
          "coloraxis": {
           "colorbar": {
            "outlinewidth": 0,
            "ticks": ""
           }
          },
          "colorscale": {
           "diverging": [
            [
             0,
             "#8e0152"
            ],
            [
             0.1,
             "#c51b7d"
            ],
            [
             0.2,
             "#de77ae"
            ],
            [
             0.3,
             "#f1b6da"
            ],
            [
             0.4,
             "#fde0ef"
            ],
            [
             0.5,
             "#f7f7f7"
            ],
            [
             0.6,
             "#e6f5d0"
            ],
            [
             0.7,
             "#b8e186"
            ],
            [
             0.8,
             "#7fbc41"
            ],
            [
             0.9,
             "#4d9221"
            ],
            [
             1,
             "#276419"
            ]
           ],
           "sequential": [
            [
             0,
             "#0d0887"
            ],
            [
             0.1111111111111111,
             "#46039f"
            ],
            [
             0.2222222222222222,
             "#7201a8"
            ],
            [
             0.3333333333333333,
             "#9c179e"
            ],
            [
             0.4444444444444444,
             "#bd3786"
            ],
            [
             0.5555555555555556,
             "#d8576b"
            ],
            [
             0.6666666666666666,
             "#ed7953"
            ],
            [
             0.7777777777777778,
             "#fb9f3a"
            ],
            [
             0.8888888888888888,
             "#fdca26"
            ],
            [
             1,
             "#f0f921"
            ]
           ],
           "sequentialminus": [
            [
             0,
             "#0d0887"
            ],
            [
             0.1111111111111111,
             "#46039f"
            ],
            [
             0.2222222222222222,
             "#7201a8"
            ],
            [
             0.3333333333333333,
             "#9c179e"
            ],
            [
             0.4444444444444444,
             "#bd3786"
            ],
            [
             0.5555555555555556,
             "#d8576b"
            ],
            [
             0.6666666666666666,
             "#ed7953"
            ],
            [
             0.7777777777777778,
             "#fb9f3a"
            ],
            [
             0.8888888888888888,
             "#fdca26"
            ],
            [
             1,
             "#f0f921"
            ]
           ]
          },
          "colorway": [
           "#636efa",
           "#EF553B",
           "#00cc96",
           "#ab63fa",
           "#FFA15A",
           "#19d3f3",
           "#FF6692",
           "#B6E880",
           "#FF97FF",
           "#FECB52"
          ],
          "font": {
           "color": "#2a3f5f"
          },
          "geo": {
           "bgcolor": "white",
           "lakecolor": "white",
           "landcolor": "white",
           "showlakes": true,
           "showland": true,
           "subunitcolor": "#C8D4E3"
          },
          "hoverlabel": {
           "align": "left"
          },
          "hovermode": "closest",
          "mapbox": {
           "style": "light"
          },
          "paper_bgcolor": "white",
          "plot_bgcolor": "white",
          "polar": {
           "angularaxis": {
            "gridcolor": "#EBF0F8",
            "linecolor": "#EBF0F8",
            "ticks": ""
           },
           "bgcolor": "white",
           "radialaxis": {
            "gridcolor": "#EBF0F8",
            "linecolor": "#EBF0F8",
            "ticks": ""
           }
          },
          "scene": {
           "xaxis": {
            "backgroundcolor": "white",
            "gridcolor": "#DFE8F3",
            "gridwidth": 2,
            "linecolor": "#EBF0F8",
            "showbackground": true,
            "ticks": "",
            "zerolinecolor": "#EBF0F8"
           },
           "yaxis": {
            "backgroundcolor": "white",
            "gridcolor": "#DFE8F3",
            "gridwidth": 2,
            "linecolor": "#EBF0F8",
            "showbackground": true,
            "ticks": "",
            "zerolinecolor": "#EBF0F8"
           },
           "zaxis": {
            "backgroundcolor": "white",
            "gridcolor": "#DFE8F3",
            "gridwidth": 2,
            "linecolor": "#EBF0F8",
            "showbackground": true,
            "ticks": "",
            "zerolinecolor": "#EBF0F8"
           }
          },
          "shapedefaults": {
           "line": {
            "color": "#2a3f5f"
           }
          },
          "ternary": {
           "aaxis": {
            "gridcolor": "#DFE8F3",
            "linecolor": "#A2B1C6",
            "ticks": ""
           },
           "baxis": {
            "gridcolor": "#DFE8F3",
            "linecolor": "#A2B1C6",
            "ticks": ""
           },
           "bgcolor": "white",
           "caxis": {
            "gridcolor": "#DFE8F3",
            "linecolor": "#A2B1C6",
            "ticks": ""
           }
          },
          "title": {
           "x": 0.05
          },
          "xaxis": {
           "automargin": true,
           "gridcolor": "#EBF0F8",
           "linecolor": "#EBF0F8",
           "ticks": "",
           "title": {
            "standoff": 15
           },
           "zerolinecolor": "#EBF0F8",
           "zerolinewidth": 2
          },
          "yaxis": {
           "automargin": true,
           "gridcolor": "#EBF0F8",
           "linecolor": "#EBF0F8",
           "ticks": "",
           "title": {
            "standoff": 15
           },
           "zerolinecolor": "#EBF0F8",
           "zerolinewidth": 2
          }
         }
        },
        "title": {
         "font": {
          "color": "black",
          "family": "Myriad Pro",
          "size": 18
         },
         "text": "OD Normalized GFP scaled to the max value"
        },
        "width": 625,
        "xaxis": {
         "linecolor": "black",
         "linewidth": 1.25,
         "mirror": true,
         "showgrid": false,
         "showline": true,
         "side": "bottom",
         "tickangle": 0,
         "tickcolor": "black",
         "tickfont": {
          "color": "black",
          "family": "Myriad Pro",
          "size": 18
         },
         "ticklen": 4,
         "ticks": "outside",
         "tickson": "boundaries",
         "title": {
          "font": {
           "color": "black",
           "family": "Myriad Pro",
           "size": 18
          }
         },
         "zeroline": false
        },
        "yaxis": {
         "linecolor": "black",
         "linewidth": 1.25,
         "mirror": true,
         "nticks": 9,
         "showgrid": true,
         "showline": true,
         "side": "left",
         "tickangle": 0,
         "tickcolor": "black",
         "tickfont": {
          "color": "black",
          "family": "Myriad Pro",
          "size": 18
         },
         "ticklen": 4,
         "ticks": "outside",
         "title": {
          "font": {
           "color": "black",
           "family": "Myriad Pro",
           "size": 18
          },
          "standoff": 0,
          "text": "Scaled Fluorescence (a.u.)"
         },
         "type": "log",
         "zeroline": false
        }
       }
      },
      "text/html": [
       "<div>                            <div id=\"11274e9c-8193-491a-8541-03e9ecfa4b15\" class=\"plotly-graph-div\" style=\"height:450px; width:625px;\"></div>            <script type=\"text/javascript\">                require([\"plotly\"], function(Plotly) {                    window.PLOTLYENV=window.PLOTLYENV || {};                                    if (document.getElementById(\"11274e9c-8193-491a-8541-03e9ecfa4b15\")) {                    Plotly.newPlot(                        \"11274e9c-8193-491a-8541-03e9ecfa4b15\",                        [{\"error_y\": {\"array\": [0.016674905936030885, 0.007916306108649287, 0.017417578925966185, 0.013601866241579668], \"color\": \"black\", \"thickness\": 1.5, \"type\": \"data\", \"width\": 3}, \"legendgroup\": \"1\", \"marker\": {\"color\": \"rgb(146.0, 197.0, 222.0)\", \"line\": {\"width\": 0}}, \"name\": \"RBS \\\"A\\\"\", \"showlegend\": true, \"type\": \"bar\", \"x\": [\"No Tag\", \"DAS Tag\", \"DAS+2 Tag\", \"LAA Tag\"], \"y\": [0.059817238056755664, 0.030304914058371928, 0.0320247826852744, 0.03285363503558885]}, {\"error_y\": {\"array\": [0.00914273009000545, 0.021637176813238464, 0.007540286095122502, 0.01011406316316934], \"color\": \"black\", \"thickness\": 1.5, \"type\": \"data\", \"width\": 3}, \"legendgroup\": \"2\", \"marker\": {\"color\": \"rgb(117.75, 173.25, 209.5)\", \"line\": {\"width\": 0}}, \"name\": \"RBS \\\"B\\\"\", \"showlegend\": true, \"type\": \"bar\", \"x\": [\"No Tag\", \"DAS Tag\", \"DAS+2 Tag\", \"LAA Tag\"], \"y\": [0.22052652845553725, 0.0857344149856505, 0.10328536350355888, 0.06638071260580818]}, {\"error_y\": {\"array\": [0.07082266351779264, 0.028687321784568103, 0.06824158793608569, 0.028520474706057737], \"color\": \"black\", \"thickness\": 1.5, \"type\": \"data\", \"width\": 3}, \"legendgroup\": \"3\", \"marker\": {\"color\": \"rgb(89.5, 149.5, 197.0)\", \"line\": {\"width\": 0}}, \"name\": \"RBS \\\"C\\\"\", \"showlegend\": true, \"type\": \"bar\", \"x\": [\"No Tag\", \"DAS Tag\", \"DAS+2 Tag\", \"LAA Tag\"], \"y\": [0.5859260870916607, 0.5984054952910826, 0.5420176338337529, 0.2657352438380008]}, {\"error_y\": {\"array\": [0.09231494971756932, 0.09811243259496455, 0.13001741096754577, 0.08754466893373064], \"color\": \"black\", \"thickness\": 1.5, \"type\": \"data\", \"width\": 3}, \"legendgroup\": \"4\", \"marker\": {\"color\": \"rgb(61.25, 125.75, 184.5)\", \"line\": {\"width\": 0}}, \"name\": \"RBS \\\"D\\\"\", \"showlegend\": true, \"type\": \"bar\", \"x\": [\"No Tag\", \"DAS Tag\", \"DAS+2 Tag\", \"LAA Tag\"], \"y\": [0.9722127249557082, 1.0, 0.8978180461877973, 0.5912255618064837]}, {\"error_y\": {\"array\": [0.0331252221622212, 0.03057566906788834, 0.010729686959910952, 0.023167150649785525], \"color\": \"black\", \"thickness\": 1.5, \"type\": \"data\", \"width\": 3}, \"legendgroup\": \"5\", \"marker\": {\"color\": \"rgb(33.0, 102.0, 172.0)\", \"line\": {\"width\": 0}}, \"name\": \"RBS \\\"E\\\"\", \"showlegend\": true, \"type\": \"bar\", \"x\": [\"No Tag\", \"DAS Tag\", \"DAS+2 Tag\", \"LAA Tag\"], \"y\": [0.4011438162434339, 0.39724302986976656, 0.29834022316849534, 0.14355204674727257]}],                        {\"bargap\": 0.3, \"bargroupgap\": 0.1, \"height\": 450, \"legend\": {\"font\": {\"color\": \"black\", \"family\": \"Myriad Pro\", \"size\": 18}, \"orientation\": \"h\", \"x\": 0.02, \"y\": -0.2}, \"template\": {\"data\": {\"bar\": [{\"error_x\": {\"color\": \"#2a3f5f\"}, \"error_y\": {\"color\": \"#2a3f5f\"}, \"marker\": {\"line\": {\"color\": \"white\", \"width\": 0.5}}, \"type\": \"bar\"}], \"barpolar\": [{\"marker\": {\"line\": {\"color\": \"white\", \"width\": 0.5}}, \"type\": \"barpolar\"}], \"carpet\": [{\"aaxis\": {\"endlinecolor\": \"#2a3f5f\", \"gridcolor\": \"#C8D4E3\", \"linecolor\": \"#C8D4E3\", \"minorgridcolor\": \"#C8D4E3\", \"startlinecolor\": \"#2a3f5f\"}, \"baxis\": {\"endlinecolor\": \"#2a3f5f\", \"gridcolor\": \"#C8D4E3\", \"linecolor\": \"#C8D4E3\", \"minorgridcolor\": \"#C8D4E3\", \"startlinecolor\": \"#2a3f5f\"}, \"type\": \"carpet\"}], \"choropleth\": [{\"colorbar\": {\"outlinewidth\": 0, \"ticks\": \"\"}, \"type\": \"choropleth\"}], \"contour\": [{\"colorbar\": {\"outlinewidth\": 0, \"ticks\": \"\"}, \"colorscale\": [[0.0, \"#0d0887\"], [0.1111111111111111, \"#46039f\"], [0.2222222222222222, \"#7201a8\"], [0.3333333333333333, \"#9c179e\"], [0.4444444444444444, \"#bd3786\"], [0.5555555555555556, \"#d8576b\"], [0.6666666666666666, \"#ed7953\"], [0.7777777777777778, \"#fb9f3a\"], [0.8888888888888888, \"#fdca26\"], [1.0, \"#f0f921\"]], \"type\": \"contour\"}], \"contourcarpet\": [{\"colorbar\": {\"outlinewidth\": 0, \"ticks\": \"\"}, \"type\": \"contourcarpet\"}], \"heatmap\": [{\"colorbar\": {\"outlinewidth\": 0, \"ticks\": \"\"}, \"colorscale\": [[0.0, \"#0d0887\"], [0.1111111111111111, \"#46039f\"], [0.2222222222222222, \"#7201a8\"], [0.3333333333333333, \"#9c179e\"], [0.4444444444444444, \"#bd3786\"], [0.5555555555555556, \"#d8576b\"], [0.6666666666666666, \"#ed7953\"], [0.7777777777777778, \"#fb9f3a\"], [0.8888888888888888, \"#fdca26\"], [1.0, \"#f0f921\"]], \"type\": \"heatmap\"}], \"heatmapgl\": [{\"colorbar\": {\"outlinewidth\": 0, \"ticks\": \"\"}, \"colorscale\": [[0.0, \"#0d0887\"], [0.1111111111111111, \"#46039f\"], [0.2222222222222222, \"#7201a8\"], [0.3333333333333333, \"#9c179e\"], [0.4444444444444444, \"#bd3786\"], [0.5555555555555556, \"#d8576b\"], [0.6666666666666666, \"#ed7953\"], [0.7777777777777778, \"#fb9f3a\"], [0.8888888888888888, \"#fdca26\"], [1.0, \"#f0f921\"]], \"type\": \"heatmapgl\"}], \"histogram\": [{\"marker\": {\"colorbar\": {\"outlinewidth\": 0, \"ticks\": \"\"}}, \"type\": \"histogram\"}], \"histogram2d\": [{\"colorbar\": {\"outlinewidth\": 0, \"ticks\": \"\"}, \"colorscale\": [[0.0, \"#0d0887\"], [0.1111111111111111, \"#46039f\"], [0.2222222222222222, \"#7201a8\"], [0.3333333333333333, \"#9c179e\"], [0.4444444444444444, \"#bd3786\"], [0.5555555555555556, \"#d8576b\"], [0.6666666666666666, \"#ed7953\"], [0.7777777777777778, \"#fb9f3a\"], [0.8888888888888888, \"#fdca26\"], [1.0, \"#f0f921\"]], \"type\": \"histogram2d\"}], \"histogram2dcontour\": [{\"colorbar\": {\"outlinewidth\": 0, \"ticks\": \"\"}, \"colorscale\": [[0.0, \"#0d0887\"], [0.1111111111111111, \"#46039f\"], [0.2222222222222222, \"#7201a8\"], [0.3333333333333333, \"#9c179e\"], [0.4444444444444444, \"#bd3786\"], [0.5555555555555556, \"#d8576b\"], [0.6666666666666666, \"#ed7953\"], [0.7777777777777778, \"#fb9f3a\"], [0.8888888888888888, \"#fdca26\"], [1.0, \"#f0f921\"]], \"type\": \"histogram2dcontour\"}], \"mesh3d\": [{\"colorbar\": {\"outlinewidth\": 0, \"ticks\": \"\"}, \"type\": \"mesh3d\"}], \"parcoords\": [{\"line\": {\"colorbar\": {\"outlinewidth\": 0, \"ticks\": \"\"}}, \"type\": \"parcoords\"}], \"pie\": [{\"automargin\": true, \"type\": \"pie\"}], \"scatter\": [{\"marker\": {\"colorbar\": {\"outlinewidth\": 0, \"ticks\": \"\"}}, \"type\": \"scatter\"}], \"scatter3d\": [{\"line\": {\"colorbar\": {\"outlinewidth\": 0, \"ticks\": \"\"}}, \"marker\": {\"colorbar\": {\"outlinewidth\": 0, \"ticks\": \"\"}}, \"type\": \"scatter3d\"}], \"scattercarpet\": [{\"marker\": {\"colorbar\": {\"outlinewidth\": 0, \"ticks\": \"\"}}, \"type\": \"scattercarpet\"}], \"scattergeo\": [{\"marker\": {\"colorbar\": {\"outlinewidth\": 0, \"ticks\": \"\"}}, \"type\": \"scattergeo\"}], \"scattergl\": [{\"marker\": {\"colorbar\": {\"outlinewidth\": 0, \"ticks\": \"\"}}, \"type\": \"scattergl\"}], \"scattermapbox\": [{\"marker\": {\"colorbar\": {\"outlinewidth\": 0, \"ticks\": \"\"}}, \"type\": \"scattermapbox\"}], \"scatterpolar\": [{\"marker\": {\"colorbar\": {\"outlinewidth\": 0, \"ticks\": \"\"}}, \"type\": \"scatterpolar\"}], \"scatterpolargl\": [{\"marker\": {\"colorbar\": {\"outlinewidth\": 0, \"ticks\": \"\"}}, \"type\": \"scatterpolargl\"}], \"scatterternary\": [{\"marker\": {\"colorbar\": {\"outlinewidth\": 0, \"ticks\": \"\"}}, \"type\": \"scatterternary\"}], \"surface\": [{\"colorbar\": {\"outlinewidth\": 0, \"ticks\": \"\"}, \"colorscale\": [[0.0, \"#0d0887\"], [0.1111111111111111, \"#46039f\"], [0.2222222222222222, \"#7201a8\"], [0.3333333333333333, \"#9c179e\"], [0.4444444444444444, \"#bd3786\"], [0.5555555555555556, \"#d8576b\"], [0.6666666666666666, \"#ed7953\"], [0.7777777777777778, \"#fb9f3a\"], [0.8888888888888888, \"#fdca26\"], [1.0, \"#f0f921\"]], \"type\": \"surface\"}], \"table\": [{\"cells\": {\"fill\": {\"color\": \"#EBF0F8\"}, \"line\": {\"color\": \"white\"}}, \"header\": {\"fill\": {\"color\": \"#C8D4E3\"}, \"line\": {\"color\": \"white\"}}, \"type\": \"table\"}]}, \"layout\": {\"annotationdefaults\": {\"arrowcolor\": \"#2a3f5f\", \"arrowhead\": 0, \"arrowwidth\": 1}, \"autotypenumbers\": \"strict\", \"coloraxis\": {\"colorbar\": {\"outlinewidth\": 0, \"ticks\": \"\"}}, \"colorscale\": {\"diverging\": [[0, \"#8e0152\"], [0.1, \"#c51b7d\"], [0.2, \"#de77ae\"], [0.3, \"#f1b6da\"], [0.4, \"#fde0ef\"], [0.5, \"#f7f7f7\"], [0.6, \"#e6f5d0\"], [0.7, \"#b8e186\"], [0.8, \"#7fbc41\"], [0.9, \"#4d9221\"], [1, \"#276419\"]], \"sequential\": [[0.0, \"#0d0887\"], [0.1111111111111111, \"#46039f\"], [0.2222222222222222, \"#7201a8\"], [0.3333333333333333, \"#9c179e\"], [0.4444444444444444, \"#bd3786\"], [0.5555555555555556, \"#d8576b\"], [0.6666666666666666, \"#ed7953\"], [0.7777777777777778, \"#fb9f3a\"], [0.8888888888888888, \"#fdca26\"], [1.0, \"#f0f921\"]], \"sequentialminus\": [[0.0, \"#0d0887\"], [0.1111111111111111, \"#46039f\"], [0.2222222222222222, \"#7201a8\"], [0.3333333333333333, \"#9c179e\"], [0.4444444444444444, \"#bd3786\"], [0.5555555555555556, \"#d8576b\"], [0.6666666666666666, \"#ed7953\"], [0.7777777777777778, \"#fb9f3a\"], [0.8888888888888888, \"#fdca26\"], [1.0, \"#f0f921\"]]}, \"colorway\": [\"#636efa\", \"#EF553B\", \"#00cc96\", \"#ab63fa\", \"#FFA15A\", \"#19d3f3\", \"#FF6692\", \"#B6E880\", \"#FF97FF\", \"#FECB52\"], \"font\": {\"color\": \"#2a3f5f\"}, \"geo\": {\"bgcolor\": \"white\", \"lakecolor\": \"white\", \"landcolor\": \"white\", \"showlakes\": true, \"showland\": true, \"subunitcolor\": \"#C8D4E3\"}, \"hoverlabel\": {\"align\": \"left\"}, \"hovermode\": \"closest\", \"mapbox\": {\"style\": \"light\"}, \"paper_bgcolor\": \"white\", \"plot_bgcolor\": \"white\", \"polar\": {\"angularaxis\": {\"gridcolor\": \"#EBF0F8\", \"linecolor\": \"#EBF0F8\", \"ticks\": \"\"}, \"bgcolor\": \"white\", \"radialaxis\": {\"gridcolor\": \"#EBF0F8\", \"linecolor\": \"#EBF0F8\", \"ticks\": \"\"}}, \"scene\": {\"xaxis\": {\"backgroundcolor\": \"white\", \"gridcolor\": \"#DFE8F3\", \"gridwidth\": 2, \"linecolor\": \"#EBF0F8\", \"showbackground\": true, \"ticks\": \"\", \"zerolinecolor\": \"#EBF0F8\"}, \"yaxis\": {\"backgroundcolor\": \"white\", \"gridcolor\": \"#DFE8F3\", \"gridwidth\": 2, \"linecolor\": \"#EBF0F8\", \"showbackground\": true, \"ticks\": \"\", \"zerolinecolor\": \"#EBF0F8\"}, \"zaxis\": {\"backgroundcolor\": \"white\", \"gridcolor\": \"#DFE8F3\", \"gridwidth\": 2, \"linecolor\": \"#EBF0F8\", \"showbackground\": true, \"ticks\": \"\", \"zerolinecolor\": \"#EBF0F8\"}}, \"shapedefaults\": {\"line\": {\"color\": \"#2a3f5f\"}}, \"ternary\": {\"aaxis\": {\"gridcolor\": \"#DFE8F3\", \"linecolor\": \"#A2B1C6\", \"ticks\": \"\"}, \"baxis\": {\"gridcolor\": \"#DFE8F3\", \"linecolor\": \"#A2B1C6\", \"ticks\": \"\"}, \"bgcolor\": \"white\", \"caxis\": {\"gridcolor\": \"#DFE8F3\", \"linecolor\": \"#A2B1C6\", \"ticks\": \"\"}}, \"title\": {\"x\": 0.05}, \"xaxis\": {\"automargin\": true, \"gridcolor\": \"#EBF0F8\", \"linecolor\": \"#EBF0F8\", \"ticks\": \"\", \"title\": {\"standoff\": 15}, \"zerolinecolor\": \"#EBF0F8\", \"zerolinewidth\": 2}, \"yaxis\": {\"automargin\": true, \"gridcolor\": \"#EBF0F8\", \"linecolor\": \"#EBF0F8\", \"ticks\": \"\", \"title\": {\"standoff\": 15}, \"zerolinecolor\": \"#EBF0F8\", \"zerolinewidth\": 2}}}, \"title\": {\"font\": {\"color\": \"black\", \"family\": \"Myriad Pro\", \"size\": 18}, \"text\": \"OD Normalized GFP scaled to the max value\"}, \"width\": 625, \"xaxis\": {\"linecolor\": \"black\", \"linewidth\": 1.25, \"mirror\": true, \"showgrid\": false, \"showline\": true, \"side\": \"bottom\", \"tickangle\": 0, \"tickcolor\": \"black\", \"tickfont\": {\"color\": \"black\", \"family\": \"Myriad Pro\", \"size\": 18}, \"ticklen\": 4, \"ticks\": \"outside\", \"tickson\": \"boundaries\", \"title\": {\"font\": {\"color\": \"black\", \"family\": \"Myriad Pro\", \"size\": 18}}, \"zeroline\": false}, \"yaxis\": {\"linecolor\": \"black\", \"linewidth\": 1.25, \"mirror\": true, \"nticks\": 9, \"showgrid\": true, \"showline\": true, \"side\": \"left\", \"tickangle\": 0, \"tickcolor\": \"black\", \"tickfont\": {\"color\": \"black\", \"family\": \"Myriad Pro\", \"size\": 18}, \"ticklen\": 4, \"ticks\": \"outside\", \"title\": {\"font\": {\"color\": \"black\", \"family\": \"Myriad Pro\", \"size\": 18}, \"standoff\": 0, \"text\": \"Scaled Fluorescence (a.u.)\"}, \"type\": \"log\", \"zeroline\": false}},                        {\"responsive\": true}                    ).then(function(){\n",
       "                            \n",
       "var gd = document.getElementById('11274e9c-8193-491a-8541-03e9ecfa4b15');\n",
       "var x = new MutationObserver(function (mutations, observer) {{\n",
       "        var display = window.getComputedStyle(gd).display;\n",
       "        if (!display || display === 'none') {{\n",
       "            console.log([gd, 'removed!']);\n",
       "            Plotly.purge(gd);\n",
       "            observer.disconnect();\n",
       "        }}\n",
       "}});\n",
       "\n",
       "// Listen for the removal of the full notebook cells\n",
       "var notebookContainer = gd.closest('#notebook-container');\n",
       "if (notebookContainer) {{\n",
       "    x.observe(notebookContainer, {childList: true});\n",
       "}}\n",
       "\n",
       "// Listen for the clearing of the current output cell\n",
       "var outputEl = gd.closest('.output');\n",
       "if (outputEl) {{\n",
       "    x.observe(outputEl, {childList: true});\n",
       "}}\n",
       "\n",
       "                        })                };                });            </script>        </div>"
      ]
     },
     "metadata": {},
     "output_type": "display_data"
    },
    {
     "data": {
      "application/vnd.plotly.v1+json": {
       "config": {
        "linkText": "Export to plot.ly",
        "plotlyServerURL": "https://plot.ly",
        "showLink": false
       },
       "data": [
        {
         "error_y": {
          "array": [
           0.016674905936030885,
           0.00914273009000545,
           0.07082266351779264,
           0.09231494971756932,
           0.0331252221622212
          ],
          "color": "black",
          "thickness": 1.5,
          "type": "data",
          "width": 3
         },
         "legendgroup": "0",
         "marker": {
          "color": "rgb(219.0, 120.0, 0.0)",
          "line": {
           "width": 0
          }
         },
         "name": "No Tag",
         "showlegend": true,
         "type": "bar",
         "x": [
          "RBS \"A\"",
          "RBS \"B\"",
          "RBS \"C\"",
          "RBS \"D\"",
          "RBS \"E\""
         ],
         "y": [
          0.059817238056755664,
          0.22052652845553725,
          0.5859260870916607,
          0.9722127249557082,
          0.4011438162434339
         ]
        },
        {
         "error_y": {
          "array": [
           0.007916306108649287,
           0.021637176813238464,
           0.028687321784568103,
           0.09811243259496455,
           0.03057566906788834
          ],
          "color": "black",
          "thickness": 1.5,
          "type": "data",
          "width": 3
         },
         "legendgroup": "1",
         "marker": {
          "color": "rgb(231.0, 143.0, 36.33333333333333)",
          "line": {
           "width": 0
          }
         },
         "name": "DAS Tag",
         "showlegend": true,
         "type": "bar",
         "x": [
          "RBS \"A\"",
          "RBS \"B\"",
          "RBS \"C\"",
          "RBS \"D\"",
          "RBS \"E\""
         ],
         "y": [
          0.030304914058371928,
          0.0857344149856505,
          0.5984054952910826,
          1,
          0.39724302986976656
         ]
        },
        {
         "error_y": {
          "array": [
           0.017417578925966185,
           0.007540286095122502,
           0.06824158793608569,
           0.13001741096754577,
           0.010729686959910952
          ],
          "color": "black",
          "thickness": 1.5,
          "type": "data",
          "width": 3
         },
         "legendgroup": "2",
         "marker": {
          "color": "rgb(243.0, 166.0, 72.66666666666666)",
          "line": {
           "width": 0
          }
         },
         "name": "DAS+2 Tag",
         "showlegend": true,
         "type": "bar",
         "x": [
          "RBS \"A\"",
          "RBS \"B\"",
          "RBS \"C\"",
          "RBS \"D\"",
          "RBS \"E\""
         ],
         "y": [
          0.0320247826852744,
          0.10328536350355888,
          0.5420176338337529,
          0.8978180461877973,
          0.29834022316849534
         ]
        },
        {
         "error_y": {
          "array": [
           0.013601866241579668,
           0.01011406316316934,
           0.028520474706057737,
           0.08754466893373064,
           0.023167150649785525
          ],
          "color": "black",
          "thickness": 1.5,
          "type": "data",
          "width": 3
         },
         "legendgroup": "3",
         "marker": {
          "color": "rgb(255.0, 189.0, 109.0)",
          "line": {
           "width": 0
          }
         },
         "name": "LAA Tag",
         "showlegend": true,
         "type": "bar",
         "x": [
          "RBS \"A\"",
          "RBS \"B\"",
          "RBS \"C\"",
          "RBS \"D\"",
          "RBS \"E\""
         ],
         "y": [
          0.03285363503558885,
          0.06638071260580818,
          0.2657352438380008,
          0.5912255618064837,
          0.14355204674727257
         ]
        }
       ],
       "layout": {
        "bargap": 0.3,
        "bargroupgap": 0.1,
        "height": 400,
        "legend": {
         "font": {
          "color": "black",
          "family": "Myriad Pro",
          "size": 18
         },
         "orientation": "h",
         "x": 0.02,
         "y": -0.2
        },
        "template": {
         "data": {
          "bar": [
           {
            "error_x": {
             "color": "#2a3f5f"
            },
            "error_y": {
             "color": "#2a3f5f"
            },
            "marker": {
             "line": {
              "color": "white",
              "width": 0.5
             }
            },
            "type": "bar"
           }
          ],
          "barpolar": [
           {
            "marker": {
             "line": {
              "color": "white",
              "width": 0.5
             }
            },
            "type": "barpolar"
           }
          ],
          "carpet": [
           {
            "aaxis": {
             "endlinecolor": "#2a3f5f",
             "gridcolor": "#C8D4E3",
             "linecolor": "#C8D4E3",
             "minorgridcolor": "#C8D4E3",
             "startlinecolor": "#2a3f5f"
            },
            "baxis": {
             "endlinecolor": "#2a3f5f",
             "gridcolor": "#C8D4E3",
             "linecolor": "#C8D4E3",
             "minorgridcolor": "#C8D4E3",
             "startlinecolor": "#2a3f5f"
            },
            "type": "carpet"
           }
          ],
          "choropleth": [
           {
            "colorbar": {
             "outlinewidth": 0,
             "ticks": ""
            },
            "type": "choropleth"
           }
          ],
          "contour": [
           {
            "colorbar": {
             "outlinewidth": 0,
             "ticks": ""
            },
            "colorscale": [
             [
              0,
              "#0d0887"
             ],
             [
              0.1111111111111111,
              "#46039f"
             ],
             [
              0.2222222222222222,
              "#7201a8"
             ],
             [
              0.3333333333333333,
              "#9c179e"
             ],
             [
              0.4444444444444444,
              "#bd3786"
             ],
             [
              0.5555555555555556,
              "#d8576b"
             ],
             [
              0.6666666666666666,
              "#ed7953"
             ],
             [
              0.7777777777777778,
              "#fb9f3a"
             ],
             [
              0.8888888888888888,
              "#fdca26"
             ],
             [
              1,
              "#f0f921"
             ]
            ],
            "type": "contour"
           }
          ],
          "contourcarpet": [
           {
            "colorbar": {
             "outlinewidth": 0,
             "ticks": ""
            },
            "type": "contourcarpet"
           }
          ],
          "heatmap": [
           {
            "colorbar": {
             "outlinewidth": 0,
             "ticks": ""
            },
            "colorscale": [
             [
              0,
              "#0d0887"
             ],
             [
              0.1111111111111111,
              "#46039f"
             ],
             [
              0.2222222222222222,
              "#7201a8"
             ],
             [
              0.3333333333333333,
              "#9c179e"
             ],
             [
              0.4444444444444444,
              "#bd3786"
             ],
             [
              0.5555555555555556,
              "#d8576b"
             ],
             [
              0.6666666666666666,
              "#ed7953"
             ],
             [
              0.7777777777777778,
              "#fb9f3a"
             ],
             [
              0.8888888888888888,
              "#fdca26"
             ],
             [
              1,
              "#f0f921"
             ]
            ],
            "type": "heatmap"
           }
          ],
          "heatmapgl": [
           {
            "colorbar": {
             "outlinewidth": 0,
             "ticks": ""
            },
            "colorscale": [
             [
              0,
              "#0d0887"
             ],
             [
              0.1111111111111111,
              "#46039f"
             ],
             [
              0.2222222222222222,
              "#7201a8"
             ],
             [
              0.3333333333333333,
              "#9c179e"
             ],
             [
              0.4444444444444444,
              "#bd3786"
             ],
             [
              0.5555555555555556,
              "#d8576b"
             ],
             [
              0.6666666666666666,
              "#ed7953"
             ],
             [
              0.7777777777777778,
              "#fb9f3a"
             ],
             [
              0.8888888888888888,
              "#fdca26"
             ],
             [
              1,
              "#f0f921"
             ]
            ],
            "type": "heatmapgl"
           }
          ],
          "histogram": [
           {
            "marker": {
             "colorbar": {
              "outlinewidth": 0,
              "ticks": ""
             }
            },
            "type": "histogram"
           }
          ],
          "histogram2d": [
           {
            "colorbar": {
             "outlinewidth": 0,
             "ticks": ""
            },
            "colorscale": [
             [
              0,
              "#0d0887"
             ],
             [
              0.1111111111111111,
              "#46039f"
             ],
             [
              0.2222222222222222,
              "#7201a8"
             ],
             [
              0.3333333333333333,
              "#9c179e"
             ],
             [
              0.4444444444444444,
              "#bd3786"
             ],
             [
              0.5555555555555556,
              "#d8576b"
             ],
             [
              0.6666666666666666,
              "#ed7953"
             ],
             [
              0.7777777777777778,
              "#fb9f3a"
             ],
             [
              0.8888888888888888,
              "#fdca26"
             ],
             [
              1,
              "#f0f921"
             ]
            ],
            "type": "histogram2d"
           }
          ],
          "histogram2dcontour": [
           {
            "colorbar": {
             "outlinewidth": 0,
             "ticks": ""
            },
            "colorscale": [
             [
              0,
              "#0d0887"
             ],
             [
              0.1111111111111111,
              "#46039f"
             ],
             [
              0.2222222222222222,
              "#7201a8"
             ],
             [
              0.3333333333333333,
              "#9c179e"
             ],
             [
              0.4444444444444444,
              "#bd3786"
             ],
             [
              0.5555555555555556,
              "#d8576b"
             ],
             [
              0.6666666666666666,
              "#ed7953"
             ],
             [
              0.7777777777777778,
              "#fb9f3a"
             ],
             [
              0.8888888888888888,
              "#fdca26"
             ],
             [
              1,
              "#f0f921"
             ]
            ],
            "type": "histogram2dcontour"
           }
          ],
          "mesh3d": [
           {
            "colorbar": {
             "outlinewidth": 0,
             "ticks": ""
            },
            "type": "mesh3d"
           }
          ],
          "parcoords": [
           {
            "line": {
             "colorbar": {
              "outlinewidth": 0,
              "ticks": ""
             }
            },
            "type": "parcoords"
           }
          ],
          "pie": [
           {
            "automargin": true,
            "type": "pie"
           }
          ],
          "scatter": [
           {
            "marker": {
             "colorbar": {
              "outlinewidth": 0,
              "ticks": ""
             }
            },
            "type": "scatter"
           }
          ],
          "scatter3d": [
           {
            "line": {
             "colorbar": {
              "outlinewidth": 0,
              "ticks": ""
             }
            },
            "marker": {
             "colorbar": {
              "outlinewidth": 0,
              "ticks": ""
             }
            },
            "type": "scatter3d"
           }
          ],
          "scattercarpet": [
           {
            "marker": {
             "colorbar": {
              "outlinewidth": 0,
              "ticks": ""
             }
            },
            "type": "scattercarpet"
           }
          ],
          "scattergeo": [
           {
            "marker": {
             "colorbar": {
              "outlinewidth": 0,
              "ticks": ""
             }
            },
            "type": "scattergeo"
           }
          ],
          "scattergl": [
           {
            "marker": {
             "colorbar": {
              "outlinewidth": 0,
              "ticks": ""
             }
            },
            "type": "scattergl"
           }
          ],
          "scattermapbox": [
           {
            "marker": {
             "colorbar": {
              "outlinewidth": 0,
              "ticks": ""
             }
            },
            "type": "scattermapbox"
           }
          ],
          "scatterpolar": [
           {
            "marker": {
             "colorbar": {
              "outlinewidth": 0,
              "ticks": ""
             }
            },
            "type": "scatterpolar"
           }
          ],
          "scatterpolargl": [
           {
            "marker": {
             "colorbar": {
              "outlinewidth": 0,
              "ticks": ""
             }
            },
            "type": "scatterpolargl"
           }
          ],
          "scatterternary": [
           {
            "marker": {
             "colorbar": {
              "outlinewidth": 0,
              "ticks": ""
             }
            },
            "type": "scatterternary"
           }
          ],
          "surface": [
           {
            "colorbar": {
             "outlinewidth": 0,
             "ticks": ""
            },
            "colorscale": [
             [
              0,
              "#0d0887"
             ],
             [
              0.1111111111111111,
              "#46039f"
             ],
             [
              0.2222222222222222,
              "#7201a8"
             ],
             [
              0.3333333333333333,
              "#9c179e"
             ],
             [
              0.4444444444444444,
              "#bd3786"
             ],
             [
              0.5555555555555556,
              "#d8576b"
             ],
             [
              0.6666666666666666,
              "#ed7953"
             ],
             [
              0.7777777777777778,
              "#fb9f3a"
             ],
             [
              0.8888888888888888,
              "#fdca26"
             ],
             [
              1,
              "#f0f921"
             ]
            ],
            "type": "surface"
           }
          ],
          "table": [
           {
            "cells": {
             "fill": {
              "color": "#EBF0F8"
             },
             "line": {
              "color": "white"
             }
            },
            "header": {
             "fill": {
              "color": "#C8D4E3"
             },
             "line": {
              "color": "white"
             }
            },
            "type": "table"
           }
          ]
         },
         "layout": {
          "annotationdefaults": {
           "arrowcolor": "#2a3f5f",
           "arrowhead": 0,
           "arrowwidth": 1
          },
          "autotypenumbers": "strict",
          "coloraxis": {
           "colorbar": {
            "outlinewidth": 0,
            "ticks": ""
           }
          },
          "colorscale": {
           "diverging": [
            [
             0,
             "#8e0152"
            ],
            [
             0.1,
             "#c51b7d"
            ],
            [
             0.2,
             "#de77ae"
            ],
            [
             0.3,
             "#f1b6da"
            ],
            [
             0.4,
             "#fde0ef"
            ],
            [
             0.5,
             "#f7f7f7"
            ],
            [
             0.6,
             "#e6f5d0"
            ],
            [
             0.7,
             "#b8e186"
            ],
            [
             0.8,
             "#7fbc41"
            ],
            [
             0.9,
             "#4d9221"
            ],
            [
             1,
             "#276419"
            ]
           ],
           "sequential": [
            [
             0,
             "#0d0887"
            ],
            [
             0.1111111111111111,
             "#46039f"
            ],
            [
             0.2222222222222222,
             "#7201a8"
            ],
            [
             0.3333333333333333,
             "#9c179e"
            ],
            [
             0.4444444444444444,
             "#bd3786"
            ],
            [
             0.5555555555555556,
             "#d8576b"
            ],
            [
             0.6666666666666666,
             "#ed7953"
            ],
            [
             0.7777777777777778,
             "#fb9f3a"
            ],
            [
             0.8888888888888888,
             "#fdca26"
            ],
            [
             1,
             "#f0f921"
            ]
           ],
           "sequentialminus": [
            [
             0,
             "#0d0887"
            ],
            [
             0.1111111111111111,
             "#46039f"
            ],
            [
             0.2222222222222222,
             "#7201a8"
            ],
            [
             0.3333333333333333,
             "#9c179e"
            ],
            [
             0.4444444444444444,
             "#bd3786"
            ],
            [
             0.5555555555555556,
             "#d8576b"
            ],
            [
             0.6666666666666666,
             "#ed7953"
            ],
            [
             0.7777777777777778,
             "#fb9f3a"
            ],
            [
             0.8888888888888888,
             "#fdca26"
            ],
            [
             1,
             "#f0f921"
            ]
           ]
          },
          "colorway": [
           "#636efa",
           "#EF553B",
           "#00cc96",
           "#ab63fa",
           "#FFA15A",
           "#19d3f3",
           "#FF6692",
           "#B6E880",
           "#FF97FF",
           "#FECB52"
          ],
          "font": {
           "color": "#2a3f5f"
          },
          "geo": {
           "bgcolor": "white",
           "lakecolor": "white",
           "landcolor": "white",
           "showlakes": true,
           "showland": true,
           "subunitcolor": "#C8D4E3"
          },
          "hoverlabel": {
           "align": "left"
          },
          "hovermode": "closest",
          "mapbox": {
           "style": "light"
          },
          "paper_bgcolor": "white",
          "plot_bgcolor": "white",
          "polar": {
           "angularaxis": {
            "gridcolor": "#EBF0F8",
            "linecolor": "#EBF0F8",
            "ticks": ""
           },
           "bgcolor": "white",
           "radialaxis": {
            "gridcolor": "#EBF0F8",
            "linecolor": "#EBF0F8",
            "ticks": ""
           }
          },
          "scene": {
           "xaxis": {
            "backgroundcolor": "white",
            "gridcolor": "#DFE8F3",
            "gridwidth": 2,
            "linecolor": "#EBF0F8",
            "showbackground": true,
            "ticks": "",
            "zerolinecolor": "#EBF0F8"
           },
           "yaxis": {
            "backgroundcolor": "white",
            "gridcolor": "#DFE8F3",
            "gridwidth": 2,
            "linecolor": "#EBF0F8",
            "showbackground": true,
            "ticks": "",
            "zerolinecolor": "#EBF0F8"
           },
           "zaxis": {
            "backgroundcolor": "white",
            "gridcolor": "#DFE8F3",
            "gridwidth": 2,
            "linecolor": "#EBF0F8",
            "showbackground": true,
            "ticks": "",
            "zerolinecolor": "#EBF0F8"
           }
          },
          "shapedefaults": {
           "line": {
            "color": "#2a3f5f"
           }
          },
          "ternary": {
           "aaxis": {
            "gridcolor": "#DFE8F3",
            "linecolor": "#A2B1C6",
            "ticks": ""
           },
           "baxis": {
            "gridcolor": "#DFE8F3",
            "linecolor": "#A2B1C6",
            "ticks": ""
           },
           "bgcolor": "white",
           "caxis": {
            "gridcolor": "#DFE8F3",
            "linecolor": "#A2B1C6",
            "ticks": ""
           }
          },
          "title": {
           "x": 0.05
          },
          "xaxis": {
           "automargin": true,
           "gridcolor": "#EBF0F8",
           "linecolor": "#EBF0F8",
           "ticks": "",
           "title": {
            "standoff": 15
           },
           "zerolinecolor": "#EBF0F8",
           "zerolinewidth": 2
          },
          "yaxis": {
           "automargin": true,
           "gridcolor": "#EBF0F8",
           "linecolor": "#EBF0F8",
           "ticks": "",
           "title": {
            "standoff": 15
           },
           "zerolinecolor": "#EBF0F8",
           "zerolinewidth": 2
          }
         }
        },
        "title": {
         "font": {
          "color": "black",
          "family": "Myriad Pro",
          "size": 18
         },
         "text": "OD Normalized GFP scaled to the max value"
        },
        "width": 625,
        "xaxis": {
         "linecolor": "black",
         "linewidth": 1.25,
         "mirror": true,
         "showgrid": false,
         "showline": true,
         "side": "bottom",
         "tickangle": 0,
         "tickcolor": "black",
         "tickfont": {
          "color": "black",
          "family": "Myriad Pro",
          "size": 18
         },
         "ticklen": 4,
         "ticks": "outside",
         "tickson": "boundaries",
         "title": {
          "font": {
           "color": "black",
           "family": "Myriad Pro",
           "size": 18
          }
         },
         "zeroline": false
        },
        "yaxis": {
         "linecolor": "black",
         "linewidth": 1.25,
         "mirror": true,
         "nticks": 9,
         "showgrid": true,
         "showline": true,
         "side": "left",
         "tickangle": 0,
         "tickcolor": "black",
         "tickfont": {
          "color": "black",
          "family": "Myriad Pro",
          "size": 18
         },
         "ticklen": 4,
         "ticks": "outside",
         "title": {
          "font": {
           "color": "black",
           "family": "Myriad Pro",
           "size": 18
          },
          "standoff": 0,
          "text": "Scaled Fluorescence (a.u.)"
         },
         "type": "log",
         "zeroline": false
        }
       }
      },
      "text/html": [
       "<div>                            <div id=\"db84b0a8-571e-48be-b325-10ceb04eb403\" class=\"plotly-graph-div\" style=\"height:400px; width:625px;\"></div>            <script type=\"text/javascript\">                require([\"plotly\"], function(Plotly) {                    window.PLOTLYENV=window.PLOTLYENV || {};                                    if (document.getElementById(\"db84b0a8-571e-48be-b325-10ceb04eb403\")) {                    Plotly.newPlot(                        \"db84b0a8-571e-48be-b325-10ceb04eb403\",                        [{\"error_y\": {\"array\": [0.016674905936030885, 0.00914273009000545, 0.07082266351779264, 0.09231494971756932, 0.0331252221622212], \"color\": \"black\", \"thickness\": 1.5, \"type\": \"data\", \"width\": 3}, \"legendgroup\": \"0\", \"marker\": {\"color\": \"rgb(219.0, 120.0, 0.0)\", \"line\": {\"width\": 0}}, \"name\": \"No Tag\", \"showlegend\": true, \"type\": \"bar\", \"x\": [\"RBS \\\"A\\\"\", \"RBS \\\"B\\\"\", \"RBS \\\"C\\\"\", \"RBS \\\"D\\\"\", \"RBS \\\"E\\\"\"], \"y\": [0.059817238056755664, 0.22052652845553725, 0.5859260870916607, 0.9722127249557082, 0.4011438162434339]}, {\"error_y\": {\"array\": [0.007916306108649287, 0.021637176813238464, 0.028687321784568103, 0.09811243259496455, 0.03057566906788834], \"color\": \"black\", \"thickness\": 1.5, \"type\": \"data\", \"width\": 3}, \"legendgroup\": \"1\", \"marker\": {\"color\": \"rgb(231.0, 143.0, 36.33333333333333)\", \"line\": {\"width\": 0}}, \"name\": \"DAS Tag\", \"showlegend\": true, \"type\": \"bar\", \"x\": [\"RBS \\\"A\\\"\", \"RBS \\\"B\\\"\", \"RBS \\\"C\\\"\", \"RBS \\\"D\\\"\", \"RBS \\\"E\\\"\"], \"y\": [0.030304914058371928, 0.0857344149856505, 0.5984054952910826, 1.0, 0.39724302986976656]}, {\"error_y\": {\"array\": [0.017417578925966185, 0.007540286095122502, 0.06824158793608569, 0.13001741096754577, 0.010729686959910952], \"color\": \"black\", \"thickness\": 1.5, \"type\": \"data\", \"width\": 3}, \"legendgroup\": \"2\", \"marker\": {\"color\": \"rgb(243.0, 166.0, 72.66666666666666)\", \"line\": {\"width\": 0}}, \"name\": \"DAS+2 Tag\", \"showlegend\": true, \"type\": \"bar\", \"x\": [\"RBS \\\"A\\\"\", \"RBS \\\"B\\\"\", \"RBS \\\"C\\\"\", \"RBS \\\"D\\\"\", \"RBS \\\"E\\\"\"], \"y\": [0.0320247826852744, 0.10328536350355888, 0.5420176338337529, 0.8978180461877973, 0.29834022316849534]}, {\"error_y\": {\"array\": [0.013601866241579668, 0.01011406316316934, 0.028520474706057737, 0.08754466893373064, 0.023167150649785525], \"color\": \"black\", \"thickness\": 1.5, \"type\": \"data\", \"width\": 3}, \"legendgroup\": \"3\", \"marker\": {\"color\": \"rgb(255.0, 189.0, 109.0)\", \"line\": {\"width\": 0}}, \"name\": \"LAA Tag\", \"showlegend\": true, \"type\": \"bar\", \"x\": [\"RBS \\\"A\\\"\", \"RBS \\\"B\\\"\", \"RBS \\\"C\\\"\", \"RBS \\\"D\\\"\", \"RBS \\\"E\\\"\"], \"y\": [0.03285363503558885, 0.06638071260580818, 0.2657352438380008, 0.5912255618064837, 0.14355204674727257]}],                        {\"bargap\": 0.3, \"bargroupgap\": 0.1, \"height\": 400, \"legend\": {\"font\": {\"color\": \"black\", \"family\": \"Myriad Pro\", \"size\": 18}, \"orientation\": \"h\", \"x\": 0.02, \"y\": -0.2}, \"template\": {\"data\": {\"bar\": [{\"error_x\": {\"color\": \"#2a3f5f\"}, \"error_y\": {\"color\": \"#2a3f5f\"}, \"marker\": {\"line\": {\"color\": \"white\", \"width\": 0.5}}, \"type\": \"bar\"}], \"barpolar\": [{\"marker\": {\"line\": {\"color\": \"white\", \"width\": 0.5}}, \"type\": \"barpolar\"}], \"carpet\": [{\"aaxis\": {\"endlinecolor\": \"#2a3f5f\", \"gridcolor\": \"#C8D4E3\", \"linecolor\": \"#C8D4E3\", \"minorgridcolor\": \"#C8D4E3\", \"startlinecolor\": \"#2a3f5f\"}, \"baxis\": {\"endlinecolor\": \"#2a3f5f\", \"gridcolor\": \"#C8D4E3\", \"linecolor\": \"#C8D4E3\", \"minorgridcolor\": \"#C8D4E3\", \"startlinecolor\": \"#2a3f5f\"}, \"type\": \"carpet\"}], \"choropleth\": [{\"colorbar\": {\"outlinewidth\": 0, \"ticks\": \"\"}, \"type\": \"choropleth\"}], \"contour\": [{\"colorbar\": {\"outlinewidth\": 0, \"ticks\": \"\"}, \"colorscale\": [[0.0, \"#0d0887\"], [0.1111111111111111, \"#46039f\"], [0.2222222222222222, \"#7201a8\"], [0.3333333333333333, \"#9c179e\"], [0.4444444444444444, \"#bd3786\"], [0.5555555555555556, \"#d8576b\"], [0.6666666666666666, \"#ed7953\"], [0.7777777777777778, \"#fb9f3a\"], [0.8888888888888888, \"#fdca26\"], [1.0, \"#f0f921\"]], \"type\": \"contour\"}], \"contourcarpet\": [{\"colorbar\": {\"outlinewidth\": 0, \"ticks\": \"\"}, \"type\": \"contourcarpet\"}], \"heatmap\": [{\"colorbar\": {\"outlinewidth\": 0, \"ticks\": \"\"}, \"colorscale\": [[0.0, \"#0d0887\"], [0.1111111111111111, \"#46039f\"], [0.2222222222222222, \"#7201a8\"], [0.3333333333333333, \"#9c179e\"], [0.4444444444444444, \"#bd3786\"], [0.5555555555555556, \"#d8576b\"], [0.6666666666666666, \"#ed7953\"], [0.7777777777777778, \"#fb9f3a\"], [0.8888888888888888, \"#fdca26\"], [1.0, \"#f0f921\"]], \"type\": \"heatmap\"}], \"heatmapgl\": [{\"colorbar\": {\"outlinewidth\": 0, \"ticks\": \"\"}, \"colorscale\": [[0.0, \"#0d0887\"], [0.1111111111111111, \"#46039f\"], [0.2222222222222222, \"#7201a8\"], [0.3333333333333333, \"#9c179e\"], [0.4444444444444444, \"#bd3786\"], [0.5555555555555556, \"#d8576b\"], [0.6666666666666666, \"#ed7953\"], [0.7777777777777778, \"#fb9f3a\"], [0.8888888888888888, \"#fdca26\"], [1.0, \"#f0f921\"]], \"type\": \"heatmapgl\"}], \"histogram\": [{\"marker\": {\"colorbar\": {\"outlinewidth\": 0, \"ticks\": \"\"}}, \"type\": \"histogram\"}], \"histogram2d\": [{\"colorbar\": {\"outlinewidth\": 0, \"ticks\": \"\"}, \"colorscale\": [[0.0, \"#0d0887\"], [0.1111111111111111, \"#46039f\"], [0.2222222222222222, \"#7201a8\"], [0.3333333333333333, \"#9c179e\"], [0.4444444444444444, \"#bd3786\"], [0.5555555555555556, \"#d8576b\"], [0.6666666666666666, \"#ed7953\"], [0.7777777777777778, \"#fb9f3a\"], [0.8888888888888888, \"#fdca26\"], [1.0, \"#f0f921\"]], \"type\": \"histogram2d\"}], \"histogram2dcontour\": [{\"colorbar\": {\"outlinewidth\": 0, \"ticks\": \"\"}, \"colorscale\": [[0.0, \"#0d0887\"], [0.1111111111111111, \"#46039f\"], [0.2222222222222222, \"#7201a8\"], [0.3333333333333333, \"#9c179e\"], [0.4444444444444444, \"#bd3786\"], [0.5555555555555556, \"#d8576b\"], [0.6666666666666666, \"#ed7953\"], [0.7777777777777778, \"#fb9f3a\"], [0.8888888888888888, \"#fdca26\"], [1.0, \"#f0f921\"]], \"type\": \"histogram2dcontour\"}], \"mesh3d\": [{\"colorbar\": {\"outlinewidth\": 0, \"ticks\": \"\"}, \"type\": \"mesh3d\"}], \"parcoords\": [{\"line\": {\"colorbar\": {\"outlinewidth\": 0, \"ticks\": \"\"}}, \"type\": \"parcoords\"}], \"pie\": [{\"automargin\": true, \"type\": \"pie\"}], \"scatter\": [{\"marker\": {\"colorbar\": {\"outlinewidth\": 0, \"ticks\": \"\"}}, \"type\": \"scatter\"}], \"scatter3d\": [{\"line\": {\"colorbar\": {\"outlinewidth\": 0, \"ticks\": \"\"}}, \"marker\": {\"colorbar\": {\"outlinewidth\": 0, \"ticks\": \"\"}}, \"type\": \"scatter3d\"}], \"scattercarpet\": [{\"marker\": {\"colorbar\": {\"outlinewidth\": 0, \"ticks\": \"\"}}, \"type\": \"scattercarpet\"}], \"scattergeo\": [{\"marker\": {\"colorbar\": {\"outlinewidth\": 0, \"ticks\": \"\"}}, \"type\": \"scattergeo\"}], \"scattergl\": [{\"marker\": {\"colorbar\": {\"outlinewidth\": 0, \"ticks\": \"\"}}, \"type\": \"scattergl\"}], \"scattermapbox\": [{\"marker\": {\"colorbar\": {\"outlinewidth\": 0, \"ticks\": \"\"}}, \"type\": \"scattermapbox\"}], \"scatterpolar\": [{\"marker\": {\"colorbar\": {\"outlinewidth\": 0, \"ticks\": \"\"}}, \"type\": \"scatterpolar\"}], \"scatterpolargl\": [{\"marker\": {\"colorbar\": {\"outlinewidth\": 0, \"ticks\": \"\"}}, \"type\": \"scatterpolargl\"}], \"scatterternary\": [{\"marker\": {\"colorbar\": {\"outlinewidth\": 0, \"ticks\": \"\"}}, \"type\": \"scatterternary\"}], \"surface\": [{\"colorbar\": {\"outlinewidth\": 0, \"ticks\": \"\"}, \"colorscale\": [[0.0, \"#0d0887\"], [0.1111111111111111, \"#46039f\"], [0.2222222222222222, \"#7201a8\"], [0.3333333333333333, \"#9c179e\"], [0.4444444444444444, \"#bd3786\"], [0.5555555555555556, \"#d8576b\"], [0.6666666666666666, \"#ed7953\"], [0.7777777777777778, \"#fb9f3a\"], [0.8888888888888888, \"#fdca26\"], [1.0, \"#f0f921\"]], \"type\": \"surface\"}], \"table\": [{\"cells\": {\"fill\": {\"color\": \"#EBF0F8\"}, \"line\": {\"color\": \"white\"}}, \"header\": {\"fill\": {\"color\": \"#C8D4E3\"}, \"line\": {\"color\": \"white\"}}, \"type\": \"table\"}]}, \"layout\": {\"annotationdefaults\": {\"arrowcolor\": \"#2a3f5f\", \"arrowhead\": 0, \"arrowwidth\": 1}, \"autotypenumbers\": \"strict\", \"coloraxis\": {\"colorbar\": {\"outlinewidth\": 0, \"ticks\": \"\"}}, \"colorscale\": {\"diverging\": [[0, \"#8e0152\"], [0.1, \"#c51b7d\"], [0.2, \"#de77ae\"], [0.3, \"#f1b6da\"], [0.4, \"#fde0ef\"], [0.5, \"#f7f7f7\"], [0.6, \"#e6f5d0\"], [0.7, \"#b8e186\"], [0.8, \"#7fbc41\"], [0.9, \"#4d9221\"], [1, \"#276419\"]], \"sequential\": [[0.0, \"#0d0887\"], [0.1111111111111111, \"#46039f\"], [0.2222222222222222, \"#7201a8\"], [0.3333333333333333, \"#9c179e\"], [0.4444444444444444, \"#bd3786\"], [0.5555555555555556, \"#d8576b\"], [0.6666666666666666, \"#ed7953\"], [0.7777777777777778, \"#fb9f3a\"], [0.8888888888888888, \"#fdca26\"], [1.0, \"#f0f921\"]], \"sequentialminus\": [[0.0, \"#0d0887\"], [0.1111111111111111, \"#46039f\"], [0.2222222222222222, \"#7201a8\"], [0.3333333333333333, \"#9c179e\"], [0.4444444444444444, \"#bd3786\"], [0.5555555555555556, \"#d8576b\"], [0.6666666666666666, \"#ed7953\"], [0.7777777777777778, \"#fb9f3a\"], [0.8888888888888888, \"#fdca26\"], [1.0, \"#f0f921\"]]}, \"colorway\": [\"#636efa\", \"#EF553B\", \"#00cc96\", \"#ab63fa\", \"#FFA15A\", \"#19d3f3\", \"#FF6692\", \"#B6E880\", \"#FF97FF\", \"#FECB52\"], \"font\": {\"color\": \"#2a3f5f\"}, \"geo\": {\"bgcolor\": \"white\", \"lakecolor\": \"white\", \"landcolor\": \"white\", \"showlakes\": true, \"showland\": true, \"subunitcolor\": \"#C8D4E3\"}, \"hoverlabel\": {\"align\": \"left\"}, \"hovermode\": \"closest\", \"mapbox\": {\"style\": \"light\"}, \"paper_bgcolor\": \"white\", \"plot_bgcolor\": \"white\", \"polar\": {\"angularaxis\": {\"gridcolor\": \"#EBF0F8\", \"linecolor\": \"#EBF0F8\", \"ticks\": \"\"}, \"bgcolor\": \"white\", \"radialaxis\": {\"gridcolor\": \"#EBF0F8\", \"linecolor\": \"#EBF0F8\", \"ticks\": \"\"}}, \"scene\": {\"xaxis\": {\"backgroundcolor\": \"white\", \"gridcolor\": \"#DFE8F3\", \"gridwidth\": 2, \"linecolor\": \"#EBF0F8\", \"showbackground\": true, \"ticks\": \"\", \"zerolinecolor\": \"#EBF0F8\"}, \"yaxis\": {\"backgroundcolor\": \"white\", \"gridcolor\": \"#DFE8F3\", \"gridwidth\": 2, \"linecolor\": \"#EBF0F8\", \"showbackground\": true, \"ticks\": \"\", \"zerolinecolor\": \"#EBF0F8\"}, \"zaxis\": {\"backgroundcolor\": \"white\", \"gridcolor\": \"#DFE8F3\", \"gridwidth\": 2, \"linecolor\": \"#EBF0F8\", \"showbackground\": true, \"ticks\": \"\", \"zerolinecolor\": \"#EBF0F8\"}}, \"shapedefaults\": {\"line\": {\"color\": \"#2a3f5f\"}}, \"ternary\": {\"aaxis\": {\"gridcolor\": \"#DFE8F3\", \"linecolor\": \"#A2B1C6\", \"ticks\": \"\"}, \"baxis\": {\"gridcolor\": \"#DFE8F3\", \"linecolor\": \"#A2B1C6\", \"ticks\": \"\"}, \"bgcolor\": \"white\", \"caxis\": {\"gridcolor\": \"#DFE8F3\", \"linecolor\": \"#A2B1C6\", \"ticks\": \"\"}}, \"title\": {\"x\": 0.05}, \"xaxis\": {\"automargin\": true, \"gridcolor\": \"#EBF0F8\", \"linecolor\": \"#EBF0F8\", \"ticks\": \"\", \"title\": {\"standoff\": 15}, \"zerolinecolor\": \"#EBF0F8\", \"zerolinewidth\": 2}, \"yaxis\": {\"automargin\": true, \"gridcolor\": \"#EBF0F8\", \"linecolor\": \"#EBF0F8\", \"ticks\": \"\", \"title\": {\"standoff\": 15}, \"zerolinecolor\": \"#EBF0F8\", \"zerolinewidth\": 2}}}, \"title\": {\"font\": {\"color\": \"black\", \"family\": \"Myriad Pro\", \"size\": 18}, \"text\": \"OD Normalized GFP scaled to the max value\"}, \"width\": 625, \"xaxis\": {\"linecolor\": \"black\", \"linewidth\": 1.25, \"mirror\": true, \"showgrid\": false, \"showline\": true, \"side\": \"bottom\", \"tickangle\": 0, \"tickcolor\": \"black\", \"tickfont\": {\"color\": \"black\", \"family\": \"Myriad Pro\", \"size\": 18}, \"ticklen\": 4, \"ticks\": \"outside\", \"tickson\": \"boundaries\", \"title\": {\"font\": {\"color\": \"black\", \"family\": \"Myriad Pro\", \"size\": 18}}, \"zeroline\": false}, \"yaxis\": {\"linecolor\": \"black\", \"linewidth\": 1.25, \"mirror\": true, \"nticks\": 9, \"showgrid\": true, \"showline\": true, \"side\": \"left\", \"tickangle\": 0, \"tickcolor\": \"black\", \"tickfont\": {\"color\": \"black\", \"family\": \"Myriad Pro\", \"size\": 18}, \"ticklen\": 4, \"ticks\": \"outside\", \"title\": {\"font\": {\"color\": \"black\", \"family\": \"Myriad Pro\", \"size\": 18}, \"standoff\": 0, \"text\": \"Scaled Fluorescence (a.u.)\"}, \"type\": \"log\", \"zeroline\": false}},                        {\"responsive\": true}                    ).then(function(){\n",
       "                            \n",
       "var gd = document.getElementById('db84b0a8-571e-48be-b325-10ceb04eb403');\n",
       "var x = new MutationObserver(function (mutations, observer) {{\n",
       "        var display = window.getComputedStyle(gd).display;\n",
       "        if (!display || display === 'none') {{\n",
       "            console.log([gd, 'removed!']);\n",
       "            Plotly.purge(gd);\n",
       "            observer.disconnect();\n",
       "        }}\n",
       "}});\n",
       "\n",
       "// Listen for the removal of the full notebook cells\n",
       "var notebookContainer = gd.closest('#notebook-container');\n",
       "if (notebookContainer) {{\n",
       "    x.observe(notebookContainer, {childList: true});\n",
       "}}\n",
       "\n",
       "// Listen for the clearing of the current output cell\n",
       "var outputEl = gd.closest('.output');\n",
       "if (outputEl) {{\n",
       "    x.observe(outputEl, {childList: true});\n",
       "}}\n",
       "\n",
       "                        })                };                });            </script>        </div>"
      ]
     },
     "metadata": {},
     "output_type": "display_data"
    }
   ],
   "source": [
    "strains = ['1000','2000','3000','4000','5000',#,'0000','Lac'],\n",
    "               '1100','2100','3100','4100','5100',#,'0000','Lac'],\n",
    "              '1200','2200','3200','4200','5200',#,'0000','Lac'],\n",
    "              '1300','2300','3300','4300','5300']#,'0000','Lac']]\n",
    "rep_list = [replicate for replicate in expt_atc.replicate_trials if\n",
    "            str(replicate.trial_identifier.strain.name) in strains]\n",
    "rep_list = sorted(rep_list, key=lambda rep: str(rep.trial_identifier.strain))\n",
    "norm = True\n",
    "analyte_of_interest = 'GFP'\n",
    "title = ''\n",
    "title += 'OD Normalized '+analyte_of_interest+' '\n",
    "attr = 'data_vector'\n",
    "\n",
    "\n",
    "max_ss = max([getattr(replicate.avg.analyte_dict[analyte_of_interest], attr)[-1]\n",
    "             for replicate in rep_list])\n",
    "min_ss = min([getattr(replicate.avg.analyte_dict[analyte_of_interest], attr)[-1]\n",
    "             for replicate in rep_list])\n",
    "\n",
    "if norm:\n",
    "    title = title + 'scaled to the max value'\n",
    "\n",
    "#First separate by Degradation Tag - Observe effect of RBS\n",
    "trace_list = []\n",
    "for index,rbs_level in enumerate(['1','2','3','4','5']):\n",
    "    rbs_codes = {'1':'A', '2':'B', '3':'C', '4':'D', '5':'E'}\n",
    "    reps=[]\n",
    "    for rep in rep_list:\n",
    "        if rep.trial_identifier.strain.name.lower() not in ['lac', 'tet', '0000']:\n",
    "            ident = rep.trial_identifier.strain.name.replace('00','').split()\n",
    "            if ident:\n",
    "                if ident[0][0] == rbs_level:\n",
    "                    reps.append(rep)\n",
    "    reps = sorted(reps, key=lambda rep: str(rep.trial_identifier.strain))\n",
    "    x = ['No Tag', 'DAS Tag', 'DAS+2 Tag', 'LAA Tag']\n",
    "\n",
    "    if norm:\n",
    "        base = 0#min_ss\n",
    "        scale = max_ss# - min_ss\n",
    "    else:\n",
    "        base=0\n",
    "        scale=1\n",
    "\n",
    "    y = [(getattr(rep.avg.analyte_dict[analyte_of_interest], attr)[-1] - base)/(scale)\n",
    "         for rep in reps]\n",
    "    y_errs = [(getattr(rep.std.analyte_dict[analyte_of_interest], attr)[-1])/(scale)\n",
    "         for rep in reps]\n",
    "\n",
    "    if rbs_level=='1':\n",
    "        showlegend=True\n",
    "    else:\n",
    "        showlegened=False\n",
    "    if reps:\n",
    "        trace_list.append(go.Bar(x=x,\n",
    "                             y=y,\n",
    "                             error_y=dict(type='data', array=y_errs, thickness=1.5, width=3, color='black'),\n",
    "                             marker=dict(color=py.colors.n_colors(py.colors.diverging.RdBu[-4], py.colors.diverging.RdBu[-2], 5, colortype='rgb')[index], line=dict(width=0)),\n",
    "                             showlegend=showlegend,# yaxis='y2',\n",
    "                             legendgroup=str(rbs_level),\n",
    "                             name='RBS \"'+str(rbs_codes[rbs_level])+'\"'))\n",
    "\n",
    "width=700\n",
    "fig1=go.Figure(data=trace_list)\n",
    "fig1.update_xaxes(showline=True, linewidth=1.25, linecolor='black', mirror=True, side='bottom',\n",
    "                  ticks='outside', ticklen=4, tickangle=0, tickson='boundaries', title_font=dict(size=18, family='Myriad Pro', color='black'),\n",
    "                  tickfont=dict(size=18, family='Myriad Pro', color='black'), tickcolor='black',\n",
    "                  showgrid=False,zeroline=False)\n",
    "fig1.update_layout(height=450, width=625, legend_orientation='h', legend_y=-0.2, \n",
    "                   title_font=dict(family='Myriad Pro',size=18, color='black'),\n",
    "                   legend_x=0.02, bargap=0.3, bargroupgap=0.1, title=title,\n",
    "                   legend_font=dict(family='Myriad Pro', size=18, color='black'))\n",
    "fig1['layout']['title']['font'] = dict(family='Myriad Pro',size=18, color='black')\n",
    "fig1['layout']['yaxis'] = dict(title='Scaled Fluorescence (a.u.)', title_standoff=0,\n",
    "                             title_font=dict(family='Myriad Pro', size=18, color='black'),\n",
    "                             showline=True, linewidth=1.25, linecolor='black', mirror=True, nticks=9,\n",
    "                             ticks='outside', ticklen=4, tickangle=0, type='log',\n",
    "                             tickfont=dict(family='Myriad Pro',size=18, color='black'), tickcolor='black', \n",
    "                             showgrid=True,zeroline=False,side='left')\n",
    "plot(fig1)\n",
    "trace_list = []\n",
    "for index,deg_level in enumerate(['0','1','2','3']):\n",
    "    deg_codes = {'0': 'No Tag', '1':'DAS Tag', '2':'DAS+2 Tag', '3':'LAA Tag'}\n",
    "    reps=[]\n",
    "    for rep in rep_list:\n",
    "        if rep.trial_identifier.strain.name.lower() not in ['lac', 'tet', '0000']:\n",
    "            ident = rep.trial_identifier.strain.name.replace('00','').split()\n",
    "            if ident:\n",
    "                if ident[0][1] == deg_level:\n",
    "                    reps.append(rep)\n",
    "    reps = sorted(reps, key=lambda rep: str(rep.trial_identifier.strain))\n",
    "    x = ['RBS \"A\"', 'RBS \"B\"', 'RBS \"C\"', 'RBS \"D\"', 'RBS \"E\"']\n",
    "\n",
    "    y = [(getattr(rep.avg.analyte_dict[analyte_of_interest], attr)[-1] - base)/(scale)\n",
    "         for rep in reps]\n",
    "    y_errs = [(getattr(rep.std.analyte_dict[analyte_of_interest], attr)[-1])/(scale)\n",
    "         for rep in reps]\n",
    "\n",
    "\n",
    "    if deg_level=='0':\n",
    "        showlegend=True\n",
    "    else:\n",
    "        showlegened=False\n",
    "    if reps:\n",
    "        trace_list.append(go.Bar(x=x,\n",
    "                             y=y,\n",
    "                             error_y=dict(type='data', array=y_errs, thickness=1.5, width=3, color='black'),\n",
    "                             marker=dict(color=py.colors.n_colors(colors['oranges'][1], colors['oranges'][-1], 4, colortype='rgb')[::-1][index], line=dict(width=0)),\n",
    "                             showlegend=showlegend,# yaxis='y2',\n",
    "                             legendgroup=str(deg_level),\n",
    "                             name=deg_codes[deg_level]))\n",
    "\n",
    "fig2=go.Figure(data=trace_list)\n",
    "fig2.update_xaxes(showline=True, linewidth=1.25, linecolor='black', mirror=True, side='bottom',\n",
    "                  ticks='outside', ticklen=4, tickangle=0, tickson='boundaries', title_font=dict(size=18, family='Myriad Pro', color='black'),\n",
    "                  tickfont=dict(size=18, family='Myriad Pro', color='black'), tickcolor='black',\n",
    "                  showgrid=False,zeroline=False)\n",
    "fig2.update_layout(height=400, width=625, legend_orientation='h', legend_y=-0.2, \n",
    "                   title_font=dict(family='Myriad Pro',size=18, color='black'),\n",
    "                   legend_x=0.02, bargap=0.3, bargroupgap=0.1, title=title,\n",
    "                   legend_font=dict(family='Myriad Pro', size=18, color='black'))\n",
    "fig2['layout']['title']['font'] = dict(family='Myriad Pro',size=18, color='black')\n",
    "fig2['layout']['yaxis'] = dict(title='Scaled Fluorescence (a.u.)', title_standoff=0,\n",
    "                             title_font=dict(family='Myriad Pro', size=18, color='black'),\n",
    "                             showline=True, linewidth=1.25, linecolor='black', mirror=True, nticks=9,\n",
    "                             ticks='outside', ticklen=4, tickangle=0, type='log',\n",
    "                             tickfont=dict(family='Myriad Pro',size=18, color='black'), tickcolor='black', \n",
    "                             showgrid=True,zeroline=False,side='left')\n",
    "plot(fig2)\n",
    "\n",
    "\n",
    "# fig1.write_image(\"figXX00_RBS.svg\", format='svg')\n",
    "# fig2.write_image(\"figXX00_deg.svg\", format='svg')\n",
    "\n",
    "\n",
    "\n"
   ]
  },
  {
   "cell_type": "code",
   "execution_count": 28,
   "metadata": {},
   "outputs": [
    {
     "data": {
      "text/html": [
       "<div>\n",
       "<style scoped>\n",
       "    .dataframe tbody tr th:only-of-type {\n",
       "        vertical-align: middle;\n",
       "    }\n",
       "\n",
       "    .dataframe tbody tr th {\n",
       "        vertical-align: top;\n",
       "    }\n",
       "\n",
       "    .dataframe thead th {\n",
       "        text-align: right;\n",
       "    }\n",
       "</style>\n",
       "<table border=\"1\" class=\"dataframe\">\n",
       "  <thead>\n",
       "    <tr style=\"text-align: right;\">\n",
       "      <th></th>\n",
       "      <th>rbs_mean</th>\n",
       "      <th>rbs_std</th>\n",
       "      <th>deg_mean</th>\n",
       "      <th>deg_std</th>\n",
       "    </tr>\n",
       "    <tr>\n",
       "      <th>lac_code</th>\n",
       "      <th></th>\n",
       "      <th></th>\n",
       "      <th></th>\n",
       "      <th></th>\n",
       "    </tr>\n",
       "  </thead>\n",
       "  <tbody>\n",
       "    <tr>\n",
       "      <th>10</th>\n",
       "      <td>1.000000</td>\n",
       "      <td>0.278764</td>\n",
       "      <td>1.000000</td>\n",
       "      <td>0.278764</td>\n",
       "    </tr>\n",
       "    <tr>\n",
       "      <th>11</th>\n",
       "      <td>1.000000</td>\n",
       "      <td>0.261222</td>\n",
       "      <td>1.973846</td>\n",
       "      <td>0.515612</td>\n",
       "    </tr>\n",
       "    <tr>\n",
       "      <th>12</th>\n",
       "      <td>1.000000</td>\n",
       "      <td>0.543878</td>\n",
       "      <td>1.867842</td>\n",
       "      <td>1.015878</td>\n",
       "    </tr>\n",
       "    <tr>\n",
       "      <th>13</th>\n",
       "      <td>1.000000</td>\n",
       "      <td>0.414014</td>\n",
       "      <td>1.820719</td>\n",
       "      <td>0.753803</td>\n",
       "    </tr>\n",
       "    <tr>\n",
       "      <th>20</th>\n",
       "      <td>3.686672</td>\n",
       "      <td>0.152844</td>\n",
       "      <td>1.000000</td>\n",
       "      <td>0.041459</td>\n",
       "    </tr>\n",
       "    <tr>\n",
       "      <th>21</th>\n",
       "      <td>2.829060</td>\n",
       "      <td>0.713982</td>\n",
       "      <td>2.572205</td>\n",
       "      <td>0.649159</td>\n",
       "    </tr>\n",
       "    <tr>\n",
       "      <th>22</th>\n",
       "      <td>3.225170</td>\n",
       "      <td>0.235452</td>\n",
       "      <td>2.135119</td>\n",
       "      <td>0.155873</td>\n",
       "    </tr>\n",
       "    <tr>\n",
       "      <th>23</th>\n",
       "      <td>2.020498</td>\n",
       "      <td>0.307852</td>\n",
       "      <td>3.322148</td>\n",
       "      <td>0.506177</td>\n",
       "    </tr>\n",
       "    <tr>\n",
       "      <th>30</th>\n",
       "      <td>9.795271</td>\n",
       "      <td>1.183984</td>\n",
       "      <td>1.021299</td>\n",
       "      <td>0.123447</td>\n",
       "    </tr>\n",
       "    <tr>\n",
       "      <th>31</th>\n",
       "      <td>19.746154</td>\n",
       "      <td>0.946623</td>\n",
       "      <td>1.000000</td>\n",
       "      <td>0.047940</td>\n",
       "    </tr>\n",
       "    <tr>\n",
       "      <th>32</th>\n",
       "      <td>16.924943</td>\n",
       "      <td>2.130899</td>\n",
       "      <td>1.104033</td>\n",
       "      <td>0.139001</td>\n",
       "    </tr>\n",
       "    <tr>\n",
       "      <th>33</th>\n",
       "      <td>8.088458</td>\n",
       "      <td>0.868107</td>\n",
       "      <td>2.251886</td>\n",
       "      <td>0.241687</td>\n",
       "    </tr>\n",
       "    <tr>\n",
       "      <th>40</th>\n",
       "      <td>16.253053</td>\n",
       "      <td>1.543283</td>\n",
       "      <td>1.028581</td>\n",
       "      <td>0.097667</td>\n",
       "    </tr>\n",
       "    <tr>\n",
       "      <th>41</th>\n",
       "      <td>32.997949</td>\n",
       "      <td>3.237509</td>\n",
       "      <td>1.000000</td>\n",
       "      <td>0.098112</td>\n",
       "    </tr>\n",
       "    <tr>\n",
       "      <th>42</th>\n",
       "      <td>28.035102</td>\n",
       "      <td>4.059900</td>\n",
       "      <td>1.113811</td>\n",
       "      <td>0.161296</td>\n",
       "    </tr>\n",
       "    <tr>\n",
       "      <th>43</th>\n",
       "      <td>17.995743</td>\n",
       "      <td>2.664687</td>\n",
       "      <td>1.691402</td>\n",
       "      <td>0.250451</td>\n",
       "    </tr>\n",
       "    <tr>\n",
       "      <th>50</th>\n",
       "      <td>6.706157</td>\n",
       "      <td>0.553774</td>\n",
       "      <td>1.000000</td>\n",
       "      <td>0.082577</td>\n",
       "    </tr>\n",
       "    <tr>\n",
       "      <th>51</th>\n",
       "      <td>13.108205</td>\n",
       "      <td>1.008934</td>\n",
       "      <td>1.009820</td>\n",
       "      <td>0.077725</td>\n",
       "    </tr>\n",
       "    <tr>\n",
       "      <th>52</th>\n",
       "      <td>9.315917</td>\n",
       "      <td>0.335043</td>\n",
       "      <td>1.344585</td>\n",
       "      <td>0.048357</td>\n",
       "    </tr>\n",
       "    <tr>\n",
       "      <th>53</th>\n",
       "      <td>4.369442</td>\n",
       "      <td>0.705162</td>\n",
       "      <td>2.794414</td>\n",
       "      <td>0.450977</td>\n",
       "    </tr>\n",
       "  </tbody>\n",
       "</table>\n",
       "</div>"
      ],
      "text/plain": [
       "           rbs_mean   rbs_std  deg_mean   deg_std\n",
       "lac_code                                         \n",
       "10         1.000000  0.278764  1.000000  0.278764\n",
       "11         1.000000  0.261222  1.973846  0.515612\n",
       "12         1.000000  0.543878  1.867842  1.015878\n",
       "13         1.000000  0.414014  1.820719  0.753803\n",
       "20         3.686672  0.152844  1.000000  0.041459\n",
       "21         2.829060  0.713982  2.572205  0.649159\n",
       "22         3.225170  0.235452  2.135119  0.155873\n",
       "23         2.020498  0.307852  3.322148  0.506177\n",
       "30         9.795271  1.183984  1.021299  0.123447\n",
       "31        19.746154  0.946623  1.000000  0.047940\n",
       "32        16.924943  2.130899  1.104033  0.139001\n",
       "33         8.088458  0.868107  2.251886  0.241687\n",
       "40        16.253053  1.543283  1.028581  0.097667\n",
       "41        32.997949  3.237509  1.000000  0.098112\n",
       "42        28.035102  4.059900  1.113811  0.161296\n",
       "43        17.995743  2.664687  1.691402  0.250451\n",
       "50         6.706157  0.553774  1.000000  0.082577\n",
       "51        13.108205  1.008934  1.009820  0.077725\n",
       "52         9.315917  0.335043  1.344585  0.048357\n",
       "53         4.369442  0.705162  2.794414  0.450977"
      ]
     },
     "metadata": {},
     "output_type": "display_data"
    }
   ],
   "source": [
    "expt = expt_atc\n",
    "strains = ['10', '11', '12', '13',\n",
    "           '20', '21', '22', '23',\n",
    "           '30', '31', '32', '33',\n",
    "           '40', '41', '42', '43',\n",
    "           '50', '51', '52', '53']\n",
    "rep_list = [replicate for replicate in expt.replicate_trials if\n",
    "            replicate.trial_identifier.strain.name[:2] in strains]\n",
    "rep_list = sorted(rep_list, key=lambda rep: str(rep.trial_identifier.strain))\n",
    "analyte_of_interest = 'GFP'\n",
    "attr = 'data_vector'\n",
    "rbs_mean = {}\n",
    "rbs_std = {}\n",
    "deg_mean = {}\n",
    "deg_std = {}\n",
    "#First separate by Degradation Tag - Observe effect of RBS\n",
    "trace_list = []\n",
    "for index,rbs_level in enumerate(['1','2','3','4','5']):\n",
    "    temp_reps = [rep for rep in rep_list if rep.trial_identifier.strain.name[0]==rbs_level]\n",
    "    temp_reps = sorted(temp_reps, key=lambda rep:str(rep.trial_identifier.strain.name))\n",
    "    max_ss = max([getattr(replicate.avg.analyte_dict[analyte_of_interest], attr)[-1]\n",
    "                 for replicate in temp_reps])    \n",
    "    deg_mean = {**deg_mean, **{rep.trial_identifier.strain.name[:2]:\n",
    "                               1/(getattr(rep.avg.analyte_dict[analyte_of_interest], attr)[-1]/max_ss)\n",
    "                               for rep in temp_reps}}\n",
    "    deg_std = {**deg_std, **{rep.trial_identifier.strain.name[:2]:\n",
    "                               (getattr(rep.std.analyte_dict[analyte_of_interest], attr)[-1]/max_ss)/(getattr(rep.avg.analyte_dict[analyte_of_interest], attr)[-1]/max_ss)**2\n",
    "                               for rep in temp_reps}}\n",
    "for index,deg_level in enumerate(['0','1','2','3']):\n",
    "    temp_reps = [rep for rep in rep_list if rep.trial_identifier.strain.name[1]==deg_level]\n",
    "    temp_reps = sorted(temp_reps, key=lambda rep:str(rep.trial_identifier.strain.name))\n",
    "    min_ss = min([getattr(replicate.avg.analyte_dict[analyte_of_interest], attr)[-1]\n",
    "                 for replicate in temp_reps])\n",
    "    \n",
    "    \n",
    "    rbs_mean = {**rbs_mean, **{rep.trial_identifier.strain.name[:2]:\n",
    "                               (getattr(rep.avg.analyte_dict[analyte_of_interest], attr)[-1]/min_ss)\n",
    "                               for rep in temp_reps}}\n",
    "    rbs_std = {**rbs_std, **{rep.trial_identifier.strain.name[:2]:\n",
    "                               (getattr(rep.std.analyte_dict[analyte_of_interest], attr)[-1]/min_ss)\n",
    "                               for rep in temp_reps}}\n",
    "strains = ['10', '11', '12', '13',\n",
    "           '20', '21', '22', '23',\n",
    "           '30', '31', '32', '33',\n",
    "           '40', '41', '42', '43',\n",
    "           '50', '51', '52', '53']\n",
    "rbs_mean_list = [rbs_mean[strain] for strain in strains]\n",
    "rbs_std_list = [rbs_std[strain] for strain in strains]\n",
    "deg_mean_list = [deg_mean[strain] for strain in strains]\n",
    "deg_std_list = [deg_std[strain] for strain in strains]\n",
    "\n",
    "gfp_df = pd.DataFrame(data={'rbs_mean': rbs_mean_list,\n",
    "                             'rbs_std': rbs_std_list,\n",
    "                             'deg_mean': deg_mean_list,\n",
    "                             'deg_std': deg_std_list,\n",
    "                             'lac_code':strains})\n",
    "gfp_df = gfp_df.set_index('lac_code')\n",
    "display(gfp_df)"
   ]
  },
  {
   "cell_type": "code",
   "execution_count": 29,
   "metadata": {},
   "outputs": [],
   "source": [
    "gfp_df.to_excel('C:\\\\Users\\\\User\\\\OneDrive - University of Toronto\\\\Research\\\\PhD_UofT\\\\Data\\\\Toggle_Switch_Project\\\\Experiments\\\\Screening\\\\pTSFusXXXX\\\\Speed\\\\gfp_df.xlsx')"
   ]
  },
  {
   "cell_type": "code",
   "execution_count": 7,
   "metadata": {},
   "outputs": [
    {
     "data": {
      "application/vnd.plotly.v1+json": {
       "config": {
        "linkText": "Export to plot.ly",
        "plotlyServerURL": "https://plot.ly",
        "showLink": false
       },
       "data": [
        {
         "error_y": {
          "array": [
           6.635654271442596
          ],
          "color": "black",
          "thickness": 1.5,
          "type": "data",
          "width": 3
         },
         "legendgroup": "0000",
         "marker": {
          "color": "rgb(36,36,36)",
          "line": {
           "width": 0
          }
         },
         "name": "0000",
         "showlegend": true,
         "type": "bar",
         "x": [
          "Reference Strains"
         ],
         "y": [
          157.4004729200812
         ]
        }
       ],
       "layout": {
        "bargap": 0.2,
        "bargroupgap": 0.1,
        "height": 450,
        "legend": {
         "font": {
          "color": "black",
          "family": "Myriad Pro",
          "size": 16
         },
         "orientation": "h",
         "x": 0.02,
         "y": -0.2
        },
        "template": {
         "data": {
          "bar": [
           {
            "error_x": {
             "color": "#2a3f5f"
            },
            "error_y": {
             "color": "#2a3f5f"
            },
            "marker": {
             "line": {
              "color": "white",
              "width": 0.5
             }
            },
            "type": "bar"
           }
          ],
          "barpolar": [
           {
            "marker": {
             "line": {
              "color": "white",
              "width": 0.5
             }
            },
            "type": "barpolar"
           }
          ],
          "carpet": [
           {
            "aaxis": {
             "endlinecolor": "#2a3f5f",
             "gridcolor": "#C8D4E3",
             "linecolor": "#C8D4E3",
             "minorgridcolor": "#C8D4E3",
             "startlinecolor": "#2a3f5f"
            },
            "baxis": {
             "endlinecolor": "#2a3f5f",
             "gridcolor": "#C8D4E3",
             "linecolor": "#C8D4E3",
             "minorgridcolor": "#C8D4E3",
             "startlinecolor": "#2a3f5f"
            },
            "type": "carpet"
           }
          ],
          "choropleth": [
           {
            "colorbar": {
             "outlinewidth": 0,
             "ticks": ""
            },
            "type": "choropleth"
           }
          ],
          "contour": [
           {
            "colorbar": {
             "outlinewidth": 0,
             "ticks": ""
            },
            "colorscale": [
             [
              0,
              "#0d0887"
             ],
             [
              0.1111111111111111,
              "#46039f"
             ],
             [
              0.2222222222222222,
              "#7201a8"
             ],
             [
              0.3333333333333333,
              "#9c179e"
             ],
             [
              0.4444444444444444,
              "#bd3786"
             ],
             [
              0.5555555555555556,
              "#d8576b"
             ],
             [
              0.6666666666666666,
              "#ed7953"
             ],
             [
              0.7777777777777778,
              "#fb9f3a"
             ],
             [
              0.8888888888888888,
              "#fdca26"
             ],
             [
              1,
              "#f0f921"
             ]
            ],
            "type": "contour"
           }
          ],
          "contourcarpet": [
           {
            "colorbar": {
             "outlinewidth": 0,
             "ticks": ""
            },
            "type": "contourcarpet"
           }
          ],
          "heatmap": [
           {
            "colorbar": {
             "outlinewidth": 0,
             "ticks": ""
            },
            "colorscale": [
             [
              0,
              "#0d0887"
             ],
             [
              0.1111111111111111,
              "#46039f"
             ],
             [
              0.2222222222222222,
              "#7201a8"
             ],
             [
              0.3333333333333333,
              "#9c179e"
             ],
             [
              0.4444444444444444,
              "#bd3786"
             ],
             [
              0.5555555555555556,
              "#d8576b"
             ],
             [
              0.6666666666666666,
              "#ed7953"
             ],
             [
              0.7777777777777778,
              "#fb9f3a"
             ],
             [
              0.8888888888888888,
              "#fdca26"
             ],
             [
              1,
              "#f0f921"
             ]
            ],
            "type": "heatmap"
           }
          ],
          "heatmapgl": [
           {
            "colorbar": {
             "outlinewidth": 0,
             "ticks": ""
            },
            "colorscale": [
             [
              0,
              "#0d0887"
             ],
             [
              0.1111111111111111,
              "#46039f"
             ],
             [
              0.2222222222222222,
              "#7201a8"
             ],
             [
              0.3333333333333333,
              "#9c179e"
             ],
             [
              0.4444444444444444,
              "#bd3786"
             ],
             [
              0.5555555555555556,
              "#d8576b"
             ],
             [
              0.6666666666666666,
              "#ed7953"
             ],
             [
              0.7777777777777778,
              "#fb9f3a"
             ],
             [
              0.8888888888888888,
              "#fdca26"
             ],
             [
              1,
              "#f0f921"
             ]
            ],
            "type": "heatmapgl"
           }
          ],
          "histogram": [
           {
            "marker": {
             "colorbar": {
              "outlinewidth": 0,
              "ticks": ""
             }
            },
            "type": "histogram"
           }
          ],
          "histogram2d": [
           {
            "colorbar": {
             "outlinewidth": 0,
             "ticks": ""
            },
            "colorscale": [
             [
              0,
              "#0d0887"
             ],
             [
              0.1111111111111111,
              "#46039f"
             ],
             [
              0.2222222222222222,
              "#7201a8"
             ],
             [
              0.3333333333333333,
              "#9c179e"
             ],
             [
              0.4444444444444444,
              "#bd3786"
             ],
             [
              0.5555555555555556,
              "#d8576b"
             ],
             [
              0.6666666666666666,
              "#ed7953"
             ],
             [
              0.7777777777777778,
              "#fb9f3a"
             ],
             [
              0.8888888888888888,
              "#fdca26"
             ],
             [
              1,
              "#f0f921"
             ]
            ],
            "type": "histogram2d"
           }
          ],
          "histogram2dcontour": [
           {
            "colorbar": {
             "outlinewidth": 0,
             "ticks": ""
            },
            "colorscale": [
             [
              0,
              "#0d0887"
             ],
             [
              0.1111111111111111,
              "#46039f"
             ],
             [
              0.2222222222222222,
              "#7201a8"
             ],
             [
              0.3333333333333333,
              "#9c179e"
             ],
             [
              0.4444444444444444,
              "#bd3786"
             ],
             [
              0.5555555555555556,
              "#d8576b"
             ],
             [
              0.6666666666666666,
              "#ed7953"
             ],
             [
              0.7777777777777778,
              "#fb9f3a"
             ],
             [
              0.8888888888888888,
              "#fdca26"
             ],
             [
              1,
              "#f0f921"
             ]
            ],
            "type": "histogram2dcontour"
           }
          ],
          "mesh3d": [
           {
            "colorbar": {
             "outlinewidth": 0,
             "ticks": ""
            },
            "type": "mesh3d"
           }
          ],
          "parcoords": [
           {
            "line": {
             "colorbar": {
              "outlinewidth": 0,
              "ticks": ""
             }
            },
            "type": "parcoords"
           }
          ],
          "pie": [
           {
            "automargin": true,
            "type": "pie"
           }
          ],
          "scatter": [
           {
            "marker": {
             "colorbar": {
              "outlinewidth": 0,
              "ticks": ""
             }
            },
            "type": "scatter"
           }
          ],
          "scatter3d": [
           {
            "line": {
             "colorbar": {
              "outlinewidth": 0,
              "ticks": ""
             }
            },
            "marker": {
             "colorbar": {
              "outlinewidth": 0,
              "ticks": ""
             }
            },
            "type": "scatter3d"
           }
          ],
          "scattercarpet": [
           {
            "marker": {
             "colorbar": {
              "outlinewidth": 0,
              "ticks": ""
             }
            },
            "type": "scattercarpet"
           }
          ],
          "scattergeo": [
           {
            "marker": {
             "colorbar": {
              "outlinewidth": 0,
              "ticks": ""
             }
            },
            "type": "scattergeo"
           }
          ],
          "scattergl": [
           {
            "marker": {
             "colorbar": {
              "outlinewidth": 0,
              "ticks": ""
             }
            },
            "type": "scattergl"
           }
          ],
          "scattermapbox": [
           {
            "marker": {
             "colorbar": {
              "outlinewidth": 0,
              "ticks": ""
             }
            },
            "type": "scattermapbox"
           }
          ],
          "scatterpolar": [
           {
            "marker": {
             "colorbar": {
              "outlinewidth": 0,
              "ticks": ""
             }
            },
            "type": "scatterpolar"
           }
          ],
          "scatterpolargl": [
           {
            "marker": {
             "colorbar": {
              "outlinewidth": 0,
              "ticks": ""
             }
            },
            "type": "scatterpolargl"
           }
          ],
          "scatterternary": [
           {
            "marker": {
             "colorbar": {
              "outlinewidth": 0,
              "ticks": ""
             }
            },
            "type": "scatterternary"
           }
          ],
          "surface": [
           {
            "colorbar": {
             "outlinewidth": 0,
             "ticks": ""
            },
            "colorscale": [
             [
              0,
              "#0d0887"
             ],
             [
              0.1111111111111111,
              "#46039f"
             ],
             [
              0.2222222222222222,
              "#7201a8"
             ],
             [
              0.3333333333333333,
              "#9c179e"
             ],
             [
              0.4444444444444444,
              "#bd3786"
             ],
             [
              0.5555555555555556,
              "#d8576b"
             ],
             [
              0.6666666666666666,
              "#ed7953"
             ],
             [
              0.7777777777777778,
              "#fb9f3a"
             ],
             [
              0.8888888888888888,
              "#fdca26"
             ],
             [
              1,
              "#f0f921"
             ]
            ],
            "type": "surface"
           }
          ],
          "table": [
           {
            "cells": {
             "fill": {
              "color": "#EBF0F8"
             },
             "line": {
              "color": "white"
             }
            },
            "header": {
             "fill": {
              "color": "#C8D4E3"
             },
             "line": {
              "color": "white"
             }
            },
            "type": "table"
           }
          ]
         },
         "layout": {
          "annotationdefaults": {
           "arrowcolor": "#2a3f5f",
           "arrowhead": 0,
           "arrowwidth": 1
          },
          "autotypenumbers": "strict",
          "coloraxis": {
           "colorbar": {
            "outlinewidth": 0,
            "ticks": ""
           }
          },
          "colorscale": {
           "diverging": [
            [
             0,
             "#8e0152"
            ],
            [
             0.1,
             "#c51b7d"
            ],
            [
             0.2,
             "#de77ae"
            ],
            [
             0.3,
             "#f1b6da"
            ],
            [
             0.4,
             "#fde0ef"
            ],
            [
             0.5,
             "#f7f7f7"
            ],
            [
             0.6,
             "#e6f5d0"
            ],
            [
             0.7,
             "#b8e186"
            ],
            [
             0.8,
             "#7fbc41"
            ],
            [
             0.9,
             "#4d9221"
            ],
            [
             1,
             "#276419"
            ]
           ],
           "sequential": [
            [
             0,
             "#0d0887"
            ],
            [
             0.1111111111111111,
             "#46039f"
            ],
            [
             0.2222222222222222,
             "#7201a8"
            ],
            [
             0.3333333333333333,
             "#9c179e"
            ],
            [
             0.4444444444444444,
             "#bd3786"
            ],
            [
             0.5555555555555556,
             "#d8576b"
            ],
            [
             0.6666666666666666,
             "#ed7953"
            ],
            [
             0.7777777777777778,
             "#fb9f3a"
            ],
            [
             0.8888888888888888,
             "#fdca26"
            ],
            [
             1,
             "#f0f921"
            ]
           ],
           "sequentialminus": [
            [
             0,
             "#0d0887"
            ],
            [
             0.1111111111111111,
             "#46039f"
            ],
            [
             0.2222222222222222,
             "#7201a8"
            ],
            [
             0.3333333333333333,
             "#9c179e"
            ],
            [
             0.4444444444444444,
             "#bd3786"
            ],
            [
             0.5555555555555556,
             "#d8576b"
            ],
            [
             0.6666666666666666,
             "#ed7953"
            ],
            [
             0.7777777777777778,
             "#fb9f3a"
            ],
            [
             0.8888888888888888,
             "#fdca26"
            ],
            [
             1,
             "#f0f921"
            ]
           ]
          },
          "colorway": [
           "#636efa",
           "#EF553B",
           "#00cc96",
           "#ab63fa",
           "#FFA15A",
           "#19d3f3",
           "#FF6692",
           "#B6E880",
           "#FF97FF",
           "#FECB52"
          ],
          "font": {
           "color": "#2a3f5f"
          },
          "geo": {
           "bgcolor": "white",
           "lakecolor": "white",
           "landcolor": "white",
           "showlakes": true,
           "showland": true,
           "subunitcolor": "#C8D4E3"
          },
          "hoverlabel": {
           "align": "left"
          },
          "hovermode": "closest",
          "mapbox": {
           "style": "light"
          },
          "paper_bgcolor": "white",
          "plot_bgcolor": "white",
          "polar": {
           "angularaxis": {
            "gridcolor": "#EBF0F8",
            "linecolor": "#EBF0F8",
            "ticks": ""
           },
           "bgcolor": "white",
           "radialaxis": {
            "gridcolor": "#EBF0F8",
            "linecolor": "#EBF0F8",
            "ticks": ""
           }
          },
          "scene": {
           "xaxis": {
            "backgroundcolor": "white",
            "gridcolor": "#DFE8F3",
            "gridwidth": 2,
            "linecolor": "#EBF0F8",
            "showbackground": true,
            "ticks": "",
            "zerolinecolor": "#EBF0F8"
           },
           "yaxis": {
            "backgroundcolor": "white",
            "gridcolor": "#DFE8F3",
            "gridwidth": 2,
            "linecolor": "#EBF0F8",
            "showbackground": true,
            "ticks": "",
            "zerolinecolor": "#EBF0F8"
           },
           "zaxis": {
            "backgroundcolor": "white",
            "gridcolor": "#DFE8F3",
            "gridwidth": 2,
            "linecolor": "#EBF0F8",
            "showbackground": true,
            "ticks": "",
            "zerolinecolor": "#EBF0F8"
           }
          },
          "shapedefaults": {
           "line": {
            "color": "#2a3f5f"
           }
          },
          "ternary": {
           "aaxis": {
            "gridcolor": "#DFE8F3",
            "linecolor": "#A2B1C6",
            "ticks": ""
           },
           "baxis": {
            "gridcolor": "#DFE8F3",
            "linecolor": "#A2B1C6",
            "ticks": ""
           },
           "bgcolor": "white",
           "caxis": {
            "gridcolor": "#DFE8F3",
            "linecolor": "#A2B1C6",
            "ticks": ""
           }
          },
          "title": {
           "x": 0.05
          },
          "xaxis": {
           "automargin": true,
           "gridcolor": "#EBF0F8",
           "linecolor": "#EBF0F8",
           "ticks": "",
           "title": {
            "standoff": 15
           },
           "zerolinecolor": "#EBF0F8",
           "zerolinewidth": 2
          },
          "yaxis": {
           "automargin": true,
           "gridcolor": "#EBF0F8",
           "linecolor": "#EBF0F8",
           "ticks": "",
           "title": {
            "standoff": 15
           },
           "zerolinecolor": "#EBF0F8",
           "zerolinewidth": 2
          }
         }
        },
        "title": {
         "font": {
          "color": "black",
          "family": "Myriad Pro",
          "size": 16
         },
         "text": "OD Normalized GFP scaled to the max value"
        },
        "width": 300,
        "xaxis": {
         "linecolor": "black",
         "linewidth": 1,
         "mirror": true,
         "showgrid": false,
         "showline": true,
         "side": "bottom",
         "tickangle": 0,
         "tickcolor": "black",
         "tickfont": {
          "color": "black",
          "family": "Myriad Pro",
          "size": 16
         },
         "ticklen": 4,
         "ticks": "outside",
         "tickson": "boundaries",
         "title": {
          "font": {
           "color": "black",
           "family": "Myriad Pro",
           "size": 18
          }
         },
         "zeroline": false
        },
        "yaxis": {
         "linecolor": "black",
         "linewidth": 1,
         "mirror": true,
         "nticks": 9,
         "showgrid": true,
         "showline": true,
         "side": "left",
         "tickangle": 0,
         "tickcolor": "black",
         "tickfont": {
          "color": "black",
          "family": "Myriad Pro",
          "size": 16
         },
         "ticklen": 4,
         "ticks": "outside",
         "title": {
          "font": {
           "color": "black",
           "family": "Myriad Pro",
           "size": 18
          },
          "standoff": 0,
          "text": "(a.u.)"
         },
         "type": "log",
         "zeroline": false
        }
       }
      },
      "text/html": [
       "<div>                            <div id=\"ab99c576-3279-406b-b640-b36a165a2d80\" class=\"plotly-graph-div\" style=\"height:450px; width:300px;\"></div>            <script type=\"text/javascript\">                require([\"plotly\"], function(Plotly) {                    window.PLOTLYENV=window.PLOTLYENV || {};                                    if (document.getElementById(\"ab99c576-3279-406b-b640-b36a165a2d80\")) {                    Plotly.newPlot(                        \"ab99c576-3279-406b-b640-b36a165a2d80\",                        [{\"error_y\": {\"array\": [6.635654271442596], \"color\": \"black\", \"thickness\": 1.5, \"type\": \"data\", \"width\": 3}, \"legendgroup\": \"0000\", \"marker\": {\"color\": \"rgb(36,36,36)\", \"line\": {\"width\": 0}}, \"name\": \"0000\", \"showlegend\": true, \"type\": \"bar\", \"x\": [\"Reference Strains\"], \"y\": [157.4004729200812]}],                        {\"bargap\": 0.2, \"bargroupgap\": 0.1, \"height\": 450, \"legend\": {\"font\": {\"color\": \"black\", \"family\": \"Myriad Pro\", \"size\": 16}, \"orientation\": \"h\", \"x\": 0.02, \"y\": -0.2}, \"template\": {\"data\": {\"bar\": [{\"error_x\": {\"color\": \"#2a3f5f\"}, \"error_y\": {\"color\": \"#2a3f5f\"}, \"marker\": {\"line\": {\"color\": \"white\", \"width\": 0.5}}, \"type\": \"bar\"}], \"barpolar\": [{\"marker\": {\"line\": {\"color\": \"white\", \"width\": 0.5}}, \"type\": \"barpolar\"}], \"carpet\": [{\"aaxis\": {\"endlinecolor\": \"#2a3f5f\", \"gridcolor\": \"#C8D4E3\", \"linecolor\": \"#C8D4E3\", \"minorgridcolor\": \"#C8D4E3\", \"startlinecolor\": \"#2a3f5f\"}, \"baxis\": {\"endlinecolor\": \"#2a3f5f\", \"gridcolor\": \"#C8D4E3\", \"linecolor\": \"#C8D4E3\", \"minorgridcolor\": \"#C8D4E3\", \"startlinecolor\": \"#2a3f5f\"}, \"type\": \"carpet\"}], \"choropleth\": [{\"colorbar\": {\"outlinewidth\": 0, \"ticks\": \"\"}, \"type\": \"choropleth\"}], \"contour\": [{\"colorbar\": {\"outlinewidth\": 0, \"ticks\": \"\"}, \"colorscale\": [[0.0, \"#0d0887\"], [0.1111111111111111, \"#46039f\"], [0.2222222222222222, \"#7201a8\"], [0.3333333333333333, \"#9c179e\"], [0.4444444444444444, \"#bd3786\"], [0.5555555555555556, \"#d8576b\"], [0.6666666666666666, \"#ed7953\"], [0.7777777777777778, \"#fb9f3a\"], [0.8888888888888888, \"#fdca26\"], [1.0, \"#f0f921\"]], \"type\": \"contour\"}], \"contourcarpet\": [{\"colorbar\": {\"outlinewidth\": 0, \"ticks\": \"\"}, \"type\": \"contourcarpet\"}], \"heatmap\": [{\"colorbar\": {\"outlinewidth\": 0, \"ticks\": \"\"}, \"colorscale\": [[0.0, \"#0d0887\"], [0.1111111111111111, \"#46039f\"], [0.2222222222222222, \"#7201a8\"], [0.3333333333333333, \"#9c179e\"], [0.4444444444444444, \"#bd3786\"], [0.5555555555555556, \"#d8576b\"], [0.6666666666666666, \"#ed7953\"], [0.7777777777777778, \"#fb9f3a\"], [0.8888888888888888, \"#fdca26\"], [1.0, \"#f0f921\"]], \"type\": \"heatmap\"}], \"heatmapgl\": [{\"colorbar\": {\"outlinewidth\": 0, \"ticks\": \"\"}, \"colorscale\": [[0.0, \"#0d0887\"], [0.1111111111111111, \"#46039f\"], [0.2222222222222222, \"#7201a8\"], [0.3333333333333333, \"#9c179e\"], [0.4444444444444444, \"#bd3786\"], [0.5555555555555556, \"#d8576b\"], [0.6666666666666666, \"#ed7953\"], [0.7777777777777778, \"#fb9f3a\"], [0.8888888888888888, \"#fdca26\"], [1.0, \"#f0f921\"]], \"type\": \"heatmapgl\"}], \"histogram\": [{\"marker\": {\"colorbar\": {\"outlinewidth\": 0, \"ticks\": \"\"}}, \"type\": \"histogram\"}], \"histogram2d\": [{\"colorbar\": {\"outlinewidth\": 0, \"ticks\": \"\"}, \"colorscale\": [[0.0, \"#0d0887\"], [0.1111111111111111, \"#46039f\"], [0.2222222222222222, \"#7201a8\"], [0.3333333333333333, \"#9c179e\"], [0.4444444444444444, \"#bd3786\"], [0.5555555555555556, \"#d8576b\"], [0.6666666666666666, \"#ed7953\"], [0.7777777777777778, \"#fb9f3a\"], [0.8888888888888888, \"#fdca26\"], [1.0, \"#f0f921\"]], \"type\": \"histogram2d\"}], \"histogram2dcontour\": [{\"colorbar\": {\"outlinewidth\": 0, \"ticks\": \"\"}, \"colorscale\": [[0.0, \"#0d0887\"], [0.1111111111111111, \"#46039f\"], [0.2222222222222222, \"#7201a8\"], [0.3333333333333333, \"#9c179e\"], [0.4444444444444444, \"#bd3786\"], [0.5555555555555556, \"#d8576b\"], [0.6666666666666666, \"#ed7953\"], [0.7777777777777778, \"#fb9f3a\"], [0.8888888888888888, \"#fdca26\"], [1.0, \"#f0f921\"]], \"type\": \"histogram2dcontour\"}], \"mesh3d\": [{\"colorbar\": {\"outlinewidth\": 0, \"ticks\": \"\"}, \"type\": \"mesh3d\"}], \"parcoords\": [{\"line\": {\"colorbar\": {\"outlinewidth\": 0, \"ticks\": \"\"}}, \"type\": \"parcoords\"}], \"pie\": [{\"automargin\": true, \"type\": \"pie\"}], \"scatter\": [{\"marker\": {\"colorbar\": {\"outlinewidth\": 0, \"ticks\": \"\"}}, \"type\": \"scatter\"}], \"scatter3d\": [{\"line\": {\"colorbar\": {\"outlinewidth\": 0, \"ticks\": \"\"}}, \"marker\": {\"colorbar\": {\"outlinewidth\": 0, \"ticks\": \"\"}}, \"type\": \"scatter3d\"}], \"scattercarpet\": [{\"marker\": {\"colorbar\": {\"outlinewidth\": 0, \"ticks\": \"\"}}, \"type\": \"scattercarpet\"}], \"scattergeo\": [{\"marker\": {\"colorbar\": {\"outlinewidth\": 0, \"ticks\": \"\"}}, \"type\": \"scattergeo\"}], \"scattergl\": [{\"marker\": {\"colorbar\": {\"outlinewidth\": 0, \"ticks\": \"\"}}, \"type\": \"scattergl\"}], \"scattermapbox\": [{\"marker\": {\"colorbar\": {\"outlinewidth\": 0, \"ticks\": \"\"}}, \"type\": \"scattermapbox\"}], \"scatterpolar\": [{\"marker\": {\"colorbar\": {\"outlinewidth\": 0, \"ticks\": \"\"}}, \"type\": \"scatterpolar\"}], \"scatterpolargl\": [{\"marker\": {\"colorbar\": {\"outlinewidth\": 0, \"ticks\": \"\"}}, \"type\": \"scatterpolargl\"}], \"scatterternary\": [{\"marker\": {\"colorbar\": {\"outlinewidth\": 0, \"ticks\": \"\"}}, \"type\": \"scatterternary\"}], \"surface\": [{\"colorbar\": {\"outlinewidth\": 0, \"ticks\": \"\"}, \"colorscale\": [[0.0, \"#0d0887\"], [0.1111111111111111, \"#46039f\"], [0.2222222222222222, \"#7201a8\"], [0.3333333333333333, \"#9c179e\"], [0.4444444444444444, \"#bd3786\"], [0.5555555555555556, \"#d8576b\"], [0.6666666666666666, \"#ed7953\"], [0.7777777777777778, \"#fb9f3a\"], [0.8888888888888888, \"#fdca26\"], [1.0, \"#f0f921\"]], \"type\": \"surface\"}], \"table\": [{\"cells\": {\"fill\": {\"color\": \"#EBF0F8\"}, \"line\": {\"color\": \"white\"}}, \"header\": {\"fill\": {\"color\": \"#C8D4E3\"}, \"line\": {\"color\": \"white\"}}, \"type\": \"table\"}]}, \"layout\": {\"annotationdefaults\": {\"arrowcolor\": \"#2a3f5f\", \"arrowhead\": 0, \"arrowwidth\": 1}, \"autotypenumbers\": \"strict\", \"coloraxis\": {\"colorbar\": {\"outlinewidth\": 0, \"ticks\": \"\"}}, \"colorscale\": {\"diverging\": [[0, \"#8e0152\"], [0.1, \"#c51b7d\"], [0.2, \"#de77ae\"], [0.3, \"#f1b6da\"], [0.4, \"#fde0ef\"], [0.5, \"#f7f7f7\"], [0.6, \"#e6f5d0\"], [0.7, \"#b8e186\"], [0.8, \"#7fbc41\"], [0.9, \"#4d9221\"], [1, \"#276419\"]], \"sequential\": [[0.0, \"#0d0887\"], [0.1111111111111111, \"#46039f\"], [0.2222222222222222, \"#7201a8\"], [0.3333333333333333, \"#9c179e\"], [0.4444444444444444, \"#bd3786\"], [0.5555555555555556, \"#d8576b\"], [0.6666666666666666, \"#ed7953\"], [0.7777777777777778, \"#fb9f3a\"], [0.8888888888888888, \"#fdca26\"], [1.0, \"#f0f921\"]], \"sequentialminus\": [[0.0, \"#0d0887\"], [0.1111111111111111, \"#46039f\"], [0.2222222222222222, \"#7201a8\"], [0.3333333333333333, \"#9c179e\"], [0.4444444444444444, \"#bd3786\"], [0.5555555555555556, \"#d8576b\"], [0.6666666666666666, \"#ed7953\"], [0.7777777777777778, \"#fb9f3a\"], [0.8888888888888888, \"#fdca26\"], [1.0, \"#f0f921\"]]}, \"colorway\": [\"#636efa\", \"#EF553B\", \"#00cc96\", \"#ab63fa\", \"#FFA15A\", \"#19d3f3\", \"#FF6692\", \"#B6E880\", \"#FF97FF\", \"#FECB52\"], \"font\": {\"color\": \"#2a3f5f\"}, \"geo\": {\"bgcolor\": \"white\", \"lakecolor\": \"white\", \"landcolor\": \"white\", \"showlakes\": true, \"showland\": true, \"subunitcolor\": \"#C8D4E3\"}, \"hoverlabel\": {\"align\": \"left\"}, \"hovermode\": \"closest\", \"mapbox\": {\"style\": \"light\"}, \"paper_bgcolor\": \"white\", \"plot_bgcolor\": \"white\", \"polar\": {\"angularaxis\": {\"gridcolor\": \"#EBF0F8\", \"linecolor\": \"#EBF0F8\", \"ticks\": \"\"}, \"bgcolor\": \"white\", \"radialaxis\": {\"gridcolor\": \"#EBF0F8\", \"linecolor\": \"#EBF0F8\", \"ticks\": \"\"}}, \"scene\": {\"xaxis\": {\"backgroundcolor\": \"white\", \"gridcolor\": \"#DFE8F3\", \"gridwidth\": 2, \"linecolor\": \"#EBF0F8\", \"showbackground\": true, \"ticks\": \"\", \"zerolinecolor\": \"#EBF0F8\"}, \"yaxis\": {\"backgroundcolor\": \"white\", \"gridcolor\": \"#DFE8F3\", \"gridwidth\": 2, \"linecolor\": \"#EBF0F8\", \"showbackground\": true, \"ticks\": \"\", \"zerolinecolor\": \"#EBF0F8\"}, \"zaxis\": {\"backgroundcolor\": \"white\", \"gridcolor\": \"#DFE8F3\", \"gridwidth\": 2, \"linecolor\": \"#EBF0F8\", \"showbackground\": true, \"ticks\": \"\", \"zerolinecolor\": \"#EBF0F8\"}}, \"shapedefaults\": {\"line\": {\"color\": \"#2a3f5f\"}}, \"ternary\": {\"aaxis\": {\"gridcolor\": \"#DFE8F3\", \"linecolor\": \"#A2B1C6\", \"ticks\": \"\"}, \"baxis\": {\"gridcolor\": \"#DFE8F3\", \"linecolor\": \"#A2B1C6\", \"ticks\": \"\"}, \"bgcolor\": \"white\", \"caxis\": {\"gridcolor\": \"#DFE8F3\", \"linecolor\": \"#A2B1C6\", \"ticks\": \"\"}}, \"title\": {\"x\": 0.05}, \"xaxis\": {\"automargin\": true, \"gridcolor\": \"#EBF0F8\", \"linecolor\": \"#EBF0F8\", \"ticks\": \"\", \"title\": {\"standoff\": 15}, \"zerolinecolor\": \"#EBF0F8\", \"zerolinewidth\": 2}, \"yaxis\": {\"automargin\": true, \"gridcolor\": \"#EBF0F8\", \"linecolor\": \"#EBF0F8\", \"ticks\": \"\", \"title\": {\"standoff\": 15}, \"zerolinecolor\": \"#EBF0F8\", \"zerolinewidth\": 2}}}, \"title\": {\"font\": {\"color\": \"black\", \"family\": \"Myriad Pro\", \"size\": 16}, \"text\": \"OD Normalized GFP scaled to the max value\"}, \"width\": 300, \"xaxis\": {\"linecolor\": \"black\", \"linewidth\": 1, \"mirror\": true, \"showgrid\": false, \"showline\": true, \"side\": \"bottom\", \"tickangle\": 0, \"tickcolor\": \"black\", \"tickfont\": {\"color\": \"black\", \"family\": \"Myriad Pro\", \"size\": 16}, \"ticklen\": 4, \"ticks\": \"outside\", \"tickson\": \"boundaries\", \"title\": {\"font\": {\"color\": \"black\", \"family\": \"Myriad Pro\", \"size\": 18}}, \"zeroline\": false}, \"yaxis\": {\"linecolor\": \"black\", \"linewidth\": 1, \"mirror\": true, \"nticks\": 9, \"showgrid\": true, \"showline\": true, \"side\": \"left\", \"tickangle\": 0, \"tickcolor\": \"black\", \"tickfont\": {\"color\": \"black\", \"family\": \"Myriad Pro\", \"size\": 16}, \"ticklen\": 4, \"ticks\": \"outside\", \"title\": {\"font\": {\"color\": \"black\", \"family\": \"Myriad Pro\", \"size\": 18}, \"standoff\": 0, \"text\": \"(a.u.)\"}, \"type\": \"log\", \"zeroline\": false}},                        {\"responsive\": true}                    ).then(function(){\n",
       "                            \n",
       "var gd = document.getElementById('ab99c576-3279-406b-b640-b36a165a2d80');\n",
       "var x = new MutationObserver(function (mutations, observer) {{\n",
       "        var display = window.getComputedStyle(gd).display;\n",
       "        if (!display || display === 'none') {{\n",
       "            console.log([gd, 'removed!']);\n",
       "            Plotly.purge(gd);\n",
       "            observer.disconnect();\n",
       "        }}\n",
       "}});\n",
       "\n",
       "// Listen for the removal of the full notebook cells\n",
       "var notebookContainer = gd.closest('#notebook-container');\n",
       "if (notebookContainer) {{\n",
       "    x.observe(notebookContainer, {childList: true});\n",
       "}}\n",
       "\n",
       "// Listen for the clearing of the current output cell\n",
       "var outputEl = gd.closest('.output');\n",
       "if (outputEl) {{\n",
       "    x.observe(outputEl, {childList: true});\n",
       "}}\n",
       "\n",
       "                        })                };                });            </script>        </div>"
      ]
     },
     "metadata": {},
     "output_type": "display_data"
    }
   ],
   "source": [
    "analyte_of_interest = 'mCherry'\n",
    "strains = ['0000']\n",
    "trace_list = []\n",
    "temp_colors=[colors['blacks'][4]]\n",
    "rep_list = [replicate for replicate in expt_atc.replicate_trials if\n",
    "            str(replicate.trial_identifier.strain.name) in strains]\n",
    "for i,strain in enumerate(strains):\n",
    "    x = ['Reference Strains']\n",
    "    replicate = [rep for rep in rep_list if rep.trial_identifier.strain.name==strain]\n",
    "    if replicate:\n",
    "        replicate = replicate[0]\n",
    "        y = [(getattr(replicate.avg.analyte_dict[analyte_of_interest], attr)[-1])]\n",
    "        y_errs = [np.sqrt(getattr(replicate.std.analyte_dict[analyte_of_interest], attr)[-1]**2)]\n",
    "\n",
    "\n",
    "        trace_list.append(go.Bar(x=x,\n",
    "                             y=y,\n",
    "                             error_y=dict(type='data', array=y_errs, thickness=1.5, width=3, color='black'),\n",
    "                             marker=dict(color=temp_colors[i], line=dict(width=0)),\n",
    "                             showlegend=showlegend,# yaxis='y2',\n",
    "                             legendgroup=str(strain),\n",
    "                             name=str(strain)))    \n",
    "width=300\n",
    "fig1=go.Figure(data=trace_list)\n",
    "fig1.update_xaxes(showline=True, linewidth=1, linecolor='black', mirror=True, side='bottom',\n",
    "                  ticks='outside', ticklen=4, tickangle=0, tickson='boundaries', title_font=dict(size=18, family='Myriad Pro', color='black'),\n",
    "                  tickfont=dict(size=16, family='Myriad Pro', color='black'), tickcolor='black',\n",
    "                  showgrid=False,zeroline=False)\n",
    "fig1.update_layout(height=450, width=width, legend_orientation='h', legend_y=-0.2, \n",
    "                   title_font=dict(family='Myriad Pro',size=16, color='black'),\n",
    "                   legend_x=0.02, bargap=0.2, bargroupgap=0.1, title=title,\n",
    "                   legend_font=dict(family='Myriad Pro', size=16, color='black'))\n",
    "fig1['layout']['title']['font'] = dict(family='Myriad Pro',size=16, color='black')\n",
    "fig1['layout']['yaxis'] = dict(title='(a.u.)', title_standoff=0,\n",
    "                             title_font=dict(family='Myriad Pro', size=18, color='black'),\n",
    "                             showline=True, linewidth=1, linecolor='black', mirror=True, nticks=9,\n",
    "                             ticks='outside', ticklen=4, tickangle=0, type='log',\n",
    "                             tickfont=dict(family='Myriad Pro',size=16, color='black'), tickcolor='black', \n",
    "                             showgrid=True,zeroline=False,side='left')\n",
    "plot(fig1)"
   ]
  },
  {
   "cell_type": "code",
   "execution_count": 8,
   "metadata": {},
   "outputs": [
    {
     "data": {
      "application/vnd.plotly.v1+json": {
       "config": {
        "linkText": "Export to plot.ly",
        "plotlyServerURL": "https://plot.ly",
        "showLink": false
       },
       "data": [
        {
         "error_y": {
          "array": [
           577.9232238470289,
           215.5182895000712
          ],
          "color": "black",
          "thickness": 1.5,
          "type": "data",
          "width": 3
         },
         "legendgroup": "0000",
         "marker": {
          "color": "rgb(63,152,66)",
          "line": {
           "width": 0
          }
         },
         "name": "0000",
         "offsetgroup": "1",
         "showlegend": false,
         "type": "bar",
         "x": [
          "ATC",
          "IPTG"
         ],
         "y": [
          4530.406062942727,
          629.1802068344074
         ],
         "yaxis": "y"
        },
        {
         "error_y": {
          "array": [
           6.635654271442596,
           64.29549324782067
          ],
          "color": "black",
          "thickness": 1.5,
          "type": "data",
          "width": 3
         },
         "legendgroup": "0000",
         "marker": {
          "color": "rgb(187,57,64)",
          "line": {
           "width": 0
          }
         },
         "name": "0000",
         "offsetgroup": "2",
         "showlegend": false,
         "type": "bar",
         "x": [
          "ATC",
          "IPTG"
         ],
         "y": [
          157.4004729200812,
          1073.9685660657965
         ],
         "yaxis": "y2"
        }
       ],
       "layout": {
        "bargap": 0.5,
        "bargroupgap": 0.2,
        "height": 400,
        "legend": {
         "font": {
          "color": "black",
          "family": "Myriad Pro",
          "size": 16
         },
         "orientation": "h",
         "x": 0.02,
         "y": -0.2
        },
        "template": {
         "data": {
          "bar": [
           {
            "error_x": {
             "color": "#2a3f5f"
            },
            "error_y": {
             "color": "#2a3f5f"
            },
            "marker": {
             "line": {
              "color": "white",
              "width": 0.5
             }
            },
            "type": "bar"
           }
          ],
          "barpolar": [
           {
            "marker": {
             "line": {
              "color": "white",
              "width": 0.5
             }
            },
            "type": "barpolar"
           }
          ],
          "carpet": [
           {
            "aaxis": {
             "endlinecolor": "#2a3f5f",
             "gridcolor": "#C8D4E3",
             "linecolor": "#C8D4E3",
             "minorgridcolor": "#C8D4E3",
             "startlinecolor": "#2a3f5f"
            },
            "baxis": {
             "endlinecolor": "#2a3f5f",
             "gridcolor": "#C8D4E3",
             "linecolor": "#C8D4E3",
             "minorgridcolor": "#C8D4E3",
             "startlinecolor": "#2a3f5f"
            },
            "type": "carpet"
           }
          ],
          "choropleth": [
           {
            "colorbar": {
             "outlinewidth": 0,
             "ticks": ""
            },
            "type": "choropleth"
           }
          ],
          "contour": [
           {
            "colorbar": {
             "outlinewidth": 0,
             "ticks": ""
            },
            "colorscale": [
             [
              0,
              "#0d0887"
             ],
             [
              0.1111111111111111,
              "#46039f"
             ],
             [
              0.2222222222222222,
              "#7201a8"
             ],
             [
              0.3333333333333333,
              "#9c179e"
             ],
             [
              0.4444444444444444,
              "#bd3786"
             ],
             [
              0.5555555555555556,
              "#d8576b"
             ],
             [
              0.6666666666666666,
              "#ed7953"
             ],
             [
              0.7777777777777778,
              "#fb9f3a"
             ],
             [
              0.8888888888888888,
              "#fdca26"
             ],
             [
              1,
              "#f0f921"
             ]
            ],
            "type": "contour"
           }
          ],
          "contourcarpet": [
           {
            "colorbar": {
             "outlinewidth": 0,
             "ticks": ""
            },
            "type": "contourcarpet"
           }
          ],
          "heatmap": [
           {
            "colorbar": {
             "outlinewidth": 0,
             "ticks": ""
            },
            "colorscale": [
             [
              0,
              "#0d0887"
             ],
             [
              0.1111111111111111,
              "#46039f"
             ],
             [
              0.2222222222222222,
              "#7201a8"
             ],
             [
              0.3333333333333333,
              "#9c179e"
             ],
             [
              0.4444444444444444,
              "#bd3786"
             ],
             [
              0.5555555555555556,
              "#d8576b"
             ],
             [
              0.6666666666666666,
              "#ed7953"
             ],
             [
              0.7777777777777778,
              "#fb9f3a"
             ],
             [
              0.8888888888888888,
              "#fdca26"
             ],
             [
              1,
              "#f0f921"
             ]
            ],
            "type": "heatmap"
           }
          ],
          "heatmapgl": [
           {
            "colorbar": {
             "outlinewidth": 0,
             "ticks": ""
            },
            "colorscale": [
             [
              0,
              "#0d0887"
             ],
             [
              0.1111111111111111,
              "#46039f"
             ],
             [
              0.2222222222222222,
              "#7201a8"
             ],
             [
              0.3333333333333333,
              "#9c179e"
             ],
             [
              0.4444444444444444,
              "#bd3786"
             ],
             [
              0.5555555555555556,
              "#d8576b"
             ],
             [
              0.6666666666666666,
              "#ed7953"
             ],
             [
              0.7777777777777778,
              "#fb9f3a"
             ],
             [
              0.8888888888888888,
              "#fdca26"
             ],
             [
              1,
              "#f0f921"
             ]
            ],
            "type": "heatmapgl"
           }
          ],
          "histogram": [
           {
            "marker": {
             "colorbar": {
              "outlinewidth": 0,
              "ticks": ""
             }
            },
            "type": "histogram"
           }
          ],
          "histogram2d": [
           {
            "colorbar": {
             "outlinewidth": 0,
             "ticks": ""
            },
            "colorscale": [
             [
              0,
              "#0d0887"
             ],
             [
              0.1111111111111111,
              "#46039f"
             ],
             [
              0.2222222222222222,
              "#7201a8"
             ],
             [
              0.3333333333333333,
              "#9c179e"
             ],
             [
              0.4444444444444444,
              "#bd3786"
             ],
             [
              0.5555555555555556,
              "#d8576b"
             ],
             [
              0.6666666666666666,
              "#ed7953"
             ],
             [
              0.7777777777777778,
              "#fb9f3a"
             ],
             [
              0.8888888888888888,
              "#fdca26"
             ],
             [
              1,
              "#f0f921"
             ]
            ],
            "type": "histogram2d"
           }
          ],
          "histogram2dcontour": [
           {
            "colorbar": {
             "outlinewidth": 0,
             "ticks": ""
            },
            "colorscale": [
             [
              0,
              "#0d0887"
             ],
             [
              0.1111111111111111,
              "#46039f"
             ],
             [
              0.2222222222222222,
              "#7201a8"
             ],
             [
              0.3333333333333333,
              "#9c179e"
             ],
             [
              0.4444444444444444,
              "#bd3786"
             ],
             [
              0.5555555555555556,
              "#d8576b"
             ],
             [
              0.6666666666666666,
              "#ed7953"
             ],
             [
              0.7777777777777778,
              "#fb9f3a"
             ],
             [
              0.8888888888888888,
              "#fdca26"
             ],
             [
              1,
              "#f0f921"
             ]
            ],
            "type": "histogram2dcontour"
           }
          ],
          "mesh3d": [
           {
            "colorbar": {
             "outlinewidth": 0,
             "ticks": ""
            },
            "type": "mesh3d"
           }
          ],
          "parcoords": [
           {
            "line": {
             "colorbar": {
              "outlinewidth": 0,
              "ticks": ""
             }
            },
            "type": "parcoords"
           }
          ],
          "pie": [
           {
            "automargin": true,
            "type": "pie"
           }
          ],
          "scatter": [
           {
            "marker": {
             "colorbar": {
              "outlinewidth": 0,
              "ticks": ""
             }
            },
            "type": "scatter"
           }
          ],
          "scatter3d": [
           {
            "line": {
             "colorbar": {
              "outlinewidth": 0,
              "ticks": ""
             }
            },
            "marker": {
             "colorbar": {
              "outlinewidth": 0,
              "ticks": ""
             }
            },
            "type": "scatter3d"
           }
          ],
          "scattercarpet": [
           {
            "marker": {
             "colorbar": {
              "outlinewidth": 0,
              "ticks": ""
             }
            },
            "type": "scattercarpet"
           }
          ],
          "scattergeo": [
           {
            "marker": {
             "colorbar": {
              "outlinewidth": 0,
              "ticks": ""
             }
            },
            "type": "scattergeo"
           }
          ],
          "scattergl": [
           {
            "marker": {
             "colorbar": {
              "outlinewidth": 0,
              "ticks": ""
             }
            },
            "type": "scattergl"
           }
          ],
          "scattermapbox": [
           {
            "marker": {
             "colorbar": {
              "outlinewidth": 0,
              "ticks": ""
             }
            },
            "type": "scattermapbox"
           }
          ],
          "scatterpolar": [
           {
            "marker": {
             "colorbar": {
              "outlinewidth": 0,
              "ticks": ""
             }
            },
            "type": "scatterpolar"
           }
          ],
          "scatterpolargl": [
           {
            "marker": {
             "colorbar": {
              "outlinewidth": 0,
              "ticks": ""
             }
            },
            "type": "scatterpolargl"
           }
          ],
          "scatterternary": [
           {
            "marker": {
             "colorbar": {
              "outlinewidth": 0,
              "ticks": ""
             }
            },
            "type": "scatterternary"
           }
          ],
          "surface": [
           {
            "colorbar": {
             "outlinewidth": 0,
             "ticks": ""
            },
            "colorscale": [
             [
              0,
              "#0d0887"
             ],
             [
              0.1111111111111111,
              "#46039f"
             ],
             [
              0.2222222222222222,
              "#7201a8"
             ],
             [
              0.3333333333333333,
              "#9c179e"
             ],
             [
              0.4444444444444444,
              "#bd3786"
             ],
             [
              0.5555555555555556,
              "#d8576b"
             ],
             [
              0.6666666666666666,
              "#ed7953"
             ],
             [
              0.7777777777777778,
              "#fb9f3a"
             ],
             [
              0.8888888888888888,
              "#fdca26"
             ],
             [
              1,
              "#f0f921"
             ]
            ],
            "type": "surface"
           }
          ],
          "table": [
           {
            "cells": {
             "fill": {
              "color": "#EBF0F8"
             },
             "line": {
              "color": "white"
             }
            },
            "header": {
             "fill": {
              "color": "#C8D4E3"
             },
             "line": {
              "color": "white"
             }
            },
            "type": "table"
           }
          ]
         },
         "layout": {
          "annotationdefaults": {
           "arrowcolor": "#2a3f5f",
           "arrowhead": 0,
           "arrowwidth": 1
          },
          "autotypenumbers": "strict",
          "coloraxis": {
           "colorbar": {
            "outlinewidth": 0,
            "ticks": ""
           }
          },
          "colorscale": {
           "diverging": [
            [
             0,
             "#8e0152"
            ],
            [
             0.1,
             "#c51b7d"
            ],
            [
             0.2,
             "#de77ae"
            ],
            [
             0.3,
             "#f1b6da"
            ],
            [
             0.4,
             "#fde0ef"
            ],
            [
             0.5,
             "#f7f7f7"
            ],
            [
             0.6,
             "#e6f5d0"
            ],
            [
             0.7,
             "#b8e186"
            ],
            [
             0.8,
             "#7fbc41"
            ],
            [
             0.9,
             "#4d9221"
            ],
            [
             1,
             "#276419"
            ]
           ],
           "sequential": [
            [
             0,
             "#0d0887"
            ],
            [
             0.1111111111111111,
             "#46039f"
            ],
            [
             0.2222222222222222,
             "#7201a8"
            ],
            [
             0.3333333333333333,
             "#9c179e"
            ],
            [
             0.4444444444444444,
             "#bd3786"
            ],
            [
             0.5555555555555556,
             "#d8576b"
            ],
            [
             0.6666666666666666,
             "#ed7953"
            ],
            [
             0.7777777777777778,
             "#fb9f3a"
            ],
            [
             0.8888888888888888,
             "#fdca26"
            ],
            [
             1,
             "#f0f921"
            ]
           ],
           "sequentialminus": [
            [
             0,
             "#0d0887"
            ],
            [
             0.1111111111111111,
             "#46039f"
            ],
            [
             0.2222222222222222,
             "#7201a8"
            ],
            [
             0.3333333333333333,
             "#9c179e"
            ],
            [
             0.4444444444444444,
             "#bd3786"
            ],
            [
             0.5555555555555556,
             "#d8576b"
            ],
            [
             0.6666666666666666,
             "#ed7953"
            ],
            [
             0.7777777777777778,
             "#fb9f3a"
            ],
            [
             0.8888888888888888,
             "#fdca26"
            ],
            [
             1,
             "#f0f921"
            ]
           ]
          },
          "colorway": [
           "#636efa",
           "#EF553B",
           "#00cc96",
           "#ab63fa",
           "#FFA15A",
           "#19d3f3",
           "#FF6692",
           "#B6E880",
           "#FF97FF",
           "#FECB52"
          ],
          "font": {
           "color": "#2a3f5f"
          },
          "geo": {
           "bgcolor": "white",
           "lakecolor": "white",
           "landcolor": "white",
           "showlakes": true,
           "showland": true,
           "subunitcolor": "#C8D4E3"
          },
          "hoverlabel": {
           "align": "left"
          },
          "hovermode": "closest",
          "mapbox": {
           "style": "light"
          },
          "paper_bgcolor": "white",
          "plot_bgcolor": "white",
          "polar": {
           "angularaxis": {
            "gridcolor": "#EBF0F8",
            "linecolor": "#EBF0F8",
            "ticks": ""
           },
           "bgcolor": "white",
           "radialaxis": {
            "gridcolor": "#EBF0F8",
            "linecolor": "#EBF0F8",
            "ticks": ""
           }
          },
          "scene": {
           "xaxis": {
            "backgroundcolor": "white",
            "gridcolor": "#DFE8F3",
            "gridwidth": 2,
            "linecolor": "#EBF0F8",
            "showbackground": true,
            "ticks": "",
            "zerolinecolor": "#EBF0F8"
           },
           "yaxis": {
            "backgroundcolor": "white",
            "gridcolor": "#DFE8F3",
            "gridwidth": 2,
            "linecolor": "#EBF0F8",
            "showbackground": true,
            "ticks": "",
            "zerolinecolor": "#EBF0F8"
           },
           "zaxis": {
            "backgroundcolor": "white",
            "gridcolor": "#DFE8F3",
            "gridwidth": 2,
            "linecolor": "#EBF0F8",
            "showbackground": true,
            "ticks": "",
            "zerolinecolor": "#EBF0F8"
           }
          },
          "shapedefaults": {
           "line": {
            "color": "#2a3f5f"
           }
          },
          "ternary": {
           "aaxis": {
            "gridcolor": "#DFE8F3",
            "linecolor": "#A2B1C6",
            "ticks": ""
           },
           "baxis": {
            "gridcolor": "#DFE8F3",
            "linecolor": "#A2B1C6",
            "ticks": ""
           },
           "bgcolor": "white",
           "caxis": {
            "gridcolor": "#DFE8F3",
            "linecolor": "#A2B1C6",
            "ticks": ""
           }
          },
          "title": {
           "x": 0.05
          },
          "xaxis": {
           "automargin": true,
           "gridcolor": "#EBF0F8",
           "linecolor": "#EBF0F8",
           "ticks": "",
           "title": {
            "standoff": 15
           },
           "zerolinecolor": "#EBF0F8",
           "zerolinewidth": 2
          },
          "yaxis": {
           "automargin": true,
           "gridcolor": "#EBF0F8",
           "linecolor": "#EBF0F8",
           "ticks": "",
           "title": {
            "standoff": 15
           },
           "zerolinecolor": "#EBF0F8",
           "zerolinewidth": 2
          }
         }
        },
        "title": {
         "font": {
          "color": "black",
          "family": "Myriad Pro",
          "size": 16
         },
         "text": "OD Normalized GFP scaled to the max value"
        },
        "width": 350,
        "xaxis": {
         "linecolor": "black",
         "linewidth": 1,
         "mirror": true,
         "showgrid": false,
         "showline": true,
         "side": "bottom",
         "tickangle": 0,
         "tickcolor": "black",
         "tickfont": {
          "color": "black",
          "family": "Myriad Pro",
          "size": 18
         },
         "ticklen": 4,
         "ticks": "outside",
         "tickson": "boundaries",
         "title": {
          "font": {
           "color": "black",
           "family": "Myriad Pro",
           "size": 18
          }
         },
         "zeroline": false
        },
        "yaxis": {
         "linecolor": "black",
         "linewidth": 1,
         "mirror": true,
         "nticks": 9,
         "range": [
          0,
          5200
         ],
         "showgrid": true,
         "showline": true,
         "side": "left",
         "tickangle": 0,
         "tickcolor": "black",
         "tickfont": {
          "color": "black",
          "family": "Myriad Pro",
          "size": 18
         },
         "ticklen": 6,
         "ticks": "outside",
         "title": {
          "font": {
           "color": "black",
           "family": "Myriad Pro",
           "size": 18
          },
          "standoff": 0,
          "text": "GFP Fluorescence (a.u.)"
         },
         "type": "linear",
         "zeroline": false
        },
        "yaxis2": {
         "anchor": "x",
         "dtick": 250,
         "linecolor": "black",
         "linewidth": 1,
         "mirror": true,
         "nticks": 9,
         "overlaying": "y",
         "range": [
          0,
          1300
         ],
         "showgrid": true,
         "showline": true,
         "side": "right",
         "tickangle": 0,
         "tickcolor": "black",
         "tickfont": {
          "color": "black",
          "family": "Myriad Pro",
          "size": 18
         },
         "ticklen": 6,
         "ticks": "outside",
         "title": {
          "font": {
           "color": "black",
           "family": "Myriad Pro",
           "size": 18
          },
          "standoff": 0,
          "text": "mCherry Fluorescence(a.u.)"
         },
         "type": "linear",
         "zeroline": false
        }
       }
      },
      "text/html": [
       "<div>                            <div id=\"a88cda74-40be-45c3-8357-5e68cd1a5ccd\" class=\"plotly-graph-div\" style=\"height:400px; width:350px;\"></div>            <script type=\"text/javascript\">                require([\"plotly\"], function(Plotly) {                    window.PLOTLYENV=window.PLOTLYENV || {};                                    if (document.getElementById(\"a88cda74-40be-45c3-8357-5e68cd1a5ccd\")) {                    Plotly.newPlot(                        \"a88cda74-40be-45c3-8357-5e68cd1a5ccd\",                        [{\"error_y\": {\"array\": [577.9232238470289, 215.5182895000712], \"color\": \"black\", \"thickness\": 1.5, \"type\": \"data\", \"width\": 3}, \"legendgroup\": \"0000\", \"marker\": {\"color\": \"rgb(63,152,66)\", \"line\": {\"width\": 0}}, \"name\": \"0000\", \"offsetgroup\": \"1\", \"showlegend\": false, \"type\": \"bar\", \"x\": [\"ATC\", \"IPTG\"], \"y\": [4530.406062942727, 629.1802068344074], \"yaxis\": \"y\"}, {\"error_y\": {\"array\": [6.635654271442596, 64.29549324782067], \"color\": \"black\", \"thickness\": 1.5, \"type\": \"data\", \"width\": 3}, \"legendgroup\": \"0000\", \"marker\": {\"color\": \"rgb(187,57,64)\", \"line\": {\"width\": 0}}, \"name\": \"0000\", \"offsetgroup\": \"2\", \"showlegend\": false, \"type\": \"bar\", \"x\": [\"ATC\", \"IPTG\"], \"y\": [157.4004729200812, 1073.9685660657965], \"yaxis\": \"y2\"}],                        {\"bargap\": 0.5, \"bargroupgap\": 0.2, \"height\": 400, \"legend\": {\"font\": {\"color\": \"black\", \"family\": \"Myriad Pro\", \"size\": 16}, \"orientation\": \"h\", \"x\": 0.02, \"y\": -0.2}, \"template\": {\"data\": {\"bar\": [{\"error_x\": {\"color\": \"#2a3f5f\"}, \"error_y\": {\"color\": \"#2a3f5f\"}, \"marker\": {\"line\": {\"color\": \"white\", \"width\": 0.5}}, \"type\": \"bar\"}], \"barpolar\": [{\"marker\": {\"line\": {\"color\": \"white\", \"width\": 0.5}}, \"type\": \"barpolar\"}], \"carpet\": [{\"aaxis\": {\"endlinecolor\": \"#2a3f5f\", \"gridcolor\": \"#C8D4E3\", \"linecolor\": \"#C8D4E3\", \"minorgridcolor\": \"#C8D4E3\", \"startlinecolor\": \"#2a3f5f\"}, \"baxis\": {\"endlinecolor\": \"#2a3f5f\", \"gridcolor\": \"#C8D4E3\", \"linecolor\": \"#C8D4E3\", \"minorgridcolor\": \"#C8D4E3\", \"startlinecolor\": \"#2a3f5f\"}, \"type\": \"carpet\"}], \"choropleth\": [{\"colorbar\": {\"outlinewidth\": 0, \"ticks\": \"\"}, \"type\": \"choropleth\"}], \"contour\": [{\"colorbar\": {\"outlinewidth\": 0, \"ticks\": \"\"}, \"colorscale\": [[0.0, \"#0d0887\"], [0.1111111111111111, \"#46039f\"], [0.2222222222222222, \"#7201a8\"], [0.3333333333333333, \"#9c179e\"], [0.4444444444444444, \"#bd3786\"], [0.5555555555555556, \"#d8576b\"], [0.6666666666666666, \"#ed7953\"], [0.7777777777777778, \"#fb9f3a\"], [0.8888888888888888, \"#fdca26\"], [1.0, \"#f0f921\"]], \"type\": \"contour\"}], \"contourcarpet\": [{\"colorbar\": {\"outlinewidth\": 0, \"ticks\": \"\"}, \"type\": \"contourcarpet\"}], \"heatmap\": [{\"colorbar\": {\"outlinewidth\": 0, \"ticks\": \"\"}, \"colorscale\": [[0.0, \"#0d0887\"], [0.1111111111111111, \"#46039f\"], [0.2222222222222222, \"#7201a8\"], [0.3333333333333333, \"#9c179e\"], [0.4444444444444444, \"#bd3786\"], [0.5555555555555556, \"#d8576b\"], [0.6666666666666666, \"#ed7953\"], [0.7777777777777778, \"#fb9f3a\"], [0.8888888888888888, \"#fdca26\"], [1.0, \"#f0f921\"]], \"type\": \"heatmap\"}], \"heatmapgl\": [{\"colorbar\": {\"outlinewidth\": 0, \"ticks\": \"\"}, \"colorscale\": [[0.0, \"#0d0887\"], [0.1111111111111111, \"#46039f\"], [0.2222222222222222, \"#7201a8\"], [0.3333333333333333, \"#9c179e\"], [0.4444444444444444, \"#bd3786\"], [0.5555555555555556, \"#d8576b\"], [0.6666666666666666, \"#ed7953\"], [0.7777777777777778, \"#fb9f3a\"], [0.8888888888888888, \"#fdca26\"], [1.0, \"#f0f921\"]], \"type\": \"heatmapgl\"}], \"histogram\": [{\"marker\": {\"colorbar\": {\"outlinewidth\": 0, \"ticks\": \"\"}}, \"type\": \"histogram\"}], \"histogram2d\": [{\"colorbar\": {\"outlinewidth\": 0, \"ticks\": \"\"}, \"colorscale\": [[0.0, \"#0d0887\"], [0.1111111111111111, \"#46039f\"], [0.2222222222222222, \"#7201a8\"], [0.3333333333333333, \"#9c179e\"], [0.4444444444444444, \"#bd3786\"], [0.5555555555555556, \"#d8576b\"], [0.6666666666666666, \"#ed7953\"], [0.7777777777777778, \"#fb9f3a\"], [0.8888888888888888, \"#fdca26\"], [1.0, \"#f0f921\"]], \"type\": \"histogram2d\"}], \"histogram2dcontour\": [{\"colorbar\": {\"outlinewidth\": 0, \"ticks\": \"\"}, \"colorscale\": [[0.0, \"#0d0887\"], [0.1111111111111111, \"#46039f\"], [0.2222222222222222, \"#7201a8\"], [0.3333333333333333, \"#9c179e\"], [0.4444444444444444, \"#bd3786\"], [0.5555555555555556, \"#d8576b\"], [0.6666666666666666, \"#ed7953\"], [0.7777777777777778, \"#fb9f3a\"], [0.8888888888888888, \"#fdca26\"], [1.0, \"#f0f921\"]], \"type\": \"histogram2dcontour\"}], \"mesh3d\": [{\"colorbar\": {\"outlinewidth\": 0, \"ticks\": \"\"}, \"type\": \"mesh3d\"}], \"parcoords\": [{\"line\": {\"colorbar\": {\"outlinewidth\": 0, \"ticks\": \"\"}}, \"type\": \"parcoords\"}], \"pie\": [{\"automargin\": true, \"type\": \"pie\"}], \"scatter\": [{\"marker\": {\"colorbar\": {\"outlinewidth\": 0, \"ticks\": \"\"}}, \"type\": \"scatter\"}], \"scatter3d\": [{\"line\": {\"colorbar\": {\"outlinewidth\": 0, \"ticks\": \"\"}}, \"marker\": {\"colorbar\": {\"outlinewidth\": 0, \"ticks\": \"\"}}, \"type\": \"scatter3d\"}], \"scattercarpet\": [{\"marker\": {\"colorbar\": {\"outlinewidth\": 0, \"ticks\": \"\"}}, \"type\": \"scattercarpet\"}], \"scattergeo\": [{\"marker\": {\"colorbar\": {\"outlinewidth\": 0, \"ticks\": \"\"}}, \"type\": \"scattergeo\"}], \"scattergl\": [{\"marker\": {\"colorbar\": {\"outlinewidth\": 0, \"ticks\": \"\"}}, \"type\": \"scattergl\"}], \"scattermapbox\": [{\"marker\": {\"colorbar\": {\"outlinewidth\": 0, \"ticks\": \"\"}}, \"type\": \"scattermapbox\"}], \"scatterpolar\": [{\"marker\": {\"colorbar\": {\"outlinewidth\": 0, \"ticks\": \"\"}}, \"type\": \"scatterpolar\"}], \"scatterpolargl\": [{\"marker\": {\"colorbar\": {\"outlinewidth\": 0, \"ticks\": \"\"}}, \"type\": \"scatterpolargl\"}], \"scatterternary\": [{\"marker\": {\"colorbar\": {\"outlinewidth\": 0, \"ticks\": \"\"}}, \"type\": \"scatterternary\"}], \"surface\": [{\"colorbar\": {\"outlinewidth\": 0, \"ticks\": \"\"}, \"colorscale\": [[0.0, \"#0d0887\"], [0.1111111111111111, \"#46039f\"], [0.2222222222222222, \"#7201a8\"], [0.3333333333333333, \"#9c179e\"], [0.4444444444444444, \"#bd3786\"], [0.5555555555555556, \"#d8576b\"], [0.6666666666666666, \"#ed7953\"], [0.7777777777777778, \"#fb9f3a\"], [0.8888888888888888, \"#fdca26\"], [1.0, \"#f0f921\"]], \"type\": \"surface\"}], \"table\": [{\"cells\": {\"fill\": {\"color\": \"#EBF0F8\"}, \"line\": {\"color\": \"white\"}}, \"header\": {\"fill\": {\"color\": \"#C8D4E3\"}, \"line\": {\"color\": \"white\"}}, \"type\": \"table\"}]}, \"layout\": {\"annotationdefaults\": {\"arrowcolor\": \"#2a3f5f\", \"arrowhead\": 0, \"arrowwidth\": 1}, \"autotypenumbers\": \"strict\", \"coloraxis\": {\"colorbar\": {\"outlinewidth\": 0, \"ticks\": \"\"}}, \"colorscale\": {\"diverging\": [[0, \"#8e0152\"], [0.1, \"#c51b7d\"], [0.2, \"#de77ae\"], [0.3, \"#f1b6da\"], [0.4, \"#fde0ef\"], [0.5, \"#f7f7f7\"], [0.6, \"#e6f5d0\"], [0.7, \"#b8e186\"], [0.8, \"#7fbc41\"], [0.9, \"#4d9221\"], [1, \"#276419\"]], \"sequential\": [[0.0, \"#0d0887\"], [0.1111111111111111, \"#46039f\"], [0.2222222222222222, \"#7201a8\"], [0.3333333333333333, \"#9c179e\"], [0.4444444444444444, \"#bd3786\"], [0.5555555555555556, \"#d8576b\"], [0.6666666666666666, \"#ed7953\"], [0.7777777777777778, \"#fb9f3a\"], [0.8888888888888888, \"#fdca26\"], [1.0, \"#f0f921\"]], \"sequentialminus\": [[0.0, \"#0d0887\"], [0.1111111111111111, \"#46039f\"], [0.2222222222222222, \"#7201a8\"], [0.3333333333333333, \"#9c179e\"], [0.4444444444444444, \"#bd3786\"], [0.5555555555555556, \"#d8576b\"], [0.6666666666666666, \"#ed7953\"], [0.7777777777777778, \"#fb9f3a\"], [0.8888888888888888, \"#fdca26\"], [1.0, \"#f0f921\"]]}, \"colorway\": [\"#636efa\", \"#EF553B\", \"#00cc96\", \"#ab63fa\", \"#FFA15A\", \"#19d3f3\", \"#FF6692\", \"#B6E880\", \"#FF97FF\", \"#FECB52\"], \"font\": {\"color\": \"#2a3f5f\"}, \"geo\": {\"bgcolor\": \"white\", \"lakecolor\": \"white\", \"landcolor\": \"white\", \"showlakes\": true, \"showland\": true, \"subunitcolor\": \"#C8D4E3\"}, \"hoverlabel\": {\"align\": \"left\"}, \"hovermode\": \"closest\", \"mapbox\": {\"style\": \"light\"}, \"paper_bgcolor\": \"white\", \"plot_bgcolor\": \"white\", \"polar\": {\"angularaxis\": {\"gridcolor\": \"#EBF0F8\", \"linecolor\": \"#EBF0F8\", \"ticks\": \"\"}, \"bgcolor\": \"white\", \"radialaxis\": {\"gridcolor\": \"#EBF0F8\", \"linecolor\": \"#EBF0F8\", \"ticks\": \"\"}}, \"scene\": {\"xaxis\": {\"backgroundcolor\": \"white\", \"gridcolor\": \"#DFE8F3\", \"gridwidth\": 2, \"linecolor\": \"#EBF0F8\", \"showbackground\": true, \"ticks\": \"\", \"zerolinecolor\": \"#EBF0F8\"}, \"yaxis\": {\"backgroundcolor\": \"white\", \"gridcolor\": \"#DFE8F3\", \"gridwidth\": 2, \"linecolor\": \"#EBF0F8\", \"showbackground\": true, \"ticks\": \"\", \"zerolinecolor\": \"#EBF0F8\"}, \"zaxis\": {\"backgroundcolor\": \"white\", \"gridcolor\": \"#DFE8F3\", \"gridwidth\": 2, \"linecolor\": \"#EBF0F8\", \"showbackground\": true, \"ticks\": \"\", \"zerolinecolor\": \"#EBF0F8\"}}, \"shapedefaults\": {\"line\": {\"color\": \"#2a3f5f\"}}, \"ternary\": {\"aaxis\": {\"gridcolor\": \"#DFE8F3\", \"linecolor\": \"#A2B1C6\", \"ticks\": \"\"}, \"baxis\": {\"gridcolor\": \"#DFE8F3\", \"linecolor\": \"#A2B1C6\", \"ticks\": \"\"}, \"bgcolor\": \"white\", \"caxis\": {\"gridcolor\": \"#DFE8F3\", \"linecolor\": \"#A2B1C6\", \"ticks\": \"\"}}, \"title\": {\"x\": 0.05}, \"xaxis\": {\"automargin\": true, \"gridcolor\": \"#EBF0F8\", \"linecolor\": \"#EBF0F8\", \"ticks\": \"\", \"title\": {\"standoff\": 15}, \"zerolinecolor\": \"#EBF0F8\", \"zerolinewidth\": 2}, \"yaxis\": {\"automargin\": true, \"gridcolor\": \"#EBF0F8\", \"linecolor\": \"#EBF0F8\", \"ticks\": \"\", \"title\": {\"standoff\": 15}, \"zerolinecolor\": \"#EBF0F8\", \"zerolinewidth\": 2}}}, \"title\": {\"font\": {\"color\": \"black\", \"family\": \"Myriad Pro\", \"size\": 16}, \"text\": \"OD Normalized GFP scaled to the max value\"}, \"width\": 350, \"xaxis\": {\"linecolor\": \"black\", \"linewidth\": 1, \"mirror\": true, \"showgrid\": false, \"showline\": true, \"side\": \"bottom\", \"tickangle\": 0, \"tickcolor\": \"black\", \"tickfont\": {\"color\": \"black\", \"family\": \"Myriad Pro\", \"size\": 18}, \"ticklen\": 4, \"ticks\": \"outside\", \"tickson\": \"boundaries\", \"title\": {\"font\": {\"color\": \"black\", \"family\": \"Myriad Pro\", \"size\": 18}}, \"zeroline\": false}, \"yaxis\": {\"linecolor\": \"black\", \"linewidth\": 1, \"mirror\": true, \"nticks\": 9, \"range\": [0, 5200], \"showgrid\": true, \"showline\": true, \"side\": \"left\", \"tickangle\": 0, \"tickcolor\": \"black\", \"tickfont\": {\"color\": \"black\", \"family\": \"Myriad Pro\", \"size\": 18}, \"ticklen\": 6, \"ticks\": \"outside\", \"title\": {\"font\": {\"color\": \"black\", \"family\": \"Myriad Pro\", \"size\": 18}, \"standoff\": 0, \"text\": \"GFP Fluorescence (a.u.)\"}, \"type\": \"linear\", \"zeroline\": false}, \"yaxis2\": {\"anchor\": \"x\", \"dtick\": 250, \"linecolor\": \"black\", \"linewidth\": 1, \"mirror\": true, \"nticks\": 9, \"overlaying\": \"y\", \"range\": [0, 1300], \"showgrid\": true, \"showline\": true, \"side\": \"right\", \"tickangle\": 0, \"tickcolor\": \"black\", \"tickfont\": {\"color\": \"black\", \"family\": \"Myriad Pro\", \"size\": 18}, \"ticklen\": 6, \"ticks\": \"outside\", \"title\": {\"font\": {\"color\": \"black\", \"family\": \"Myriad Pro\", \"size\": 18}, \"standoff\": 0, \"text\": \"mCherry Fluorescence(a.u.)\"}, \"type\": \"linear\", \"zeroline\": false}},                        {\"responsive\": true}                    ).then(function(){\n",
       "                            \n",
       "var gd = document.getElementById('a88cda74-40be-45c3-8357-5e68cd1a5ccd');\n",
       "var x = new MutationObserver(function (mutations, observer) {{\n",
       "        var display = window.getComputedStyle(gd).display;\n",
       "        if (!display || display === 'none') {{\n",
       "            console.log([gd, 'removed!']);\n",
       "            Plotly.purge(gd);\n",
       "            observer.disconnect();\n",
       "        }}\n",
       "}});\n",
       "\n",
       "// Listen for the removal of the full notebook cells\n",
       "var notebookContainer = gd.closest('#notebook-container');\n",
       "if (notebookContainer) {{\n",
       "    x.observe(notebookContainer, {childList: true});\n",
       "}}\n",
       "\n",
       "// Listen for the clearing of the current output cell\n",
       "var outputEl = gd.closest('.output');\n",
       "if (outputEl) {{\n",
       "    x.observe(outputEl, {childList: true});\n",
       "}}\n",
       "\n",
       "                        })                };                });            </script>        </div>"
      ]
     },
     "metadata": {},
     "output_type": "display_data"
    }
   ],
   "source": [
    "\n",
    "strains = ['0000']\n",
    "reps = [rep for expt in [expt_atc, expt_iptg] for rep in expt.replicate_trials if rep.trial_identifier.strain.name=='0000']\n",
    "rep_atc, rep_iptg = reps\n",
    "trace_list = []\n",
    "attr = 'od_normalized_data'\n",
    "x = ['ATC', 'IPTG']\n",
    "y = [(getattr(rep.avg.analyte_dict['GFP'], attr)[-1]) for rep in [rep_atc, rep_iptg]]\n",
    "y_errs = [(getattr(rep.std.analyte_dict['GFP'], attr)[-1]) for rep in [rep_atc, rep_iptg]]\n",
    "trace_list.append(go.Bar(x=x,\n",
    "                     y=y, yaxis='y1',\n",
    "                     error_y=dict(type='data', array=y_errs, thickness=1.5, width=3, color='black'),\n",
    "                     marker=dict(color=colors['greens'][3], line=dict(width=0)), offsetgroup=1,\n",
    "                     showlegend=False,# yaxis='y2',\n",
    "                     legendgroup=str(strain),\n",
    "                     name=str(strain)))  \n",
    "\n",
    "y = [(getattr(rep.avg.analyte_dict['mCherry'], attr)[-1]) for rep in [rep_atc, rep_iptg]]\n",
    "y_errs = [(getattr(rep.std.analyte_dict['mCherry'], attr)[-1]) for rep in [rep_atc, rep_iptg]]\n",
    "trace_list.append(go.Bar(x=x,\n",
    "                     y=y, yaxis='y2',\n",
    "                     error_y=dict(type='data', array=y_errs, thickness=1.5, width=3, color='black'),\n",
    "                     marker=dict(color=colors['reds'][3], line=dict(width=0)),offsetgroup=2,\n",
    "                     showlegend=False,# yaxis='y2',\n",
    "                     legendgroup=str(strain),\n",
    "                     name=str(strain)))  \n",
    "fig1=go.Figure(data=trace_list)\n",
    "fig1.update_xaxes(showline=True, linewidth=1, linecolor='black', mirror=True, side='bottom',\n",
    "                  ticks='outside', ticklen=4, tickangle=0, tickson='boundaries', title_font=dict(size=18, family='Myriad Pro', color='black'),\n",
    "                  tickfont=dict(size=18, family='Myriad Pro', color='black'), tickcolor='black',\n",
    "                  showgrid=False,zeroline=False)\n",
    "fig1.update_layout(height=400, width=350, legend_orientation='h', legend_y=-0.2, \n",
    "                   title_font=dict(family='Myriad Pro',size=16, color='black'),\n",
    "                   legend_x=0.02, bargap=0.5, bargroupgap=0.2, title=title,\n",
    "                   legend_font=dict(family='Myriad Pro', size=16, color='black'))\n",
    "fig1['layout']['title']['font'] = dict(family='Myriad Pro',size=16, color='black')\n",
    "fig1['layout']['yaxis1'] = dict(title='GFP Fluorescence (a.u.)', title_standoff=0,\n",
    "                             title_font=dict(family='Myriad Pro', size=18, color='black'),\n",
    "                             showline=True, linewidth=1, linecolor='black', mirror=True, nticks=9,\n",
    "                             ticks='outside', ticklen=6, tickangle=0, type='linear', range=(0, 5200),\n",
    "                             tickfont=dict(family='Myriad Pro',size=18, color='black'), tickcolor='black', \n",
    "                             showgrid=True,zeroline=False,side='left')\n",
    "fig1['layout']['yaxis2'] = dict(title='mCherry Fluorescence(a.u.)', title_standoff=0,\n",
    "                             title_font=dict(family='Myriad Pro', size=18, color='black'), range=(0,1300), dtick=250,\n",
    "                             showline=True, linewidth=1, linecolor='black', mirror=True, nticks=9,\n",
    "                             ticks='outside', ticklen=6, tickangle=0, type='linear', anchor='x',overlaying='y1',\n",
    "                             tickfont=dict(family='Myriad Pro',size=18, color='black'), tickcolor='black', \n",
    "                             showgrid=True,zeroline=False,side='right')\n",
    "\n",
    "\n",
    "plot(fig1)\n",
    "fig1.write_image('bistability.svg', format='svg')"
   ]
  },
  {
   "cell_type": "code",
   "execution_count": 134,
   "metadata": {},
   "outputs": [
    {
     "data": {
      "text/plain": [
       "0.5825361229758641"
      ]
     },
     "execution_count": 134,
     "metadata": {},
     "output_type": "execute_result"
    }
   ],
   "source": [
    "rep_iptg.avg.analyte_dict['GFP'].pd_series[0]/rep_iptg.avg.analyte_dict['mCherry'].pd_series[0]"
   ]
  },
  {
   "cell_type": "code",
   "execution_count": 135,
   "metadata": {},
   "outputs": [
    {
     "data": {
      "text/plain": [
       "28.712544064155896"
      ]
     },
     "execution_count": 135,
     "metadata": {},
     "output_type": "execute_result"
    }
   ],
   "source": [
    "rep_atc.avg.analyte_dict['GFP'].pd_series[0]/rep_atc.avg.analyte_dict['mCherry'].pd_series[0]"
   ]
  },
  {
   "cell_type": "code",
   "execution_count": 82,
   "metadata": {},
   "outputs": [],
   "source": [
    "reps = [rep for expt in [expt_atc, expt_iptg] for rep in expt.replicate_trials if rep.trial_identifier.strain.name=='0000']\n",
    "rep_atc, rep_iptg = reps"
   ]
  },
  {
   "cell_type": "code",
   "execution_count": 70,
   "metadata": {},
   "outputs": [
    {
     "name": "stdout",
     "output_type": "stream",
     "text": [
      "strain: 0000,\tmedia: RDM,\tenv: None \n",
      "strain: 0000,\tmedia: RDM,\tenv: None \n"
     ]
    }
   ],
   "source": [
    "for rep in reps:\n",
    "    print(rep.trial_identifier)"
   ]
  },
  {
   "cell_type": "code",
   "execution_count": 63,
   "metadata": {},
   "outputs": [
    {
     "data": {
      "text/plain": [
       "array([629.18020683])"
      ]
     },
     "execution_count": 63,
     "metadata": {},
     "output_type": "execute_result"
    }
   ],
   "source": [
    "rep[0].avg.analyte_dict['GFP'].od_normalized_data"
   ]
  },
  {
   "cell_type": "code",
   "execution_count": 88,
   "metadata": {},
   "outputs": [],
   "source": [
    "gfp_max = rep_atc.avg.analyte_dict['GFP'].od_normalized_data[0]\n",
    "gfp_err = rep_atc.std.analyte_dict['GFP'].od_normalized_data[0]\n",
    "mche_max = rep_iptg.avg.analyte_dict['mCherry'].od_normalized_data[0]\n",
    "mche_err = rep_iptg.std.analyte_dict['mCherry'].od_normalized_data[0]"
   ]
  },
  {
   "cell_type": "code",
   "execution_count": 124,
   "metadata": {},
   "outputs": [
    {
     "name": "stdout",
     "output_type": "stream",
     "text": [
      "0\n",
      "1\n"
     ]
    }
   ],
   "source": [
    "for  i in range(2):\n",
    "    print(i)"
   ]
  },
  {
   "cell_type": "code",
   "execution_count": 141,
   "metadata": {},
   "outputs": [
    {
     "data": {
      "application/vnd.plotly.v1+json": {
       "config": {
        "linkText": "Export to plot.ly",
        "plotlyServerURL": "https://plot.ly",
        "showLink": false
       },
       "data": [
        {
         "error_y": {
          "array": [
           0.18040476942236133,
           0.05076330868763198
          ],
          "color": "black",
          "thickness": 1.5,
          "type": "data",
          "width": 3
         },
         "legendgroup": "0000",
         "marker": {
          "color": "rgb(63,152,66)",
          "line": {
           "width": 0
          }
         },
         "name": "0000",
         "offsetgroup": "1",
         "showlegend": false,
         "type": "bar",
         "x": [
          "ATC",
          "IPTG"
         ],
         "y": [
          1,
          0.13887942892821473
         ],
         "yaxis": "y"
        },
        {
         "error_y": {
          "array": [
           0.010731290583360446,
           0.08466500922240688
          ],
          "color": "black",
          "thickness": 1.5,
          "type": "data",
          "width": 3
         },
         "legendgroup": "0000",
         "marker": {
          "color": "rgb(187,57,64)",
          "line": {
           "width": 0
          }
         },
         "name": "0000",
         "offsetgroup": "2",
         "showlegend": false,
         "type": "bar",
         "x": [
          "ATC",
          "IPTG"
         ],
         "y": [
          0.1465596646805751,
          1
         ],
         "yaxis": "y"
        }
       ],
       "layout": {
        "bargap": 0.5,
        "bargroupgap": 0.2,
        "height": 400,
        "legend": {
         "font": {
          "color": "black",
          "family": "Myriad Pro",
          "size": 16
         },
         "orientation": "h",
         "x": 0.02,
         "y": -0.2
        },
        "template": {
         "data": {
          "bar": [
           {
            "error_x": {
             "color": "#2a3f5f"
            },
            "error_y": {
             "color": "#2a3f5f"
            },
            "marker": {
             "line": {
              "color": "white",
              "width": 0.5
             }
            },
            "type": "bar"
           }
          ],
          "barpolar": [
           {
            "marker": {
             "line": {
              "color": "white",
              "width": 0.5
             }
            },
            "type": "barpolar"
           }
          ],
          "carpet": [
           {
            "aaxis": {
             "endlinecolor": "#2a3f5f",
             "gridcolor": "#C8D4E3",
             "linecolor": "#C8D4E3",
             "minorgridcolor": "#C8D4E3",
             "startlinecolor": "#2a3f5f"
            },
            "baxis": {
             "endlinecolor": "#2a3f5f",
             "gridcolor": "#C8D4E3",
             "linecolor": "#C8D4E3",
             "minorgridcolor": "#C8D4E3",
             "startlinecolor": "#2a3f5f"
            },
            "type": "carpet"
           }
          ],
          "choropleth": [
           {
            "colorbar": {
             "outlinewidth": 0,
             "ticks": ""
            },
            "type": "choropleth"
           }
          ],
          "contour": [
           {
            "colorbar": {
             "outlinewidth": 0,
             "ticks": ""
            },
            "colorscale": [
             [
              0,
              "#0d0887"
             ],
             [
              0.1111111111111111,
              "#46039f"
             ],
             [
              0.2222222222222222,
              "#7201a8"
             ],
             [
              0.3333333333333333,
              "#9c179e"
             ],
             [
              0.4444444444444444,
              "#bd3786"
             ],
             [
              0.5555555555555556,
              "#d8576b"
             ],
             [
              0.6666666666666666,
              "#ed7953"
             ],
             [
              0.7777777777777778,
              "#fb9f3a"
             ],
             [
              0.8888888888888888,
              "#fdca26"
             ],
             [
              1,
              "#f0f921"
             ]
            ],
            "type": "contour"
           }
          ],
          "contourcarpet": [
           {
            "colorbar": {
             "outlinewidth": 0,
             "ticks": ""
            },
            "type": "contourcarpet"
           }
          ],
          "heatmap": [
           {
            "colorbar": {
             "outlinewidth": 0,
             "ticks": ""
            },
            "colorscale": [
             [
              0,
              "#0d0887"
             ],
             [
              0.1111111111111111,
              "#46039f"
             ],
             [
              0.2222222222222222,
              "#7201a8"
             ],
             [
              0.3333333333333333,
              "#9c179e"
             ],
             [
              0.4444444444444444,
              "#bd3786"
             ],
             [
              0.5555555555555556,
              "#d8576b"
             ],
             [
              0.6666666666666666,
              "#ed7953"
             ],
             [
              0.7777777777777778,
              "#fb9f3a"
             ],
             [
              0.8888888888888888,
              "#fdca26"
             ],
             [
              1,
              "#f0f921"
             ]
            ],
            "type": "heatmap"
           }
          ],
          "heatmapgl": [
           {
            "colorbar": {
             "outlinewidth": 0,
             "ticks": ""
            },
            "colorscale": [
             [
              0,
              "#0d0887"
             ],
             [
              0.1111111111111111,
              "#46039f"
             ],
             [
              0.2222222222222222,
              "#7201a8"
             ],
             [
              0.3333333333333333,
              "#9c179e"
             ],
             [
              0.4444444444444444,
              "#bd3786"
             ],
             [
              0.5555555555555556,
              "#d8576b"
             ],
             [
              0.6666666666666666,
              "#ed7953"
             ],
             [
              0.7777777777777778,
              "#fb9f3a"
             ],
             [
              0.8888888888888888,
              "#fdca26"
             ],
             [
              1,
              "#f0f921"
             ]
            ],
            "type": "heatmapgl"
           }
          ],
          "histogram": [
           {
            "marker": {
             "colorbar": {
              "outlinewidth": 0,
              "ticks": ""
             }
            },
            "type": "histogram"
           }
          ],
          "histogram2d": [
           {
            "colorbar": {
             "outlinewidth": 0,
             "ticks": ""
            },
            "colorscale": [
             [
              0,
              "#0d0887"
             ],
             [
              0.1111111111111111,
              "#46039f"
             ],
             [
              0.2222222222222222,
              "#7201a8"
             ],
             [
              0.3333333333333333,
              "#9c179e"
             ],
             [
              0.4444444444444444,
              "#bd3786"
             ],
             [
              0.5555555555555556,
              "#d8576b"
             ],
             [
              0.6666666666666666,
              "#ed7953"
             ],
             [
              0.7777777777777778,
              "#fb9f3a"
             ],
             [
              0.8888888888888888,
              "#fdca26"
             ],
             [
              1,
              "#f0f921"
             ]
            ],
            "type": "histogram2d"
           }
          ],
          "histogram2dcontour": [
           {
            "colorbar": {
             "outlinewidth": 0,
             "ticks": ""
            },
            "colorscale": [
             [
              0,
              "#0d0887"
             ],
             [
              0.1111111111111111,
              "#46039f"
             ],
             [
              0.2222222222222222,
              "#7201a8"
             ],
             [
              0.3333333333333333,
              "#9c179e"
             ],
             [
              0.4444444444444444,
              "#bd3786"
             ],
             [
              0.5555555555555556,
              "#d8576b"
             ],
             [
              0.6666666666666666,
              "#ed7953"
             ],
             [
              0.7777777777777778,
              "#fb9f3a"
             ],
             [
              0.8888888888888888,
              "#fdca26"
             ],
             [
              1,
              "#f0f921"
             ]
            ],
            "type": "histogram2dcontour"
           }
          ],
          "mesh3d": [
           {
            "colorbar": {
             "outlinewidth": 0,
             "ticks": ""
            },
            "type": "mesh3d"
           }
          ],
          "parcoords": [
           {
            "line": {
             "colorbar": {
              "outlinewidth": 0,
              "ticks": ""
             }
            },
            "type": "parcoords"
           }
          ],
          "pie": [
           {
            "automargin": true,
            "type": "pie"
           }
          ],
          "scatter": [
           {
            "marker": {
             "colorbar": {
              "outlinewidth": 0,
              "ticks": ""
             }
            },
            "type": "scatter"
           }
          ],
          "scatter3d": [
           {
            "line": {
             "colorbar": {
              "outlinewidth": 0,
              "ticks": ""
             }
            },
            "marker": {
             "colorbar": {
              "outlinewidth": 0,
              "ticks": ""
             }
            },
            "type": "scatter3d"
           }
          ],
          "scattercarpet": [
           {
            "marker": {
             "colorbar": {
              "outlinewidth": 0,
              "ticks": ""
             }
            },
            "type": "scattercarpet"
           }
          ],
          "scattergeo": [
           {
            "marker": {
             "colorbar": {
              "outlinewidth": 0,
              "ticks": ""
             }
            },
            "type": "scattergeo"
           }
          ],
          "scattergl": [
           {
            "marker": {
             "colorbar": {
              "outlinewidth": 0,
              "ticks": ""
             }
            },
            "type": "scattergl"
           }
          ],
          "scattermapbox": [
           {
            "marker": {
             "colorbar": {
              "outlinewidth": 0,
              "ticks": ""
             }
            },
            "type": "scattermapbox"
           }
          ],
          "scatterpolar": [
           {
            "marker": {
             "colorbar": {
              "outlinewidth": 0,
              "ticks": ""
             }
            },
            "type": "scatterpolar"
           }
          ],
          "scatterpolargl": [
           {
            "marker": {
             "colorbar": {
              "outlinewidth": 0,
              "ticks": ""
             }
            },
            "type": "scatterpolargl"
           }
          ],
          "scatterternary": [
           {
            "marker": {
             "colorbar": {
              "outlinewidth": 0,
              "ticks": ""
             }
            },
            "type": "scatterternary"
           }
          ],
          "surface": [
           {
            "colorbar": {
             "outlinewidth": 0,
             "ticks": ""
            },
            "colorscale": [
             [
              0,
              "#0d0887"
             ],
             [
              0.1111111111111111,
              "#46039f"
             ],
             [
              0.2222222222222222,
              "#7201a8"
             ],
             [
              0.3333333333333333,
              "#9c179e"
             ],
             [
              0.4444444444444444,
              "#bd3786"
             ],
             [
              0.5555555555555556,
              "#d8576b"
             ],
             [
              0.6666666666666666,
              "#ed7953"
             ],
             [
              0.7777777777777778,
              "#fb9f3a"
             ],
             [
              0.8888888888888888,
              "#fdca26"
             ],
             [
              1,
              "#f0f921"
             ]
            ],
            "type": "surface"
           }
          ],
          "table": [
           {
            "cells": {
             "fill": {
              "color": "#EBF0F8"
             },
             "line": {
              "color": "white"
             }
            },
            "header": {
             "fill": {
              "color": "#C8D4E3"
             },
             "line": {
              "color": "white"
             }
            },
            "type": "table"
           }
          ]
         },
         "layout": {
          "annotationdefaults": {
           "arrowcolor": "#2a3f5f",
           "arrowhead": 0,
           "arrowwidth": 1
          },
          "autotypenumbers": "strict",
          "coloraxis": {
           "colorbar": {
            "outlinewidth": 0,
            "ticks": ""
           }
          },
          "colorscale": {
           "diverging": [
            [
             0,
             "#8e0152"
            ],
            [
             0.1,
             "#c51b7d"
            ],
            [
             0.2,
             "#de77ae"
            ],
            [
             0.3,
             "#f1b6da"
            ],
            [
             0.4,
             "#fde0ef"
            ],
            [
             0.5,
             "#f7f7f7"
            ],
            [
             0.6,
             "#e6f5d0"
            ],
            [
             0.7,
             "#b8e186"
            ],
            [
             0.8,
             "#7fbc41"
            ],
            [
             0.9,
             "#4d9221"
            ],
            [
             1,
             "#276419"
            ]
           ],
           "sequential": [
            [
             0,
             "#0d0887"
            ],
            [
             0.1111111111111111,
             "#46039f"
            ],
            [
             0.2222222222222222,
             "#7201a8"
            ],
            [
             0.3333333333333333,
             "#9c179e"
            ],
            [
             0.4444444444444444,
             "#bd3786"
            ],
            [
             0.5555555555555556,
             "#d8576b"
            ],
            [
             0.6666666666666666,
             "#ed7953"
            ],
            [
             0.7777777777777778,
             "#fb9f3a"
            ],
            [
             0.8888888888888888,
             "#fdca26"
            ],
            [
             1,
             "#f0f921"
            ]
           ],
           "sequentialminus": [
            [
             0,
             "#0d0887"
            ],
            [
             0.1111111111111111,
             "#46039f"
            ],
            [
             0.2222222222222222,
             "#7201a8"
            ],
            [
             0.3333333333333333,
             "#9c179e"
            ],
            [
             0.4444444444444444,
             "#bd3786"
            ],
            [
             0.5555555555555556,
             "#d8576b"
            ],
            [
             0.6666666666666666,
             "#ed7953"
            ],
            [
             0.7777777777777778,
             "#fb9f3a"
            ],
            [
             0.8888888888888888,
             "#fdca26"
            ],
            [
             1,
             "#f0f921"
            ]
           ]
          },
          "colorway": [
           "#636efa",
           "#EF553B",
           "#00cc96",
           "#ab63fa",
           "#FFA15A",
           "#19d3f3",
           "#FF6692",
           "#B6E880",
           "#FF97FF",
           "#FECB52"
          ],
          "font": {
           "color": "#2a3f5f"
          },
          "geo": {
           "bgcolor": "white",
           "lakecolor": "white",
           "landcolor": "white",
           "showlakes": true,
           "showland": true,
           "subunitcolor": "#C8D4E3"
          },
          "hoverlabel": {
           "align": "left"
          },
          "hovermode": "closest",
          "mapbox": {
           "style": "light"
          },
          "paper_bgcolor": "white",
          "plot_bgcolor": "white",
          "polar": {
           "angularaxis": {
            "gridcolor": "#EBF0F8",
            "linecolor": "#EBF0F8",
            "ticks": ""
           },
           "bgcolor": "white",
           "radialaxis": {
            "gridcolor": "#EBF0F8",
            "linecolor": "#EBF0F8",
            "ticks": ""
           }
          },
          "scene": {
           "xaxis": {
            "backgroundcolor": "white",
            "gridcolor": "#DFE8F3",
            "gridwidth": 2,
            "linecolor": "#EBF0F8",
            "showbackground": true,
            "ticks": "",
            "zerolinecolor": "#EBF0F8"
           },
           "yaxis": {
            "backgroundcolor": "white",
            "gridcolor": "#DFE8F3",
            "gridwidth": 2,
            "linecolor": "#EBF0F8",
            "showbackground": true,
            "ticks": "",
            "zerolinecolor": "#EBF0F8"
           },
           "zaxis": {
            "backgroundcolor": "white",
            "gridcolor": "#DFE8F3",
            "gridwidth": 2,
            "linecolor": "#EBF0F8",
            "showbackground": true,
            "ticks": "",
            "zerolinecolor": "#EBF0F8"
           }
          },
          "shapedefaults": {
           "line": {
            "color": "#2a3f5f"
           }
          },
          "ternary": {
           "aaxis": {
            "gridcolor": "#DFE8F3",
            "linecolor": "#A2B1C6",
            "ticks": ""
           },
           "baxis": {
            "gridcolor": "#DFE8F3",
            "linecolor": "#A2B1C6",
            "ticks": ""
           },
           "bgcolor": "white",
           "caxis": {
            "gridcolor": "#DFE8F3",
            "linecolor": "#A2B1C6",
            "ticks": ""
           }
          },
          "title": {
           "x": 0.05
          },
          "xaxis": {
           "automargin": true,
           "gridcolor": "#EBF0F8",
           "linecolor": "#EBF0F8",
           "ticks": "",
           "title": {
            "standoff": 15
           },
           "zerolinecolor": "#EBF0F8",
           "zerolinewidth": 2
          },
          "yaxis": {
           "automargin": true,
           "gridcolor": "#EBF0F8",
           "linecolor": "#EBF0F8",
           "ticks": "",
           "title": {
            "standoff": 15
           },
           "zerolinecolor": "#EBF0F8",
           "zerolinewidth": 2
          }
         }
        },
        "title": {
         "font": {
          "color": "black",
          "family": "Myriad Pro",
          "size": 16
         },
         "text": "OD Normalized GFP scaled to the max value"
        },
        "width": 350,
        "xaxis": {
         "linecolor": "black",
         "linewidth": 1,
         "mirror": true,
         "showgrid": false,
         "showline": true,
         "side": "bottom",
         "tickangle": 0,
         "tickcolor": "black",
         "tickfont": {
          "color": "black",
          "family": "Myriad Pro",
          "size": 18
         },
         "ticklen": 4,
         "ticks": "outside",
         "tickson": "boundaries",
         "title": {
          "font": {
           "color": "black",
           "family": "Myriad Pro",
           "size": 18
          }
         },
         "zeroline": false
        },
        "yaxis": {
         "linecolor": "black",
         "linewidth": 1,
         "mirror": true,
         "nticks": 9,
         "range": [
          0,
          1.25
         ],
         "showgrid": true,
         "showline": true,
         "side": "left",
         "tickangle": 0,
         "tickcolor": "black",
         "tickfont": {
          "color": "black",
          "family": "Myriad Pro",
          "size": 18
         },
         "ticklen": 6,
         "ticks": "outside",
         "title": {
          "font": {
           "color": "black",
           "family": "Myriad Pro",
           "size": 18
          },
          "standoff": 0,
          "text": "Fluorescence Normalized to Max (a.u.)"
         },
         "type": "linear",
         "zeroline": false
        }
       }
      },
      "text/html": [
       "<div>                            <div id=\"7f73f1b2-9ca9-45ee-b15f-9362db48bcdb\" class=\"plotly-graph-div\" style=\"height:400px; width:350px;\"></div>            <script type=\"text/javascript\">                require([\"plotly\"], function(Plotly) {                    window.PLOTLYENV=window.PLOTLYENV || {};                                    if (document.getElementById(\"7f73f1b2-9ca9-45ee-b15f-9362db48bcdb\")) {                    Plotly.newPlot(                        \"7f73f1b2-9ca9-45ee-b15f-9362db48bcdb\",                        [{\"error_y\": {\"array\": [0.18040476942236133, 0.05076330868763198], \"color\": \"black\", \"thickness\": 1.5, \"type\": \"data\", \"width\": 3}, \"legendgroup\": \"0000\", \"marker\": {\"color\": \"rgb(63,152,66)\", \"line\": {\"width\": 0}}, \"name\": \"0000\", \"offsetgroup\": \"1\", \"showlegend\": false, \"type\": \"bar\", \"x\": [\"ATC\", \"IPTG\"], \"y\": [1.0, 0.13887942892821473], \"yaxis\": \"y\"}, {\"error_y\": {\"array\": [0.010731290583360446, 0.08466500922240688], \"color\": \"black\", \"thickness\": 1.5, \"type\": \"data\", \"width\": 3}, \"legendgroup\": \"0000\", \"marker\": {\"color\": \"rgb(187,57,64)\", \"line\": {\"width\": 0}}, \"name\": \"0000\", \"offsetgroup\": \"2\", \"showlegend\": false, \"type\": \"bar\", \"x\": [\"ATC\", \"IPTG\"], \"y\": [0.1465596646805751, 1.0], \"yaxis\": \"y\"}],                        {\"bargap\": 0.5, \"bargroupgap\": 0.2, \"height\": 400, \"legend\": {\"font\": {\"color\": \"black\", \"family\": \"Myriad Pro\", \"size\": 16}, \"orientation\": \"h\", \"x\": 0.02, \"y\": -0.2}, \"template\": {\"data\": {\"bar\": [{\"error_x\": {\"color\": \"#2a3f5f\"}, \"error_y\": {\"color\": \"#2a3f5f\"}, \"marker\": {\"line\": {\"color\": \"white\", \"width\": 0.5}}, \"type\": \"bar\"}], \"barpolar\": [{\"marker\": {\"line\": {\"color\": \"white\", \"width\": 0.5}}, \"type\": \"barpolar\"}], \"carpet\": [{\"aaxis\": {\"endlinecolor\": \"#2a3f5f\", \"gridcolor\": \"#C8D4E3\", \"linecolor\": \"#C8D4E3\", \"minorgridcolor\": \"#C8D4E3\", \"startlinecolor\": \"#2a3f5f\"}, \"baxis\": {\"endlinecolor\": \"#2a3f5f\", \"gridcolor\": \"#C8D4E3\", \"linecolor\": \"#C8D4E3\", \"minorgridcolor\": \"#C8D4E3\", \"startlinecolor\": \"#2a3f5f\"}, \"type\": \"carpet\"}], \"choropleth\": [{\"colorbar\": {\"outlinewidth\": 0, \"ticks\": \"\"}, \"type\": \"choropleth\"}], \"contour\": [{\"colorbar\": {\"outlinewidth\": 0, \"ticks\": \"\"}, \"colorscale\": [[0.0, \"#0d0887\"], [0.1111111111111111, \"#46039f\"], [0.2222222222222222, \"#7201a8\"], [0.3333333333333333, \"#9c179e\"], [0.4444444444444444, \"#bd3786\"], [0.5555555555555556, \"#d8576b\"], [0.6666666666666666, \"#ed7953\"], [0.7777777777777778, \"#fb9f3a\"], [0.8888888888888888, \"#fdca26\"], [1.0, \"#f0f921\"]], \"type\": \"contour\"}], \"contourcarpet\": [{\"colorbar\": {\"outlinewidth\": 0, \"ticks\": \"\"}, \"type\": \"contourcarpet\"}], \"heatmap\": [{\"colorbar\": {\"outlinewidth\": 0, \"ticks\": \"\"}, \"colorscale\": [[0.0, \"#0d0887\"], [0.1111111111111111, \"#46039f\"], [0.2222222222222222, \"#7201a8\"], [0.3333333333333333, \"#9c179e\"], [0.4444444444444444, \"#bd3786\"], [0.5555555555555556, \"#d8576b\"], [0.6666666666666666, \"#ed7953\"], [0.7777777777777778, \"#fb9f3a\"], [0.8888888888888888, \"#fdca26\"], [1.0, \"#f0f921\"]], \"type\": \"heatmap\"}], \"heatmapgl\": [{\"colorbar\": {\"outlinewidth\": 0, \"ticks\": \"\"}, \"colorscale\": [[0.0, \"#0d0887\"], [0.1111111111111111, \"#46039f\"], [0.2222222222222222, \"#7201a8\"], [0.3333333333333333, \"#9c179e\"], [0.4444444444444444, \"#bd3786\"], [0.5555555555555556, \"#d8576b\"], [0.6666666666666666, \"#ed7953\"], [0.7777777777777778, \"#fb9f3a\"], [0.8888888888888888, \"#fdca26\"], [1.0, \"#f0f921\"]], \"type\": \"heatmapgl\"}], \"histogram\": [{\"marker\": {\"colorbar\": {\"outlinewidth\": 0, \"ticks\": \"\"}}, \"type\": \"histogram\"}], \"histogram2d\": [{\"colorbar\": {\"outlinewidth\": 0, \"ticks\": \"\"}, \"colorscale\": [[0.0, \"#0d0887\"], [0.1111111111111111, \"#46039f\"], [0.2222222222222222, \"#7201a8\"], [0.3333333333333333, \"#9c179e\"], [0.4444444444444444, \"#bd3786\"], [0.5555555555555556, \"#d8576b\"], [0.6666666666666666, \"#ed7953\"], [0.7777777777777778, \"#fb9f3a\"], [0.8888888888888888, \"#fdca26\"], [1.0, \"#f0f921\"]], \"type\": \"histogram2d\"}], \"histogram2dcontour\": [{\"colorbar\": {\"outlinewidth\": 0, \"ticks\": \"\"}, \"colorscale\": [[0.0, \"#0d0887\"], [0.1111111111111111, \"#46039f\"], [0.2222222222222222, \"#7201a8\"], [0.3333333333333333, \"#9c179e\"], [0.4444444444444444, \"#bd3786\"], [0.5555555555555556, \"#d8576b\"], [0.6666666666666666, \"#ed7953\"], [0.7777777777777778, \"#fb9f3a\"], [0.8888888888888888, \"#fdca26\"], [1.0, \"#f0f921\"]], \"type\": \"histogram2dcontour\"}], \"mesh3d\": [{\"colorbar\": {\"outlinewidth\": 0, \"ticks\": \"\"}, \"type\": \"mesh3d\"}], \"parcoords\": [{\"line\": {\"colorbar\": {\"outlinewidth\": 0, \"ticks\": \"\"}}, \"type\": \"parcoords\"}], \"pie\": [{\"automargin\": true, \"type\": \"pie\"}], \"scatter\": [{\"marker\": {\"colorbar\": {\"outlinewidth\": 0, \"ticks\": \"\"}}, \"type\": \"scatter\"}], \"scatter3d\": [{\"line\": {\"colorbar\": {\"outlinewidth\": 0, \"ticks\": \"\"}}, \"marker\": {\"colorbar\": {\"outlinewidth\": 0, \"ticks\": \"\"}}, \"type\": \"scatter3d\"}], \"scattercarpet\": [{\"marker\": {\"colorbar\": {\"outlinewidth\": 0, \"ticks\": \"\"}}, \"type\": \"scattercarpet\"}], \"scattergeo\": [{\"marker\": {\"colorbar\": {\"outlinewidth\": 0, \"ticks\": \"\"}}, \"type\": \"scattergeo\"}], \"scattergl\": [{\"marker\": {\"colorbar\": {\"outlinewidth\": 0, \"ticks\": \"\"}}, \"type\": \"scattergl\"}], \"scattermapbox\": [{\"marker\": {\"colorbar\": {\"outlinewidth\": 0, \"ticks\": \"\"}}, \"type\": \"scattermapbox\"}], \"scatterpolar\": [{\"marker\": {\"colorbar\": {\"outlinewidth\": 0, \"ticks\": \"\"}}, \"type\": \"scatterpolar\"}], \"scatterpolargl\": [{\"marker\": {\"colorbar\": {\"outlinewidth\": 0, \"ticks\": \"\"}}, \"type\": \"scatterpolargl\"}], \"scatterternary\": [{\"marker\": {\"colorbar\": {\"outlinewidth\": 0, \"ticks\": \"\"}}, \"type\": \"scatterternary\"}], \"surface\": [{\"colorbar\": {\"outlinewidth\": 0, \"ticks\": \"\"}, \"colorscale\": [[0.0, \"#0d0887\"], [0.1111111111111111, \"#46039f\"], [0.2222222222222222, \"#7201a8\"], [0.3333333333333333, \"#9c179e\"], [0.4444444444444444, \"#bd3786\"], [0.5555555555555556, \"#d8576b\"], [0.6666666666666666, \"#ed7953\"], [0.7777777777777778, \"#fb9f3a\"], [0.8888888888888888, \"#fdca26\"], [1.0, \"#f0f921\"]], \"type\": \"surface\"}], \"table\": [{\"cells\": {\"fill\": {\"color\": \"#EBF0F8\"}, \"line\": {\"color\": \"white\"}}, \"header\": {\"fill\": {\"color\": \"#C8D4E3\"}, \"line\": {\"color\": \"white\"}}, \"type\": \"table\"}]}, \"layout\": {\"annotationdefaults\": {\"arrowcolor\": \"#2a3f5f\", \"arrowhead\": 0, \"arrowwidth\": 1}, \"autotypenumbers\": \"strict\", \"coloraxis\": {\"colorbar\": {\"outlinewidth\": 0, \"ticks\": \"\"}}, \"colorscale\": {\"diverging\": [[0, \"#8e0152\"], [0.1, \"#c51b7d\"], [0.2, \"#de77ae\"], [0.3, \"#f1b6da\"], [0.4, \"#fde0ef\"], [0.5, \"#f7f7f7\"], [0.6, \"#e6f5d0\"], [0.7, \"#b8e186\"], [0.8, \"#7fbc41\"], [0.9, \"#4d9221\"], [1, \"#276419\"]], \"sequential\": [[0.0, \"#0d0887\"], [0.1111111111111111, \"#46039f\"], [0.2222222222222222, \"#7201a8\"], [0.3333333333333333, \"#9c179e\"], [0.4444444444444444, \"#bd3786\"], [0.5555555555555556, \"#d8576b\"], [0.6666666666666666, \"#ed7953\"], [0.7777777777777778, \"#fb9f3a\"], [0.8888888888888888, \"#fdca26\"], [1.0, \"#f0f921\"]], \"sequentialminus\": [[0.0, \"#0d0887\"], [0.1111111111111111, \"#46039f\"], [0.2222222222222222, \"#7201a8\"], [0.3333333333333333, \"#9c179e\"], [0.4444444444444444, \"#bd3786\"], [0.5555555555555556, \"#d8576b\"], [0.6666666666666666, \"#ed7953\"], [0.7777777777777778, \"#fb9f3a\"], [0.8888888888888888, \"#fdca26\"], [1.0, \"#f0f921\"]]}, \"colorway\": [\"#636efa\", \"#EF553B\", \"#00cc96\", \"#ab63fa\", \"#FFA15A\", \"#19d3f3\", \"#FF6692\", \"#B6E880\", \"#FF97FF\", \"#FECB52\"], \"font\": {\"color\": \"#2a3f5f\"}, \"geo\": {\"bgcolor\": \"white\", \"lakecolor\": \"white\", \"landcolor\": \"white\", \"showlakes\": true, \"showland\": true, \"subunitcolor\": \"#C8D4E3\"}, \"hoverlabel\": {\"align\": \"left\"}, \"hovermode\": \"closest\", \"mapbox\": {\"style\": \"light\"}, \"paper_bgcolor\": \"white\", \"plot_bgcolor\": \"white\", \"polar\": {\"angularaxis\": {\"gridcolor\": \"#EBF0F8\", \"linecolor\": \"#EBF0F8\", \"ticks\": \"\"}, \"bgcolor\": \"white\", \"radialaxis\": {\"gridcolor\": \"#EBF0F8\", \"linecolor\": \"#EBF0F8\", \"ticks\": \"\"}}, \"scene\": {\"xaxis\": {\"backgroundcolor\": \"white\", \"gridcolor\": \"#DFE8F3\", \"gridwidth\": 2, \"linecolor\": \"#EBF0F8\", \"showbackground\": true, \"ticks\": \"\", \"zerolinecolor\": \"#EBF0F8\"}, \"yaxis\": {\"backgroundcolor\": \"white\", \"gridcolor\": \"#DFE8F3\", \"gridwidth\": 2, \"linecolor\": \"#EBF0F8\", \"showbackground\": true, \"ticks\": \"\", \"zerolinecolor\": \"#EBF0F8\"}, \"zaxis\": {\"backgroundcolor\": \"white\", \"gridcolor\": \"#DFE8F3\", \"gridwidth\": 2, \"linecolor\": \"#EBF0F8\", \"showbackground\": true, \"ticks\": \"\", \"zerolinecolor\": \"#EBF0F8\"}}, \"shapedefaults\": {\"line\": {\"color\": \"#2a3f5f\"}}, \"ternary\": {\"aaxis\": {\"gridcolor\": \"#DFE8F3\", \"linecolor\": \"#A2B1C6\", \"ticks\": \"\"}, \"baxis\": {\"gridcolor\": \"#DFE8F3\", \"linecolor\": \"#A2B1C6\", \"ticks\": \"\"}, \"bgcolor\": \"white\", \"caxis\": {\"gridcolor\": \"#DFE8F3\", \"linecolor\": \"#A2B1C6\", \"ticks\": \"\"}}, \"title\": {\"x\": 0.05}, \"xaxis\": {\"automargin\": true, \"gridcolor\": \"#EBF0F8\", \"linecolor\": \"#EBF0F8\", \"ticks\": \"\", \"title\": {\"standoff\": 15}, \"zerolinecolor\": \"#EBF0F8\", \"zerolinewidth\": 2}, \"yaxis\": {\"automargin\": true, \"gridcolor\": \"#EBF0F8\", \"linecolor\": \"#EBF0F8\", \"ticks\": \"\", \"title\": {\"standoff\": 15}, \"zerolinecolor\": \"#EBF0F8\", \"zerolinewidth\": 2}}}, \"title\": {\"font\": {\"color\": \"black\", \"family\": \"Myriad Pro\", \"size\": 16}, \"text\": \"OD Normalized GFP scaled to the max value\"}, \"width\": 350, \"xaxis\": {\"linecolor\": \"black\", \"linewidth\": 1, \"mirror\": true, \"showgrid\": false, \"showline\": true, \"side\": \"bottom\", \"tickangle\": 0, \"tickcolor\": \"black\", \"tickfont\": {\"color\": \"black\", \"family\": \"Myriad Pro\", \"size\": 18}, \"ticklen\": 4, \"ticks\": \"outside\", \"tickson\": \"boundaries\", \"title\": {\"font\": {\"color\": \"black\", \"family\": \"Myriad Pro\", \"size\": 18}}, \"zeroline\": false}, \"yaxis\": {\"linecolor\": \"black\", \"linewidth\": 1, \"mirror\": true, \"nticks\": 9, \"range\": [0, 1.25], \"showgrid\": true, \"showline\": true, \"side\": \"left\", \"tickangle\": 0, \"tickcolor\": \"black\", \"tickfont\": {\"color\": \"black\", \"family\": \"Myriad Pro\", \"size\": 18}, \"ticklen\": 6, \"ticks\": \"outside\", \"title\": {\"font\": {\"color\": \"black\", \"family\": \"Myriad Pro\", \"size\": 18}, \"standoff\": 0, \"text\": \"Fluorescence Normalized to Max (a.u.)\"}, \"type\": \"linear\", \"zeroline\": false}},                        {\"responsive\": true}                    ).then(function(){\n",
       "                            \n",
       "var gd = document.getElementById('7f73f1b2-9ca9-45ee-b15f-9362db48bcdb');\n",
       "var x = new MutationObserver(function (mutations, observer) {{\n",
       "        var display = window.getComputedStyle(gd).display;\n",
       "        if (!display || display === 'none') {{\n",
       "            console.log([gd, 'removed!']);\n",
       "            Plotly.purge(gd);\n",
       "            observer.disconnect();\n",
       "        }}\n",
       "}});\n",
       "\n",
       "// Listen for the removal of the full notebook cells\n",
       "var notebookContainer = gd.closest('#notebook-container');\n",
       "if (notebookContainer) {{\n",
       "    x.observe(notebookContainer, {childList: true});\n",
       "}}\n",
       "\n",
       "// Listen for the clearing of the current output cell\n",
       "var outputEl = gd.closest('.output');\n",
       "if (outputEl) {{\n",
       "    x.observe(outputEl, {childList: true});\n",
       "}}\n",
       "\n",
       "                        })                };                });            </script>        </div>"
      ]
     },
     "metadata": {},
     "output_type": "display_data"
    }
   ],
   "source": [
    "strains = ['0000']\n",
    "reps = [rep for expt in [expt_atc, expt_iptg] for rep in expt.replicate_trials if rep.trial_identifier.strain.name=='0000']\n",
    "rep_atc, rep_iptg = reps\n",
    "trace_list = []\n",
    "attr = 'od_normalized_data'\n",
    "x = ['ATC', 'IPTG']\n",
    "y = [(getattr(rep.avg.analyte_dict['GFP'], attr)[-1]) for rep in [rep_atc, rep_iptg]]\n",
    "y_scaled = [val/gfp_max for val in y]\n",
    "y_errs = [(getattr(rep.std.analyte_dict['GFP'], attr)[-1]) for rep in [rep_atc, rep_iptg]]\n",
    "y_errs_scaled = [y_scaled[i]*(np.sqrt(y_errs[i]**2/y[i]**2 + gfp_err**2/gfp_max**2)) for i in range(2)]\n",
    "trace_list.append(go.Bar(x=x,\n",
    "                     y=y_scaled, yaxis='y1',\n",
    "                     error_y=dict(type='data', array=y_errs_scaled, thickness=1.5, width=3, color='black'),\n",
    "                         marker=dict(color=colors['greens'][3], line=dict(width=0)), offsetgroup=1,\n",
    "                     showlegend=False,# yaxis='y2',\n",
    "                     legendgroup=str(strain),\n",
    "                     name=str(strain)))  \n",
    "\n",
    "y = [(getattr(rep.avg.analyte_dict['mCherry'], attr)[-1]) for rep in [rep_atc, rep_iptg]]\n",
    "y_scaled = [val/mche_max for val in y]\n",
    "y_errs = [(getattr(rep.std.analyte_dict['mCherry'], attr)[-1]) for rep in [rep_atc, rep_iptg]]\n",
    "y_errs_scaled = [y_scaled[i]*(np.sqrt(y_errs[i]**2/y[i]**2 + mche_err**2/mche_max**2)) for i in range(2)]\n",
    "\n",
    "trace_list.append(go.Bar(x=x,\n",
    "                     y=y_scaled, yaxis='y1',\n",
    "                     error_y=dict(type='data', array=y_errs_scaled, thickness=1.5, width=3, color='black'),\n",
    "                     marker=dict(color=colors['reds'][3], line=dict(width=0)),offsetgroup=2,\n",
    "                     showlegend=False,# yaxis='y2',\n",
    "                     legendgroup=str(strain),\n",
    "                     name=str(strain)))  \n",
    "fig1=go.Figure(data=trace_list)\n",
    "fig1.update_xaxes(showline=True, linewidth=1, linecolor='black', mirror=True, side='bottom',\n",
    "                  ticks='outside', ticklen=4, tickangle=0, tickson='boundaries', title_font=dict(size=18, family='Myriad Pro', color='black'),\n",
    "                  tickfont=dict(size=18, family='Myriad Pro', color='black'), tickcolor='black',\n",
    "                  showgrid=False,zeroline=False)\n",
    "fig1.update_layout(height=400, width=350, legend_orientation='h', legend_y=-0.2, \n",
    "                   title_font=dict(family='Myriad Pro',size=16, color='black'),\n",
    "                   legend_x=0.02, bargap=0.5, bargroupgap=0.2, title=title,\n",
    "                   legend_font=dict(family='Myriad Pro', size=16, color='black'))\n",
    "fig1['layout']['title']['font'] = dict(family='Myriad Pro',size=16, color='black')\n",
    "fig1['layout']['yaxis1'] = dict(title='Fluorescence Normalized to Max (a.u.)', title_standoff=0,\n",
    "                             title_font=dict(family='Myriad Pro', size=18, color='black'),\n",
    "                             showline=True, linewidth=1, linecolor='black', mirror=True, nticks=9,\n",
    "                             ticks='outside', ticklen=6, tickangle=0, type='linear', range=(0, 1.25),\n",
    "                             tickfont=dict(family='Myriad Pro',size=18, color='black'), tickcolor='black', \n",
    "                             showgrid=True,zeroline=False,side='left')\n",
    "\n",
    "\n",
    "\n",
    "plot(fig1)"
   ]
  },
  {
   "cell_type": "code",
   "execution_count": null,
   "metadata": {},
   "outputs": [],
   "source": []
  }
 ],
 "metadata": {
  "kernelspec": {
   "display_name": "Python [conda env:impact] *",
   "language": "python",
   "name": "conda-env-impact-py"
  },
  "language_info": {
   "codemirror_mode": {
    "name": "ipython",
    "version": 3
   },
   "file_extension": ".py",
   "mimetype": "text/x-python",
   "name": "python",
   "nbconvert_exporter": "python",
   "pygments_lexer": "ipython3",
   "version": "3.7.6"
  }
 },
 "nbformat": 4,
 "nbformat_minor": 2
}
